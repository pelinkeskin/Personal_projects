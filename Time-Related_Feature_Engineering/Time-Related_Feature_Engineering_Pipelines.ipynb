{
 "cells": [
  {
   "cell_type": "markdown",
   "id": "8760e667",
   "metadata": {},
   "source": [
    "# COMP47750: Assignment 2 Feature Engineering"
   ]
  },
  {
   "cell_type": "code",
   "execution_count": 2,
   "id": "86c93970",
   "metadata": {},
   "outputs": [],
   "source": [
    "import pandas as pd\n",
    "import numpy as np\n",
    "import time\n",
    "from sklearn import preprocessing\n",
    "from sklearn.model_selection import train_test_split\n",
    "from collections import OrderedDict\n",
    "from sklearn.metrics import confusion_matrix, accuracy_score, f1_score, precision_score, balanced_accuracy_score\n",
    "from sklearn import metrics\n",
    "import matplotlib.pyplot as plt\n",
    "from sklearn.metrics import classification_report\n",
    "from sklearn.neighbors import KNeighborsClassifier\n",
    "from sklearn.model_selection import cross_val_score\n",
    "from sklearn.model_selection import cross_validate\n",
    "from sklearn.metrics.pairwise import euclidean_distances\n",
    "from sklearn.neighbors import DistanceMetric\n",
    "%matplotlib inline\n",
    "from sklearn.impute import KNNImputer\n",
    "from sklearn.preprocessing import StandardScaler, Normalizer, OneHotEncoder, LabelEncoder, MinMaxScaler, OrdinalEncoder, PolynomialFeatures, FunctionTransformer\n",
    "from collections import defaultdict\n",
    "from sklearn.pipeline import Pipeline\n",
    "from sklearn.linear_model import LinearRegression, SGDRegressor\n",
    "from sklearn.ensemble import HistGradientBoostingRegressor\n",
    "from sklearn.compose import ColumnTransformer\n",
    "from sklearn.preprocessing import SplineTransformer\n",
    "from sklearn.pipeline import FeatureUnion, make_pipeline\n",
    "from mlxtend.feature_selection import SequentialFeatureSelector as SFS\n",
    "import scipy.sparse\n",
    "from sklearn.decomposition import PCA\n",
    "from sklearn.model_selection import GridSearchCV"
   ]
  },
  {
   "cell_type": "markdown",
   "id": "b6dd9d6b",
   "metadata": {
    "hide_input": false
   },
   "source": [
    "## Task 1"
   ]
  },
  {
   "cell_type": "markdown",
   "id": "955e83b7",
   "metadata": {},
   "source": [
    "### Load the dataset into a dataframe that can be used for predicting  traffic_volume a day in advance."
   ]
  },
  {
   "cell_type": "code",
   "execution_count": 3,
   "id": "ee978901",
   "metadata": {},
   "outputs": [],
   "source": [
    "df=pd.read_csv('Metro_Interstate_Traffic_Volume.csv')"
   ]
  },
  {
   "cell_type": "code",
   "execution_count": 4,
   "id": "5eedcdf6",
   "metadata": {
    "scrolled": true
   },
   "outputs": [
    {
     "data": {
      "text/html": [
       "<div>\n",
       "<style scoped>\n",
       "    .dataframe tbody tr th:only-of-type {\n",
       "        vertical-align: middle;\n",
       "    }\n",
       "\n",
       "    .dataframe tbody tr th {\n",
       "        vertical-align: top;\n",
       "    }\n",
       "\n",
       "    .dataframe thead th {\n",
       "        text-align: right;\n",
       "    }\n",
       "</style>\n",
       "<table border=\"1\" class=\"dataframe\">\n",
       "  <thead>\n",
       "    <tr style=\"text-align: right;\">\n",
       "      <th></th>\n",
       "      <th>holiday</th>\n",
       "      <th>temp</th>\n",
       "      <th>rain_1h</th>\n",
       "      <th>snow_1h</th>\n",
       "      <th>clouds_all</th>\n",
       "      <th>weather_main</th>\n",
       "      <th>weather_description</th>\n",
       "      <th>date_time</th>\n",
       "      <th>traffic_volume</th>\n",
       "    </tr>\n",
       "  </thead>\n",
       "  <tbody>\n",
       "    <tr>\n",
       "      <th>0</th>\n",
       "      <td>None</td>\n",
       "      <td>288.28</td>\n",
       "      <td>0.0</td>\n",
       "      <td>0.0</td>\n",
       "      <td>40</td>\n",
       "      <td>Clouds</td>\n",
       "      <td>scattered clouds</td>\n",
       "      <td>02/10/2012 09:00</td>\n",
       "      <td>5545</td>\n",
       "    </tr>\n",
       "    <tr>\n",
       "      <th>1</th>\n",
       "      <td>None</td>\n",
       "      <td>289.36</td>\n",
       "      <td>0.0</td>\n",
       "      <td>0.0</td>\n",
       "      <td>75</td>\n",
       "      <td>Clouds</td>\n",
       "      <td>broken clouds</td>\n",
       "      <td>02/10/2012 10:00</td>\n",
       "      <td>4516</td>\n",
       "    </tr>\n",
       "  </tbody>\n",
       "</table>\n",
       "</div>"
      ],
      "text/plain": [
       "  holiday    temp  rain_1h  snow_1h  clouds_all weather_main  \\\n",
       "0    None  288.28      0.0      0.0          40       Clouds   \n",
       "1    None  289.36      0.0      0.0          75       Clouds   \n",
       "\n",
       "  weather_description         date_time  traffic_volume  \n",
       "0    scattered clouds  02/10/2012 09:00            5545  \n",
       "1       broken clouds  02/10/2012 10:00            4516  "
      ]
     },
     "execution_count": 4,
     "metadata": {},
     "output_type": "execute_result"
    }
   ],
   "source": [
    "df.head(2)"
   ]
  },
  {
   "cell_type": "code",
   "execution_count": 5,
   "id": "d933badb",
   "metadata": {},
   "outputs": [
    {
     "name": "stdout",
     "output_type": "stream",
     "text": [
      "<class 'pandas.core.frame.DataFrame'>\n",
      "RangeIndex: 48204 entries, 0 to 48203\n",
      "Data columns (total 9 columns):\n",
      " #   Column               Non-Null Count  Dtype  \n",
      "---  ------               --------------  -----  \n",
      " 0   holiday              48204 non-null  object \n",
      " 1   temp                 48204 non-null  float64\n",
      " 2   rain_1h              48204 non-null  float64\n",
      " 3   snow_1h              48204 non-null  float64\n",
      " 4   clouds_all           48204 non-null  int64  \n",
      " 5   weather_main         48204 non-null  object \n",
      " 6   weather_description  48204 non-null  object \n",
      " 7   date_time            48204 non-null  object \n",
      " 8   traffic_volume       48204 non-null  int64  \n",
      "dtypes: float64(3), int64(2), object(4)\n",
      "memory usage: 3.3+ MB\n"
     ]
    }
   ],
   "source": [
    "df.info()"
   ]
  },
  {
   "cell_type": "code",
   "execution_count": 6,
   "id": "a1fef963",
   "metadata": {},
   "outputs": [],
   "source": [
    "df['date_time']=pd.to_datetime(df['date_time'])"
   ]
  },
  {
   "cell_type": "code",
   "execution_count": 7,
   "id": "f5970c0d",
   "metadata": {},
   "outputs": [
    {
     "data": {
      "text/html": [
       "<div>\n",
       "<style scoped>\n",
       "    .dataframe tbody tr th:only-of-type {\n",
       "        vertical-align: middle;\n",
       "    }\n",
       "\n",
       "    .dataframe tbody tr th {\n",
       "        vertical-align: top;\n",
       "    }\n",
       "\n",
       "    .dataframe thead th {\n",
       "        text-align: right;\n",
       "    }\n",
       "</style>\n",
       "<table border=\"1\" class=\"dataframe\">\n",
       "  <thead>\n",
       "    <tr style=\"text-align: right;\">\n",
       "      <th></th>\n",
       "      <th>holiday</th>\n",
       "      <th>temp</th>\n",
       "      <th>rain_1h</th>\n",
       "      <th>snow_1h</th>\n",
       "      <th>clouds_all</th>\n",
       "      <th>weather_main</th>\n",
       "      <th>weather_description</th>\n",
       "      <th>date_time</th>\n",
       "      <th>traffic_volume</th>\n",
       "    </tr>\n",
       "  </thead>\n",
       "  <tbody>\n",
       "    <tr>\n",
       "      <th>0</th>\n",
       "      <td>None</td>\n",
       "      <td>288.28</td>\n",
       "      <td>0.0</td>\n",
       "      <td>0.0</td>\n",
       "      <td>40</td>\n",
       "      <td>Clouds</td>\n",
       "      <td>scattered clouds</td>\n",
       "      <td>2012-02-10 09:00:00</td>\n",
       "      <td>5545</td>\n",
       "    </tr>\n",
       "    <tr>\n",
       "      <th>1</th>\n",
       "      <td>None</td>\n",
       "      <td>289.36</td>\n",
       "      <td>0.0</td>\n",
       "      <td>0.0</td>\n",
       "      <td>75</td>\n",
       "      <td>Clouds</td>\n",
       "      <td>broken clouds</td>\n",
       "      <td>2012-02-10 10:00:00</td>\n",
       "      <td>4516</td>\n",
       "    </tr>\n",
       "  </tbody>\n",
       "</table>\n",
       "</div>"
      ],
      "text/plain": [
       "  holiday    temp  rain_1h  snow_1h  clouds_all weather_main  \\\n",
       "0    None  288.28      0.0      0.0          40       Clouds   \n",
       "1    None  289.36      0.0      0.0          75       Clouds   \n",
       "\n",
       "  weather_description           date_time  traffic_volume  \n",
       "0    scattered clouds 2012-02-10 09:00:00            5545  \n",
       "1       broken clouds 2012-02-10 10:00:00            4516  "
      ]
     },
     "execution_count": 7,
     "metadata": {},
     "output_type": "execute_result"
    }
   ],
   "source": [
    "df.head(2)"
   ]
  },
  {
   "cell_type": "code",
   "execution_count": 8,
   "id": "720ed5ad",
   "metadata": {},
   "outputs": [],
   "source": [
    "df['year']=df['date_time'].dt.year\n",
    "df['month']=df['date_time'].dt.month\n",
    "df['hour']=df['date_time'].dt.hour\n",
    "df['weekday']=df['date_time'].dt.dayofweek\n",
    "df['quarter']=df['date_time'].dt.quarter"
   ]
  },
  {
   "cell_type": "code",
   "execution_count": 9,
   "id": "4726f50f",
   "metadata": {
    "scrolled": true
   },
   "outputs": [
    {
     "data": {
      "text/html": [
       "<div>\n",
       "<style scoped>\n",
       "    .dataframe tbody tr th:only-of-type {\n",
       "        vertical-align: middle;\n",
       "    }\n",
       "\n",
       "    .dataframe tbody tr th {\n",
       "        vertical-align: top;\n",
       "    }\n",
       "\n",
       "    .dataframe thead th {\n",
       "        text-align: right;\n",
       "    }\n",
       "</style>\n",
       "<table border=\"1\" class=\"dataframe\">\n",
       "  <thead>\n",
       "    <tr style=\"text-align: right;\">\n",
       "      <th></th>\n",
       "      <th>holiday</th>\n",
       "      <th>temp</th>\n",
       "      <th>rain_1h</th>\n",
       "      <th>snow_1h</th>\n",
       "      <th>clouds_all</th>\n",
       "      <th>weather_main</th>\n",
       "      <th>weather_description</th>\n",
       "      <th>date_time</th>\n",
       "      <th>traffic_volume</th>\n",
       "      <th>year</th>\n",
       "      <th>month</th>\n",
       "      <th>hour</th>\n",
       "      <th>weekday</th>\n",
       "      <th>quarter</th>\n",
       "    </tr>\n",
       "  </thead>\n",
       "  <tbody>\n",
       "    <tr>\n",
       "      <th>0</th>\n",
       "      <td>None</td>\n",
       "      <td>288.28</td>\n",
       "      <td>0.0</td>\n",
       "      <td>0.0</td>\n",
       "      <td>40</td>\n",
       "      <td>Clouds</td>\n",
       "      <td>scattered clouds</td>\n",
       "      <td>2012-02-10 09:00:00</td>\n",
       "      <td>5545</td>\n",
       "      <td>2012</td>\n",
       "      <td>2</td>\n",
       "      <td>9</td>\n",
       "      <td>4</td>\n",
       "      <td>1</td>\n",
       "    </tr>\n",
       "    <tr>\n",
       "      <th>1</th>\n",
       "      <td>None</td>\n",
       "      <td>289.36</td>\n",
       "      <td>0.0</td>\n",
       "      <td>0.0</td>\n",
       "      <td>75</td>\n",
       "      <td>Clouds</td>\n",
       "      <td>broken clouds</td>\n",
       "      <td>2012-02-10 10:00:00</td>\n",
       "      <td>4516</td>\n",
       "      <td>2012</td>\n",
       "      <td>2</td>\n",
       "      <td>10</td>\n",
       "      <td>4</td>\n",
       "      <td>1</td>\n",
       "    </tr>\n",
       "  </tbody>\n",
       "</table>\n",
       "</div>"
      ],
      "text/plain": [
       "  holiday    temp  rain_1h  snow_1h  clouds_all weather_main  \\\n",
       "0    None  288.28      0.0      0.0          40       Clouds   \n",
       "1    None  289.36      0.0      0.0          75       Clouds   \n",
       "\n",
       "  weather_description           date_time  traffic_volume  year  month  hour  \\\n",
       "0    scattered clouds 2012-02-10 09:00:00            5545  2012      2     9   \n",
       "1       broken clouds 2012-02-10 10:00:00            4516  2012      2    10   \n",
       "\n",
       "   weekday  quarter  \n",
       "0        4        1  \n",
       "1        4        1  "
      ]
     },
     "execution_count": 9,
     "metadata": {},
     "output_type": "execute_result"
    }
   ],
   "source": [
    "df.head(2)"
   ]
  },
  {
   "cell_type": "code",
   "execution_count": 10,
   "id": "abac2d67",
   "metadata": {
    "scrolled": true
   },
   "outputs": [
    {
     "data": {
      "text/plain": [
       "None                         48143\n",
       "Labor Day                        7\n",
       "Thanksgiving Day                 6\n",
       "Christmas Day                    6\n",
       "New Years Day                    6\n",
       "Martin Luther King Jr Day        6\n",
       "Columbus Day                     5\n",
       "Veterans Day                     5\n",
       "Washingtons Birthday             5\n",
       "Memorial Day                     5\n",
       "Independence Day                 5\n",
       "State Fair                       5\n",
       "Name: holiday, dtype: int64"
      ]
     },
     "execution_count": 10,
     "metadata": {},
     "output_type": "execute_result"
    }
   ],
   "source": [
    "df['holiday'].value_counts()"
   ]
  },
  {
   "cell_type": "code",
   "execution_count": 11,
   "id": "18160c9a",
   "metadata": {},
   "outputs": [],
   "source": [
    "#encoding holiday to binary\n",
    "def encode_units(x):\n",
    "    if x=='None':\n",
    "        return 0\n",
    "    else:\n",
    "        return 1\n",
    "df['holiday']=df['holiday'].apply(encode_units)"
   ]
  },
  {
   "cell_type": "code",
   "execution_count": 12,
   "id": "9ad7b380",
   "metadata": {
    "scrolled": true
   },
   "outputs": [
    {
     "data": {
      "text/plain": [
       "0    48143\n",
       "1       61\n",
       "Name: holiday, dtype: int64"
      ]
     },
     "execution_count": 12,
     "metadata": {},
     "output_type": "execute_result"
    }
   ],
   "source": [
    "df['holiday'].value_counts()"
   ]
  },
  {
   "cell_type": "code",
   "execution_count": 13,
   "id": "238a7420",
   "metadata": {
    "scrolled": false
   },
   "outputs": [
    {
     "name": "stdout",
     "output_type": "stream",
     "text": [
      "<class 'pandas.core.frame.DataFrame'>\n",
      "RangeIndex: 48204 entries, 0 to 48203\n",
      "Data columns (total 14 columns):\n",
      " #   Column               Non-Null Count  Dtype         \n",
      "---  ------               --------------  -----         \n",
      " 0   holiday              48204 non-null  int64         \n",
      " 1   temp                 48204 non-null  float64       \n",
      " 2   rain_1h              48204 non-null  float64       \n",
      " 3   snow_1h              48204 non-null  float64       \n",
      " 4   clouds_all           48204 non-null  int64         \n",
      " 5   weather_main         48204 non-null  object        \n",
      " 6   weather_description  48204 non-null  object        \n",
      " 7   date_time            48204 non-null  datetime64[ns]\n",
      " 8   traffic_volume       48204 non-null  int64         \n",
      " 9   year                 48204 non-null  int64         \n",
      " 10  month                48204 non-null  int64         \n",
      " 11  hour                 48204 non-null  int64         \n",
      " 12  weekday              48204 non-null  int64         \n",
      " 13  quarter              48204 non-null  int64         \n",
      "dtypes: datetime64[ns](1), float64(3), int64(8), object(2)\n",
      "memory usage: 5.1+ MB\n"
     ]
    }
   ],
   "source": [
    "df.info()"
   ]
  },
  {
   "cell_type": "code",
   "execution_count": 14,
   "id": "32fbada5",
   "metadata": {},
   "outputs": [],
   "source": [
    "# using 'holiday' and 'weekday'creating new feature called 'workingday' and encoding binary\n",
    "def encode_units2(df):\n",
    "    if df['holiday'] == 1 or df['weekday'] == 5 or df['weekday'] == 6:\n",
    "        return 0\n",
    "    else:\n",
    "        return 1\n",
    "\n",
    "\n",
    "df['workingday'] = df.apply(lambda df: encode_units2(df), axis=1)"
   ]
  },
  {
   "cell_type": "code",
   "execution_count": 15,
   "id": "c9322ffc",
   "metadata": {},
   "outputs": [
    {
     "data": {
      "text/plain": [
       "1    34413\n",
       "0    13791\n",
       "Name: workingday, dtype: int64"
      ]
     },
     "execution_count": 15,
     "metadata": {},
     "output_type": "execute_result"
    }
   ],
   "source": [
    "df['workingday'].value_counts()"
   ]
  },
  {
   "cell_type": "code",
   "execution_count": 16,
   "id": "cc23ccc3",
   "metadata": {
    "scrolled": true
   },
   "outputs": [
    {
     "data": {
      "text/html": [
       "<div>\n",
       "<style scoped>\n",
       "    .dataframe tbody tr th:only-of-type {\n",
       "        vertical-align: middle;\n",
       "    }\n",
       "\n",
       "    .dataframe tbody tr th {\n",
       "        vertical-align: top;\n",
       "    }\n",
       "\n",
       "    .dataframe thead th {\n",
       "        text-align: right;\n",
       "    }\n",
       "</style>\n",
       "<table border=\"1\" class=\"dataframe\">\n",
       "  <thead>\n",
       "    <tr style=\"text-align: right;\">\n",
       "      <th></th>\n",
       "      <th>holiday</th>\n",
       "      <th>temp</th>\n",
       "      <th>rain_1h</th>\n",
       "      <th>snow_1h</th>\n",
       "      <th>clouds_all</th>\n",
       "      <th>weather_main</th>\n",
       "      <th>weather_description</th>\n",
       "      <th>date_time</th>\n",
       "      <th>traffic_volume</th>\n",
       "      <th>year</th>\n",
       "      <th>month</th>\n",
       "      <th>hour</th>\n",
       "      <th>weekday</th>\n",
       "      <th>quarter</th>\n",
       "      <th>workingday</th>\n",
       "    </tr>\n",
       "  </thead>\n",
       "  <tbody>\n",
       "    <tr>\n",
       "      <th>0</th>\n",
       "      <td>0</td>\n",
       "      <td>288.28</td>\n",
       "      <td>0.0</td>\n",
       "      <td>0.0</td>\n",
       "      <td>40</td>\n",
       "      <td>Clouds</td>\n",
       "      <td>scattered clouds</td>\n",
       "      <td>2012-02-10 09:00:00</td>\n",
       "      <td>5545</td>\n",
       "      <td>2012</td>\n",
       "      <td>2</td>\n",
       "      <td>9</td>\n",
       "      <td>4</td>\n",
       "      <td>1</td>\n",
       "      <td>1</td>\n",
       "    </tr>\n",
       "    <tr>\n",
       "      <th>1</th>\n",
       "      <td>0</td>\n",
       "      <td>289.36</td>\n",
       "      <td>0.0</td>\n",
       "      <td>0.0</td>\n",
       "      <td>75</td>\n",
       "      <td>Clouds</td>\n",
       "      <td>broken clouds</td>\n",
       "      <td>2012-02-10 10:00:00</td>\n",
       "      <td>4516</td>\n",
       "      <td>2012</td>\n",
       "      <td>2</td>\n",
       "      <td>10</td>\n",
       "      <td>4</td>\n",
       "      <td>1</td>\n",
       "      <td>1</td>\n",
       "    </tr>\n",
       "  </tbody>\n",
       "</table>\n",
       "</div>"
      ],
      "text/plain": [
       "   holiday    temp  rain_1h  snow_1h  clouds_all weather_main  \\\n",
       "0        0  288.28      0.0      0.0          40       Clouds   \n",
       "1        0  289.36      0.0      0.0          75       Clouds   \n",
       "\n",
       "  weather_description           date_time  traffic_volume  year  month  hour  \\\n",
       "0    scattered clouds 2012-02-10 09:00:00            5545  2012      2     9   \n",
       "1       broken clouds 2012-02-10 10:00:00            4516  2012      2    10   \n",
       "\n",
       "   weekday  quarter  workingday  \n",
       "0        4        1           1  \n",
       "1        4        1           1  "
      ]
     },
     "execution_count": 16,
     "metadata": {},
     "output_type": "execute_result"
    }
   ],
   "source": [
    "df.head(2)"
   ]
  },
  {
   "cell_type": "code",
   "execution_count": 17,
   "id": "ff8466c4",
   "metadata": {},
   "outputs": [
    {
     "data": {
      "text/html": [
       "<div>\n",
       "<style scoped>\n",
       "    .dataframe tbody tr th:only-of-type {\n",
       "        vertical-align: middle;\n",
       "    }\n",
       "\n",
       "    .dataframe tbody tr th {\n",
       "        vertical-align: top;\n",
       "    }\n",
       "\n",
       "    .dataframe thead th {\n",
       "        text-align: right;\n",
       "    }\n",
       "</style>\n",
       "<table border=\"1\" class=\"dataframe\">\n",
       "  <thead>\n",
       "    <tr style=\"text-align: right;\">\n",
       "      <th></th>\n",
       "      <th>holiday</th>\n",
       "      <th>temp</th>\n",
       "      <th>rain_1h</th>\n",
       "      <th>snow_1h</th>\n",
       "      <th>clouds_all</th>\n",
       "      <th>traffic_volume</th>\n",
       "      <th>year</th>\n",
       "      <th>month</th>\n",
       "      <th>hour</th>\n",
       "      <th>weekday</th>\n",
       "      <th>quarter</th>\n",
       "      <th>workingday</th>\n",
       "    </tr>\n",
       "  </thead>\n",
       "  <tbody>\n",
       "    <tr>\n",
       "      <th>count</th>\n",
       "      <td>48204.000000</td>\n",
       "      <td>48204.000000</td>\n",
       "      <td>48204.000000</td>\n",
       "      <td>48204.000000</td>\n",
       "      <td>48204.000000</td>\n",
       "      <td>48204.000000</td>\n",
       "      <td>48204.000000</td>\n",
       "      <td>48204.000000</td>\n",
       "      <td>48204.000000</td>\n",
       "      <td>48204.000000</td>\n",
       "      <td>48204.000000</td>\n",
       "      <td>48204.000000</td>\n",
       "    </tr>\n",
       "    <tr>\n",
       "      <th>mean</th>\n",
       "      <td>0.001265</td>\n",
       "      <td>281.205870</td>\n",
       "      <td>0.334264</td>\n",
       "      <td>0.000222</td>\n",
       "      <td>49.362231</td>\n",
       "      <td>3259.818355</td>\n",
       "      <td>2015.512426</td>\n",
       "      <td>6.537715</td>\n",
       "      <td>11.398162</td>\n",
       "      <td>3.001141</td>\n",
       "      <td>2.515766</td>\n",
       "      <td>0.713903</td>\n",
       "    </tr>\n",
       "    <tr>\n",
       "      <th>std</th>\n",
       "      <td>0.035551</td>\n",
       "      <td>13.338232</td>\n",
       "      <td>44.789133</td>\n",
       "      <td>0.008168</td>\n",
       "      <td>39.015750</td>\n",
       "      <td>1986.860670</td>\n",
       "      <td>1.893211</td>\n",
       "      <td>3.413871</td>\n",
       "      <td>6.940238</td>\n",
       "      <td>1.998085</td>\n",
       "      <td>1.101634</td>\n",
       "      <td>0.451940</td>\n",
       "    </tr>\n",
       "    <tr>\n",
       "      <th>min</th>\n",
       "      <td>0.000000</td>\n",
       "      <td>0.000000</td>\n",
       "      <td>0.000000</td>\n",
       "      <td>0.000000</td>\n",
       "      <td>0.000000</td>\n",
       "      <td>0.000000</td>\n",
       "      <td>2012.000000</td>\n",
       "      <td>1.000000</td>\n",
       "      <td>0.000000</td>\n",
       "      <td>0.000000</td>\n",
       "      <td>1.000000</td>\n",
       "      <td>0.000000</td>\n",
       "    </tr>\n",
       "    <tr>\n",
       "      <th>25%</th>\n",
       "      <td>0.000000</td>\n",
       "      <td>272.160000</td>\n",
       "      <td>0.000000</td>\n",
       "      <td>0.000000</td>\n",
       "      <td>1.000000</td>\n",
       "      <td>1193.000000</td>\n",
       "      <td>2014.000000</td>\n",
       "      <td>4.000000</td>\n",
       "      <td>5.000000</td>\n",
       "      <td>1.000000</td>\n",
       "      <td>2.000000</td>\n",
       "      <td>0.000000</td>\n",
       "    </tr>\n",
       "    <tr>\n",
       "      <th>50%</th>\n",
       "      <td>0.000000</td>\n",
       "      <td>282.450000</td>\n",
       "      <td>0.000000</td>\n",
       "      <td>0.000000</td>\n",
       "      <td>64.000000</td>\n",
       "      <td>3380.000000</td>\n",
       "      <td>2016.000000</td>\n",
       "      <td>7.000000</td>\n",
       "      <td>11.000000</td>\n",
       "      <td>3.000000</td>\n",
       "      <td>3.000000</td>\n",
       "      <td>1.000000</td>\n",
       "    </tr>\n",
       "    <tr>\n",
       "      <th>75%</th>\n",
       "      <td>0.000000</td>\n",
       "      <td>291.806000</td>\n",
       "      <td>0.000000</td>\n",
       "      <td>0.000000</td>\n",
       "      <td>90.000000</td>\n",
       "      <td>4933.000000</td>\n",
       "      <td>2017.000000</td>\n",
       "      <td>9.000000</td>\n",
       "      <td>17.000000</td>\n",
       "      <td>5.000000</td>\n",
       "      <td>3.000000</td>\n",
       "      <td>1.000000</td>\n",
       "    </tr>\n",
       "    <tr>\n",
       "      <th>max</th>\n",
       "      <td>1.000000</td>\n",
       "      <td>310.070000</td>\n",
       "      <td>9831.300000</td>\n",
       "      <td>0.510000</td>\n",
       "      <td>100.000000</td>\n",
       "      <td>7280.000000</td>\n",
       "      <td>2018.000000</td>\n",
       "      <td>12.000000</td>\n",
       "      <td>23.000000</td>\n",
       "      <td>6.000000</td>\n",
       "      <td>4.000000</td>\n",
       "      <td>1.000000</td>\n",
       "    </tr>\n",
       "  </tbody>\n",
       "</table>\n",
       "</div>"
      ],
      "text/plain": [
       "            holiday          temp       rain_1h       snow_1h    clouds_all  \\\n",
       "count  48204.000000  48204.000000  48204.000000  48204.000000  48204.000000   \n",
       "mean       0.001265    281.205870      0.334264      0.000222     49.362231   \n",
       "std        0.035551     13.338232     44.789133      0.008168     39.015750   \n",
       "min        0.000000      0.000000      0.000000      0.000000      0.000000   \n",
       "25%        0.000000    272.160000      0.000000      0.000000      1.000000   \n",
       "50%        0.000000    282.450000      0.000000      0.000000     64.000000   \n",
       "75%        0.000000    291.806000      0.000000      0.000000     90.000000   \n",
       "max        1.000000    310.070000   9831.300000      0.510000    100.000000   \n",
       "\n",
       "       traffic_volume          year         month          hour       weekday  \\\n",
       "count    48204.000000  48204.000000  48204.000000  48204.000000  48204.000000   \n",
       "mean      3259.818355   2015.512426      6.537715     11.398162      3.001141   \n",
       "std       1986.860670      1.893211      3.413871      6.940238      1.998085   \n",
       "min          0.000000   2012.000000      1.000000      0.000000      0.000000   \n",
       "25%       1193.000000   2014.000000      4.000000      5.000000      1.000000   \n",
       "50%       3380.000000   2016.000000      7.000000     11.000000      3.000000   \n",
       "75%       4933.000000   2017.000000      9.000000     17.000000      5.000000   \n",
       "max       7280.000000   2018.000000     12.000000     23.000000      6.000000   \n",
       "\n",
       "            quarter    workingday  \n",
       "count  48204.000000  48204.000000  \n",
       "mean       2.515766      0.713903  \n",
       "std        1.101634      0.451940  \n",
       "min        1.000000      0.000000  \n",
       "25%        2.000000      0.000000  \n",
       "50%        3.000000      1.000000  \n",
       "75%        3.000000      1.000000  \n",
       "max        4.000000      1.000000  "
      ]
     },
     "execution_count": 17,
     "metadata": {},
     "output_type": "execute_result"
    }
   ],
   "source": [
    "df.describe()"
   ]
  },
  {
   "cell_type": "markdown",
   "id": "3d06c2cd",
   "metadata": {},
   "source": [
    "### Produce some plots at different time-scales to see if there is periodicity in the traffic volume. "
   ]
  },
  {
   "cell_type": "code",
   "execution_count": 18,
   "id": "f13275a5",
   "metadata": {
    "scrolled": true
   },
   "outputs": [
    {
     "data": {
      "image/png": "[encoded data removed]",
      "text/plain": [
       "<Figure size 1100x300 with 1 Axes>"
      ]
     },
     "metadata": {},
     "output_type": "display_data"
    }
   ],
   "source": [
    "fig, ax = plt.subplots(figsize=(11, 3))\n",
    "average_traffic_volume = df.groupby([\"quarter\",\n",
    "                                     \"hour\"]).mean()[\"traffic_volume\"]\n",
    "average_traffic_volume.plot(ax=ax)\n",
    "_ = ax.set(\n",
    "    title=\"Average hourly traffic volume during each quarter\",\n",
    "    xticks=[i * 24 for i in range(4)],\n",
    "    xticklabels=[\"1\", \"2\", \"3\", \"4\"],\n",
    "    xlabel=\"Variance per Hour during each quarter\",\n",
    "    ylabel=\"Traffic volume\",\n",
    ")"
   ]
  },
  {
   "cell_type": "markdown",
   "id": "2e807875",
   "metadata": {},
   "source": [
    "Quarterly variance of traffic volume in 24 hour is negligable. Periodicity of traffic volume in 24 hour almost the same every quarter. This feature won't be included in model "
   ]
  },
  {
   "cell_type": "code",
   "execution_count": 19,
   "id": "d478d6a0",
   "metadata": {},
   "outputs": [
    {
     "data": {
      "image/png": "[encoded data removed]",
      "text/plain": [
       "<Figure size 1100x300 with 1 Axes>"
      ]
     },
     "metadata": {},
     "output_type": "display_data"
    }
   ],
   "source": [
    "fig, ax = plt.subplots(figsize=(11, 3))\n",
    "average_traffic_volume = df.groupby([\"year\", \"hour\"]).mean()[\"traffic_volume\"]\n",
    "average_traffic_volume.plot(ax=ax)\n",
    "_ = ax.set(\n",
    "    title=\"Average hourly traffic volume during each year\",\n",
    "    xticks=[i * 24 for i in range(7)],\n",
    "    xticklabels=[\"2012\", \"2013\", \"2014\", \"2015\", \"2016\", \"2017\", \"2018\"],\n",
    "    xlabel=\"Variance per Hour during each year\",\n",
    "    ylabel=\"Traffic volume\",\n",
    ")"
   ]
  },
  {
   "cell_type": "markdown",
   "id": "44708338",
   "metadata": {},
   "source": [
    "Yearly variance of traffic volume in 24 hour is negligable. Periodicity of traffic volume in 24 hour almost the same every year. This feature won't be included in model  "
   ]
  },
  {
   "cell_type": "code",
   "execution_count": 20,
   "id": "8ef9efe5",
   "metadata": {
    "scrolled": true
   },
   "outputs": [
    {
     "data": {
      "image/png": "[encoded data removed]",
      "text/plain": [
       "<Figure size 1100x300 with 1 Axes>"
      ]
     },
     "metadata": {},
     "output_type": "display_data"
    }
   ],
   "source": [
    "fig, ax = plt.subplots(figsize=(11, 3))\n",
    "average_traffic_volume = df.groupby([\"month\", \"hour\"]).mean()[\"traffic_volume\"]\n",
    "average_traffic_volume.plot(ax=ax)\n",
    "_ = ax.set(\n",
    "    title=\"Average hourly traffic volume during each month\",\n",
    "    xticks=[i * 24 for i in range(12)],\n",
    "    xticklabels=[\n",
    "        \"1\", \"2\", \"3\", \"4\", \"5\", \"6\", \"7\", \"8\", \"9\", \"10\", \"11\", \"12\"\n",
    "    ],\n",
    "    xlabel=\"Variance per Hour during each month\",\n",
    "    ylabel=\"Traffic volume\",\n",
    ")"
   ]
  },
  {
   "cell_type": "markdown",
   "id": "1061605e",
   "metadata": {},
   "source": [
    "Monthly variance of traffic volume in 24 hour is shows slight decrese in traffic volume during December.Periodicity of traffic volume in 24 hour almost the same every month with slight variations this feature will be included in model. "
   ]
  },
  {
   "cell_type": "code",
   "execution_count": 21,
   "id": "c449934d",
   "metadata": {
    "scrolled": true
   },
   "outputs": [
    {
     "data": {
      "image/png": "[encoded data removed]",
      "text/plain": [
       "<Figure size 1100x300 with 1 Axes>"
      ]
     },
     "metadata": {},
     "output_type": "display_data"
    }
   ],
   "source": [
    "fig, ax = plt.subplots(figsize=(11, 3))\n",
    "average_traffic_volume = df.groupby([\"weekday\",\n",
    "                                     \"hour\"]).mean()[\"traffic_volume\"]\n",
    "average_traffic_volume.plot(ax=ax)\n",
    "_ = ax.set(\n",
    "    title=\"Average hourly traffic volume during the week\",\n",
    "    xticks=[i * 24 for i in range(7)],\n",
    "    xticklabels=[\"Sun\", \"Mon\", \"Tue\", \"Wed\", \"Thu\", \"Fri\", \"Sat\"],\n",
    "    xlabel=\"Variance per Hour during each weekday\",\n",
    "    ylabel=\"Traffic volume\",\n",
    ")"
   ]
  },
  {
   "cell_type": "markdown",
   "id": "430adc2c",
   "metadata": {},
   "source": [
    "Daily variance of traffic volume in 24 hour shows decreese in traffic volume during the weekend.Periodicity can be clearly observed such that; traffic volume in 24 hour shows increase during mid day and decrease during night with minimum volume close to midnight everyday with similar pattern. This feature will be included in model"
   ]
  },
  {
   "cell_type": "markdown",
   "id": "a1dbc61a",
   "metadata": {},
   "source": [
    "The target of the prediction problem is traffic volume on a hourly basis."
   ]
  },
  {
   "cell_type": "code",
   "execution_count": 22,
   "id": "b5ab988a",
   "metadata": {
    "scrolled": true
   },
   "outputs": [
    {
     "data": {
      "image/png": "[encoded data removed]",
      "text/plain": [
       "<Figure size 1100x300 with 1 Axes>"
      ]
     },
     "metadata": {},
     "output_type": "display_data"
    }
   ],
   "source": [
    "fig, ax = plt.subplots(figsize=(11, 3))\n",
    "df[\"traffic_volume\"].hist(bins=30, ax=ax)\n",
    "_ = ax.set(\n",
    "    xlabel=\"traffic volume\",\n",
    "    ylabel=\"Number of hours\",\n",
    ")"
   ]
  },
  {
   "cell_type": "markdown",
   "id": "3cebd7f6",
   "metadata": {},
   "source": [
    "According to above histogram, traffic volume occurring in between 250-500 is quite frequent in this dataset. Therefore MAE shouldn't be above 500 even though max traffic volume is 7280 with 1986 std. "
   ]
  },
  {
   "cell_type": "markdown",
   "id": "14e502eb",
   "metadata": {},
   "source": [
    "## Task 2"
   ]
  },
  {
   "cell_type": "markdown",
   "id": "f811a54a",
   "metadata": {},
   "source": [
    "### Extract hour, day and month features from the time-stamps. & Divide the data into train and test sets keeping one third of the data for testing. "
   ]
  },
  {
   "cell_type": "markdown",
   "id": "293d4b9f",
   "metadata": {},
   "source": [
    "* hour, day and month features are already extracted from the time-stamps at task 1.1. \n",
    "* I will check weather category features and evaluate feasibility, remove outlier classifiers based on frequency\n",
    "* because encoding at this section is referred as \"linear numeric encoding of the hour, day and month features\" for this step I will ordinal encode category features."
   ]
  },
  {
   "cell_type": "code",
   "execution_count": 23,
   "id": "21cab0a6",
   "metadata": {
    "scrolled": false
   },
   "outputs": [
    {
     "data": {
      "text/html": [
       "<div>\n",
       "<style scoped>\n",
       "    .dataframe tbody tr th:only-of-type {\n",
       "        vertical-align: middle;\n",
       "    }\n",
       "\n",
       "    .dataframe tbody tr th {\n",
       "        vertical-align: top;\n",
       "    }\n",
       "\n",
       "    .dataframe thead th {\n",
       "        text-align: right;\n",
       "    }\n",
       "</style>\n",
       "<table border=\"1\" class=\"dataframe\">\n",
       "  <thead>\n",
       "    <tr style=\"text-align: right;\">\n",
       "      <th></th>\n",
       "      <th>holiday</th>\n",
       "      <th>temp</th>\n",
       "      <th>rain_1h</th>\n",
       "      <th>snow_1h</th>\n",
       "      <th>clouds_all</th>\n",
       "      <th>weather_main</th>\n",
       "      <th>weather_description</th>\n",
       "      <th>date_time</th>\n",
       "      <th>traffic_volume</th>\n",
       "      <th>year</th>\n",
       "      <th>month</th>\n",
       "      <th>hour</th>\n",
       "      <th>weekday</th>\n",
       "      <th>quarter</th>\n",
       "      <th>workingday</th>\n",
       "    </tr>\n",
       "  </thead>\n",
       "  <tbody>\n",
       "    <tr>\n",
       "      <th>0</th>\n",
       "      <td>0</td>\n",
       "      <td>288.28</td>\n",
       "      <td>0.0</td>\n",
       "      <td>0.0</td>\n",
       "      <td>40</td>\n",
       "      <td>Clouds</td>\n",
       "      <td>scattered clouds</td>\n",
       "      <td>2012-02-10 09:00:00</td>\n",
       "      <td>5545</td>\n",
       "      <td>2012</td>\n",
       "      <td>2</td>\n",
       "      <td>9</td>\n",
       "      <td>4</td>\n",
       "      <td>1</td>\n",
       "      <td>1</td>\n",
       "    </tr>\n",
       "    <tr>\n",
       "      <th>1</th>\n",
       "      <td>0</td>\n",
       "      <td>289.36</td>\n",
       "      <td>0.0</td>\n",
       "      <td>0.0</td>\n",
       "      <td>75</td>\n",
       "      <td>Clouds</td>\n",
       "      <td>broken clouds</td>\n",
       "      <td>2012-02-10 10:00:00</td>\n",
       "      <td>4516</td>\n",
       "      <td>2012</td>\n",
       "      <td>2</td>\n",
       "      <td>10</td>\n",
       "      <td>4</td>\n",
       "      <td>1</td>\n",
       "      <td>1</td>\n",
       "    </tr>\n",
       "  </tbody>\n",
       "</table>\n",
       "</div>"
      ],
      "text/plain": [
       "   holiday    temp  rain_1h  snow_1h  clouds_all weather_main  \\\n",
       "0        0  288.28      0.0      0.0          40       Clouds   \n",
       "1        0  289.36      0.0      0.0          75       Clouds   \n",
       "\n",
       "  weather_description           date_time  traffic_volume  year  month  hour  \\\n",
       "0    scattered clouds 2012-02-10 09:00:00            5545  2012      2     9   \n",
       "1       broken clouds 2012-02-10 10:00:00            4516  2012      2    10   \n",
       "\n",
       "   weekday  quarter  workingday  \n",
       "0        4        1           1  \n",
       "1        4        1           1  "
      ]
     },
     "execution_count": 23,
     "metadata": {},
     "output_type": "execute_result"
    }
   ],
   "source": [
    "df.head(2)"
   ]
  },
  {
   "cell_type": "code",
   "execution_count": 24,
   "id": "482a1948",
   "metadata": {
    "scrolled": true
   },
   "outputs": [
    {
     "data": {
      "text/plain": [
       "sky is clear                           11665\n",
       "mist                                    5950\n",
       "overcast clouds                         5081\n",
       "broken clouds                           4666\n",
       "scattered clouds                        3461\n",
       "light rain                              3372\n",
       "few clouds                              1956\n",
       "light snow                              1946\n",
       "Sky is Clear                            1726\n",
       "moderate rain                           1664\n",
       "haze                                    1360\n",
       "light intensity drizzle                 1100\n",
       "fog                                      912\n",
       "proximity thunderstorm                   673\n",
       "drizzle                                  651\n",
       "heavy snow                               616\n",
       "heavy intensity rain                     467\n",
       "snow                                     293\n",
       "proximity shower rain                    136\n",
       "thunderstorm                             125\n",
       "heavy intensity drizzle                   64\n",
       "thunderstorm with heavy rain              63\n",
       "thunderstorm with light rain              54\n",
       "proximity thunderstorm with rain          52\n",
       "thunderstorm with rain                    37\n",
       "smoke                                     20\n",
       "very heavy rain                           18\n",
       "thunderstorm with light drizzle           15\n",
       "light intensity shower rain               13\n",
       "proximity thunderstorm with drizzle       13\n",
       "light shower snow                         11\n",
       "light rain and snow                        6\n",
       "shower drizzle                             6\n",
       "SQUALLS                                    4\n",
       "sleet                                      3\n",
       "thunderstorm with drizzle                  2\n",
       "freezing rain                              2\n",
       "shower snow                                1\n",
       "Name: weather_description, dtype: int64"
      ]
     },
     "execution_count": 24,
     "metadata": {},
     "output_type": "execute_result"
    }
   ],
   "source": [
    "#I will not exclude weather_description from model and only keep weather_main as weather clasifier\n",
    "df['weather_description'].value_counts()"
   ]
  },
  {
   "cell_type": "code",
   "execution_count": 25,
   "id": "63fe4456",
   "metadata": {
    "scrolled": false
   },
   "outputs": [
    {
     "data": {
      "text/plain": [
       "Clouds          31.457970\n",
       "Clear           27.779852\n",
       "Mist            12.343374\n",
       "Rain            11.766658\n",
       "Snow             5.966310\n",
       "Drizzle          3.777695\n",
       "Haze             2.821343\n",
       "Thunderstorm     2.145050\n",
       "Fog              1.891959\n",
       "Smoke            0.041490\n",
       "Squall           0.008298\n",
       "Name: weather_main, dtype: float64"
      ]
     },
     "execution_count": 25,
     "metadata": {},
     "output_type": "execute_result"
    }
   ],
   "source": [
    "df['weather_main'].value_counts(normalize=True) * 100"
   ]
  },
  {
   "cell_type": "markdown",
   "id": "dc6083c7",
   "metadata": {},
   "source": [
    "For the shake of better generalization accuracy at 'weather_main' category; I will only leave 5 main class by identifying classes with frequencies to below 5% of dataset as outlier and setting their values to NAN. After splits, I can impute them with kNN imputation."
   ]
  },
  {
   "cell_type": "code",
   "execution_count": 26,
   "id": "0294bc0e",
   "metadata": {},
   "outputs": [],
   "source": [
    "df['weather_main_new'] = df['weather_main']\n",
    "df.loc[(df['weather_main_new'] == 'Drizzle'), 'weather_main_new'] = np.NAN\n",
    "df.loc[(df['weather_main_new'] == 'Haze'), 'weather_main_new'] = np.NAN\n",
    "df.loc[(df['weather_main_new'] == 'Thunderstorm'), 'weather_main_new'] = np.NAN\n",
    "df.loc[(df['weather_main_new'] == 'Fog'), 'weather_main_new'] = np.NAN\n",
    "df.loc[(df['weather_main_new'] == 'Smoke'), 'weather_main_new'] = np.NAN\n",
    "df.loc[(df['weather_main_new'] == 'Squall'), 'weather_main_new'] = np.NAN"
   ]
  },
  {
   "cell_type": "code",
   "execution_count": 27,
   "id": "3a6e96de",
   "metadata": {
    "scrolled": true
   },
   "outputs": [
    {
     "data": {
      "text/plain": [
       "Clouds    31.457970\n",
       "Clear     27.779852\n",
       "Mist      12.343374\n",
       "Rain      11.766658\n",
       "NaN       10.685835\n",
       "Snow       5.966310\n",
       "Name: weather_main_new, dtype: float64"
      ]
     },
     "execution_count": 27,
     "metadata": {},
     "output_type": "execute_result"
    }
   ],
   "source": [
    "df['weather_main_new'].value_counts(dropna=False,normalize=True) * 100"
   ]
  },
  {
   "cell_type": "code",
   "execution_count": 28,
   "id": "1223d79c",
   "metadata": {
    "scrolled": true
   },
   "outputs": [
    {
     "data": {
      "text/plain": [
       "1        31.45797\n",
       "0       27.779852\n",
       "2       12.343374\n",
       "3       11.766658\n",
       "<NA>    10.685835\n",
       "4         5.96631\n",
       "Name: weather_main_new, dtype: Float64"
      ]
     },
     "execution_count": 28,
     "metadata": {},
     "output_type": "execute_result"
    }
   ],
   "source": [
    "#ordinal encoding don't have any effect on test split.\n",
    "#in order to ensure Nan stays Nan after ordinal encoding weather_main and can be imputed;\n",
    "# encoding this feature Before splitting the dataset\n",
    "#also hour, day and month already have ordinal values therefore no need to be encoded again.\n",
    "le = OrdinalEncoder()\n",
    "df['weather_main_new'] = le.fit_transform(df[['weather_main_new']])\n",
    "df['weather_main_new']=df['weather_main_new'].astype('Int64')\n",
    "df.loc[(df['weather_main_new'] == 5), 'weather_main_new'] = np.NAN\n",
    "df['weather_main_new'].value_counts(dropna=False, normalize=True) * 100"
   ]
  },
  {
   "cell_type": "code",
   "execution_count": 29,
   "id": "77373654",
   "metadata": {
    "scrolled": true
   },
   "outputs": [
    {
     "data": {
      "text/plain": [
       "Index(['holiday', 'temp', 'rain_1h', 'snow_1h', 'clouds_all', 'weather_main',\n",
       "       'weather_description', 'date_time', 'traffic_volume', 'year', 'month',\n",
       "       'hour', 'weekday', 'quarter', 'workingday', 'weather_main_new'],\n",
       "      dtype='object')"
      ]
     },
     "execution_count": 29,
     "metadata": {},
     "output_type": "execute_result"
    }
   ],
   "source": [
    "df.columns"
   ]
  },
  {
   "cell_type": "code",
   "execution_count": 30,
   "id": "49c90f0e",
   "metadata": {},
   "outputs": [],
   "source": [
    "df = df.drop([\n",
    "    'date_time', 'holiday', 'weather_description', 'weather_main', 'quarter',\n",
    "    'year'\n",
    "],\n",
    "             axis=1)"
   ]
  },
  {
   "cell_type": "code",
   "execution_count": 31,
   "id": "7a29ea53",
   "metadata": {
    "scrolled": true
   },
   "outputs": [
    {
     "data": {
      "text/html": [
       "<div>\n",
       "<style scoped>\n",
       "    .dataframe tbody tr th:only-of-type {\n",
       "        vertical-align: middle;\n",
       "    }\n",
       "\n",
       "    .dataframe tbody tr th {\n",
       "        vertical-align: top;\n",
       "    }\n",
       "\n",
       "    .dataframe thead th {\n",
       "        text-align: right;\n",
       "    }\n",
       "</style>\n",
       "<table border=\"1\" class=\"dataframe\">\n",
       "  <thead>\n",
       "    <tr style=\"text-align: right;\">\n",
       "      <th></th>\n",
       "      <th>temp</th>\n",
       "      <th>rain_1h</th>\n",
       "      <th>snow_1h</th>\n",
       "      <th>clouds_all</th>\n",
       "      <th>traffic_volume</th>\n",
       "      <th>month</th>\n",
       "      <th>hour</th>\n",
       "      <th>weekday</th>\n",
       "      <th>workingday</th>\n",
       "      <th>weather_main_new</th>\n",
       "    </tr>\n",
       "  </thead>\n",
       "  <tbody>\n",
       "    <tr>\n",
       "      <th>0</th>\n",
       "      <td>288.28</td>\n",
       "      <td>0.0</td>\n",
       "      <td>0.0</td>\n",
       "      <td>40</td>\n",
       "      <td>5545</td>\n",
       "      <td>2</td>\n",
       "      <td>9</td>\n",
       "      <td>4</td>\n",
       "      <td>1</td>\n",
       "      <td>1</td>\n",
       "    </tr>\n",
       "    <tr>\n",
       "      <th>1</th>\n",
       "      <td>289.36</td>\n",
       "      <td>0.0</td>\n",
       "      <td>0.0</td>\n",
       "      <td>75</td>\n",
       "      <td>4516</td>\n",
       "      <td>2</td>\n",
       "      <td>10</td>\n",
       "      <td>4</td>\n",
       "      <td>1</td>\n",
       "      <td>1</td>\n",
       "    </tr>\n",
       "  </tbody>\n",
       "</table>\n",
       "</div>"
      ],
      "text/plain": [
       "     temp  rain_1h  snow_1h  clouds_all  traffic_volume  month  hour  weekday  \\\n",
       "0  288.28      0.0      0.0          40            5545      2     9        4   \n",
       "1  289.36      0.0      0.0          75            4516      2    10        4   \n",
       "\n",
       "   workingday  weather_main_new  \n",
       "0           1                 1  \n",
       "1           1                 1  "
      ]
     },
     "execution_count": 31,
     "metadata": {},
     "output_type": "execute_result"
    }
   ],
   "source": [
    "df.head(2)"
   ]
  },
  {
   "cell_type": "markdown",
   "id": "c6dd6121",
   "metadata": {},
   "source": [
    "### Divide the data into train and test sets keeping one third of the data for testing. "
   ]
  },
  {
   "cell_type": "markdown",
   "id": "fd595917",
   "metadata": {},
   "source": [
    "    Note: in order not to do imputing, scaling before splitting dataset. I will split dataset in to train -test-validation and do imputing-scaling separately on splits to avoid any effect tests set can have on train set weights. "
   ]
  },
  {
   "cell_type": "code",
   "execution_count": 33,
   "id": "bb7bdeed",
   "metadata": {},
   "outputs": [],
   "source": [
    "features=[\"temp\",\"rain_1h\",\"snow_1h\",\"clouds_all\",\"month\",\"hour\",\"weekday\",\"workingday\",\"weather_main_new\"]"
   ]
  },
  {
   "cell_type": "code",
   "execution_count": 34,
   "id": "b1a85bff",
   "metadata": {},
   "outputs": [
    {
     "name": "stdout",
     "output_type": "stream",
     "text": [
      "(33742, 9) (33742, 1)\n",
      "(7231, 9) (7231, 1)\n",
      "(7231, 9) (7231, 1)\n"
     ]
    }
   ],
   "source": [
    "y = df[[\"traffic_volume\"]]\n",
    "X = df[features]\n",
    "X_train, X_rem, y_train, y_rem = train_test_split(X,\n",
    "                                                  y,\n",
    "                                                  test_size=0.3)\n",
    "X_valid, X_test, y_valid, y_test = train_test_split(X_rem,\n",
    "                                                    y_rem,\n",
    "                                                    test_size=0.5)\n",
    "print(X_train.shape, y_train.shape)\n",
    "print(X_valid.shape, y_valid.shape)\n",
    "print(X_test.shape, y_test.shape)\n",
    "None"
   ]
  },
  {
   "cell_type": "markdown",
   "id": "3401edc5",
   "metadata": {},
   "source": [
    "### Build two different regression models and test the accuracy. Try Linear Regression and one other regression model from scikit learn. "
   ]
  },
  {
   "cell_type": "markdown",
   "id": "5024967f",
   "metadata": {},
   "source": [
    "1. General Steps in pipelines:\n",
    "    * step1: Imputing missing values in \"weather_main_new\" column. ( ın this step I took n_neighbors=1 for KNNImputer otherwise it will round up to a value between values of number of neighbors and I would have end up with undesired new classes)\n",
    "    * step2: After imputing at step 1, input to step 2 is an array so converting it back to dataframe with original column names in order to be able to run column based transformation at step3. \n",
    "    * step3: One-hot-encoding \"weather_main_new\" column and applying minmaxscaler to remaining columns.\n",
    "    * step4: using regression model as instructed in assignment.\n",
    "\n",
    "\n",
    "2. The reason for doing preprocessing via pipeline:\n",
    "    * In order to be able to avoid test dataset effecting model training and causing errors at estimating model performance, I did preprocessing and modeling in a pipe. So that I can easily apply all imputing, encoding,scaling, seperately to each split without any of them effected by another. "
   ]
  },
  {
   "cell_type": "markdown",
   "id": "a47f08b4",
   "metadata": {},
   "source": [
    "#### Trying linear regression model"
   ]
  },
  {
   "cell_type": "code",
   "execution_count": 35,
   "id": "df424dcb",
   "metadata": {},
   "outputs": [],
   "source": [
    "#https://datascience.stackexchange.com/questions/103077/how-can-i-get-the-dataframe-after-scikit-pipeline\n",
    "#https://scikit-learn.org/stable/modules/generated/sklearn.compose.ColumnTransformer.html#sklearn.compose.ColumnTransformer\n",
    "categorical_columns=[\"weather_main_new\"]\n",
    "one_hot_encoder = OneHotEncoder(handle_unknown=\"ignore\", sparse=False)\n",
    "kNN_Imputer=KNNImputer(n_neighbors=1)\n",
    "names = X_train.columns.tolist()\n",
    "Linearpipe = Pipeline(steps=[('imputer', kNN_Imputer),\n",
    "                             (\"pandarizer\", FunctionTransformer(lambda x: pd.DataFrame(x, columns = names))),\n",
    "                             ('encoder',  ColumnTransformer(\n",
    "                                            transformers=[\n",
    "                                                (\"categorical\", one_hot_encoder, categorical_columns),\n",
    "                                            ],\n",
    "                                            remainder=MinMaxScaler(),\n",
    "                                        )),\n",
    "                             ('model', LinearRegression())],\n",
    "                      verbose=True)"
   ]
  },
  {
   "cell_type": "code",
   "execution_count": 36,
   "id": "e691db98",
   "metadata": {
    "scrolled": true
   },
   "outputs": [
    {
     "name": "stdout",
     "output_type": "stream",
     "text": [
      "[Pipeline] ........... (step 1 of 4) Processing imputer, total=  11.8s\n",
      "[Pipeline] ........ (step 2 of 4) Processing pandarizer, total=   0.0s\n",
      "[Pipeline] ........... (step 3 of 4) Processing encoder, total=   0.0s\n",
      "[Pipeline] ............. (step 4 of 4) Processing model, total=   0.0s\n"
     ]
    },
    {
     "name": "stderr",
     "output_type": "stream",
     "text": [
      "/home/pelin/anaconda3/lib/python3.9/site-packages/sklearn/preprocessing/_encoders.py:868: FutureWarning: `sparse` was renamed to `sparse_output` in version 1.2 and will be removed in 1.4. `sparse_output` is ignored unless you leave `sparse` to its default value.\n",
      "  warnings.warn(\n"
     ]
    }
   ],
   "source": [
    "Linearpipe.fit(X_train, y_train)\n",
    "y_pred = Linearpipe.predict(X_test)"
   ]
  },
  {
   "cell_type": "markdown",
   "id": "9178a852",
   "metadata": {},
   "source": [
    "Checking if pipe works as intended."
   ]
  },
  {
   "cell_type": "code",
   "execution_count": 37,
   "id": "698a81aa",
   "metadata": {
    "scrolled": false
   },
   "outputs": [
    {
     "data": {
      "text/html": [
       "<div>\n",
       "<style scoped>\n",
       "    .dataframe tbody tr th:only-of-type {\n",
       "        vertical-align: middle;\n",
       "    }\n",
       "\n",
       "    .dataframe tbody tr th {\n",
       "        vertical-align: top;\n",
       "    }\n",
       "\n",
       "    .dataframe thead th {\n",
       "        text-align: right;\n",
       "    }\n",
       "</style>\n",
       "<table border=\"1\" class=\"dataframe\">\n",
       "  <thead>\n",
       "    <tr style=\"text-align: right;\">\n",
       "      <th></th>\n",
       "      <th>categorical__weather_main_new_0.0</th>\n",
       "      <th>categorical__weather_main_new_1.0</th>\n",
       "      <th>categorical__weather_main_new_2.0</th>\n",
       "      <th>categorical__weather_main_new_3.0</th>\n",
       "      <th>categorical__weather_main_new_4.0</th>\n",
       "      <th>remainder__temp</th>\n",
       "      <th>remainder__rain_1h</th>\n",
       "      <th>remainder__snow_1h</th>\n",
       "      <th>remainder__clouds_all</th>\n",
       "      <th>remainder__month</th>\n",
       "      <th>remainder__hour</th>\n",
       "      <th>remainder__weekday</th>\n",
       "      <th>remainder__workingday</th>\n",
       "    </tr>\n",
       "  </thead>\n",
       "  <tbody>\n",
       "    <tr>\n",
       "      <th>0</th>\n",
       "      <td>0.0</td>\n",
       "      <td>1.0</td>\n",
       "      <td>0.0</td>\n",
       "      <td>0.0</td>\n",
       "      <td>0.0</td>\n",
       "      <td>0.843060</td>\n",
       "      <td>0.000000</td>\n",
       "      <td>0.0</td>\n",
       "      <td>0.20</td>\n",
       "      <td>0.727273</td>\n",
       "      <td>0.739130</td>\n",
       "      <td>1.000000</td>\n",
       "      <td>0.0</td>\n",
       "    </tr>\n",
       "    <tr>\n",
       "      <th>1</th>\n",
       "      <td>0.0</td>\n",
       "      <td>0.0</td>\n",
       "      <td>0.0</td>\n",
       "      <td>1.0</td>\n",
       "      <td>0.0</td>\n",
       "      <td>0.954315</td>\n",
       "      <td>0.000025</td>\n",
       "      <td>0.0</td>\n",
       "      <td>0.75</td>\n",
       "      <td>0.000000</td>\n",
       "      <td>0.086957</td>\n",
       "      <td>0.166667</td>\n",
       "      <td>1.0</td>\n",
       "    </tr>\n",
       "  </tbody>\n",
       "</table>\n",
       "</div>"
      ],
      "text/plain": [
       "   categorical__weather_main_new_0.0  categorical__weather_main_new_1.0  \\\n",
       "0                                0.0                                1.0   \n",
       "1                                0.0                                0.0   \n",
       "\n",
       "   categorical__weather_main_new_2.0  categorical__weather_main_new_3.0  \\\n",
       "0                                0.0                                0.0   \n",
       "1                                0.0                                1.0   \n",
       "\n",
       "   categorical__weather_main_new_4.0  remainder__temp  remainder__rain_1h  \\\n",
       "0                                0.0         0.843060            0.000000   \n",
       "1                                0.0         0.954315            0.000025   \n",
       "\n",
       "   remainder__snow_1h  remainder__clouds_all  remainder__month  \\\n",
       "0                 0.0                   0.20          0.727273   \n",
       "1                 0.0                   0.75          0.000000   \n",
       "\n",
       "   remainder__hour  remainder__weekday  remainder__workingday  \n",
       "0         0.739130            1.000000                    0.0  \n",
       "1         0.086957            0.166667                    1.0  "
      ]
     },
     "execution_count": 37,
     "metadata": {},
     "output_type": "execute_result"
    }
   ],
   "source": [
    "Linearpipe_model_input= pd.DataFrame(\n",
    "    Linearpipe.named_steps['encoder'].transform(X_test),\n",
    "    columns=Linearpipe.named_steps['encoder'].get_feature_names_out().tolist())\n",
    "Linearpipe_model_input.head(2)"
   ]
  },
  {
   "cell_type": "code",
   "execution_count": 38,
   "id": "1b4b2468",
   "metadata": {
    "scrolled": true
   },
   "outputs": [
    {
     "name": "stdout",
     "output_type": "stream",
     "text": [
      "<class 'pandas.core.frame.DataFrame'>\n",
      "RangeIndex: 7231 entries, 0 to 7230\n",
      "Data columns (total 13 columns):\n",
      " #   Column                             Non-Null Count  Dtype  \n",
      "---  ------                             --------------  -----  \n",
      " 0   categorical__weather_main_new_0.0  7231 non-null   float64\n",
      " 1   categorical__weather_main_new_1.0  7231 non-null   float64\n",
      " 2   categorical__weather_main_new_2.0  7231 non-null   float64\n",
      " 3   categorical__weather_main_new_3.0  7231 non-null   float64\n",
      " 4   categorical__weather_main_new_4.0  7231 non-null   float64\n",
      " 5   remainder__temp                    7231 non-null   float64\n",
      " 6   remainder__rain_1h                 7231 non-null   float64\n",
      " 7   remainder__snow_1h                 7231 non-null   float64\n",
      " 8   remainder__clouds_all              7231 non-null   float64\n",
      " 9   remainder__month                   7231 non-null   float64\n",
      " 10  remainder__hour                    7231 non-null   float64\n",
      " 11  remainder__weekday                 7231 non-null   float64\n",
      " 12  remainder__workingday              7231 non-null   float64\n",
      "dtypes: float64(13)\n",
      "memory usage: 734.5 KB\n"
     ]
    }
   ],
   "source": [
    "Linearpipe_model_input.info()"
   ]
  },
  {
   "cell_type": "markdown",
   "id": "8ad916f0",
   "metadata": {},
   "source": [
    "Spotted no problem"
   ]
  },
  {
   "cell_type": "code",
   "execution_count": 39,
   "id": "b0c89351",
   "metadata": {},
   "outputs": [],
   "source": [
    "#This function is used repeatedly to compute all metrics\n",
    "def printMetrics(testActualVal, predictions):\n",
    "    #classification evaluation measures\n",
    "    print(\n",
    "        '\\n=============================================================================='\n",
    "    )\n",
    "    print(\"MAE: \", metrics.mean_absolute_error(testActualVal, predictions))\n",
    "    print(\"RMSE: \",\n",
    "          metrics.mean_squared_error(testActualVal, predictions)**0.5)\n",
    "    print(\"R2: \", metrics.r2_score(testActualVal, predictions))"
   ]
  },
  {
   "cell_type": "code",
   "execution_count": 40,
   "id": "9707b29c",
   "metadata": {
    "scrolled": false
   },
   "outputs": [
    {
     "name": "stdout",
     "output_type": "stream",
     "text": [
      "\n",
      "==============================================================================\n",
      "MAE:  1605.9480016595214\n",
      "RMSE:  1827.9475746038042\n",
      "R2:  0.14792367433761955\n"
     ]
    }
   ],
   "source": [
    "printMetrics(y_test,y_pred)"
   ]
  },
  {
   "cell_type": "markdown",
   "id": "7b5a83b7",
   "metadata": {},
   "source": [
    "Simple Linear model performing very poorly. Due to periodic oscillatory nature of prediction target simple linear model won't fit well, can transform to polynomial features to better fit oscillatory periodic nature of our target. "
   ]
  },
  {
   "cell_type": "markdown",
   "id": "f05f07d3",
   "metadata": {},
   "source": [
    "#### Trying Stochastic Gradient Descent regression model from scikit with polynomial transformation of degree 2"
   ]
  },
  {
   "cell_type": "markdown",
   "id": "522f6dda",
   "metadata": {},
   "source": [
    "    Why Stochastic Gradient Descent?\n",
    "* Linear regression is computationally cheap in univariate cases but for multivariate cases formulate gets complicated and require many calculations. Such that in this case, I will use polynomial features transformation and as the result feature interactions columns will be added to the array so matrix size which will input to ML regression method will greatly increase, then SGD will become computationally cheaper then linear regression thanks to its iterative method. \n",
    "* In gradient descent we take derivative of sum of squared residuals with respect to intercept and slope and plug in to step size formula multiply by learning rate and update intercept and slope till convergence so number of derivatives will be equal to number of features and number of terms for each derivative will be equal to sample size and since convergence will take around 1000 steps amount of calculation needed is huge and computation would be very slow. However, Stochastic gradient descent is much more efficient then gradient descent because it reduces amount of term calculates by factor of sample size as it will randomly pick one sample for each step and use that to calculate derivatives. "
   ]
  },
  {
   "cell_type": "code",
   "execution_count": 41,
   "id": "8f6ada2d",
   "metadata": {},
   "outputs": [],
   "source": [
    "SGD_pipe = Pipeline(steps=[('imputer', kNN_Imputer),  \n",
    "                           (\"pandarizer\", FunctionTransformer(lambda x: pd.DataFrame(x, columns = names))),\n",
    "                           ('encoder',  ColumnTransformer(\n",
    "                                            transformers=[\n",
    "                                                (\"categorical\", one_hot_encoder, categorical_columns),\n",
    "                                            ],\n",
    "                                            remainder=MinMaxScaler(),\n",
    "                                        )),\n",
    "                           ('trans', PolynomialFeatures(degree=2)),\n",
    "                           ('model', SGDRegressor(max_iter=1000, tol=1e-3))],\n",
    "                    verbose=True)"
   ]
  },
  {
   "cell_type": "code",
   "execution_count": 42,
   "id": "86d014bb",
   "metadata": {
    "scrolled": true
   },
   "outputs": [
    {
     "name": "stdout",
     "output_type": "stream",
     "text": [
      "[Pipeline] ........... (step 1 of 5) Processing imputer, total=   9.2s\n",
      "[Pipeline] ........ (step 2 of 5) Processing pandarizer, total=   0.0s\n",
      "[Pipeline] ........... (step 3 of 5) Processing encoder, total=   0.0s\n",
      "[Pipeline] ............. (step 4 of 5) Processing trans, total=   0.0s\n"
     ]
    },
    {
     "name": "stderr",
     "output_type": "stream",
     "text": [
      "/home/pelin/anaconda3/lib/python3.9/site-packages/sklearn/preprocessing/_encoders.py:868: FutureWarning: `sparse` was renamed to `sparse_output` in version 1.2 and will be removed in 1.4. `sparse_output` is ignored unless you leave `sparse` to its default value.\n",
      "  warnings.warn(\n",
      "/home/pelin/anaconda3/lib/python3.9/site-packages/sklearn/utils/validation.py:1143: DataConversionWarning: A column-vector y was passed when a 1d array was expected. Please change the shape of y to (n_samples, ), for example using ravel().\n",
      "  y = column_or_1d(y, warn=True)\n"
     ]
    },
    {
     "name": "stdout",
     "output_type": "stream",
     "text": [
      "[Pipeline] ............. (step 5 of 5) Processing model, total=   2.6s\n"
     ]
    }
   ],
   "source": [
    "SGD_pipe.fit(X_train, y_train)\n",
    "y_pred = SGD_pipe.predict(X_test)"
   ]
  },
  {
   "cell_type": "code",
   "execution_count": 43,
   "id": "648bee23",
   "metadata": {
    "scrolled": false
   },
   "outputs": [
    {
     "name": "stdout",
     "output_type": "stream",
     "text": [
      "\n",
      "==============================================================================\n",
      "MAE:  891.7178134201271\n",
      "RMSE:  1144.2514952639526\n",
      "R2:  0.6661172329468632\n"
     ]
    }
   ],
   "source": [
    "printMetrics(y_test,y_pred)"
   ]
  },
  {
   "cell_type": "markdown",
   "id": "332f36c2",
   "metadata": {},
   "source": [
    "As expected, Stochastic Gradient Descent regression model with polynomial transformation of degree 2 greatly increased prediction accuracy, particularly due to adding feature interactions using polynomial feature transformation but still given nature of dataset our MAE is high, our model needs further improvements by feature engineering."
   ]
  },
  {
   "cell_type": "markdown",
   "id": "d41664de",
   "metadata": {},
   "source": [
    "## Task 3"
   ]
  },
  {
   "cell_type": "markdown",
   "id": "1a9b9a03",
   "metadata": {},
   "source": [
    "### Given that the linear numeric encoding of the hour, day and month features may miss cyclical signals, investigate and test a cyclical strategy for encoding these features. Does this strategy improve accuracy for the models tested in Task 2?"
   ]
  },
  {
   "cell_type": "markdown",
   "id": "2c77217d",
   "metadata": {},
   "source": [
    "* with referance to this case study https://scikit-learn.org/stable/auto_examples/applications/plot_cyclical_feature_engineering.html , I will try encoding cyclic categories(time features) using SplineTransformer using periodic_spline_transformer method descriped in case study. \n",
    "* Referances: https://pub.towardsai.net/time-series-analysis-hands-on-with-scikit-learn-feature-engineering-1e958e6534da Spine functions are combination of polynomial functions, joining points called knots, so we can model an area where data have significant change in direction as illustrated on graphs at task 1 using knots.This let us keep polynomial degree lower."
   ]
  },
  {
   "cell_type": "code",
   "execution_count": 44,
   "id": "4c13ab00",
   "metadata": {},
   "outputs": [],
   "source": [
    "def periodic_spline_transformer(period, n_splines=None, degree=3):\n",
    "    if n_splines is None:\n",
    "        n_splines = period\n",
    "    n_knots = n_splines + 1  # periodic and include_bias is True\n",
    "    return SplineTransformer(\n",
    "        degree=degree,\n",
    "        n_knots=n_knots,\n",
    "        knots=np.linspace(0, period, n_knots).reshape(n_knots, 1),\n",
    "        extrapolation=\"periodic\",\n",
    "        include_bias=True,\n",
    "    )"
   ]
  },
  {
   "cell_type": "markdown",
   "id": "692c17c6",
   "metadata": {},
   "source": [
    "#### first trying cyclic_spline_transformer with simple linear regression"
   ]
  },
  {
   "cell_type": "code",
   "execution_count": 45,
   "id": "c67871e9",
   "metadata": {},
   "outputs": [],
   "source": [
    "cyclic_spline_linearpipe = Pipeline(steps=[('imputer', kNN_Imputer),\n",
    "                             (\"pandarizer\", FunctionTransformer(lambda x: pd.DataFrame(x, columns = names))),\n",
    "                             ('encoder',  ColumnTransformer(\n",
    "                                            transformers=[\n",
    "                                                (\"categorical\", one_hot_encoder, [\"weather_main_new\"]),\n",
    "                                                (\"cyclic_month\", periodic_spline_transformer(12, n_splines=6), [\"month\"]),\n",
    "                                                (\"cyclic_weekday\", periodic_spline_transformer(7, n_splines=3), [\"weekday\"]),\n",
    "                                                (\"cyclic_hour\", periodic_spline_transformer(24, n_splines=12), [\"hour\"]),\n",
    "                                            ],\n",
    "                                             sparse_threshold=0, remainder=MinMaxScaler(),\n",
    "                                        )),\n",
    "                             ('model', LinearRegression())],\n",
    "                      verbose=True)"
   ]
  },
  {
   "cell_type": "code",
   "execution_count": 46,
   "id": "45ecde5a",
   "metadata": {
    "scrolled": true
   },
   "outputs": [
    {
     "name": "stdout",
     "output_type": "stream",
     "text": [
      "[Pipeline] ........... (step 1 of 4) Processing imputer, total=   6.1s\n",
      "[Pipeline] ........ (step 2 of 4) Processing pandarizer, total=   0.0s\n",
      "[Pipeline] ........... (step 3 of 4) Processing encoder, total=   0.0s\n",
      "[Pipeline] ............. (step 4 of 4) Processing model, total=   0.0s\n"
     ]
    },
    {
     "name": "stderr",
     "output_type": "stream",
     "text": [
      "/home/pelin/anaconda3/lib/python3.9/site-packages/sklearn/preprocessing/_encoders.py:868: FutureWarning: `sparse` was renamed to `sparse_output` in version 1.2 and will be removed in 1.4. `sparse_output` is ignored unless you leave `sparse` to its default value.\n",
      "  warnings.warn(\n"
     ]
    }
   ],
   "source": [
    "cyclic_spline_linearpipe.fit(X_train, y_train)\n",
    "y_pred = cyclic_spline_linearpipe.predict(X_test)"
   ]
  },
  {
   "cell_type": "code",
   "execution_count": 47,
   "id": "16c21617",
   "metadata": {
    "scrolled": true
   },
   "outputs": [
    {
     "name": "stdout",
     "output_type": "stream",
     "text": [
      "\n",
      "==============================================================================\n",
      "MAE:  626.9497994744848\n",
      "RMSE:  890.4855597668213\n",
      "R2:  0.7977889941988447\n"
     ]
    }
   ],
   "source": [
    "printMetrics(y_test,y_pred)"
   ]
  },
  {
   "cell_type": "markdown",
   "id": "43c49425",
   "metadata": {},
   "source": [
    "Yes. After encoding periodic time related features using spine transformation our simple linear model's prediction strength greatly increased.(R2 increased from 0.14 to 0.79 and MAE decreased from 1600 to 620) It perform even better then SGD model with degree 2 polynomial transformation (such that R2 at SGD without spline encoding was 0.66 and MAE was 891). In this model spline transformer generates basis spline functions of given polynomial order of degree( it was degree 3 in this case) from observations on single attribute for futures.Extrapolation=\"periodic\" makes encoding stay smooth when extrapolating beyond midnight."
   ]
  },
  {
   "cell_type": "markdown",
   "id": "219d5c93",
   "metadata": {},
   "source": [
    "#### finalizing linear model by adding a new feature to model workingdays/hours interaction using poynomialfeatures class on spline encoded hours and workingdays "
   ]
  },
  {
   "cell_type": "markdown",
   "id": "2bac799b",
   "metadata": {},
   "source": [
    "    Source: https://scikit-learn.org/stable/auto_examples/applications/plot_cyclical_feature_engineering.html#modeling-pairwise-interactions-with-splines-and-polynomial-features\n",
    "Graphs at task 1 showed quarter and year make almost no difference to hourly traffic volume patterns however months have slight impact, days of week or more particularly weather day of week is a working day or not impacts traffic volume patterns. So I will create a new feature to model this interaction explicitly without introducing too many new variable. "
   ]
  },
  {
   "cell_type": "code",
   "execution_count": 55,
   "id": "9544de42",
   "metadata": {},
   "outputs": [],
   "source": [
    "hour_workday_interaction = make_pipeline(\n",
    "    ColumnTransformer(\n",
    "        [\n",
    "            (\"cyclic_hour\", periodic_spline_transformer(24, n_splines=8), [\"hour\"]),\n",
    "            (\"workingday\", FunctionTransformer(lambda x: x == \"True\"), [\"workingday\"]),\n",
    "        ]\n",
    "    ),\n",
    "    PolynomialFeatures(degree=2, interaction_only=True, include_bias=False),\n",
    ")"
   ]
  },
  {
   "cell_type": "code",
   "execution_count": 56,
   "id": "9d164e04",
   "metadata": {},
   "outputs": [],
   "source": [
    "cyclic_spline_linearpipe_interactions = Pipeline(steps=[('imputer', kNN_Imputer),\n",
    "                             (\"pandarizer\", FunctionTransformer(lambda x: pd.DataFrame(x, columns = names))),\n",
    "                            ('attrib_deriver', FeatureUnion([\n",
    "                                ('encoder',  ColumnTransformer(\n",
    "                                            transformers=[\n",
    "                                                (\"categorical\", one_hot_encoder, categorical_columns),\n",
    "                                                (\"cyclic_month\", periodic_spline_transformer(12, n_splines=6), [\"month\"]),\n",
    "                                                (\"cyclic_weekday\", periodic_spline_transformer(7, n_splines=3), [\"weekday\"]),\n",
    "                                                (\"cyclic_hour\", periodic_spline_transformer(24, n_splines=12), [\"hour\"]),\n",
    "                                            ],\n",
    "                                            remainder=MinMaxScaler(), verbose_feature_names_out=True\n",
    "                                        )),\n",
    "                             (\"interactions1\", hour_workday_interaction)])),\n",
    "                             ('model', LinearRegression())],\n",
    "                      verbose=True)"
   ]
  },
  {
   "cell_type": "code",
   "execution_count": 57,
   "id": "77a3cfad",
   "metadata": {
    "scrolled": false
   },
   "outputs": [
    {
     "name": "stdout",
     "output_type": "stream",
     "text": [
      "[Pipeline] ........... (step 1 of 4) Processing imputer, total=   5.9s\n",
      "[Pipeline] ........ (step 2 of 4) Processing pandarizer, total=   0.0s\n",
      "[Pipeline] .... (step 3 of 4) Processing attrib_deriver, total=   0.1s\n",
      "[Pipeline] ............. (step 4 of 4) Processing model, total=   0.1s\n"
     ]
    },
    {
     "name": "stderr",
     "output_type": "stream",
     "text": [
      "/home/pelin/anaconda3/lib/python3.9/site-packages/sklearn/preprocessing/_encoders.py:868: FutureWarning: `sparse` was renamed to `sparse_output` in version 1.2 and will be removed in 1.4. `sparse_output` is ignored unless you leave `sparse` to its default value.\n",
      "  warnings.warn(\n"
     ]
    }
   ],
   "source": [
    "cyclic_spline_linearpipe_interactions.fit(X_train, y_train)\n",
    "y_pred = cyclic_spline_linearpipe_interactions.predict(X_test)"
   ]
  },
  {
   "cell_type": "code",
   "execution_count": 58,
   "id": "b5f09036",
   "metadata": {
    "scrolled": true
   },
   "outputs": [
    {
     "name": "stdout",
     "output_type": "stream",
     "text": [
      "\n",
      "==============================================================================\n",
      "MAE:  625.5329829899046\n",
      "RMSE:  888.2470953314838\n",
      "R2:  0.7988043351524385\n"
     ]
    }
   ],
   "source": [
    "printMetrics(y_test,y_pred)"
   ]
  },
  {
   "cell_type": "markdown",
   "id": "2e7eef1a",
   "metadata": {},
   "source": [
    "#### Trying to encode periodic time related features using spine transformation on SGD with degree 3 polynomial transformation."
   ]
  },
  {
   "cell_type": "code",
   "execution_count": 59,
   "id": "ff5c983f",
   "metadata": {},
   "outputs": [],
   "source": [
    "cyclic_spline_SGD_pipe = Pipeline(steps=[('imputer', kNN_Imputer),  \n",
    "                           (\"pandarizer\", FunctionTransformer(lambda x: pd.DataFrame(x, columns = names))),\n",
    "                             ('encoder',  ColumnTransformer(\n",
    "                                            transformers=[\n",
    "                                                (\"categorical\", one_hot_encoder, categorical_columns),\n",
    "                                                (\"cyclic_month\", periodic_spline_transformer(12, n_splines=6), [\"month\"]),\n",
    "                                                (\"cyclic_weekday\", periodic_spline_transformer(7, n_splines=3), [\"weekday\"]),\n",
    "                                                (\"cyclic_hour\", periodic_spline_transformer(24, n_splines=12), [\"hour\"]),\n",
    "                                            ],\n",
    "                                            remainder=MinMaxScaler(), verbose_feature_names_out=True\n",
    "                                        )),\n",
    "                           ('trans', PolynomialFeatures(degree=2)),\n",
    "                           ('model', SGDRegressor(max_iter=1000, tol=1e-3))],\n",
    "                    verbose=True)"
   ]
  },
  {
   "cell_type": "code",
   "execution_count": 60,
   "id": "a167ce35",
   "metadata": {
    "scrolled": false
   },
   "outputs": [
    {
     "name": "stdout",
     "output_type": "stream",
     "text": [
      "[Pipeline] ........... (step 1 of 5) Processing imputer, total=   6.0s\n",
      "[Pipeline] ........ (step 2 of 5) Processing pandarizer, total=   0.0s\n",
      "[Pipeline] ........... (step 3 of 5) Processing encoder, total=   0.0s\n",
      "[Pipeline] ............. (step 4 of 5) Processing trans, total=   0.1s\n"
     ]
    },
    {
     "name": "stderr",
     "output_type": "stream",
     "text": [
      "/home/pelin/anaconda3/lib/python3.9/site-packages/sklearn/preprocessing/_encoders.py:868: FutureWarning: `sparse` was renamed to `sparse_output` in version 1.2 and will be removed in 1.4. `sparse_output` is ignored unless you leave `sparse` to its default value.\n",
      "  warnings.warn(\n",
      "/home/pelin/anaconda3/lib/python3.9/site-packages/sklearn/utils/validation.py:1143: DataConversionWarning: A column-vector y was passed when a 1d array was expected. Please change the shape of y to (n_samples, ), for example using ravel().\n",
      "  y = column_or_1d(y, warn=True)\n"
     ]
    },
    {
     "name": "stdout",
     "output_type": "stream",
     "text": [
      "[Pipeline] ............. (step 5 of 5) Processing model, total=   3.2s\n"
     ]
    }
   ],
   "source": [
    "cyclic_spline_SGD_pipe.fit(X_train, y_train)\n",
    "y_pred = cyclic_spline_SGD_pipe.predict(X_test)"
   ]
  },
  {
   "cell_type": "code",
   "execution_count": 61,
   "id": "2a91e332",
   "metadata": {
    "scrolled": false
   },
   "outputs": [
    {
     "name": "stdout",
     "output_type": "stream",
     "text": [
      "\n",
      "==============================================================================\n",
      "MAE:  482.2421517778826\n",
      "RMSE:  776.8222290179415\n",
      "R2:  0.8461156990776395\n"
     ]
    }
   ],
   "source": [
    "printMetrics(y_test,y_pred)"
   ]
  },
  {
   "cell_type": "markdown",
   "id": "a8c484ab",
   "metadata": {},
   "source": [
    "Yes. After encoding periodic time related features using spine transformation prediction strength of our SGD model with degree 2 polynomial transformation increased such that R2 was 0.66 increased to 0.846 and MAE decreased to 482. The reason why SGD performs better then linear regression is because polynomial transformation captures cross feature interactions better. And iterative nature of SGD makes it memory efficient enough for my computer to be able to handle matrix came out of polynomial feature transformation. In this case, firstly we expanded number of features for each periodic time related feature using spines transformer, secondly we expanded number of features using polynomial features, therefore we end up with quite a large matrix to use on predictive regression model. Thanks to iterative nature of SGD my computer was able to handle memory requirements for the calculation of that matrix. However, when I tried to include polynomial features transformation in addition to periodic spine transformation in my linear regression pipeline my computer couldn't handle memory requirement and kernel died . This showed SGD is more memory efficent"
   ]
  },
  {
   "cell_type": "markdown",
   "id": "9f11b84a",
   "metadata": {},
   "source": [
    "## Task 4"
   ]
  },
  {
   "cell_type": "markdown",
   "id": "84014a70",
   "metadata": {},
   "source": [
    "### Identify subsets of the features for this prediction task. These can be the same subset for all models or model-specific subsets. "
   ]
  },
  {
   "cell_type": "code",
   "execution_count": 62,
   "id": "0a597696",
   "metadata": {
    "scrolled": true
   },
   "outputs": [
    {
     "data": {
      "text/plain": [
       "(1, 76)"
      ]
     },
     "execution_count": 62,
     "metadata": {},
     "output_type": "execute_result"
    }
   ],
   "source": [
    "cyclic_spline_linearpipe_interactions.named_steps['model'].coef_.shape"
   ]
  },
  {
   "cell_type": "code",
   "execution_count": 63,
   "id": "b5d9e1d3",
   "metadata": {
    "scrolled": true
   },
   "outputs": [
    {
     "data": {
      "text/plain": [
       "(528,)"
      ]
     },
     "execution_count": 63,
     "metadata": {},
     "output_type": "execute_result"
    }
   ],
   "source": [
    "cyclic_spline_SGD_pipe.named_steps['model'].coef_.shape"
   ]
  },
  {
   "cell_type": "markdown",
   "id": "eb23b30b",
   "metadata": {},
   "source": [
    "* For linear model prediction accuracy very slightly increased after adding a new feature for workingdays/hours interaction, which points high dimensionality therefore reduce impact of individual features. Result of final transformation for linear regression made us to have 76 coefficient in model which means we end up with 76 features so dimensionality is high.\n",
    "* We don't need that  workingdays/hours interaction feature for  SGD model. Because with polynomial features transformation degree 2 SGD already model all future interaction up to second degree. Therefore creating new features to model feature interactions isn't meaningful. At the moment its dimensionality is already very high such that it have 528 coefficient."
   ]
  },
  {
   "cell_type": "markdown",
   "id": "1f00341c",
   "metadata": {},
   "source": [
    "#### investigating methods to reduce dimension"
   ]
  },
  {
   "cell_type": "markdown",
   "id": "09c3e103",
   "metadata": {},
   "source": [
    "Firstly I will investigate useful features for both models using wrapper strategy on preprocessing input of pipeline. since both model are based on line fitting in essence, I don't need to worry about model bias for feature selection between SGD and LinearRegression. By the algorithms design if set of features increase LinearRegression efficiency it will increase SGD efficiency as well."
   ]
  },
  {
   "cell_type": "markdown",
   "id": "217ebc93",
   "metadata": {},
   "source": [
    "##### Extracting preprocessed datasets from pipeline for feature importance evaluation"
   ]
  },
  {
   "cell_type": "code",
   "execution_count": 64,
   "id": "4fe950af",
   "metadata": {},
   "outputs": [],
   "source": [
    "Preprocessing  = Pipeline(steps=[('imputer', kNN_Imputer),\n",
    "                             (\"pandarizer\", FunctionTransformer(lambda x: pd.DataFrame(x, columns = names))),\n",
    "                             ('encoder',  ColumnTransformer(\n",
    "                                            transformers=[\n",
    "                                                (\"categorical\", one_hot_encoder, [\"weather_main_new\"]),\n",
    "                                                (\"cyclic_month\", periodic_spline_transformer(12, n_splines=6), [\"month\"]),\n",
    "                                                (\"cyclic_weekday\", periodic_spline_transformer(7, n_splines=3), [\"weekday\"]),\n",
    "                                                (\"cyclic_hour\", periodic_spline_transformer(24, n_splines=12), [\"hour\"]),\n",
    "                                            ],\n",
    "                                             sparse_threshold=0, remainder=MinMaxScaler(),\n",
    "                                        )),],\n",
    "                      verbose=True)"
   ]
  },
  {
   "cell_type": "code",
   "execution_count": 65,
   "id": "13e5a391",
   "metadata": {
    "scrolled": false
   },
   "outputs": [
    {
     "name": "stdout",
     "output_type": "stream",
     "text": [
      "[Pipeline] ........... (step 1 of 3) Processing imputer, total=   5.7s\n",
      "[Pipeline] ........ (step 2 of 3) Processing pandarizer, total=   0.0s\n",
      "[Pipeline] ........... (step 3 of 3) Processing encoder, total=   0.0s\n"
     ]
    },
    {
     "name": "stderr",
     "output_type": "stream",
     "text": [
      "/home/pelin/anaconda3/lib/python3.9/site-packages/sklearn/preprocessing/_encoders.py:868: FutureWarning: `sparse` was renamed to `sparse_output` in version 1.2 and will be removed in 1.4. `sparse_output` is ignored unless you leave `sparse` to its default value.\n",
      "  warnings.warn(\n"
     ]
    },
    {
     "data": {
      "text/html": [
       "<style>#sk-container-id-1 {color: black;background-color: white;}#sk-container-id-1 pre{padding: 0;}#sk-container-id-1 div.sk-toggleable {background-color: white;}#sk-container-id-1 label.sk-toggleable__label {cursor: pointer;display: block;width: 100%;margin-bottom: 0;padding: 0.3em;box-sizing: border-box;text-align: center;}#sk-container-id-1 label.sk-toggleable__label-arrow:before {content: \"▸\";float: left;margin-right: 0.25em;color: #696969;}#sk-container-id-1 label.sk-toggleable__label-arrow:hover:before {color: black;}#sk-container-id-1 div.sk-estimator:hover label.sk-toggleable__label-arrow:before {color: black;}#sk-container-id-1 div.sk-toggleable__content {max-height: 0;max-width: 0;overflow: hidden;text-align: left;background-color: #f0f8ff;}#sk-container-id-1 div.sk-toggleable__content pre {margin: 0.2em;color: black;border-radius: 0.25em;background-color: #f0f8ff;}#sk-container-id-1 input.sk-toggleable__control:checked~div.sk-toggleable__content {max-height: 200px;max-width: 100%;overflow: auto;}#sk-container-id-1 input.sk-toggleable__control:checked~label.sk-toggleable__label-arrow:before {content: \"▾\";}#sk-container-id-1 div.sk-estimator input.sk-toggleable__control:checked~label.sk-toggleable__label {background-color: #d4ebff;}#sk-container-id-1 div.sk-label input.sk-toggleable__control:checked~label.sk-toggleable__label {background-color: #d4ebff;}#sk-container-id-1 input.sk-hidden--visually {border: 0;clip: rect(1px 1px 1px 1px);clip: rect(1px, 1px, 1px, 1px);height: 1px;margin: -1px;overflow: hidden;padding: 0;position: absolute;width: 1px;}#sk-container-id-1 div.sk-estimator {font-family: monospace;background-color: #f0f8ff;border: 1px dotted black;border-radius: 0.25em;box-sizing: border-box;margin-bottom: 0.5em;}#sk-container-id-1 div.sk-estimator:hover {background-color: #d4ebff;}#sk-container-id-1 div.sk-parallel-item::after {content: \"\";width: 100%;border-bottom: 1px solid gray;flex-grow: 1;}#sk-container-id-1 div.sk-label:hover label.sk-toggleable__label {background-color: #d4ebff;}#sk-container-id-1 div.sk-serial::before {content: \"\";position: absolute;border-left: 1px solid gray;box-sizing: border-box;top: 0;bottom: 0;left: 50%;z-index: 0;}#sk-container-id-1 div.sk-serial {display: flex;flex-direction: column;align-items: center;background-color: white;padding-right: 0.2em;padding-left: 0.2em;position: relative;}#sk-container-id-1 div.sk-item {position: relative;z-index: 1;}#sk-container-id-1 div.sk-parallel {display: flex;align-items: stretch;justify-content: center;background-color: white;position: relative;}#sk-container-id-1 div.sk-item::before, #sk-container-id-1 div.sk-parallel-item::before {content: \"\";position: absolute;border-left: 1px solid gray;box-sizing: border-box;top: 0;bottom: 0;left: 50%;z-index: -1;}#sk-container-id-1 div.sk-parallel-item {display: flex;flex-direction: column;z-index: 1;position: relative;background-color: white;}#sk-container-id-1 div.sk-parallel-item:first-child::after {align-self: flex-end;width: 50%;}#sk-container-id-1 div.sk-parallel-item:last-child::after {align-self: flex-start;width: 50%;}#sk-container-id-1 div.sk-parallel-item:only-child::after {width: 0;}#sk-container-id-1 div.sk-dashed-wrapped {border: 1px dashed gray;margin: 0 0.4em 0.5em 0.4em;box-sizing: border-box;padding-bottom: 0.4em;background-color: white;}#sk-container-id-1 div.sk-label label {font-family: monospace;font-weight: bold;display: inline-block;line-height: 1.2em;}#sk-container-id-1 div.sk-label-container {text-align: center;}#sk-container-id-1 div.sk-container {/* jupyter's `normalize.less` sets `[hidden] { display: none; }` but bootstrap.min.css set `[hidden] { display: none !important; }` so we also need the `!important` here to be able to override the default hidden behavior on the sphinx rendered scikit-learn.org. See: https://github.com/scikit-learn/scikit-learn/issues/21755 */display: inline-block !important;position: relative;}#sk-container-id-1 div.sk-text-repr-fallback {display: none;}</style><div id=\"sk-container-id-1\" class=\"sk-top-container\"><div class=\"sk-text-repr-fallback\"><pre>Pipeline(steps=[(&#x27;imputer&#x27;, KNNImputer(n_neighbors=1)),\n",
       "                (&#x27;pandarizer&#x27;,\n",
       "                 FunctionTransformer(func=&lt;function &lt;lambda&gt; at 0x7f8d3388b160&gt;)),\n",
       "                (&#x27;encoder&#x27;,\n",
       "                 ColumnTransformer(remainder=MinMaxScaler(), sparse_threshold=0,\n",
       "                                   transformers=[(&#x27;categorical&#x27;,\n",
       "                                                  OneHotEncoder(handle_unknown=&#x27;ignore&#x27;,\n",
       "                                                                sparse=False),\n",
       "                                                  [&#x27;weather_main_new&#x27;]),\n",
       "                                                 (&#x27;cyclic_month&#x27;,\n",
       "                                                  SplineTransformer(extrapolat...\n",
       "       [12.]]),\n",
       "                                                                    n_knots=7),\n",
       "                                                  [&#x27;month&#x27;]),\n",
       "                                                 (&#x27;cyclic_weekday&#x27;,\n",
       "                                                  SplineTransformer(extrapolation=&#x27;periodic&#x27;,\n",
       "                                                                    knots=array([[0.        ],\n",
       "       [2.33333333],\n",
       "       [4.66666667],\n",
       "       [7.        ]]),\n",
       "                                                                    n_knots=4),\n",
       "                                                  [&#x27;weekday&#x27;]),\n",
       "                                                 (&#x27;cyclic_hour&#x27;,\n",
       "                                                  SplineTransformer(extrapolation=&#x27;periodic&#x27;,\n",
       "                                                                    knots=array([[ 0.],\n",
       "       [ 2.],\n",
       "       [ 4.],\n",
       "       [ 6.],\n",
       "       [ 8.],\n",
       "       [10.],\n",
       "       [12.],\n",
       "       [14.],\n",
       "       [16.],\n",
       "       [18.],\n",
       "       [20.],\n",
       "       [22.],\n",
       "       [24.]]),\n",
       "                                                                    n_knots=13),\n",
       "                                                  [&#x27;hour&#x27;])]))],\n",
       "         verbose=True)</pre><b>In a Jupyter environment, please rerun this cell to show the HTML representation or trust the notebook. <br />On GitHub, the HTML representation is unable to render, please try loading this page with nbviewer.org.</b></div><div class=\"sk-container\" hidden><div class=\"sk-item sk-dashed-wrapped\"><div class=\"sk-label-container\"><div class=\"sk-label sk-toggleable\"><input class=\"sk-toggleable__control sk-hidden--visually\" id=\"sk-estimator-id-1\" type=\"checkbox\" ><label for=\"sk-estimator-id-1\" class=\"sk-toggleable__label sk-toggleable__label-arrow\">Pipeline</label><div class=\"sk-toggleable__content\"><pre>Pipeline(steps=[(&#x27;imputer&#x27;, KNNImputer(n_neighbors=1)),\n",
       "                (&#x27;pandarizer&#x27;,\n",
       "                 FunctionTransformer(func=&lt;function &lt;lambda&gt; at 0x7f8d3388b160&gt;)),\n",
       "                (&#x27;encoder&#x27;,\n",
       "                 ColumnTransformer(remainder=MinMaxScaler(), sparse_threshold=0,\n",
       "                                   transformers=[(&#x27;categorical&#x27;,\n",
       "                                                  OneHotEncoder(handle_unknown=&#x27;ignore&#x27;,\n",
       "                                                                sparse=False),\n",
       "                                                  [&#x27;weather_main_new&#x27;]),\n",
       "                                                 (&#x27;cyclic_month&#x27;,\n",
       "                                                  SplineTransformer(extrapolat...\n",
       "       [12.]]),\n",
       "                                                                    n_knots=7),\n",
       "                                                  [&#x27;month&#x27;]),\n",
       "                                                 (&#x27;cyclic_weekday&#x27;,\n",
       "                                                  SplineTransformer(extrapolation=&#x27;periodic&#x27;,\n",
       "                                                                    knots=array([[0.        ],\n",
       "       [2.33333333],\n",
       "       [4.66666667],\n",
       "       [7.        ]]),\n",
       "                                                                    n_knots=4),\n",
       "                                                  [&#x27;weekday&#x27;]),\n",
       "                                                 (&#x27;cyclic_hour&#x27;,\n",
       "                                                  SplineTransformer(extrapolation=&#x27;periodic&#x27;,\n",
       "                                                                    knots=array([[ 0.],\n",
       "       [ 2.],\n",
       "       [ 4.],\n",
       "       [ 6.],\n",
       "       [ 8.],\n",
       "       [10.],\n",
       "       [12.],\n",
       "       [14.],\n",
       "       [16.],\n",
       "       [18.],\n",
       "       [20.],\n",
       "       [22.],\n",
       "       [24.]]),\n",
       "                                                                    n_knots=13),\n",
       "                                                  [&#x27;hour&#x27;])]))],\n",
       "         verbose=True)</pre></div></div></div><div class=\"sk-serial\"><div class=\"sk-item\"><div class=\"sk-estimator sk-toggleable\"><input class=\"sk-toggleable__control sk-hidden--visually\" id=\"sk-estimator-id-2\" type=\"checkbox\" ><label for=\"sk-estimator-id-2\" class=\"sk-toggleable__label sk-toggleable__label-arrow\">KNNImputer</label><div class=\"sk-toggleable__content\"><pre>KNNImputer(n_neighbors=1)</pre></div></div></div><div class=\"sk-item\"><div class=\"sk-estimator sk-toggleable\"><input class=\"sk-toggleable__control sk-hidden--visually\" id=\"sk-estimator-id-3\" type=\"checkbox\" ><label for=\"sk-estimator-id-3\" class=\"sk-toggleable__label sk-toggleable__label-arrow\">FunctionTransformer</label><div class=\"sk-toggleable__content\"><pre>FunctionTransformer(func=&lt;function &lt;lambda&gt; at 0x7f8d3388b160&gt;)</pre></div></div></div><div class=\"sk-item sk-dashed-wrapped\"><div class=\"sk-label-container\"><div class=\"sk-label sk-toggleable\"><input class=\"sk-toggleable__control sk-hidden--visually\" id=\"sk-estimator-id-4\" type=\"checkbox\" ><label for=\"sk-estimator-id-4\" class=\"sk-toggleable__label sk-toggleable__label-arrow\">encoder: ColumnTransformer</label><div class=\"sk-toggleable__content\"><pre>ColumnTransformer(remainder=MinMaxScaler(), sparse_threshold=0,\n",
       "                  transformers=[(&#x27;categorical&#x27;,\n",
       "                                 OneHotEncoder(handle_unknown=&#x27;ignore&#x27;,\n",
       "                                               sparse=False),\n",
       "                                 [&#x27;weather_main_new&#x27;]),\n",
       "                                (&#x27;cyclic_month&#x27;,\n",
       "                                 SplineTransformer(extrapolation=&#x27;periodic&#x27;,\n",
       "                                                   knots=array([[ 0.],\n",
       "       [ 2.],\n",
       "       [ 4.],\n",
       "       [ 6.],\n",
       "       [ 8.],\n",
       "       [10.],\n",
       "       [12.]]),\n",
       "                                                   n_knots=7),\n",
       "                                 [&#x27;month&#x27;]),\n",
       "                                (&#x27;cyclic_weekday&#x27;,\n",
       "                                 SplineTransformer(extrapolation=&#x27;periodic&#x27;,\n",
       "                                                   knots=array([[0.        ],\n",
       "       [2.33333333],\n",
       "       [4.66666667],\n",
       "       [7.        ]]),\n",
       "                                                   n_knots=4),\n",
       "                                 [&#x27;weekday&#x27;]),\n",
       "                                (&#x27;cyclic_hour&#x27;,\n",
       "                                 SplineTransformer(extrapolation=&#x27;periodic&#x27;,\n",
       "                                                   knots=array([[ 0.],\n",
       "       [ 2.],\n",
       "       [ 4.],\n",
       "       [ 6.],\n",
       "       [ 8.],\n",
       "       [10.],\n",
       "       [12.],\n",
       "       [14.],\n",
       "       [16.],\n",
       "       [18.],\n",
       "       [20.],\n",
       "       [22.],\n",
       "       [24.]]),\n",
       "                                                   n_knots=13),\n",
       "                                 [&#x27;hour&#x27;])])</pre></div></div></div><div class=\"sk-parallel\"><div class=\"sk-parallel-item\"><div class=\"sk-item\"><div class=\"sk-label-container\"><div class=\"sk-label sk-toggleable\"><input class=\"sk-toggleable__control sk-hidden--visually\" id=\"sk-estimator-id-5\" type=\"checkbox\" ><label for=\"sk-estimator-id-5\" class=\"sk-toggleable__label sk-toggleable__label-arrow\">categorical</label><div class=\"sk-toggleable__content\"><pre>[&#x27;weather_main_new&#x27;]</pre></div></div></div><div class=\"sk-serial\"><div class=\"sk-item\"><div class=\"sk-estimator sk-toggleable\"><input class=\"sk-toggleable__control sk-hidden--visually\" id=\"sk-estimator-id-6\" type=\"checkbox\" ><label for=\"sk-estimator-id-6\" class=\"sk-toggleable__label sk-toggleable__label-arrow\">OneHotEncoder</label><div class=\"sk-toggleable__content\"><pre>OneHotEncoder(handle_unknown=&#x27;ignore&#x27;, sparse=False)</pre></div></div></div></div></div></div><div class=\"sk-parallel-item\"><div class=\"sk-item\"><div class=\"sk-label-container\"><div class=\"sk-label sk-toggleable\"><input class=\"sk-toggleable__control sk-hidden--visually\" id=\"sk-estimator-id-7\" type=\"checkbox\" ><label for=\"sk-estimator-id-7\" class=\"sk-toggleable__label sk-toggleable__label-arrow\">cyclic_month</label><div class=\"sk-toggleable__content\"><pre>[&#x27;month&#x27;]</pre></div></div></div><div class=\"sk-serial\"><div class=\"sk-item\"><div class=\"sk-estimator sk-toggleable\"><input class=\"sk-toggleable__control sk-hidden--visually\" id=\"sk-estimator-id-8\" type=\"checkbox\" ><label for=\"sk-estimator-id-8\" class=\"sk-toggleable__label sk-toggleable__label-arrow\">SplineTransformer</label><div class=\"sk-toggleable__content\"><pre>SplineTransformer(extrapolation=&#x27;periodic&#x27;,\n",
       "                  knots=array([[ 0.],\n",
       "       [ 2.],\n",
       "       [ 4.],\n",
       "       [ 6.],\n",
       "       [ 8.],\n",
       "       [10.],\n",
       "       [12.]]),\n",
       "                  n_knots=7)</pre></div></div></div></div></div></div><div class=\"sk-parallel-item\"><div class=\"sk-item\"><div class=\"sk-label-container\"><div class=\"sk-label sk-toggleable\"><input class=\"sk-toggleable__control sk-hidden--visually\" id=\"sk-estimator-id-9\" type=\"checkbox\" ><label for=\"sk-estimator-id-9\" class=\"sk-toggleable__label sk-toggleable__label-arrow\">cyclic_weekday</label><div class=\"sk-toggleable__content\"><pre>[&#x27;weekday&#x27;]</pre></div></div></div><div class=\"sk-serial\"><div class=\"sk-item\"><div class=\"sk-estimator sk-toggleable\"><input class=\"sk-toggleable__control sk-hidden--visually\" id=\"sk-estimator-id-10\" type=\"checkbox\" ><label for=\"sk-estimator-id-10\" class=\"sk-toggleable__label sk-toggleable__label-arrow\">SplineTransformer</label><div class=\"sk-toggleable__content\"><pre>SplineTransformer(extrapolation=&#x27;periodic&#x27;,\n",
       "                  knots=array([[0.        ],\n",
       "       [2.33333333],\n",
       "       [4.66666667],\n",
       "       [7.        ]]),\n",
       "                  n_knots=4)</pre></div></div></div></div></div></div><div class=\"sk-parallel-item\"><div class=\"sk-item\"><div class=\"sk-label-container\"><div class=\"sk-label sk-toggleable\"><input class=\"sk-toggleable__control sk-hidden--visually\" id=\"sk-estimator-id-11\" type=\"checkbox\" ><label for=\"sk-estimator-id-11\" class=\"sk-toggleable__label sk-toggleable__label-arrow\">cyclic_hour</label><div class=\"sk-toggleable__content\"><pre>[&#x27;hour&#x27;]</pre></div></div></div><div class=\"sk-serial\"><div class=\"sk-item\"><div class=\"sk-estimator sk-toggleable\"><input class=\"sk-toggleable__control sk-hidden--visually\" id=\"sk-estimator-id-12\" type=\"checkbox\" ><label for=\"sk-estimator-id-12\" class=\"sk-toggleable__label sk-toggleable__label-arrow\">SplineTransformer</label><div class=\"sk-toggleable__content\"><pre>SplineTransformer(extrapolation=&#x27;periodic&#x27;,\n",
       "                  knots=array([[ 0.],\n",
       "       [ 2.],\n",
       "       [ 4.],\n",
       "       [ 6.],\n",
       "       [ 8.],\n",
       "       [10.],\n",
       "       [12.],\n",
       "       [14.],\n",
       "       [16.],\n",
       "       [18.],\n",
       "       [20.],\n",
       "       [22.],\n",
       "       [24.]]),\n",
       "                  n_knots=13)</pre></div></div></div></div></div></div><div class=\"sk-parallel-item\"><div class=\"sk-item\"><div class=\"sk-label-container\"><div class=\"sk-label sk-toggleable\"><input class=\"sk-toggleable__control sk-hidden--visually\" id=\"sk-estimator-id-13\" type=\"checkbox\" ><label for=\"sk-estimator-id-13\" class=\"sk-toggleable__label sk-toggleable__label-arrow\">remainder</label><div class=\"sk-toggleable__content\"><pre>[&#x27;temp&#x27;, &#x27;rain_1h&#x27;, &#x27;snow_1h&#x27;, &#x27;clouds_all&#x27;, &#x27;workingday&#x27;]</pre></div></div></div><div class=\"sk-serial\"><div class=\"sk-item\"><div class=\"sk-estimator sk-toggleable\"><input class=\"sk-toggleable__control sk-hidden--visually\" id=\"sk-estimator-id-14\" type=\"checkbox\" ><label for=\"sk-estimator-id-14\" class=\"sk-toggleable__label sk-toggleable__label-arrow\">MinMaxScaler</label><div class=\"sk-toggleable__content\"><pre>MinMaxScaler()</pre></div></div></div></div></div></div></div></div></div></div></div></div>"
      ],
      "text/plain": [
       "Pipeline(steps=[('imputer', KNNImputer(n_neighbors=1)),\n",
       "                ('pandarizer',\n",
       "                 FunctionTransformer(func=<function <lambda> at 0x7f8d3388b160>)),\n",
       "                ('encoder',\n",
       "                 ColumnTransformer(remainder=MinMaxScaler(), sparse_threshold=0,\n",
       "                                   transformers=[('categorical',\n",
       "                                                  OneHotEncoder(handle_unknown='ignore',\n",
       "                                                                sparse=False),\n",
       "                                                  ['weather_main_new']),\n",
       "                                                 ('cyclic_month',\n",
       "                                                  SplineTransformer(extrapolat...\n",
       "       [12.]]),\n",
       "                                                                    n_knots=7),\n",
       "                                                  ['month']),\n",
       "                                                 ('cyclic_weekday',\n",
       "                                                  SplineTransformer(extrapolation='periodic',\n",
       "                                                                    knots=array([[0.        ],\n",
       "       [2.33333333],\n",
       "       [4.66666667],\n",
       "       [7.        ]]),\n",
       "                                                                    n_knots=4),\n",
       "                                                  ['weekday']),\n",
       "                                                 ('cyclic_hour',\n",
       "                                                  SplineTransformer(extrapolation='periodic',\n",
       "                                                                    knots=array([[ 0.],\n",
       "       [ 2.],\n",
       "       [ 4.],\n",
       "       [ 6.],\n",
       "       [ 8.],\n",
       "       [10.],\n",
       "       [12.],\n",
       "       [14.],\n",
       "       [16.],\n",
       "       [18.],\n",
       "       [20.],\n",
       "       [22.],\n",
       "       [24.]]),\n",
       "                                                                    n_knots=13),\n",
       "                                                  ['hour'])]))],\n",
       "         verbose=True)"
      ]
     },
     "execution_count": 65,
     "metadata": {},
     "output_type": "execute_result"
    }
   ],
   "source": [
    "Preprocessing.fit(X_train, y_train)"
   ]
  },
  {
   "cell_type": "code",
   "execution_count": 66,
   "id": "2403a78f",
   "metadata": {},
   "outputs": [],
   "source": [
    "Preprocessing_output= Preprocessing.transform(X_train)"
   ]
  },
  {
   "cell_type": "code",
   "execution_count": 67,
   "id": "7ce39202",
   "metadata": {
    "scrolled": true
   },
   "outputs": [
    {
     "data": {
      "text/plain": [
       "{'categorical': slice(0, 5, None),\n",
       " 'cyclic_month': slice(5, 11, None),\n",
       " 'cyclic_weekday': slice(11, 14, None),\n",
       " 'cyclic_hour': slice(14, 26, None),\n",
       " 'remainder': slice(26, 31, None)}"
      ]
     },
     "execution_count": 67,
     "metadata": {},
     "output_type": "execute_result"
    }
   ],
   "source": [
    "Preprocessing.named_steps['encoder'].output_indices_"
   ]
  },
  {
   "cell_type": "code",
   "execution_count": 68,
   "id": "269dc695",
   "metadata": {},
   "outputs": [],
   "source": [
    "categorical_column_names=['weather_main_new_'+str(x) for x in range(5)]\n",
    "cyclic_month_column_names=['month_'+str(x) for x in range(6)]\n",
    "cyclic_weekday_column_names=['week_'+str(x) for x in range(3)]\n",
    "cyclic_hour_column_names=['hour_'+str(x) for x in range(12)]\n",
    "remainder_column_names=['temp', 'rain_1h','snow_1h','clouds_all','workingday']\n",
    "preprocessed_column_names=categorical_column_names+cyclic_month_column_names+cyclic_weekday_column_names+cyclic_hour_column_names+remainder_column_names"
   ]
  },
  {
   "cell_type": "code",
   "execution_count": 69,
   "id": "47230ce2",
   "metadata": {
    "scrolled": false
   },
   "outputs": [
    {
     "data": {
      "text/html": [
       "<div>\n",
       "<style scoped>\n",
       "    .dataframe tbody tr th:only-of-type {\n",
       "        vertical-align: middle;\n",
       "    }\n",
       "\n",
       "    .dataframe tbody tr th {\n",
       "        vertical-align: top;\n",
       "    }\n",
       "\n",
       "    .dataframe thead th {\n",
       "        text-align: right;\n",
       "    }\n",
       "</style>\n",
       "<table border=\"1\" class=\"dataframe\">\n",
       "  <thead>\n",
       "    <tr style=\"text-align: right;\">\n",
       "      <th></th>\n",
       "      <th>weather_main_new_0</th>\n",
       "      <th>weather_main_new_1</th>\n",
       "      <th>weather_main_new_2</th>\n",
       "      <th>weather_main_new_3</th>\n",
       "      <th>weather_main_new_4</th>\n",
       "      <th>month_0</th>\n",
       "      <th>month_1</th>\n",
       "      <th>month_2</th>\n",
       "      <th>month_3</th>\n",
       "      <th>month_4</th>\n",
       "      <th>...</th>\n",
       "      <th>hour_7</th>\n",
       "      <th>hour_8</th>\n",
       "      <th>hour_9</th>\n",
       "      <th>hour_10</th>\n",
       "      <th>hour_11</th>\n",
       "      <th>temp</th>\n",
       "      <th>rain_1h</th>\n",
       "      <th>snow_1h</th>\n",
       "      <th>clouds_all</th>\n",
       "      <th>workingday</th>\n",
       "    </tr>\n",
       "  </thead>\n",
       "  <tbody>\n",
       "    <tr>\n",
       "      <th>0</th>\n",
       "      <td>0.0</td>\n",
       "      <td>0.0</td>\n",
       "      <td>0.0</td>\n",
       "      <td>1.0</td>\n",
       "      <td>0.0</td>\n",
       "      <td>0.000000</td>\n",
       "      <td>0.020833</td>\n",
       "      <td>0.479167</td>\n",
       "      <td>0.479167</td>\n",
       "      <td>0.020833</td>\n",
       "      <td>...</td>\n",
       "      <td>0.479167</td>\n",
       "      <td>0.020833</td>\n",
       "      <td>0.0</td>\n",
       "      <td>0.0</td>\n",
       "      <td>0.0</td>\n",
       "      <td>0.883637</td>\n",
       "      <td>0.000025</td>\n",
       "      <td>0.0</td>\n",
       "      <td>0.01</td>\n",
       "      <td>1.0</td>\n",
       "    </tr>\n",
       "    <tr>\n",
       "      <th>1</th>\n",
       "      <td>1.0</td>\n",
       "      <td>0.0</td>\n",
       "      <td>0.0</td>\n",
       "      <td>0.0</td>\n",
       "      <td>0.0</td>\n",
       "      <td>0.479167</td>\n",
       "      <td>0.020833</td>\n",
       "      <td>0.000000</td>\n",
       "      <td>0.000000</td>\n",
       "      <td>0.020833</td>\n",
       "      <td>...</td>\n",
       "      <td>0.000000</td>\n",
       "      <td>0.000000</td>\n",
       "      <td>0.0</td>\n",
       "      <td>0.0</td>\n",
       "      <td>0.0</td>\n",
       "      <td>0.906948</td>\n",
       "      <td>0.000000</td>\n",
       "      <td>0.0</td>\n",
       "      <td>0.01</td>\n",
       "      <td>0.0</td>\n",
       "    </tr>\n",
       "  </tbody>\n",
       "</table>\n",
       "<p>2 rows × 31 columns</p>\n",
       "</div>"
      ],
      "text/plain": [
       "   weather_main_new_0  weather_main_new_1  weather_main_new_2  \\\n",
       "0                 0.0                 0.0                 0.0   \n",
       "1                 1.0                 0.0                 0.0   \n",
       "\n",
       "   weather_main_new_3  weather_main_new_4   month_0   month_1   month_2  \\\n",
       "0                 1.0                 0.0  0.000000  0.020833  0.479167   \n",
       "1                 0.0                 0.0  0.479167  0.020833  0.000000   \n",
       "\n",
       "    month_3   month_4  ...    hour_7    hour_8  hour_9  hour_10  hour_11  \\\n",
       "0  0.479167  0.020833  ...  0.479167  0.020833     0.0      0.0      0.0   \n",
       "1  0.000000  0.020833  ...  0.000000  0.000000     0.0      0.0      0.0   \n",
       "\n",
       "       temp   rain_1h  snow_1h  clouds_all  workingday  \n",
       "0  0.883637  0.000025      0.0        0.01         1.0  \n",
       "1  0.906948  0.000000      0.0        0.01         0.0  \n",
       "\n",
       "[2 rows x 31 columns]"
      ]
     },
     "execution_count": 69,
     "metadata": {},
     "output_type": "execute_result"
    }
   ],
   "source": [
    "Preprocessing_output= pd.DataFrame(\n",
    "    Preprocessing.named_steps['encoder'].transform(X_train),\n",
    "    columns=preprocessed_column_names)\n",
    "Preprocessing_output.head(2)"
   ]
  },
  {
   "cell_type": "markdown",
   "id": "199512d8",
   "metadata": {},
   "source": [
    "##### Checking feature importance using wrapper strategy for feature selection on preprocessed dataset"
   ]
  },
  {
   "cell_type": "code",
   "execution_count": 70,
   "id": "e442d45f",
   "metadata": {},
   "outputs": [
    {
     "data": {
      "text/plain": [
       "9"
      ]
     },
     "execution_count": 70,
     "metadata": {},
     "output_type": "execute_result"
    }
   ],
   "source": [
    "feature_groups = [\n",
    "    categorical_column_names, cyclic_month_column_names,\n",
    "    cyclic_weekday_column_names, cyclic_hour_column_names,\n",
    "    ['temp'], ['rain_1h'],['snow_1h'],['clouds_all'],['workingday']\n",
    "]\n",
    "len(feature_groups)"
   ]
  },
  {
   "cell_type": "code",
   "execution_count": 71,
   "id": "dfa25f66",
   "metadata": {},
   "outputs": [
    {
     "name": "stderr",
     "output_type": "stream",
     "text": [
      "[Parallel(n_jobs=-1)]: Using backend LokyBackend with 20 concurrent workers.\n",
      "[Parallel(n_jobs=-1)]: Done   9 out of   9 | elapsed:    1.4s finished\n",
      "Features: 1/8[Parallel(n_jobs=-1)]: Using backend LokyBackend with 20 concurrent workers.\n",
      "[Parallel(n_jobs=-1)]: Done   5 out of   8 | elapsed:    0.9s remaining:    0.6s\n",
      "[Parallel(n_jobs=-1)]: Done   8 out of   8 | elapsed:    1.1s finished\n",
      "Features: 2/8[Parallel(n_jobs=-1)]: Using backend LokyBackend with 20 concurrent workers.\n",
      "[Parallel(n_jobs=-1)]: Done   7 out of   7 | elapsed:    0.9s finished\n",
      "Features: 3/8[Parallel(n_jobs=-1)]: Using backend LokyBackend with 20 concurrent workers.\n",
      "[Parallel(n_jobs=-1)]: Done   2 out of   6 | elapsed:    0.3s remaining:    0.5s\n",
      "[Parallel(n_jobs=-1)]: Done   6 out of   6 | elapsed:    0.5s finished\n",
      "Features: 4/8[Parallel(n_jobs=-1)]: Using backend LokyBackend with 20 concurrent workers.\n",
      "[Parallel(n_jobs=-1)]: Done   2 out of   5 | elapsed:    0.3s remaining:    0.5s\n",
      "[Parallel(n_jobs=-1)]: Done   5 out of   5 | elapsed:    0.4s finished\n",
      "Features: 5/8[Parallel(n_jobs=-1)]: Using backend LokyBackend with 20 concurrent workers.\n",
      "[Parallel(n_jobs=-1)]: Done   4 out of   4 | elapsed:    0.4s finished\n",
      "Features: 6/8[Parallel(n_jobs=-1)]: Using backend LokyBackend with 20 concurrent workers.\n",
      "[Parallel(n_jobs=-1)]: Done   3 out of   3 | elapsed:    0.4s finished\n",
      "Features: 7/8[Parallel(n_jobs=-1)]: Using backend LokyBackend with 20 concurrent workers.\n",
      "[Parallel(n_jobs=-1)]: Done   2 out of   2 | elapsed:    0.5s remaining:    0.0s\n",
      "[Parallel(n_jobs=-1)]: Done   2 out of   2 | elapsed:    0.5s finished\n",
      "Features: 8/8"
     ]
    }
   ],
   "source": [
    "feature_names=Preprocessing_output.columns\n",
    "f_range = (2, Preprocessing_output.shape[1])\n",
    "sfs_forward = SFS(LinearRegression(), \n",
    "                  k_features=8, \n",
    "                  forward=True, \n",
    "                  floating=False, \n",
    "                  verbose=1,\n",
    "                  scoring='r2',\n",
    "                  feature_groups=feature_groups,\n",
    "                  cv=10, n_jobs = -1)\n",
    "\n",
    "sfs_forward = sfs_forward.fit(Preprocessing_output, y_train)"
   ]
  },
  {
   "cell_type": "code",
   "execution_count": 72,
   "id": "306542f6",
   "metadata": {
    "scrolled": true
   },
   "outputs": [
    {
     "name": "stdout",
     "output_type": "stream",
     "text": [
      "(0, 1, 2, 3, 4, 5, 6, 7, 8, 9, 10, 11, 12, 13, 14, 15, 16, 17, 18, 19, 20, 21, 22, 23, 24, 25, 26, 28, 29, 30)\n"
     ]
    }
   ],
   "source": [
    "print(sfs_forward.k_feature_idx_)"
   ]
  },
  {
   "cell_type": "code",
   "execution_count": 73,
   "id": "22138cc8",
   "metadata": {},
   "outputs": [
    {
     "name": "stdout",
     "output_type": "stream",
     "text": [
      "('weather_main_new_0', 'weather_main_new_1', 'weather_main_new_2', 'weather_main_new_3', 'weather_main_new_4', 'month_0', 'month_1', 'month_2', 'month_3', 'month_4', 'month_5', 'week_0', 'week_1', 'week_2', 'hour_0', 'hour_1', 'hour_2', 'hour_3', 'hour_4', 'hour_5', 'hour_6', 'hour_7', 'hour_8', 'hour_9', 'hour_10', 'hour_11', 'temp', 'snow_1h', 'clouds_all', 'workingday')\n"
     ]
    }
   ],
   "source": [
    "print(sfs_forward.k_feature_names_)"
   ]
  },
  {
   "cell_type": "code",
   "execution_count": 74,
   "id": "c43cf8e8",
   "metadata": {},
   "outputs": [
    {
     "data": {
      "image/png": "[encoded data removed]",
      "text/plain": [
       "<Figure size 640x480 with 1 Axes>"
      ]
     },
     "metadata": {},
     "output_type": "display_data"
    }
   ],
   "source": [
    "from mlxtend.plotting import plot_sequential_feature_selection as plot_sfs\n",
    "\n",
    "fig1 = plot_sfs(sfs_forward.get_metric_dict(), \n",
    "                ylabel='r2',\n",
    "                kind='std_dev')\n",
    "plt.xlim([0, 9])\n",
    "plt.title('Sequential Forward Selection (w. StdDev)')\n",
    "plt.grid()\n",
    "plt.show()"
   ]
  },
  {
   "cell_type": "markdown",
   "id": "3b5838cf",
   "metadata": {},
   "source": [
    "Above graph shows that among 9 feature groups having up to first 6 is useful remaining 3 have no impact therefore I will extract  first 6 feature group. "
   ]
  },
  {
   "cell_type": "markdown",
   "id": "02b51d5c",
   "metadata": {},
   "source": [
    "##### Extracting important features"
   ]
  },
  {
   "cell_type": "code",
   "execution_count": 75,
   "id": "bebc7b75",
   "metadata": {},
   "outputs": [
    {
     "name": "stderr",
     "output_type": "stream",
     "text": [
      "[Parallel(n_jobs=-1)]: Using backend LokyBackend with 20 concurrent workers.\n",
      "[Parallel(n_jobs=-1)]: Done   9 out of   9 | elapsed:    0.3s finished\n",
      "Features: 1/6[Parallel(n_jobs=-1)]: Using backend LokyBackend with 20 concurrent workers.\n",
      "[Parallel(n_jobs=-1)]: Done   5 out of   8 | elapsed:    0.3s remaining:    0.2s\n",
      "[Parallel(n_jobs=-1)]: Done   8 out of   8 | elapsed:    0.5s finished\n",
      "Features: 2/6[Parallel(n_jobs=-1)]: Using backend LokyBackend with 20 concurrent workers.\n",
      "[Parallel(n_jobs=-1)]: Done   7 out of   7 | elapsed:    0.3s finished\n",
      "Features: 3/6[Parallel(n_jobs=-1)]: Using backend LokyBackend with 20 concurrent workers.\n",
      "[Parallel(n_jobs=-1)]: Done   2 out of   6 | elapsed:    0.4s remaining:    0.7s\n",
      "[Parallel(n_jobs=-1)]: Done   6 out of   6 | elapsed:    0.4s finished\n",
      "Features: 4/6[Parallel(n_jobs=-1)]: Using backend LokyBackend with 20 concurrent workers.\n",
      "[Parallel(n_jobs=-1)]: Done   2 out of   5 | elapsed:    0.3s remaining:    0.5s\n",
      "[Parallel(n_jobs=-1)]: Done   5 out of   5 | elapsed:    0.4s finished\n",
      "Features: 5/6[Parallel(n_jobs=-1)]: Using backend LokyBackend with 20 concurrent workers.\n",
      "[Parallel(n_jobs=-1)]: Done   4 out of   4 | elapsed:    0.6s finished\n",
      "Features: 6/6"
     ]
    }
   ],
   "source": [
    "feature_names=Preprocessing_output.columns\n",
    "f_range = (2, Preprocessing_output.shape[1])\n",
    "sfs_forward = SFS(LinearRegression(), \n",
    "                  k_features=6, \n",
    "                  forward=True, \n",
    "                  floating=False, \n",
    "                  verbose=1,\n",
    "                  scoring='r2',\n",
    "                  feature_groups=feature_groups,\n",
    "                  cv=10, n_jobs = -1)\n",
    "\n",
    "sfs_forward = sfs_forward.fit(Preprocessing_output, y_train)"
   ]
  },
  {
   "cell_type": "code",
   "execution_count": 76,
   "id": "acbcc2c1",
   "metadata": {
    "scrolled": true
   },
   "outputs": [
    {
     "name": "stdout",
     "output_type": "stream",
     "text": [
      "('weather_main_new_0', 'weather_main_new_1', 'weather_main_new_2', 'weather_main_new_3', 'weather_main_new_4', 'month_0', 'month_1', 'month_2', 'month_3', 'month_4', 'month_5', 'week_0', 'week_1', 'week_2', 'hour_0', 'hour_1', 'hour_2', 'hour_3', 'hour_4', 'hour_5', 'hour_6', 'hour_7', 'hour_8', 'hour_9', 'hour_10', 'hour_11', 'temp', 'workingday')\n"
     ]
    }
   ],
   "source": [
    "print(sfs_forward.k_feature_names_)"
   ]
  },
  {
   "cell_type": "markdown",
   "id": "8231918f",
   "metadata": {},
   "source": [
    "##### Selecting important features and re-splitting data to include only the important features"
   ]
  },
  {
   "cell_type": "code",
   "execution_count": 77,
   "id": "50dddbc4",
   "metadata": {
    "scrolled": true
   },
   "outputs": [
    {
     "name": "stdout",
     "output_type": "stream",
     "text": [
      "(33742, 6) (33742, 1)\n",
      "(7231, 6) (7231, 1)\n",
      "(7231, 6) (7231, 1)\n"
     ]
    }
   ],
   "source": [
    "features=[\"temp\",\"month\",\"hour\",\"weekday\",\"workingday\",\"weather_main_new\"]\n",
    "y = df[[\"traffic_volume\"]]\n",
    "X = df[features]\n",
    "X_train, X_rem, y_train, y_rem = train_test_split(X,\n",
    "                                                  y,\n",
    "                                                  test_size=0.3,\n",
    "                                                  random_state=1)\n",
    "X_valid, X_test, y_valid, y_test = train_test_split(X_rem,\n",
    "                                                    y_rem,\n",
    "                                                    test_size=0.5,\n",
    "                                                    random_state=1)\n",
    "print(X_train.shape, y_train.shape)\n",
    "print(X_valid.shape, y_valid.shape)\n",
    "print(X_test.shape, y_test.shape)\n",
    "None"
   ]
  },
  {
   "cell_type": "markdown",
   "id": "51b4abd8",
   "metadata": {},
   "source": [
    "##### Testing models with new feature sets"
   ]
  },
  {
   "cell_type": "code",
   "execution_count": 78,
   "id": "a9bf8ec4",
   "metadata": {
    "scrolled": true
   },
   "outputs": [
    {
     "name": "stdout",
     "output_type": "stream",
     "text": [
      "[Pipeline] ........... (step 1 of 4) Processing imputer, total=   8.5s\n",
      "[Pipeline] ........ (step 2 of 4) Processing pandarizer, total=   0.0s\n",
      "[Pipeline] .... (step 3 of 4) Processing attrib_deriver, total=   0.1s\n",
      "[Pipeline] ............. (step 4 of 4) Processing model, total=   0.1s\n"
     ]
    },
    {
     "name": "stderr",
     "output_type": "stream",
     "text": [
      "/home/pelin/anaconda3/lib/python3.9/site-packages/sklearn/preprocessing/_encoders.py:868: FutureWarning: `sparse` was renamed to `sparse_output` in version 1.2 and will be removed in 1.4. `sparse_output` is ignored unless you leave `sparse` to its default value.\n",
      "  warnings.warn(\n"
     ]
    },
    {
     "name": "stdout",
     "output_type": "stream",
     "text": [
      "\n",
      "==============================================================================\n",
      "MAE:  640.1656928502282\n",
      "RMSE:  906.3160094808914\n",
      "R2:  0.7921415858835307\n"
     ]
    }
   ],
   "source": [
    "names = X_train.columns.tolist()\n",
    "cyclic_spline_linearpipe_interactions.fit(X_train, y_train)\n",
    "y_pred = cyclic_spline_linearpipe_interactions.predict(X_test)\n",
    "printMetrics(y_test,y_pred)"
   ]
  },
  {
   "cell_type": "code",
   "execution_count": 79,
   "id": "c2cfe933",
   "metadata": {
    "scrolled": true
   },
   "outputs": [
    {
     "name": "stdout",
     "output_type": "stream",
     "text": [
      "linear model number of coefficents (1, 73)\n"
     ]
    }
   ],
   "source": [
    "print(f\"linear model number of coefficents {cyclic_spline_linearpipe_interactions.named_steps['model'].coef_.shape}\")"
   ]
  },
  {
   "cell_type": "markdown",
   "id": "420791a0",
   "metadata": {},
   "source": [
    "Performance of final linear model very slightly increased(It was MAE:  640.63 before now MAE is 640.25 ) which proved last 3 feature didn't had any positive contribution in model efficiency, instead due to high dimensionality they had slight negative impact on the model."
   ]
  },
  {
   "cell_type": "code",
   "execution_count": 80,
   "id": "657d2fb6",
   "metadata": {
    "scrolled": false
   },
   "outputs": [
    {
     "name": "stdout",
     "output_type": "stream",
     "text": [
      "[Pipeline] ........... (step 1 of 5) Processing imputer, total=   8.4s\n",
      "[Pipeline] ........ (step 2 of 5) Processing pandarizer, total=   0.0s\n",
      "[Pipeline] ........... (step 3 of 5) Processing encoder, total=   0.0s\n",
      "[Pipeline] ............. (step 4 of 5) Processing trans, total=   0.1s\n"
     ]
    },
    {
     "name": "stderr",
     "output_type": "stream",
     "text": [
      "/home/pelin/anaconda3/lib/python3.9/site-packages/sklearn/preprocessing/_encoders.py:868: FutureWarning: `sparse` was renamed to `sparse_output` in version 1.2 and will be removed in 1.4. `sparse_output` is ignored unless you leave `sparse` to its default value.\n",
      "  warnings.warn(\n",
      "/home/pelin/anaconda3/lib/python3.9/site-packages/sklearn/utils/validation.py:1143: DataConversionWarning: A column-vector y was passed when a 1d array was expected. Please change the shape of y to (n_samples, ), for example using ravel().\n",
      "  y = column_or_1d(y, warn=True)\n"
     ]
    },
    {
     "name": "stdout",
     "output_type": "stream",
     "text": [
      "[Pipeline] ............. (step 5 of 5) Processing model, total=   5.8s\n",
      "\n",
      "==============================================================================\n",
      "MAE:  495.42740929972274\n",
      "RMSE:  805.5782596000925\n",
      "R2:  0.8357808572196368\n"
     ]
    }
   ],
   "source": [
    "cyclic_spline_SGD_pipe.fit(X_train, y_train)\n",
    "y_pred = cyclic_spline_SGD_pipe.predict(X_test)\n",
    "printMetrics(y_test,y_pred)"
   ]
  },
  {
   "cell_type": "code",
   "execution_count": 81,
   "id": "96046f1f",
   "metadata": {},
   "outputs": [
    {
     "name": "stdout",
     "output_type": "stream",
     "text": [
      "sgd model number of coefficents(435,)\n"
     ]
    }
   ],
   "source": [
    "print(f\"sgd model number of coefficents{cyclic_spline_SGD_pipe.named_steps['model'].coef_.shape}\")"
   ]
  },
  {
   "cell_type": "markdown",
   "id": "416230a9",
   "metadata": {},
   "source": [
    "Performance of SGD almost didn't change very slight variations after decimal can be due to picking random sample at each step so it would be wrong to note down small improvement on RMSE and R2 for SGD but result proved last 3 feature didn't had any positive contribution in model efficiency. Furthermore, removing those 3 feature reduced number of coefficent in SGD model from 528 to 435 and improved its scalability."
   ]
  },
  {
   "cell_type": "markdown",
   "id": "7f79cb28",
   "metadata": {},
   "source": [
    "##### Validating results"
   ]
  },
  {
   "cell_type": "markdown",
   "id": "6084bcac",
   "metadata": {},
   "source": [
    "All feature engineering performed by testing models on test dataset to optimize so far. Therefore, it might be effected from test data set over fit it and might include bias. In order to validate model performance, I will test the  models on validation dataset to see results and confirm there is no over fitting and approach is truely viable. "
   ]
  },
  {
   "cell_type": "code",
   "execution_count": 82,
   "id": "a1206418",
   "metadata": {
    "scrolled": true
   },
   "outputs": [
    {
     "name": "stdout",
     "output_type": "stream",
     "text": [
      "\n",
      "==============================================================================\n",
      "MAE:  625.4451320702531\n",
      "RMSE:  892.8737540039634\n",
      "R2:  0.7993801060035376\n"
     ]
    }
   ],
   "source": [
    "y_valid_pred_linear = cyclic_spline_linearpipe_interactions.predict(X_valid)\n",
    "printMetrics(y_valid,y_valid_pred_linear)"
   ]
  },
  {
   "cell_type": "code",
   "execution_count": 83,
   "id": "a129c616",
   "metadata": {
    "scrolled": false
   },
   "outputs": [
    {
     "name": "stdout",
     "output_type": "stream",
     "text": [
      "\n",
      "==============================================================================\n",
      "MAE:  480.5648431008701\n",
      "RMSE:  779.8772095270493\n",
      "R2:  0.8469454162480897\n"
     ]
    }
   ],
   "source": [
    "y_valid_pred_sgd = cyclic_spline_SGD_pipe.predict(X_valid)\n",
    "printMetrics(y_valid,y_valid_pred_sgd)"
   ]
  },
  {
   "cell_type": "markdown",
   "id": "3724ae0a",
   "metadata": {},
   "source": [
    "It is confirmed that both model perform as good in fully independent dataset while there is no bias so they didn't overfit and they are consistent. Secondly it is confirmed that SGD model succeed on archiving a desired MAE target and can be the more viable option for this prediction task. "
   ]
  }
 ],
 "metadata": {
  "kernelspec": {
   "display_name": "advancedml",
   "language": "python",
   "name": "advancedml"
  },
  "language_info": {
   "codemirror_mode": {
    "name": "ipython",
    "version": 3
   },
   "file_extension": ".py",
   "mimetype": "text/x-python",
   "name": "python",
   "nbconvert_exporter": "python",
   "pygments_lexer": "ipython3",
   "version": "3.9.13"
  },
  "nbTranslate": {
   "displayLangs": [
    "en"
   ],
   "hotkey": "alt-t",
   "langInMainMenu": true,
   "sourceLang": "en",
   "targetLang": "fr",
   "useGoogleTranslate": true
  },
  "toc": {
   "base_numbering": 1,
   "nav_menu": {},
   "number_sections": true,
   "sideBar": true,
   "skip_h1_title": false,
   "title_cell": "Table of Contents",
   "title_sidebar": "Contents",
   "toc_cell": false,
   "toc_position": {},
   "toc_section_display": true,
   "toc_window_display": false
  }
 },
 "nbformat": 4,
 "nbformat_minor": 5
}
