{
 "cells": [
  {
   "cell_type": "markdown",
   "id": "3e74ef90",
   "metadata": {},
   "source": [
    "# Pyspark"
   ]
  },
  {
   "cell_type": "markdown",
   "id": "4bf9dee6",
   "metadata": {},
   "source": [
    "## Exporing worldle game results dataset \n",
    "https://www.powerlanguage.co.uk/wordle/"
   ]
  },
  {
   "cell_type": "code",
   "execution_count": 1,
   "id": "1a933df0",
   "metadata": {},
   "outputs": [],
   "source": [
    "import os\n",
    "os.environ[\"JAVA_HOME\"] = \"/usr/lib/jvm/java-8-openjdk-amd64\"\n",
    "os.environ[\"SPARK_HOME\"] = \"/home/pkeskin/spark-3.3.1-bin-hadoop3\""
   ]
  },
  {
   "cell_type": "code",
   "execution_count": 2,
   "id": "dbb4a0d9",
   "metadata": {},
   "outputs": [],
   "source": [
    "import findspark\n",
    "findspark.init()"
   ]
  },
  {
   "cell_type": "code",
   "execution_count": 3,
   "id": "75bbd12f",
   "metadata": {
    "scrolled": false
   },
   "outputs": [
    {
     "name": "stdout",
     "output_type": "stream",
     "text": [
      "22/12/05 17:56:15 WARN Utils: Your hostname, DESKTOP-1IULVBG resolves to a loopback address: 127.0.1.1; using 172.18.194.20 instead (on interface eth0)\n",
      "22/12/05 17:56:15 WARN Utils: Set SPARK_LOCAL_IP if you need to bind to another address\n"
     ]
    },
    {
     "name": "stderr",
     "output_type": "stream",
     "text": [
      "Setting default log level to \"WARN\".\n",
      "To adjust logging level use sc.setLogLevel(newLevel). For SparkR, use setLogLevel(newLevel).\n"
     ]
    },
    {
     "name": "stdout",
     "output_type": "stream",
     "text": [
      "22/12/05 17:56:18 WARN NativeCodeLoader: Unable to load native-hadoop library for your platform... using builtin-java classes where applicable\n"
     ]
    },
    {
     "data": {
      "text/html": [
       "\n",
       "            <div>\n",
       "                <p><b>SparkSession - in-memory</b></p>\n",
       "                \n",
       "        <div>\n",
       "            <p><b>SparkContext</b></p>\n",
       "\n",
       "            <p><a href=\"http://172.18.194.20:4040\">Spark UI</a></p>\n",
       "\n",
       "            <dl>\n",
       "              <dt>Version</dt>\n",
       "                <dd><code>v3.3.1</code></dd>\n",
       "              <dt>Master</dt>\n",
       "                <dd><code>local[*]</code></dd>\n",
       "              <dt>AppName</dt>\n",
       "                <dd><code>pyspark-shell</code></dd>\n",
       "            </dl>\n",
       "        </div>\n",
       "        \n",
       "            </div>\n",
       "        "
      ],
      "text/plain": [
       "<pyspark.sql.session.SparkSession at 0x7fb18d273700>"
      ]
     },
     "execution_count": 3,
     "metadata": {},
     "output_type": "execute_result"
    }
   ],
   "source": [
    "from pyspark.sql import SparkSession\n",
    "spark = SparkSession.builder.master(\"local[*]\").getOrCreate()\n",
    "spark.conf.set(\"spark.sql.repl.eagerEval.enabled\", True) #  This will format our output tables a bit nicer when not using the show() method\n",
    "spark"
   ]
  },
  {
   "cell_type": "code",
   "execution_count": 4,
   "id": "adda5253",
   "metadata": {},
   "outputs": [
    {
     "name": "stdout",
     "output_type": "stream",
     "text": [
      "8\n"
     ]
    }
   ],
   "source": [
    "import multiprocessing\n",
    "print(multiprocessing.cpu_count())"
   ]
  },
  {
   "cell_type": "code",
   "execution_count": 5,
   "id": "c8887248",
   "metadata": {},
   "outputs": [],
   "source": [
    "# Creating our SparkContext:\n",
    "sc = spark.sparkContext"
   ]
  },
  {
   "cell_type": "markdown",
   "id": "c1f7888a",
   "metadata": {},
   "source": [
    "checking what input looks like"
   ]
  },
  {
   "cell_type": "code",
   "execution_count": 6,
   "id": "b90035d0",
   "metadata": {
    "scrolled": true
   },
   "outputs": [
    {
     "name": "stdout",
     "output_type": "stream",
     "text": [
      "234\t1491254933810728970\t2022-02-09 03:37:37+00:00\tScoutsScop3\tWordle 234 6/6  ⬛🟩🟨🟨⬛ 🟨🟩⬛⬛🟩 ⬛🟩🟩⬛🟩 ⬛🟩🟩⬛🟩 ⬛🟩🟩⬛🟩 🟩🟩🟩🟩🟩  Almost took the L today 😂 but thanks to le gf, we stayed in the game\r",
      "\r\n",
      "234\t1491254936881045507\t2022-02-09 03:37:37+00:00\tTempeteenjuin\tWordle 234 5/6  ⬜🟩🟨🟨⬜ ⬜🟩🟩⬜🟩 ⬜🟩🟩⬜🟩 ⬜🟩🟩⬜🟩 🟩🟩🟩🟩🟩\r",
      "\r\n",
      "234\t1491254937153593345\t2022-02-09 03:37:37+00:00\tminv_twt\tWordle 234 4/6  🟩⬛⬛⬛⬛ 🟩🟩⬛⬛⬛ 🟩🟩🟨🟨⬛ 🟩🟩🟩🟩🟩\r",
      "\r\n",
      "234\t1491254941083705345\t2022-02-09 03:37:38+00:00\tmachucki_d\tWordle 234 2/6  ⬛⬛⬛⬛⬛ 🟩🟩🟩🟩🟩\r",
      "\r\n",
      "234\t1491254942639788034\t2022-02-09 03:37:39+00:00\tzilla_jones\tWordle 234 4/6  ⬜🟩🟩⬜🟩 ⬜🟩🟩⬜🟩 ⬜🟩🟩⬜🟩 🟩🟩🟩🟩🟩Booyah! (There are two many possibilities for those two letters.)\r",
      "\r\n"
     ]
    }
   ],
   "source": [
    "! tail -n 5 tweets.tsv"
   ]
  },
  {
   "cell_type": "markdown",
   "id": "34e54dd1",
   "metadata": {},
   "source": [
    "### 1. Launch Spark and create your RDD/DataFrame from the input file."
   ]
  },
  {
   "cell_type": "code",
   "execution_count": 7,
   "id": "adc77c3a",
   "metadata": {
    "scrolled": true
   },
   "outputs": [
    {
     "name": "stderr",
     "output_type": "stream",
     "text": [
      "                                                                                \r"
     ]
    }
   ],
   "source": [
    "df = spark.read.options(delimiter=\"\\t\", header=True, inferSchema=True).csv(\"tweets.tsv\")"
   ]
  },
  {
   "cell_type": "code",
   "execution_count": 8,
   "id": "e59d5a4f",
   "metadata": {
    "scrolled": true
   },
   "outputs": [
    {
     "name": "stdout",
     "output_type": "stream",
     "text": [
      "root\n",
      " |-- wordle_id: integer (nullable = true)\n",
      " |-- tweet_id: long (nullable = true)\n",
      " |-- tweet_date: timestamp (nullable = true)\n",
      " |-- tweet_username: string (nullable = true)\n",
      " |-- tweet_text: string (nullable = true)\n",
      "\n"
     ]
    }
   ],
   "source": [
    "df.printSchema()"
   ]
  },
  {
   "cell_type": "code",
   "execution_count": 9,
   "id": "e8362c9c",
   "metadata": {
    "scrolled": true
   },
   "outputs": [
    {
     "name": "stdout",
     "output_type": "stream",
     "text": [
      "+---------+-------------------+-------------------+--------------+--------------------+\n",
      "|wordle_id|           tweet_id|         tweet_date|tweet_username|          tweet_text|\n",
      "+---------+-------------------+-------------------+--------------+--------------------+\n",
      "|      210|1482553374591660037|2022-01-16 03:20:43|      bpszebes|Wordle 210 4/6  ⬛...|\n",
      "|      210|1482553387937898499|2022-01-16 03:20:46|    cruisecoup|Wordle 210 4/6  ⬜...|\n",
      "|      210|1482553422276698113|2022-01-16 03:20:55|    DestroVega|Wordle 210 4/6  ⬜...|\n",
      "|      210|1482553436910628866|2022-01-16 03:20:58|   brenmardash|Wordle 210 3/6  ⬜...|\n",
      "|      210|1482553445726908420|2022-01-16 03:21:00|   KatieHowse2|Wordle 210 3/6  ⬛...|\n",
      "+---------+-------------------+-------------------+--------------+--------------------+\n",
      "only showing top 5 rows\n",
      "\n"
     ]
    }
   ],
   "source": [
    "df.select(\"*\").show(5)"
   ]
  },
  {
   "cell_type": "markdown",
   "id": "95109fc1",
   "metadata": {},
   "source": [
    "### 2. Which Wordle puzzle in the dataset was the most tweeted about?"
   ]
  },
  {
   "cell_type": "code",
   "execution_count": 10,
   "id": "914cfc78",
   "metadata": {
    "scrolled": true
   },
   "outputs": [
    {
     "name": "stderr",
     "output_type": "stream",
     "text": [
      "\r",
      "[Stage 3:=========>                                                 (1 + 5) / 6]\r"
     ]
    },
    {
     "name": "stdout",
     "output_type": "stream",
     "text": [
      "+---------+-----+\n",
      "|wordle_id|count|\n",
      "+---------+-----+\n",
      "|      223|15776|\n",
      "+---------+-----+\n",
      "only showing top 1 row\n",
      "\n"
     ]
    },
    {
     "name": "stderr",
     "output_type": "stream",
     "text": [
      "\r",
      "                                                                                \r"
     ]
    }
   ],
   "source": [
    "df.groupBy(\"wordle_id\").count().orderBy('count', ascending=0).show(1)"
   ]
  },
  {
   "cell_type": "markdown",
   "id": "a29fcb48",
   "metadata": {},
   "source": [
    "### 3. How many times do the words ”play”, ”the” and ”wordle” occur in the tweet text column? Return the results in descending order of count. Note: Your answer should be case-insensitive e.g. ”wordle”, ”Wordle” and ”WORDLE” could all be counted as ”wordle”)."
   ]
  },
  {
   "cell_type": "code",
   "execution_count": 11,
   "id": "c990d33d",
   "metadata": {
    "scrolled": false
   },
   "outputs": [
    {
     "name": "stderr",
     "output_type": "stream",
     "text": [
      "                                                                                \r"
     ]
    },
    {
     "data": {
      "text/plain": [
       "[('Wordle', 137362),\n",
       " ('the', 3372),\n",
       " ('wordle', 720),\n",
       " ('The', 241),\n",
       " ('play', 182),\n",
       " ('THE', 81),\n",
       " ('WORDLE', 37),\n",
       " ('Play', 3),\n",
       " ('PLAY', 1)]"
      ]
     },
     "execution_count": 11,
     "metadata": {},
     "output_type": "execute_result"
    }
   ],
   "source": [
    "import re\n",
    "b = r'(\\s|^|$)' \n",
    "df.select(\"tweet_text\").rdd.flatMap(lambda x: x.tweet_text.split(\" \"))\\\n",
    ".filter(lambda word: len(re.findall(b +\"play\"+b,word.lower())+re.findall(b +\"the\"+b,word.lower())+re.findall(b +\"wordle\"+b,word.lower()))>0)\\\n",
    ".map(lambda word: (word, 1))\\\n",
    ".reduceByKey(lambda x, y: x + y).sortBy(lambda t: t[1], False).collect()"
   ]
  },
  {
   "cell_type": "markdown",
   "id": "8cde4e86",
   "metadata": {},
   "source": [
    "### 4. On what day of the week did people tweet the most games? Hint: Use the date format method and Datetime Patterns."
   ]
  },
  {
   "cell_type": "code",
   "execution_count": 12,
   "id": "c91e2ddf",
   "metadata": {},
   "outputs": [],
   "source": [
    "from pyspark.sql.functions import dayofweek, count"
   ]
  },
  {
   "cell_type": "code",
   "execution_count": 15,
   "id": "b9b6a490",
   "metadata": {
    "scrolled": false
   },
   "outputs": [
    {
     "name": "stdout",
     "output_type": "stream",
     "text": [
      "+---------+-----+\n",
      "|dayofweek|count|\n",
      "+---------+-----+\n",
      "|        6|28737|\n",
      "+---------+-----+\n",
      "only showing top 1 row\n",
      "\n"
     ]
    }
   ],
   "source": [
    "(df.groupBy(dayofweek(\"tweet_date\").alias(\"dayofweek\"))\n",
    ".agg(count(dayofweek(\"tweet_date\")).alias(\"count\"))\n",
    ".orderBy('count', ascending=0).show(1))"
   ]
  }
 ],
 "metadata": {
  "kernelspec": {
   "display_name": "advancedml",
   "language": "python",
   "name": "advancedml"
  },
  "language_info": {
   "codemirror_mode": {
    "name": "ipython",
    "version": 3
   },
   "file_extension": ".py",
   "mimetype": "text/x-python",
   "name": "python",
   "nbconvert_exporter": "python",
   "pygments_lexer": "ipython3",
   "version": "3.9.13"
  },
  "nbTranslate": {
   "displayLangs": [
    "*"
   ],
   "hotkey": "alt-t",
   "langInMainMenu": true,
   "sourceLang": "en",
   "targetLang": "fr",
   "useGoogleTranslate": true
  },
  "toc": {
   "base_numbering": 1,
   "nav_menu": {},
   "number_sections": true,
   "sideBar": true,
   "skip_h1_title": false,
   "title_cell": "Table of Contents",
   "title_sidebar": "Contents",
   "toc_cell": false,
   "toc_position": {},
   "toc_section_display": true,
   "toc_window_display": false
  }
 },
 "nbformat": 4,
 "nbformat_minor": 5
}
