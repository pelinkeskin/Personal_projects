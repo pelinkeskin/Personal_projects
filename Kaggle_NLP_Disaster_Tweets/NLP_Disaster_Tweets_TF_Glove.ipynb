{
 "cells": [
  {
   "cell_type": "markdown",
   "id": "3e029b32",
   "metadata": {},
   "source": [
    "# NLP with Disaster Tweets: Tensorflow LSTM-CNN-Glove"
   ]
  },
  {
   "cell_type": "markdown",
   "id": "e5ef3774",
   "metadata": {},
   "source": [
    "### Abstract"
   ]
  },
  {
   "cell_type": "markdown",
   "id": "39e50f6f",
   "metadata": {},
   "source": [
    "In this notebook, I undertook the preprocessing of the dataset and tailored it for DNN training. Initially, I conducted experiments with LSTM, training the embedding layer within the network. However, this approach resulted in overfitting due to the limited size of the training data. Subsequently, I incorporated a 200-dimensional Twitter version of Stanford's [GloVe](https://nlp.stanford.edu/projects/glove/) embeddings, exploring various architectures and ultimately opting for a straightforward LSTM-CNN hybrid model. To refine the model further, I fine-tuned the hyperparameters of the LSTM-CNN hybrid using Bayesian Optimization with Keras Tuner."
   ]
  },
  {
   "cell_type": "markdown",
   "id": "2ee5e190",
   "metadata": {},
   "source": [
    "### Importing useful libraries"
   ]
  },
  {
   "cell_type": "code",
   "execution_count": 1,
   "id": "5a34a747",
   "metadata": {},
   "outputs": [],
   "source": [
    "import os\n",
    "#os.environ['TF_CPP_MIN_LOG_LEVEL'] = '2' "
   ]
  },
  {
   "cell_type": "code",
   "execution_count": 2,
   "id": "2ee7a2f4",
   "metadata": {
    "scrolled": true
   },
   "outputs": [
    {
     "name": "stderr",
     "output_type": "stream",
     "text": [
      "2023-11-13 17:52:45.670161: I tensorflow/core/util/port.cc:111] oneDNN custom operations are on. You may see slightly different numerical results due to floating-point round-off errors from different computation orders. To turn them off, set the environment variable `TF_ENABLE_ONEDNN_OPTS=0`.\n",
      "2023-11-13 17:52:45.703259: E tensorflow/compiler/xla/stream_executor/cuda/cuda_dnn.cc:9342] Unable to register cuDNN factory: Attempting to register factory for plugin cuDNN when one has already been registered\n",
      "2023-11-13 17:52:45.703280: E tensorflow/compiler/xla/stream_executor/cuda/cuda_fft.cc:609] Unable to register cuFFT factory: Attempting to register factory for plugin cuFFT when one has already been registered\n",
      "2023-11-13 17:52:45.703293: E tensorflow/compiler/xla/stream_executor/cuda/cuda_blas.cc:1518] Unable to register cuBLAS factory: Attempting to register factory for plugin cuBLAS when one has already been registered\n",
      "2023-11-13 17:52:45.709314: I tensorflow/core/platform/cpu_feature_guard.cc:182] This TensorFlow binary is optimized to use available CPU instructions in performance-critical operations.\n",
      "To enable the following instructions: AVX2 AVX_VNNI FMA, in other operations, rebuild TensorFlow with the appropriate compiler flags.\n"
     ]
    }
   ],
   "source": [
    "import pandas as pd\n",
    "import numpy as np\n",
    "import tensorflow as tf\n",
    "from tensorflow.keras.preprocessing.text import Tokenizer\n",
    "from tensorflow.keras.preprocessing.sequence import pad_sequences\n",
    "from sklearn.model_selection import train_test_split"
   ]
  },
  {
   "cell_type": "code",
   "execution_count": 3,
   "id": "57bcfbf3",
   "metadata": {
    "scrolled": true
   },
   "outputs": [
    {
     "name": "stderr",
     "output_type": "stream",
     "text": [
      "2023-11-13 17:52:47.756837: I tensorflow/compiler/xla/stream_executor/cuda/cuda_gpu_executor.cc:894] successful NUMA node read from SysFS had negative value (-1), but there must be at least one NUMA node, so returning NUMA node zero. See more at https://github.com/torvalds/linux/blob/v6.0/Documentation/ABI/testing/sysfs-bus-pci#L344-L355\n",
      "2023-11-13 17:52:47.765815: I tensorflow/compiler/xla/stream_executor/cuda/cuda_gpu_executor.cc:894] successful NUMA node read from SysFS had negative value (-1), but there must be at least one NUMA node, so returning NUMA node zero. See more at https://github.com/torvalds/linux/blob/v6.0/Documentation/ABI/testing/sysfs-bus-pci#L344-L355\n",
      "2023-11-13 17:52:47.766054: I tensorflow/compiler/xla/stream_executor/cuda/cuda_gpu_executor.cc:894] successful NUMA node read from SysFS had negative value (-1), but there must be at least one NUMA node, so returning NUMA node zero. See more at https://github.com/torvalds/linux/blob/v6.0/Documentation/ABI/testing/sysfs-bus-pci#L344-L355\n"
     ]
    }
   ],
   "source": [
    "physical_devices = tf.config.list_physical_devices('GPU')\n",
    "tf.config.experimental.set_memory_growth(physical_devices[0], enable=True)"
   ]
  },
  {
   "cell_type": "code",
   "execution_count": 4,
   "id": "705510d4",
   "metadata": {},
   "outputs": [],
   "source": [
    "# for reproducibility\n",
    "seed0=1337\n",
    "np.random.seed(seed0) \n",
    "tf.keras.utils.set_random_seed(seed0)\n",
    "tf.config.experimental.enable_op_determinism()"
   ]
  },
  {
   "cell_type": "code",
   "execution_count": 5,
   "id": "6d338776",
   "metadata": {},
   "outputs": [],
   "source": [
    "pd.set_option('display.max_colwidth', None)"
   ]
  },
  {
   "cell_type": "code",
   "execution_count": 6,
   "id": "41ccdebe",
   "metadata": {},
   "outputs": [
    {
     "name": "stderr",
     "output_type": "stream",
     "text": [
      "[nltk_data] Downloading package stopwords to /home/pelin/nltk_data...\n",
      "[nltk_data]   Package stopwords is already up-to-date!\n"
     ]
    },
    {
     "data": {
      "text/plain": [
       "True"
      ]
     },
     "execution_count": 6,
     "metadata": {},
     "output_type": "execute_result"
    }
   ],
   "source": [
    "import string\n",
    "import nltk\n",
    "nltk.download('stopwords')"
   ]
  },
  {
   "cell_type": "code",
   "execution_count": 7,
   "id": "c602d28e",
   "metadata": {},
   "outputs": [],
   "source": [
    "from nltk.corpus import stopwords\n",
    "import re"
   ]
  },
  {
   "cell_type": "markdown",
   "id": "a8a56c46",
   "metadata": {},
   "source": [
    "## Preprocessing"
   ]
  },
  {
   "cell_type": "code",
   "execution_count": 8,
   "id": "12c78104",
   "metadata": {},
   "outputs": [],
   "source": [
    "df=pd.read_csv(\"train.csv\")"
   ]
  },
  {
   "cell_type": "code",
   "execution_count": 9,
   "id": "a803a733",
   "metadata": {
    "scrolled": true
   },
   "outputs": [
    {
     "data": {
      "text/plain": [
       "(7613, 5)"
      ]
     },
     "metadata": {},
     "output_type": "display_data"
    },
    {
     "data": {
      "text/html": [
       "<div>\n",
       "<style scoped>\n",
       "    .dataframe tbody tr th:only-of-type {\n",
       "        vertical-align: middle;\n",
       "    }\n",
       "\n",
       "    .dataframe tbody tr th {\n",
       "        vertical-align: top;\n",
       "    }\n",
       "\n",
       "    .dataframe thead th {\n",
       "        text-align: right;\n",
       "    }\n",
       "</style>\n",
       "<table border=\"1\" class=\"dataframe\">\n",
       "  <thead>\n",
       "    <tr style=\"text-align: right;\">\n",
       "      <th></th>\n",
       "      <th>id</th>\n",
       "      <th>keyword</th>\n",
       "      <th>location</th>\n",
       "      <th>text</th>\n",
       "      <th>target</th>\n",
       "    </tr>\n",
       "  </thead>\n",
       "  <tbody>\n",
       "    <tr>\n",
       "      <th>0</th>\n",
       "      <td>1</td>\n",
       "      <td>NaN</td>\n",
       "      <td>NaN</td>\n",
       "      <td>Our Deeds are the Reason of this #earthquake May ALLAH Forgive us all</td>\n",
       "      <td>1</td>\n",
       "    </tr>\n",
       "    <tr>\n",
       "      <th>1</th>\n",
       "      <td>4</td>\n",
       "      <td>NaN</td>\n",
       "      <td>NaN</td>\n",
       "      <td>Forest fire near La Ronge Sask. Canada</td>\n",
       "      <td>1</td>\n",
       "    </tr>\n",
       "    <tr>\n",
       "      <th>2</th>\n",
       "      <td>5</td>\n",
       "      <td>NaN</td>\n",
       "      <td>NaN</td>\n",
       "      <td>All residents asked to 'shelter in place' are being notified by officers. No other evacuation or shelter in place orders are expected</td>\n",
       "      <td>1</td>\n",
       "    </tr>\n",
       "    <tr>\n",
       "      <th>3</th>\n",
       "      <td>6</td>\n",
       "      <td>NaN</td>\n",
       "      <td>NaN</td>\n",
       "      <td>13,000 people receive #wildfires evacuation orders in California</td>\n",
       "      <td>1</td>\n",
       "    </tr>\n",
       "    <tr>\n",
       "      <th>4</th>\n",
       "      <td>7</td>\n",
       "      <td>NaN</td>\n",
       "      <td>NaN</td>\n",
       "      <td>Just got sent this photo from Ruby #Alaska as smoke from #wildfires pours into a school</td>\n",
       "      <td>1</td>\n",
       "    </tr>\n",
       "  </tbody>\n",
       "</table>\n",
       "</div>"
      ],
      "text/plain": [
       "   id keyword location  \\\n",
       "0   1     NaN      NaN   \n",
       "1   4     NaN      NaN   \n",
       "2   5     NaN      NaN   \n",
       "3   6     NaN      NaN   \n",
       "4   7     NaN      NaN   \n",
       "\n",
       "                                                                                                                                    text  \\\n",
       "0                                                                  Our Deeds are the Reason of this #earthquake May ALLAH Forgive us all   \n",
       "1                                                                                                 Forest fire near La Ronge Sask. Canada   \n",
       "2  All residents asked to 'shelter in place' are being notified by officers. No other evacuation or shelter in place orders are expected   \n",
       "3                                                                      13,000 people receive #wildfires evacuation orders in California    \n",
       "4                                               Just got sent this photo from Ruby #Alaska as smoke from #wildfires pours into a school    \n",
       "\n",
       "   target  \n",
       "0       1  \n",
       "1       1  \n",
       "2       1  \n",
       "3       1  \n",
       "4       1  "
      ]
     },
     "metadata": {},
     "output_type": "display_data"
    }
   ],
   "source": [
    "display(df.shape)\n",
    "display(df.head(5))"
   ]
  },
  {
   "cell_type": "code",
   "execution_count": 10,
   "id": "732bc3ba",
   "metadata": {},
   "outputs": [],
   "source": [
    "#splitting dataset to train-test segments for training and validation\n",
    "def parse_data_from_dataframe(df):\n",
    "    sentences = df['text']\n",
    "    labels = df['target']\n",
    "    X_train, X_test, y_train, y_test = train_test_split(sentences,\n",
    "                                                  labels,\n",
    "                                                  test_size=0.25,\n",
    "                                                  random_state=seed0,\n",
    "                                                       shuffle=True)\n",
    "    \n",
    "    return X_train, X_test, y_train, y_test"
   ]
  },
  {
   "cell_type": "markdown",
   "id": "a6088bba",
   "metadata": {},
   "source": [
    "Source for some of the twitter specific regex: https://www.kaggle.com/code/stoicstatic/twitter-sentiment-analysis-using-word2vec-bilstm "
   ]
  },
  {
   "cell_type": "code",
   "execution_count": 11,
   "id": "4932e422",
   "metadata": {},
   "outputs": [],
   "source": [
    "def remove_stopwords(sentence):\n",
    "    # Replace all URls with '<url>'\n",
    "    sentence = re.sub(r'''(?i)\\b((?:https?://|www\\d{0,3}[.]|[a-z0-9.\\-]+[.][a-z]{2,4}/)(?:[^\\s()<>]+|\\(([^\\s()<>]+|(\\([^\\s()<>]+\\)))*\\))+(?:\\(([^\\s()<>]+|(\\([^\\s()<>]+\\)))*\\)|[^\\s`!()\\[\\]{};:'\".,<>?«»“”‘’]))''', \"<url>\", sentence)\n",
    "    # Adding space on either side of '/' to seperate words (After replacing URLS).\n",
    "    sentence = re.sub(r'/', ' / ', sentence)\n",
    "    # Replace @USERNAME to '<user>'.\n",
    "    sentence = re.sub('@[^\\s]+','<user>', sentence)\n",
    "    # Replace 3 or more consecutive letters by 2 letter.\n",
    "    sentence = re.sub(r\"(.)\\1\\1+\", r\"\\1\\1\", sentence)\n",
    "    \n",
    "    # Replace all emojis.\n",
    "    sentence = re.sub(r'<3', '<heart>', sentence)\n",
    "    sentence = re.sub(r\"[8:=;]['`\\-]?[)d]+\", '<smile>', sentence)\n",
    "    sentence = re.sub(r\"[8:=;]['`\\-]?\\(+\", '<sadface>', sentence)\n",
    "    sentence = re.sub(r\"[8:=;]['`\\-]?[\\/|l*]\", '<neutralface>', sentence)\n",
    "    sentence = re.sub(r\"[8:=;]['`\\-]?p+\", '<lolface>', sentence)\n",
    "    \n",
    "\n",
    "    #removing punctuation\n",
    "    sentence  = \"\".join([char for char in sentence if char not in string.punctuation])\n",
    "    #removing numerics\n",
    "    sentence = re.sub('[0-9]+', '', sentence)\n",
    "    \n",
    "    #stopwords_list = list(set(stopwords.words('english')))\n",
    "    #sentence=[x for x in sentence if x not in stopwords_list]\n",
    "    sentence = sentence.lower().split()\n",
    "    \n",
    "    return \" \".join(sentence)"
   ]
  },
  {
   "cell_type": "code",
   "execution_count": 12,
   "id": "258d6c60",
   "metadata": {},
   "outputs": [],
   "source": [
    "X_train, X_test, y_train, y_test = parse_data_from_dataframe(df)"
   ]
  },
  {
   "cell_type": "code",
   "execution_count": 13,
   "id": "3a34f1df",
   "metadata": {
    "scrolled": true
   },
   "outputs": [
    {
     "data": {
      "text/plain": [
       "111                                                                                  So i guess no one actually wants any free Aftershock TC.....\n",
       "1938                              Had to cancel my cats doctor appointment because she decided to go out and play and not come home by curfew ...\n",
       "3053                                                                 M1.57 [01:11 UTC]?3km NNW of Lake Henshaw California. http://t.co/f9KQksoSw3\n",
       "7177             70 years ago today the U.S.  dropped a nuclear weapon on Japan. Here are some articles that share my opinion on that decisionÛ_\n",
       "6040                                        New post from @SeismicSoftware: 3 Major Challenges of Channel Sales Enablement http://t.co/kWMRCEkVTF\n",
       "3254                                                         @godsfirstson1 and she wrapped his coat around herself. It practically engulfed her.\n",
       "3558    @FinancialTimes Ethiopian regimes continue receiving foreign aid when famine struck for 2 years eastern Ethiopia  https://t.co/2fGgzQn1v4\n",
       "44                                                   I wanted to set Chicago ablaze with my preaching... But not my hotel! http://t.co/o9qknbfOFX\n",
       "Name: text, dtype: object"
      ]
     },
     "execution_count": 13,
     "metadata": {},
     "output_type": "execute_result"
    }
   ],
   "source": [
    "#checking samples from the dataset before preprocess\n",
    "X_train[51:59]"
   ]
  },
  {
   "cell_type": "code",
   "execution_count": 14,
   "id": "be568b1b",
   "metadata": {},
   "outputs": [],
   "source": [
    "X_train=X_train.apply(remove_stopwords)\n",
    "X_test=X_test.apply(remove_stopwords)"
   ]
  },
  {
   "cell_type": "code",
   "execution_count": 15,
   "id": "067ed34b",
   "metadata": {
    "scrolled": true
   },
   "outputs": [
    {
     "data": {
      "text/plain": [
       "111                                                                      so i guess no one actually wants any free aftershock tc\n",
       "1938                 had to cancel my cats doctor appointment because she decided to go out and play and not come home by curfew\n",
       "3053                                                                                  m utckm nnw of lake henshaw california url\n",
       "7177    years ago today the us dropped a nuclear weapon on japan here are some articles that share my opinion on that decisionû\n",
       "6040                                                         new post from user major challenges of channel sales enablement url\n",
       "3254                                                    user and she wrapped his coat around herself it practically engulfed her\n",
       "3558                     user ethiopian regimes continue receiving foreign aid when famine struck for years eastern ethiopia url\n",
       "44                                                         i wanted to set chicago ablaze with my preaching but not my hotel url\n",
       "Name: text, dtype: object"
      ]
     },
     "execution_count": 15,
     "metadata": {},
     "output_type": "execute_result"
    }
   ],
   "source": [
    "#checking samples from the dataset after preprocess\n",
    "X_train[51:59]"
   ]
  },
  {
   "cell_type": "code",
   "execution_count": 16,
   "id": "f029ac27",
   "metadata": {},
   "outputs": [
    {
     "name": "stdout",
     "output_type": "stream",
     "text": [
      "There are 5709 sentences in the dataset.\n",
      "\n",
      "Train set info:\n",
      "First sentence has 7 words (after removing stopwords).\n",
      "\n",
      "Max lenght of sentence has 32 words (after removing stopwords).\n",
      "\n",
      "There are 5709 labels in the dataset.\n",
      "\n",
      "The first 5 labels are 6303    0\n",
      "2531    1\n",
      "5592    0\n",
      "3599    0\n",
      "5177    0\n",
      "Name: target, dtype: int64\n",
      "\n",
      "\n",
      "Test set info:\n",
      "There are 1904 sentences in the dataset.\n",
      "\n",
      "First sentence has 14 words (after removing stopwords).\n",
      "\n",
      "Max lenght of sentence has 32 words (after removing stopwords).\n",
      "\n",
      "There are 1904 labels in the dataset.\n",
      "\n",
      "The first 5 labels are 1948    0\n",
      "5508    0\n",
      "5041    0\n",
      "4147    0\n",
      "5108    1\n",
      "Name: target, dtype: int64\n",
      "\n",
      "\n"
     ]
    }
   ],
   "source": [
    "print(f\"There are {len(X_train)} sentences in the dataset.\\n\")\n",
    "\n",
    "max_len_train=X_train.str.split().map(lambda x: len(x)).max()\n",
    "print(\"Train set info:\")\n",
    "print(f\"First sentence has {len(X_train.head(1).values[0].split())} words (after removing stopwords).\\n\")\n",
    "print(f\"Max lenght of sentence has {max_len_train} words (after removing stopwords).\\n\")\n",
    "print(f\"There are {len(y_train)} labels in the dataset.\\n\")\n",
    "print(f\"The first 5 labels are {y_train.head(5)}\\n\\n\")\n",
    "\n",
    "max_len_test=X_test.str.split().map(lambda x: len(x)).max()\n",
    "print(\"Test set info:\")\n",
    "print(f\"There are {len(X_test)} sentences in the dataset.\\n\")\n",
    "print(f\"First sentence has {len(X_test.head(1).values[0].split())} words (after removing stopwords).\\n\")\n",
    "print(f\"Max lenght of sentence has {max_len_train} words (after removing stopwords).\\n\")\n",
    "print(f\"There are {len(y_test)} labels in the dataset.\\n\")\n",
    "print(f\"The first 5 labels are {y_test.head(5)}\\n\\n\")"
   ]
  },
  {
   "cell_type": "code",
   "execution_count": 17,
   "id": "2a1c1e64",
   "metadata": {},
   "outputs": [],
   "source": [
    "max_length = 32\n",
    "trunc_type='post'\n",
    "oov_tok = \"<OOV>\"\n",
    "padding = 'post'"
   ]
  },
  {
   "cell_type": "code",
   "execution_count": 18,
   "id": "61b62aee",
   "metadata": {},
   "outputs": [],
   "source": [
    "# Initialize the Tokenizer class\n",
    "tokenizer = Tokenizer(num_words = len(X_train), oov_token=oov_tok)"
   ]
  },
  {
   "cell_type": "code",
   "execution_count": 19,
   "id": "07eea32d",
   "metadata": {},
   "outputs": [],
   "source": [
    "# Generate the word index dictionary for the training sentences\n",
    "tokenizer.fit_on_texts(X_train)\n",
    "word_index = tokenizer.word_index\n",
    "vocab_size = len(word_index)"
   ]
  },
  {
   "cell_type": "code",
   "execution_count": 20,
   "id": "c2c92659",
   "metadata": {},
   "outputs": [
    {
     "name": "stdout",
     "output_type": "stream",
     "text": [
      "Vocabulary contains 12661 words\n",
      "\n",
      "<OOV> token included in vocabulary\n"
     ]
    }
   ],
   "source": [
    "print(f\"Vocabulary contains {len(word_index)} words\\n\")\n",
    "print(\"<OOV> token included in vocabulary\" if \"<OOV>\" in word_index else \"<OOV> token NOT included in vocabulary\")"
   ]
  },
  {
   "cell_type": "code",
   "execution_count": 21,
   "id": "49b88327",
   "metadata": {},
   "outputs": [],
   "source": [
    "def seq_pad_and_trunc(sentences, tokenizer, padding, trunc_type, max_length):\n",
    "    sequences = tokenizer.texts_to_sequences(sentences)\n",
    "    padded = pad_sequences(sequences,maxlen=max_length, truncating=trunc_type)\n",
    "    return padded"
   ]
  },
  {
   "cell_type": "code",
   "execution_count": 22,
   "id": "defa5903",
   "metadata": {},
   "outputs": [],
   "source": [
    "# Generating and padding the training sequences\n",
    "padded = seq_pad_and_trunc(X_train, tokenizer, padding, trunc_type, max_length)\n",
    "# Generating and padding the test sequences\n",
    "testing_padded = seq_pad_and_trunc(X_test, tokenizer, padding, trunc_type, max_length)"
   ]
  },
  {
   "cell_type": "markdown",
   "id": "4bba95eb",
   "metadata": {},
   "source": [
    "## Training an LSTM Model with Self-Trained Embeddings"
   ]
  },
  {
   "cell_type": "code",
   "execution_count": 23,
   "id": "005e6818",
   "metadata": {},
   "outputs": [],
   "source": [
    "import matplotlib.pyplot as plt\n",
    "\n",
    "# Plot Utility\n",
    "def plot_graphs(history, string):\n",
    "    plt.plot(history.history[string])\n",
    "    plt.plot(history.history['val_'+string])\n",
    "    plt.xlabel(\"Epochs\")\n",
    "    plt.ylabel(string)\n",
    "    plt.legend([string, 'val_'+string])\n",
    "    plt.show()"
   ]
  },
  {
   "cell_type": "code",
   "execution_count": 24,
   "id": "beb67d93",
   "metadata": {},
   "outputs": [],
   "source": [
    "def call():\n",
    "        es = tf.keras.callbacks.EarlyStopping(\n",
    "        monitor='val_loss', # metrics to monitor\n",
    "        min_delta=0,#min amoung to count as an improvement\n",
    "        patience=10, # how many epochs before stop\n",
    "        verbose=1,\n",
    "        mode='min', # we need the min loss\n",
    "        restore_best_weights=True)\n",
    "            \n",
    "        rp = tf.keras.callbacks.ReduceLROnPlateau(\n",
    "        monitor='val_loss',\n",
    "        factor=0.2,\n",
    "        patience=5,\n",
    "        verbose=1,\n",
    "        mode='min',\n",
    "        min_lr=1e-8)\n",
    "        \n",
    "        return es,rp\n",
    "callbacks = call()"
   ]
  },
  {
   "cell_type": "code",
   "execution_count": 25,
   "id": "b094db9d",
   "metadata": {},
   "outputs": [
    {
     "name": "stderr",
     "output_type": "stream",
     "text": [
      "2023-11-13 17:53:00.385074: I tensorflow/compiler/xla/stream_executor/cuda/cuda_gpu_executor.cc:894] successful NUMA node read from SysFS had negative value (-1), but there must be at least one NUMA node, so returning NUMA node zero. See more at https://github.com/torvalds/linux/blob/v6.0/Documentation/ABI/testing/sysfs-bus-pci#L344-L355\n",
      "2023-11-13 17:53:00.385404: I tensorflow/compiler/xla/stream_executor/cuda/cuda_gpu_executor.cc:894] successful NUMA node read from SysFS had negative value (-1), but there must be at least one NUMA node, so returning NUMA node zero. See more at https://github.com/torvalds/linux/blob/v6.0/Documentation/ABI/testing/sysfs-bus-pci#L344-L355\n",
      "2023-11-13 17:53:00.385583: I tensorflow/compiler/xla/stream_executor/cuda/cuda_gpu_executor.cc:894] successful NUMA node read from SysFS had negative value (-1), but there must be at least one NUMA node, so returning NUMA node zero. See more at https://github.com/torvalds/linux/blob/v6.0/Documentation/ABI/testing/sysfs-bus-pci#L344-L355\n",
      "2023-11-13 17:53:00.476843: I tensorflow/compiler/xla/stream_executor/cuda/cuda_gpu_executor.cc:894] successful NUMA node read from SysFS had negative value (-1), but there must be at least one NUMA node, so returning NUMA node zero. See more at https://github.com/torvalds/linux/blob/v6.0/Documentation/ABI/testing/sysfs-bus-pci#L344-L355\n",
      "2023-11-13 17:53:00.476986: I tensorflow/compiler/xla/stream_executor/cuda/cuda_gpu_executor.cc:894] successful NUMA node read from SysFS had negative value (-1), but there must be at least one NUMA node, so returning NUMA node zero. See more at https://github.com/torvalds/linux/blob/v6.0/Documentation/ABI/testing/sysfs-bus-pci#L344-L355\n",
      "2023-11-13 17:53:00.477071: I tensorflow/compiler/xla/stream_executor/cuda/cuda_gpu_executor.cc:894] successful NUMA node read from SysFS had negative value (-1), but there must be at least one NUMA node, so returning NUMA node zero. See more at https://github.com/torvalds/linux/blob/v6.0/Documentation/ABI/testing/sysfs-bus-pci#L344-L355\n",
      "2023-11-13 17:53:00.477139: I tensorflow/core/common_runtime/gpu/gpu_device.cc:1886] Created device /job:localhost/replica:0/task:0/device:GPU:0 with 2199 MB memory:  -> device: 0, name: NVIDIA GeForce RTX 3050 Ti Laptop GPU, pci bus id: 0000:01:00.0, compute capability: 8.6\n"
     ]
    },
    {
     "name": "stdout",
     "output_type": "stream",
     "text": [
      "Model: \"sequential\"\n",
      "_________________________________________________________________\n",
      " Layer (type)                Output Shape              Param #   \n",
      "=================================================================\n",
      " embedding (Embedding)       (None, 32, 32)            405152    \n",
      "                                                                 \n",
      " bidirectional (Bidirection  (None, 64)                16640     \n",
      " al)                                                             \n",
      "                                                                 \n",
      " dropout (Dropout)           (None, 64)                0         \n",
      "                                                                 \n",
      " dense (Dense)               (None, 64)                4160      \n",
      "                                                                 \n",
      " dense_1 (Dense)             (None, 1)                 65        \n",
      "                                                                 \n",
      "=================================================================\n",
      "Total params: 426017 (1.63 MB)\n",
      "Trainable params: 426017 (1.63 MB)\n",
      "Non-trainable params: 0 (0.00 Byte)\n",
      "_________________________________________________________________\n"
     ]
    }
   ],
   "source": [
    "# Parameters\n",
    "embedding_dim = 32\n",
    "lstm_dim = 32\n",
    "dense_dim = 64\n",
    "\n",
    "# Model Definition with LSTM\n",
    "model_lstm = tf.keras.Sequential([\n",
    "    tf.keras.layers.Embedding(vocab_size, embedding_dim, input_length=max_length),\n",
    "    tf.keras.layers.Bidirectional(tf.keras.layers.LSTM(lstm_dim, dropout=0.2)),\n",
    "    tf.keras.layers.Dropout(0.5),\n",
    "    tf.keras.layers.Dense(dense_dim, activation='relu'),\n",
    "    tf.keras.layers.Dense(1, activation='sigmoid')\n",
    "])\n",
    "\n",
    "# Setting the training parameters\n",
    "model_lstm.compile(loss='binary_crossentropy',optimizer=tf.keras.optimizers.experimental.Nadam(5e-5),\n",
    "                   metrics=['accuracy'])\n",
    "\n",
    "# Printing the model summary\n",
    "model_lstm.summary()"
   ]
  },
  {
   "cell_type": "code",
   "execution_count": 26,
   "id": "d6764c86",
   "metadata": {
    "scrolled": true
   },
   "outputs": [
    {
     "name": "stdout",
     "output_type": "stream",
     "text": [
      "Epoch 1/100\n"
     ]
    },
    {
     "name": "stderr",
     "output_type": "stream",
     "text": [
      "2023-11-13 17:53:02.814181: I tensorflow/compiler/xla/stream_executor/cuda/cuda_dnn.cc:442] Loaded cuDNN version 8700\n",
      "2023-11-13 17:53:03.268534: I tensorflow/compiler/xla/service/service.cc:168] XLA service 0x7f20d9a676b0 initialized for platform CUDA (this does not guarantee that XLA will be used). Devices:\n",
      "2023-11-13 17:53:03.268554: I tensorflow/compiler/xla/service/service.cc:176]   StreamExecutor device (0): NVIDIA GeForce RTX 3050 Ti Laptop GPU, Compute Capability 8.6\n",
      "2023-11-13 17:53:03.275877: I tensorflow/compiler/mlir/tensorflow/utils/dump_mlir_util.cc:269] disabling MLIR crash reproducer, set env var `MLIR_CRASH_REPRODUCER_DIRECTORY` to enable.\n",
      "2023-11-13 17:53:03.594221: I ./tensorflow/compiler/jit/device_compiler.h:186] Compiled cluster using XLA!  This line is logged at most once for the lifetime of the process.\n"
     ]
    },
    {
     "name": "stdout",
     "output_type": "stream",
     "text": [
      "45/45 [==============================] - 17s 307ms/step - loss: 0.6928 - accuracy: 0.5166 - val_loss: 0.6916 - val_accuracy: 0.5614 - lr: 5.0000e-05\n",
      "Epoch 2/100\n",
      "45/45 [==============================] - 10s 223ms/step - loss: 0.6901 - accuracy: 0.5747 - val_loss: 0.6896 - val_accuracy: 0.5614 - lr: 5.0000e-05\n",
      "Epoch 3/100\n",
      "45/45 [==============================] - 7s 149ms/step - loss: 0.6881 - accuracy: 0.5735 - val_loss: 0.6877 - val_accuracy: 0.5614 - lr: 5.0000e-05\n",
      "Epoch 4/100\n",
      "45/45 [==============================] - 6s 125ms/step - loss: 0.6858 - accuracy: 0.5733 - val_loss: 0.6858 - val_accuracy: 0.5614 - lr: 5.0000e-05\n",
      "Epoch 5/100\n",
      "45/45 [==============================] - 5s 120ms/step - loss: 0.6835 - accuracy: 0.5733 - val_loss: 0.6839 - val_accuracy: 0.5614 - lr: 5.0000e-05\n",
      "Epoch 6/100\n",
      "45/45 [==============================] - 7s 148ms/step - loss: 0.6806 - accuracy: 0.5733 - val_loss: 0.6821 - val_accuracy: 0.5614 - lr: 5.0000e-05\n",
      "Epoch 7/100\n",
      "45/45 [==============================] - 5s 115ms/step - loss: 0.6795 - accuracy: 0.5733 - val_loss: 0.6802 - val_accuracy: 0.5614 - lr: 5.0000e-05\n",
      "Epoch 8/100\n",
      "45/45 [==============================] - 5s 120ms/step - loss: 0.6761 - accuracy: 0.5733 - val_loss: 0.6776 - val_accuracy: 0.5614 - lr: 5.0000e-05\n",
      "Epoch 9/100\n",
      "45/45 [==============================] - 6s 127ms/step - loss: 0.6726 - accuracy: 0.5733 - val_loss: 0.6738 - val_accuracy: 0.5614 - lr: 5.0000e-05\n",
      "Epoch 10/100\n",
      "45/45 [==============================] - 4s 97ms/step - loss: 0.6687 - accuracy: 0.5733 - val_loss: 0.6681 - val_accuracy: 0.5614 - lr: 5.0000e-05\n",
      "Epoch 11/100\n",
      "45/45 [==============================] - 5s 115ms/step - loss: 0.6616 - accuracy: 0.5733 - val_loss: 0.6605 - val_accuracy: 0.5614 - lr: 5.0000e-05\n",
      "Epoch 12/100\n",
      "45/45 [==============================] - 4s 96ms/step - loss: 0.6515 - accuracy: 0.5761 - val_loss: 0.6486 - val_accuracy: 0.5678 - lr: 5.0000e-05\n",
      "Epoch 13/100\n",
      "45/45 [==============================] - 4s 94ms/step - loss: 0.6372 - accuracy: 0.5998 - val_loss: 0.6320 - val_accuracy: 0.6066 - lr: 5.0000e-05\n",
      "Epoch 14/100\n",
      "45/45 [==============================] - 4s 85ms/step - loss: 0.6162 - accuracy: 0.6423 - val_loss: 0.6099 - val_accuracy: 0.6507 - lr: 5.0000e-05\n",
      "Epoch 15/100\n",
      "45/45 [==============================] - 5s 119ms/step - loss: 0.5896 - accuracy: 0.7031 - val_loss: 0.5841 - val_accuracy: 0.7017 - lr: 5.0000e-05\n",
      "Epoch 16/100\n",
      "45/45 [==============================] - 5s 118ms/step - loss: 0.5626 - accuracy: 0.7457 - val_loss: 0.5576 - val_accuracy: 0.7532 - lr: 5.0000e-05\n",
      "Epoch 17/100\n",
      "45/45 [==============================] - 4s 93ms/step - loss: 0.5344 - accuracy: 0.7831 - val_loss: 0.5389 - val_accuracy: 0.7626 - lr: 5.0000e-05\n",
      "Epoch 18/100\n",
      "45/45 [==============================] - 4s 93ms/step - loss: 0.5047 - accuracy: 0.7993 - val_loss: 0.5250 - val_accuracy: 0.7731 - lr: 5.0000e-05\n",
      "Epoch 19/100\n",
      "45/45 [==============================] - 4s 99ms/step - loss: 0.4852 - accuracy: 0.8057 - val_loss: 0.4957 - val_accuracy: 0.7868 - lr: 5.0000e-05\n",
      "Epoch 20/100\n",
      "45/45 [==============================] - 4s 86ms/step - loss: 0.4662 - accuracy: 0.8059 - val_loss: 0.4963 - val_accuracy: 0.7910 - lr: 5.0000e-05\n",
      "Epoch 21/100\n",
      "45/45 [==============================] - 4s 87ms/step - loss: 0.4479 - accuracy: 0.8164 - val_loss: 0.4775 - val_accuracy: 0.7920 - lr: 5.0000e-05\n",
      "Epoch 22/100\n",
      "45/45 [==============================] - 4s 95ms/step - loss: 0.4306 - accuracy: 0.8243 - val_loss: 0.4711 - val_accuracy: 0.7910 - lr: 5.0000e-05\n",
      "Epoch 23/100\n",
      "45/45 [==============================] - 4s 85ms/step - loss: 0.4210 - accuracy: 0.8282 - val_loss: 0.4710 - val_accuracy: 0.7978 - lr: 5.0000e-05\n",
      "Epoch 24/100\n",
      "45/45 [==============================] - 4s 85ms/step - loss: 0.4045 - accuracy: 0.8338 - val_loss: 0.4796 - val_accuracy: 0.7952 - lr: 5.0000e-05\n",
      "Epoch 25/100\n",
      "45/45 [==============================] - 4s 91ms/step - loss: 0.3984 - accuracy: 0.8343 - val_loss: 0.4601 - val_accuracy: 0.7962 - lr: 5.0000e-05\n",
      "Epoch 26/100\n",
      "45/45 [==============================] - 4s 90ms/step - loss: 0.3872 - accuracy: 0.8385 - val_loss: 0.4585 - val_accuracy: 0.7999 - lr: 5.0000e-05\n",
      "Epoch 27/100\n",
      "45/45 [==============================] - 4s 80ms/step - loss: 0.3718 - accuracy: 0.8497 - val_loss: 0.4686 - val_accuracy: 0.7988 - lr: 5.0000e-05\n",
      "Epoch 28/100\n",
      "45/45 [==============================] - 4s 86ms/step - loss: 0.3576 - accuracy: 0.8516 - val_loss: 0.4558 - val_accuracy: 0.8030 - lr: 5.0000e-05\n",
      "Epoch 29/100\n",
      "45/45 [==============================] - 4s 80ms/step - loss: 0.3360 - accuracy: 0.8639 - val_loss: 0.4543 - val_accuracy: 0.8025 - lr: 5.0000e-05\n",
      "Epoch 30/100\n",
      "45/45 [==============================] - 4s 80ms/step - loss: 0.3346 - accuracy: 0.8657 - val_loss: 0.4517 - val_accuracy: 0.8072 - lr: 5.0000e-05\n",
      "Epoch 31/100\n",
      "45/45 [==============================] - 4s 87ms/step - loss: 0.3153 - accuracy: 0.8714 - val_loss: 0.4642 - val_accuracy: 0.8041 - lr: 5.0000e-05\n",
      "Epoch 32/100\n",
      "45/45 [==============================] - 4s 85ms/step - loss: 0.2992 - accuracy: 0.8753 - val_loss: 0.4606 - val_accuracy: 0.8078 - lr: 5.0000e-05\n",
      "Epoch 33/100\n",
      "45/45 [==============================] - 4s 89ms/step - loss: 0.2930 - accuracy: 0.8840 - val_loss: 0.4562 - val_accuracy: 0.8083 - lr: 5.0000e-05\n",
      "Epoch 34/100\n",
      "45/45 [==============================] - 4s 86ms/step - loss: 0.2771 - accuracy: 0.8891 - val_loss: 0.4652 - val_accuracy: 0.8088 - lr: 5.0000e-05\n",
      "Epoch 35/100\n",
      "45/45 [==============================] - ETA: 0s - loss: 0.2722 - accuracy: 0.8896\n",
      "Epoch 35: ReduceLROnPlateau reducing learning rate to 9.999999747378752e-06.\n",
      "45/45 [==============================] - 4s 87ms/step - loss: 0.2722 - accuracy: 0.8896 - val_loss: 0.4685 - val_accuracy: 0.8067 - lr: 5.0000e-05\n",
      "Epoch 36/100\n",
      "45/45 [==============================] - 4s 82ms/step - loss: 0.2560 - accuracy: 0.8982 - val_loss: 0.4687 - val_accuracy: 0.8083 - lr: 1.0000e-05\n",
      "Epoch 37/100\n",
      "45/45 [==============================] - 4s 89ms/step - loss: 0.2625 - accuracy: 0.8967 - val_loss: 0.4714 - val_accuracy: 0.8093 - lr: 1.0000e-05\n",
      "Epoch 38/100\n",
      "45/45 [==============================] - 4s 90ms/step - loss: 0.2663 - accuracy: 0.8933 - val_loss: 0.4696 - val_accuracy: 0.8093 - lr: 1.0000e-05\n",
      "Epoch 39/100\n",
      "45/45 [==============================] - 4s 86ms/step - loss: 0.2519 - accuracy: 0.9045 - val_loss: 0.4754 - val_accuracy: 0.8099 - lr: 1.0000e-05\n",
      "Epoch 40/100\n",
      "45/45 [==============================] - ETA: 0s - loss: 0.2556 - accuracy: 0.8991Restoring model weights from the end of the best epoch: 30.\n",
      "\n",
      "Epoch 40: ReduceLROnPlateau reducing learning rate to 1.9999999494757505e-06.\n",
      "45/45 [==============================] - 4s 88ms/step - loss: 0.2556 - accuracy: 0.8991 - val_loss: 0.4753 - val_accuracy: 0.8099 - lr: 1.0000e-05\n",
      "Epoch 40: early stopping\n"
     ]
    }
   ],
   "source": [
    "NUM_EPOCHS = 100\n",
    "BATCH_SIZE = 128\n",
    "\n",
    "# Training the model\n",
    "history_lstm = model_lstm.fit(padded, y_train, \n",
    "                              batch_size=BATCH_SIZE, epochs=NUM_EPOCHS, \n",
    "                              callbacks=[callbacks],\n",
    "                              validation_data=(testing_padded, y_test))"
   ]
  },
  {
   "cell_type": "markdown",
   "id": "7f23c804",
   "metadata": {},
   "source": [
    "### Assessing Model Performance"
   ]
  },
  {
   "cell_type": "code",
   "execution_count": 27,
   "id": "3d7fbad3",
   "metadata": {
    "scrolled": false
   },
   "outputs": [
    {
     "data": {
      "image/png": "[encoded data removed]",
      "text/plain": [
       "<Figure size 640x480 with 1 Axes>"
      ]
     },
     "metadata": {},
     "output_type": "display_data"
    },
    {
     "data": {
      "image/png": "[encoded data removed]",
      "text/plain": [
       "<Figure size 640x480 with 1 Axes>"
      ]
     },
     "metadata": {},
     "output_type": "display_data"
    }
   ],
   "source": [
    "# Plotting the accuracy and loss history\n",
    "plot_graphs(history_lstm, 'accuracy')\n",
    "plot_graphs(history_lstm, 'loss')"
   ]
  },
  {
   "cell_type": "code",
   "execution_count": 28,
   "id": "9a0251d0",
   "metadata": {},
   "outputs": [
    {
     "name": "stdout",
     "output_type": "stream",
     "text": [
      "60/60 [==============================] - 1s 6ms/step\n",
      "****** Test Data ********\n",
      "F1: 0.7596594629993452\n",
      "              precision    recall  f1-score   support\n",
      "\n",
      "           0       0.79      0.90      0.84      1069\n",
      "           1       0.84      0.69      0.76       835\n",
      "\n",
      "    accuracy                           0.81      1904\n",
      "   macro avg       0.81      0.79      0.80      1904\n",
      "weighted avg       0.81      0.81      0.80      1904\n",
      "\n",
      "Confusion Matrix\n"
     ]
    },
    {
     "data": {
      "text/plain": [
       "<sklearn.metrics._plot.confusion_matrix.ConfusionMatrixDisplay at 0x7f2128291d30>"
      ]
     },
     "execution_count": 28,
     "metadata": {},
     "output_type": "execute_result"
    },
    {
     "data": {
      "image/png": "[encoded data removed]",
      "text/plain": [
       "<Figure size 640x480 with 2 Axes>"
      ]
     },
     "metadata": {},
     "output_type": "display_data"
    }
   ],
   "source": [
    "y_pred_valid = tf.math.round(model_lstm.predict(testing_padded)).numpy().astype(int) \n",
    "from sklearn import metrics\n",
    "from sklearn.metrics import ConfusionMatrixDisplay, confusion_matrix\n",
    "print(\"****** Test Data ********\")\n",
    "print(f\"F1: {metrics.f1_score(y_test, y_pred_valid)}\")\n",
    "# Printing performance details\n",
    "print(metrics.classification_report(y_test, y_pred_valid))\n",
    "\n",
    "# Printing confusion matrix\n",
    "print(\"Confusion Matrix\")\n",
    "ConfusionMatrixDisplay.from_predictions(\n",
    "        y_test,\n",
    "        y_pred_valid,\n",
    "        display_labels=[\"Not Disaster\",\"Disaster\"],\n",
    "        cmap=plt.cm.Blues\n",
    "    )"
   ]
  },
  {
   "cell_type": "markdown",
   "id": "9ccc48fc",
   "metadata": {},
   "source": [
    "Upon evaluating the model, it becomes evident that there is a pronounced overfitting issue to the training set, particularly in the initial epochs. This can be attributed to the constraint posed by the limited size of the training data. Given the challenges associated with small datasets, a pragmatic strategy is to leverage transfer learning. In my approach, I aim to enhance performance by transferring embeddings generated through training on a larger dataset."
   ]
  },
  {
   "cell_type": "code",
   "execution_count": 29,
   "id": "26b86223",
   "metadata": {},
   "outputs": [],
   "source": [
    "#Resets all state generated by Keras.\n",
    "tf.keras.backend.clear_session()\n",
    "del model_lstm\n",
    "del history_lstm"
   ]
  },
  {
   "cell_type": "markdown",
   "id": "d3262278",
   "metadata": {},
   "source": [
    "## Building an LSTM-CNN Model with GloVe Embedding Transfer for Training"
   ]
  },
  {
   "cell_type": "markdown",
   "id": "b2b52ed4",
   "metadata": {},
   "source": [
    "Using the 200 dimension Twitter version of [GloVe](https://nlp.stanford.edu/projects/glove/) from Stanford."
   ]
  },
  {
   "cell_type": "code",
   "execution_count": 30,
   "id": "4ef29131",
   "metadata": {},
   "outputs": [],
   "source": [
    "#!wget https://nlp.stanford.edu/data/glove.twitter.27B.zip"
   ]
  },
  {
   "cell_type": "code",
   "execution_count": 31,
   "id": "ddea95e1",
   "metadata": {},
   "outputs": [],
   "source": [
    "#!unzip -q glove.twitter.27B.zip"
   ]
  },
  {
   "cell_type": "code",
   "execution_count": 32,
   "id": "18c00e84",
   "metadata": {},
   "outputs": [
    {
     "name": "stdout",
     "output_type": "stream",
     "text": [
      "Found 1193514 word vectors.\n"
     ]
    }
   ],
   "source": [
    "GLOVE_EMBEDDINGS = {}\n",
    "\n",
    "# Reading the file and filling GLOVE_EMBEDDINGS with its contents\n",
    "with open(\"glove.twitter.27B.200d.txt\") as f:\n",
    "    for line in f:\n",
    "        values = line.split()\n",
    "        word = values[0]\n",
    "        coefs = np.asarray(values[1:], dtype='float32')\n",
    "        GLOVE_EMBEDDINGS[word] = coefs\n",
    "print(\"Found %s word vectors.\" % len(GLOVE_EMBEDDINGS))"
   ]
  },
  {
   "cell_type": "code",
   "execution_count": 33,
   "id": "863c3f6d",
   "metadata": {
    "scrolled": true
   },
   "outputs": [
    {
     "name": "stdout",
     "output_type": "stream",
     "text": [
      "Vector representation of word sadface looks like this:\n",
      "\n",
      "[ 0.13942    0.14942   -0.083049  -0.22694   -0.17719    0.068621\n",
      "  0.32751    0.29046   -0.98112   -0.055128  -0.32885   -0.028781\n",
      "  0.13015   -0.62901   -0.26694   -0.49831   -0.028981   0.53447\n",
      " -0.74758    0.46059    0.20023   -0.52688    0.88961    0.20244\n",
      " -0.3154     0.76178   -0.097853   0.051232   0.31198    0.28984\n",
      " -0.33384    0.79756    0.020365  -0.48581    0.22673    0.08533\n",
      "  0.5413     0.032684   0.34624   -0.0050298  0.69359    0.79652\n",
      "  0.36373   -0.026102  -0.25161    0.94031    0.35078   -0.27898\n",
      " -0.016592   0.4419     0.33657    0.22511   -0.14285   -0.12429\n",
      "  0.32822    0.23203    0.22721    0.40608   -0.088886   0.10732\n",
      "  0.024414  -0.47135    0.35159   -0.20438   -0.59589   -0.17563\n",
      " -0.01621    0.0184    -0.0043566 -0.14127    0.52329   -0.30056\n",
      "  0.17157   -0.069917   0.21397    0.04184   -0.33831   -0.40201\n",
      " -0.098991   0.69844   -0.061859  -0.21282    0.2322     0.077196\n",
      " -0.17289   -0.014947   0.096056  -0.69473    0.31956   -0.45509\n",
      " -0.58895    0.052222   0.18515    0.14753    0.045721  -0.42149\n",
      " -0.57802    0.40912    0.28521    0.46732    0.34731   -0.073241\n",
      "  0.038684  -0.070477   0.054686   0.44633    0.2204     0.59934\n",
      "  0.1342     0.27905   -0.62409   -0.74412   -0.56667   -0.06538\n",
      "  0.46708    0.5299     0.1005    -0.23566   -0.21163    0.26048\n",
      " -0.74041   -0.11932   -0.12042    0.44228   -0.34071    0.34884\n",
      "  0.092858  -0.33513   -0.098712  -0.33994    1.0503     0.29984\n",
      " -0.069351   0.88771   -0.27936    0.097822   0.37606    0.20166\n",
      "  0.62857   -0.27713    0.79396    0.42104    0.20219   -0.18803\n",
      " -0.73107   -0.17481    0.0070513  0.39578   -0.52476    0.1787\n",
      "  0.33756    0.89093   -0.78324    0.61638    0.18954   -0.13046\n",
      "  0.14505    0.37945    0.61627    0.038235   0.45715   -0.50827\n",
      " -0.010749   0.026013   0.39216    0.23946    0.41601    0.71101\n",
      " -0.31183   -0.30714   -0.23103    0.35787    0.044602   0.098503\n",
      " -0.26996   -0.48911   -0.45045   -0.55196   -0.16775    0.23343\n",
      " -0.036873  -0.40255    0.45207    0.15214    0.036716   0.20395\n",
      "  0.48302   -0.36976    0.08964   -0.11753   -0.52348   -0.085144\n",
      " -0.2261    -0.68734    0.33536    0.041088   0.019113   0.59425\n",
      " -0.16172    0.71857  ]\n"
     ]
    }
   ],
   "source": [
    "test_word = 'sadface'\n",
    "\n",
    "test_vector = GLOVE_EMBEDDINGS[test_word]\n",
    "\n",
    "print(f\"Vector representation of word {test_word} looks like this:\\n\\n{test_vector}\")"
   ]
  },
  {
   "cell_type": "code",
   "execution_count": 34,
   "id": "900dbdd6",
   "metadata": {},
   "outputs": [],
   "source": [
    "EMBEDDING_DIM = 200\n",
    "# Initializing an empty numpy array with the appropriate size\n",
    "EMBEDDINGS_MATRIX = np.zeros((vocab_size+1, EMBEDDING_DIM))\n",
    "\n",
    "# Iterating all of the words in the vocabulary and if the vector representation for \n",
    "# the word exists within GloVe's representations, saving it in the EMBEDDINGS_MATRIX array\n",
    "for word, i in word_index.items():\n",
    "    embedding_vector = GLOVE_EMBEDDINGS.get(word)\n",
    "    if embedding_vector is not None:\n",
    "        EMBEDDINGS_MATRIX[i] = embedding_vector"
   ]
  },
  {
   "cell_type": "code",
   "execution_count": 35,
   "id": "fe84753d",
   "metadata": {},
   "outputs": [],
   "source": [
    "embedding_layer = tf.keras.layers.Embedding(\n",
    "    vocab_size+1,\n",
    "    EMBEDDING_DIM,\n",
    "    input_length=max_length, \n",
    "    weights=[EMBEDDINGS_MATRIX], \n",
    "    trainable=False\n",
    ")"
   ]
  },
  {
   "cell_type": "code",
   "execution_count": 36,
   "id": "2bec2f68",
   "metadata": {},
   "outputs": [],
   "source": [
    "#Resets all state generated by Keras.\n",
    "#tf.keras.backend.clear_session()\n",
    "#del model_lstm\n",
    "#del history_lstm"
   ]
  },
  {
   "cell_type": "code",
   "execution_count": 37,
   "id": "61692a0b",
   "metadata": {
    "scrolled": false
   },
   "outputs": [
    {
     "name": "stdout",
     "output_type": "stream",
     "text": [
      "Model: \"sequential\"\n",
      "_________________________________________________________________\n",
      " Layer (type)                Output Shape              Param #   \n",
      "=================================================================\n",
      " embedding (Embedding)       (None, 32, 200)           2532400   \n",
      "                                                                 \n",
      " spatial_dropout1d (Spatial  (None, 32, 200)           0         \n",
      " Dropout1D)                                                      \n",
      "                                                                 \n",
      " bidirectional (Bidirection  (None, 32, 400)           641600    \n",
      " al)                                                             \n",
      "                                                                 \n",
      " dropout (Dropout)           (None, 32, 400)           0         \n",
      "                                                                 \n",
      " bidirectional_1 (Bidirecti  (None, 32, 200)           400800    \n",
      " onal)                                                           \n",
      "                                                                 \n",
      " dropout_1 (Dropout)         (None, 32, 200)           0         \n",
      "                                                                 \n",
      " conv1d (Conv1D)             (None, 28, 200)           200200    \n",
      "                                                                 \n",
      " global_max_pooling1d (Glob  (None, 200)               0         \n",
      " alMaxPooling1D)                                                 \n",
      "                                                                 \n",
      " dropout_2 (Dropout)         (None, 200)               0         \n",
      "                                                                 \n",
      " dense (Dense)               (None, 100)               20100     \n",
      "                                                                 \n",
      " dropout_3 (Dropout)         (None, 100)               0         \n",
      "                                                                 \n",
      " dense_1 (Dense)             (None, 50)                5050      \n",
      "                                                                 \n",
      " dropout_4 (Dropout)         (None, 50)                0         \n",
      "                                                                 \n",
      " dense_2 (Dense)             (None, 1)                 51        \n",
      "                                                                 \n",
      "=================================================================\n",
      "Total params: 3800201 (14.50 MB)\n",
      "Trainable params: 1267801 (4.84 MB)\n",
      "Non-trainable params: 2532400 (9.66 MB)\n",
      "_________________________________________________________________\n"
     ]
    }
   ],
   "source": [
    "# Model Definition with LSTM\n",
    "model_lstm = tf.keras.Sequential([\n",
    "    embedding_layer,\n",
    "    tf.keras.layers.SpatialDropout1D(0.2),\n",
    "    tf.keras.layers.Bidirectional(tf.keras.layers.LSTM(200,dropout=0.50,return_sequences=True)),\n",
    "    tf.keras.layers.Dropout(0.20),\n",
    "    tf.keras.layers.Bidirectional(tf.keras.layers.LSTM(100, dropout=0.50,return_sequences=True)),\n",
    "    tf.keras.layers.Dropout(0.20),\n",
    "    tf.keras.layers.Conv1D(200, 5, activation='relu'),\n",
    "    tf.keras.layers.GlobalMaxPool1D(),\n",
    "    tf.keras.layers.Dropout(0.20),\n",
    "    tf.keras.layers.Dense(100, activation='relu'),\n",
    "    tf.keras.layers.Dropout(0.20),\n",
    "    tf.keras.layers.Dense(50, activation='relu'),\n",
    "    tf.keras.layers.Dropout(0.20),\n",
    "    tf.keras.layers.Dense(1, activation='sigmoid')\n",
    "])\n",
    "\n",
    "\n",
    "# Setting the training parameters\n",
    "model_lstm.compile(loss='binary_crossentropy',optimizer=tf.keras.optimizers.experimental.Nadam(5e-5),\n",
    "                   metrics=['accuracy'])\n",
    "\n",
    "# Printing the model summary\n",
    "model_lstm.summary()"
   ]
  },
  {
   "cell_type": "code",
   "execution_count": 38,
   "id": "20beb625",
   "metadata": {
    "scrolled": true
   },
   "outputs": [
    {
     "name": "stdout",
     "output_type": "stream",
     "text": [
      "Epoch 1/100\n",
      "90/90 [==============================] - 8s 40ms/step - loss: 0.6669 - accuracy: 0.6036 - val_loss: 0.6067 - val_accuracy: 0.7616 - lr: 5.0000e-05\n",
      "Epoch 2/100\n",
      "90/90 [==============================] - 3s 29ms/step - loss: 0.5711 - accuracy: 0.7387 - val_loss: 0.4999 - val_accuracy: 0.7757 - lr: 5.0000e-05\n",
      "Epoch 3/100\n",
      "90/90 [==============================] - 3s 29ms/step - loss: 0.5193 - accuracy: 0.7642 - val_loss: 0.4758 - val_accuracy: 0.7904 - lr: 5.0000e-05\n",
      "Epoch 4/100\n",
      "90/90 [==============================] - 3s 30ms/step - loss: 0.5003 - accuracy: 0.7768 - val_loss: 0.4562 - val_accuracy: 0.8067 - lr: 5.0000e-05\n",
      "Epoch 5/100\n",
      "90/90 [==============================] - 3s 30ms/step - loss: 0.4870 - accuracy: 0.7765 - val_loss: 0.4539 - val_accuracy: 0.8036 - lr: 5.0000e-05\n",
      "Epoch 6/100\n",
      "90/90 [==============================] - 3s 30ms/step - loss: 0.4766 - accuracy: 0.7875 - val_loss: 0.4424 - val_accuracy: 0.8078 - lr: 5.0000e-05\n",
      "Epoch 7/100\n",
      "90/90 [==============================] - 3s 28ms/step - loss: 0.4776 - accuracy: 0.7830 - val_loss: 0.4331 - val_accuracy: 0.8120 - lr: 5.0000e-05\n",
      "Epoch 8/100\n",
      "90/90 [==============================] - 2s 27ms/step - loss: 0.4681 - accuracy: 0.7868 - val_loss: 0.4407 - val_accuracy: 0.8099 - lr: 5.0000e-05\n",
      "Epoch 9/100\n",
      "90/90 [==============================] - 3s 31ms/step - loss: 0.4662 - accuracy: 0.7903 - val_loss: 0.4279 - val_accuracy: 0.8099 - lr: 5.0000e-05\n",
      "Epoch 10/100\n",
      "90/90 [==============================] - 3s 31ms/step - loss: 0.4653 - accuracy: 0.7882 - val_loss: 0.4304 - val_accuracy: 0.8093 - lr: 5.0000e-05\n",
      "Epoch 11/100\n",
      "90/90 [==============================] - 3s 30ms/step - loss: 0.4639 - accuracy: 0.7903 - val_loss: 0.4437 - val_accuracy: 0.8088 - lr: 5.0000e-05\n",
      "Epoch 12/100\n",
      "90/90 [==============================] - 3s 28ms/step - loss: 0.4604 - accuracy: 0.7902 - val_loss: 0.4211 - val_accuracy: 0.8120 - lr: 5.0000e-05\n",
      "Epoch 13/100\n",
      "90/90 [==============================] - 3s 30ms/step - loss: 0.4597 - accuracy: 0.7951 - val_loss: 0.4229 - val_accuracy: 0.8136 - lr: 5.0000e-05\n",
      "Epoch 14/100\n",
      "90/90 [==============================] - 3s 29ms/step - loss: 0.4537 - accuracy: 0.7989 - val_loss: 0.4193 - val_accuracy: 0.8146 - lr: 5.0000e-05\n",
      "Epoch 15/100\n",
      "90/90 [==============================] - 3s 33ms/step - loss: 0.4598 - accuracy: 0.7933 - val_loss: 0.4215 - val_accuracy: 0.8104 - lr: 5.0000e-05\n",
      "Epoch 16/100\n",
      "90/90 [==============================] - 3s 35ms/step - loss: 0.4605 - accuracy: 0.7961 - val_loss: 0.4277 - val_accuracy: 0.8104 - lr: 5.0000e-05\n",
      "Epoch 17/100\n",
      "90/90 [==============================] - 3s 33ms/step - loss: 0.4555 - accuracy: 0.7956 - val_loss: 0.4226 - val_accuracy: 0.8120 - lr: 5.0000e-05\n",
      "Epoch 18/100\n",
      "90/90 [==============================] - 3s 33ms/step - loss: 0.4542 - accuracy: 0.7916 - val_loss: 0.4181 - val_accuracy: 0.8104 - lr: 5.0000e-05\n",
      "Epoch 19/100\n",
      "90/90 [==============================] - 3s 28ms/step - loss: 0.4478 - accuracy: 0.7907 - val_loss: 0.4257 - val_accuracy: 0.8078 - lr: 5.0000e-05\n",
      "Epoch 20/100\n",
      "90/90 [==============================] - 3s 31ms/step - loss: 0.4541 - accuracy: 0.7958 - val_loss: 0.4199 - val_accuracy: 0.8114 - lr: 5.0000e-05\n",
      "Epoch 21/100\n",
      "90/90 [==============================] - 2s 27ms/step - loss: 0.4479 - accuracy: 0.7979 - val_loss: 0.4435 - val_accuracy: 0.8015 - lr: 5.0000e-05\n",
      "Epoch 22/100\n",
      "90/90 [==============================] - 3s 29ms/step - loss: 0.4567 - accuracy: 0.7914 - val_loss: 0.4272 - val_accuracy: 0.8057 - lr: 5.0000e-05\n",
      "Epoch 23/100\n",
      "90/90 [==============================] - ETA: 0s - loss: 0.4528 - accuracy: 0.7959\n",
      "Epoch 23: ReduceLROnPlateau reducing learning rate to 9.999999747378752e-06.\n",
      "90/90 [==============================] - 3s 30ms/step - loss: 0.4528 - accuracy: 0.7959 - val_loss: 0.4246 - val_accuracy: 0.8083 - lr: 5.0000e-05\n",
      "Epoch 24/100\n",
      "90/90 [==============================] - 3s 31ms/step - loss: 0.4426 - accuracy: 0.8010 - val_loss: 0.4231 - val_accuracy: 0.8067 - lr: 1.0000e-05\n",
      "Epoch 25/100\n",
      "90/90 [==============================] - 2s 27ms/step - loss: 0.4434 - accuracy: 0.7958 - val_loss: 0.4245 - val_accuracy: 0.8078 - lr: 1.0000e-05\n",
      "Epoch 26/100\n",
      "90/90 [==============================] - 3s 30ms/step - loss: 0.4447 - accuracy: 0.8033 - val_loss: 0.4225 - val_accuracy: 0.8088 - lr: 1.0000e-05\n",
      "Epoch 27/100\n",
      "90/90 [==============================] - 3s 33ms/step - loss: 0.4437 - accuracy: 0.8003 - val_loss: 0.4197 - val_accuracy: 0.8099 - lr: 1.0000e-05\n",
      "Epoch 28/100\n",
      "90/90 [==============================] - ETA: 0s - loss: 0.4407 - accuracy: 0.8001Restoring model weights from the end of the best epoch: 18.\n",
      "\n",
      "Epoch 28: ReduceLROnPlateau reducing learning rate to 1.9999999494757505e-06.\n",
      "90/90 [==============================] - 3s 32ms/step - loss: 0.4407 - accuracy: 0.8001 - val_loss: 0.4243 - val_accuracy: 0.8078 - lr: 1.0000e-05\n",
      "Epoch 28: early stopping\n"
     ]
    }
   ],
   "source": [
    "NUM_EPOCHS = 100\n",
    "BATCH_SIZE = 64\n",
    "\n",
    "# Training the model\n",
    "history_lstm = model_lstm.fit(padded, y_train, \n",
    "                              batch_size=BATCH_SIZE, epochs=NUM_EPOCHS, \n",
    "                              callbacks=[callbacks],\n",
    "                              validation_data=(testing_padded, y_test))"
   ]
  },
  {
   "cell_type": "markdown",
   "id": "6a76112a",
   "metadata": {},
   "source": [
    "### Assessing Model Performance"
   ]
  },
  {
   "cell_type": "code",
   "execution_count": 39,
   "id": "5adc796a",
   "metadata": {
    "scrolled": false
   },
   "outputs": [
    {
     "data": {
      "image/png": "[encoded data removed]",
      "text/plain": [
       "<Figure size 640x480 with 1 Axes>"
      ]
     },
     "metadata": {},
     "output_type": "display_data"
    },
    {
     "data": {
      "image/png": "[encoded data removed]",
      "text/plain": [
       "<Figure size 640x480 with 1 Axes>"
      ]
     },
     "metadata": {},
     "output_type": "display_data"
    }
   ],
   "source": [
    "# Plotting the accuracy and loss history\n",
    "plot_graphs(history_lstm, 'accuracy')\n",
    "plot_graphs(history_lstm, 'loss')"
   ]
  },
  {
   "cell_type": "code",
   "execution_count": 40,
   "id": "1678570f",
   "metadata": {
    "scrolled": false
   },
   "outputs": [
    {
     "name": "stdout",
     "output_type": "stream",
     "text": [
      "60/60 [==============================] - 2s 11ms/step\n",
      "****** Test Data ********\n",
      "F1: 0.7687379884689302\n",
      "              precision    recall  f1-score   support\n",
      "\n",
      "           0       0.80      0.88      0.84      1069\n",
      "           1       0.83      0.72      0.77       835\n",
      "\n",
      "    accuracy                           0.81      1904\n",
      "   macro avg       0.81      0.80      0.80      1904\n",
      "weighted avg       0.81      0.81      0.81      1904\n",
      "\n",
      "Confusion Matrix\n"
     ]
    },
    {
     "data": {
      "text/plain": [
       "<sklearn.metrics._plot.confusion_matrix.ConfusionMatrixDisplay at 0x7f20b8e7a520>"
      ]
     },
     "execution_count": 40,
     "metadata": {},
     "output_type": "execute_result"
    },
    {
     "data": {
      "image/png": "[encoded data removed]",
      "text/plain": [
       "<Figure size 640x480 with 2 Axes>"
      ]
     },
     "metadata": {},
     "output_type": "display_data"
    }
   ],
   "source": [
    "y_pred_valid = tf.math.round(model_lstm.predict(testing_padded)).numpy().astype(int) \n",
    "from sklearn import metrics\n",
    "from sklearn.metrics import ConfusionMatrixDisplay, confusion_matrix\n",
    "print(\"****** Test Data ********\")\n",
    "print(f\"F1: {metrics.f1_score(y_test, y_pred_valid)}\")\n",
    "# Printing performance details\n",
    "print(metrics.classification_report(y_test, y_pred_valid))\n",
    "\n",
    "# Printing confusion matrix\n",
    "print(\"Confusion Matrix\")\n",
    "ConfusionMatrixDisplay.from_predictions(\n",
    "        y_test,\n",
    "        y_pred_valid,\n",
    "        display_labels=[\"Not Disaster\",\"Disaster\"],\n",
    "        cmap=plt.cm.Blues\n",
    "    )"
   ]
  },
  {
   "cell_type": "code",
   "execution_count": 41,
   "id": "f3e32615",
   "metadata": {},
   "outputs": [],
   "source": [
    "tf.keras.backend.clear_session()\n",
    "del model_lstm\n",
    "del history_lstm"
   ]
  },
  {
   "cell_type": "markdown",
   "id": "86afbc37",
   "metadata": {},
   "source": [
    "## Optimizing Hyperparameters for LSTM-CNN-GloVe Embeddings Model through Bayesian Tuning"
   ]
  },
  {
   "cell_type": "code",
   "execution_count": 42,
   "id": "efade020",
   "metadata": {},
   "outputs": [],
   "source": [
    "import keras_tuner as kt"
   ]
  },
  {
   "cell_type": "code",
   "execution_count": 43,
   "id": "204a3f04",
   "metadata": {},
   "outputs": [],
   "source": [
    "def call():\n",
    "        es = tf.keras.callbacks.EarlyStopping(\n",
    "        monitor='val_loss', # metrics to monitor\n",
    "        min_delta=0,#min amoung to count as an improvement\n",
    "        patience=10, # how many epochs before stop\n",
    "        verbose=0,\n",
    "        mode='min', # we need the min loss\n",
    "        restore_best_weights=True)\n",
    "            \n",
    "        rp = tf.keras.callbacks.ReduceLROnPlateau(\n",
    "        monitor='val_loss',\n",
    "        factor=0.2,\n",
    "        patience=5,\n",
    "        verbose=0,\n",
    "        mode='min',\n",
    "        min_lr=1e-8)\n",
    "        \n",
    "        return es,rp\n",
    "callbacks = call()"
   ]
  },
  {
   "cell_type": "code",
   "execution_count": 44,
   "id": "a51852ff",
   "metadata": {},
   "outputs": [],
   "source": [
    "#tf.keras.backend.clear_session()\n",
    "#del tuner_lr_do\n",
    "#del final_model"
   ]
  },
  {
   "cell_type": "code",
   "execution_count": 45,
   "id": "f59bdcc9",
   "metadata": {},
   "outputs": [],
   "source": [
    "def model_builder(hp):\n",
    "    model = tf.keras.Sequential()\n",
    "    model.add(embedding_layer)\n",
    "    \n",
    "    hp_dropout1=hp.Float('drop_out1', min_value=0.0, max_value=0.5, step=0.1)\n",
    "    model.add(tf.keras.layers.SpatialDropout1D(hp_dropout1))\n",
    "    \n",
    "    hp_dropout2=hp.Float('drop_out2', min_value=0.0, max_value=0.5, step=0.1)\n",
    "    hp_units1 = hp.Int('units1', min_value=32, max_value=256, step=32)\n",
    "    model.add(tf.keras.layers.Bidirectional(tf.keras.layers.LSTM(hp_units1,dropout=hp_dropout2,return_sequences=True)))\n",
    "    \n",
    "    hp_dropout3=hp.Float('drop_out3', min_value=0.0, max_value=0.5, step=0.1)\n",
    "    model.add(tf.keras.layers.Dropout(hp_dropout3))\n",
    "    \n",
    "    hp_dropout4=hp.Float('drop_out4', min_value=0.0, max_value=0.5, step=0.1)\n",
    "    hp_units2 = hp.Int('units2', min_value=32, max_value=256, step=32)\n",
    "    model.add(tf.keras.layers.Bidirectional(tf.keras.layers.LSTM(hp_units2, dropout=hp_dropout4,return_sequences=True)))\n",
    "    \n",
    "    hp_dropout5=hp.Float('drop_out5', min_value=0.0, max_value=0.5, step=0.1)\n",
    "    model.add(tf.keras.layers.Dropout(hp_dropout5))\n",
    "    \n",
    "    hp_dropout6=hp.Float('drop_out6', min_value=0.0, max_value=0.5, step=0.1)\n",
    "    hp_units3 = hp.Int('units3', min_value=32, max_value=256, step=32)\n",
    "    model.add(tf.keras.layers.Conv1D(hp_units3, 5, activation='relu'))\n",
    "    model.add(tf.keras.layers.GlobalMaxPool1D())\n",
    "    model.add(tf.keras.layers.Dropout(hp_dropout6))\n",
    "    \n",
    "    hp_dropout7=hp.Float('drop_out7', min_value=0.0, max_value=0.5, step=0.1)\n",
    "    hp_units4 = hp.Int('units4', min_value=32, max_value=256, step=32)\n",
    "    model.add(tf.keras.layers.Dense(hp_units4, activation='relu'))\n",
    "    model.add(tf.keras.layers.Dropout(hp_dropout7))\n",
    "    \n",
    "    hp_dropout8=hp.Float('drop_out8', min_value=0.0, max_value=0.5, step=0.1)\n",
    "    hp_units5 = hp.Int('units5', min_value=32, max_value=256, step=32)\n",
    "    model.add(tf.keras.layers.Dense(hp_units5, activation='relu'))\n",
    "    model.add(tf.keras.layers.Dropout(hp_dropout8))\n",
    "    \n",
    "    model.add(tf.keras.layers.Dense(1, activation='sigmoid'))\n",
    "    \n",
    "    hp_learning_rate = hp.Choice('learning_rate', values=[5e-5, 3e-5])\n",
    "    model.compile(loss='binary_crossentropy', \n",
    "                       optimizer=tf.keras.optimizers.experimental.Nadam(learning_rate=hp_learning_rate),\n",
    "                   metrics=['accuracy'])\n",
    "    return model"
   ]
  },
  {
   "cell_type": "code",
   "execution_count": 46,
   "id": "71bad5ce",
   "metadata": {},
   "outputs": [],
   "source": [
    "tuner_lr_do = kt.BayesianOptimization(model_builder,\n",
    "                     objective='val_accuracy',\n",
    "                     max_trials=60,\n",
    "                     seed=seed0,      \n",
    "                     overwrite=True,\n",
    "                     directory='my_dir',\n",
    "                     project_name='lr_do_to_kt')"
   ]
  },
  {
   "cell_type": "code",
   "execution_count": 47,
   "id": "734203c5",
   "metadata": {
    "scrolled": true
   },
   "outputs": [],
   "source": [
    "NUM_EPOCHS = 100\n",
    "BATCH_SIZE = 64\n",
    "tuner_lr_do.search(padded, y_train, batch_size=BATCH_SIZE, epochs=NUM_EPOCHS, \n",
    "                              callbacks=[callbacks],verbose=0,\n",
    "                              validation_data=(testing_padded, y_test))"
   ]
  },
  {
   "cell_type": "code",
   "execution_count": 48,
   "id": "5b17a83a",
   "metadata": {},
   "outputs": [
    {
     "name": "stdout",
     "output_type": "stream",
     "text": [
      "\n",
      "The hyperparameter search is complete.\n",
      " The optimal drop-out1 is 0.0\n",
      "\n",
      " The optimal units1 is 32 \n",
      "\n",
      " The optimal drop-out2 is 0.1 \n",
      "\n",
      " The optimal drop-out3 is 0.1 \n",
      "\n",
      " The optimal units2 is 224 \n",
      "\n",
      " The optimal drop-out4 is 0.2 \n",
      "\n",
      " The optimal drop-out5 is 0.2 \n",
      "\n",
      " The optimal units3 is 224 \n",
      "\n",
      " The optimal drop-out6 is 0.4 \n",
      "\n",
      " The optimal units4 is 128 \n",
      "\n",
      " The optimal drop-out7 is 0.0 \n",
      "\n",
      " The optimal units5 is 128 \n",
      "\n",
      " The optimal drop-out8 is 0.30000000000000004 \n",
      "\n",
      " and the optimal learning rate for the optimizer is 3e-05.\n",
      "\n"
     ]
    }
   ],
   "source": [
    "best_hps=tuner_lr_do.get_best_hyperparameters(num_trials=1)[0]\n",
    "\n",
    "print(f\"\"\"\n",
    "The hyperparameter search is complete.\\n The optimal drop-out1 is {best_hps.get('drop_out1')}\n",
    "\\n The optimal units1 is {best_hps.get('units1')} \n",
    "\\n The optimal drop-out2 is {best_hps.get('drop_out2')} \n",
    "\\n The optimal drop-out3 is {best_hps.get('drop_out3')} \n",
    "\\n The optimal units2 is {best_hps.get('units2')} \n",
    "\\n The optimal drop-out4 is {best_hps.get('drop_out4')} \n",
    "\\n The optimal drop-out5 is {best_hps.get('drop_out5')} \n",
    "\\n The optimal units3 is {best_hps.get('units3')} \n",
    "\\n The optimal drop-out6 is {best_hps.get('drop_out6')} \n",
    "\\n The optimal units4 is {best_hps.get('units4')} \n",
    "\\n The optimal drop-out7 is {best_hps.get('drop_out7')} \n",
    "\\n The optimal units5 is {best_hps.get('units5')} \n",
    "\\n The optimal drop-out8 is {best_hps.get('drop_out8')} \n",
    "\\n and the optimal learning rate for the optimizer is {best_hps.get('learning_rate')}.\n",
    "\"\"\")"
   ]
  },
  {
   "cell_type": "code",
   "execution_count": 49,
   "id": "2fb353da",
   "metadata": {
    "scrolled": true
   },
   "outputs": [
    {
     "name": "stdout",
     "output_type": "stream",
     "text": [
      "Model: \"sequential_1\"\n",
      "_________________________________________________________________\n",
      " Layer (type)                Output Shape              Param #   \n",
      "=================================================================\n",
      " embedding (Embedding)       (None, 32, 200)           2532400   \n",
      "                                                                 \n",
      " spatial_dropout1d_1 (Spati  (None, 32, 200)           0         \n",
      " alDropout1D)                                                    \n",
      "                                                                 \n",
      " bidirectional_2 (Bidirecti  (None, 32, 64)            59648     \n",
      " onal)                                                           \n",
      "                                                                 \n",
      " dropout_5 (Dropout)         (None, 32, 64)            0         \n",
      "                                                                 \n",
      " bidirectional_3 (Bidirecti  (None, 32, 448)           517888    \n",
      " onal)                                                           \n",
      "                                                                 \n",
      " dropout_6 (Dropout)         (None, 32, 448)           0         \n",
      "                                                                 \n",
      " conv1d_1 (Conv1D)           (None, 28, 224)           501984    \n",
      "                                                                 \n",
      " global_max_pooling1d_1 (Gl  (None, 224)               0         \n",
      " obalMaxPooling1D)                                               \n",
      "                                                                 \n",
      " dropout_7 (Dropout)         (None, 224)               0         \n",
      "                                                                 \n",
      " dense_3 (Dense)             (None, 128)               28800     \n",
      "                                                                 \n",
      " dropout_8 (Dropout)         (None, 128)               0         \n",
      "                                                                 \n",
      " dense_4 (Dense)             (None, 128)               16512     \n",
      "                                                                 \n",
      " dropout_9 (Dropout)         (None, 128)               0         \n",
      "                                                                 \n",
      " dense_5 (Dense)             (None, 1)                 129       \n",
      "                                                                 \n",
      "=================================================================\n",
      "Total params: 3657361 (13.95 MB)\n",
      "Trainable params: 1124961 (4.29 MB)\n",
      "Non-trainable params: 2532400 (9.66 MB)\n",
      "_________________________________________________________________\n"
     ]
    }
   ],
   "source": [
    "tunned_model_lstm=tuner_lr_do.hypermodel.build(best_hps)\n",
    "tunned_model_lstm.summary()"
   ]
  },
  {
   "cell_type": "code",
   "execution_count": 50,
   "id": "010cb696",
   "metadata": {
    "scrolled": true
   },
   "outputs": [
    {
     "name": "stdout",
     "output_type": "stream",
     "text": [
      "Epoch 1/100\n",
      "90/90 [==============================] - 10s 42ms/step - loss: 0.6806 - accuracy: 0.5654 - val_loss: 0.6646 - val_accuracy: 0.5935 - lr: 3.0000e-05\n",
      "Epoch 2/100\n",
      "90/90 [==============================] - 3s 28ms/step - loss: 0.6294 - accuracy: 0.6921 - val_loss: 0.5667 - val_accuracy: 0.7553 - lr: 3.0000e-05\n",
      "Epoch 3/100\n",
      "90/90 [==============================] - 3s 29ms/step - loss: 0.5383 - accuracy: 0.7528 - val_loss: 0.4944 - val_accuracy: 0.7752 - lr: 3.0000e-05\n",
      "Epoch 4/100\n",
      "90/90 [==============================] - 2s 27ms/step - loss: 0.5053 - accuracy: 0.7709 - val_loss: 0.4803 - val_accuracy: 0.7831 - lr: 3.0000e-05\n",
      "Epoch 5/100\n",
      "90/90 [==============================] - 3s 28ms/step - loss: 0.4901 - accuracy: 0.7767 - val_loss: 0.4673 - val_accuracy: 0.7925 - lr: 3.0000e-05\n",
      "Epoch 6/100\n",
      "90/90 [==============================] - 2s 26ms/step - loss: 0.4815 - accuracy: 0.7839 - val_loss: 0.4615 - val_accuracy: 0.7967 - lr: 3.0000e-05\n",
      "Epoch 7/100\n",
      "90/90 [==============================] - 3s 32ms/step - loss: 0.4722 - accuracy: 0.7970 - val_loss: 0.4548 - val_accuracy: 0.8004 - lr: 3.0000e-05\n",
      "Epoch 8/100\n",
      "90/90 [==============================] - 3s 33ms/step - loss: 0.4629 - accuracy: 0.7984 - val_loss: 0.4515 - val_accuracy: 0.8009 - lr: 3.0000e-05\n",
      "Epoch 9/100\n",
      "90/90 [==============================] - 3s 29ms/step - loss: 0.4584 - accuracy: 0.7994 - val_loss: 0.4502 - val_accuracy: 0.8030 - lr: 3.0000e-05\n",
      "Epoch 10/100\n",
      "90/90 [==============================] - 3s 29ms/step - loss: 0.4551 - accuracy: 0.8015 - val_loss: 0.4422 - val_accuracy: 0.8057 - lr: 3.0000e-05\n",
      "Epoch 11/100\n",
      "90/90 [==============================] - 3s 31ms/step - loss: 0.4451 - accuracy: 0.8033 - val_loss: 0.4393 - val_accuracy: 0.8041 - lr: 3.0000e-05\n",
      "Epoch 12/100\n",
      "90/90 [==============================] - 3s 34ms/step - loss: 0.4506 - accuracy: 0.8019 - val_loss: 0.4395 - val_accuracy: 0.8072 - lr: 3.0000e-05\n",
      "Epoch 13/100\n",
      "90/90 [==============================] - 3s 30ms/step - loss: 0.4441 - accuracy: 0.8049 - val_loss: 0.4379 - val_accuracy: 0.8088 - lr: 3.0000e-05\n",
      "Epoch 14/100\n",
      "90/90 [==============================] - 3s 30ms/step - loss: 0.4368 - accuracy: 0.8064 - val_loss: 0.4393 - val_accuracy: 0.8072 - lr: 3.0000e-05\n",
      "Epoch 15/100\n",
      "90/90 [==============================] - 3s 32ms/step - loss: 0.4374 - accuracy: 0.8098 - val_loss: 0.4321 - val_accuracy: 0.8088 - lr: 3.0000e-05\n",
      "Epoch 16/100\n",
      "90/90 [==============================] - 3s 28ms/step - loss: 0.4396 - accuracy: 0.8049 - val_loss: 0.4289 - val_accuracy: 0.8072 - lr: 3.0000e-05\n",
      "Epoch 17/100\n",
      "90/90 [==============================] - 3s 29ms/step - loss: 0.4327 - accuracy: 0.8119 - val_loss: 0.4307 - val_accuracy: 0.8104 - lr: 3.0000e-05\n",
      "Epoch 18/100\n",
      "90/90 [==============================] - 3s 33ms/step - loss: 0.4296 - accuracy: 0.8087 - val_loss: 0.4279 - val_accuracy: 0.8088 - lr: 3.0000e-05\n",
      "Epoch 19/100\n",
      "90/90 [==============================] - 3s 34ms/step - loss: 0.4236 - accuracy: 0.8161 - val_loss: 0.4230 - val_accuracy: 0.8093 - lr: 3.0000e-05\n",
      "Epoch 20/100\n",
      "90/90 [==============================] - 3s 29ms/step - loss: 0.4230 - accuracy: 0.8131 - val_loss: 0.4343 - val_accuracy: 0.8072 - lr: 3.0000e-05\n",
      "Epoch 21/100\n",
      "90/90 [==============================] - 3s 31ms/step - loss: 0.4224 - accuracy: 0.8140 - val_loss: 0.4254 - val_accuracy: 0.8078 - lr: 3.0000e-05\n",
      "Epoch 22/100\n",
      "90/90 [==============================] - 3s 29ms/step - loss: 0.4265 - accuracy: 0.8075 - val_loss: 0.4210 - val_accuracy: 0.8088 - lr: 3.0000e-05\n",
      "Epoch 23/100\n",
      "90/90 [==============================] - 3s 28ms/step - loss: 0.4165 - accuracy: 0.8180 - val_loss: 0.4210 - val_accuracy: 0.8099 - lr: 3.0000e-05\n",
      "Epoch 24/100\n",
      "90/90 [==============================] - 3s 29ms/step - loss: 0.4187 - accuracy: 0.8143 - val_loss: 0.4195 - val_accuracy: 0.8114 - lr: 3.0000e-05\n",
      "Epoch 25/100\n",
      "90/90 [==============================] - 3s 31ms/step - loss: 0.4182 - accuracy: 0.8156 - val_loss: 0.4192 - val_accuracy: 0.8093 - lr: 3.0000e-05\n",
      "Epoch 26/100\n",
      "90/90 [==============================] - 2s 26ms/step - loss: 0.4167 - accuracy: 0.8135 - val_loss: 0.4179 - val_accuracy: 0.8099 - lr: 3.0000e-05\n",
      "Epoch 27/100\n",
      "90/90 [==============================] - 3s 30ms/step - loss: 0.4111 - accuracy: 0.8182 - val_loss: 0.4192 - val_accuracy: 0.8099 - lr: 3.0000e-05\n",
      "Epoch 28/100\n",
      "90/90 [==============================] - 3s 28ms/step - loss: 0.4177 - accuracy: 0.8149 - val_loss: 0.4190 - val_accuracy: 0.8099 - lr: 3.0000e-05\n",
      "Epoch 29/100\n",
      "90/90 [==============================] - 3s 30ms/step - loss: 0.4131 - accuracy: 0.8196 - val_loss: 0.4171 - val_accuracy: 0.8062 - lr: 3.0000e-05\n",
      "Epoch 30/100\n",
      "90/90 [==============================] - 3s 30ms/step - loss: 0.4110 - accuracy: 0.8192 - val_loss: 0.4171 - val_accuracy: 0.8114 - lr: 3.0000e-05\n",
      "Epoch 31/100\n",
      "90/90 [==============================] - 3s 29ms/step - loss: 0.4118 - accuracy: 0.8199 - val_loss: 0.4190 - val_accuracy: 0.8104 - lr: 3.0000e-05\n",
      "Epoch 32/100\n",
      "90/90 [==============================] - 3s 34ms/step - loss: 0.4100 - accuracy: 0.8184 - val_loss: 0.4182 - val_accuracy: 0.8114 - lr: 3.0000e-05\n",
      "Epoch 33/100\n",
      "90/90 [==============================] - 2s 27ms/step - loss: 0.4053 - accuracy: 0.8217 - val_loss: 0.4210 - val_accuracy: 0.8072 - lr: 3.0000e-05\n",
      "Epoch 34/100\n",
      "90/90 [==============================] - 2s 26ms/step - loss: 0.4064 - accuracy: 0.8220 - val_loss: 0.4193 - val_accuracy: 0.8088 - lr: 3.0000e-05\n",
      "Epoch 35/100\n",
      "90/90 [==============================] - 3s 29ms/step - loss: 0.4018 - accuracy: 0.8224 - val_loss: 0.4135 - val_accuracy: 0.8136 - lr: 6.0000e-06\n",
      "Epoch 36/100\n",
      "90/90 [==============================] - 3s 28ms/step - loss: 0.4031 - accuracy: 0.8210 - val_loss: 0.4133 - val_accuracy: 0.8141 - lr: 6.0000e-06\n",
      "Epoch 37/100\n",
      "90/90 [==============================] - 2s 28ms/step - loss: 0.4006 - accuracy: 0.8261 - val_loss: 0.4133 - val_accuracy: 0.8141 - lr: 6.0000e-06\n",
      "Epoch 38/100\n",
      "90/90 [==============================] - 3s 29ms/step - loss: 0.4007 - accuracy: 0.8254 - val_loss: 0.4134 - val_accuracy: 0.8146 - lr: 6.0000e-06\n",
      "Epoch 39/100\n",
      "90/90 [==============================] - 3s 33ms/step - loss: 0.4013 - accuracy: 0.8238 - val_loss: 0.4131 - val_accuracy: 0.8141 - lr: 6.0000e-06\n",
      "Epoch 40/100\n",
      "90/90 [==============================] - 3s 29ms/step - loss: 0.3989 - accuracy: 0.8268 - val_loss: 0.4129 - val_accuracy: 0.8146 - lr: 6.0000e-06\n",
      "Epoch 41/100\n",
      "90/90 [==============================] - 3s 30ms/step - loss: 0.4012 - accuracy: 0.8271 - val_loss: 0.4133 - val_accuracy: 0.8136 - lr: 6.0000e-06\n",
      "Epoch 42/100\n",
      "90/90 [==============================] - 3s 30ms/step - loss: 0.4022 - accuracy: 0.8227 - val_loss: 0.4134 - val_accuracy: 0.8146 - lr: 6.0000e-06\n",
      "Epoch 43/100\n",
      "90/90 [==============================] - 3s 30ms/step - loss: 0.4012 - accuracy: 0.8252 - val_loss: 0.4131 - val_accuracy: 0.8141 - lr: 6.0000e-06\n",
      "Epoch 44/100\n",
      "90/90 [==============================] - 3s 30ms/step - loss: 0.3979 - accuracy: 0.8252 - val_loss: 0.4132 - val_accuracy: 0.8136 - lr: 6.0000e-06\n",
      "Epoch 45/100\n",
      "90/90 [==============================] - 3s 29ms/step - loss: 0.3983 - accuracy: 0.8275 - val_loss: 0.4127 - val_accuracy: 0.8130 - lr: 6.0000e-06\n",
      "Epoch 46/100\n",
      "90/90 [==============================] - 3s 30ms/step - loss: 0.3990 - accuracy: 0.8226 - val_loss: 0.4130 - val_accuracy: 0.8141 - lr: 6.0000e-06\n",
      "Epoch 47/100\n",
      "90/90 [==============================] - 2s 24ms/step - loss: 0.3992 - accuracy: 0.8278 - val_loss: 0.4147 - val_accuracy: 0.8125 - lr: 6.0000e-06\n",
      "Epoch 48/100\n",
      "90/90 [==============================] - 2s 27ms/step - loss: 0.3986 - accuracy: 0.8234 - val_loss: 0.4133 - val_accuracy: 0.8136 - lr: 6.0000e-06\n",
      "Epoch 49/100\n",
      "90/90 [==============================] - 3s 28ms/step - loss: 0.3986 - accuracy: 0.8236 - val_loss: 0.4140 - val_accuracy: 0.8136 - lr: 6.0000e-06\n",
      "Epoch 50/100\n",
      "90/90 [==============================] - 2s 27ms/step - loss: 0.3994 - accuracy: 0.8233 - val_loss: 0.4134 - val_accuracy: 0.8136 - lr: 6.0000e-06\n",
      "Epoch 51/100\n",
      "90/90 [==============================] - 3s 29ms/step - loss: 0.3978 - accuracy: 0.8236 - val_loss: 0.4130 - val_accuracy: 0.8136 - lr: 1.2000e-06\n",
      "Epoch 52/100\n"
     ]
    },
    {
     "name": "stdout",
     "output_type": "stream",
     "text": [
      "90/90 [==============================] - 3s 30ms/step - loss: 0.3992 - accuracy: 0.8255 - val_loss: 0.4128 - val_accuracy: 0.8120 - lr: 1.2000e-06\n",
      "Epoch 53/100\n",
      "90/90 [==============================] - 3s 29ms/step - loss: 0.4001 - accuracy: 0.8241 - val_loss: 0.4129 - val_accuracy: 0.8141 - lr: 1.2000e-06\n",
      "Epoch 54/100\n",
      "90/90 [==============================] - 2s 25ms/step - loss: 0.3963 - accuracy: 0.8233 - val_loss: 0.4129 - val_accuracy: 0.8141 - lr: 1.2000e-06\n",
      "Epoch 55/100\n",
      "90/90 [==============================] - 2s 27ms/step - loss: 0.3977 - accuracy: 0.8255 - val_loss: 0.4128 - val_accuracy: 0.8141 - lr: 1.2000e-06\n"
     ]
    }
   ],
   "source": [
    "final_model=tunned_model_lstm.fit(padded, y_train, batch_size=BATCH_SIZE, epochs=NUM_EPOCHS, \n",
    "                              callbacks=[callbacks],\n",
    "                              validation_data=(testing_padded, y_test))"
   ]
  },
  {
   "cell_type": "markdown",
   "id": "402422df",
   "metadata": {},
   "source": [
    "### Assessing Model Performance"
   ]
  },
  {
   "cell_type": "code",
   "execution_count": 51,
   "id": "4d38a672",
   "metadata": {
    "scrolled": false
   },
   "outputs": [
    {
     "data": {
      "image/png": "[encoded data removed]",
      "text/plain": [
       "<Figure size 640x480 with 1 Axes>"
      ]
     },
     "metadata": {},
     "output_type": "display_data"
    },
    {
     "data": {
      "image/png": "[encoded data removed]",
      "text/plain": [
       "<Figure size 640x480 with 1 Axes>"
      ]
     },
     "metadata": {},
     "output_type": "display_data"
    }
   ],
   "source": [
    "# Plotting the accuracy and loss history\n",
    "plot_graphs(final_model, 'accuracy')\n",
    "plot_graphs(final_model, 'loss')"
   ]
  },
  {
   "cell_type": "code",
   "execution_count": 52,
   "id": "ec132979",
   "metadata": {},
   "outputs": [
    {
     "name": "stdout",
     "output_type": "stream",
     "text": [
      "60/60 [==============================] - 1s 10ms/step\n",
      "****** Test Data ********\n",
      "F1: 0.7667103538663173\n",
      "              precision    recall  f1-score   support\n",
      "\n",
      "           0       0.79      0.90      0.84      1069\n",
      "           1       0.85      0.70      0.77       835\n",
      "\n",
      "    accuracy                           0.81      1904\n",
      "   macro avg       0.82      0.80      0.81      1904\n",
      "weighted avg       0.82      0.81      0.81      1904\n",
      "\n",
      "Confusion Matrix\n"
     ]
    },
    {
     "data": {
      "text/plain": [
       "<sklearn.metrics._plot.confusion_matrix.ConfusionMatrixDisplay at 0x7f1fe1ec29a0>"
      ]
     },
     "execution_count": 52,
     "metadata": {},
     "output_type": "execute_result"
    },
    {
     "data": {
      "image/png": "[encoded data removed]",
      "text/plain": [
       "<Figure size 640x480 with 2 Axes>"
      ]
     },
     "metadata": {},
     "output_type": "display_data"
    }
   ],
   "source": [
    "y_pred_valid = tf.math.round(tunned_model_lstm.predict(testing_padded)).numpy().astype(int) \n",
    "from sklearn import metrics\n",
    "from sklearn.metrics import ConfusionMatrixDisplay, confusion_matrix\n",
    "print(\"****** Test Data ********\")\n",
    "print(f\"F1: {metrics.f1_score(y_test, y_pred_valid)}\")\n",
    "# Printing performance details\n",
    "print(metrics.classification_report(y_test, y_pred_valid))\n",
    "\n",
    "# Printing confusion matrix\n",
    "print(\"Confusion Matrix\")\n",
    "ConfusionMatrixDisplay.from_predictions(\n",
    "        y_test,\n",
    "        y_pred_valid,\n",
    "        display_labels=[\"Not Disaster\",\"Disaster\"],\n",
    "        cmap=plt.cm.Blues\n",
    "    )"
   ]
  },
  {
   "cell_type": "markdown",
   "id": "1bb41e36",
   "metadata": {},
   "source": [
    "### Exploring Misclassifications: A Glimpse into Incorrect Classifications"
   ]
  },
  {
   "cell_type": "code",
   "execution_count": 53,
   "id": "d47f6184",
   "metadata": {},
   "outputs": [
    {
     "name": "stdout",
     "output_type": "stream",
     "text": [
      "******************************************************************\n",
      "predicted: 0 , actual: 1\n",
      "photo blue by user source url url\n",
      "******************************************************************\n",
      "predicted: 0 , actual: 1\n",
      "user smile well i think that sounds like a fine plan where little derailment is possible so i applaud you smile\n",
      "******************************************************************\n",
      "predicted: 0 , actual: 1\n",
      "he came to a land which was engulfed in tribal war and turned it into a land of peace ie madinah prophetmuhammad islam\n",
      "******************************************************************\n",
      "predicted: 1 , actual: 0\n",
      "coastal german shepherd rescue oc shared a link ecstatic rescued racco url animalrescue\n",
      "******************************************************************\n",
      "predicted: 1 , actual: 0\n",
      "nikoniko breaking news unconfirmed i just heard a loud bang nearby in what appears to be a blast of wind from my neighbours ass\n",
      "******************************************************************\n",
      "predicted: 0 , actual: 1\n",
      "grace this is not your first storm you know bicycles fences trees will fly as well as idiots drowning that go by swollen rivers\n",
      "******************************************************************\n",
      "predicted: 0 , actual: 1\n",
      "africanbaze breaking newsnigeria flag set ablaze in aba url\n",
      "******************************************************************\n",
      "predicted: 1 , actual: 0\n",
      "user make natural disaster reporting more interesting by adding the to headlines such as rescuers are sifting through the wreckage\n",
      "******************************************************************\n",
      "predicted: 0 , actual: 1\n",
      "house energy ampamp commerce subcommittee to hold hearing of cdc oversight of bioterror labs army anthrax mishaps httû\n",
      "******************************************************************\n",
      "predicted: 0 , actual: 1\n",
      "armageddon url\n"
     ]
    }
   ],
   "source": [
    "#checking misclasifications\n",
    "maxtoshow=10\n",
    "flattened_preds=y_pred_valid.flatten()\n",
    "np_y_test=y_test.to_numpy()\n",
    "np_X_test=X_test.to_numpy()\n",
    "errors = flattened_preds != np_y_test\n",
    "counter=0\n",
    "for i in range(X_test.shape[0]):\n",
    "    if counter>=maxtoshow:\n",
    "        break   \n",
    "    if errors[i]:\n",
    "        print(\"*\"*66)\n",
    "        print(f\"predicted: {flattened_preds[i]} , actual: {np_y_test[i]}\")\n",
    "        print(np_X_test[i])\n",
    "        counter+=1"
   ]
  },
  {
   "cell_type": "markdown",
   "id": "f157174b",
   "metadata": {},
   "source": [
    "## Predicting Test Set Outcomes"
   ]
  },
  {
   "cell_type": "code",
   "execution_count": 54,
   "id": "441c9637",
   "metadata": {},
   "outputs": [],
   "source": [
    "df_test=pd.read_csv(\"test.csv\")\n",
    "sentences_test = df_test['text']"
   ]
  },
  {
   "cell_type": "code",
   "execution_count": 55,
   "id": "62d611b3",
   "metadata": {},
   "outputs": [],
   "source": [
    "sentences_test=sentences_test.apply(remove_stopwords)\n",
    "df_test_padded = seq_pad_and_trunc(sentences_test, tokenizer, padding, trunc_type, max_length)"
   ]
  },
  {
   "cell_type": "code",
   "execution_count": 56,
   "id": "b7eecd04",
   "metadata": {},
   "outputs": [],
   "source": [
    "final_out=pd.DataFrame(columns=['id', 'target'])"
   ]
  },
  {
   "cell_type": "code",
   "execution_count": 57,
   "id": "426d0418",
   "metadata": {},
   "outputs": [
    {
     "name": "stdout",
     "output_type": "stream",
     "text": [
      "102/102 [==============================] - 1s 11ms/step\n"
     ]
    }
   ],
   "source": [
    "final_out['id']=df_test['id']\n",
    "final_out['target'] = tf.math.round(tunned_model_lstm.predict(df_test_padded)).numpy().astype(int) "
   ]
  },
  {
   "cell_type": "code",
   "execution_count": 58,
   "id": "604a62d1",
   "metadata": {},
   "outputs": [
    {
     "name": "stdout",
     "output_type": "stream",
     "text": [
      "Your submission was successfully saved!\n"
     ]
    }
   ],
   "source": [
    "final_out.to_csv('submission.csv', index=False)\n",
    "print(\"Your submission was successfully saved!\")"
   ]
  }
 ],
 "metadata": {
  "kernelspec": {
   "display_name": "advancedml",
   "language": "python",
   "name": "advancedml"
  },
  "language_info": {
   "codemirror_mode": {
    "name": "ipython",
    "version": 3
   },
   "file_extension": ".py",
   "mimetype": "text/x-python",
   "name": "python",
   "nbconvert_exporter": "python",
   "pygments_lexer": "ipython3",
   "version": "3.9.18"
  }
 },
 "nbformat": 4,
 "nbformat_minor": 5
}
