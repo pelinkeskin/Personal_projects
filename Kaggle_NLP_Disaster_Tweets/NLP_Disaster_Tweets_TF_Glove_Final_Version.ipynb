{
 "cells": [
  {
   "cell_type": "markdown",
   "id": "3e029b32",
   "metadata": {},
   "source": [
    "# NLP with Disaster Tweets: Tensorflow LSTM-CNN-Glove"
   ]
  },
  {
   "cell_type": "markdown",
   "id": "e5ef3774",
   "metadata": {},
   "source": [
    "### Abstract"
   ]
  },
  {
   "cell_type": "markdown",
   "id": "39e50f6f",
   "metadata": {},
   "source": [
    "   In this notebook, I undertook the preprocessing of the dataset and tailored it for DNN training. Initially, I conducted experiments with LSTM, training the embedding layer within the network. However, this approach resulted in overfitting due to the limited size of the training data. Subsequently, I incorporated a 200-dimensional Twitter version of Stanford's [GloVe](https://nlp.stanford.edu/projects/glove/) embeddings, exploring various architectures and ultimately opting for a straightforward LSTM-CNN hybrid model. To refine the model further, I fine-tuned the hyperparameters of the LSTM-CNN hybrid using Bayesian Optimization with Keras Tuner.\n",
    "\n",
    "   As a beginner, I welcome your comments.😊 But I kindly request that you provide constructive feedback in a gentle manner, as I am new to this and still learning. 😅 And please rate my notebook if you find it helpful. 🤗"
   ]
  },
  {
   "cell_type": "markdown",
   "id": "10c0976c",
   "metadata": {},
   "source": [
    "#### Version 3 updates\n",
    "* Changed activation functions & kernal initializers\n",
    "* Changed metrics for eval/early-stop and the objective of keras-tunner for model selection\n",
    "* Added L2 regularization to dense layers\n",
    "* Added roc-auc precision-recall curve graphs to model evaluation \n",
    "* Added a seperate step for fine-tuning learning rate\n",
    "* Changed hyper model to tune number of layers as well as number of hidden units and dropouts "
   ]
  },
  {
   "cell_type": "markdown",
   "id": "f7a610ea",
   "metadata": {},
   "source": [
    "### Checking GPU configs"
   ]
  },
  {
   "cell_type": "code",
   "execution_count": 1,
   "id": "928807a2",
   "metadata": {},
   "outputs": [
    {
     "name": "stdout",
     "output_type": "stream",
     "text": [
      "Thu Nov 23 00:46:04 2023       \n",
      "+---------------------------------------------------------------------------------------+\n",
      "| NVIDIA-SMI 545.23.06              Driver Version: 545.23.06    CUDA Version: 12.3     |\n",
      "|-----------------------------------------+----------------------+----------------------+\n",
      "| GPU  Name                 Persistence-M | Bus-Id        Disp.A | Volatile Uncorr. ECC |\n",
      "| Fan  Temp   Perf          Pwr:Usage/Cap |         Memory-Usage | GPU-Util  Compute M. |\n",
      "|                                         |                      |               MIG M. |\n",
      "|=========================================+======================+======================|\n",
      "|   0  NVIDIA GeForce RTX 3050 ...    On  | 00000000:01:00.0 Off |                  N/A |\n",
      "| N/A   40C    P8               9W /  80W |     12MiB /  4096MiB |      0%      Default |\n",
      "|                                         |                      |                  N/A |\n",
      "+-----------------------------------------+----------------------+----------------------+\n",
      "                                                                                         \n",
      "+---------------------------------------------------------------------------------------+\n",
      "| Processes:                                                                            |\n",
      "|  GPU   GI   CI        PID   Type   Process name                            GPU Memory |\n",
      "|        ID   ID                                                             Usage      |\n",
      "|=======================================================================================|\n",
      "|    0   N/A  N/A      3773      G   /usr/lib/xorg/Xorg                            4MiB |\n",
      "+---------------------------------------------------------------------------------------+\n"
     ]
    }
   ],
   "source": [
    "#Checking GPU to understand how much memory available for training\n",
    "!nvidia-smi"
   ]
  },
  {
   "cell_type": "code",
   "execution_count": 2,
   "id": "9be208c6",
   "metadata": {},
   "outputs": [
    {
     "data": {
      "text/plain": [
       "[3890]"
      ]
     },
     "execution_count": 2,
     "metadata": {},
     "output_type": "execute_result"
    }
   ],
   "source": [
    "import subprocess as sp\n",
    "import os\n",
    "def get_gpu_memory():\n",
    "    command = \"nvidia-smi --query-gpu=memory.free --format=csv\"\n",
    "    memory_free_info = sp.check_output(command.split()).decode('ascii').split('\\n')[:-1][1:]\n",
    "    memory_free_values = [int(x.split()[0]) for i, x in enumerate(memory_free_info)]\n",
    "    return memory_free_values\n",
    "\n",
    "get_gpu_memory()"
   ]
  },
  {
   "cell_type": "markdown",
   "id": "2ee5e190",
   "metadata": {},
   "source": [
    "### Importing useful libraries"
   ]
  },
  {
   "cell_type": "code",
   "execution_count": 3,
   "id": "379b0d2d",
   "metadata": {},
   "outputs": [],
   "source": [
    "import warnings\n",
    "warnings.filterwarnings('ignore')\n",
    "os.environ['TF_CPP_MIN_LOG_LEVEL'] = '2' "
   ]
  },
  {
   "cell_type": "code",
   "execution_count": 4,
   "id": "5a34a747",
   "metadata": {},
   "outputs": [],
   "source": [
    "#os.environ['TF_CPP_MIN_LOG_LEVEL'] = '2' \n",
    "os.environ['KMP_DUPLICATE_LIB_OK']='True'"
   ]
  },
  {
   "cell_type": "code",
   "execution_count": 5,
   "id": "d1f7bd16-cda3-4c45-a6ac-345d409a1349",
   "metadata": {
    "scrolled": true
   },
   "outputs": [
    {
     "name": "stderr",
     "output_type": "stream",
     "text": [
      "2023-11-23 00:46:05.050783: E tensorflow/compiler/xla/stream_executor/cuda/cuda_dnn.cc:9342] Unable to register cuDNN factory: Attempting to register factory for plugin cuDNN when one has already been registered\n",
      "2023-11-23 00:46:05.050867: E tensorflow/compiler/xla/stream_executor/cuda/cuda_fft.cc:609] Unable to register cuFFT factory: Attempting to register factory for plugin cuFFT when one has already been registered\n",
      "2023-11-23 00:46:05.052161: E tensorflow/compiler/xla/stream_executor/cuda/cuda_blas.cc:1518] Unable to register cuBLAS factory: Attempting to register factory for plugin cuBLAS when one has already been registered\n"
     ]
    }
   ],
   "source": [
    "#Enabling memory growth for GPU\n",
    "from tensorflow.compat.v1 import ConfigProto\n",
    "from tensorflow.compat.v1 import InteractiveSession\n",
    "config = ConfigProto()\n",
    "config.gpu_options.allow_growth = True\n",
    "session = InteractiveSession(config=config)\n",
    "import tensorflow as tf"
   ]
  },
  {
   "cell_type": "code",
   "execution_count": 6,
   "id": "2ee7a2f4",
   "metadata": {},
   "outputs": [],
   "source": [
    "import gc\n",
    "import pandas as pd\n",
    "import numpy as np\n",
    "import tensorflow_addons as tfa\n",
    "from tensorflow.keras.preprocessing.text import Tokenizer\n",
    "from tensorflow.keras.preprocessing.sequence import pad_sequences\n",
    "from tensorflow.keras.callbacks import Callback\n",
    "from sklearn.model_selection import train_test_split\n",
    "import keras_tuner as kt\n",
    "from sklearn.metrics import RocCurveDisplay, PrecisionRecallDisplay\n",
    "from sklearn.metrics import auc, roc_curve\n",
    "from sklearn import metrics\n",
    "from sklearn.metrics import ConfusionMatrixDisplay, confusion_matrix\n",
    "from tensorflow.keras import regularizers\n",
    "from tensorflow.keras.layers import LeakyReLU\n",
    "import matplotlib.pyplot as plt"
   ]
  },
  {
   "cell_type": "code",
   "execution_count": 7,
   "id": "705510d4",
   "metadata": {},
   "outputs": [],
   "source": [
    "# for reproducibility\n",
    "seed0=1337\n",
    "np.random.seed(seed0) \n",
    "tf.keras.utils.set_random_seed(seed0)\n",
    "tf.config.experimental.enable_op_determinism()"
   ]
  },
  {
   "cell_type": "code",
   "execution_count": 8,
   "id": "6d338776",
   "metadata": {},
   "outputs": [],
   "source": [
    "pd.set_option('display.max_colwidth', None)"
   ]
  },
  {
   "cell_type": "code",
   "execution_count": 9,
   "id": "41ccdebe",
   "metadata": {},
   "outputs": [
    {
     "name": "stderr",
     "output_type": "stream",
     "text": [
      "[nltk_data] Downloading package stopwords to /home/pelin/nltk_data...\n",
      "[nltk_data]   Package stopwords is already up-to-date!\n"
     ]
    },
    {
     "data": {
      "text/plain": [
       "True"
      ]
     },
     "execution_count": 9,
     "metadata": {},
     "output_type": "execute_result"
    }
   ],
   "source": [
    "import string\n",
    "import nltk\n",
    "nltk.download('stopwords')"
   ]
  },
  {
   "cell_type": "code",
   "execution_count": 10,
   "id": "c602d28e",
   "metadata": {},
   "outputs": [],
   "source": [
    "from nltk.corpus import stopwords\n",
    "import re"
   ]
  },
  {
   "cell_type": "markdown",
   "id": "a8a56c46",
   "metadata": {},
   "source": [
    "## Preprocessing"
   ]
  },
  {
   "cell_type": "code",
   "execution_count": 11,
   "id": "12c78104",
   "metadata": {},
   "outputs": [],
   "source": [
    "df=pd.read_csv(\"train.csv\")"
   ]
  },
  {
   "cell_type": "code",
   "execution_count": 12,
   "id": "a803a733",
   "metadata": {
    "scrolled": true
   },
   "outputs": [
    {
     "data": {
      "text/plain": [
       "(7613, 5)"
      ]
     },
     "metadata": {},
     "output_type": "display_data"
    },
    {
     "data": {
      "text/html": [
       "<div>\n",
       "<style scoped>\n",
       "    .dataframe tbody tr th:only-of-type {\n",
       "        vertical-align: middle;\n",
       "    }\n",
       "\n",
       "    .dataframe tbody tr th {\n",
       "        vertical-align: top;\n",
       "    }\n",
       "\n",
       "    .dataframe thead th {\n",
       "        text-align: right;\n",
       "    }\n",
       "</style>\n",
       "<table border=\"1\" class=\"dataframe\">\n",
       "  <thead>\n",
       "    <tr style=\"text-align: right;\">\n",
       "      <th></th>\n",
       "      <th>id</th>\n",
       "      <th>keyword</th>\n",
       "      <th>location</th>\n",
       "      <th>text</th>\n",
       "      <th>target</th>\n",
       "    </tr>\n",
       "  </thead>\n",
       "  <tbody>\n",
       "    <tr>\n",
       "      <th>0</th>\n",
       "      <td>1</td>\n",
       "      <td>NaN</td>\n",
       "      <td>NaN</td>\n",
       "      <td>Our Deeds are the Reason of this #earthquake May ALLAH Forgive us all</td>\n",
       "      <td>1</td>\n",
       "    </tr>\n",
       "    <tr>\n",
       "      <th>1</th>\n",
       "      <td>4</td>\n",
       "      <td>NaN</td>\n",
       "      <td>NaN</td>\n",
       "      <td>Forest fire near La Ronge Sask. Canada</td>\n",
       "      <td>1</td>\n",
       "    </tr>\n",
       "    <tr>\n",
       "      <th>2</th>\n",
       "      <td>5</td>\n",
       "      <td>NaN</td>\n",
       "      <td>NaN</td>\n",
       "      <td>All residents asked to 'shelter in place' are being notified by officers. No other evacuation or shelter in place orders are expected</td>\n",
       "      <td>1</td>\n",
       "    </tr>\n",
       "    <tr>\n",
       "      <th>3</th>\n",
       "      <td>6</td>\n",
       "      <td>NaN</td>\n",
       "      <td>NaN</td>\n",
       "      <td>13,000 people receive #wildfires evacuation orders in California</td>\n",
       "      <td>1</td>\n",
       "    </tr>\n",
       "    <tr>\n",
       "      <th>4</th>\n",
       "      <td>7</td>\n",
       "      <td>NaN</td>\n",
       "      <td>NaN</td>\n",
       "      <td>Just got sent this photo from Ruby #Alaska as smoke from #wildfires pours into a school</td>\n",
       "      <td>1</td>\n",
       "    </tr>\n",
       "  </tbody>\n",
       "</table>\n",
       "</div>"
      ],
      "text/plain": [
       "   id keyword location  \\\n",
       "0   1     NaN      NaN   \n",
       "1   4     NaN      NaN   \n",
       "2   5     NaN      NaN   \n",
       "3   6     NaN      NaN   \n",
       "4   7     NaN      NaN   \n",
       "\n",
       "                                                                                                                                    text  \\\n",
       "0                                                                  Our Deeds are the Reason of this #earthquake May ALLAH Forgive us all   \n",
       "1                                                                                                 Forest fire near La Ronge Sask. Canada   \n",
       "2  All residents asked to 'shelter in place' are being notified by officers. No other evacuation or shelter in place orders are expected   \n",
       "3                                                                      13,000 people receive #wildfires evacuation orders in California    \n",
       "4                                               Just got sent this photo from Ruby #Alaska as smoke from #wildfires pours into a school    \n",
       "\n",
       "   target  \n",
       "0       1  \n",
       "1       1  \n",
       "2       1  \n",
       "3       1  \n",
       "4       1  "
      ]
     },
     "metadata": {},
     "output_type": "display_data"
    }
   ],
   "source": [
    "display(df.shape)\n",
    "display(df.head(5))"
   ]
  },
  {
   "cell_type": "code",
   "execution_count": 13,
   "id": "732bc3ba",
   "metadata": {},
   "outputs": [],
   "source": [
    "#splitting dataset to train-test segments for training and validation\n",
    "def parse_data_from_dataframe(df):\n",
    "    sentences = df['text']\n",
    "    labels = df['target']\n",
    "    X_train, X_test, y_train, y_test = train_test_split(sentences,\n",
    "                                                  labels,\n",
    "                                                  test_size=0.30,\n",
    "                                                  random_state=seed0,\n",
    "                                                       shuffle=True)\n",
    "    \n",
    "    return X_train, X_test, y_train, y_test"
   ]
  },
  {
   "cell_type": "markdown",
   "id": "a6088bba",
   "metadata": {},
   "source": [
    "Source for some of the twitter specific regex: https://www.kaggle.com/code/stoicstatic/twitter-sentiment-analysis-using-word2vec-bilstm "
   ]
  },
  {
   "cell_type": "code",
   "execution_count": 14,
   "id": "4932e422",
   "metadata": {},
   "outputs": [],
   "source": [
    "def remove_stopwords(sentence):\n",
    "    # Replace @USERNAME to '<user>'.\n",
    "    sentence = re.sub('@[^\\s]+','user', sentence)\n",
    "    #removing html tags\n",
    "    sentence = re.sub(r'<.*?>',r'',sentence)\n",
    "    # Replace all URls with '<url>'\n",
    "    sentence = re.sub(r'''(?i)\\b((?:https?://|www\\d{0,3}[.]|[a-z0-9.\\-]+[.][a-z]{2,4}/)(?:[^\\s()<>]+|\\(([^\\s()<>]+|(\\([^\\s()<>]+\\)))*\\))+(?:\\(([^\\s()<>]+|(\\([^\\s()<>]+\\)))*\\)|[^\\s`!()\\[\\]{};:'\".,<>?«»“”‘’]))''', \"<url>\", sentence)\n",
    "    # Adding space on either side of '/' to seperate words (After replacing URLS).\n",
    "    sentence = re.sub(r'/', ' / ', sentence)\n",
    "\n",
    "    # Replace 3 or more consecutive letters by 2 letter.\n",
    "    sentence = re.sub(r\"(.)\\1\\1+\", r\"\\1\\1\", sentence)\n",
    "\n",
    "    sentence = re.sub(r'<.*?>',r'',sentence)\n",
    "    \n",
    "    # Replace all emojis.\n",
    "    sentence = re.sub(r'<3', '<heart>', sentence)\n",
    "    sentence = re.sub(r\"[8:=;]['`\\-]?[)d]+\", '<smile>', sentence)\n",
    "    sentence = re.sub(r\"[8:=;]['`\\-]?\\(+\", '<sadface>', sentence)\n",
    "    sentence = re.sub(r\"[8:=;]['`\\-]?[\\/|l*]\", '<neutralface>', sentence)\n",
    "    sentence = re.sub(r\"[8:=;]['`\\-]?p+\", '<lolface>', sentence)\n",
    "    \n",
    "\n",
    "    #removing punctuation\n",
    "    sentence  = \"\".join([char for char in sentence if char not in string.punctuation])\n",
    "    #removing numerics\n",
    "    sentence = re.sub('[0-9]+', '', sentence)\n",
    "    \n",
    "    #stopwords_list = list(set(stopwords.words('english')))\n",
    "    #sentence=[x for x in sentence if x not in stopwords_list]\n",
    "    sentence = sentence.lower().split()\n",
    "    \n",
    "    return \" \".join(sentence)"
   ]
  },
  {
   "cell_type": "code",
   "execution_count": 15,
   "id": "258d6c60",
   "metadata": {},
   "outputs": [],
   "source": [
    "X_train, X_test, y_train, y_test = parse_data_from_dataframe(df)"
   ]
  },
  {
   "cell_type": "code",
   "execution_count": 16,
   "id": "3a34f1df",
   "metadata": {
    "scrolled": true
   },
   "outputs": [
    {
     "data": {
      "text/plain": [
       "546                                                                                             No snowflake in an avalanche ever feels responsible.\n",
       "3944        Flood Advisory issued August 05 at 7:10PM CDT until August 05 at 8:00PM CDT by NWS: ...THE URBAN AND ... http://t.co/SeMw5cQ7Dg #weather\n",
       "4506                     Hurricane Dancers: The First Caribbean Pirate Shipwreck\\nMargarita Engle - Henry Holt and Co. (BYR). http://t.co/i7EskymOec\n",
       "413                                                                 #NOWPLAYING Arsonist MC -  So Impressed -  @ARSONISTMUSIC http://t.co/1ElreH1jLJ\n",
       "7420                                             Police Officer Wounded Suspect Dead After Exchanging Shots http://t.co/brE2lGmn7C #ABC #News #AN247\n",
       "6766                                                                                                                      @Ayshun_Tornado then don't\n",
       "2887    @POTUS you until you drown by water entering the lungs. You being alive has caused this great country to fall to shit because you're a pussy\n",
       "3819                                I just added 'Sandy First Responders Lost Their Homes' to VIP Home Page Group on @Vimeo: https://t.co/lKXi6UXjaQ\n",
       "Name: text, dtype: object"
      ]
     },
     "execution_count": 16,
     "metadata": {},
     "output_type": "execute_result"
    }
   ],
   "source": [
    "#checking samples from the dataset before preprocess\n",
    "X_train[51:59]"
   ]
  },
  {
   "cell_type": "code",
   "execution_count": 17,
   "id": "be568b1b",
   "metadata": {},
   "outputs": [],
   "source": [
    "X_train=X_train.apply(remove_stopwords)\n",
    "X_test=X_test.apply(remove_stopwords)"
   ]
  },
  {
   "cell_type": "code",
   "execution_count": 18,
   "id": "067ed34b",
   "metadata": {
    "scrolled": true
   },
   "outputs": [
    {
     "data": {
      "text/plain": [
       "546                                                                                          no snowflake in an avalanche ever feels responsible\n",
       "3944                                                  flood advisory issued august at pm cdt until august at pm cdt by nws the urban and weather\n",
       "4506                                                hurricane dancers the first caribbean pirate shipwreck margarita engle henry holt and co byr\n",
       "413                                                                                                     nowplaying arsonist mc so impressed user\n",
       "7420                                                                      police officer wounded suspect dead after exchanging shots abc news an\n",
       "6766                                                                                                                              user then dont\n",
       "2887    user you until you drown by water entering the lungs you being alive has caused this great country to fall to shit because youre a pussy\n",
       "3819                                                         i just added sandy first responders lost their homes to vip home page group on user\n",
       "Name: text, dtype: object"
      ]
     },
     "execution_count": 18,
     "metadata": {},
     "output_type": "execute_result"
    }
   ],
   "source": [
    "#checking samples from the dataset after preprocess\n",
    "X_train[51:59]"
   ]
  },
  {
   "cell_type": "code",
   "execution_count": 19,
   "id": "f029ac27",
   "metadata": {},
   "outputs": [
    {
     "name": "stdout",
     "output_type": "stream",
     "text": [
      "There are 5329 sentences in the dataset.\n",
      "\n",
      "Train set info:\n",
      "First sentence has 17 words (after removing stopwords).\n",
      "\n",
      "Max lenght of sentence has 32 words (after removing stopwords).\n",
      "\n",
      "There are 5329 labels in the dataset.\n",
      "\n",
      "The first 5 labels are 1927    0\n",
      "3229    0\n",
      "3505    0\n",
      "6430    1\n",
      "5369    0\n",
      "Name: target, dtype: int64\n",
      "\n",
      "\n",
      "Test set info:\n",
      "There are 2284 sentences in the dataset.\n",
      "\n",
      "First sentence has 14 words (after removing stopwords).\n",
      "\n",
      "Max lenght of sentence has 32 words (after removing stopwords).\n",
      "\n",
      "There are 2284 labels in the dataset.\n",
      "\n",
      "The first 5 labels are 1948    0\n",
      "5508    0\n",
      "5041    0\n",
      "4147    0\n",
      "5108    1\n",
      "Name: target, dtype: int64\n",
      "\n",
      "\n"
     ]
    }
   ],
   "source": [
    "print(f\"There are {len(X_train)} sentences in the dataset.\\n\")\n",
    "\n",
    "max_len_train=X_train.str.split().map(lambda x: len(x)).max()\n",
    "print(\"Train set info:\")\n",
    "print(f\"First sentence has {len(X_train.head(1).values[0].split())} words (after removing stopwords).\\n\")\n",
    "print(f\"Max lenght of sentence has {max_len_train} words (after removing stopwords).\\n\")\n",
    "print(f\"There are {len(y_train)} labels in the dataset.\\n\")\n",
    "print(f\"The first 5 labels are {y_train.head(5)}\\n\\n\")\n",
    "\n",
    "max_len_test=X_test.str.split().map(lambda x: len(x)).max()\n",
    "print(\"Test set info:\")\n",
    "print(f\"There are {len(X_test)} sentences in the dataset.\\n\")\n",
    "print(f\"First sentence has {len(X_test.head(1).values[0].split())} words (after removing stopwords).\\n\")\n",
    "print(f\"Max lenght of sentence has {max_len_train} words (after removing stopwords).\\n\")\n",
    "print(f\"There are {len(y_test)} labels in the dataset.\\n\")\n",
    "print(f\"The first 5 labels are {y_test.head(5)}\\n\\n\")"
   ]
  },
  {
   "cell_type": "code",
   "execution_count": 20,
   "id": "2a1c1e64",
   "metadata": {},
   "outputs": [],
   "source": [
    "max_length = 32\n",
    "trunc_type='post'\n",
    "oov_tok = \"<OOV>\"\n",
    "padding = 'post'"
   ]
  },
  {
   "cell_type": "code",
   "execution_count": 21,
   "id": "61b62aee",
   "metadata": {},
   "outputs": [],
   "source": [
    "# Initialize the Tokenizer class\n",
    "tokenizer = Tokenizer(num_words = len(X_train), oov_token=oov_tok)"
   ]
  },
  {
   "cell_type": "code",
   "execution_count": 22,
   "id": "07eea32d",
   "metadata": {},
   "outputs": [],
   "source": [
    "# Generate the word index dictionary for the training sentences\n",
    "tokenizer.fit_on_texts(X_train)\n",
    "word_index = tokenizer.word_index\n",
    "vocab_size = len(word_index)"
   ]
  },
  {
   "cell_type": "code",
   "execution_count": 23,
   "id": "c2c92659",
   "metadata": {},
   "outputs": [
    {
     "name": "stdout",
     "output_type": "stream",
     "text": [
      "Vocabulary contains 12179 words\n",
      "\n",
      "<OOV> token included in vocabulary\n"
     ]
    }
   ],
   "source": [
    "print(f\"Vocabulary contains {len(word_index)} words\\n\")\n",
    "print(\"<OOV> token included in vocabulary\" if \"<OOV>\" in word_index else \"<OOV> token NOT included in vocabulary\")"
   ]
  },
  {
   "cell_type": "code",
   "execution_count": 24,
   "id": "49b88327",
   "metadata": {},
   "outputs": [],
   "source": [
    "def seq_pad_and_trunc(sentences, tokenizer, padding, trunc_type, max_length):\n",
    "    sequences = tokenizer.texts_to_sequences(sentences)\n",
    "    padded = pad_sequences(sequences,maxlen=max_length, truncating=trunc_type)\n",
    "    return padded"
   ]
  },
  {
   "cell_type": "code",
   "execution_count": 25,
   "id": "defa5903",
   "metadata": {},
   "outputs": [],
   "source": [
    "# Generating and padding the training sequences\n",
    "padded = seq_pad_and_trunc(X_train, tokenizer, padding, trunc_type, max_length)\n",
    "# Generating and padding the test sequences\n",
    "testing_padded = seq_pad_and_trunc(X_test, tokenizer, padding, trunc_type, max_length)"
   ]
  },
  {
   "cell_type": "code",
   "execution_count": 26,
   "id": "cfbc1f82",
   "metadata": {},
   "outputs": [
    {
     "name": "stdout",
     "output_type": "stream",
     "text": [
      "Training Set Shape = (5329, 32)\n",
      "Training Set Memory Usage = 5456896.00 Bit\n",
      "Test Set Shape = (2284, 32)\n",
      "Test Set Memory Usage = 2338816.00 Bit\n"
     ]
    }
   ],
   "source": [
    "print('Training Set Shape = {}'.format(padded.shape))\n",
    "print('Training Set Memory Usage = {:.2f} Bit'.format(padded.nbytes*8 ))\n",
    "print('Test Set Shape = {}'.format(testing_padded.shape))\n",
    "print('Test Set Memory Usage = {:.2f} Bit'.format(testing_padded.nbytes*8))"
   ]
  },
  {
   "cell_type": "markdown",
   "id": "4bba95eb",
   "metadata": {},
   "source": [
    "## Training an LSTM Model with Self-Trained Embeddings"
   ]
  },
  {
   "cell_type": "code",
   "execution_count": 27,
   "id": "005e6818",
   "metadata": {},
   "outputs": [],
   "source": [
    "# Plot Utility\n",
    "def plot_graphs(history, string):\n",
    "    plt.plot(history.history[string])\n",
    "    plt.plot(history.history['val_'+string])\n",
    "    plt.xlabel(\"Epochs\")\n",
    "    plt.ylabel(string)\n",
    "    plt.legend([string, 'val_'+string])\n",
    "    plt.show()"
   ]
  },
  {
   "cell_type": "code",
   "execution_count": 28,
   "id": "beb67d93",
   "metadata": {},
   "outputs": [],
   "source": [
    "def call():\n",
    "        es = tf.keras.callbacks.EarlyStopping(\n",
    "        monitor='val_loss', # metrics to monitor\n",
    "        min_delta=0,#min amoung to count as an improvement\n",
    "        patience=20, # how many epochs before stop\n",
    "        verbose=1,\n",
    "        mode='min', # we need to max f1\n",
    "        restore_best_weights=True)\n",
    "            \n",
    "        rp = tf.keras.callbacks.ReduceLROnPlateau(\n",
    "        monitor='val_loss',\n",
    "        factor=0.2,\n",
    "        patience=5,\n",
    "        verbose=1,\n",
    "        mode='min',\n",
    "        min_lr=1e-8)\n",
    "        \n",
    "        return es,rp\n",
    "callbacks = call()"
   ]
  },
  {
   "cell_type": "code",
   "execution_count": 29,
   "id": "66f93a41",
   "metadata": {},
   "outputs": [],
   "source": [
    "activation = LeakyReLU(alpha = 0.01)"
   ]
  },
  {
   "cell_type": "code",
   "execution_count": 30,
   "id": "b094db9d",
   "metadata": {},
   "outputs": [
    {
     "name": "stdout",
     "output_type": "stream",
     "text": [
      "Model: \"sequential\"\n",
      "_________________________________________________________________\n",
      " Layer (type)                Output Shape              Param #   \n",
      "=================================================================\n",
      " embedding (Embedding)       (None, 32, 32)            389728    \n",
      "                                                                 \n",
      " bidirectional (Bidirection  (None, 64)                16640     \n",
      " al)                                                             \n",
      "                                                                 \n",
      " dropout (Dropout)           (None, 64)                0         \n",
      "                                                                 \n",
      " dense (Dense)               (None, 64)                4160      \n",
      "                                                                 \n",
      " dense_1 (Dense)             (None, 1)                 65        \n",
      "                                                                 \n",
      "=================================================================\n",
      "Total params: 410593 (1.57 MB)\n",
      "Trainable params: 410593 (1.57 MB)\n",
      "Non-trainable params: 0 (0.00 Byte)\n",
      "_________________________________________________________________\n"
     ]
    }
   ],
   "source": [
    "# Parameters\n",
    "embedding_dim = 32\n",
    "lstm_dim = 32\n",
    "dense_dim = 64\n",
    "\n",
    "# Model Definition with LSTM\n",
    "model_lstm = tf.keras.Sequential([\n",
    "    tf.keras.layers.Embedding(vocab_size, embedding_dim, input_length=max_length),\n",
    "    tf.keras.layers.Bidirectional(tf.keras.layers.LSTM(lstm_dim, dropout=0.2, \n",
    "                                                       kernel_initializer = 'orthogonal')),\n",
    "    tf.keras.layers.Dropout(0.5),\n",
    "    tf.keras.layers.Dense(dense_dim,kernel_initializer = 'he_normal',\n",
    "                          kernel_regularizer = regularizers.l2(1e-4), \n",
    "                          activation=activation),\n",
    "    tf.keras.layers.Dense(1,kernel_regularizer = regularizers.l2(1e-4), \n",
    "                          activation='sigmoid')\n",
    "])\n",
    "\n",
    "# Setting the training parameters\n",
    "model_lstm.compile(loss='binary_crossentropy',optimizer=tf.keras.optimizers.experimental.Nadam(),\n",
    "                   metrics=[tfa.metrics.FBetaScore(name='f1_score',num_classes=1,\n",
    "                                                average='macro',threshold=0.5)])\n",
    "#metrics=[tfa.metrics.FBetaScore(name='f1_score',num_classes=1,average='macro',threshold=0.5)]\n",
    "# Printing the model summary\n",
    "model_lstm.summary()"
   ]
  },
  {
   "cell_type": "code",
   "execution_count": 31,
   "id": "d6764c86",
   "metadata": {
    "scrolled": true
   },
   "outputs": [
    {
     "name": "stdout",
     "output_type": "stream",
     "text": [
      "Epoch 1/100\n",
      "42/42 [==============================] - 17s 288ms/step - loss: 0.6926 - f1_score: 0.0634 - val_loss: 0.6722 - val_f1_score: 0.0408 - lr: 0.0010\n",
      "Epoch 2/100\n",
      "42/42 [==============================] - 9s 222ms/step - loss: 0.5522 - f1_score: 0.6481 - val_loss: 0.4801 - val_f1_score: 0.7557 - lr: 0.0010\n",
      "Epoch 3/100\n",
      "42/42 [==============================] - 8s 182ms/step - loss: 0.3763 - f1_score: 0.8159 - val_loss: 0.5030 - val_f1_score: 0.7203 - lr: 0.0010\n",
      "Epoch 4/100\n",
      "42/42 [==============================] - 6s 142ms/step - loss: 0.2924 - f1_score: 0.8621 - val_loss: 0.4907 - val_f1_score: 0.7595 - lr: 0.0010\n",
      "Epoch 5/100\n",
      "42/42 [==============================] - 4s 97ms/step - loss: 0.2387 - f1_score: 0.8962 - val_loss: 0.5647 - val_f1_score: 0.7410 - lr: 0.0010\n",
      "Epoch 6/100\n",
      "42/42 [==============================] - 5s 117ms/step - loss: 0.2057 - f1_score: 0.9165 - val_loss: 0.5888 - val_f1_score: 0.7395 - lr: 0.0010\n",
      "Epoch 7/100\n",
      "42/42 [==============================] - ETA: 0s - loss: 0.1753 - f1_score: 0.9227\n",
      "Epoch 7: ReduceLROnPlateau reducing learning rate to 0.00020000000949949026.\n",
      "42/42 [==============================] - 4s 82ms/step - loss: 0.1753 - f1_score: 0.9227 - val_loss: 0.7233 - val_f1_score: 0.7403 - lr: 0.0010\n",
      "Epoch 8/100\n",
      "42/42 [==============================] - 3s 83ms/step - loss: 0.1367 - f1_score: 0.9455 - val_loss: 0.7573 - val_f1_score: 0.7433 - lr: 2.0000e-04\n",
      "Epoch 9/100\n",
      "42/42 [==============================] - 4s 91ms/step - loss: 0.1312 - f1_score: 0.9471 - val_loss: 0.7858 - val_f1_score: 0.7392 - lr: 2.0000e-04\n",
      "Epoch 10/100\n",
      "42/42 [==============================] - 3s 72ms/step - loss: 0.1245 - f1_score: 0.9485 - val_loss: 0.8157 - val_f1_score: 0.7396 - lr: 2.0000e-04\n",
      "Epoch 11/100\n",
      "42/42 [==============================] - 3s 82ms/step - loss: 0.1212 - f1_score: 0.9532 - val_loss: 0.8338 - val_f1_score: 0.7377 - lr: 2.0000e-04\n",
      "Epoch 12/100\n",
      "42/42 [==============================] - ETA: 0s - loss: 0.1186 - f1_score: 0.9503\n",
      "Epoch 12: ReduceLROnPlateau reducing learning rate to 4.0000001899898055e-05.\n",
      "42/42 [==============================] - 4s 92ms/step - loss: 0.1186 - f1_score: 0.9503 - val_loss: 0.8654 - val_f1_score: 0.7313 - lr: 2.0000e-04\n",
      "Epoch 13/100\n",
      "42/42 [==============================] - 4s 90ms/step - loss: 0.1100 - f1_score: 0.9563 - val_loss: 0.8803 - val_f1_score: 0.7339 - lr: 4.0000e-05\n",
      "Epoch 14/100\n",
      "42/42 [==============================] - 3s 71ms/step - loss: 0.1153 - f1_score: 0.9530 - val_loss: 0.8844 - val_f1_score: 0.7351 - lr: 4.0000e-05\n",
      "Epoch 15/100\n",
      "42/42 [==============================] - 3s 65ms/step - loss: 0.1129 - f1_score: 0.9526 - val_loss: 0.8944 - val_f1_score: 0.7352 - lr: 4.0000e-05\n",
      "Epoch 16/100\n",
      "42/42 [==============================] - 3s 66ms/step - loss: 0.1048 - f1_score: 0.9577 - val_loss: 0.9051 - val_f1_score: 0.7316 - lr: 4.0000e-05\n",
      "Epoch 17/100\n",
      "42/42 [==============================] - ETA: 0s - loss: 0.1082 - f1_score: 0.9582\n",
      "Epoch 17: ReduceLROnPlateau reducing learning rate to 8.000000525498762e-06.\n",
      "42/42 [==============================] - 3s 79ms/step - loss: 0.1082 - f1_score: 0.9582 - val_loss: 0.9067 - val_f1_score: 0.7348 - lr: 4.0000e-05\n",
      "Epoch 18/100\n",
      "42/42 [==============================] - 3s 65ms/step - loss: 0.1081 - f1_score: 0.9564 - val_loss: 0.9102 - val_f1_score: 0.7338 - lr: 8.0000e-06\n",
      "Epoch 19/100\n",
      "42/42 [==============================] - 4s 93ms/step - loss: 0.1093 - f1_score: 0.9560 - val_loss: 0.9136 - val_f1_score: 0.7335 - lr: 8.0000e-06\n",
      "Epoch 20/100\n",
      "42/42 [==============================] - 3s 78ms/step - loss: 0.1052 - f1_score: 0.9562 - val_loss: 0.9183 - val_f1_score: 0.7311 - lr: 8.0000e-06\n",
      "Epoch 21/100\n",
      "42/42 [==============================] - 3s 69ms/step - loss: 0.1079 - f1_score: 0.9558 - val_loss: 0.9171 - val_f1_score: 0.7319 - lr: 8.0000e-06\n",
      "Epoch 22/100\n",
      "42/42 [==============================] - ETA: 0s - loss: 0.1065 - f1_score: 0.9579Restoring model weights from the end of the best epoch: 2.\n",
      "\n",
      "Epoch 22: ReduceLROnPlateau reducing learning rate to 1.6000001778593287e-06.\n",
      "42/42 [==============================] - 3s 73ms/step - loss: 0.1065 - f1_score: 0.9579 - val_loss: 0.9179 - val_f1_score: 0.7328 - lr: 8.0000e-06\n",
      "Epoch 22: early stopping\n"
     ]
    }
   ],
   "source": [
    "NUM_EPOCHS = 100\n",
    "BATCH_SIZE = 128\n",
    "\n",
    "# Training the model\n",
    "history_lstm = model_lstm.fit(padded, y_train, \n",
    "                              batch_size=BATCH_SIZE, epochs=NUM_EPOCHS, \n",
    "                              callbacks=[callbacks],\n",
    "                              validation_data=(testing_padded, y_test))"
   ]
  },
  {
   "cell_type": "markdown",
   "id": "7f23c804",
   "metadata": {},
   "source": [
    "### Assessing Model Performance"
   ]
  },
  {
   "cell_type": "code",
   "execution_count": 32,
   "id": "3d7fbad3",
   "metadata": {},
   "outputs": [
    {
     "data": {
      "image/png": "[encoded data removed]",
      "text/plain": [
       "<Figure size 640x480 with 1 Axes>"
      ]
     },
     "metadata": {},
     "output_type": "display_data"
    },
    {
     "data": {
      "image/png": "[encoded data removed]",
      "text/plain": [
       "<Figure size 640x480 with 1 Axes>"
      ]
     },
     "metadata": {},
     "output_type": "display_data"
    }
   ],
   "source": [
    "# Plotting the accuracy and loss history\n",
    "plot_graphs(history_lstm, 'f1_score')\n",
    "plot_graphs(history_lstm, 'loss')"
   ]
  },
  {
   "cell_type": "code",
   "execution_count": 33,
   "id": "9a0251d0",
   "metadata": {},
   "outputs": [
    {
     "name": "stdout",
     "output_type": "stream",
     "text": [
      "72/72 [==============================] - 1s 4ms/step\n",
      "****** Test Data ********\n",
      "F1: 0.7556675062972291\n",
      "              precision    recall  f1-score   support\n",
      "\n",
      "           0       0.80      0.82      0.81      1275\n",
      "           1       0.77      0.74      0.76      1009\n",
      "\n",
      "    accuracy                           0.79      2284\n",
      "   macro avg       0.79      0.78      0.78      2284\n",
      "weighted avg       0.79      0.79      0.79      2284\n",
      "\n",
      "Confusion Matrix\n"
     ]
    },
    {
     "data": {
      "text/plain": [
       "<sklearn.metrics._plot.confusion_matrix.ConfusionMatrixDisplay at 0x7f215dfe69d0>"
      ]
     },
     "execution_count": 33,
     "metadata": {},
     "output_type": "execute_result"
    },
    {
     "data": {
      "image/png": "[encoded data removed]",
      "text/plain": [
       "<Figure size 640x480 with 2 Axes>"
      ]
     },
     "metadata": {},
     "output_type": "display_data"
    }
   ],
   "source": [
    "y_pred_valid = tf.math.round(model_lstm.predict(testing_padded)).numpy().astype(int) \n",
    "print(\"****** Test Data ********\")\n",
    "print(f\"F1: {metrics.f1_score(y_test, y_pred_valid)}\")\n",
    "# Printing performance details\n",
    "print(metrics.classification_report(y_test, y_pred_valid))\n",
    "\n",
    "# Printing confusion matrix\n",
    "print(\"Confusion Matrix\")\n",
    "ConfusionMatrixDisplay.from_predictions(\n",
    "        y_test,\n",
    "        y_pred_valid,\n",
    "        display_labels=[\"Not Disaster\",\"Disaster\"],\n",
    "        cmap=plt.cm.Blues\n",
    "    )"
   ]
  },
  {
   "cell_type": "code",
   "execution_count": 34,
   "id": "71d9e71e",
   "metadata": {},
   "outputs": [
    {
     "data": {
      "image/png": "[encoded data removed]",
      "text/plain": [
       "<Figure size 1000x500 with 2 Axes>"
      ]
     },
     "metadata": {},
     "output_type": "display_data"
    }
   ],
   "source": [
    "fig, (ax1, ax2) = plt.subplots(1, 2, figsize=(10, 5))\n",
    "\n",
    "roc_display = RocCurveDisplay.from_predictions(y_test, y_pred_valid,ax=ax1)\n",
    "pr_display = PrecisionRecallDisplay.from_predictions(y_test, y_pred_valid,ax=ax2)\n",
    "roc_display.ax_.set_title(\"ROC curve\")\n",
    "pr_display.ax_.set_title(\"Precision-Recall curve\")\n",
    "\n",
    "plt.show()\n",
    "plt.close()"
   ]
  },
  {
   "cell_type": "markdown",
   "id": "9ccc48fc",
   "metadata": {},
   "source": [
    "Upon evaluating the model, it becomes evident that there is a pronounced overfitting issue to the training set, particularly in the initial epochs. This can be attributed to the constraint posed by the limited size of the training data. Given the challenges associated with small datasets, a pragmatic strategy is to leverage transfer learning. In my approach, I aim to enhance performance by transferring embeddings generated through training on a larger dataset."
   ]
  },
  {
   "cell_type": "code",
   "execution_count": 35,
   "id": "26b86223",
   "metadata": {},
   "outputs": [],
   "source": [
    "#Resets all state generated by Keras.\n",
    "tf.keras.backend.clear_session()\n",
    "del model_lstm\n",
    "del history_lstm"
   ]
  },
  {
   "cell_type": "markdown",
   "id": "d3262278",
   "metadata": {},
   "source": [
    "## Building an LSTM-CNN Model with GloVe Embedding Transfer for Training"
   ]
  },
  {
   "cell_type": "markdown",
   "id": "b2b52ed4",
   "metadata": {},
   "source": [
    "Using the 200 dimension Twitter version of [GloVe](https://nlp.stanford.edu/projects/glove/) from Stanford."
   ]
  },
  {
   "cell_type": "code",
   "execution_count": 36,
   "id": "4ef29131",
   "metadata": {},
   "outputs": [],
   "source": [
    "#!wget https://nlp.stanford.edu/data/glove.twitter.27B.zip"
   ]
  },
  {
   "cell_type": "code",
   "execution_count": 37,
   "id": "ddea95e1",
   "metadata": {},
   "outputs": [],
   "source": [
    "#!unzip -q glove.twitter.27B.zip"
   ]
  },
  {
   "cell_type": "code",
   "execution_count": 38,
   "id": "18c00e84",
   "metadata": {},
   "outputs": [
    {
     "name": "stdout",
     "output_type": "stream",
     "text": [
      "Found 1193514 word vectors.\n"
     ]
    }
   ],
   "source": [
    "GLOVE_EMBEDDINGS = {}\n",
    "\n",
    "# Reading the file and filling GLOVE_EMBEDDINGS with its contents\n",
    "with open(\"glove.twitter.27B.200d.txt\") as f:\n",
    "    for line in f:\n",
    "        values = line.split()\n",
    "        word = values[0]\n",
    "        coefs = np.asarray(values[1:], dtype='float32')\n",
    "        GLOVE_EMBEDDINGS[word] = coefs\n",
    "print(\"Found %s word vectors.\" % len(GLOVE_EMBEDDINGS))"
   ]
  },
  {
   "cell_type": "code",
   "execution_count": 39,
   "id": "863c3f6d",
   "metadata": {
    "scrolled": true
   },
   "outputs": [
    {
     "name": "stdout",
     "output_type": "stream",
     "text": [
      "Vector representation of word sadface looks like this:\n",
      "\n",
      "[ 0.13942    0.14942   -0.083049  -0.22694   -0.17719    0.068621\n",
      "  0.32751    0.29046   -0.98112   -0.055128  -0.32885   -0.028781\n",
      "  0.13015   -0.62901   -0.26694   -0.49831   -0.028981   0.53447\n",
      " -0.74758    0.46059    0.20023   -0.52688    0.88961    0.20244\n",
      " -0.3154     0.76178   -0.097853   0.051232   0.31198    0.28984\n",
      " -0.33384    0.79756    0.020365  -0.48581    0.22673    0.08533\n",
      "  0.5413     0.032684   0.34624   -0.0050298  0.69359    0.79652\n",
      "  0.36373   -0.026102  -0.25161    0.94031    0.35078   -0.27898\n",
      " -0.016592   0.4419     0.33657    0.22511   -0.14285   -0.12429\n",
      "  0.32822    0.23203    0.22721    0.40608   -0.088886   0.10732\n",
      "  0.024414  -0.47135    0.35159   -0.20438   -0.59589   -0.17563\n",
      " -0.01621    0.0184    -0.0043566 -0.14127    0.52329   -0.30056\n",
      "  0.17157   -0.069917   0.21397    0.04184   -0.33831   -0.40201\n",
      " -0.098991   0.69844   -0.061859  -0.21282    0.2322     0.077196\n",
      " -0.17289   -0.014947   0.096056  -0.69473    0.31956   -0.45509\n",
      " -0.58895    0.052222   0.18515    0.14753    0.045721  -0.42149\n",
      " -0.57802    0.40912    0.28521    0.46732    0.34731   -0.073241\n",
      "  0.038684  -0.070477   0.054686   0.44633    0.2204     0.59934\n",
      "  0.1342     0.27905   -0.62409   -0.74412   -0.56667   -0.06538\n",
      "  0.46708    0.5299     0.1005    -0.23566   -0.21163    0.26048\n",
      " -0.74041   -0.11932   -0.12042    0.44228   -0.34071    0.34884\n",
      "  0.092858  -0.33513   -0.098712  -0.33994    1.0503     0.29984\n",
      " -0.069351   0.88771   -0.27936    0.097822   0.37606    0.20166\n",
      "  0.62857   -0.27713    0.79396    0.42104    0.20219   -0.18803\n",
      " -0.73107   -0.17481    0.0070513  0.39578   -0.52476    0.1787\n",
      "  0.33756    0.89093   -0.78324    0.61638    0.18954   -0.13046\n",
      "  0.14505    0.37945    0.61627    0.038235   0.45715   -0.50827\n",
      " -0.010749   0.026013   0.39216    0.23946    0.41601    0.71101\n",
      " -0.31183   -0.30714   -0.23103    0.35787    0.044602   0.098503\n",
      " -0.26996   -0.48911   -0.45045   -0.55196   -0.16775    0.23343\n",
      " -0.036873  -0.40255    0.45207    0.15214    0.036716   0.20395\n",
      "  0.48302   -0.36976    0.08964   -0.11753   -0.52348   -0.085144\n",
      " -0.2261    -0.68734    0.33536    0.041088   0.019113   0.59425\n",
      " -0.16172    0.71857  ]\n"
     ]
    }
   ],
   "source": [
    "test_word = 'sadface'\n",
    "\n",
    "test_vector = GLOVE_EMBEDDINGS[test_word]\n",
    "\n",
    "print(f\"Vector representation of word {test_word} looks like this:\\n\\n{test_vector}\")"
   ]
  },
  {
   "cell_type": "code",
   "execution_count": 40,
   "id": "900dbdd6",
   "metadata": {},
   "outputs": [],
   "source": [
    "EMBEDDING_DIM = 200\n",
    "# Initializing an empty numpy array with the appropriate size\n",
    "EMBEDDINGS_MATRIX = np.zeros((vocab_size+1, EMBEDDING_DIM))\n",
    "\n",
    "# Iterating all of the words in the vocabulary and if the vector representation for \n",
    "# the word exists within GloVe's representations, saving it in the EMBEDDINGS_MATRIX array\n",
    "for word, i in word_index.items():\n",
    "    embedding_vector = GLOVE_EMBEDDINGS.get(word)\n",
    "    if embedding_vector is not None:\n",
    "        EMBEDDINGS_MATRIX[i] = embedding_vector"
   ]
  },
  {
   "cell_type": "code",
   "execution_count": 41,
   "id": "fe84753d",
   "metadata": {},
   "outputs": [],
   "source": [
    "embedding_layer = tf.keras.layers.Embedding(\n",
    "    vocab_size+1,\n",
    "    EMBEDDING_DIM,\n",
    "    input_length=max_length, \n",
    "    weights=[EMBEDDINGS_MATRIX], \n",
    "    trainable=False\n",
    ")"
   ]
  },
  {
   "cell_type": "markdown",
   "id": "c129a5d7",
   "metadata": {},
   "source": [
    "### Tunning learning rate"
   ]
  },
  {
   "cell_type": "code",
   "execution_count": 42,
   "id": "1d71edc7",
   "metadata": {},
   "outputs": [],
   "source": [
    "lr_schedule = tf.keras.callbacks.LearningRateScheduler(\n",
    "    lambda epoch: 1e-6 * 10**(epoch / 20))"
   ]
  },
  {
   "cell_type": "code",
   "execution_count": 43,
   "id": "61692a0b",
   "metadata": {
    "scrolled": true
   },
   "outputs": [
    {
     "name": "stdout",
     "output_type": "stream",
     "text": [
      "Model: \"sequential\"\n",
      "_________________________________________________________________\n",
      " Layer (type)                Output Shape              Param #   \n",
      "=================================================================\n",
      " embedding (Embedding)       (None, 32, 200)           2436000   \n",
      "                                                                 \n",
      " spatial_dropout1d (Spatial  (None, 32, 200)           0         \n",
      " Dropout1D)                                                      \n",
      "                                                                 \n",
      " bidirectional (Bidirection  (None, 32, 400)           641600    \n",
      " al)                                                             \n",
      "                                                                 \n",
      " dropout (Dropout)           (None, 32, 400)           0         \n",
      "                                                                 \n",
      " bidirectional_1 (Bidirecti  (None, 32, 200)           400800    \n",
      " onal)                                                           \n",
      "                                                                 \n",
      " dropout_1 (Dropout)         (None, 32, 200)           0         \n",
      "                                                                 \n",
      " conv1d (Conv1D)             (None, 28, 200)           200200    \n",
      "                                                                 \n",
      " global_max_pooling1d (Glob  (None, 200)               0         \n",
      " alMaxPooling1D)                                                 \n",
      "                                                                 \n",
      " dropout_2 (Dropout)         (None, 200)               0         \n",
      "                                                                 \n",
      " dense (Dense)               (None, 100)               20100     \n",
      "                                                                 \n",
      " dropout_3 (Dropout)         (None, 100)               0         \n",
      "                                                                 \n",
      " dense_1 (Dense)             (None, 50)                5050      \n",
      "                                                                 \n",
      " dropout_4 (Dropout)         (None, 50)                0         \n",
      "                                                                 \n",
      " dense_2 (Dense)             (None, 1)                 51        \n",
      "                                                                 \n",
      "=================================================================\n",
      "Total params: 3703801 (14.13 MB)\n",
      "Trainable params: 1267801 (4.84 MB)\n",
      "Non-trainable params: 2436000 (9.29 MB)\n",
      "_________________________________________________________________\n"
     ]
    }
   ],
   "source": [
    "# Model Definition with LSTM\n",
    "model_lstm = tf.keras.Sequential([\n",
    "    embedding_layer,\n",
    "    tf.keras.layers.SpatialDropout1D(0.2),\n",
    "    tf.keras.layers.Bidirectional(tf.keras.layers.LSTM(200,dropout=0.50,\n",
    "                                                       kernel_initializer = 'orthogonal',\n",
    "                                                       return_sequences=True)),\n",
    "    tf.keras.layers.Dropout(0.20),\n",
    "    tf.keras.layers.Bidirectional(tf.keras.layers.LSTM(100, dropout=0.50,\n",
    "                                                       kernel_initializer = 'orthogonal',\n",
    "                                                       return_sequences=True)),\n",
    "    tf.keras.layers.Dropout(0.20),\n",
    "    tf.keras.layers.Conv1D(200, 5, activation=activation),\n",
    "    tf.keras.layers.GlobalMaxPool1D(),\n",
    "    tf.keras.layers.Dropout(0.20),\n",
    "    tf.keras.layers.Dense(100, kernel_initializer = 'he_normal',\n",
    "                          kernel_regularizer = regularizers.l2(1e-5), \n",
    "                          activation=activation),\n",
    "    tf.keras.layers.Dropout(0.20),\n",
    "    tf.keras.layers.Dense(50, kernel_initializer = 'he_normal',\n",
    "                          kernel_regularizer = regularizers.l2(1e-5),\n",
    "                          activation=activation),\n",
    "    tf.keras.layers.Dropout(0.20),\n",
    "    tf.keras.layers.Dense(1, kernel_regularizer = regularizers.l2(1e-5), \n",
    "                          activation='sigmoid')\n",
    "])\n",
    "\n",
    "\n",
    "# Setting the training parameters\n",
    "model_lstm.compile(loss='binary_crossentropy',optimizer=tf.keras.optimizers.experimental.Nadam(),\n",
    "                   metrics=[tfa.metrics.FBetaScore(name='f1_score',num_classes=1,\n",
    "                                                average='macro',threshold=0.5)])\n",
    "\n",
    "# Printing the model summary\n",
    "model_lstm.summary()"
   ]
  },
  {
   "cell_type": "code",
   "execution_count": 44,
   "id": "20beb625",
   "metadata": {
    "scrolled": true
   },
   "outputs": [
    {
     "name": "stdout",
     "output_type": "stream",
     "text": [
      "Epoch 1/100\n",
      "84/84 [==============================] - 8s 32ms/step - loss: 0.7170 - f1_score: 0.5338 - val_loss: 0.6946 - val_f1_score: 0.6147 - lr: 1.0000e-06\n",
      "Epoch 2/100\n",
      "84/84 [==============================] - 2s 23ms/step - loss: 0.7112 - f1_score: 0.5179 - val_loss: 0.6903 - val_f1_score: 0.6126 - lr: 1.1220e-06\n",
      "Epoch 3/100\n",
      "84/84 [==============================] - 2s 24ms/step - loss: 0.7031 - f1_score: 0.5222 - val_loss: 0.6863 - val_f1_score: 0.4431 - lr: 1.2589e-06\n",
      "Epoch 4/100\n",
      "84/84 [==============================] - 2s 23ms/step - loss: 0.6992 - f1_score: 0.4904 - val_loss: 0.6829 - val_f1_score: 0.2931 - lr: 1.4125e-06\n",
      "Epoch 5/100\n",
      "84/84 [==============================] - 2s 24ms/step - loss: 0.6946 - f1_score: 0.4694 - val_loss: 0.6798 - val_f1_score: 0.1951 - lr: 1.5849e-06\n",
      "Epoch 6/100\n",
      "84/84 [==============================] - 2s 23ms/step - loss: 0.6850 - f1_score: 0.4687 - val_loss: 0.6770 - val_f1_score: 0.1440 - lr: 1.7783e-06\n",
      "Epoch 7/100\n",
      "84/84 [==============================] - 2s 23ms/step - loss: 0.6858 - f1_score: 0.4307 - val_loss: 0.6745 - val_f1_score: 0.1305 - lr: 1.9953e-06\n",
      "Epoch 8/100\n",
      "84/84 [==============================] - 2s 23ms/step - loss: 0.6795 - f1_score: 0.4341 - val_loss: 0.6717 - val_f1_score: 0.1510 - lr: 2.2387e-06\n",
      "Epoch 9/100\n",
      "84/84 [==============================] - 2s 23ms/step - loss: 0.6782 - f1_score: 0.4109 - val_loss: 0.6687 - val_f1_score: 0.1759 - lr: 2.5119e-06\n",
      "Epoch 10/100\n",
      "84/84 [==============================] - 2s 23ms/step - loss: 0.6747 - f1_score: 0.4220 - val_loss: 0.6650 - val_f1_score: 0.2175 - lr: 2.8184e-06\n",
      "Epoch 11/100\n",
      "84/84 [==============================] - 2s 22ms/step - loss: 0.6708 - f1_score: 0.4329 - val_loss: 0.6604 - val_f1_score: 0.2998 - lr: 3.1623e-06\n",
      "Epoch 12/100\n",
      "84/84 [==============================] - 2s 24ms/step - loss: 0.6662 - f1_score: 0.4594 - val_loss: 0.6547 - val_f1_score: 0.4102 - lr: 3.5481e-06\n",
      "Epoch 13/100\n",
      "84/84 [==============================] - 2s 21ms/step - loss: 0.6580 - f1_score: 0.4772 - val_loss: 0.6466 - val_f1_score: 0.4819 - lr: 3.9811e-06\n",
      "Epoch 14/100\n",
      "84/84 [==============================] - 2s 23ms/step - loss: 0.6556 - f1_score: 0.4965 - val_loss: 0.6368 - val_f1_score: 0.5728 - lr: 4.4668e-06\n",
      "Epoch 15/100\n",
      "84/84 [==============================] - 2s 24ms/step - loss: 0.6396 - f1_score: 0.5515 - val_loss: 0.6242 - val_f1_score: 0.6326 - lr: 5.0119e-06\n",
      "Epoch 16/100\n",
      "84/84 [==============================] - 2s 23ms/step - loss: 0.6312 - f1_score: 0.5826 - val_loss: 0.6086 - val_f1_score: 0.6796 - lr: 5.6234e-06\n",
      "Epoch 17/100\n",
      "84/84 [==============================] - 2s 22ms/step - loss: 0.6160 - f1_score: 0.6155 - val_loss: 0.5909 - val_f1_score: 0.6994 - lr: 6.3096e-06\n",
      "Epoch 18/100\n",
      "84/84 [==============================] - 2s 23ms/step - loss: 0.6002 - f1_score: 0.6382 - val_loss: 0.5719 - val_f1_score: 0.7032 - lr: 7.0795e-06\n",
      "Epoch 19/100\n",
      "84/84 [==============================] - 2s 23ms/step - loss: 0.5802 - f1_score: 0.6681 - val_loss: 0.5513 - val_f1_score: 0.7238 - lr: 7.9433e-06\n",
      "Epoch 20/100\n",
      "84/84 [==============================] - 2s 23ms/step - loss: 0.5551 - f1_score: 0.6939 - val_loss: 0.5326 - val_f1_score: 0.7125 - lr: 8.9125e-06\n",
      "Epoch 21/100\n",
      "84/84 [==============================] - 2s 23ms/step - loss: 0.5490 - f1_score: 0.6926 - val_loss: 0.5172 - val_f1_score: 0.7312 - lr: 1.0000e-05\n",
      "Epoch 22/100\n",
      "84/84 [==============================] - 2s 23ms/step - loss: 0.5321 - f1_score: 0.7118 - val_loss: 0.5034 - val_f1_score: 0.7383 - lr: 1.1220e-05\n",
      "Epoch 23/100\n",
      "84/84 [==============================] - 2s 24ms/step - loss: 0.5259 - f1_score: 0.7008 - val_loss: 0.4935 - val_f1_score: 0.7354 - lr: 1.2589e-05\n",
      "Epoch 24/100\n",
      "84/84 [==============================] - 2s 24ms/step - loss: 0.5097 - f1_score: 0.7089 - val_loss: 0.4841 - val_f1_score: 0.7467 - lr: 1.4125e-05\n",
      "Epoch 25/100\n",
      "84/84 [==============================] - 2s 24ms/step - loss: 0.5067 - f1_score: 0.7216 - val_loss: 0.4780 - val_f1_score: 0.7464 - lr: 1.5849e-05\n",
      "Epoch 26/100\n",
      "84/84 [==============================] - 2s 24ms/step - loss: 0.4974 - f1_score: 0.7218 - val_loss: 0.4721 - val_f1_score: 0.7590 - lr: 1.7783e-05\n",
      "Epoch 27/100\n",
      "84/84 [==============================] - 2s 22ms/step - loss: 0.4956 - f1_score: 0.7208 - val_loss: 0.4660 - val_f1_score: 0.7626 - lr: 1.9953e-05\n",
      "Epoch 28/100\n",
      "84/84 [==============================] - 2s 23ms/step - loss: 0.4903 - f1_score: 0.7268 - val_loss: 0.4623 - val_f1_score: 0.7504 - lr: 2.2387e-05\n",
      "Epoch 29/100\n",
      "84/84 [==============================] - 2s 22ms/step - loss: 0.4818 - f1_score: 0.7227 - val_loss: 0.4574 - val_f1_score: 0.7618 - lr: 2.5119e-05\n",
      "Epoch 30/100\n",
      "84/84 [==============================] - 2s 21ms/step - loss: 0.4822 - f1_score: 0.7315 - val_loss: 0.4511 - val_f1_score: 0.7615 - lr: 2.8184e-05\n",
      "Epoch 31/100\n",
      "84/84 [==============================] - 2s 21ms/step - loss: 0.4794 - f1_score: 0.7320 - val_loss: 0.4530 - val_f1_score: 0.7649 - lr: 3.1623e-05\n",
      "Epoch 32/100\n",
      "84/84 [==============================] - 2s 22ms/step - loss: 0.4751 - f1_score: 0.7283 - val_loss: 0.4513 - val_f1_score: 0.7609 - lr: 3.5481e-05\n",
      "Epoch 33/100\n",
      "84/84 [==============================] - 2s 23ms/step - loss: 0.4731 - f1_score: 0.7367 - val_loss: 0.4534 - val_f1_score: 0.7669 - lr: 3.9811e-05\n",
      "Epoch 34/100\n",
      "84/84 [==============================] - 2s 24ms/step - loss: 0.4685 - f1_score: 0.7357 - val_loss: 0.4436 - val_f1_score: 0.7605 - lr: 4.4668e-05\n",
      "Epoch 35/100\n",
      "84/84 [==============================] - 2s 22ms/step - loss: 0.4599 - f1_score: 0.7394 - val_loss: 0.4508 - val_f1_score: 0.7688 - lr: 5.0119e-05\n",
      "Epoch 36/100\n",
      "84/84 [==============================] - 2s 22ms/step - loss: 0.4580 - f1_score: 0.7414 - val_loss: 0.4442 - val_f1_score: 0.7672 - lr: 5.6234e-05\n",
      "Epoch 37/100\n",
      "84/84 [==============================] - 2s 22ms/step - loss: 0.4680 - f1_score: 0.7303 - val_loss: 0.4437 - val_f1_score: 0.7654 - lr: 6.3096e-05\n",
      "Epoch 38/100\n",
      "84/84 [==============================] - 2s 22ms/step - loss: 0.4564 - f1_score: 0.7386 - val_loss: 0.4419 - val_f1_score: 0.7553 - lr: 7.0795e-05\n",
      "Epoch 39/100\n",
      "84/84 [==============================] - 2s 23ms/step - loss: 0.4644 - f1_score: 0.7332 - val_loss: 0.4390 - val_f1_score: 0.7496 - lr: 7.9433e-05\n",
      "Epoch 40/100\n",
      "84/84 [==============================] - 2s 23ms/step - loss: 0.4628 - f1_score: 0.7425 - val_loss: 0.4379 - val_f1_score: 0.7633 - lr: 8.9125e-05\n",
      "Epoch 41/100\n",
      "84/84 [==============================] - 2s 24ms/step - loss: 0.4543 - f1_score: 0.7425 - val_loss: 0.4430 - val_f1_score: 0.7630 - lr: 1.0000e-04\n",
      "Epoch 42/100\n",
      "84/84 [==============================] - 2s 24ms/step - loss: 0.4542 - f1_score: 0.7408 - val_loss: 0.4422 - val_f1_score: 0.7554 - lr: 1.1220e-04\n",
      "Epoch 43/100\n",
      "84/84 [==============================] - 2s 24ms/step - loss: 0.4563 - f1_score: 0.7390 - val_loss: 0.4417 - val_f1_score: 0.7611 - lr: 1.2589e-04\n",
      "Epoch 44/100\n",
      "84/84 [==============================] - 2s 24ms/step - loss: 0.4517 - f1_score: 0.7443 - val_loss: 0.4560 - val_f1_score: 0.7570 - lr: 1.4125e-04\n",
      "Epoch 45/100\n",
      "84/84 [==============================] - 2s 24ms/step - loss: 0.4484 - f1_score: 0.7425 - val_loss: 0.4433 - val_f1_score: 0.7511 - lr: 1.5849e-04\n",
      "Epoch 46/100\n",
      "84/84 [==============================] - 2s 22ms/step - loss: 0.4555 - f1_score: 0.7424 - val_loss: 0.4465 - val_f1_score: 0.7474 - lr: 1.7783e-04\n",
      "Epoch 47/100\n",
      "84/84 [==============================] - 2s 21ms/step - loss: 0.4446 - f1_score: 0.7451 - val_loss: 0.4476 - val_f1_score: 0.7577 - lr: 1.9953e-04\n",
      "Epoch 48/100\n",
      "84/84 [==============================] - 2s 22ms/step - loss: 0.4492 - f1_score: 0.7432 - val_loss: 0.4431 - val_f1_score: 0.7582 - lr: 2.2387e-04\n",
      "Epoch 49/100\n",
      "84/84 [==============================] - 2s 22ms/step - loss: 0.4447 - f1_score: 0.7403 - val_loss: 0.4384 - val_f1_score: 0.7582 - lr: 2.5119e-04\n",
      "Epoch 50/100\n",
      "84/84 [==============================] - 2s 24ms/step - loss: 0.4482 - f1_score: 0.7418 - val_loss: 0.4378 - val_f1_score: 0.7626 - lr: 2.8184e-04\n",
      "Epoch 51/100\n",
      "84/84 [==============================] - 2s 23ms/step - loss: 0.4352 - f1_score: 0.7560 - val_loss: 0.4392 - val_f1_score: 0.7534 - lr: 3.1623e-04\n",
      "Epoch 52/100\n",
      "84/84 [==============================] - 2s 22ms/step - loss: 0.4342 - f1_score: 0.7505 - val_loss: 0.4427 - val_f1_score: 0.7489 - lr: 3.5481e-04\n",
      "Epoch 53/100\n",
      "84/84 [==============================] - 2s 23ms/step - loss: 0.4434 - f1_score: 0.7420 - val_loss: 0.4286 - val_f1_score: 0.7601 - lr: 3.9811e-04\n",
      "Epoch 54/100\n",
      "84/84 [==============================] - 2s 22ms/step - loss: 0.4376 - f1_score: 0.7553 - val_loss: 0.4427 - val_f1_score: 0.7557 - lr: 4.4668e-04\n",
      "Epoch 55/100\n",
      "84/84 [==============================] - 2s 23ms/step - loss: 0.4341 - f1_score: 0.7471 - val_loss: 0.4329 - val_f1_score: 0.7429 - lr: 5.0119e-04\n",
      "Epoch 56/100\n",
      "84/84 [==============================] - 2s 23ms/step - loss: 0.4362 - f1_score: 0.7519 - val_loss: 0.4291 - val_f1_score: 0.7650 - lr: 5.6234e-04\n",
      "Epoch 57/100\n",
      "84/84 [==============================] - 2s 23ms/step - loss: 0.4290 - f1_score: 0.7537 - val_loss: 0.4290 - val_f1_score: 0.7547 - lr: 6.3096e-04\n",
      "Epoch 58/100\n",
      "84/84 [==============================] - 2s 23ms/step - loss: 0.4328 - f1_score: 0.7511 - val_loss: 0.4277 - val_f1_score: 0.7576 - lr: 7.0795e-04\n",
      "Epoch 59/100\n",
      "84/84 [==============================] - 2s 22ms/step - loss: 0.4235 - f1_score: 0.7636 - val_loss: 0.4298 - val_f1_score: 0.7514 - lr: 7.9433e-04\n",
      "Epoch 60/100\n",
      "84/84 [==============================] - 2s 24ms/step - loss: 0.4232 - f1_score: 0.7729 - val_loss: 0.4474 - val_f1_score: 0.7666 - lr: 8.9125e-04\n",
      "Epoch 61/100\n",
      "84/84 [==============================] - 2s 23ms/step - loss: 0.4231 - f1_score: 0.7590 - val_loss: 0.4476 - val_f1_score: 0.7701 - lr: 0.0010\n",
      "Epoch 62/100\n",
      "84/84 [==============================] - 2s 23ms/step - loss: 0.4105 - f1_score: 0.7641 - val_loss: 0.4318 - val_f1_score: 0.7462 - lr: 0.0011\n",
      "Epoch 63/100\n",
      "84/84 [==============================] - 2s 22ms/step - loss: 0.4191 - f1_score: 0.7630 - val_loss: 0.4464 - val_f1_score: 0.7527 - lr: 0.0013\n",
      "Epoch 64/100\n",
      "84/84 [==============================] - 2s 23ms/step - loss: 0.4160 - f1_score: 0.7698 - val_loss: 0.4586 - val_f1_score: 0.7669 - lr: 0.0014\n",
      "Epoch 65/100\n",
      "84/84 [==============================] - 2s 24ms/step - loss: 0.4089 - f1_score: 0.7785 - val_loss: 0.4846 - val_f1_score: 0.7723 - lr: 0.0016\n",
      "Epoch 66/100\n",
      "84/84 [==============================] - 2s 25ms/step - loss: 0.4022 - f1_score: 0.7831 - val_loss: 0.4239 - val_f1_score: 0.7698 - lr: 0.0018\n",
      "Epoch 67/100\n",
      "84/84 [==============================] - 2s 25ms/step - loss: 0.3973 - f1_score: 0.7794 - val_loss: 0.4554 - val_f1_score: 0.7727 - lr: 0.0020\n",
      "Epoch 68/100\n",
      "84/84 [==============================] - 2s 24ms/step - loss: 0.3990 - f1_score: 0.7816 - val_loss: 0.4299 - val_f1_score: 0.7562 - lr: 0.0022\n",
      "Epoch 69/100\n",
      "84/84 [==============================] - 2s 23ms/step - loss: 0.3946 - f1_score: 0.7831 - val_loss: 0.4894 - val_f1_score: 0.7704 - lr: 0.0025\n",
      "Epoch 70/100\n",
      "84/84 [==============================] - 2s 24ms/step - loss: 0.3887 - f1_score: 0.7816 - val_loss: 0.4263 - val_f1_score: 0.7619 - lr: 0.0028\n",
      "Epoch 71/100\n",
      "84/84 [==============================] - 2s 24ms/step - loss: 0.3881 - f1_score: 0.7925 - val_loss: 0.4579 - val_f1_score: 0.7518 - lr: 0.0032\n",
      "Epoch 72/100\n",
      "84/84 [==============================] - 2s 24ms/step - loss: 0.3784 - f1_score: 0.7938 - val_loss: 0.4375 - val_f1_score: 0.7165 - lr: 0.0035\n",
      "Epoch 73/100\n",
      "84/84 [==============================] - 2s 23ms/step - loss: 0.3794 - f1_score: 0.8018 - val_loss: 0.4491 - val_f1_score: 0.7753 - lr: 0.0040\n",
      "Epoch 74/100\n",
      "84/84 [==============================] - 2s 22ms/step - loss: 0.3856 - f1_score: 0.7946 - val_loss: 0.4435 - val_f1_score: 0.7729 - lr: 0.0045\n",
      "Epoch 75/100\n",
      "84/84 [==============================] - 2s 21ms/step - loss: 0.3715 - f1_score: 0.8045 - val_loss: 0.4517 - val_f1_score: 0.7678 - lr: 0.0050\n",
      "Epoch 76/100\n",
      "84/84 [==============================] - 2s 21ms/step - loss: 0.3800 - f1_score: 0.7947 - val_loss: 0.4501 - val_f1_score: 0.7632 - lr: 0.0056\n",
      "Epoch 77/100\n",
      "84/84 [==============================] - 2s 23ms/step - loss: 0.3773 - f1_score: 0.7946 - val_loss: 0.4651 - val_f1_score: 0.7707 - lr: 0.0063\n",
      "Epoch 78/100\n",
      "84/84 [==============================] - 2s 26ms/step - loss: 0.3861 - f1_score: 0.7796 - val_loss: 0.5485 - val_f1_score: 0.7531 - lr: 0.0071\n",
      "Epoch 79/100\n",
      "84/84 [==============================] - 2s 25ms/step - loss: 0.3835 - f1_score: 0.7974 - val_loss: 0.4484 - val_f1_score: 0.7660 - lr: 0.0079\n",
      "Epoch 80/100\n",
      "84/84 [==============================] - 2s 24ms/step - loss: 0.4132 - f1_score: 0.7803 - val_loss: 0.4451 - val_f1_score: 0.7657 - lr: 0.0089\n",
      "Epoch 81/100\n",
      "84/84 [==============================] - 2s 24ms/step - loss: 0.4145 - f1_score: 0.7706 - val_loss: 0.5056 - val_f1_score: 0.7729 - lr: 0.0100\n",
      "Epoch 82/100\n",
      "84/84 [==============================] - 2s 25ms/step - loss: 0.3955 - f1_score: 0.7939 - val_loss: 0.4458 - val_f1_score: 0.7515 - lr: 0.0112\n",
      "Epoch 83/100\n",
      "84/84 [==============================] - 2s 23ms/step - loss: 0.4233 - f1_score: 0.7671 - val_loss: 0.4596 - val_f1_score: 0.7612 - lr: 0.0126\n",
      "Epoch 84/100\n",
      "84/84 [==============================] - 2s 24ms/step - loss: 0.4468 - f1_score: 0.7552 - val_loss: 0.4993 - val_f1_score: 0.6615 - lr: 0.0141\n",
      "Epoch 85/100\n",
      "84/84 [==============================] - 2s 22ms/step - loss: 0.4723 - f1_score: 0.7381 - val_loss: 0.4628 - val_f1_score: 0.7275 - lr: 0.0158\n",
      "Epoch 86/100\n",
      "84/84 [==============================] - 2s 22ms/step - loss: 0.4703 - f1_score: 0.7315 - val_loss: 0.5033 - val_f1_score: 0.7307 - lr: 0.0178\n",
      "Epoch 87/100\n",
      "84/84 [==============================] - 2s 24ms/step - loss: 0.6168 - f1_score: 0.6112 - val_loss: 0.7140 - val_f1_score: 0.0000e+00 - lr: 0.0200\n",
      "Epoch 88/100\n",
      "84/84 [==============================] - 2s 24ms/step - loss: 0.8732 - f1_score: 0.3823 - val_loss: 0.7745 - val_f1_score: 0.0000e+00 - lr: 0.0224\n",
      "Epoch 89/100\n",
      "84/84 [==============================] - 2s 23ms/step - loss: 0.6874 - f1_score: 0.5277 - val_loss: 0.6826 - val_f1_score: 0.4078 - lr: 0.0251\n",
      "Epoch 90/100\n",
      "84/84 [==============================] - 2s 23ms/step - loss: 1.5431 - f1_score: 0.5103 - val_loss: 11.5980 - val_f1_score: 0.6128 - lr: 0.0282\n",
      "Epoch 91/100\n",
      "84/84 [==============================] - 2s 24ms/step - loss: 12.4891 - f1_score: 0.4053 - val_loss: 1.5880 - val_f1_score: 0.0000e+00 - lr: 0.0316\n",
      "Epoch 92/100\n",
      "84/84 [==============================] - 2s 23ms/step - loss: 1.8273 - f1_score: 0.4126 - val_loss: 0.9482 - val_f1_score: 0.0000e+00 - lr: 0.0355\n",
      "Epoch 93/100\n",
      "84/84 [==============================] - 2s 23ms/step - loss: 1.0247 - f1_score: 0.3710 - val_loss: 0.9151 - val_f1_score: 0.0000e+00 - lr: 0.0398\n",
      "Epoch 94/100\n",
      "84/84 [==============================] - 2s 22ms/step - loss: 1.0395 - f1_score: 0.3609 - val_loss: 0.8861 - val_f1_score: 0.6128 - lr: 0.0447\n",
      "Epoch 95/100\n",
      "84/84 [==============================] - 2s 21ms/step - loss: 0.8927 - f1_score: 0.2821 - val_loss: 0.8513 - val_f1_score: 0.1799 - lr: 0.0501\n",
      "Epoch 96/100\n",
      "84/84 [==============================] - 2s 22ms/step - loss: 0.8612 - f1_score: 0.2087 - val_loss: 0.8379 - val_f1_score: 0.0000e+00 - lr: 0.0562\n",
      "Epoch 97/100\n",
      "84/84 [==============================] - 2s 22ms/step - loss: 0.8738 - f1_score: 0.2902 - val_loss: 0.8431 - val_f1_score: 0.0000e+00 - lr: 0.0631\n",
      "Epoch 98/100\n",
      "84/84 [==============================] - 2s 22ms/step - loss: 0.8634 - f1_score: 0.3281 - val_loss: 0.8195 - val_f1_score: 0.0000e+00 - lr: 0.0708\n",
      "Epoch 99/100\n",
      "84/84 [==============================] - 2s 22ms/step - loss: 3.2867 - f1_score: 0.3390 - val_loss: 2.4957 - val_f1_score: 0.0000e+00 - lr: 0.0794\n",
      "Epoch 100/100\n",
      "84/84 [==============================] - 2s 23ms/step - loss: 5921.1733 - f1_score: 0.4137 - val_loss: 121.7635 - val_f1_score: 0.6128 - lr: 0.0891\n"
     ]
    }
   ],
   "source": [
    "NUM_EPOCHS = 100\n",
    "BATCH_SIZE = 64\n",
    "\n",
    "# Training the model\n",
    "history_lstm = model_lstm.fit(padded, y_train, \n",
    "                              batch_size=BATCH_SIZE, epochs=NUM_EPOCHS, \n",
    "                              callbacks=[lr_schedule ],\n",
    "                              validation_data=(testing_padded, y_test))"
   ]
  },
  {
   "cell_type": "code",
   "execution_count": 45,
   "id": "03d019a9",
   "metadata": {},
   "outputs": [
    {
     "data": {
      "text/plain": [
       "(1e-06, 0.001, 0.0, 1.0)"
      ]
     },
     "execution_count": 45,
     "metadata": {},
     "output_type": "execute_result"
    },
    {
     "data": {
      "image/png": "[encoded data removed]",
      "text/plain": [
       "<Figure size 1000x300 with 1 Axes>"
      ]
     },
     "metadata": {},
     "output_type": "display_data"
    }
   ],
   "source": [
    "# Define the learning rate array\n",
    "lrs = 1e-8 * (10 ** (np.arange(100) / 20))\n",
    "# Set the figure size\n",
    "plt.figure(figsize=(10, 3))\n",
    "plt.grid(True)\n",
    "plt.semilogx(lrs, history_lstm.history[\"loss\"])\n",
    "plt.tick_params('both', length=10, width=1, which='both')\n",
    "plt.axis([1e-6, 1e-3, 0, 1])"
   ]
  },
  {
   "cell_type": "code",
   "execution_count": 46,
   "id": "7a0fd4fd",
   "metadata": {},
   "outputs": [
    {
     "data": {
      "text/plain": [
       "(1e-05, 0.0002, 0.0, 1.0)"
      ]
     },
     "execution_count": 46,
     "metadata": {},
     "output_type": "execute_result"
    },
    {
     "data": {
      "image/png": "[encoded data removed]",
      "text/plain": [
       "<Figure size 1000x300 with 1 Axes>"
      ]
     },
     "metadata": {},
     "output_type": "display_data"
    }
   ],
   "source": [
    "## Zooming in to 1e-5 & 2e-4 range to read the optimum learning rate\n",
    "plt.figure(figsize=(10, 3))\n",
    "plt.grid(True)\n",
    "plt.semilogx(lrs, history_lstm.history[\"loss\"])\n",
    "plt.tick_params('both', length=10, width=1, which='both')\n",
    "plt.axis([1e-5, 2e-4, 0, 1])"
   ]
  },
  {
   "cell_type": "code",
   "execution_count": 47,
   "id": "2bec2f68",
   "metadata": {},
   "outputs": [],
   "source": [
    "#Resets all state generated by Keras.\n",
    "tf.keras.backend.clear_session()\n",
    "del model_lstm\n",
    "del history_lstm"
   ]
  },
  {
   "cell_type": "markdown",
   "id": "4a691eab",
   "metadata": {},
   "source": [
    "### Building Model "
   ]
  },
  {
   "cell_type": "code",
   "execution_count": 48,
   "id": "35490139",
   "metadata": {},
   "outputs": [
    {
     "name": "stdout",
     "output_type": "stream",
     "text": [
      "Model: \"sequential\"\n",
      "_________________________________________________________________\n",
      " Layer (type)                Output Shape              Param #   \n",
      "=================================================================\n",
      " embedding (Embedding)       (None, 32, 200)           2436000   \n",
      "                                                                 \n",
      " spatial_dropout1d (Spatial  (None, 32, 200)           0         \n",
      " Dropout1D)                                                      \n",
      "                                                                 \n",
      " bidirectional (Bidirection  (None, 32, 400)           641600    \n",
      " al)                                                             \n",
      "                                                                 \n",
      " dropout (Dropout)           (None, 32, 400)           0         \n",
      "                                                                 \n",
      " bidirectional_1 (Bidirecti  (None, 32, 200)           400800    \n",
      " onal)                                                           \n",
      "                                                                 \n",
      " dropout_1 (Dropout)         (None, 32, 200)           0         \n",
      "                                                                 \n",
      " conv1d (Conv1D)             (None, 28, 200)           200200    \n",
      "                                                                 \n",
      " global_max_pooling1d (Glob  (None, 200)               0         \n",
      " alMaxPooling1D)                                                 \n",
      "                                                                 \n",
      " dropout_2 (Dropout)         (None, 200)               0         \n",
      "                                                                 \n",
      " dense (Dense)               (None, 100)               20100     \n",
      "                                                                 \n",
      " dropout_3 (Dropout)         (None, 100)               0         \n",
      "                                                                 \n",
      " dense_1 (Dense)             (None, 50)                5050      \n",
      "                                                                 \n",
      " dropout_4 (Dropout)         (None, 50)                0         \n",
      "                                                                 \n",
      " dense_2 (Dense)             (None, 1)                 51        \n",
      "                                                                 \n",
      "=================================================================\n",
      "Total params: 3703801 (14.13 MB)\n",
      "Trainable params: 1267801 (4.84 MB)\n",
      "Non-trainable params: 2436000 (9.29 MB)\n",
      "_________________________________________________________________\n"
     ]
    }
   ],
   "source": [
    "# Model Definition with LSTM\n",
    "model_lstm = tf.keras.Sequential([\n",
    "    embedding_layer,\n",
    "    tf.keras.layers.SpatialDropout1D(0.2),\n",
    "    tf.keras.layers.Bidirectional(tf.keras.layers.LSTM(200,dropout=0.50,\n",
    "                                                       kernel_initializer = 'orthogonal',\n",
    "                                                       return_sequences=True)),\n",
    "    tf.keras.layers.Dropout(0.20),\n",
    "    tf.keras.layers.Bidirectional(tf.keras.layers.LSTM(100, dropout=0.50,\n",
    "                                                       kernel_initializer = 'orthogonal',\n",
    "                                                       return_sequences=True)),\n",
    "    tf.keras.layers.Dropout(0.20),\n",
    "    tf.keras.layers.Conv1D(200, 5, activation=activation),\n",
    "    tf.keras.layers.GlobalMaxPool1D(),\n",
    "    tf.keras.layers.Dropout(0.20),\n",
    "    tf.keras.layers.Dense(100,kernel_initializer = 'he_normal', \n",
    "                          kernel_regularizer = regularizers.l2(1e-5),\n",
    "                          activation=activation),\n",
    "    tf.keras.layers.Dropout(0.20),\n",
    "    tf.keras.layers.Dense(50,kernel_initializer = 'he_normal',\n",
    "                          kernel_regularizer = regularizers.l2(1e-5), \n",
    "                          activation=activation),\n",
    "    tf.keras.layers.Dropout(0.20),\n",
    "    tf.keras.layers.Dense(1,kernel_regularizer = regularizers.l2(1e-5), \n",
    "                          activation='sigmoid')\n",
    "])\n",
    "\n",
    "learning_rate= 5e-5\n",
    "\n",
    "# Setting the training parameters\n",
    "model_lstm.compile(loss='binary_crossentropy',\n",
    "                   optimizer=tf.keras.optimizers.experimental.Nadam(learning_rate=learning_rate),\n",
    "                   metrics=[tfa.metrics.FBetaScore(name='f1_score',num_classes=1,\n",
    "                                                average='macro',threshold=0.5)])\n",
    "\n",
    "# Printing the model summary\n",
    "model_lstm.summary()"
   ]
  },
  {
   "cell_type": "code",
   "execution_count": 49,
   "id": "10ef7deb",
   "metadata": {
    "scrolled": true
   },
   "outputs": [
    {
     "name": "stdout",
     "output_type": "stream",
     "text": [
      "Epoch 1/100\n",
      "84/84 [==============================] - 6s 30ms/step - loss: 0.6645 - f1_score: 0.4075 - val_loss: 0.6142 - val_f1_score: 0.7074 - lr: 5.0000e-05\n",
      "Epoch 2/100\n",
      "84/84 [==============================] - 2s 23ms/step - loss: 0.5725 - f1_score: 0.6632 - val_loss: 0.5101 - val_f1_score: 0.7378 - lr: 5.0000e-05\n",
      "Epoch 3/100\n",
      "84/84 [==============================] - 2s 22ms/step - loss: 0.5175 - f1_score: 0.7165 - val_loss: 0.4834 - val_f1_score: 0.7445 - lr: 5.0000e-05\n",
      "Epoch 4/100\n",
      "84/84 [==============================] - 2s 22ms/step - loss: 0.4972 - f1_score: 0.7198 - val_loss: 0.4770 - val_f1_score: 0.7631 - lr: 5.0000e-05\n",
      "Epoch 5/100\n",
      "84/84 [==============================] - 2s 20ms/step - loss: 0.4848 - f1_score: 0.7248 - val_loss: 0.4623 - val_f1_score: 0.7610 - lr: 5.0000e-05\n",
      "Epoch 6/100\n",
      "84/84 [==============================] - 2s 19ms/step - loss: 0.4716 - f1_score: 0.7275 - val_loss: 0.4650 - val_f1_score: 0.7677 - lr: 5.0000e-05\n",
      "Epoch 7/100\n",
      "84/84 [==============================] - 2s 22ms/step - loss: 0.4790 - f1_score: 0.7235 - val_loss: 0.4485 - val_f1_score: 0.7561 - lr: 5.0000e-05\n",
      "Epoch 8/100\n",
      "84/84 [==============================] - 2s 22ms/step - loss: 0.4702 - f1_score: 0.7348 - val_loss: 0.4471 - val_f1_score: 0.7558 - lr: 5.0000e-05\n",
      "Epoch 9/100\n",
      "84/84 [==============================] - 2s 22ms/step - loss: 0.4699 - f1_score: 0.7353 - val_loss: 0.4462 - val_f1_score: 0.7552 - lr: 5.0000e-05\n",
      "Epoch 10/100\n",
      "84/84 [==============================] - 2s 23ms/step - loss: 0.4570 - f1_score: 0.7399 - val_loss: 0.4576 - val_f1_score: 0.7667 - lr: 5.0000e-05\n",
      "Epoch 11/100\n",
      "84/84 [==============================] - 2s 21ms/step - loss: 0.4601 - f1_score: 0.7395 - val_loss: 0.4494 - val_f1_score: 0.7625 - lr: 5.0000e-05\n",
      "Epoch 12/100\n",
      "84/84 [==============================] - 2s 21ms/step - loss: 0.4589 - f1_score: 0.7374 - val_loss: 0.4457 - val_f1_score: 0.7640 - lr: 5.0000e-05\n",
      "Epoch 13/100\n",
      "84/84 [==============================] - 2s 21ms/step - loss: 0.4556 - f1_score: 0.7387 - val_loss: 0.4385 - val_f1_score: 0.7604 - lr: 5.0000e-05\n",
      "Epoch 14/100\n",
      "84/84 [==============================] - 2s 21ms/step - loss: 0.4591 - f1_score: 0.7397 - val_loss: 0.4429 - val_f1_score: 0.7638 - lr: 5.0000e-05\n",
      "Epoch 15/100\n",
      "84/84 [==============================] - 2s 22ms/step - loss: 0.4578 - f1_score: 0.7418 - val_loss: 0.4370 - val_f1_score: 0.7554 - lr: 5.0000e-05\n",
      "Epoch 16/100\n",
      "84/84 [==============================] - 2s 22ms/step - loss: 0.4557 - f1_score: 0.7364 - val_loss: 0.4420 - val_f1_score: 0.7643 - lr: 5.0000e-05\n",
      "Epoch 17/100\n",
      "84/84 [==============================] - 2s 23ms/step - loss: 0.4547 - f1_score: 0.7383 - val_loss: 0.4407 - val_f1_score: 0.7510 - lr: 5.0000e-05\n",
      "Epoch 18/100\n",
      "84/84 [==============================] - 2s 23ms/step - loss: 0.4521 - f1_score: 0.7373 - val_loss: 0.4389 - val_f1_score: 0.7550 - lr: 5.0000e-05\n",
      "Epoch 19/100\n",
      "84/84 [==============================] - 2s 23ms/step - loss: 0.4573 - f1_score: 0.7408 - val_loss: 0.4396 - val_f1_score: 0.7543 - lr: 5.0000e-05\n",
      "Epoch 20/100\n",
      "84/84 [==============================] - 2s 22ms/step - loss: 0.4502 - f1_score: 0.7395 - val_loss: 0.4344 - val_f1_score: 0.7535 - lr: 5.0000e-05\n",
      "Epoch 21/100\n",
      "84/84 [==============================] - 2s 22ms/step - loss: 0.4537 - f1_score: 0.7492 - val_loss: 0.4471 - val_f1_score: 0.7605 - lr: 5.0000e-05\n",
      "Epoch 22/100\n",
      "84/84 [==============================] - 2s 21ms/step - loss: 0.4461 - f1_score: 0.7433 - val_loss: 0.4448 - val_f1_score: 0.7603 - lr: 5.0000e-05\n",
      "Epoch 23/100\n",
      "84/84 [==============================] - 2s 22ms/step - loss: 0.4515 - f1_score: 0.7498 - val_loss: 0.4445 - val_f1_score: 0.7570 - lr: 5.0000e-05\n",
      "Epoch 24/100\n",
      "84/84 [==============================] - 2s 22ms/step - loss: 0.4418 - f1_score: 0.7481 - val_loss: 0.4443 - val_f1_score: 0.7647 - lr: 5.0000e-05\n",
      "Epoch 25/100\n",
      "84/84 [==============================] - 2s 21ms/step - loss: 0.4376 - f1_score: 0.7469 - val_loss: 0.4339 - val_f1_score: 0.7500 - lr: 5.0000e-05\n",
      "Epoch 26/100\n",
      "84/84 [==============================] - 2s 20ms/step - loss: 0.4380 - f1_score: 0.7482 - val_loss: 0.4438 - val_f1_score: 0.7610 - lr: 5.0000e-05\n",
      "Epoch 27/100\n",
      "84/84 [==============================] - 2s 21ms/step - loss: 0.4481 - f1_score: 0.7450 - val_loss: 0.4356 - val_f1_score: 0.7572 - lr: 5.0000e-05\n",
      "Epoch 28/100\n",
      "84/84 [==============================] - 2s 21ms/step - loss: 0.4440 - f1_score: 0.7458 - val_loss: 0.4450 - val_f1_score: 0.7457 - lr: 5.0000e-05\n",
      "Epoch 29/100\n",
      "84/84 [==============================] - 2s 20ms/step - loss: 0.4368 - f1_score: 0.7495 - val_loss: 0.4361 - val_f1_score: 0.7592 - lr: 5.0000e-05\n",
      "Epoch 30/100\n",
      "84/84 [==============================] - 2s 23ms/step - loss: 0.4441 - f1_score: 0.7417 - val_loss: 0.4314 - val_f1_score: 0.7588 - lr: 5.0000e-05\n",
      "Epoch 31/100\n",
      "84/84 [==============================] - 2s 23ms/step - loss: 0.4416 - f1_score: 0.7476 - val_loss: 0.4378 - val_f1_score: 0.7619 - lr: 5.0000e-05\n",
      "Epoch 32/100\n",
      "84/84 [==============================] - 2s 23ms/step - loss: 0.4396 - f1_score: 0.7460 - val_loss: 0.4420 - val_f1_score: 0.7579 - lr: 5.0000e-05\n",
      "Epoch 33/100\n",
      "84/84 [==============================] - 2s 22ms/step - loss: 0.4357 - f1_score: 0.7493 - val_loss: 0.4509 - val_f1_score: 0.7681 - lr: 5.0000e-05\n",
      "Epoch 34/100\n",
      "84/84 [==============================] - 2s 23ms/step - loss: 0.4371 - f1_score: 0.7570 - val_loss: 0.4393 - val_f1_score: 0.7605 - lr: 5.0000e-05\n",
      "Epoch 35/100\n",
      "82/84 [============================>.] - ETA: 0s - loss: 0.4299 - f1_score: 0.7585\n",
      "Epoch 35: ReduceLROnPlateau reducing learning rate to 9.999999747378752e-06.\n",
      "84/84 [==============================] - 2s 23ms/step - loss: 0.4292 - f1_score: 0.7589 - val_loss: 0.4471 - val_f1_score: 0.7631 - lr: 5.0000e-05\n",
      "Epoch 36/100\n",
      "84/84 [==============================] - 2s 22ms/step - loss: 0.4281 - f1_score: 0.7598 - val_loss: 0.4388 - val_f1_score: 0.7607 - lr: 1.0000e-05\n",
      "Epoch 37/100\n",
      "84/84 [==============================] - 2s 19ms/step - loss: 0.4377 - f1_score: 0.7475 - val_loss: 0.4360 - val_f1_score: 0.7590 - lr: 1.0000e-05\n",
      "Epoch 38/100\n",
      "84/84 [==============================] - 2s 21ms/step - loss: 0.4307 - f1_score: 0.7473 - val_loss: 0.4370 - val_f1_score: 0.7573 - lr: 1.0000e-05\n",
      "Epoch 39/100\n",
      "84/84 [==============================] - 2s 21ms/step - loss: 0.4329 - f1_score: 0.7463 - val_loss: 0.4367 - val_f1_score: 0.7574 - lr: 1.0000e-05\n",
      "Epoch 40/100\n",
      "84/84 [==============================] - ETA: 0s - loss: 0.4317 - f1_score: 0.7556\n",
      "Epoch 40: ReduceLROnPlateau reducing learning rate to 1.9999999494757505e-06.\n",
      "84/84 [==============================] - 2s 22ms/step - loss: 0.4317 - f1_score: 0.7556 - val_loss: 0.4354 - val_f1_score: 0.7597 - lr: 1.0000e-05\n",
      "Epoch 41/100\n",
      "84/84 [==============================] - 2s 21ms/step - loss: 0.4318 - f1_score: 0.7506 - val_loss: 0.4368 - val_f1_score: 0.7581 - lr: 2.0000e-06\n",
      "Epoch 42/100\n",
      "84/84 [==============================] - 2s 22ms/step - loss: 0.4261 - f1_score: 0.7550 - val_loss: 0.4365 - val_f1_score: 0.7583 - lr: 2.0000e-06\n",
      "Epoch 43/100\n",
      "84/84 [==============================] - 2s 22ms/step - loss: 0.4278 - f1_score: 0.7556 - val_loss: 0.4360 - val_f1_score: 0.7578 - lr: 2.0000e-06\n",
      "Epoch 44/100\n",
      "84/84 [==============================] - 2s 22ms/step - loss: 0.4294 - f1_score: 0.7580 - val_loss: 0.4358 - val_f1_score: 0.7582 - lr: 2.0000e-06\n",
      "Epoch 45/100\n",
      "82/84 [============================>.] - ETA: 0s - loss: 0.4245 - f1_score: 0.7591\n",
      "Epoch 45: ReduceLROnPlateau reducing learning rate to 3.999999989900971e-07.\n",
      "84/84 [==============================] - 2s 22ms/step - loss: 0.4250 - f1_score: 0.7582 - val_loss: 0.4370 - val_f1_score: 0.7585 - lr: 2.0000e-06\n",
      "Epoch 46/100\n",
      "84/84 [==============================] - 2s 22ms/step - loss: 0.4351 - f1_score: 0.7560 - val_loss: 0.4369 - val_f1_score: 0.7572 - lr: 4.0000e-07\n",
      "Epoch 47/100\n",
      "84/84 [==============================] - 2s 23ms/step - loss: 0.4254 - f1_score: 0.7569 - val_loss: 0.4368 - val_f1_score: 0.7572 - lr: 4.0000e-07\n",
      "Epoch 48/100\n",
      "84/84 [==============================] - 2s 24ms/step - loss: 0.4339 - f1_score: 0.7623 - val_loss: 0.4367 - val_f1_score: 0.7578 - lr: 4.0000e-07\n",
      "Epoch 49/100\n",
      "84/84 [==============================] - 2s 24ms/step - loss: 0.4296 - f1_score: 0.7524 - val_loss: 0.4367 - val_f1_score: 0.7586 - lr: 4.0000e-07\n",
      "Epoch 50/100\n",
      "84/84 [==============================] - ETA: 0s - loss: 0.4320 - f1_score: 0.7582Restoring model weights from the end of the best epoch: 30.\n",
      "\n",
      "Epoch 50: ReduceLROnPlateau reducing learning rate to 8.00000009348878e-08.\n",
      "84/84 [==============================] - 2s 22ms/step - loss: 0.4320 - f1_score: 0.7582 - val_loss: 0.4365 - val_f1_score: 0.7579 - lr: 4.0000e-07\n",
      "Epoch 50: early stopping\n"
     ]
    }
   ],
   "source": [
    "NUM_EPOCHS = 100\n",
    "BATCH_SIZE = 64\n",
    "\n",
    "# Training the model\n",
    "history_lstm = model_lstm.fit(padded, y_train, \n",
    "                              batch_size=BATCH_SIZE, epochs=NUM_EPOCHS, \n",
    "                              callbacks=[callbacks],\n",
    "                              validation_data=(testing_padded, y_test))"
   ]
  },
  {
   "cell_type": "markdown",
   "id": "6a76112a",
   "metadata": {},
   "source": [
    "### Assessing Model Performance"
   ]
  },
  {
   "cell_type": "code",
   "execution_count": 50,
   "id": "5adc796a",
   "metadata": {},
   "outputs": [
    {
     "data": {
      "image/png": "[encoded data removed]",
      "text/plain": [
       "<Figure size 640x480 with 1 Axes>"
      ]
     },
     "metadata": {},
     "output_type": "display_data"
    },
    {
     "data": {
      "image/png": "[encoded data removed]",
      "text/plain": [
       "<Figure size 640x480 with 1 Axes>"
      ]
     },
     "metadata": {},
     "output_type": "display_data"
    }
   ],
   "source": [
    "# Plotting the accuracy and loss history\n",
    "plot_graphs(history_lstm, 'f1_score')\n",
    "plot_graphs(history_lstm, 'loss')"
   ]
  },
  {
   "cell_type": "code",
   "execution_count": 51,
   "id": "1678570f",
   "metadata": {},
   "outputs": [
    {
     "name": "stdout",
     "output_type": "stream",
     "text": [
      "72/72 [==============================] - 1s 7ms/step\n",
      "****** Test Data ********\n",
      "F1: 0.7588046958377801\n",
      "              precision    recall  f1-score   support\n",
      "\n",
      "           0       0.79      0.88      0.83      1275\n",
      "           1       0.82      0.70      0.76      1009\n",
      "\n",
      "    accuracy                           0.80      2284\n",
      "   macro avg       0.81      0.79      0.80      2284\n",
      "weighted avg       0.80      0.80      0.80      2284\n",
      "\n",
      "Confusion Matrix\n"
     ]
    },
    {
     "data": {
      "text/plain": [
       "<sklearn.metrics._plot.confusion_matrix.ConfusionMatrixDisplay at 0x7f20f8e297c0>"
      ]
     },
     "execution_count": 51,
     "metadata": {},
     "output_type": "execute_result"
    },
    {
     "data": {
      "image/png": "[encoded data removed]",
      "text/plain": [
       "<Figure size 640x480 with 2 Axes>"
      ]
     },
     "metadata": {},
     "output_type": "display_data"
    }
   ],
   "source": [
    "y_pred_valid = tf.math.round(model_lstm.predict(testing_padded)).numpy().astype(int) \n",
    "print(\"****** Test Data ********\")\n",
    "print(f\"F1: {metrics.f1_score(y_test, y_pred_valid)}\")\n",
    "# Printing performance details\n",
    "print(metrics.classification_report(y_test, y_pred_valid))\n",
    "\n",
    "# Printing confusion matrix\n",
    "print(\"Confusion Matrix\")\n",
    "ConfusionMatrixDisplay.from_predictions(\n",
    "        y_test,\n",
    "        y_pred_valid,\n",
    "        display_labels=[\"Not Disaster\",\"Disaster\"],\n",
    "        cmap=plt.cm.Blues\n",
    "    )"
   ]
  },
  {
   "cell_type": "code",
   "execution_count": 52,
   "id": "d2fdfef1",
   "metadata": {},
   "outputs": [
    {
     "data": {
      "image/png": "[encoded data removed]",
      "text/plain": [
       "<Figure size 1000x500 with 2 Axes>"
      ]
     },
     "metadata": {},
     "output_type": "display_data"
    }
   ],
   "source": [
    "fig, (ax1, ax2) = plt.subplots(1, 2, figsize=(10, 5))\n",
    "\n",
    "roc_display = RocCurveDisplay.from_predictions(y_test, y_pred_valid,ax=ax1)\n",
    "pr_display = PrecisionRecallDisplay.from_predictions(y_test, y_pred_valid,ax=ax2)\n",
    "roc_display.ax_.set_title(\"ROC curve\")\n",
    "pr_display.ax_.set_title(\"Precision-Recall curve\")\n",
    "\n",
    "plt.show()\n",
    "plt.close()"
   ]
  },
  {
   "cell_type": "markdown",
   "id": "cf7c04dd-89f9-478a-942d-78763d394c6e",
   "metadata": {},
   "source": [
    "### Predicting Test Set Outcomes"
   ]
  },
  {
   "cell_type": "code",
   "execution_count": 53,
   "id": "8a1bc32e-434f-4762-a692-9ff15c9cf73c",
   "metadata": {},
   "outputs": [],
   "source": [
    "#reading and pre-processing the test dataset \n",
    "df_test=pd.read_csv(\"test.csv\")\n",
    "sentences_test = df_test['text']\n",
    "sentences_test=sentences_test.apply(remove_stopwords)\n",
    "df_test_padded = seq_pad_and_trunc(sentences_test, tokenizer, padding, trunc_type, max_length)"
   ]
  },
  {
   "cell_type": "code",
   "execution_count": 54,
   "id": "6a7caa10-91da-42de-adc3-17ffb2beb234",
   "metadata": {},
   "outputs": [],
   "source": [
    "# storing predictions in to a dataframe and writing to a csv file\n",
    "#embedded_out=pd.DataFrame(columns=['id', 'target'])\n",
    "#embedded_out['id']=df_test['id']\n",
    "#embedded_out['target'] = tf.math.round(model_lstm.predict(df_test_padded)).numpy().astype(int) \n",
    "#embedded_out.to_csv('submission.csv', index=False)\n",
    "#print(\"Your submission was successfully saved!\")"
   ]
  },
  {
   "cell_type": "code",
   "execution_count": 55,
   "id": "f3e32615",
   "metadata": {},
   "outputs": [],
   "source": [
    "tf.keras.backend.clear_session()\n",
    "del model_lstm\n",
    "del history_lstm"
   ]
  },
  {
   "cell_type": "markdown",
   "id": "86afbc37",
   "metadata": {},
   "source": [
    "## Optimizing Hyperparameters for LSTM-CNN-GloVe Embeddings Model through Bayesian Tuning"
   ]
  },
  {
   "cell_type": "code",
   "execution_count": 56,
   "id": "7033dd96",
   "metadata": {},
   "outputs": [],
   "source": [
    "#tf.keras.backend.clear_session()\n",
    "#del tuner_lr_do \n",
    "#del best_hps\n",
    "#del tunned_model_lstm\n",
    "#del final_model"
   ]
  },
  {
   "cell_type": "code",
   "execution_count": 57,
   "id": "204a3f04",
   "metadata": {},
   "outputs": [],
   "source": [
    "def call():\n",
    "        es = tf.keras.callbacks.EarlyStopping(\n",
    "        monitor='val_loss', # metrics to monitor\n",
    "        min_delta=0,#min amoung to count as an improvement\n",
    "        patience=10, # how many epochs before stop\n",
    "        verbose=0,\n",
    "        mode='min', # we need to max f1\n",
    "        restore_best_weights=True)\n",
    "            \n",
    "        rp = tf.keras.callbacks.ReduceLROnPlateau(\n",
    "        monitor='val_loss',\n",
    "        factor=0.2,\n",
    "        patience=5,\n",
    "        verbose=0,\n",
    "        mode='min',\n",
    "        min_lr=1e-8)\n",
    "        \n",
    "        return es,rp\n",
    "callbacks = call()"
   ]
  },
  {
   "cell_type": "code",
   "execution_count": 58,
   "id": "769524bc",
   "metadata": {},
   "outputs": [],
   "source": [
    "#adding callback to utilize tensorboard to observe search\n",
    "tensorboard_callback=tf.keras.callbacks.TensorBoard(log_dir=\"tb_logs\")\n",
    "#adding callback to clear keras backend after each training run\n",
    "class ClearMemory(Callback):\n",
    "    def on_train_end(self, epoch, logs=None):\n",
    "        gc.collect()\n",
    "        tf.keras.backend.clear_session()"
   ]
  },
  {
   "cell_type": "code",
   "execution_count": 59,
   "id": "f59bdcc9",
   "metadata": {},
   "outputs": [],
   "source": [
    "def model_builder(hp):\n",
    "    hp_units1 = hp.Int('units1', min_value=50,max_value=200,step=50, default=200)\n",
    "    hp_units2 = hp.Int('units2', min_value=0,max_value=200,step=50, default=100)\n",
    "    hp_units3 = hp.Int('units3', min_value=0,max_value=200,step=50, default=200)\n",
    "    hp_units4 = hp.Int('units4', min_value=0,max_value=200,step=50, default=100)\n",
    "    hp_units5 = hp.Int('units5', min_value=0,max_value=200,step=50, default=50)\n",
    "    \n",
    "    hp_dropout1=hp.Float('drop_out1', min_value=0,max_value=0.5,step=0.05, default=0.2)\n",
    "    hp_dropout2=hp.Float('drop_out2', min_value=0,max_value=0.5,step=0.05, default=0.5)\n",
    "    hp_dropout3=hp.Float('drop_out3', min_value=0,max_value=0.5,step=0.05, default=0.2)\n",
    "    hp_dropout4=hp.Float('drop_out4', min_value=0,max_value=0.5,step=0.05, default=0.5)\n",
    "    hp_dropout5=hp.Float('drop_out5', min_value=0,max_value=0.5,step=0.05, default=0.2)\n",
    "    hp_dropout6=hp.Float('drop_out6', min_value=0,max_value=0.5,step=0.05, default=0.2)\n",
    "    hp_dropout7=hp.Float('drop_out7', min_value=0,max_value=0.5,step=0.05, default=0.2)\n",
    "    hp_dropout8=hp.Float('drop_out8', min_value=0,max_value=0.5,step=0.05, default=0.2)\n",
    "    \n",
    "    hp_regularizer1= hp.Choice('reg1',values=[1e-4, 1e-5, 1e-6])\n",
    "    hp_regularizer2= hp.Choice('reg2',values=[1e-4, 1e-5, 1e-6])\n",
    "    hp_regularizer3= hp.Choice('reg3',values=[1e-4, 1e-5, 1e-6])\n",
    "    \n",
    "    model = tf.keras.Sequential()\n",
    "    model.add(embedding_layer)\n",
    "    \n",
    "    model.add(tf.keras.layers.SpatialDropout1D(hp_dropout1))\n",
    "    \n",
    "    if (hp_units2 !=0) or (hp_units3 !=0):\n",
    "        model.add(tf.keras.layers.Bidirectional(tf.keras.layers.LSTM(hp_units1,dropout=hp_dropout2,\n",
    "                                                                     kernel_initializer = 'orthogonal',\n",
    "                                                                 return_sequences=True)))\n",
    "        model.add(tf.keras.layers.Dropout(hp_dropout3))\n",
    "    else:\n",
    "        model.add(tf.keras.layers.Bidirectional(tf.keras.layers.LSTM(hp_units1,dropout=hp_dropout2,\n",
    "                                                                     kernel_initializer = 'orthogonal')))\n",
    "         \n",
    "    if hp_units2 !=0:\n",
    "        if hp_units3 !=0:\n",
    "            model.add(tf.keras.layers.Bidirectional(tf.keras.layers.LSTM(hp_units2, dropout=hp_dropout4,\n",
    "                                                                         kernel_initializer = 'orthogonal',\n",
    "                                                                     return_sequences=True)))\n",
    "            model.add(tf.keras.layers.Dropout(hp_dropout5))\n",
    "        else:\n",
    "            model.add(tf.keras.layers.Bidirectional(tf.keras.layers.LSTM(hp_units2, dropout=hp_dropout4,\n",
    "                                                                         kernel_initializer = 'orthogonal')))\n",
    "        \n",
    "    if hp_units3 !=0:\n",
    "        model.add(tf.keras.layers.Conv1D(hp_units3, 5, activation=activation))\n",
    "        model.add(tf.keras.layers.GlobalMaxPool1D())\n",
    "    \n",
    "\n",
    "    model.add(tf.keras.layers.Dropout(hp_dropout6))\n",
    "    \n",
    "    if hp_units4 !=0:\n",
    "        model.add(tf.keras.layers.Dense(hp_units4,kernel_initializer = 'he_normal',\n",
    "                                        kernel_regularizer = regularizers.l2(hp_regularizer1),\n",
    "                                        activation=activation))\n",
    "        model.add(tf.keras.layers.Dropout(hp_dropout7))\n",
    "    \n",
    "    if hp_units5 !=0:\n",
    "        model.add(tf.keras.layers.Dense(hp_units5,kernel_initializer = 'he_normal',\n",
    "                                        kernel_regularizer = regularizers.l2(hp_regularizer2),\n",
    "                                        activation=activation))\n",
    "        model.add(tf.keras.layers.Dropout(hp_dropout8))\n",
    "    \n",
    "    model.add(tf.keras.layers.Dense(1,kernel_regularizer = regularizers.l2(hp_regularizer3), \n",
    "                                    activation='sigmoid'))\n",
    "    \n",
    "    model.compile(loss='binary_crossentropy', \n",
    "                       optimizer=tf.keras.optimizers.experimental.Nadam(learning_rate=5e-5),\n",
    "                   metrics=[tfa.metrics.FBetaScore(name='f1_score',num_classes=1,\n",
    "                                                average='macro',threshold=0.5)])\n",
    "    return model"
   ]
  },
  {
   "cell_type": "markdown",
   "id": "239311ec",
   "metadata": {},
   "source": [
    "    Due to the limited GPU memory in my local environment, I'm unable to train models that require more than 3887 MiB, which is equivalent to 4075.81 MB of GPU memory. While not all layers of the network will be fully connected, the optimization method will necessitate the calculation of second-order momentum, which is more resource-intensive than simple SGD.\n",
    "\n",
    "    The previous model, despite consuming approximately 600 MB of GPU memory during training, incorporated a significant amount of dropout. Consequently, I plan to decrease the batch size. This adjustment will allow me to experiment with larger and more densely connected models. Additionally, I aim to estimate the maximum parameters to avoid training models that could overwhelm the kernel during training."
   ]
  },
  {
   "cell_type": "code",
   "execution_count": 60,
   "id": "747035d0",
   "metadata": {},
   "outputs": [
    {
     "name": "stdout",
     "output_type": "stream",
     "text": [
      "GPU memory bottleneck in terms of # of params for gradient calculation for fully connected models\n",
      "# of parameters, batch size 32: 995070\n",
      "# of parameters, batch size 64: 497535\n",
      "# of parameters, batch size 128: 248767\n"
     ]
    }
   ],
   "source": [
    "total_limit=4075.81*8000000\n",
    "max_param_Bsize_32=int(total_limit/(padded.nbytes*8/(padded.shape[0]/32)))\n",
    "max_param_Bsize_64=int(total_limit/(padded.nbytes*8/(padded.shape[0]/64)))\n",
    "max_param_Bsize_128=int(total_limit/(padded.nbytes*8/(padded.shape[0]/128)))\n",
    "print(\"GPU memory bottleneck in terms of # of params for gradient calculation for fully connected models\")\n",
    "print(f\"# of parameters, batch size 32: {max_param_Bsize_32}\")\n",
    "print(f\"# of parameters, batch size 64: {max_param_Bsize_64}\")\n",
    "print(f\"# of parameters, batch size 128: {max_param_Bsize_128}\")"
   ]
  },
  {
   "cell_type": "code",
   "execution_count": 61,
   "id": "71bad5ce",
   "metadata": {},
   "outputs": [
    {
     "name": "stdout",
     "output_type": "stream",
     "text": [
      "Reloading Tuner from my_dir/lr_do_to_kt/tuner0.json\n"
     ]
    }
   ],
   "source": [
    "tuner_lr_do = kt.BayesianOptimization(hypermodel=model_builder,\n",
    "                                        objective=kt.Objective('val_loss', direction='min'),\n",
    "                                        max_trials=100,\n",
    "                                        seed=seed0,      \n",
    "                                        overwrite=False,#True,\n",
    "                                        directory='my_dir',\n",
    "                                        max_model_size=3815000, # skipping oversized models\n",
    "                                        max_consecutive_failed_trials=1, #not repeating failed trials\n",
    "                                        project_name='lr_do_to_kt')"
   ]
  },
  {
   "cell_type": "code",
   "execution_count": 62,
   "id": "734203c5",
   "metadata": {
    "scrolled": true
   },
   "outputs": [
    {
     "name": "stdout",
     "output_type": "stream",
     "text": [
      "WARNING:tensorflow:Callback method `on_train_batch_end` is slow compared to the batch time (batch time: 0.0119s vs `on_train_batch_end` time: 0.0161s). Check your callbacks.\n"
     ]
    },
    {
     "name": "stderr",
     "output_type": "stream",
     "text": [
      "WARNING:tensorflow:Callback method `on_train_batch_end` is slow compared to the batch time (batch time: 0.0119s vs `on_train_batch_end` time: 0.0161s). Check your callbacks.\n"
     ]
    },
    {
     "name": "stdout",
     "output_type": "stream",
     "text": [
      "WARNING:tensorflow:Callback method `on_train_batch_end` is slow compared to the batch time (batch time: 0.0125s vs `on_train_batch_end` time: 0.0238s). Check your callbacks.\n"
     ]
    },
    {
     "name": "stderr",
     "output_type": "stream",
     "text": [
      "WARNING:tensorflow:Callback method `on_train_batch_end` is slow compared to the batch time (batch time: 0.0125s vs `on_train_batch_end` time: 0.0238s). Check your callbacks.\n"
     ]
    },
    {
     "name": "stdout",
     "output_type": "stream",
     "text": [
      "WARNING:tensorflow:Callback method `on_train_batch_end` is slow compared to the batch time (batch time: 0.0045s vs `on_train_batch_end` time: 0.0060s). Check your callbacks.\n"
     ]
    },
    {
     "name": "stderr",
     "output_type": "stream",
     "text": [
      "WARNING:tensorflow:Callback method `on_train_batch_end` is slow compared to the batch time (batch time: 0.0045s vs `on_train_batch_end` time: 0.0060s). Check your callbacks.\n"
     ]
    },
    {
     "name": "stdout",
     "output_type": "stream",
     "text": [
      "WARNING:tensorflow:Callback method `on_train_batch_end` is slow compared to the batch time (batch time: 0.0126s vs `on_train_batch_end` time: 0.0230s). Check your callbacks.\n"
     ]
    },
    {
     "name": "stderr",
     "output_type": "stream",
     "text": [
      "WARNING:tensorflow:Callback method `on_train_batch_end` is slow compared to the batch time (batch time: 0.0126s vs `on_train_batch_end` time: 0.0230s). Check your callbacks.\n"
     ]
    },
    {
     "name": "stdout",
     "output_type": "stream",
     "text": [
      "WARNING:tensorflow:Callback method `on_train_batch_end` is slow compared to the batch time (batch time: 0.0059s vs `on_train_batch_end` time: 0.0065s). Check your callbacks.\n"
     ]
    },
    {
     "name": "stderr",
     "output_type": "stream",
     "text": [
      "WARNING:tensorflow:Callback method `on_train_batch_end` is slow compared to the batch time (batch time: 0.0059s vs `on_train_batch_end` time: 0.0065s). Check your callbacks.\n"
     ]
    },
    {
     "name": "stdout",
     "output_type": "stream",
     "text": [
      "WARNING:tensorflow:Callback method `on_train_batch_end` is slow compared to the batch time (batch time: 0.0154s vs `on_train_batch_end` time: 0.0207s). Check your callbacks.\n"
     ]
    },
    {
     "name": "stderr",
     "output_type": "stream",
     "text": [
      "WARNING:tensorflow:Callback method `on_train_batch_end` is slow compared to the batch time (batch time: 0.0154s vs `on_train_batch_end` time: 0.0207s). Check your callbacks.\n"
     ]
    },
    {
     "name": "stdout",
     "output_type": "stream",
     "text": [
      "WARNING:tensorflow:Callback method `on_train_batch_end` is slow compared to the batch time (batch time: 0.0071s vs `on_train_batch_end` time: 0.0152s). Check your callbacks.\n"
     ]
    },
    {
     "name": "stderr",
     "output_type": "stream",
     "text": [
      "WARNING:tensorflow:Callback method `on_train_batch_end` is slow compared to the batch time (batch time: 0.0071s vs `on_train_batch_end` time: 0.0152s). Check your callbacks.\n"
     ]
    },
    {
     "name": "stdout",
     "output_type": "stream",
     "text": [
      "WARNING:tensorflow:Callback method `on_train_batch_end` is slow compared to the batch time (batch time: 0.0128s vs `on_train_batch_end` time: 0.0244s). Check your callbacks.\n"
     ]
    },
    {
     "name": "stderr",
     "output_type": "stream",
     "text": [
      "WARNING:tensorflow:Callback method `on_train_batch_end` is slow compared to the batch time (batch time: 0.0128s vs `on_train_batch_end` time: 0.0244s). Check your callbacks.\n"
     ]
    },
    {
     "name": "stdout",
     "output_type": "stream",
     "text": [
      "WARNING:tensorflow:Callback method `on_train_batch_end` is slow compared to the batch time (batch time: 0.0165s vs `on_train_batch_end` time: 0.0235s). Check your callbacks.\n"
     ]
    },
    {
     "name": "stderr",
     "output_type": "stream",
     "text": [
      "WARNING:tensorflow:Callback method `on_train_batch_end` is slow compared to the batch time (batch time: 0.0165s vs `on_train_batch_end` time: 0.0235s). Check your callbacks.\n"
     ]
    },
    {
     "name": "stdout",
     "output_type": "stream",
     "text": [
      "WARNING:tensorflow:Callback method `on_train_batch_end` is slow compared to the batch time (batch time: 0.0139s vs `on_train_batch_end` time: 0.0232s). Check your callbacks.\n"
     ]
    },
    {
     "name": "stderr",
     "output_type": "stream",
     "text": [
      "WARNING:tensorflow:Callback method `on_train_batch_end` is slow compared to the batch time (batch time: 0.0139s vs `on_train_batch_end` time: 0.0232s). Check your callbacks.\n"
     ]
    },
    {
     "name": "stdout",
     "output_type": "stream",
     "text": [
      "WARNING:tensorflow:Callback method `on_train_batch_end` is slow compared to the batch time (batch time: 0.0065s vs `on_train_batch_end` time: 0.0070s). Check your callbacks.\n"
     ]
    },
    {
     "name": "stderr",
     "output_type": "stream",
     "text": [
      "WARNING:tensorflow:Callback method `on_train_batch_end` is slow compared to the batch time (batch time: 0.0065s vs `on_train_batch_end` time: 0.0070s). Check your callbacks.\n"
     ]
    },
    {
     "name": "stdout",
     "output_type": "stream",
     "text": [
      "WARNING:tensorflow:Callback method `on_train_batch_end` is slow compared to the batch time (batch time: 0.0149s vs `on_train_batch_end` time: 0.0243s). Check your callbacks.\n"
     ]
    },
    {
     "name": "stderr",
     "output_type": "stream",
     "text": [
      "WARNING:tensorflow:Callback method `on_train_batch_end` is slow compared to the batch time (batch time: 0.0149s vs `on_train_batch_end` time: 0.0243s). Check your callbacks.\n"
     ]
    },
    {
     "name": "stdout",
     "output_type": "stream",
     "text": [
      "WARNING:tensorflow:Callback method `on_train_batch_end` is slow compared to the batch time (batch time: 0.0140s vs `on_train_batch_end` time: 0.0239s). Check your callbacks.\n"
     ]
    },
    {
     "name": "stderr",
     "output_type": "stream",
     "text": [
      "WARNING:tensorflow:Callback method `on_train_batch_end` is slow compared to the batch time (batch time: 0.0140s vs `on_train_batch_end` time: 0.0239s). Check your callbacks.\n"
     ]
    },
    {
     "name": "stdout",
     "output_type": "stream",
     "text": [
      "WARNING:tensorflow:Callback method `on_train_batch_end` is slow compared to the batch time (batch time: 0.0062s vs `on_train_batch_end` time: 0.0120s). Check your callbacks.\n"
     ]
    },
    {
     "name": "stderr",
     "output_type": "stream",
     "text": [
      "WARNING:tensorflow:Callback method `on_train_batch_end` is slow compared to the batch time (batch time: 0.0062s vs `on_train_batch_end` time: 0.0120s). Check your callbacks.\n"
     ]
    },
    {
     "name": "stdout",
     "output_type": "stream",
     "text": [
      "WARNING:tensorflow:Callback method `on_train_batch_end` is slow compared to the batch time (batch time: 0.0151s vs `on_train_batch_end` time: 0.0237s). Check your callbacks.\n"
     ]
    },
    {
     "name": "stderr",
     "output_type": "stream",
     "text": [
      "WARNING:tensorflow:Callback method `on_train_batch_end` is slow compared to the batch time (batch time: 0.0151s vs `on_train_batch_end` time: 0.0237s). Check your callbacks.\n"
     ]
    },
    {
     "name": "stdout",
     "output_type": "stream",
     "text": [
      "WARNING:tensorflow:Callback method `on_train_batch_end` is slow compared to the batch time (batch time: 0.0080s vs `on_train_batch_end` time: 0.0154s). Check your callbacks.\n"
     ]
    },
    {
     "name": "stderr",
     "output_type": "stream",
     "text": [
      "WARNING:tensorflow:Callback method `on_train_batch_end` is slow compared to the batch time (batch time: 0.0080s vs `on_train_batch_end` time: 0.0154s). Check your callbacks.\n"
     ]
    },
    {
     "name": "stdout",
     "output_type": "stream",
     "text": [
      "WARNING:tensorflow:Callback method `on_train_batch_end` is slow compared to the batch time (batch time: 0.0055s vs `on_train_batch_end` time: 0.0093s). Check your callbacks.\n"
     ]
    },
    {
     "name": "stderr",
     "output_type": "stream",
     "text": [
      "WARNING:tensorflow:Callback method `on_train_batch_end` is slow compared to the batch time (batch time: 0.0055s vs `on_train_batch_end` time: 0.0093s). Check your callbacks.\n"
     ]
    },
    {
     "name": "stdout",
     "output_type": "stream",
     "text": [
      "WARNING:tensorflow:Callback method `on_train_batch_end` is slow compared to the batch time (batch time: 0.0088s vs `on_train_batch_end` time: 0.0111s). Check your callbacks.\n"
     ]
    },
    {
     "name": "stderr",
     "output_type": "stream",
     "text": [
      "WARNING:tensorflow:Callback method `on_train_batch_end` is slow compared to the batch time (batch time: 0.0088s vs `on_train_batch_end` time: 0.0111s). Check your callbacks.\n"
     ]
    },
    {
     "name": "stdout",
     "output_type": "stream",
     "text": [
      "WARNING:tensorflow:Callback method `on_train_batch_end` is slow compared to the batch time (batch time: 0.0083s vs `on_train_batch_end` time: 0.0119s). Check your callbacks.\n"
     ]
    },
    {
     "name": "stderr",
     "output_type": "stream",
     "text": [
      "WARNING:tensorflow:Callback method `on_train_batch_end` is slow compared to the batch time (batch time: 0.0083s vs `on_train_batch_end` time: 0.0119s). Check your callbacks.\n"
     ]
    },
    {
     "name": "stdout",
     "output_type": "stream",
     "text": [
      "WARNING:tensorflow:Callback method `on_train_batch_end` is slow compared to the batch time (batch time: 0.0153s vs `on_train_batch_end` time: 0.0242s). Check your callbacks.\n"
     ]
    },
    {
     "name": "stderr",
     "output_type": "stream",
     "text": [
      "WARNING:tensorflow:Callback method `on_train_batch_end` is slow compared to the batch time (batch time: 0.0153s vs `on_train_batch_end` time: 0.0242s). Check your callbacks.\n"
     ]
    },
    {
     "name": "stdout",
     "output_type": "stream",
     "text": [
      "WARNING:tensorflow:Callback method `on_train_batch_end` is slow compared to the batch time (batch time: 0.0087s vs `on_train_batch_end` time: 0.0137s). Check your callbacks.\n"
     ]
    },
    {
     "name": "stderr",
     "output_type": "stream",
     "text": [
      "WARNING:tensorflow:Callback method `on_train_batch_end` is slow compared to the batch time (batch time: 0.0087s vs `on_train_batch_end` time: 0.0137s). Check your callbacks.\n"
     ]
    },
    {
     "name": "stdout",
     "output_type": "stream",
     "text": [
      "WARNING:tensorflow:Callback method `on_train_batch_end` is slow compared to the batch time (batch time: 0.0046s vs `on_train_batch_end` time: 0.0061s). Check your callbacks.\n"
     ]
    },
    {
     "name": "stderr",
     "output_type": "stream",
     "text": [
      "WARNING:tensorflow:Callback method `on_train_batch_end` is slow compared to the batch time (batch time: 0.0046s vs `on_train_batch_end` time: 0.0061s). Check your callbacks.\n"
     ]
    },
    {
     "name": "stdout",
     "output_type": "stream",
     "text": [
      "WARNING:tensorflow:Callback method `on_train_batch_end` is slow compared to the batch time (batch time: 0.0168s vs `on_train_batch_end` time: 0.0247s). Check your callbacks.\n"
     ]
    },
    {
     "name": "stderr",
     "output_type": "stream",
     "text": [
      "WARNING:tensorflow:Callback method `on_train_batch_end` is slow compared to the batch time (batch time: 0.0168s vs `on_train_batch_end` time: 0.0247s). Check your callbacks.\n"
     ]
    },
    {
     "name": "stdout",
     "output_type": "stream",
     "text": [
      "WARNING:tensorflow:Callback method `on_train_batch_end` is slow compared to the batch time (batch time: 0.0171s vs `on_train_batch_end` time: 0.0239s). Check your callbacks.\n"
     ]
    },
    {
     "name": "stderr",
     "output_type": "stream",
     "text": [
      "WARNING:tensorflow:Callback method `on_train_batch_end` is slow compared to the batch time (batch time: 0.0171s vs `on_train_batch_end` time: 0.0239s). Check your callbacks.\n"
     ]
    },
    {
     "name": "stdout",
     "output_type": "stream",
     "text": [
      "WARNING:tensorflow:Callback method `on_train_batch_end` is slow compared to the batch time (batch time: 0.0053s vs `on_train_batch_end` time: 0.0073s). Check your callbacks.\n"
     ]
    },
    {
     "name": "stderr",
     "output_type": "stream",
     "text": [
      "WARNING:tensorflow:Callback method `on_train_batch_end` is slow compared to the batch time (batch time: 0.0053s vs `on_train_batch_end` time: 0.0073s). Check your callbacks.\n"
     ]
    },
    {
     "name": "stdout",
     "output_type": "stream",
     "text": [
      "WARNING:tensorflow:Callback method `on_train_batch_end` is slow compared to the batch time (batch time: 0.0130s vs `on_train_batch_end` time: 0.0227s). Check your callbacks.\n"
     ]
    },
    {
     "name": "stderr",
     "output_type": "stream",
     "text": [
      "WARNING:tensorflow:Callback method `on_train_batch_end` is slow compared to the batch time (batch time: 0.0130s vs `on_train_batch_end` time: 0.0227s). Check your callbacks.\n"
     ]
    },
    {
     "name": "stdout",
     "output_type": "stream",
     "text": [
      "WARNING:tensorflow:Callback method `on_train_batch_end` is slow compared to the batch time (batch time: 0.0124s vs `on_train_batch_end` time: 0.0146s). Check your callbacks.\n"
     ]
    },
    {
     "name": "stderr",
     "output_type": "stream",
     "text": [
      "WARNING:tensorflow:Callback method `on_train_batch_end` is slow compared to the batch time (batch time: 0.0124s vs `on_train_batch_end` time: 0.0146s). Check your callbacks.\n"
     ]
    },
    {
     "name": "stdout",
     "output_type": "stream",
     "text": [
      "WARNING:tensorflow:Callback method `on_train_batch_end` is slow compared to the batch time (batch time: 0.0140s vs `on_train_batch_end` time: 0.0256s). Check your callbacks.\n"
     ]
    },
    {
     "name": "stderr",
     "output_type": "stream",
     "text": [
      "WARNING:tensorflow:Callback method `on_train_batch_end` is slow compared to the batch time (batch time: 0.0140s vs `on_train_batch_end` time: 0.0256s). Check your callbacks.\n"
     ]
    },
    {
     "name": "stdout",
     "output_type": "stream",
     "text": [
      "WARNING:tensorflow:Callback method `on_train_batch_end` is slow compared to the batch time (batch time: 0.0133s vs `on_train_batch_end` time: 0.0247s). Check your callbacks.\n"
     ]
    },
    {
     "name": "stderr",
     "output_type": "stream",
     "text": [
      "WARNING:tensorflow:Callback method `on_train_batch_end` is slow compared to the batch time (batch time: 0.0133s vs `on_train_batch_end` time: 0.0247s). Check your callbacks.\n"
     ]
    }
   ],
   "source": [
    "NUM_EPOCHS = 100\n",
    "BATCH_SIZE = 64 #decreased to be able to fit larger models in to gpu memory \n",
    "tuner_lr_do.search(padded, y_train, batch_size=BATCH_SIZE, epochs=NUM_EPOCHS, \n",
    "                              callbacks=[callbacks,tensorboard_callback,ClearMemory()],verbose=0,\n",
    "                              validation_data=(testing_padded, y_test))"
   ]
  },
  {
   "cell_type": "code",
   "execution_count": 63,
   "id": "5b17a83a",
   "metadata": {},
   "outputs": [
    {
     "name": "stdout",
     "output_type": "stream",
     "text": [
      "\n",
      "The hyperparameter search is complete.\n",
      " The optimal drop-out1 is 0.0\n",
      "\n",
      " The optimal units1 is 50 \n",
      "\n",
      " The optimal drop-out2 is 0.35000000000000003 \n",
      "\n",
      " The optimal drop-out3 is 0.45 \n",
      "\n",
      " The optimal units2 is 200 \n",
      "\n",
      " The optimal drop-out4 is 0.45 \n",
      "\n",
      " The optimal drop-out5 is 0.0 \n",
      "\n",
      " The optimal units3 is 50 \n",
      "\n",
      " The optimal drop-out6 is 0.45 \n",
      "\n",
      " The optimal units4 is 0 \n",
      "\n",
      " The optimal drop-out7 is 0.45 \n",
      "\n",
      " The optimal units5 is 0 \n",
      "\n",
      " The optimal drop-out8 is 0.0 \n",
      "\n",
      " The optimal reg1 is 1e-06 \n",
      "\n",
      " The optimal reg2 is 1e-06\n",
      "\n",
      " The optimal reg3 is 1e-06\n",
      "\n"
     ]
    }
   ],
   "source": [
    "best_hps=tuner_lr_do.get_best_hyperparameters(num_trials=1)[0]\n",
    "\n",
    "print(f\"\"\"\n",
    "The hyperparameter search is complete.\\n The optimal drop-out1 is {best_hps.get('drop_out1')}\n",
    "\\n The optimal units1 is {best_hps.get('units1')} \n",
    "\\n The optimal drop-out2 is {best_hps.get('drop_out2')} \n",
    "\\n The optimal drop-out3 is {best_hps.get('drop_out3')} \n",
    "\\n The optimal units2 is {best_hps.get('units2')} \n",
    "\\n The optimal drop-out4 is {best_hps.get('drop_out4')} \n",
    "\\n The optimal drop-out5 is {best_hps.get('drop_out5')} \n",
    "\\n The optimal units3 is {best_hps.get('units3')} \n",
    "\\n The optimal drop-out6 is {best_hps.get('drop_out6')} \n",
    "\\n The optimal units4 is {best_hps.get('units4')} \n",
    "\\n The optimal drop-out7 is {best_hps.get('drop_out7')} \n",
    "\\n The optimal units5 is {best_hps.get('units5')} \n",
    "\\n The optimal drop-out8 is {best_hps.get('drop_out8')} \n",
    "\\n The optimal reg1 is {best_hps.get('reg1')} \n",
    "\\n The optimal reg2 is {best_hps.get('reg2')}\n",
    "\\n The optimal reg3 is {best_hps.get('reg3')}\n",
    "\"\"\")"
   ]
  },
  {
   "cell_type": "code",
   "execution_count": 64,
   "id": "839684cf",
   "metadata": {},
   "outputs": [],
   "source": [
    "tf.keras.backend.clear_session()"
   ]
  },
  {
   "cell_type": "code",
   "execution_count": 65,
   "id": "2fb353da",
   "metadata": {},
   "outputs": [
    {
     "name": "stdout",
     "output_type": "stream",
     "text": [
      "Model: \"sequential\"\n",
      "_________________________________________________________________\n",
      " Layer (type)                Output Shape              Param #   \n",
      "=================================================================\n",
      " embedding (Embedding)       (None, 32, 200)           2436000   \n",
      "                                                                 \n",
      " spatial_dropout1d (Spatial  (None, 32, 200)           0         \n",
      " Dropout1D)                                                      \n",
      "                                                                 \n",
      " bidirectional (Bidirection  (None, 32, 100)           100400    \n",
      " al)                                                             \n",
      "                                                                 \n",
      " dropout (Dropout)           (None, 32, 100)           0         \n",
      "                                                                 \n",
      " bidirectional_1 (Bidirecti  (None, 32, 400)           481600    \n",
      " onal)                                                           \n",
      "                                                                 \n",
      " dropout_1 (Dropout)         (None, 32, 400)           0         \n",
      "                                                                 \n",
      " conv1d (Conv1D)             (None, 28, 50)            100050    \n",
      "                                                                 \n",
      " global_max_pooling1d (Glob  (None, 50)                0         \n",
      " alMaxPooling1D)                                                 \n",
      "                                                                 \n",
      " dropout_2 (Dropout)         (None, 50)                0         \n",
      "                                                                 \n",
      " dense (Dense)               (None, 1)                 51        \n",
      "                                                                 \n",
      "=================================================================\n",
      "Total params: 3118101 (11.89 MB)\n",
      "Trainable params: 682101 (2.60 MB)\n",
      "Non-trainable params: 2436000 (9.29 MB)\n",
      "_________________________________________________________________\n"
     ]
    }
   ],
   "source": [
    "tunned_model_lstm=tuner_lr_do.hypermodel.build(best_hps)\n",
    "tunned_model_lstm.summary()"
   ]
  },
  {
   "cell_type": "code",
   "execution_count": 66,
   "id": "010cb696",
   "metadata": {
    "scrolled": true
   },
   "outputs": [
    {
     "name": "stdout",
     "output_type": "stream",
     "text": [
      "Epoch 1/100\n",
      "84/84 [==============================] - 8s 35ms/step - loss: 0.6530 - f1_score: 0.3310 - val_loss: 0.6137 - val_f1_score: 0.6387 - lr: 5.0000e-05\n",
      "Epoch 2/100\n",
      "84/84 [==============================] - 2s 22ms/step - loss: 0.5744 - f1_score: 0.6521 - val_loss: 0.5188 - val_f1_score: 0.7236 - lr: 5.0000e-05\n",
      "Epoch 3/100\n",
      "84/84 [==============================] - 2s 22ms/step - loss: 0.5198 - f1_score: 0.7068 - val_loss: 0.4842 - val_f1_score: 0.7359 - lr: 5.0000e-05\n",
      "Epoch 4/100\n",
      "84/84 [==============================] - 2s 22ms/step - loss: 0.4983 - f1_score: 0.7145 - val_loss: 0.4689 - val_f1_score: 0.7438 - lr: 5.0000e-05\n",
      "Epoch 5/100\n",
      "84/84 [==============================] - 2s 22ms/step - loss: 0.4779 - f1_score: 0.7349 - val_loss: 0.4612 - val_f1_score: 0.7494 - lr: 5.0000e-05\n",
      "Epoch 6/100\n",
      "84/84 [==============================] - 2s 21ms/step - loss: 0.4731 - f1_score: 0.7362 - val_loss: 0.4612 - val_f1_score: 0.7612 - lr: 5.0000e-05\n",
      "Epoch 7/100\n",
      "84/84 [==============================] - 2s 22ms/step - loss: 0.4722 - f1_score: 0.7321 - val_loss: 0.4475 - val_f1_score: 0.7586 - lr: 5.0000e-05\n",
      "Epoch 8/100\n",
      "84/84 [==============================] - 2s 21ms/step - loss: 0.4679 - f1_score: 0.7373 - val_loss: 0.4446 - val_f1_score: 0.7563 - lr: 5.0000e-05\n",
      "Epoch 9/100\n",
      "84/84 [==============================] - 2s 23ms/step - loss: 0.4563 - f1_score: 0.7387 - val_loss: 0.4414 - val_f1_score: 0.7580 - lr: 5.0000e-05\n",
      "Epoch 10/100\n",
      "84/84 [==============================] - 2s 24ms/step - loss: 0.4512 - f1_score: 0.7369 - val_loss: 0.4504 - val_f1_score: 0.7632 - lr: 5.0000e-05\n",
      "Epoch 11/100\n",
      "84/84 [==============================] - 2s 23ms/step - loss: 0.4517 - f1_score: 0.7429 - val_loss: 0.4389 - val_f1_score: 0.7635 - lr: 5.0000e-05\n",
      "Epoch 12/100\n",
      "84/84 [==============================] - 2s 22ms/step - loss: 0.4454 - f1_score: 0.7493 - val_loss: 0.4356 - val_f1_score: 0.7665 - lr: 5.0000e-05\n",
      "Epoch 13/100\n",
      "84/84 [==============================] - 2s 22ms/step - loss: 0.4416 - f1_score: 0.7471 - val_loss: 0.4346 - val_f1_score: 0.7619 - lr: 5.0000e-05\n",
      "Epoch 14/100\n",
      "84/84 [==============================] - 2s 23ms/step - loss: 0.4440 - f1_score: 0.7524 - val_loss: 0.4323 - val_f1_score: 0.7652 - lr: 5.0000e-05\n",
      "Epoch 15/100\n",
      "84/84 [==============================] - 2s 22ms/step - loss: 0.4398 - f1_score: 0.7558 - val_loss: 0.4298 - val_f1_score: 0.7571 - lr: 5.0000e-05\n",
      "Epoch 16/100\n",
      "84/84 [==============================] - 2s 22ms/step - loss: 0.4388 - f1_score: 0.7535 - val_loss: 0.4293 - val_f1_score: 0.7662 - lr: 5.0000e-05\n",
      "Epoch 17/100\n",
      "84/84 [==============================] - 2s 23ms/step - loss: 0.4343 - f1_score: 0.7583 - val_loss: 0.4286 - val_f1_score: 0.7576 - lr: 5.0000e-05\n",
      "Epoch 18/100\n",
      "84/84 [==============================] - 2s 22ms/step - loss: 0.4341 - f1_score: 0.7572 - val_loss: 0.4265 - val_f1_score: 0.7620 - lr: 5.0000e-05\n",
      "Epoch 19/100\n",
      "84/84 [==============================] - 2s 22ms/step - loss: 0.4291 - f1_score: 0.7605 - val_loss: 0.4251 - val_f1_score: 0.7605 - lr: 5.0000e-05\n",
      "Epoch 20/100\n",
      "84/84 [==============================] - 2s 22ms/step - loss: 0.4290 - f1_score: 0.7587 - val_loss: 0.4247 - val_f1_score: 0.7621 - lr: 5.0000e-05\n",
      "Epoch 21/100\n",
      "84/84 [==============================] - 2s 21ms/step - loss: 0.4272 - f1_score: 0.7625 - val_loss: 0.4256 - val_f1_score: 0.7605 - lr: 5.0000e-05\n",
      "Epoch 22/100\n",
      "84/84 [==============================] - 2s 22ms/step - loss: 0.4265 - f1_score: 0.7651 - val_loss: 0.4252 - val_f1_score: 0.7627 - lr: 5.0000e-05\n",
      "Epoch 23/100\n",
      "84/84 [==============================] - 2s 22ms/step - loss: 0.4225 - f1_score: 0.7625 - val_loss: 0.4227 - val_f1_score: 0.7564 - lr: 5.0000e-05\n",
      "Epoch 24/100\n",
      "84/84 [==============================] - 2s 23ms/step - loss: 0.4272 - f1_score: 0.7633 - val_loss: 0.4307 - val_f1_score: 0.7630 - lr: 5.0000e-05\n",
      "Epoch 25/100\n",
      "84/84 [==============================] - 2s 22ms/step - loss: 0.4256 - f1_score: 0.7632 - val_loss: 0.4215 - val_f1_score: 0.7575 - lr: 5.0000e-05\n",
      "Epoch 26/100\n",
      "84/84 [==============================] - 2s 21ms/step - loss: 0.4287 - f1_score: 0.7602 - val_loss: 0.4296 - val_f1_score: 0.7619 - lr: 5.0000e-05\n",
      "Epoch 27/100\n",
      "84/84 [==============================] - 2s 20ms/step - loss: 0.4241 - f1_score: 0.7649 - val_loss: 0.4222 - val_f1_score: 0.7593 - lr: 5.0000e-05\n",
      "Epoch 28/100\n",
      "84/84 [==============================] - 2s 23ms/step - loss: 0.4164 - f1_score: 0.7643 - val_loss: 0.4214 - val_f1_score: 0.7554 - lr: 5.0000e-05\n",
      "Epoch 29/100\n",
      "84/84 [==============================] - 2s 24ms/step - loss: 0.4148 - f1_score: 0.7686 - val_loss: 0.4212 - val_f1_score: 0.7616 - lr: 5.0000e-05\n",
      "Epoch 30/100\n",
      "84/84 [==============================] - 2s 22ms/step - loss: 0.4173 - f1_score: 0.7653 - val_loss: 0.4189 - val_f1_score: 0.7614 - lr: 5.0000e-05\n",
      "Epoch 31/100\n",
      "84/84 [==============================] - 2s 22ms/step - loss: 0.4170 - f1_score: 0.7627 - val_loss: 0.4177 - val_f1_score: 0.7557 - lr: 5.0000e-05\n",
      "Epoch 32/100\n",
      "84/84 [==============================] - 2s 23ms/step - loss: 0.4125 - f1_score: 0.7636 - val_loss: 0.4188 - val_f1_score: 0.7607 - lr: 5.0000e-05\n",
      "Epoch 33/100\n",
      "84/84 [==============================] - 2s 21ms/step - loss: 0.4183 - f1_score: 0.7682 - val_loss: 0.4201 - val_f1_score: 0.7616 - lr: 5.0000e-05\n",
      "Epoch 34/100\n",
      "84/84 [==============================] - 2s 19ms/step - loss: 0.4102 - f1_score: 0.7701 - val_loss: 0.4205 - val_f1_score: 0.7633 - lr: 5.0000e-05\n",
      "Epoch 35/100\n",
      "84/84 [==============================] - 2s 23ms/step - loss: 0.4156 - f1_score: 0.7691 - val_loss: 0.4218 - val_f1_score: 0.7616 - lr: 5.0000e-05\n",
      "Epoch 36/100\n",
      "84/84 [==============================] - 2s 23ms/step - loss: 0.4134 - f1_score: 0.7671 - val_loss: 0.4185 - val_f1_score: 0.7592 - lr: 5.0000e-05\n",
      "Epoch 37/100\n",
      "84/84 [==============================] - 2s 24ms/step - loss: 0.4119 - f1_score: 0.7679 - val_loss: 0.4196 - val_f1_score: 0.7616 - lr: 1.0000e-05\n",
      "Epoch 38/100\n",
      "84/84 [==============================] - 2s 23ms/step - loss: 0.4106 - f1_score: 0.7733 - val_loss: 0.4189 - val_f1_score: 0.7590 - lr: 1.0000e-05\n",
      "Epoch 39/100\n",
      "84/84 [==============================] - 2s 22ms/step - loss: 0.4100 - f1_score: 0.7745 - val_loss: 0.4195 - val_f1_score: 0.7629 - lr: 1.0000e-05\n",
      "Epoch 40/100\n",
      "84/84 [==============================] - 2s 23ms/step - loss: 0.4057 - f1_score: 0.7718 - val_loss: 0.4185 - val_f1_score: 0.7607 - lr: 1.0000e-05\n",
      "Epoch 41/100\n",
      "84/84 [==============================] - 2s 22ms/step - loss: 0.4038 - f1_score: 0.7760 - val_loss: 0.4191 - val_f1_score: 0.7613 - lr: 1.0000e-05\n"
     ]
    }
   ],
   "source": [
    "final_model=tunned_model_lstm.fit(padded, y_train, batch_size=BATCH_SIZE, epochs=NUM_EPOCHS, \n",
    "                              callbacks=[callbacks],\n",
    "                              validation_data=(testing_padded, y_test))"
   ]
  },
  {
   "cell_type": "markdown",
   "id": "402422df",
   "metadata": {},
   "source": [
    "### Assessing Model Performance"
   ]
  },
  {
   "cell_type": "code",
   "execution_count": 67,
   "id": "4d38a672",
   "metadata": {},
   "outputs": [
    {
     "data": {
      "image/png": "[encoded data removed]",
      "text/plain": [
       "<Figure size 640x480 with 1 Axes>"
      ]
     },
     "metadata": {},
     "output_type": "display_data"
    },
    {
     "data": {
      "image/png": "[encoded data removed]",
      "text/plain": [
       "<Figure size 640x480 with 1 Axes>"
      ]
     },
     "metadata": {},
     "output_type": "display_data"
    }
   ],
   "source": [
    "# Plotting the accuracy and loss history\n",
    "plot_graphs(final_model, 'f1_score')\n",
    "plot_graphs(final_model, 'loss')"
   ]
  },
  {
   "cell_type": "code",
   "execution_count": 68,
   "id": "ec132979",
   "metadata": {},
   "outputs": [
    {
     "name": "stdout",
     "output_type": "stream",
     "text": [
      "72/72 [==============================] - 1s 7ms/step\n",
      "****** Test Data ********\n",
      "F1: 0.7557455905932655\n",
      "              precision    recall  f1-score   support\n",
      "\n",
      "           0       0.79      0.88      0.83      1275\n",
      "           1       0.82      0.70      0.76      1009\n",
      "\n",
      "    accuracy                           0.80      2284\n",
      "   macro avg       0.80      0.79      0.79      2284\n",
      "weighted avg       0.80      0.80      0.80      2284\n",
      "\n",
      "Confusion Matrix\n"
     ]
    },
    {
     "data": {
      "text/plain": [
       "<sklearn.metrics._plot.confusion_matrix.ConfusionMatrixDisplay at 0x7f215cc907f0>"
      ]
     },
     "execution_count": 68,
     "metadata": {},
     "output_type": "execute_result"
    },
    {
     "data": {
      "image/png": "[encoded data removed]",
      "text/plain": [
       "<Figure size 640x480 with 2 Axes>"
      ]
     },
     "metadata": {},
     "output_type": "display_data"
    }
   ],
   "source": [
    "y_pred_valid = tf.math.round(tunned_model_lstm.predict(testing_padded)).numpy().astype(int) \n",
    "print(\"****** Test Data ********\")\n",
    "print(f\"F1: {metrics.f1_score(y_test, y_pred_valid)}\")\n",
    "# Printing performance details\n",
    "print(metrics.classification_report(y_test, y_pred_valid))\n",
    "\n",
    "# Printing confusion matrix\n",
    "print(\"Confusion Matrix\")\n",
    "ConfusionMatrixDisplay.from_predictions(\n",
    "        y_test,\n",
    "        y_pred_valid,\n",
    "        display_labels=[\"Not Disaster\",\"Disaster\"],\n",
    "        cmap=plt.cm.Blues\n",
    "    )"
   ]
  },
  {
   "cell_type": "code",
   "execution_count": 69,
   "id": "03a6535b",
   "metadata": {},
   "outputs": [
    {
     "data": {
      "image/png": "[encoded data removed]",
      "text/plain": [
       "<Figure size 1000x500 with 2 Axes>"
      ]
     },
     "metadata": {},
     "output_type": "display_data"
    }
   ],
   "source": [
    "fig, (ax1, ax2) = plt.subplots(1, 2, figsize=(10, 5))\n",
    "\n",
    "roc_display = RocCurveDisplay.from_predictions(y_test, y_pred_valid,ax=ax1)\n",
    "pr_display = PrecisionRecallDisplay.from_predictions(y_test, y_pred_valid,ax=ax2)\n",
    "roc_display.ax_.set_title(\"ROC curve\")\n",
    "pr_display.ax_.set_title(\"Precision-Recall curve\")\n",
    "\n",
    "plt.show()\n",
    "plt.close()"
   ]
  },
  {
   "cell_type": "markdown",
   "id": "1bb41e36",
   "metadata": {},
   "source": [
    "### Exploring Misclassifications: A Glimpse into Incorrect Classifications"
   ]
  },
  {
   "cell_type": "code",
   "execution_count": 70,
   "id": "d47f6184",
   "metadata": {},
   "outputs": [
    {
     "name": "stdout",
     "output_type": "stream",
     "text": [
      "******************************************************************\n",
      "predicted: 0 , actual: 1\n",
      "photo blue by user source\n",
      "******************************************************************\n",
      "predicted: 0 , actual: 1\n",
      "user smile well i think that sounds like a fine plan where little derailment is possible so i applaud you smile\n",
      "******************************************************************\n",
      "predicted: 0 , actual: 1\n",
      "there was a small earthquake in la but dont worry emily rossum is fine difficultpeople is great\n",
      "******************************************************************\n",
      "predicted: 1 , actual: 0\n",
      "coastal german shepherd rescue oc shared a link ecstatic rescued racco animalrescue\n",
      "******************************************************************\n",
      "predicted: 1 , actual: 0\n",
      "panic attacks are the worst\n",
      "******************************************************************\n",
      "predicted: 1 , actual: 0\n",
      "nikoniko breaking news unconfirmed i just heard a loud bang nearby in what appears to be a blast of wind from my neighbours ass\n",
      "******************************************************************\n",
      "predicted: 0 , actual: 1\n",
      "grace this is not your first storm you know bicycles fences trees will fly as well as idiots drowning that go by swollen rivers\n",
      "******************************************************************\n",
      "predicted: 0 , actual: 1\n",
      "africanbaze breaking newsnigeria flag set ablaze in aba\n",
      "******************************************************************\n",
      "predicted: 1 , actual: 0\n",
      "user make natural disaster reporting more interesting by adding the to headlines such as rescuers are sifting through the wreckage\n",
      "******************************************************************\n",
      "predicted: 0 , actual: 1\n",
      "house energy ampamp commerce subcommittee to hold hearing of cdc oversight of bioterror labs army anthrax mishaps httû\n"
     ]
    }
   ],
   "source": [
    "#checking misclasifications\n",
    "maxtoshow=10\n",
    "flattened_preds=y_pred_valid.flatten()\n",
    "np_y_test=y_test.to_numpy()\n",
    "np_X_test=X_test.to_numpy()\n",
    "errors = flattened_preds != np_y_test\n",
    "counter=0\n",
    "for i in range(X_test.shape[0]):\n",
    "    if counter>=maxtoshow:\n",
    "        break   \n",
    "    if errors[i]:\n",
    "        print(\"*\"*66)\n",
    "        print(f\"predicted: {flattened_preds[i]} , actual: {np_y_test[i]}\")\n",
    "        print(np_X_test[i])\n",
    "        counter+=1"
   ]
  },
  {
   "cell_type": "markdown",
   "id": "f157174b",
   "metadata": {},
   "source": [
    "### Predicting Test Set Outcomes"
   ]
  },
  {
   "cell_type": "code",
   "execution_count": 71,
   "id": "b7eecd04",
   "metadata": {},
   "outputs": [
    {
     "name": "stdout",
     "output_type": "stream",
     "text": [
      "102/102 [==============================] - 1s 6ms/step\n",
      "Your submission was successfully saved!\n"
     ]
    }
   ],
   "source": [
    "# storing predictions in to a dataframe and writing to a csv file\n",
    "final_out=pd.DataFrame(columns=['id', 'target'])\n",
    "final_out['id']=df_test['id']\n",
    "final_out['target'] = tf.math.round(tunned_model_lstm.predict(df_test_padded)).numpy().astype(int) \n",
    "final_out.to_csv('submission.csv', index=False)\n",
    "print(\"Your submission was successfully saved!\")"
   ]
  }
 ],
 "metadata": {
  "kernelspec": {
   "display_name": "advancedml",
   "language": "python",
   "name": "advancedml"
  },
  "language_info": {
   "codemirror_mode": {
    "name": "ipython",
    "version": 3
   },
   "file_extension": ".py",
   "mimetype": "text/x-python",
   "name": "python",
   "nbconvert_exporter": "python",
   "pygments_lexer": "ipython3",
   "version": "3.9.18"
  }
 },
 "nbformat": 4,
 "nbformat_minor": 5
}
