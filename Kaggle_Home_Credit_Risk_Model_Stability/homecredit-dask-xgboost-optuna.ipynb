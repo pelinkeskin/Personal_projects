{
 "cells": [
  {
   "cell_type": "markdown",
   "id": "be1e5cc5",
   "metadata": {
    "papermill": {
     "duration": 0.035979,
     "end_time": "2024-05-31T07:05:01.630711",
     "exception": false,
     "start_time": "2024-05-31T07:05:01.594732",
     "status": "completed"
    },
    "tags": []
   },
   "source": [
    "<h1><center>HomeCredit Credit Risk Model Stability: <br>\n",
    "Preprocessing, and Training with Dask, Pandas, Scikit-Learn and XGBoost, Tuned with Optuna</center></h1>"
   ]
  },
  {
   "cell_type": "markdown",
   "id": "11a3756b",
   "metadata": {
    "papermill": {
     "duration": 0.034751,
     "end_time": "2024-05-31T07:05:01.702566",
     "exception": false,
     "start_time": "2024-05-31T07:05:01.667815",
     "status": "completed"
    },
    "tags": []
   },
   "source": [
    "    This notebook is my submission to the HomeCredit Credit Risk Model Stability competition. While I initially aimed to use all available data, concerns about metrics and potential exploits led me to limit my effort. \n",
    "    \n",
    "    The notebook includes a robust pipeline that can process and utilize whole data without memory constraints, but currently only uses data from depths 0 and 1. To include depth 2, an additional aggregation and merge step is required, which I have not implemented. The splits are limited to train-test-validation, though cross-validation can be easily added with a simple modification. Another pending task is replacing the Pandas aggregate method with Dask's aggregate method to improve inference efficiency. I attempted to serialize the entire processing pipeline into a single pickle file for use in the Kaggle environment, but pickle load failed in Kaggle envorinment, and I didn't have time to investigate. To speed up the pipeline on Kaggle, I serialized and inferred some fitted objects from pickle files. Commenting on deserialization and uncommenting pipeline connections will make the pipeline fully functional and capable of preprocessing the underlying data from scratch without needing serialized objects. \n",
    "    \n",
    "    Despite these limitations, I spent time working on this dataset and gained valuable experience working with partitioned Dask dataframes, Dask-ML, learning to build scalable pipelines."
   ]
  },
  {
   "cell_type": "markdown",
   "id": "74dcc1ac",
   "metadata": {
    "papermill": {
     "duration": 0.034502,
     "end_time": "2024-05-31T07:05:01.772149",
     "exception": false,
     "start_time": "2024-05-31T07:05:01.737647",
     "status": "completed"
    },
    "tags": []
   },
   "source": [
    "# Envorinment Setup and Imports"
   ]
  },
  {
   "cell_type": "code",
   "execution_count": 1,
   "id": "82943db1",
   "metadata": {
    "_kg_hide-input": true,
    "_kg_hide-output": true,
    "execution": {
     "iopub.execute_input": "2024-05-31T07:05:01.844656Z",
     "iopub.status.busy": "2024-05-31T07:05:01.844244Z",
     "iopub.status.idle": "2024-05-31T07:05:01.920077Z",
     "shell.execute_reply": "2024-05-31T07:05:01.919118Z"
    },
    "metadata": {},
    "papermill": {
     "duration": 0.115123,
     "end_time": "2024-05-31T07:05:01.922759",
     "exception": false,
     "start_time": "2024-05-31T07:05:01.807636",
     "status": "completed"
    },
    "tags": []
   },
   "outputs": [],
   "source": [
    "import os\n",
    "import pickle\n",
    "import joblib"
   ]
  },
  {
   "cell_type": "code",
   "execution_count": 2,
   "id": "1ba05663",
   "metadata": {
    "_kg_hide-input": true,
    "_kg_hide-output": true,
    "execution": {
     "iopub.execute_input": "2024-05-31T07:05:01.994213Z",
     "iopub.status.busy": "2024-05-31T07:05:01.993761Z",
     "iopub.status.idle": "2024-05-31T07:05:02.001045Z",
     "shell.execute_reply": "2024-05-31T07:05:01.999971Z"
    },
    "metadata": {},
    "papermill": {
     "duration": 0.045919,
     "end_time": "2024-05-31T07:05:02.003494",
     "exception": false,
     "start_time": "2024-05-31T07:05:01.957575",
     "status": "completed"
    },
    "tags": []
   },
   "outputs": [],
   "source": [
    "from dataclasses import dataclass\n",
    "@dataclass\n",
    "class G:\n",
    "    ENV=\"kaggle\"\n",
    "    if ENV==\"kaggle\":\n",
    "        #datadir kaggle\n",
    "        data_dir=\"/kaggle/input/home-credit-credit-risk-model-stability/\"\n",
    "    elif ENV== \"colab\":\n",
    "        data_dir='/content/drive/My Drive/Colab Notebooks/HomeCreditCreditRiskModelStability/'\n",
    "    else:\n",
    "        #datadir local\n",
    "        data_dir=\"/home/pelin/Documents/Documents/GitHub/kaggle/HomeCreditCreditRiskModelStability/\"\n",
    "    working_dir=os.getcwd()"
   ]
  },
  {
   "cell_type": "code",
   "execution_count": 3,
   "id": "f4ca7e23",
   "metadata": {
    "_kg_hide-input": false,
    "_kg_hide-output": true,
    "execution": {
     "iopub.execute_input": "2024-05-31T07:05:02.075910Z",
     "iopub.status.busy": "2024-05-31T07:05:02.075507Z",
     "iopub.status.idle": "2024-05-31T07:07:53.003737Z",
     "shell.execute_reply": "2024-05-31T07:07:53.001995Z"
    },
    "metadata": {},
    "papermill": {
     "duration": 170.968,
     "end_time": "2024-05-31T07:07:53.007130",
     "exception": false,
     "start_time": "2024-05-31T07:05:02.039130",
     "status": "completed"
    },
    "tags": []
   },
   "outputs": [
    {
     "name": "stdout",
     "output_type": "stream",
     "text": [
      "Processing /kaggle/input/daskml/zict-3.0.0-py2.py3-none-any.whl\r\n",
      "\u001b[33mWARNING: Error parsing requirements for aiohttp: [Errno 2] No such file or directory: '/opt/conda/lib/python3.10/site-packages/aiohttp-3.9.1.dist-info/METADATA'\u001b[0m\u001b[33m\r\n",
      "\u001b[0mInstalling collected packages: zict\r\n",
      "Successfully installed zict-3.0.0\r\n",
      "Processing /kaggle/input/daskml/tblib-3.0.0-py3-none-any.whl\r\n",
      "\u001b[33mWARNING: Error parsing requirements for aiohttp: [Errno 2] No such file or directory: '/opt/conda/lib/python3.10/site-packages/aiohttp-3.9.1.dist-info/METADATA'\u001b[0m\u001b[33m\r\n",
      "\u001b[0mInstalling collected packages: tblib\r\n",
      "Successfully installed tblib-3.0.0\r\n",
      "Processing /kaggle/input/daskml/sortedcontainers-2.4.0-py2.py3-none-any.whl\r\n",
      "\u001b[33mWARNING: Error parsing requirements for aiohttp: [Errno 2] No such file or directory: '/opt/conda/lib/python3.10/site-packages/aiohttp-3.9.1.dist-info/METADATA'\u001b[0m\u001b[33m\r\n",
      "\u001b[0mInstalling collected packages: sortedcontainers\r\n",
      "Successfully installed sortedcontainers-2.4.0\r\n",
      "Found existing installation: dask-expr 1.1.1\r\n",
      "Uninstalling dask-expr-1.1.1:\r\n",
      "  Successfully uninstalled dask-expr-1.1.1\r\n",
      "Processing /kaggle/input/daskml/dask-2024.2.1-py3-none-any.whl\r\n",
      "Requirement already satisfied: click>=8.1 in /opt/conda/lib/python3.10/site-packages (from dask==2024.2.1) (8.1.7)\r\n",
      "Requirement already satisfied: cloudpickle>=1.5.0 in /opt/conda/lib/python3.10/site-packages (from dask==2024.2.1) (2.2.1)\r\n",
      "Requirement already satisfied: fsspec>=2021.09.0 in /opt/conda/lib/python3.10/site-packages (from dask==2024.2.1) (2024.3.1)\r\n",
      "Requirement already satisfied: packaging>=20.0 in /opt/conda/lib/python3.10/site-packages (from dask==2024.2.1) (21.3)\r\n",
      "Requirement already satisfied: partd>=1.2.0 in /opt/conda/lib/python3.10/site-packages (from dask==2024.2.1) (1.4.2)\r\n",
      "Requirement already satisfied: pyyaml>=5.3.1 in /opt/conda/lib/python3.10/site-packages (from dask==2024.2.1) (6.0.1)\r\n",
      "Requirement already satisfied: toolz>=0.10.0 in /opt/conda/lib/python3.10/site-packages (from dask==2024.2.1) (0.12.1)\r\n",
      "Requirement already satisfied: importlib-metadata>=4.13.0 in /opt/conda/lib/python3.10/site-packages (from dask==2024.2.1) (6.11.0)\r\n",
      "Requirement already satisfied: zipp>=0.5 in /opt/conda/lib/python3.10/site-packages (from importlib-metadata>=4.13.0->dask==2024.2.1) (3.17.0)\r\n",
      "Requirement already satisfied: pyparsing!=3.0.5,>=2.0.2 in /opt/conda/lib/python3.10/site-packages (from packaging>=20.0->dask==2024.2.1) (3.1.1)\r\n",
      "Requirement already satisfied: locket in /opt/conda/lib/python3.10/site-packages (from partd>=1.2.0->dask==2024.2.1) (1.0.0)\r\n",
      "\u001b[33mWARNING: Error parsing requirements for aiohttp: [Errno 2] No such file or directory: '/opt/conda/lib/python3.10/site-packages/aiohttp-3.9.1.dist-info/METADATA'\u001b[0m\u001b[33m\r\n",
      "\u001b[0mInstalling collected packages: dask\r\n",
      "  Attempting uninstall: dask\r\n",
      "    Found existing installation: dask 2024.5.1\r\n",
      "    Uninstalling dask-2024.5.1:\r\n",
      "      Successfully uninstalled dask-2024.5.1\r\n",
      "Successfully installed dask-2024.2.1\r\n",
      "Processing /kaggle/input/daskml/dask_expr-0.5.1-py3-none-any.whl\r\n",
      "Requirement already satisfied: dask==2024.2.1 in /opt/conda/lib/python3.10/site-packages (from dask-expr==0.5.1) (2024.2.1)\r\n",
      "Requirement already satisfied: pyarrow in /opt/conda/lib/python3.10/site-packages (from dask-expr==0.5.1) (16.1.0)\r\n",
      "Requirement already satisfied: pandas>=2 in /opt/conda/lib/python3.10/site-packages (from dask-expr==0.5.1) (2.2.2)\r\n",
      "Requirement already satisfied: click>=8.1 in /opt/conda/lib/python3.10/site-packages (from dask==2024.2.1->dask-expr==0.5.1) (8.1.7)\r\n",
      "Requirement already satisfied: cloudpickle>=1.5.0 in /opt/conda/lib/python3.10/site-packages (from dask==2024.2.1->dask-expr==0.5.1) (2.2.1)\r\n",
      "Requirement already satisfied: fsspec>=2021.09.0 in /opt/conda/lib/python3.10/site-packages (from dask==2024.2.1->dask-expr==0.5.1) (2024.3.1)\r\n",
      "Requirement already satisfied: packaging>=20.0 in /opt/conda/lib/python3.10/site-packages (from dask==2024.2.1->dask-expr==0.5.1) (21.3)\r\n",
      "Requirement already satisfied: partd>=1.2.0 in /opt/conda/lib/python3.10/site-packages (from dask==2024.2.1->dask-expr==0.5.1) (1.4.2)\r\n",
      "Requirement already satisfied: pyyaml>=5.3.1 in /opt/conda/lib/python3.10/site-packages (from dask==2024.2.1->dask-expr==0.5.1) (6.0.1)\r\n",
      "Requirement already satisfied: toolz>=0.10.0 in /opt/conda/lib/python3.10/site-packages (from dask==2024.2.1->dask-expr==0.5.1) (0.12.1)\r\n",
      "Requirement already satisfied: importlib-metadata>=4.13.0 in /opt/conda/lib/python3.10/site-packages (from dask==2024.2.1->dask-expr==0.5.1) (6.11.0)\r\n",
      "Requirement already satisfied: numpy>=1.22.4 in /opt/conda/lib/python3.10/site-packages (from pandas>=2->dask-expr==0.5.1) (1.26.4)\r\n",
      "Requirement already satisfied: python-dateutil>=2.8.2 in /opt/conda/lib/python3.10/site-packages (from pandas>=2->dask-expr==0.5.1) (2.9.0.post0)\r\n",
      "Requirement already satisfied: pytz>=2020.1 in /opt/conda/lib/python3.10/site-packages (from pandas>=2->dask-expr==0.5.1) (2023.3.post1)\r\n",
      "Requirement already satisfied: tzdata>=2022.7 in /opt/conda/lib/python3.10/site-packages (from pandas>=2->dask-expr==0.5.1) (2023.4)\r\n",
      "Requirement already satisfied: zipp>=0.5 in /opt/conda/lib/python3.10/site-packages (from importlib-metadata>=4.13.0->dask==2024.2.1->dask-expr==0.5.1) (3.17.0)\r\n",
      "Requirement already satisfied: pyparsing!=3.0.5,>=2.0.2 in /opt/conda/lib/python3.10/site-packages (from packaging>=20.0->dask==2024.2.1->dask-expr==0.5.1) (3.1.1)\r\n",
      "Requirement already satisfied: locket in /opt/conda/lib/python3.10/site-packages (from partd>=1.2.0->dask==2024.2.1->dask-expr==0.5.1) (1.0.0)\r\n",
      "Requirement already satisfied: six>=1.5 in /opt/conda/lib/python3.10/site-packages (from python-dateutil>=2.8.2->pandas>=2->dask-expr==0.5.1) (1.16.0)\r\n",
      "\u001b[33mWARNING: Error parsing requirements for aiohttp: [Errno 2] No such file or directory: '/opt/conda/lib/python3.10/site-packages/aiohttp-3.9.1.dist-info/METADATA'\u001b[0m\u001b[33m\r\n",
      "\u001b[0mInstalling collected packages: dask-expr\r\n",
      "Successfully installed dask-expr-0.5.1\r\n",
      "Processing /kaggle/input/daskml/distributed-2024.2.1-py3-none-any.whl\r\n",
      "Requirement already satisfied: click>=8.0 in /opt/conda/lib/python3.10/site-packages (from distributed==2024.2.1) (8.1.7)\r\n",
      "Requirement already satisfied: cloudpickle>=1.5.0 in /opt/conda/lib/python3.10/site-packages (from distributed==2024.2.1) (2.2.1)\r\n",
      "Requirement already satisfied: dask==2024.2.1 in /opt/conda/lib/python3.10/site-packages (from distributed==2024.2.1) (2024.2.1)\r\n",
      "Requirement already satisfied: jinja2>=2.10.3 in /opt/conda/lib/python3.10/site-packages (from distributed==2024.2.1) (3.1.2)\r\n",
      "Requirement already satisfied: locket>=1.0.0 in /opt/conda/lib/python3.10/site-packages (from distributed==2024.2.1) (1.0.0)\r\n",
      "Requirement already satisfied: msgpack>=1.0.0 in /opt/conda/lib/python3.10/site-packages (from distributed==2024.2.1) (1.0.7)\r\n",
      "Requirement already satisfied: packaging>=20.0 in /opt/conda/lib/python3.10/site-packages (from distributed==2024.2.1) (21.3)\r\n",
      "Requirement already satisfied: psutil>=5.7.2 in /opt/conda/lib/python3.10/site-packages (from distributed==2024.2.1) (5.9.3)\r\n",
      "Requirement already satisfied: pyyaml>=5.3.1 in /opt/conda/lib/python3.10/site-packages (from distributed==2024.2.1) (6.0.1)\r\n",
      "Requirement already satisfied: sortedcontainers>=2.0.5 in /opt/conda/lib/python3.10/site-packages (from distributed==2024.2.1) (2.4.0)\r\n",
      "Requirement already satisfied: tblib>=1.6.0 in /opt/conda/lib/python3.10/site-packages (from distributed==2024.2.1) (3.0.0)\r\n",
      "Requirement already satisfied: toolz>=0.10.0 in /opt/conda/lib/python3.10/site-packages (from distributed==2024.2.1) (0.12.1)\r\n",
      "Requirement already satisfied: tornado>=6.0.4 in /opt/conda/lib/python3.10/site-packages (from distributed==2024.2.1) (6.3.3)\r\n",
      "Requirement already satisfied: urllib3>=1.24.3 in /opt/conda/lib/python3.10/site-packages (from distributed==2024.2.1) (1.26.18)\r\n",
      "Requirement already satisfied: zict>=3.0.0 in /opt/conda/lib/python3.10/site-packages (from distributed==2024.2.1) (3.0.0)\r\n",
      "Requirement already satisfied: fsspec>=2021.09.0 in /opt/conda/lib/python3.10/site-packages (from dask==2024.2.1->distributed==2024.2.1) (2024.3.1)\r\n",
      "Requirement already satisfied: partd>=1.2.0 in /opt/conda/lib/python3.10/site-packages (from dask==2024.2.1->distributed==2024.2.1) (1.4.2)\r\n",
      "Requirement already satisfied: importlib-metadata>=4.13.0 in /opt/conda/lib/python3.10/site-packages (from dask==2024.2.1->distributed==2024.2.1) (6.11.0)\r\n",
      "Requirement already satisfied: MarkupSafe>=2.0 in /opt/conda/lib/python3.10/site-packages (from jinja2>=2.10.3->distributed==2024.2.1) (2.1.3)\r\n",
      "Requirement already satisfied: pyparsing!=3.0.5,>=2.0.2 in /opt/conda/lib/python3.10/site-packages (from packaging>=20.0->distributed==2024.2.1) (3.1.1)\r\n",
      "Requirement already satisfied: zipp>=0.5 in /opt/conda/lib/python3.10/site-packages (from importlib-metadata>=4.13.0->dask==2024.2.1->distributed==2024.2.1) (3.17.0)\r\n",
      "\u001b[33mWARNING: Error parsing requirements for aiohttp: [Errno 2] No such file or directory: '/opt/conda/lib/python3.10/site-packages/aiohttp-3.9.1.dist-info/METADATA'\u001b[0m\u001b[33m\r\n",
      "\u001b[0mInstalling collected packages: distributed\r\n",
      "Successfully installed distributed-2024.2.1\r\n",
      "Processing /kaggle/input/daskml/sparse-0.15.3-py2.py3-none-any.whl\r\n",
      "Requirement already satisfied: numpy>=1.17 in /opt/conda/lib/python3.10/site-packages (from sparse==0.15.3) (1.26.4)\r\n",
      "Requirement already satisfied: scipy>=0.19 in /opt/conda/lib/python3.10/site-packages (from sparse==0.15.3) (1.11.4)\r\n",
      "Requirement already satisfied: numba>=0.49 in /opt/conda/lib/python3.10/site-packages (from sparse==0.15.3) (0.58.1)\r\n",
      "Requirement already satisfied: llvmlite<0.42,>=0.41.0dev0 in /opt/conda/lib/python3.10/site-packages (from numba>=0.49->sparse==0.15.3) (0.41.1)\r\n",
      "\u001b[33mWARNING: Error parsing requirements for aiohttp: [Errno 2] No such file or directory: '/opt/conda/lib/python3.10/site-packages/aiohttp-3.9.1.dist-info/METADATA'\u001b[0m\u001b[33m\r\n",
      "\u001b[0mInstalling collected packages: sparse\r\n",
      "Successfully installed sparse-0.15.3\r\n",
      "Processing /kaggle/input/daskml/dask_glm-0.3.2-py2.py3-none-any.whl\r\n",
      "Requirement already satisfied: cloudpickle>=0.2.2 in /opt/conda/lib/python3.10/site-packages (from dask-glm==0.3.2) (2.2.1)\r\n",
      "Requirement already satisfied: dask[array] in /opt/conda/lib/python3.10/site-packages (from dask-glm==0.3.2) (2024.2.1)\r\n",
      "Requirement already satisfied: multipledispatch>=0.4.9 in /opt/conda/lib/python3.10/site-packages (from dask-glm==0.3.2) (1.0.0)\r\n",
      "Requirement already satisfied: scipy>=0.18.1 in /opt/conda/lib/python3.10/site-packages (from dask-glm==0.3.2) (1.11.4)\r\n",
      "Requirement already satisfied: scikit-learn>=0.18 in /opt/conda/lib/python3.10/site-packages (from dask-glm==0.3.2) (1.2.2)\r\n",
      "Requirement already satisfied: distributed in /opt/conda/lib/python3.10/site-packages (from dask-glm==0.3.2) (2024.2.1)\r\n",
      "Requirement already satisfied: sparse>=0.7.0 in /opt/conda/lib/python3.10/site-packages (from dask-glm==0.3.2) (0.15.3)\r\n",
      "Requirement already satisfied: numpy>=1.17.3 in /opt/conda/lib/python3.10/site-packages (from scikit-learn>=0.18->dask-glm==0.3.2) (1.26.4)\r\n",
      "Requirement already satisfied: joblib>=1.1.1 in /opt/conda/lib/python3.10/site-packages (from scikit-learn>=0.18->dask-glm==0.3.2) (1.4.2)\r\n",
      "Requirement already satisfied: threadpoolctl>=2.0.0 in /opt/conda/lib/python3.10/site-packages (from scikit-learn>=0.18->dask-glm==0.3.2) (3.2.0)\r\n",
      "Requirement already satisfied: numba>=0.49 in /opt/conda/lib/python3.10/site-packages (from sparse>=0.7.0->dask-glm==0.3.2) (0.58.1)\r\n",
      "Requirement already satisfied: click>=8.1 in /opt/conda/lib/python3.10/site-packages (from dask[array]->dask-glm==0.3.2) (8.1.7)\r\n",
      "Requirement already satisfied: fsspec>=2021.09.0 in /opt/conda/lib/python3.10/site-packages (from dask[array]->dask-glm==0.3.2) (2024.3.1)\r\n",
      "Requirement already satisfied: packaging>=20.0 in /opt/conda/lib/python3.10/site-packages (from dask[array]->dask-glm==0.3.2) (21.3)\r\n",
      "Requirement already satisfied: partd>=1.2.0 in /opt/conda/lib/python3.10/site-packages (from dask[array]->dask-glm==0.3.2) (1.4.2)\r\n",
      "Requirement already satisfied: pyyaml>=5.3.1 in /opt/conda/lib/python3.10/site-packages (from dask[array]->dask-glm==0.3.2) (6.0.1)\r\n",
      "Requirement already satisfied: toolz>=0.10.0 in /opt/conda/lib/python3.10/site-packages (from dask[array]->dask-glm==0.3.2) (0.12.1)\r\n",
      "Requirement already satisfied: importlib-metadata>=4.13.0 in /opt/conda/lib/python3.10/site-packages (from dask[array]->dask-glm==0.3.2) (6.11.0)\r\n",
      "Requirement already satisfied: jinja2>=2.10.3 in /opt/conda/lib/python3.10/site-packages (from distributed->dask-glm==0.3.2) (3.1.2)\r\n",
      "Requirement already satisfied: locket>=1.0.0 in /opt/conda/lib/python3.10/site-packages (from distributed->dask-glm==0.3.2) (1.0.0)\r\n",
      "Requirement already satisfied: msgpack>=1.0.0 in /opt/conda/lib/python3.10/site-packages (from distributed->dask-glm==0.3.2) (1.0.7)\r\n",
      "Requirement already satisfied: psutil>=5.7.2 in /opt/conda/lib/python3.10/site-packages (from distributed->dask-glm==0.3.2) (5.9.3)\r\n",
      "Requirement already satisfied: sortedcontainers>=2.0.5 in /opt/conda/lib/python3.10/site-packages (from distributed->dask-glm==0.3.2) (2.4.0)\r\n",
      "Requirement already satisfied: tblib>=1.6.0 in /opt/conda/lib/python3.10/site-packages (from distributed->dask-glm==0.3.2) (3.0.0)\r\n",
      "Requirement already satisfied: tornado>=6.0.4 in /opt/conda/lib/python3.10/site-packages (from distributed->dask-glm==0.3.2) (6.3.3)\r\n",
      "Requirement already satisfied: urllib3>=1.24.3 in /opt/conda/lib/python3.10/site-packages (from distributed->dask-glm==0.3.2) (1.26.18)\r\n",
      "Requirement already satisfied: zict>=3.0.0 in /opt/conda/lib/python3.10/site-packages (from distributed->dask-glm==0.3.2) (3.0.0)\r\n",
      "Requirement already satisfied: zipp>=0.5 in /opt/conda/lib/python3.10/site-packages (from importlib-metadata>=4.13.0->dask[array]->dask-glm==0.3.2) (3.17.0)\r\n",
      "Requirement already satisfied: MarkupSafe>=2.0 in /opt/conda/lib/python3.10/site-packages (from jinja2>=2.10.3->distributed->dask-glm==0.3.2) (2.1.3)\r\n",
      "Requirement already satisfied: llvmlite<0.42,>=0.41.0dev0 in /opt/conda/lib/python3.10/site-packages (from numba>=0.49->sparse>=0.7.0->dask-glm==0.3.2) (0.41.1)\r\n",
      "Requirement already satisfied: pyparsing!=3.0.5,>=2.0.2 in /opt/conda/lib/python3.10/site-packages (from packaging>=20.0->dask[array]->dask-glm==0.3.2) (3.1.1)\r\n",
      "\u001b[33mWARNING: Error parsing requirements for aiohttp: [Errno 2] No such file or directory: '/opt/conda/lib/python3.10/site-packages/aiohttp-3.9.1.dist-info/METADATA'\u001b[0m\u001b[33m\r\n",
      "\u001b[0mInstalling collected packages: dask-glm\r\n",
      "Successfully installed dask-glm-0.3.2\r\n",
      "Processing /kaggle/input/daskml/dask_ml-2024.4.4-py3-none-any.whl\r\n",
      "Requirement already satisfied: dask-glm>=0.2.0 in /opt/conda/lib/python3.10/site-packages (from dask-ml==2024.4.4) (0.3.2)\r\n",
      "Requirement already satisfied: dask>=2.4.0 in /opt/conda/lib/python3.10/site-packages (from dask[array,dataframe]>=2.4.0->dask-ml==2024.4.4) (2024.2.1)\r\n",
      "Requirement already satisfied: distributed>=2.4.0 in /opt/conda/lib/python3.10/site-packages (from dask-ml==2024.4.4) (2024.2.1)\r\n",
      "Requirement already satisfied: multipledispatch>=0.4.9 in /opt/conda/lib/python3.10/site-packages (from dask-ml==2024.4.4) (1.0.0)\r\n",
      "Requirement already satisfied: numba>=0.51.0 in /opt/conda/lib/python3.10/site-packages (from dask-ml==2024.4.4) (0.58.1)\r\n",
      "Requirement already satisfied: numpy>=1.20.0 in /opt/conda/lib/python3.10/site-packages (from dask-ml==2024.4.4) (1.26.4)\r\n",
      "Requirement already satisfied: packaging in /opt/conda/lib/python3.10/site-packages (from dask-ml==2024.4.4) (21.3)\r\n",
      "Requirement already satisfied: pandas>=0.24.2 in /opt/conda/lib/python3.10/site-packages (from dask-ml==2024.4.4) (2.2.2)\r\n",
      "Requirement already satisfied: scikit-learn>=1.2.0 in /opt/conda/lib/python3.10/site-packages (from dask-ml==2024.4.4) (1.2.2)\r\n",
      "Requirement already satisfied: scipy in /opt/conda/lib/python3.10/site-packages (from dask-ml==2024.4.4) (1.11.4)\r\n",
      "Requirement already satisfied: click>=8.1 in /opt/conda/lib/python3.10/site-packages (from dask>=2.4.0->dask[array,dataframe]>=2.4.0->dask-ml==2024.4.4) (8.1.7)\r\n",
      "Requirement already satisfied: cloudpickle>=1.5.0 in /opt/conda/lib/python3.10/site-packages (from dask>=2.4.0->dask[array,dataframe]>=2.4.0->dask-ml==2024.4.4) (2.2.1)\r\n",
      "Requirement already satisfied: fsspec>=2021.09.0 in /opt/conda/lib/python3.10/site-packages (from dask>=2.4.0->dask[array,dataframe]>=2.4.0->dask-ml==2024.4.4) (2024.3.1)\r\n",
      "Requirement already satisfied: partd>=1.2.0 in /opt/conda/lib/python3.10/site-packages (from dask>=2.4.0->dask[array,dataframe]>=2.4.0->dask-ml==2024.4.4) (1.4.2)\r\n",
      "Requirement already satisfied: pyyaml>=5.3.1 in /opt/conda/lib/python3.10/site-packages (from dask>=2.4.0->dask[array,dataframe]>=2.4.0->dask-ml==2024.4.4) (6.0.1)\r\n",
      "Requirement already satisfied: toolz>=0.10.0 in /opt/conda/lib/python3.10/site-packages (from dask>=2.4.0->dask[array,dataframe]>=2.4.0->dask-ml==2024.4.4) (0.12.1)\r\n",
      "Requirement already satisfied: importlib-metadata>=4.13.0 in /opt/conda/lib/python3.10/site-packages (from dask>=2.4.0->dask[array,dataframe]>=2.4.0->dask-ml==2024.4.4) (6.11.0)\r\n",
      "Requirement already satisfied: sparse>=0.7.0 in /opt/conda/lib/python3.10/site-packages (from dask-glm>=0.2.0->dask-ml==2024.4.4) (0.15.3)\r\n",
      "Requirement already satisfied: jinja2>=2.10.3 in /opt/conda/lib/python3.10/site-packages (from distributed>=2.4.0->dask-ml==2024.4.4) (3.1.2)\r\n",
      "Requirement already satisfied: locket>=1.0.0 in /opt/conda/lib/python3.10/site-packages (from distributed>=2.4.0->dask-ml==2024.4.4) (1.0.0)\r\n",
      "Requirement already satisfied: msgpack>=1.0.0 in /opt/conda/lib/python3.10/site-packages (from distributed>=2.4.0->dask-ml==2024.4.4) (1.0.7)\r\n",
      "Requirement already satisfied: psutil>=5.7.2 in /opt/conda/lib/python3.10/site-packages (from distributed>=2.4.0->dask-ml==2024.4.4) (5.9.3)\r\n",
      "Requirement already satisfied: sortedcontainers>=2.0.5 in /opt/conda/lib/python3.10/site-packages (from distributed>=2.4.0->dask-ml==2024.4.4) (2.4.0)\r\n",
      "Requirement already satisfied: tblib>=1.6.0 in /opt/conda/lib/python3.10/site-packages (from distributed>=2.4.0->dask-ml==2024.4.4) (3.0.0)\r\n",
      "Requirement already satisfied: tornado>=6.0.4 in /opt/conda/lib/python3.10/site-packages (from distributed>=2.4.0->dask-ml==2024.4.4) (6.3.3)\r\n",
      "Requirement already satisfied: urllib3>=1.24.3 in /opt/conda/lib/python3.10/site-packages (from distributed>=2.4.0->dask-ml==2024.4.4) (1.26.18)\r\n",
      "Requirement already satisfied: zict>=3.0.0 in /opt/conda/lib/python3.10/site-packages (from distributed>=2.4.0->dask-ml==2024.4.4) (3.0.0)\r\n",
      "Requirement already satisfied: llvmlite<0.42,>=0.41.0dev0 in /opt/conda/lib/python3.10/site-packages (from numba>=0.51.0->dask-ml==2024.4.4) (0.41.1)\r\n",
      "Requirement already satisfied: pyparsing!=3.0.5,>=2.0.2 in /opt/conda/lib/python3.10/site-packages (from packaging->dask-ml==2024.4.4) (3.1.1)\r\n",
      "Requirement already satisfied: python-dateutil>=2.8.2 in /opt/conda/lib/python3.10/site-packages (from pandas>=0.24.2->dask-ml==2024.4.4) (2.9.0.post0)\r\n",
      "Requirement already satisfied: pytz>=2020.1 in /opt/conda/lib/python3.10/site-packages (from pandas>=0.24.2->dask-ml==2024.4.4) (2023.3.post1)\r\n",
      "Requirement already satisfied: tzdata>=2022.7 in /opt/conda/lib/python3.10/site-packages (from pandas>=0.24.2->dask-ml==2024.4.4) (2023.4)\r\n",
      "Requirement already satisfied: joblib>=1.1.1 in /opt/conda/lib/python3.10/site-packages (from scikit-learn>=1.2.0->dask-ml==2024.4.4) (1.4.2)\r\n",
      "Requirement already satisfied: threadpoolctl>=2.0.0 in /opt/conda/lib/python3.10/site-packages (from scikit-learn>=1.2.0->dask-ml==2024.4.4) (3.2.0)\r\n",
      "Requirement already satisfied: zipp>=0.5 in /opt/conda/lib/python3.10/site-packages (from importlib-metadata>=4.13.0->dask>=2.4.0->dask[array,dataframe]>=2.4.0->dask-ml==2024.4.4) (3.17.0)\r\n",
      "Requirement already satisfied: MarkupSafe>=2.0 in /opt/conda/lib/python3.10/site-packages (from jinja2>=2.10.3->distributed>=2.4.0->dask-ml==2024.4.4) (2.1.3)\r\n",
      "Requirement already satisfied: six>=1.5 in /opt/conda/lib/python3.10/site-packages (from python-dateutil>=2.8.2->pandas>=0.24.2->dask-ml==2024.4.4) (1.16.0)\r\n",
      "\u001b[33mWARNING: Error parsing requirements for aiohttp: [Errno 2] No such file or directory: '/opt/conda/lib/python3.10/site-packages/aiohttp-3.9.1.dist-info/METADATA'\u001b[0m\u001b[33m\r\n",
      "\u001b[0mInstalling collected packages: dask-ml\r\n",
      "Successfully installed dask-ml-2024.4.4\r\n",
      "Processing /kaggle/input/fastparquet/cramjam-2.8.3-cp310-cp310-manylinux_2_17_x86_64.manylinux2014_x86_64.whl\r\n",
      "\u001b[33mWARNING: Error parsing requirements for aiohttp: [Errno 2] No such file or directory: '/opt/conda/lib/python3.10/site-packages/aiohttp-3.9.1.dist-info/METADATA'\u001b[0m\u001b[33m\r\n",
      "\u001b[0mInstalling collected packages: cramjam\r\n",
      "Successfully installed cramjam-2.8.3\r\n",
      "Processing /kaggle/input/fastparquet/fastparquet-2024.2.0-cp310-cp310-manylinux_2_17_x86_64.manylinux2014_x86_64.whl\r\n",
      "Requirement already satisfied: pandas>=1.5.0 in /opt/conda/lib/python3.10/site-packages (from fastparquet==2024.2.0) (2.2.2)\r\n",
      "Requirement already satisfied: numpy>=1.20.3 in /opt/conda/lib/python3.10/site-packages (from fastparquet==2024.2.0) (1.26.4)\r\n",
      "Requirement already satisfied: cramjam>=2.3 in /opt/conda/lib/python3.10/site-packages (from fastparquet==2024.2.0) (2.8.3)\r\n",
      "Requirement already satisfied: fsspec in /opt/conda/lib/python3.10/site-packages (from fastparquet==2024.2.0) (2024.3.1)\r\n",
      "Requirement already satisfied: packaging in /opt/conda/lib/python3.10/site-packages (from fastparquet==2024.2.0) (21.3)\r\n",
      "Requirement already satisfied: python-dateutil>=2.8.2 in /opt/conda/lib/python3.10/site-packages (from pandas>=1.5.0->fastparquet==2024.2.0) (2.9.0.post0)\r\n",
      "Requirement already satisfied: pytz>=2020.1 in /opt/conda/lib/python3.10/site-packages (from pandas>=1.5.0->fastparquet==2024.2.0) (2023.3.post1)\r\n",
      "Requirement already satisfied: tzdata>=2022.7 in /opt/conda/lib/python3.10/site-packages (from pandas>=1.5.0->fastparquet==2024.2.0) (2023.4)\r\n",
      "Requirement already satisfied: pyparsing!=3.0.5,>=2.0.2 in /opt/conda/lib/python3.10/site-packages (from packaging->fastparquet==2024.2.0) (3.1.1)\r\n",
      "Requirement already satisfied: six>=1.5 in /opt/conda/lib/python3.10/site-packages (from python-dateutil>=2.8.2->pandas>=1.5.0->fastparquet==2024.2.0) (1.16.0)\r\n",
      "\u001b[33mWARNING: Error parsing requirements for aiohttp: [Errno 2] No such file or directory: '/opt/conda/lib/python3.10/site-packages/aiohttp-3.9.1.dist-info/METADATA'\u001b[0m\u001b[33m\r\n",
      "\u001b[0mInstalling collected packages: fastparquet\r\n",
      "Successfully installed fastparquet-2024.2.0\r\n"
     ]
    }
   ],
   "source": [
    "# #kaggle env setup\n",
    "if G.ENV==\"kaggle\":\n",
    "    #!pip install ../input/daskml/dask-2024.5.0-py3-none-any.whl\n",
    "    #!pip install ../input/daskml/dask_expr-1.1.0-py3-none-any.whl\n",
    "    !pip install ../input/daskml/zict-3.0.0-py2.py3-none-any.whl\n",
    "    !pip install ../input/daskml/tblib-3.0.0-py3-none-any.whl\n",
    "    !pip install ../input/daskml/sortedcontainers-2.4.0-py2.py3-none-any.whl\n",
    "    !pip uninstall -y dask_expr\n",
    "    !pip install ../input/daskml/dask-2024.2.1-py3-none-any.whl\n",
    "    !pip install ../input/daskml/dask_expr-0.5.1-py3-none-any.whl\n",
    "    !pip install ../input/daskml/distributed-2024.2.1-py3-none-any.whl\n",
    "    !pip install ../input/daskml/sparse-0.15.3-py2.py3-none-any.whl\n",
    "    !pip install ../input/daskml/dask_glm-0.3.2-py2.py3-none-any.whl\n",
    "    !pip install ../input/daskml/dask_ml-2024.4.4-py3-none-any.whl\n",
    "    !pip install ../input/fastparquet/cramjam-2.8.3-cp310-cp310-manylinux_2_17_x86_64.manylinux2014_x86_64.whl\n",
    "    !pip install ../input/fastparquet/fastparquet-2024.2.0-cp310-cp310-manylinux_2_17_x86_64.manylinux2014_x86_64.whl"
   ]
  },
  {
   "cell_type": "code",
   "execution_count": 4,
   "id": "0bf9c938",
   "metadata": {
    "_kg_hide-input": true,
    "_kg_hide-output": true,
    "execution": {
     "iopub.execute_input": "2024-05-31T07:07:53.097570Z",
     "iopub.status.busy": "2024-05-31T07:07:53.097136Z",
     "iopub.status.idle": "2024-05-31T07:07:53.201869Z",
     "shell.execute_reply": "2024-05-31T07:07:53.200778Z"
    },
    "metadata": {},
    "papermill": {
     "duration": 0.152289,
     "end_time": "2024-05-31T07:07:53.204739",
     "exception": false,
     "start_time": "2024-05-31T07:07:53.052450",
     "status": "completed"
    },
    "tags": []
   },
   "outputs": [],
   "source": [
    "%load_ext memory_profiler"
   ]
  },
  {
   "cell_type": "code",
   "execution_count": 5,
   "id": "024350f8",
   "metadata": {
    "_kg_hide-input": true,
    "_kg_hide-output": true,
    "execution": {
     "iopub.execute_input": "2024-05-31T07:07:53.294698Z",
     "iopub.status.busy": "2024-05-31T07:07:53.294270Z",
     "iopub.status.idle": "2024-05-31T07:07:53.299452Z",
     "shell.execute_reply": "2024-05-31T07:07:53.298357Z"
    },
    "metadata": {},
    "papermill": {
     "duration": 0.053781,
     "end_time": "2024-05-31T07:07:53.301852",
     "exception": false,
     "start_time": "2024-05-31T07:07:53.248071",
     "status": "completed"
    },
    "tags": []
   },
   "outputs": [],
   "source": [
    "import tracemalloc"
   ]
  },
  {
   "cell_type": "code",
   "execution_count": 6,
   "id": "e0fc687d",
   "metadata": {
    "_kg_hide-input": true,
    "_kg_hide-output": true,
    "execution": {
     "iopub.execute_input": "2024-05-31T07:07:53.389130Z",
     "iopub.status.busy": "2024-05-31T07:07:53.388692Z",
     "iopub.status.idle": "2024-05-31T07:07:55.120535Z",
     "shell.execute_reply": "2024-05-31T07:07:55.119086Z"
    },
    "metadata": {},
    "papermill": {
     "duration": 1.778767,
     "end_time": "2024-05-31T07:07:55.123597",
     "exception": false,
     "start_time": "2024-05-31T07:07:53.344830",
     "status": "completed"
    },
    "tags": []
   },
   "outputs": [],
   "source": [
    "from sklearn.linear_model import RidgeClassifier\n",
    "from sklearn.linear_model import RidgeClassifierCV\n",
    "from sklearn.feature_selection import RFECV\n",
    "from sklearn.feature_selection import SelectFromModel\n",
    "from sklearn.model_selection import RandomizedSearchCV\n",
    "from sklearn.model_selection import StratifiedKFold\n",
    "import scipy.stats as stats\n"
   ]
  },
  {
   "cell_type": "code",
   "execution_count": 7,
   "id": "b12ef31e",
   "metadata": {
    "_kg_hide-input": true,
    "_kg_hide-output": true,
    "execution": {
     "iopub.execute_input": "2024-05-31T07:07:55.211574Z",
     "iopub.status.busy": "2024-05-31T07:07:55.211141Z",
     "iopub.status.idle": "2024-05-31T07:07:55.488247Z",
     "shell.execute_reply": "2024-05-31T07:07:55.487030Z"
    },
    "papermill": {
     "duration": 0.324781,
     "end_time": "2024-05-31T07:07:55.491267",
     "exception": false,
     "start_time": "2024-05-31T07:07:55.166486",
     "status": "completed"
    },
    "tags": []
   },
   "outputs": [],
   "source": [
    "import optuna\n",
    "#from optuna.integration.tensorboard import TensorBoardCallback"
   ]
  },
  {
   "cell_type": "code",
   "execution_count": 8,
   "id": "ed54f585",
   "metadata": {
    "_kg_hide-input": true,
    "_kg_hide-output": true,
    "execution": {
     "iopub.execute_input": "2024-05-31T07:07:55.579987Z",
     "iopub.status.busy": "2024-05-31T07:07:55.579520Z",
     "iopub.status.idle": "2024-05-31T07:07:55.586960Z",
     "shell.execute_reply": "2024-05-31T07:07:55.585862Z"
    },
    "metadata": {},
    "papermill": {
     "duration": 0.054643,
     "end_time": "2024-05-31T07:07:55.589579",
     "exception": false,
     "start_time": "2024-05-31T07:07:55.534936",
     "status": "completed"
    },
    "tags": []
   },
   "outputs": [],
   "source": [
    "import ctypes\n",
    "import glob\n",
    "import sys\n",
    "import psutil\n",
    "import shutil\n",
    "from pathlib import Path\n",
    "import math\n",
    "\n",
    "if not sys.warnoptions:\n",
    "    import os, warnings\n",
    "    warnings.simplefilter(\"once\") # Change the filter in this process\n",
    "    os.environ[\"PYTHONWARNINGS\"] = \"ignore\"\n",
    "    warnings.filterwarnings(\"ignore\")\n",
    "# import warnings filter\n",
    "from warnings import simplefilter\n",
    "# ignore all future warnings\n",
    "simplefilter(action='ignore', category=FutureWarning)"
   ]
  },
  {
   "cell_type": "code",
   "execution_count": 9,
   "id": "dac9a499",
   "metadata": {
    "_kg_hide-input": true,
    "_kg_hide-output": true,
    "execution": {
     "iopub.execute_input": "2024-05-31T07:07:55.678301Z",
     "iopub.status.busy": "2024-05-31T07:07:55.677871Z",
     "iopub.status.idle": "2024-05-31T07:07:55.683424Z",
     "shell.execute_reply": "2024-05-31T07:07:55.682155Z"
    },
    "metadata": {},
    "papermill": {
     "duration": 0.052566,
     "end_time": "2024-05-31T07:07:55.686123",
     "exception": false,
     "start_time": "2024-05-31T07:07:55.633557",
     "status": "completed"
    },
    "tags": []
   },
   "outputs": [],
   "source": [
    "from IPython.display import clear_output\n",
    "from gc import collect"
   ]
  },
  {
   "cell_type": "code",
   "execution_count": 10,
   "id": "e6c4e708",
   "metadata": {
    "_kg_hide-input": true,
    "_kg_hide-output": true,
    "execution": {
     "iopub.execute_input": "2024-05-31T07:07:55.775645Z",
     "iopub.status.busy": "2024-05-31T07:07:55.775268Z",
     "iopub.status.idle": "2024-05-31T07:07:57.107519Z",
     "shell.execute_reply": "2024-05-31T07:07:57.106008Z"
    },
    "metadata": {},
    "papermill": {
     "duration": 1.380946,
     "end_time": "2024-05-31T07:07:57.110607",
     "exception": false,
     "start_time": "2024-05-31T07:07:55.729661",
     "status": "completed"
    },
    "tags": []
   },
   "outputs": [],
   "source": [
    "#main modules for matrix calculations\n",
    "import pandas as pd\n",
    "import numpy as np\n",
    "import scipy\n",
    "import math\n",
    "\n",
    "#main modules for visualisation\n",
    "import matplotlib.pyplot as plt\n",
    "from matplotlib.ticker import StrMethodFormatter\n",
    "import seaborn as sns\n",
    "#from sklearn import tree\n",
    "get_ipython().run_line_magic('matplotlib', 'inline')"
   ]
  },
  {
   "cell_type": "code",
   "execution_count": 11,
   "id": "9960eead",
   "metadata": {
    "_kg_hide-input": true,
    "_kg_hide-output": true,
    "execution": {
     "iopub.execute_input": "2024-05-31T07:07:57.198700Z",
     "iopub.status.busy": "2024-05-31T07:07:57.198105Z",
     "iopub.status.idle": "2024-05-31T07:07:57.431030Z",
     "shell.execute_reply": "2024-05-31T07:07:57.429841Z"
    },
    "metadata": {},
    "papermill": {
     "duration": 0.280378,
     "end_time": "2024-05-31T07:07:57.434023",
     "exception": false,
     "start_time": "2024-05-31T07:07:57.153645",
     "status": "completed"
    },
    "tags": []
   },
   "outputs": [],
   "source": [
    "from xgboost import XGBClassifier, plot_tree\n",
    "import xgboost as xgb"
   ]
  },
  {
   "cell_type": "code",
   "execution_count": 12,
   "id": "ed61542b",
   "metadata": {
    "_kg_hide-input": true,
    "_kg_hide-output": true,
    "execution": {
     "iopub.execute_input": "2024-05-31T07:07:57.524165Z",
     "iopub.status.busy": "2024-05-31T07:07:57.523751Z",
     "iopub.status.idle": "2024-05-31T07:07:57.529133Z",
     "shell.execute_reply": "2024-05-31T07:07:57.527943Z"
    },
    "metadata": {},
    "papermill": {
     "duration": 0.053259,
     "end_time": "2024-05-31T07:07:57.531884",
     "exception": false,
     "start_time": "2024-05-31T07:07:57.478625",
     "status": "completed"
    },
    "tags": []
   },
   "outputs": [],
   "source": [
    "from sklearn.metrics import roc_auc_score \n",
    "from sklearn.metrics import log_loss"
   ]
  },
  {
   "cell_type": "code",
   "execution_count": 13,
   "id": "83c152db",
   "metadata": {
    "_kg_hide-input": true,
    "_kg_hide-output": true,
    "execution": {
     "iopub.execute_input": "2024-05-31T07:07:57.621075Z",
     "iopub.status.busy": "2024-05-31T07:07:57.620091Z",
     "iopub.status.idle": "2024-05-31T07:07:57.625723Z",
     "shell.execute_reply": "2024-05-31T07:07:57.624600Z"
    },
    "metadata": {},
    "papermill": {
     "duration": 0.053002,
     "end_time": "2024-05-31T07:07:57.628322",
     "exception": false,
     "start_time": "2024-05-31T07:07:57.575320",
     "status": "completed"
    },
    "tags": []
   },
   "outputs": [],
   "source": [
    "np.random.seed(0)\n",
    "pd.set_option('display.max_colwidth', None)"
   ]
  },
  {
   "cell_type": "code",
   "execution_count": 14,
   "id": "84f2b3eb",
   "metadata": {
    "_kg_hide-input": true,
    "_kg_hide-output": true,
    "execution": {
     "iopub.execute_input": "2024-05-31T07:07:57.717758Z",
     "iopub.status.busy": "2024-05-31T07:07:57.717314Z",
     "iopub.status.idle": "2024-05-31T07:08:03.037798Z",
     "shell.execute_reply": "2024-05-31T07:08:03.036267Z"
    },
    "metadata": {},
    "papermill": {
     "duration": 5.36913,
     "end_time": "2024-05-31T07:08:03.040797",
     "exception": false,
     "start_time": "2024-05-31T07:07:57.671667",
     "status": "completed"
    },
    "scrolled": true,
    "tags": []
   },
   "outputs": [],
   "source": [
    "import logging\n",
    "from dask.distributed import Client, wait, progress\n",
    "client = Client(n_workers=1, processes=True,  silence_logs=logging.ERROR) #threads_per_worker=14,\n",
    "import dask.dataframe as dd\n",
    "import dask\n",
    "from dask_ml.preprocessing import OrdinalEncoder, Categorizer, MinMaxScaler\n",
    "from sklearn.preprocessing import MinMaxScaler as MMs_sk\n",
    "import dask.array as da\n",
    "from dask_ml.decomposition import IncrementalPCA #,TruncatedSVD\n",
    "from dask_ml.impute import SimpleImputer\n",
    "from sklearn.pipeline import Pipeline\n",
    "import xgboost as xgb\n",
    "from sklearn.model_selection import train_test_split\n",
    "from sklearn.utils import shuffle\n",
    "from sklearn.feature_extraction.text import TfidfVectorizer\n",
    "from dask.array import from_array"
   ]
  },
  {
   "cell_type": "code",
   "execution_count": 15,
   "id": "8aa98d16",
   "metadata": {
    "execution": {
     "iopub.execute_input": "2024-05-31T07:08:03.132735Z",
     "iopub.status.busy": "2024-05-31T07:08:03.132268Z",
     "iopub.status.idle": "2024-05-31T07:08:03.186269Z",
     "shell.execute_reply": "2024-05-31T07:08:03.185091Z"
    },
    "metadata": {},
    "papermill": {
     "duration": 0.103848,
     "end_time": "2024-05-31T07:08:03.189361",
     "exception": false,
     "start_time": "2024-05-31T07:08:03.085513",
     "status": "completed"
    },
    "tags": []
   },
   "outputs": [
    {
     "data": {
      "text/html": [
       "<div>\n",
       "    <div style=\"width: 24px; height: 24px; background-color: #e1e1e1; border: 3px solid #9D9D9D; border-radius: 5px; position: absolute;\"> </div>\n",
       "    <div style=\"margin-left: 48px;\">\n",
       "        <h3 style=\"margin-bottom: 0px;\">Client</h3>\n",
       "        <p style=\"color: #9D9D9D; margin-bottom: 0px;\">Client-82b41a7e-1f1c-11ef-8012-0242ac130202</p>\n",
       "        <table style=\"width: 100%; text-align: left;\">\n",
       "\n",
       "        <tr>\n",
       "        \n",
       "            <td style=\"text-align: left;\"><strong>Connection method:</strong> Cluster object</td>\n",
       "            <td style=\"text-align: left;\"><strong>Cluster type:</strong> distributed.LocalCluster</td>\n",
       "        \n",
       "        </tr>\n",
       "\n",
       "        \n",
       "            <tr>\n",
       "                <td style=\"text-align: left;\">\n",
       "                    <strong>Dashboard: </strong> <a href=\"http://127.0.0.1:8787/status\" target=\"_blank\">http://127.0.0.1:8787/status</a>\n",
       "                </td>\n",
       "                <td style=\"text-align: left;\"></td>\n",
       "            </tr>\n",
       "        \n",
       "\n",
       "        </table>\n",
       "\n",
       "        \n",
       "\n",
       "        \n",
       "            <details>\n",
       "            <summary style=\"margin-bottom: 20px;\"><h3 style=\"display: inline;\">Cluster Info</h3></summary>\n",
       "            <div class=\"jp-RenderedHTMLCommon jp-RenderedHTML jp-mod-trusted jp-OutputArea-output\">\n",
       "    <div style=\"width: 24px; height: 24px; background-color: #e1e1e1; border: 3px solid #9D9D9D; border-radius: 5px; position: absolute;\">\n",
       "    </div>\n",
       "    <div style=\"margin-left: 48px;\">\n",
       "        <h3 style=\"margin-bottom: 0px; margin-top: 0px;\">LocalCluster</h3>\n",
       "        <p style=\"color: #9D9D9D; margin-bottom: 0px;\">4cbd3232</p>\n",
       "        <table style=\"width: 100%; text-align: left;\">\n",
       "            <tr>\n",
       "                <td style=\"text-align: left;\">\n",
       "                    <strong>Dashboard:</strong> <a href=\"http://127.0.0.1:8787/status\" target=\"_blank\">http://127.0.0.1:8787/status</a>\n",
       "                </td>\n",
       "                <td style=\"text-align: left;\">\n",
       "                    <strong>Workers:</strong> 1\n",
       "                </td>\n",
       "            </tr>\n",
       "            <tr>\n",
       "                <td style=\"text-align: left;\">\n",
       "                    <strong>Total threads:</strong> 4\n",
       "                </td>\n",
       "                <td style=\"text-align: left;\">\n",
       "                    <strong>Total memory:</strong> 30.00 GiB\n",
       "                </td>\n",
       "            </tr>\n",
       "            \n",
       "            <tr>\n",
       "    <td style=\"text-align: left;\"><strong>Status:</strong> running</td>\n",
       "    <td style=\"text-align: left;\"><strong>Using processes:</strong> True</td>\n",
       "</tr>\n",
       "\n",
       "            \n",
       "        </table>\n",
       "\n",
       "        <details>\n",
       "            <summary style=\"margin-bottom: 20px;\">\n",
       "                <h3 style=\"display: inline;\">Scheduler Info</h3>\n",
       "            </summary>\n",
       "\n",
       "            <div style=\"\">\n",
       "    <div>\n",
       "        <div style=\"width: 24px; height: 24px; background-color: #FFF7E5; border: 3px solid #FF6132; border-radius: 5px; position: absolute;\"> </div>\n",
       "        <div style=\"margin-left: 48px;\">\n",
       "            <h3 style=\"margin-bottom: 0px;\">Scheduler</h3>\n",
       "            <p style=\"color: #9D9D9D; margin-bottom: 0px;\">Scheduler-4da0a10b-84f5-4f99-b22e-ae2004f34315</p>\n",
       "            <table style=\"width: 100%; text-align: left;\">\n",
       "                <tr>\n",
       "                    <td style=\"text-align: left;\">\n",
       "                        <strong>Comm:</strong> tcp://127.0.0.1:44005\n",
       "                    </td>\n",
       "                    <td style=\"text-align: left;\">\n",
       "                        <strong>Workers:</strong> 1\n",
       "                    </td>\n",
       "                </tr>\n",
       "                <tr>\n",
       "                    <td style=\"text-align: left;\">\n",
       "                        <strong>Dashboard:</strong> <a href=\"http://127.0.0.1:8787/status\" target=\"_blank\">http://127.0.0.1:8787/status</a>\n",
       "                    </td>\n",
       "                    <td style=\"text-align: left;\">\n",
       "                        <strong>Total threads:</strong> 4\n",
       "                    </td>\n",
       "                </tr>\n",
       "                <tr>\n",
       "                    <td style=\"text-align: left;\">\n",
       "                        <strong>Started:</strong> Just now\n",
       "                    </td>\n",
       "                    <td style=\"text-align: left;\">\n",
       "                        <strong>Total memory:</strong> 30.00 GiB\n",
       "                    </td>\n",
       "                </tr>\n",
       "            </table>\n",
       "        </div>\n",
       "    </div>\n",
       "\n",
       "    <details style=\"margin-left: 48px;\">\n",
       "        <summary style=\"margin-bottom: 20px;\">\n",
       "            <h3 style=\"display: inline;\">Workers</h3>\n",
       "        </summary>\n",
       "\n",
       "        \n",
       "        <div style=\"margin-bottom: 20px;\">\n",
       "            <div style=\"width: 24px; height: 24px; background-color: #DBF5FF; border: 3px solid #4CC9FF; border-radius: 5px; position: absolute;\"> </div>\n",
       "            <div style=\"margin-left: 48px;\">\n",
       "            <details>\n",
       "                <summary>\n",
       "                    <h4 style=\"margin-bottom: 0px; display: inline;\">Worker: 0</h4>\n",
       "                </summary>\n",
       "                <table style=\"width: 100%; text-align: left;\">\n",
       "                    <tr>\n",
       "                        <td style=\"text-align: left;\">\n",
       "                            <strong>Comm: </strong> tcp://127.0.0.1:41197\n",
       "                        </td>\n",
       "                        <td style=\"text-align: left;\">\n",
       "                            <strong>Total threads: </strong> 4\n",
       "                        </td>\n",
       "                    </tr>\n",
       "                    <tr>\n",
       "                        <td style=\"text-align: left;\">\n",
       "                            <strong>Dashboard: </strong> <a href=\"http://127.0.0.1:41959/status\" target=\"_blank\">http://127.0.0.1:41959/status</a>\n",
       "                        </td>\n",
       "                        <td style=\"text-align: left;\">\n",
       "                            <strong>Memory: </strong> 30.00 GiB\n",
       "                        </td>\n",
       "                    </tr>\n",
       "                    <tr>\n",
       "                        <td style=\"text-align: left;\">\n",
       "                            <strong>Nanny: </strong> tcp://127.0.0.1:40991\n",
       "                        </td>\n",
       "                        <td style=\"text-align: left;\"></td>\n",
       "                    </tr>\n",
       "                    <tr>\n",
       "                        <td colspan=\"2\" style=\"text-align: left;\">\n",
       "                            <strong>Local directory: </strong> /tmp/dask-scratch-space/worker-wqtsjefc\n",
       "                        </td>\n",
       "                    </tr>\n",
       "\n",
       "                    \n",
       "\n",
       "                    \n",
       "\n",
       "                </table>\n",
       "            </details>\n",
       "            </div>\n",
       "        </div>\n",
       "        \n",
       "\n",
       "    </details>\n",
       "</div>\n",
       "\n",
       "        </details>\n",
       "    </div>\n",
       "</div>\n",
       "            </details>\n",
       "        \n",
       "\n",
       "    </div>\n",
       "</div>"
      ],
      "text/plain": [
       "<Client: 'tcp://127.0.0.1:44005' processes=1 threads=4, memory=30.00 GiB>"
      ]
     },
     "execution_count": 15,
     "metadata": {},
     "output_type": "execute_result"
    }
   ],
   "source": [
    "client"
   ]
  },
  {
   "cell_type": "code",
   "execution_count": 16,
   "id": "0e2ce2f5",
   "metadata": {
    "_kg_hide-input": true,
    "_kg_hide-output": true,
    "execution": {
     "iopub.execute_input": "2024-05-31T07:08:03.284774Z",
     "iopub.status.busy": "2024-05-31T07:08:03.283898Z",
     "iopub.status.idle": "2024-05-31T07:08:03.289323Z",
     "shell.execute_reply": "2024-05-31T07:08:03.288215Z"
    },
    "metadata": {},
    "papermill": {
     "duration": 0.055974,
     "end_time": "2024-05-31T07:08:03.291794",
     "exception": false,
     "start_time": "2024-05-31T07:08:03.235820",
     "status": "completed"
    },
    "tags": []
   },
   "outputs": [],
   "source": [
    "from datetime import timedelta\n",
    "import time\n",
    "import pickle"
   ]
  },
  {
   "cell_type": "code",
   "execution_count": 17,
   "id": "dc585a86",
   "metadata": {
    "_kg_hide-input": true,
    "_kg_hide-output": true,
    "execution": {
     "iopub.execute_input": "2024-05-31T07:08:03.387258Z",
     "iopub.status.busy": "2024-05-31T07:08:03.386828Z",
     "iopub.status.idle": "2024-05-31T07:08:03.432642Z",
     "shell.execute_reply": "2024-05-31T07:08:03.431445Z"
    },
    "metadata": {},
    "papermill": {
     "duration": 0.096427,
     "end_time": "2024-05-31T07:08:03.435525",
     "exception": false,
     "start_time": "2024-05-31T07:08:03.339098",
     "status": "completed"
    },
    "scrolled": true,
    "tags": []
   },
   "outputs": [
    {
     "name": "stdout",
     "output_type": "stream",
     "text": [
      "/kaggle/input/home-credit-credit-risk-model-stability/sample_submission.csv\n",
      "/kaggle/input/home-credit-credit-risk-model-stability/feature_definitions.csv\n",
      "/kaggle/input/home-credit-credit-risk-model-stability/parquet_files/test/test_deposit_1.parquet\n",
      "/kaggle/input/home-credit-credit-risk-model-stability/parquet_files/test/test_applprev_2.parquet\n",
      "/kaggle/input/home-credit-credit-risk-model-stability/parquet_files/test/test_static_cb_0.parquet\n",
      "/kaggle/input/home-credit-credit-risk-model-stability/parquet_files/test/test_static_0_0.parquet\n",
      "/kaggle/input/home-credit-credit-risk-model-stability/parquet_files/test/test_credit_bureau_a_1_3.parquet\n",
      "/kaggle/input/home-credit-credit-risk-model-stability/parquet_files/test/test_credit_bureau_a_1_2.parquet\n",
      "/kaggle/input/home-credit-credit-risk-model-stability/parquet_files/test/test_tax_registry_b_1.parquet\n",
      "/kaggle/input/home-credit-credit-risk-model-stability/parquet_files/test/test_static_0_2.parquet\n",
      "/kaggle/input/home-credit-credit-risk-model-stability/parquet_files/test/test_credit_bureau_a_2_3.parquet\n",
      "/kaggle/input/home-credit-credit-risk-model-stability/parquet_files/test/test_credit_bureau_a_2_9.parquet\n",
      "/kaggle/input/home-credit-credit-risk-model-stability/parquet_files/test/test_debitcard_1.parquet\n",
      "/kaggle/input/home-credit-credit-risk-model-stability/parquet_files/test/test_credit_bureau_a_1_1.parquet\n",
      "/kaggle/input/home-credit-credit-risk-model-stability/parquet_files/test/test_credit_bureau_a_2_2.parquet\n",
      "/kaggle/input/home-credit-credit-risk-model-stability/parquet_files/test/test_credit_bureau_a_2_11.parquet\n",
      "/kaggle/input/home-credit-credit-risk-model-stability/parquet_files/test/test_applprev_1_2.parquet\n",
      "/kaggle/input/home-credit-credit-risk-model-stability/parquet_files/test/test_credit_bureau_a_2_1.parquet\n",
      "/kaggle/input/home-credit-credit-risk-model-stability/parquet_files/test/test_credit_bureau_a_1_4.parquet\n",
      "/kaggle/input/home-credit-credit-risk-model-stability/parquet_files/test/test_tax_registry_c_1.parquet\n",
      "/kaggle/input/home-credit-credit-risk-model-stability/parquet_files/test/test_applprev_1_0.parquet\n",
      "/kaggle/input/home-credit-credit-risk-model-stability/parquet_files/test/test_tax_registry_a_1.parquet\n",
      "/kaggle/input/home-credit-credit-risk-model-stability/parquet_files/test/test_credit_bureau_a_2_6.parquet\n",
      "/kaggle/input/home-credit-credit-risk-model-stability/parquet_files/test/test_credit_bureau_a_2_5.parquet\n",
      "/kaggle/input/home-credit-credit-risk-model-stability/parquet_files/test/test_credit_bureau_b_1.parquet\n",
      "/kaggle/input/home-credit-credit-risk-model-stability/parquet_files/test/test_other_1.parquet\n",
      "/kaggle/input/home-credit-credit-risk-model-stability/parquet_files/test/test_static_0_1.parquet\n",
      "/kaggle/input/home-credit-credit-risk-model-stability/parquet_files/test/test_credit_bureau_a_2_0.parquet\n",
      "/kaggle/input/home-credit-credit-risk-model-stability/parquet_files/test/test_applprev_1_1.parquet\n",
      "/kaggle/input/home-credit-credit-risk-model-stability/parquet_files/test/test_base.parquet\n",
      "/kaggle/input/home-credit-credit-risk-model-stability/parquet_files/test/test_person_1.parquet\n",
      "/kaggle/input/home-credit-credit-risk-model-stability/parquet_files/test/test_credit_bureau_a_2_7.parquet\n",
      "/kaggle/input/home-credit-credit-risk-model-stability/parquet_files/test/test_credit_bureau_a_2_10.parquet\n",
      "/kaggle/input/home-credit-credit-risk-model-stability/parquet_files/test/test_credit_bureau_b_2.parquet\n",
      "/kaggle/input/home-credit-credit-risk-model-stability/parquet_files/test/test_credit_bureau_a_2_8.parquet\n",
      "/kaggle/input/home-credit-credit-risk-model-stability/parquet_files/test/test_credit_bureau_a_1_0.parquet\n",
      "/kaggle/input/home-credit-credit-risk-model-stability/parquet_files/test/test_credit_bureau_a_2_4.parquet\n",
      "/kaggle/input/home-credit-credit-risk-model-stability/parquet_files/test/test_person_2.parquet\n",
      "/kaggle/input/home-credit-credit-risk-model-stability/parquet_files/train/train_tax_registry_c_1.parquet\n",
      "/kaggle/input/home-credit-credit-risk-model-stability/parquet_files/train/train_static_0_0.parquet\n",
      "/kaggle/input/home-credit-credit-risk-model-stability/parquet_files/train/train_credit_bureau_a_1_3.parquet\n",
      "/kaggle/input/home-credit-credit-risk-model-stability/parquet_files/train/train_credit_bureau_b_2.parquet\n",
      "/kaggle/input/home-credit-credit-risk-model-stability/parquet_files/train/train_applprev_1_1.parquet\n",
      "/kaggle/input/home-credit-credit-risk-model-stability/parquet_files/train/train_static_cb_0.parquet\n",
      "/kaggle/input/home-credit-credit-risk-model-stability/parquet_files/train/train_other_1.parquet\n",
      "/kaggle/input/home-credit-credit-risk-model-stability/parquet_files/train/train_credit_bureau_a_2_6.parquet\n",
      "/kaggle/input/home-credit-credit-risk-model-stability/parquet_files/train/train_tax_registry_a_1.parquet\n",
      "/kaggle/input/home-credit-credit-risk-model-stability/parquet_files/train/train_tax_registry_b_1.parquet\n",
      "/kaggle/input/home-credit-credit-risk-model-stability/parquet_files/train/train_credit_bureau_a_2_1.parquet\n",
      "/kaggle/input/home-credit-credit-risk-model-stability/parquet_files/train/train_person_1.parquet\n",
      "/kaggle/input/home-credit-credit-risk-model-stability/parquet_files/train/train_person_2.parquet\n",
      "/kaggle/input/home-credit-credit-risk-model-stability/parquet_files/train/train_credit_bureau_b_1.parquet\n",
      "/kaggle/input/home-credit-credit-risk-model-stability/parquet_files/train/train_credit_bureau_a_2_0.parquet\n",
      "/kaggle/input/home-credit-credit-risk-model-stability/parquet_files/train/train_credit_bureau_a_2_7.parquet\n",
      "/kaggle/input/home-credit-credit-risk-model-stability/parquet_files/train/train_deposit_1.parquet\n",
      "/kaggle/input/home-credit-credit-risk-model-stability/parquet_files/train/train_debitcard_1.parquet\n",
      "/kaggle/input/home-credit-credit-risk-model-stability/parquet_files/train/train_credit_bureau_a_2_5.parquet\n",
      "/kaggle/input/home-credit-credit-risk-model-stability/parquet_files/train/train_credit_bureau_a_2_2.parquet\n",
      "/kaggle/input/home-credit-credit-risk-model-stability/parquet_files/train/train_credit_bureau_a_2_4.parquet\n",
      "/kaggle/input/home-credit-credit-risk-model-stability/parquet_files/train/train_base.parquet\n",
      "/kaggle/input/home-credit-credit-risk-model-stability/parquet_files/train/train_credit_bureau_a_2_9.parquet\n",
      "/kaggle/input/home-credit-credit-risk-model-stability/parquet_files/train/train_credit_bureau_a_2_3.parquet\n",
      "/kaggle/input/home-credit-credit-risk-model-stability/parquet_files/train/train_applprev_2.parquet\n",
      "/kaggle/input/home-credit-credit-risk-model-stability/parquet_files/train/train_credit_bureau_a_2_10.parquet\n",
      "/kaggle/input/home-credit-credit-risk-model-stability/parquet_files/train/train_credit_bureau_a_2_8.parquet\n",
      "/kaggle/input/home-credit-credit-risk-model-stability/parquet_files/train/train_credit_bureau_a_1_2.parquet\n",
      "/kaggle/input/home-credit-credit-risk-model-stability/parquet_files/train/train_static_0_1.parquet\n",
      "/kaggle/input/home-credit-credit-risk-model-stability/parquet_files/train/train_credit_bureau_a_1_0.parquet\n",
      "/kaggle/input/home-credit-credit-risk-model-stability/parquet_files/train/train_credit_bureau_a_1_1.parquet\n",
      "/kaggle/input/home-credit-credit-risk-model-stability/parquet_files/train/train_applprev_1_0.parquet\n",
      "/kaggle/input/home-credit-credit-risk-model-stability/csv_files/test/test_credit_bureau_a_2_6.csv\n",
      "/kaggle/input/home-credit-credit-risk-model-stability/csv_files/test/test_credit_bureau_a_2_11.csv\n",
      "/kaggle/input/home-credit-credit-risk-model-stability/csv_files/test/test_credit_bureau_a_2_0.csv\n",
      "/kaggle/input/home-credit-credit-risk-model-stability/csv_files/test/test_credit_bureau_a_2_9.csv\n",
      "/kaggle/input/home-credit-credit-risk-model-stability/csv_files/test/test_base.csv\n",
      "/kaggle/input/home-credit-credit-risk-model-stability/csv_files/test/test_credit_bureau_a_1_1.csv\n",
      "/kaggle/input/home-credit-credit-risk-model-stability/csv_files/test/test_credit_bureau_b_2.csv\n",
      "/kaggle/input/home-credit-credit-risk-model-stability/csv_files/test/test_credit_bureau_a_2_10.csv\n",
      "/kaggle/input/home-credit-credit-risk-model-stability/csv_files/test/test_credit_bureau_a_2_4.csv\n",
      "/kaggle/input/home-credit-credit-risk-model-stability/csv_files/test/test_static_0_0.csv\n",
      "/kaggle/input/home-credit-credit-risk-model-stability/csv_files/test/test_static_cb_0.csv\n",
      "/kaggle/input/home-credit-credit-risk-model-stability/csv_files/test/test_credit_bureau_a_2_2.csv\n",
      "/kaggle/input/home-credit-credit-risk-model-stability/csv_files/test/test_credit_bureau_b_1.csv\n",
      "/kaggle/input/home-credit-credit-risk-model-stability/csv_files/test/test_tax_registry_b_1.csv\n",
      "/kaggle/input/home-credit-credit-risk-model-stability/csv_files/test/test_person_2.csv\n",
      "/kaggle/input/home-credit-credit-risk-model-stability/csv_files/test/test_person_1.csv\n",
      "/kaggle/input/home-credit-credit-risk-model-stability/csv_files/test/test_credit_bureau_a_2_8.csv\n",
      "/kaggle/input/home-credit-credit-risk-model-stability/csv_files/test/test_applprev_1_2.csv\n",
      "/kaggle/input/home-credit-credit-risk-model-stability/csv_files/test/test_applprev_1_1.csv\n",
      "/kaggle/input/home-credit-credit-risk-model-stability/csv_files/test/test_credit_bureau_a_1_0.csv\n",
      "/kaggle/input/home-credit-credit-risk-model-stability/csv_files/test/test_applprev_2.csv\n",
      "/kaggle/input/home-credit-credit-risk-model-stability/csv_files/test/test_credit_bureau_a_2_7.csv\n",
      "/kaggle/input/home-credit-credit-risk-model-stability/csv_files/test/test_other_1.csv\n",
      "/kaggle/input/home-credit-credit-risk-model-stability/csv_files/test/test_tax_registry_c_1.csv\n",
      "/kaggle/input/home-credit-credit-risk-model-stability/csv_files/test/test_credit_bureau_a_1_3.csv\n",
      "/kaggle/input/home-credit-credit-risk-model-stability/csv_files/test/test_static_0_2.csv\n",
      "/kaggle/input/home-credit-credit-risk-model-stability/csv_files/test/test_credit_bureau_a_2_5.csv\n",
      "/kaggle/input/home-credit-credit-risk-model-stability/csv_files/test/test_credit_bureau_a_1_2.csv\n",
      "/kaggle/input/home-credit-credit-risk-model-stability/csv_files/test/test_debitcard_1.csv\n",
      "/kaggle/input/home-credit-credit-risk-model-stability/csv_files/test/test_credit_bureau_a_1_4.csv\n",
      "/kaggle/input/home-credit-credit-risk-model-stability/csv_files/test/test_deposit_1.csv\n",
      "/kaggle/input/home-credit-credit-risk-model-stability/csv_files/test/test_static_0_1.csv\n",
      "/kaggle/input/home-credit-credit-risk-model-stability/csv_files/test/test_credit_bureau_a_2_1.csv\n",
      "/kaggle/input/home-credit-credit-risk-model-stability/csv_files/test/test_applprev_1_0.csv\n",
      "/kaggle/input/home-credit-credit-risk-model-stability/csv_files/test/test_tax_registry_a_1.csv\n",
      "/kaggle/input/home-credit-credit-risk-model-stability/csv_files/test/test_credit_bureau_a_2_3.csv\n",
      "/kaggle/input/home-credit-credit-risk-model-stability/csv_files/train/train_credit_bureau_a_1_3.csv\n",
      "/kaggle/input/home-credit-credit-risk-model-stability/csv_files/train/train_static_cb_0.csv\n",
      "/kaggle/input/home-credit-credit-risk-model-stability/csv_files/train/train_applprev_1_0.csv\n",
      "/kaggle/input/home-credit-credit-risk-model-stability/csv_files/train/train_person_2.csv\n",
      "/kaggle/input/home-credit-credit-risk-model-stability/csv_files/train/train_base.csv\n",
      "/kaggle/input/home-credit-credit-risk-model-stability/csv_files/train/train_tax_registry_a_1.csv\n",
      "/kaggle/input/home-credit-credit-risk-model-stability/csv_files/train/train_static_0_0.csv\n",
      "/kaggle/input/home-credit-credit-risk-model-stability/csv_files/train/train_credit_bureau_a_1_0.csv\n",
      "/kaggle/input/home-credit-credit-risk-model-stability/csv_files/train/train_applprev_2.csv\n",
      "/kaggle/input/home-credit-credit-risk-model-stability/csv_files/train/train_credit_bureau_a_2_6.csv\n",
      "/kaggle/input/home-credit-credit-risk-model-stability/csv_files/train/train_credit_bureau_a_1_2.csv\n",
      "/kaggle/input/home-credit-credit-risk-model-stability/csv_files/train/train_person_1.csv\n",
      "/kaggle/input/home-credit-credit-risk-model-stability/csv_files/train/train_credit_bureau_a_1_1.csv\n",
      "/kaggle/input/home-credit-credit-risk-model-stability/csv_files/train/train_tax_registry_c_1.csv\n",
      "/kaggle/input/home-credit-credit-risk-model-stability/csv_files/train/train_credit_bureau_a_2_4.csv\n",
      "/kaggle/input/home-credit-credit-risk-model-stability/csv_files/train/train_credit_bureau_a_2_9.csv\n",
      "/kaggle/input/home-credit-credit-risk-model-stability/csv_files/train/train_credit_bureau_a_2_3.csv\n",
      "/kaggle/input/home-credit-credit-risk-model-stability/csv_files/train/train_credit_bureau_a_2_7.csv\n",
      "/kaggle/input/home-credit-credit-risk-model-stability/csv_files/train/train_credit_bureau_b_2.csv\n",
      "/kaggle/input/home-credit-credit-risk-model-stability/csv_files/train/train_credit_bureau_a_2_2.csv\n",
      "/kaggle/input/home-credit-credit-risk-model-stability/csv_files/train/train_static_0_1.csv\n",
      "/kaggle/input/home-credit-credit-risk-model-stability/csv_files/train/train_deposit_1.csv\n",
      "/kaggle/input/home-credit-credit-risk-model-stability/csv_files/train/train_credit_bureau_a_2_10.csv\n",
      "/kaggle/input/home-credit-credit-risk-model-stability/csv_files/train/train_tax_registry_b_1.csv\n",
      "/kaggle/input/home-credit-credit-risk-model-stability/csv_files/train/train_applprev_1_1.csv\n",
      "/kaggle/input/home-credit-credit-risk-model-stability/csv_files/train/train_credit_bureau_a_2_1.csv\n",
      "/kaggle/input/home-credit-credit-risk-model-stability/csv_files/train/train_credit_bureau_a_2_8.csv\n",
      "/kaggle/input/home-credit-credit-risk-model-stability/csv_files/train/train_credit_bureau_a_2_5.csv\n",
      "/kaggle/input/home-credit-credit-risk-model-stability/csv_files/train/train_credit_bureau_b_1.csv\n",
      "/kaggle/input/home-credit-credit-risk-model-stability/csv_files/train/train_credit_bureau_a_2_0.csv\n",
      "/kaggle/input/home-credit-credit-risk-model-stability/csv_files/train/train_other_1.csv\n",
      "/kaggle/input/home-credit-credit-risk-model-stability/csv_files/train/train_debitcard_1.csv\n"
     ]
    }
   ],
   "source": [
    "for dirname, _, filenames in os.walk(G.data_dir):\n",
    "    for filename in filenames:\n",
    "        print(os.path.join(dirname, filename))"
   ]
  },
  {
   "cell_type": "markdown",
   "id": "238d1b37",
   "metadata": {
    "papermill": {
     "duration": 0.045777,
     "end_time": "2024-05-31T07:08:03.527726",
     "exception": false,
     "start_time": "2024-05-31T07:08:03.481949",
     "status": "completed"
    },
    "tags": []
   },
   "source": [
    "# Data Processing Pipeline"
   ]
  },
  {
   "cell_type": "code",
   "execution_count": 18,
   "id": "67620581",
   "metadata": {
    "execution": {
     "iopub.execute_input": "2024-05-31T07:08:03.621356Z",
     "iopub.status.busy": "2024-05-31T07:08:03.620954Z",
     "iopub.status.idle": "2024-05-31T07:08:03.629257Z",
     "shell.execute_reply": "2024-05-31T07:08:03.628000Z"
    },
    "metadata": {},
    "papermill": {
     "duration": 0.057887,
     "end_time": "2024-05-31T07:08:03.631637",
     "exception": false,
     "start_time": "2024-05-31T07:08:03.573750",
     "status": "completed"
    },
    "tags": []
   },
   "outputs": [],
   "source": [
    "class ReadFiles:\n",
    "    \"\"\"Reads dataframes from source files.\n",
    "    Perform a preliminary cleaning for structurally redundant columns.\n",
    "    Optimizes dtypes and returns as pandas dataframe for further processing\"\"\"\n",
    "    def __init__(self):\n",
    "        self.internal_file_names_d0=[\"base\",\"static_0\"]\n",
    "        self.internal_file_names_d1=[\"applprev_1\",\"other_1\",\"deposit_1\",\"person_1\",\"debitcard_1\"]\n",
    "        self.internal_file_names_d2=[\"applprev_2\",\"person_2\"]\n",
    "        \n",
    "        self.external_file_names_d0=[\"static_cb_0\"]\n",
    "        self.external_file_names_d1=[\"tax_registry_a_1\",\"tax_registry_b_1\",\"tax_registry_c_1\",\n",
    "                                     \"credit_bureau_a_1\",\"credit_bureau_b_1\"]\n",
    "        self.external_file_names_d2=[\"credit_bureau_a_2\",\"credit_bureau_b_2\"]\n",
    "        self.special_columns=[\"case_id\",\"date_decision\",\"WEEK_NUM\",\"MONTH\",\"target\",\"num_group1\",\"num_group2\"]\n",
    "        self.dfs_types_rf={}"
   ]
  },
  {
   "cell_type": "code",
   "execution_count": 19,
   "id": "3d25e52a",
   "metadata": {
    "execution": {
     "iopub.execute_input": "2024-05-31T07:08:03.723409Z",
     "iopub.status.busy": "2024-05-31T07:08:03.722972Z",
     "iopub.status.idle": "2024-05-31T07:08:03.728761Z",
     "shell.execute_reply": "2024-05-31T07:08:03.727410Z"
    },
    "metadata": {},
    "papermill": {
     "duration": 0.055009,
     "end_time": "2024-05-31T07:08:03.731330",
     "exception": false,
     "start_time": "2024-05-31T07:08:03.676321",
     "status": "completed"
    },
    "tags": []
   },
   "outputs": [],
   "source": [
    "def try_dt_conv(x):\n",
    "    x=x.copy()\n",
    "    return pd.to_datetime(x, errors='ignore')"
   ]
  },
  {
   "cell_type": "code",
   "execution_count": 20,
   "id": "a40f3d42",
   "metadata": {
    "execution": {
     "iopub.execute_input": "2024-05-31T07:08:03.824445Z",
     "iopub.status.busy": "2024-05-31T07:08:03.824027Z",
     "iopub.status.idle": "2024-05-31T07:08:03.833620Z",
     "shell.execute_reply": "2024-05-31T07:08:03.832394Z"
    },
    "metadata": {},
    "papermill": {
     "duration": 0.059251,
     "end_time": "2024-05-31T07:08:03.836148",
     "exception": false,
     "start_time": "2024-05-31T07:08:03.776897",
     "status": "completed"
    },
    "tags": []
   },
   "outputs": [],
   "source": [
    "def detect_datetime_cols(self, df, dftype=\"dask\"):\n",
    "    if dftype==\"dask\":\n",
    "        df=df.sample(frac=0.15, replace=False, random_state=0).compute()\n",
    "    else:\n",
    "        df=df.sample(frac=0.15, replace=False, random_state=0)\n",
    "    date_time_cols=df.select_dtypes([\"object\", \"string\", \"category\"]).apply(try_dt_conv,\n",
    "                                              axis=0).select_dtypes(np.datetime64).columns.tolist()\n",
    "\n",
    "    return date_time_cols\n",
    "ReadFiles.detect_datetime_cols=detect_datetime_cols"
   ]
  },
  {
   "cell_type": "code",
   "execution_count": 21,
   "id": "9acd3694",
   "metadata": {
    "execution": {
     "iopub.execute_input": "2024-05-31T07:08:03.928822Z",
     "iopub.status.busy": "2024-05-31T07:08:03.928420Z",
     "iopub.status.idle": "2024-05-31T07:08:03.936053Z",
     "shell.execute_reply": "2024-05-31T07:08:03.934948Z"
    },
    "metadata": {},
    "papermill": {
     "duration": 0.057054,
     "end_time": "2024-05-31T07:08:03.938581",
     "exception": false,
     "start_time": "2024-05-31T07:08:03.881527",
     "status": "completed"
    },
    "tags": []
   },
   "outputs": [],
   "source": [
    "def select_cat_cols(self,df, dftype=\"dask\"):\n",
    "    \n",
    "    cat_cols= df.select_dtypes(include=[\"object\", \"string\",\"category\"]).columns.to_list()\n",
    "    \n",
    "    date_cols_undetected=self.detect_datetime_cols(df, dftype)\n",
    "    date_cols_detected=df.select_dtypes(include=[\"datetime64[ns]\"]).columns.to_list()\n",
    "    date_cols=date_cols_undetected+date_cols_detected\n",
    "    \n",
    "    cat_cols=[col for col in cat_cols if col not in date_cols]\n",
    "    \n",
    "    return cat_cols\n",
    "ReadFiles.select_cat_cols=select_cat_cols"
   ]
  },
  {
   "cell_type": "code",
   "execution_count": 22,
   "id": "28fb8b3d",
   "metadata": {
    "execution": {
     "iopub.execute_input": "2024-05-31T07:08:04.034368Z",
     "iopub.status.busy": "2024-05-31T07:08:04.033795Z",
     "iopub.status.idle": "2024-05-31T07:08:04.040134Z",
     "shell.execute_reply": "2024-05-31T07:08:04.039039Z"
    },
    "metadata": {},
    "papermill": {
     "duration": 0.056764,
     "end_time": "2024-05-31T07:08:04.042508",
     "exception": false,
     "start_time": "2024-05-31T07:08:03.985744",
     "status": "completed"
    },
    "tags": []
   },
   "outputs": [],
   "source": [
    "def check_numeric(self, series):\n",
    "    try:\n",
    "        pd.to_numeric(series, errors='raise')\n",
    "        return True\n",
    "    except:\n",
    "        return False\n",
    "ReadFiles.check_numeric=check_numeric"
   ]
  },
  {
   "cell_type": "code",
   "execution_count": 23,
   "id": "e65196ee",
   "metadata": {
    "execution": {
     "iopub.execute_input": "2024-05-31T07:08:04.137324Z",
     "iopub.status.busy": "2024-05-31T07:08:04.136835Z",
     "iopub.status.idle": "2024-05-31T07:08:04.157238Z",
     "shell.execute_reply": "2024-05-31T07:08:04.156044Z"
    },
    "metadata": {},
    "papermill": {
     "duration": 0.071096,
     "end_time": "2024-05-31T07:08:04.159732",
     "exception": false,
     "start_time": "2024-05-31T07:08:04.088636",
     "status": "completed"
    },
    "tags": []
   },
   "outputs": [],
   "source": [
    "#altered from original source @ https://www.kaggle.com/code/arjanso/reducing-dataframe-memory-size-by-65\n",
    "def reduce_mem_usage(self, df, verbose=True):\n",
    "    # if verbose:\n",
    "    #     start_mem_usg = round(df.memory_usage().sum().compute() / 1024**2,2) \n",
    "    #     print(\"Memory usage of dataframe is :\",start_mem_usg,\" MB\")\n",
    "    date_cols_origin=df.select_dtypes(\"datetime64[ns]\").columns.tolist()\n",
    "    date_cols_detected=self.detect_datetime_cols(df)\n",
    "    convert_undetected_date_dict={col:\"datetime64[ns]\" for col in date_cols_detected if col not in date_cols_origin}\n",
    "    if len(convert_undetected_date_dict.keys())>0:\n",
    "        df=df.astype(convert_undetected_date_dict)\n",
    "    cat_cols_origin=df.select_dtypes(\"category\").columns.tolist()\n",
    "    cat_cols_detected=self.select_cat_cols(df)\n",
    "    convert_undetected_cat_dict={col:\"category\" for col in cat_cols_detected if col not in cat_cols_detected}\n",
    "    if len(convert_undetected_cat_dict)>0:\n",
    "        df=df.astype(convert_undetected_cat_dict)\n",
    "    \n",
    "    cols_to_exclude=date_cols_detected+date_cols_origin+cat_cols_origin+cat_cols_detected\n",
    "    cols_to_include=[col for col in df.columns if col not in cols_to_exclude]\n",
    "\n",
    "    if verbose:\n",
    "        print(\"converting to pandas\")\n",
    "        starttime = time.perf_counter()\n",
    "    df = df.compute()\n",
    "    client.cancel(df)\n",
    "    if verbose:\n",
    "        duration = timedelta(seconds=time.perf_counter()-starttime)\n",
    "        print(\"computation time: \", duration)\n",
    "\n",
    "    if verbose:\n",
    "        print(\"converting numercis\")\n",
    "    verified_numerics=[col for col in cols_to_include if self.check_numeric(df[col])]\n",
    "    \n",
    "    for col in verified_numerics:\n",
    "        mx = df[col].max()\n",
    "        mn = df[col].min()\n",
    "        \n",
    "        ints = ['int16', 'int32', 'int64', \"uint16\", \"uint32\", \"uint64\"]\n",
    "\n",
    "        if df[col].dtype in  ints:\n",
    "            if mn > np.iinfo(np.int8).min and mx < np.iinfo(np.int8).max:\n",
    "                df[col] = df[col].astype(pd.Int8Dtype())\n",
    "            elif mn > np.iinfo(np.int16).min and mx < np.iinfo(np.int16).max:\n",
    "                df[col] = df[col].astype(pd.Int16Dtype())\n",
    "            elif mn > np.iinfo(np.int32).min and mx < np.iinfo(np.int32).max:\n",
    "                df[col] = df[col].astype(pd.Int32Dtype())\n",
    "            elif mn > np.iinfo(np.int64).min and mx < np.iinfo(np.int64).max:\n",
    "                df[col] = df[col].astype(pd.Int64Dtype())\n",
    "        else:\n",
    "            df[col] = df[col].astype(pd.Float32Dtype())\n",
    "            \n",
    "    convert_non_verified_dict={col:\"category\" for col in cols_to_include if col not in verified_numerics}\n",
    "    if len(convert_non_verified_dict.keys())>0:\n",
    "        df=df.astype(convert_non_verified_dict)\n",
    "        \n",
    "    # Print final result\n",
    "    # if verbose:\n",
    "    #     mem_usg = round(df.memory_usage().sum()/ 1024**2,2) \n",
    "    #     print(f\"Memory usage after completion is: {mem_usg} MB. This is {round(100*mem_usg/start_mem_usg,0)} % of the initial size\")\n",
    "    return df\n",
    "ReadFiles.reduce_mem_usage=reduce_mem_usage"
   ]
  },
  {
   "cell_type": "code",
   "execution_count": 24,
   "id": "4529721a",
   "metadata": {
    "execution": {
     "iopub.execute_input": "2024-05-31T07:08:04.253885Z",
     "iopub.status.busy": "2024-05-31T07:08:04.253478Z",
     "iopub.status.idle": "2024-05-31T07:08:04.265411Z",
     "shell.execute_reply": "2024-05-31T07:08:04.264265Z"
    },
    "metadata": {},
    "papermill": {
     "duration": 0.062299,
     "end_time": "2024-05-31T07:08:04.267899",
     "exception": false,
     "start_time": "2024-05-31T07:08:04.205600",
     "status": "completed"
    },
    "tags": []
   },
   "outputs": [],
   "source": [
    "def fix_booleans(self, df, dt_dict):\n",
    "    for key, val in dt_dict.items():\n",
    "        if val==\"Float32\":\n",
    "            uniques_in_col=list(df[key].unique())\n",
    "            uniques_in_col=[x for x in uniques_in_col if pd.notnull(x)]\n",
    "            if  (uniques_in_col == [\"True\", \"False\"]) or (uniques_in_col == [\"False\",\"True\"]):\n",
    "                df[key]=np.where(df[key]==\"True\", 1.0, \n",
    "                                np.where(df[key]==\"False\",0.0, np.nan))\n",
    "                df[key]=df[key].replace(\".\",np.nan)\n",
    "            elif (uniques_in_col == [True, False]) or (uniques_in_col == [False, True]):\n",
    "                df[key]=df[key].astype(\"object\")\n",
    "                df[key]=np.where(df[key]==True, 1.0, \n",
    "                                np.where(df[key]==False, 0.0, np.nan))\n",
    "    df=df.astype(dt_dict)\n",
    "    return df\n",
    "ReadFiles.fix_booleans=fix_booleans"
   ]
  },
  {
   "cell_type": "code",
   "execution_count": 25,
   "id": "9e49ba57",
   "metadata": {
    "execution": {
     "iopub.execute_input": "2024-05-31T07:08:04.362458Z",
     "iopub.status.busy": "2024-05-31T07:08:04.362051Z",
     "iopub.status.idle": "2024-05-31T07:08:04.371856Z",
     "shell.execute_reply": "2024-05-31T07:08:04.370724Z"
    },
    "metadata": {},
    "papermill": {
     "duration": 0.061111,
     "end_time": "2024-05-31T07:08:04.374778",
     "exception": false,
     "start_time": "2024-05-31T07:08:04.313667",
     "status": "completed"
    },
    "tags": []
   },
   "outputs": [],
   "source": [
    "def get_folder_source_tar(self, location, source, ftype,test_type, pno, verbose=True):\n",
    "    \n",
    "    if G.ENV==\"kaggle\":\n",
    "        #path to input docs kaggle\n",
    "        cwd=\"/kaggle/input/home-credit-credit-risk-model-stability\"\n",
    "    else:\n",
    "        #cwd local\n",
    "        cwd=G.working_dir\n",
    "        \n",
    "    if pno==\"p1\":\n",
    "        location=location.replace(cwd,\"\")\n",
    "    \n",
    "    path = cwd+location\n",
    "    if pno==\"p1\" and G.ENV==\"kaggle\":\n",
    "        path=location\n",
    "    if test_type==\"submission_test\":\n",
    "        path=cwd+location\n",
    "    if verbose:\n",
    "        print(f\"printing path to directory for reading files: {path}\")\n",
    "    folder = glob.glob(os.path.join(path, \"*.parquet\"))\n",
    "    source_targets=[ftype+\"_\"+filename for filename in source]\n",
    "    return folder, source_targets\n",
    "ReadFiles.get_folder_source_tar=get_folder_source_tar"
   ]
  },
  {
   "cell_type": "code",
   "execution_count": 26,
   "id": "1fde0cb8",
   "metadata": {
    "execution": {
     "iopub.execute_input": "2024-05-31T07:08:04.471877Z",
     "iopub.status.busy": "2024-05-31T07:08:04.471440Z",
     "iopub.status.idle": "2024-05-31T07:08:04.499484Z",
     "shell.execute_reply": "2024-05-31T07:08:04.498486Z"
    },
    "metadata": {},
    "papermill": {
     "duration": 0.080919,
     "end_time": "2024-05-31T07:08:04.502281",
     "exception": false,
     "start_time": "2024-05-31T07:08:04.421362",
     "status": "completed"
    },
    "tags": []
   },
   "outputs": [],
   "source": [
    "def read_files(self, location, source, ftype, test_type, verbose=True):\n",
    "    dfs={}\n",
    "    folder, source_targets=self.get_folder_source_tar(location=location, source=source,pno=\"p1\", ftype=ftype,test_type=test_type, verbose=verbose)\n",
    "    if verbose:\n",
    "        print(\"*\"*33+ftype+\" \"+\"files\"+\"*\"*33)\n",
    "    for filename in folder:\n",
    "        # read the csv file\n",
    "        for source_target_name in source_targets:\n",
    "            if filename.split(\"/\")[-1].startswith(source_target_name):\n",
    "                if verbose:\n",
    "                    print(filename.split(\"/\")[-1].split(\".\")[0])\n",
    "                df = dd.read_parquet(filename, use_nullable_dtypes=True)\n",
    "                df = client.persist(df) \n",
    "                df = df.repartition(partition_size=\"100MB\")\n",
    "                df = df.replace([np.inf, -1*np.inf], np.nan)\n",
    "                if ftype == \"train\":\n",
    "                    if verbose:\n",
    "                        print(\"selecting date cols converting to datetime\")\n",
    "                        starttime = time.perf_counter()\n",
    "                    date_cols=self.detect_datetime_cols(df)\n",
    "                    date_cols_dict={col:'datetime64[ns]' for col in date_cols}\n",
    "                    df=df.astype(date_cols_dict)\n",
    "                    if verbose:\n",
    "                        duration = timedelta(seconds=time.perf_counter()-starttime)\n",
    "                        print(\"computation time: \", duration)\n",
    "                    if verbose:\n",
    "                        print(\"selecting cat cols converting to category\")\n",
    "                        starttime = time.perf_counter()\n",
    "                    category_columns=self.select_cat_cols(df)\n",
    "                    cat_cols_dict={col:\"category\" for col in  category_columns}\n",
    "                    df=df.astype(cat_cols_dict)\n",
    "                    if verbose:\n",
    "                        duration = timedelta(seconds=time.perf_counter()-starttime)\n",
    "                        print(\"computation time: \", duration)\n",
    "                    if verbose:\n",
    "                        print(\"reducing memory usage\")\n",
    "                        starttime = time.perf_counter()\n",
    "                    df = self.reduce_mem_usage(df, verbose=verbose)\n",
    "                    if verbose:\n",
    "                        duration = timedelta(seconds=time.perf_counter()-starttime)\n",
    "                        print(\"computation time: \", duration)\n",
    "                        # print(df.dtypes.value_counts())\n",
    "                    train_key=filename.split(\"/\")[-1].split(\".\")[0]\n",
    "                    if (train_key[:-1]==ftype+\"_applprev_1_\") or (train_key[:-1]== ftype+\"_static_0_\") or (train_key[:-1]==ftype+\"_credit_bureau_a_1_\"):\n",
    "                        train_key=train_key[:-1]\n",
    "                    self.dfs_types_rf[train_key]=df.dtypes.to_dict()\n",
    "                else:\n",
    "                    test_key=filename.split(\"/\")[-1].split(\".\")[0]\n",
    "                    if (test_key[:-1]==ftype+\"_applprev_1_\") or (test_key[:-1]== ftype+\"_static_0_\") or (test_key[:-1]==ftype+\"_credit_bureau_a_1_\"):\n",
    "                        test_key=test_key[:-1]                    \n",
    "                    corresponding_train_key=\"train\"+test_key[4:]\n",
    "                    dtypes_dict=self.dfs_types_rf[corresponding_train_key].copy()\n",
    "                    if test_key == \"test_base\":\n",
    "                        if verbose:\n",
    "                            print(f\"printing test_type {test_type}\")\n",
    "                        if test_type==\"submission_test\":\n",
    "                            del dtypes_dict[\"target\"]\n",
    "                            collect()\n",
    "                    df=df.compute()\n",
    "                    client.cancel(df)\n",
    "                    train_date_infered=[key for key, val in dtypes_dict.items() if val == \"datetime64[ns]\"]\n",
    "                    df[train_date_infered]=df[train_date_infered].apply(pd.to_datetime, errors=\"coerce\")\n",
    "                    if test_type==\"submission_test\":\n",
    "                        df=self.fix_booleans(df, dtypes_dict)\n",
    "                    else:\n",
    "                        df=df.astype(dtypes_dict)\n",
    "                    # if verbose:\n",
    "                    #     print(test_key)\n",
    "                    #     if test_type == \"train\":\n",
    "                    #         if test_key == \"test_base\":\n",
    "                    #             print(f\"read_files method valid-test splits NA count {df['target'].isna().sum()}\")\n",
    "                dfs[filename.split(\"/\")[-1].split(\".\")[0]]=df\n",
    "                del df \n",
    "                collect()\n",
    "    #clear_output()\n",
    "    collect()\n",
    "    return dfs\n",
    "ReadFiles.read_files=read_files"
   ]
  },
  {
   "cell_type": "code",
   "execution_count": 27,
   "id": "632fbd12",
   "metadata": {
    "execution": {
     "iopub.execute_input": "2024-05-31T07:08:04.595602Z",
     "iopub.status.busy": "2024-05-31T07:08:04.595205Z",
     "iopub.status.idle": "2024-05-31T07:08:04.603997Z",
     "shell.execute_reply": "2024-05-31T07:08:04.602580Z"
    },
    "metadata": {},
    "papermill": {
     "duration": 0.05843,
     "end_time": "2024-05-31T07:08:04.606797",
     "exception": false,
     "start_time": "2024-05-31T07:08:04.548367",
     "status": "completed"
    },
    "tags": []
   },
   "outputs": [],
   "source": [
    "def get_source(self, int_or_ex, dept):\n",
    "    if (int_or_ex == \"int\") & (dept == 0):\n",
    "        source = self.internal_file_names_d0\n",
    "    elif (int_or_ex == \"ext\") & (dept == 0):\n",
    "        source = self.external_file_names_d0\n",
    "    elif (int_or_ex == \"int\") & (dept == 1):\n",
    "        source = self.internal_file_names_d1\n",
    "    elif (int_or_ex == \"ext\") & (dept == 1):\n",
    "        source =  self.external_file_names_d1\n",
    "    elif (int_or_ex == \"int\") & (dept == 2):\n",
    "        source = self.internal_file_names_d2\n",
    "    else:\n",
    "        source = self.external_file_names_d2\n",
    "    return source\n",
    "ReadFiles.get_source=get_source"
   ]
  },
  {
   "cell_type": "code",
   "execution_count": 28,
   "id": "9b6c47b6",
   "metadata": {
    "execution": {
     "iopub.execute_input": "2024-05-31T07:08:04.700698Z",
     "iopub.status.busy": "2024-05-31T07:08:04.700269Z",
     "iopub.status.idle": "2024-05-31T07:08:04.708308Z",
     "shell.execute_reply": "2024-05-31T07:08:04.706856Z"
    },
    "metadata": {},
    "papermill": {
     "duration": 0.058309,
     "end_time": "2024-05-31T07:08:04.711180",
     "exception": false,
     "start_time": "2024-05-31T07:08:04.652871",
     "status": "completed"
    },
    "tags": []
   },
   "outputs": [],
   "source": [
    "def get_files(self, ftype, int_or_ex, depts,test_type, loca, verbose=True):\n",
    "    sources=[]\n",
    "    for dept in depts:\n",
    "        source= self.get_source(int_or_ex, dept)\n",
    "        sources+=source\n",
    "    location=os.path.join(loca,ftype)\n",
    "    if verbose:\n",
    "        print(location)\n",
    "    df_dicts=self.read_files(location,sources,ftype, test_type, verbose=verbose)\n",
    "    return df_dicts\n",
    "ReadFiles.get_files=get_files"
   ]
  },
  {
   "cell_type": "code",
   "execution_count": 29,
   "id": "e20d85b5",
   "metadata": {
    "execution": {
     "iopub.execute_input": "2024-05-31T07:08:04.807020Z",
     "iopub.status.busy": "2024-05-31T07:08:04.806585Z",
     "iopub.status.idle": "2024-05-31T07:08:04.815061Z",
     "shell.execute_reply": "2024-05-31T07:08:04.813694Z"
    },
    "metadata": {},
    "papermill": {
     "duration": 0.05959,
     "end_time": "2024-05-31T07:08:04.817436",
     "exception": false,
     "start_time": "2024-05-31T07:08:04.757846",
     "status": "completed"
    },
    "tags": []
   },
   "outputs": [],
   "source": [
    "class Create_Dataset(ReadFiles):\n",
    "    \"\"\" Takes dictionary of dataframes, aggragates and merges to single dataframe.\n",
    "    Cleans structurally redundant columns, optimizes dtypes for processing and writing to parquet. \n",
    "    When dictionary of dataframes isn't supplied at apply_processing, calls ReadFiles class to read from source.\n",
    "    Always need to process train set first to find and initialize columns to be dropped out\"\"\"\n",
    "    def __init__(self):\n",
    "        super(Create_Dataset,self).__init__()\n",
    "        self.cols_to_drop_dict={}\n",
    "        self.cols_to_drop_dict_bac={}\n",
    "        self.dtypes_train={}\n",
    "        self.dtypes_train_bac={}\n",
    "        self.train_cols=None\n",
    "        self.desired_cols_dict={}\n",
    "        self.agg_func_dict_holder={}\n",
    "        self.col_names_df_holder={}"
   ]
  },
  {
   "cell_type": "code",
   "execution_count": 30,
   "id": "68d21d5d",
   "metadata": {
    "execution": {
     "iopub.execute_input": "2024-05-31T07:08:04.910901Z",
     "iopub.status.busy": "2024-05-31T07:08:04.910486Z",
     "iopub.status.idle": "2024-05-31T07:08:04.922895Z",
     "shell.execute_reply": "2024-05-31T07:08:04.921831Z"
    },
    "metadata": {},
    "papermill": {
     "duration": 0.061673,
     "end_time": "2024-05-31T07:08:04.925405",
     "exception": false,
     "start_time": "2024-05-31T07:08:04.863732",
     "status": "completed"
    },
    "tags": []
   },
   "outputs": [],
   "source": [
    "def concat_partitioned_sources_d0_1(self,ftype, df_dict):\n",
    "    keys_list = list(df_dict.keys())\n",
    "    applprev_1_keys = []\n",
    "    static_0_keys = []\n",
    "    credit_bureau_a_1_keys = []\n",
    "    for key in keys_list:\n",
    "        if key[:-1] == ftype+\"_applprev_1_\":\n",
    "            applprev_1_keys.append(key)\n",
    "        elif key[:-1] == ftype+\"_static_0_\":\n",
    "            static_0_keys.append(key)\n",
    "        elif key[:-1] == ftype+\"_credit_bureau_a_1_\":\n",
    "            credit_bureau_a_1_keys.append(key)\n",
    "    if len(applprev_1_keys) >0:     \n",
    "        applprev_1 = pd.concat([df_dict[key] for key in applprev_1_keys], ignore_index=True)\n",
    "        df_dict[ftype+\"_applprev_1\"] = applprev_1\n",
    "    if len(static_0_keys) >0:\n",
    "        static_0 = pd.concat([df_dict[key] for key in static_0_keys], ignore_index=True)\n",
    "        df_dict[ftype+\"_static_0\"] = static_0\n",
    "    if len(credit_bureau_a_1_keys)>0:\n",
    "        credit_bureau_a_1 = pd.concat([df_dict[key] for key in credit_bureau_a_1_keys], ignore_index=True)\n",
    "        df_dict[ftype+\"_credit_bureau_a_1\"] = credit_bureau_a_1\n",
    "\n",
    "    [df_dict.pop(key) for key in applprev_1_keys+static_0_keys+credit_bureau_a_1_keys]\n",
    "    collect()\n",
    "    \n",
    "    return df_dict\n",
    "Create_Dataset.concat_partitioned_sources_d0_1 = concat_partitioned_sources_d0_1"
   ]
  },
  {
   "cell_type": "code",
   "execution_count": 31,
   "id": "fd551f1e",
   "metadata": {
    "execution": {
     "iopub.execute_input": "2024-05-31T07:08:05.021254Z",
     "iopub.status.busy": "2024-05-31T07:08:05.020826Z",
     "iopub.status.idle": "2024-05-31T07:08:05.028304Z",
     "shell.execute_reply": "2024-05-31T07:08:05.026719Z"
    },
    "metadata": {},
    "papermill": {
     "duration": 0.057541,
     "end_time": "2024-05-31T07:08:05.030688",
     "exception": false,
     "start_time": "2024-05-31T07:08:04.973147",
     "status": "completed"
    },
    "tags": []
   },
   "outputs": [],
   "source": [
    "def convert_to_dask_temp(self,df):\n",
    "    try:\n",
    "        os.remove(\"inprocess.parquet\")\n",
    "    except Exception:\n",
    "        pass\n",
    "    df.to_parquet(\"inprocess.parquet\")\n",
    "    del df\n",
    "    collect()\n",
    "    df=dd.read_parquet(\"inprocess.parquet\",engine='fastparquet')\n",
    "    #df = client.persist(df) \n",
    "    df= df.repartition(partition_size=\"100MB\")\n",
    "    return df\n",
    "Create_Dataset.convert_to_dask_temp=convert_to_dask_temp"
   ]
  },
  {
   "cell_type": "code",
   "execution_count": 32,
   "id": "acf1f2a1",
   "metadata": {
    "execution": {
     "iopub.execute_input": "2024-05-31T07:08:05.125604Z",
     "iopub.status.busy": "2024-05-31T07:08:05.125226Z",
     "iopub.status.idle": "2024-05-31T07:08:05.135619Z",
     "shell.execute_reply": "2024-05-31T07:08:05.134186Z"
    },
    "metadata": {},
    "papermill": {
     "duration": 0.061075,
     "end_time": "2024-05-31T07:08:05.138249",
     "exception": false,
     "start_time": "2024-05-31T07:08:05.077174",
     "status": "completed"
    },
    "tags": []
   },
   "outputs": [],
   "source": [
    "def remove_95_miss_cols_pp(self, df, verbose=True):\n",
    "    cols_to_drop=[]\n",
    "    cols_to_check=[col for col in df.columns if col not in self.special_columns]\n",
    "    len_df_cols=len(cols_to_check)\n",
    "    df_lenght=len(df.index)\n",
    "    df=self.convert_to_dask_temp(df)\n",
    "    df=df.replace('<NA>',np.nan)\n",
    "    miss_value_counts=df[cols_to_check].isna().sum().compute()\n",
    "    for i, col in enumerate(cols_to_check):\n",
    "        # if verbose:\n",
    "        #     print(f\" currently processing {col}, % col processed  {i/len_df_cols}\")\n",
    "        null_count= miss_value_counts.loc[col]\n",
    "        if (null_count/df_lenght) > 0.95:\n",
    "            cols_to_drop.append(col)\n",
    "            # if verbose:\n",
    "            #     print(f\"col_to_drop: {col}\")\n",
    "    if verbose:\n",
    "        print(\"dropping columns with more then 95% NA\")\n",
    "    df=df.drop(columns=cols_to_drop)\n",
    "    collect()\n",
    "    return df, cols_to_drop\n",
    "Create_Dataset.remove_95_miss_cols_pp=remove_95_miss_cols_pp"
   ]
  },
  {
   "cell_type": "code",
   "execution_count": 33,
   "id": "c6a0ce8a",
   "metadata": {
    "execution": {
     "iopub.execute_input": "2024-05-31T07:08:05.231994Z",
     "iopub.status.busy": "2024-05-31T07:08:05.231567Z",
     "iopub.status.idle": "2024-05-31T07:08:05.241033Z",
     "shell.execute_reply": "2024-05-31T07:08:05.239835Z"
    },
    "metadata": {},
    "papermill": {
     "duration": 0.059832,
     "end_time": "2024-05-31T07:08:05.243526",
     "exception": false,
     "start_time": "2024-05-31T07:08:05.183694",
     "status": "completed"
    },
    "tags": []
   },
   "outputs": [],
   "source": [
    "def remove_cat_cols_high_no_card_pp(self,df,verbose=True):\n",
    "    cols_to_drop=[]\n",
    "    df_cat_cols=self.select_cat_cols(df,dftype=\"dask\")\n",
    "    len_df_cat_cols=len(df_cat_cols)\n",
    "    nunique_counts=df.nunique().compute()\n",
    "    for i,col in enumerate(df_cat_cols):\n",
    "        # if verbose:\n",
    "        #     print(f\"% col processed  {i/len_df_cat_cols}\")\n",
    "        if col not in self.special_columns:\n",
    "            # if verbose:\n",
    "            #     print(col)\n",
    "            card=nunique_counts.loc[col]\n",
    "            if (card >200) | (card==1):\n",
    "                cols_to_drop.append(col)\n",
    "                # if verbose:\n",
    "                #     print(f\"col_to_drop: {col}\")\n",
    "    if verbose:\n",
    "        print(\"dropping columns with high cardinality\")\n",
    "    df=df.drop(columns=cols_to_drop).compute()\n",
    "    client.cancel(df)\n",
    "    collect()\n",
    "    return df, cols_to_drop\n",
    "Create_Dataset.remove_cat_cols_high_no_card_pp=remove_cat_cols_high_no_card_pp"
   ]
  },
  {
   "cell_type": "code",
   "execution_count": 34,
   "id": "82ecaa1a",
   "metadata": {
    "execution": {
     "iopub.execute_input": "2024-05-31T07:08:05.339424Z",
     "iopub.status.busy": "2024-05-31T07:08:05.339047Z",
     "iopub.status.idle": "2024-05-31T07:08:05.346723Z",
     "shell.execute_reply": "2024-05-31T07:08:05.345529Z"
    },
    "metadata": {},
    "papermill": {
     "duration": 0.059607,
     "end_time": "2024-05-31T07:08:05.349266",
     "exception": false,
     "start_time": "2024-05-31T07:08:05.289659",
     "status": "completed"
    },
    "tags": []
   },
   "outputs": [],
   "source": [
    "def clean_test_wr_train(df, drop_col_list, col_dtype_dict):\n",
    "    drop_col_in_test=[col for col in drop_col_list if col in df.columns]           \n",
    "    df = df.drop(columns=drop_col_in_test)\n",
    "    collect()\n",
    "    cols_train = list(col_dtype_dict.keys())\n",
    "    for col in cols_train:\n",
    "        if col not in df.columns:\n",
    "            df[col]=np.nan\n",
    "    df=df.astype(col_dtype_dict)\n",
    "    return df\n",
    "Create_Dataset.clean_test_wr_train=clean_test_wr_train"
   ]
  },
  {
   "cell_type": "code",
   "execution_count": 35,
   "id": "abb0d3af",
   "metadata": {
    "execution": {
     "iopub.execute_input": "2024-05-31T07:08:05.444785Z",
     "iopub.status.busy": "2024-05-31T07:08:05.444421Z",
     "iopub.status.idle": "2024-05-31T07:08:05.460678Z",
     "shell.execute_reply": "2024-05-31T07:08:05.459261Z"
    },
    "metadata": {},
    "papermill": {
     "duration": 0.067785,
     "end_time": "2024-05-31T07:08:05.463930",
     "exception": false,
     "start_time": "2024-05-31T07:08:05.396145",
     "status": "completed"
    },
    "tags": []
   },
   "outputs": [],
   "source": [
    "def clean(self, df_dict, ftype,test_type, verbose=True, bac=True):\n",
    "    dict_keys=list(df_dict.keys())\n",
    "    df_dict_new={}\n",
    "    \n",
    "    with open(\"/kaggle/input/homecredit-pm/cols_to_drop_dict.pickle\", \"rb\") as infile:\n",
    "        self.cols_to_drop_dict = pickle.load(infile)\n",
    "    with open(\"/kaggle/input/homecredit-pm/cols_to_drop_dict_bac.pickle\", \"rb\") as infile:\n",
    "        self.cols_to_drop_dict_bac = pickle.load(infile)  \n",
    "    with open(\"/kaggle/input/homecredit-pm/dtypes_train.pickle\", \"rb\") as infile:\n",
    "        self.dtypes_train = pickle.load(infile)\n",
    "    with open(\"/kaggle/input/homecredit-pm/dtypes_train_bac.pickle\", \"rb\") as infile:\n",
    "        self.dtypes_train_bac = pickle.load(infile)\n",
    "    for key in dict_keys:\n",
    "        if verbose:\n",
    "            print(f\"Cleaning {ftype}: {key}\")\n",
    "        df=df_dict.pop(key)\n",
    "\n",
    "        if ftype == \"train\":\n",
    "            #stringarrr_cols=df.select_dtypes(include=[\"category\",\"object\"]).columns.to_list()\n",
    "            \n",
    "            #stringarrr_cols_col_dtype_conv_dict={col:\"category\" for col in stringarrr_cols}\n",
    "            #df=df.astype(stringarrr_cols_col_dtype_conv_dict)\n",
    "            \n",
    "            #date_cols=self.detect_datetime_cols(df, dftype=\"pandas\")\n",
    "            #date_cols_dtype_conv_dict={col:'datetime64[ns]' for col in date_cols if df[col].dtype != np.datetime64}\n",
    "            #df=df.astype(date_cols_dtype_conv_dict)\n",
    "            \n",
    "            #df, cols_to_drop_n=self.remove_95_miss_cols_pp(df, verbose=verbose)\n",
    "            #df, cols_to_drop_c=self.remove_cat_cols_high_no_card_pp(df, verbose=verbose)\n",
    "            #cols_to_drop=cols_to_drop_n+cols_to_drop_c\n",
    "            \n",
    "            #cat_cols=self.select_cat_cols(df,dftype=\"pandas\")\n",
    "            #cat_cols_dtype_conv_dict={col:\"category\" for col in cat_cols}\n",
    "            #df=df.astype(cat_cols_dtype_conv_dict) \n",
    "            \n",
    "            if bac:\n",
    "                #self.cols_to_drop_dict_bac[key]=cols_to_drop\n",
    "                #self.dtypes_train_bac[key]=df.dtypes.to_dict()\n",
    "                df = clean_test_wr_train(df, \n",
    "                                         drop_col_list=self.cols_to_drop_dict_bac[key], \n",
    "                                         col_dtype_dict=self.dtypes_train_bac[key]) \n",
    "            else:\n",
    "                #self.cols_to_drop_dict[key]=cols_to_drop\n",
    "                #self.dtypes_train[key]=df.dtypes.to_dict()\n",
    "                df = clean_test_wr_train(df, \n",
    "                                         drop_col_list=self.cols_to_drop_dict[key], \n",
    "                                         col_dtype_dict=self.dtypes_train[key])\n",
    "        else:\n",
    "            # if verbose:\n",
    "            #     if (test_type == \"train\")  &  (key == \"test_base\"):\n",
    "            #         print(f\"clean method beginning valid-test splits NA count {df['target'].isna().sum()}\")\n",
    "            if bac:\n",
    "                df = clean_test_wr_train(df, \n",
    "                                         drop_col_list=self.cols_to_drop_dict_bac[\"train\"+key[4:]], \n",
    "                                         col_dtype_dict=self.dtypes_train_bac[\"train\"+key[4:]])           \n",
    "            else:\n",
    "                df = clean_test_wr_train(df, \n",
    "                                         drop_col_list=self.cols_to_drop_dict[\"train\"+key[4:]], \n",
    "                                         col_dtype_dict=self.dtypes_train[\"train\"+key[4:]])\n",
    "                        \n",
    "        df_dict_new[key]=df\n",
    "        # if verbose:\n",
    "        #     if (test_type == \"train\")  &  (key == \"test_base\"):\n",
    "        #         print(f\"clean method end valid-test splits NA count {df['target'].isna().sum()}\")\n",
    "        #clear_output()\n",
    "    del df_dict\n",
    "    collect()\n",
    "    return  df_dict_new\n",
    "Create_Dataset.clean=clean"
   ]
  },
  {
   "cell_type": "code",
   "execution_count": 36,
   "id": "a39a80d6",
   "metadata": {
    "execution": {
     "iopub.execute_input": "2024-05-31T07:08:05.560847Z",
     "iopub.status.busy": "2024-05-31T07:08:05.560401Z",
     "iopub.status.idle": "2024-05-31T07:08:05.566171Z",
     "shell.execute_reply": "2024-05-31T07:08:05.565024Z"
    },
    "metadata": {},
    "papermill": {
     "duration": 0.056938,
     "end_time": "2024-05-31T07:08:05.568795",
     "exception": false,
     "start_time": "2024-05-31T07:08:05.511857",
     "status": "completed"
    },
    "tags": []
   },
   "outputs": [],
   "source": [
    "def get_mode(x):\n",
    "    x=x.copy()\n",
    "    return x.mode(dropna=False).iloc[-1]"
   ]
  },
  {
   "cell_type": "code",
   "execution_count": 37,
   "id": "bc5b5672",
   "metadata": {
    "execution": {
     "iopub.execute_input": "2024-05-31T07:08:05.665301Z",
     "iopub.status.busy": "2024-05-31T07:08:05.664877Z",
     "iopub.status.idle": "2024-05-31T07:08:05.676514Z",
     "shell.execute_reply": "2024-05-31T07:08:05.675303Z"
    },
    "metadata": {},
    "papermill": {
     "duration": 0.06312,
     "end_time": "2024-05-31T07:08:05.679563",
     "exception": false,
     "start_time": "2024-05-31T07:08:05.616443",
     "status": "completed"
    },
    "tags": []
   },
   "outputs": [],
   "source": [
    "def get_aggr_methods(self, df):\n",
    "    df_cols=df.columns\n",
    "    agg_func_dict={}\n",
    "    col_names_df=[]\n",
    "    cat_cols=self.select_cat_cols(df,dftype=\"pandas\")\n",
    "    for col in df_cols:\n",
    "        if (col[-1] in (\"P\", \"A\", \"D\", \"M\", \"T\", \"L\")) or (\"num_group\" in col):\n",
    "            if col[-1] in (\"P\", \"A\", \"D\"):\n",
    "                agg_func_dict[col]=[\"min\",\"max\",\"first\",\"last\",\"mean\"]\n",
    "                col_names_df+=[col+\"_min\",col+\"_max\",col+\"_first\",col+\"_last\",col+\"_mean\"]\n",
    "            elif col[-1]==\"M\":\n",
    "                agg_func_dict[col]=[\"first\",\"last\",get_mode]\n",
    "                col_names_df+=[col+\"_first\",col+\"_last\",col+\"_mode\"]\n",
    "            else:\n",
    "                if col in cat_cols:\n",
    "                    agg_func_dict[col]=[\"first\",\"last\", get_mode]\n",
    "                    col_names_df+=[col+\"_first\",col+\"_last\",col+\"_mode\"]\n",
    "                else:\n",
    "                    agg_func_dict[col]=[\"min\",\"max\",\"first\",\"last\",\"mean\"]\n",
    "                    col_names_df+=[col+\"_min\",col+\"_max\",col+\"_first\",col+\"_last\",col+\"_mean\"]\n",
    "    return agg_func_dict, col_names_df\n",
    "Create_Dataset.get_aggr_methods=get_aggr_methods"
   ]
  },
  {
   "cell_type": "code",
   "execution_count": 38,
   "id": "252a6a28",
   "metadata": {
    "execution": {
     "iopub.execute_input": "2024-05-31T07:08:05.776665Z",
     "iopub.status.busy": "2024-05-31T07:08:05.776286Z",
     "iopub.status.idle": "2024-05-31T07:08:05.790951Z",
     "shell.execute_reply": "2024-05-31T07:08:05.789846Z"
    },
    "metadata": {},
    "papermill": {
     "duration": 0.066981,
     "end_time": "2024-05-31T07:08:05.794195",
     "exception": false,
     "start_time": "2024-05-31T07:08:05.727214",
     "status": "completed"
    },
    "tags": []
   },
   "outputs": [],
   "source": [
    "def aggragete(self, df_dict, ftype,verbose=True):\n",
    "    df_dict_keys=list(df_dict.keys())\n",
    "    new_df_dict={}\n",
    "    for key in df_dict_keys:\n",
    "        try:\n",
    "            last_letter=int(key[-1])\n",
    "        except:\n",
    "            last_letter=key[-1]\n",
    "        if (last_letter =='e') or  (last_letter==0):\n",
    "            if verbose:\n",
    "                print(f\"Aggragating {key}\")\n",
    "            df=df_dict.pop(key)\n",
    "            df=df.astype({\"case_id\":\"int32\"})\n",
    "            new_df_dict[key]=df\n",
    "            del df\n",
    "            collect()\n",
    "        else:\n",
    "            if verbose:\n",
    "                print(f\"Aggragating {key}\")\n",
    "            starttime = time.perf_counter()\n",
    "            df_agg=df_dict.pop(key)\n",
    "            df_agg=df_agg.astype({\"case_id\":\"int32\"})\n",
    "            if df_agg.shape[0]>0:\n",
    "                if ftype==\"train\":\n",
    "                    agg_func_dict, col_names_df=self.get_aggr_methods(df_agg)\n",
    "                    self.agg_func_dict_holder[key]=agg_func_dict\n",
    "                    self.col_names_df_holder[key]= col_names_df\n",
    "                else:\n",
    "                    agg_func_dict=self.agg_func_dict_holder[\"train\"+key[4:]]\n",
    "                    col_names_df=self.col_names_df_holder[\"train\"+key[4:]]\n",
    "                    \n",
    "                df_agg=df_agg.groupby(\"case_id\",observed=True).agg(agg_func_dict)  \n",
    "                df_agg.columns=col_names_df\n",
    "                df_agg=df_agg.reset_index()\n",
    "                new_df_dict[key]=df_agg\n",
    "                del df_agg\n",
    "                collect()\n",
    "            duration = timedelta(seconds=time.perf_counter()-starttime)\n",
    "            if verbose:\n",
    "                print(\"computation time: \", duration)\n",
    "    del df_dict\n",
    "    collect()\n",
    "    return new_df_dict\n",
    "Create_Dataset.aggragete=aggragete"
   ]
  },
  {
   "cell_type": "code",
   "execution_count": 39,
   "id": "08d660ef",
   "metadata": {
    "execution": {
     "iopub.execute_input": "2024-05-31T07:08:05.890554Z",
     "iopub.status.busy": "2024-05-31T07:08:05.890178Z",
     "iopub.status.idle": "2024-05-31T07:08:05.897720Z",
     "shell.execute_reply": "2024-05-31T07:08:05.896414Z"
    },
    "metadata": {},
    "papermill": {
     "duration": 0.058754,
     "end_time": "2024-05-31T07:08:05.900259",
     "exception": false,
     "start_time": "2024-05-31T07:08:05.841505",
     "status": "completed"
    },
    "tags": []
   },
   "outputs": [],
   "source": [
    "def clean_dubs(self, df):\n",
    "    # drop dublicate rows\n",
    "    df=df.drop_duplicates()\n",
    "    \n",
    "    # check if columns are dublicate by sampling 10% of data and cleaning if yes\n",
    "    df_sample=df.sample(frac=0.2)\n",
    "    df_T=df_sample.T\n",
    "    df_T=df_T.drop_duplicates()\n",
    "    df_sample=df_T.T\n",
    "    del df_T\n",
    "    collect()\n",
    "    desired_cols=list(df_sample.columns)\n",
    "    del df_sample\n",
    "    df=df[desired_cols]\n",
    "    collect()\n",
    "    return df , desired_cols\n",
    "Create_Dataset.clean_dubs=clean_dubs"
   ]
  },
  {
   "cell_type": "code",
   "execution_count": 40,
   "id": "c5ee95d0",
   "metadata": {
    "execution": {
     "iopub.execute_input": "2024-05-31T07:08:05.996295Z",
     "iopub.status.busy": "2024-05-31T07:08:05.995873Z",
     "iopub.status.idle": "2024-05-31T07:08:06.005900Z",
     "shell.execute_reply": "2024-05-31T07:08:06.004393Z"
    },
    "metadata": {},
    "papermill": {
     "duration": 0.061503,
     "end_time": "2024-05-31T07:08:06.008829",
     "exception": false,
     "start_time": "2024-05-31T07:08:05.947326",
     "status": "completed"
    },
    "tags": []
   },
   "outputs": [],
   "source": [
    "def clean_dubs_df_dict(self, df_dict, ftype, verbose=True):\n",
    "    df_dict_keys=list(df_dict.keys())\n",
    "    df_dict_cleaned={}\n",
    "    \n",
    "    with open(\"/kaggle/input/homecredit-pm/desired_cols_dict.pickle\", \"rb\") as infile:\n",
    "        self.desired_cols_dict = pickle.load(infile)\n",
    "        \n",
    "    for key in df_dict_keys:\n",
    "        if verbose:\n",
    "            print(f\"cleaning dublicates {key}\")\n",
    "        df=df_dict.pop(key)\n",
    "        if ftype==\"train\":\n",
    "            #df, desired_cols=self.clean_dubs(df)\n",
    "            #self.desired_cols_dict[key]=desired_cols\n",
    "            #df_dict_cleaned[key]=df\n",
    "            df_dict_cleaned[key]=df[self.desired_cols_dict[key]]\n",
    "        else:\n",
    "             df_dict_cleaned[key]=df[self.desired_cols_dict[\"train\"+key[4:]]]\n",
    "        del df\n",
    "        collect()\n",
    "    del df_dict\n",
    "    collect()\n",
    "    return df_dict_cleaned\n",
    "Create_Dataset.clean_dubs_df_dict=clean_dubs_df_dict"
   ]
  },
  {
   "cell_type": "code",
   "execution_count": 41,
   "id": "5225955e",
   "metadata": {
    "execution": {
     "iopub.execute_input": "2024-05-31T07:08:06.108307Z",
     "iopub.status.busy": "2024-05-31T07:08:06.107867Z",
     "iopub.status.idle": "2024-05-31T07:08:06.115994Z",
     "shell.execute_reply": "2024-05-31T07:08:06.114818Z"
    },
    "metadata": {},
    "papermill": {
     "duration": 0.060996,
     "end_time": "2024-05-31T07:08:06.118818",
     "exception": false,
     "start_time": "2024-05-31T07:08:06.057822",
     "status": "completed"
    },
    "tags": []
   },
   "outputs": [],
   "source": [
    "def get_path(self, ftype, source_type):\n",
    "    #cwd local\n",
    "    cwd=G.working_dir\n",
    "    if ftype==\"train\":\n",
    "        location=\"train_df_dict\"\n",
    "    else:\n",
    "        location=\"test_df_dict\"\n",
    "\n",
    "    if source_type==\"internal\":\n",
    "        folder=\"internal\"\n",
    "    else: \n",
    "        folder=\"external\"\n",
    "    path = os.path.join(cwd, location, folder)\n",
    "    return path\n",
    "Create_Dataset.get_path=get_path"
   ]
  },
  {
   "cell_type": "code",
   "execution_count": 42,
   "id": "a49a2c12",
   "metadata": {
    "execution": {
     "iopub.execute_input": "2024-05-31T07:08:06.215638Z",
     "iopub.status.busy": "2024-05-31T07:08:06.214913Z",
     "iopub.status.idle": "2024-05-31T07:08:06.225680Z",
     "shell.execute_reply": "2024-05-31T07:08:06.224481Z"
    },
    "metadata": {},
    "papermill": {
     "duration": 0.061876,
     "end_time": "2024-05-31T07:08:06.228403",
     "exception": false,
     "start_time": "2024-05-31T07:08:06.166527",
     "status": "completed"
    },
    "tags": []
   },
   "outputs": [],
   "source": [
    "def save_df_dict(self, ftype, source_type, operation, df_dict=None, verbose=True):\n",
    "    path=self.get_path(ftype=ftype, source_type=source_type)\n",
    "    \n",
    "    if operation==\"save\":\n",
    "        if os.path.isdir(path):\n",
    "            shutil.rmtree(path)\n",
    "        Path(path).mkdir(parents=True, exist_ok=True)\n",
    "\n",
    "        for key, df in df_dict.items():\n",
    "            if verbose:\n",
    "                print(key)\n",
    "            df.to_parquet(os.path.join(path, key+\".parquet\"))\n",
    "        del df_dict\n",
    "        collect()\n",
    "    else:\n",
    "        df_dict={}\n",
    "        folder = glob.glob(os.path.join(path, \"*.parquet\"))\n",
    "        for filename in folder:\n",
    "            df = pd.read_parquet(filename, use_nullable_dtypes=True)\n",
    "            df_key=filename.split(\"/\")[-1].split(\".\")[0]\n",
    "            df_dict[df_key]=df\n",
    "        return df_dict\n",
    "Create_Dataset.save_df_dict = save_df_dict"
   ]
  },
  {
   "cell_type": "code",
   "execution_count": 43,
   "id": "053c6997",
   "metadata": {
    "execution": {
     "iopub.execute_input": "2024-05-31T07:08:06.325228Z",
     "iopub.status.busy": "2024-05-31T07:08:06.324500Z",
     "iopub.status.idle": "2024-05-31T07:08:06.344191Z",
     "shell.execute_reply": "2024-05-31T07:08:06.342921Z"
    },
    "metadata": {},
    "papermill": {
     "duration": 0.070851,
     "end_time": "2024-05-31T07:08:06.346717",
     "exception": false,
     "start_time": "2024-05-31T07:08:06.275866",
     "status": "completed"
    },
    "tags": []
   },
   "outputs": [],
   "source": [
    "def create_merge_dir(self, ftype, depts,loca,test_type,  verbose=True): #df_dict_int=None, df_dict_ext=None,\n",
    "    #processing internal files\n",
    "    if verbose:\n",
    "        print(\"Reading internal files\")\n",
    "        print(loca)\n",
    "    df_dict_int=self.get_files(ftype,int_or_ex=\"int\",depts=depts, test_type=test_type, loca=loca, verbose=verbose)\n",
    "    \n",
    "    if verbose:\n",
    "        print(f\"Processing internal sources: Concatenating partitioned internal sources in {ftype}\")\n",
    "    df_dict_int = self.concat_partitioned_sources_d0_1(ftype, df_dict_int)\n",
    "\n",
    "    if verbose: \n",
    "        print(f\"Processing internal sources: Cleaning concatenated dataframes in {ftype}\")\n",
    "    df_dict_int = self.clean(df_dict_int, ftype,test_type=test_type, verbose=verbose)\n",
    "    \n",
    "    if verbose:\n",
    "        print(f\"Processing internal sources: Aggregating on case_id in {ftype}\")\n",
    "    df_dict_int = self.aggragete(df_dict_int, ftype, verbose=verbose)\n",
    "\n",
    "    if verbose: \n",
    "        print(f\"Processing internal sources: Cleaning aggragated dataframes in {ftype}\")\n",
    "    df_dict_int = self.clean(df_dict_int, ftype, test_type=test_type, verbose=verbose)\n",
    "\n",
    "    if verbose:\n",
    "        print(f\"Processing internal sources: cleaning dublicate columns {ftype}\")\n",
    "    df_dict_int = self.clean_dubs_df_dict(df_dict_int,ftype, verbose=verbose)\n",
    "    \n",
    "    if verbose:\n",
    "        print(f\"Saving internal sources dictionary to folder and removing dataframe dictionary from memory for {ftype} files\")\n",
    "    self.save_df_dict(ftype=ftype, df_dict=df_dict_int, operation=\"save\", source_type=\"internal\")\n",
    "    df_dict_int=True\n",
    "    #clear_output()\n",
    "    # libc = ctypes.CDLL(\"libc.so.6\")\n",
    "    # libc.malloc_trim(0)\n",
    "\n",
    "    \n",
    "    #processing external files\n",
    "    if verbose:\n",
    "        print(\"Reading external files\")\n",
    "    df_dict_ext=self.get_files(ftype,int_or_ex=\"ext\",depts=depts,loca=loca,test_type=test_type, verbose=verbose)\n",
    "    \n",
    "    if verbose:\n",
    "        print(f\"Processing external sources: Concatenating partitioned external sources in {ftype}\")\n",
    "    df_dict_ext = self.concat_partitioned_sources_d0_1(ftype, df_dict_ext)\n",
    "\n",
    "    if verbose: \n",
    "        print(f\"Processing external sources: Cleaning concatenated dataframes in {ftype}\")\n",
    "    df_dict_ext = self.clean(df_dict_ext, ftype, test_type=test_type, verbose=verbose) \n",
    "    \n",
    "    if verbose:\n",
    "        print(f\"Processing external sources: Aggregating on case_id in {ftype}\")\n",
    "    df_dict_ext = self.aggragete(df_dict_ext, ftype, verbose=verbose)\n",
    "    \n",
    "    if verbose: \n",
    "        print(f\"Processing external sources: Cleaning aggragated dataframes in {ftype}\")\n",
    "    df_dict_ext = self.clean(df_dict_ext, ftype, verbose=verbose, test_type=test_type, bac=False) \n",
    "\n",
    "    if verbose:\n",
    "        print(f\"Processing external sources: cleaning dublicate columns {ftype}\")\n",
    "    df_dict_ext = self.clean_dubs_df_dict(df_dict_ext, ftype, verbose=verbose)    \n",
    "    self.save_df_dict(ftype=ftype, df_dict=df_dict_ext, operation=\"save\", source_type=\"external\")\n",
    "    df_dict_ext = True\n",
    "    #clear_output()\n",
    "    # libc.malloc_trim(0)\n",
    "    return df_dict_int, df_dict_ext\n",
    "Create_Dataset.create_merge_dir = create_merge_dir"
   ]
  },
  {
   "cell_type": "code",
   "execution_count": 44,
   "id": "758c357a",
   "metadata": {
    "execution": {
     "iopub.execute_input": "2024-05-31T07:08:06.445495Z",
     "iopub.status.busy": "2024-05-31T07:08:06.444315Z",
     "iopub.status.idle": "2024-05-31T07:08:06.462936Z",
     "shell.execute_reply": "2024-05-31T07:08:06.461473Z"
    },
    "metadata": {},
    "papermill": {
     "duration": 0.070617,
     "end_time": "2024-05-31T07:08:06.465943",
     "exception": false,
     "start_time": "2024-05-31T07:08:06.395326",
     "status": "completed"
    },
    "tags": []
   },
   "outputs": [],
   "source": [
    "def merge_dfs(self, ftype, verbose=True): \n",
    "\n",
    "    if verbose:\n",
    "        print(\"Joining internal sources\")\n",
    "    path_int=self.get_path(ftype=ftype, source_type=\"internal\")\n",
    "    folder_int = glob.glob(os.path.join(path_int, \"*.parquet\"))\n",
    "    base=[filename for filename in folder_int if filename.split(\"/\")[-1].split(\".\")[0]==ftype+\"_base\"]\n",
    "    df_base=pd.read_parquet(base[0], use_nullable_dtypes=True)\n",
    "    folder_int_exbase=[filename for filename in folder_int if filename.split(\"/\")[-1].split(\".\")[0]!=ftype+\"_base\"]\n",
    "    del base\n",
    "    collect()\n",
    "    df_base=df_base.astype({\"case_id\":\"int32\"})\n",
    "    df_base=df_base.set_index(\"case_id\")\n",
    "    \n",
    "    folder_int_exbase.sort()\n",
    "    for filename in folder_int_exbase:\n",
    "\n",
    "        key=filename.split(\"/\")[-1].split(\".\")[0]\n",
    "        key_name=key.replace(\"train\",\"\")\n",
    "        key_name=key_name.replace(\"test\",\"\")\n",
    "        if verbose:\n",
    "            print(f\"joining {key_name}\")\n",
    "        df=pd.read_parquet(filename, use_nullable_dtypes=True)\n",
    "        df=df.astype({\"case_id\":\"int32\"})\n",
    "        df_base=df_base.join(df.set_index(\"case_id\"), \n",
    "                             how=\"left\", rsuffix=\"_\"+key_name)\n",
    "        del df\n",
    "        collect()\n",
    "\n",
    "    del folder_int\n",
    "    del folder_int_exbase\n",
    "    collect()\n",
    "        \n",
    "    if verbose:\n",
    "        print(\"Joining external sources\")\n",
    "    path_ext=self.get_path(ftype=ftype, source_type=\"external\")\n",
    "    folder_ext = glob.glob(os.path.join(path_ext, \"*.parquet\"))\n",
    "    \n",
    "    folder_ext.sort()\n",
    "    for filename in folder_ext:\n",
    "        key=filename.split(\"/\")[-1].split(\".\")[0]\n",
    "        key_name=key.replace(\"train\",\"\")\n",
    "        key_name=key_name.replace(\"test\",\"\")\n",
    "        if verbose:\n",
    "            print(f\"joining {key}\")\n",
    "        df=pd.read_parquet(filename, use_nullable_dtypes=True)\n",
    "        df=df.astype({\"case_id\":\"int32\"})\n",
    "        df_base=df_base.join(df.set_index(\"case_id\"), \n",
    "                             how=\"left\", rsuffix=\"_\"+key_name)\n",
    "        del df\n",
    "        collect()\n",
    "\n",
    "    del folder_ext\n",
    "    collect()\n",
    "    # if verbose:\n",
    "    #     print(f\"merge_df method valid-test splits NA count {df_base['target'].isna().sum()}\")\n",
    "    return df_base\n",
    "Create_Dataset.merge_dfs=merge_dfs"
   ]
  },
  {
   "cell_type": "code",
   "execution_count": 45,
   "id": "0d51daf3",
   "metadata": {
    "execution": {
     "iopub.execute_input": "2024-05-31T07:08:06.563201Z",
     "iopub.status.busy": "2024-05-31T07:08:06.562598Z",
     "iopub.status.idle": "2024-05-31T07:08:06.584110Z",
     "shell.execute_reply": "2024-05-31T07:08:06.582589Z"
    },
    "metadata": {},
    "papermill": {
     "duration": 0.074614,
     "end_time": "2024-05-31T07:08:06.587216",
     "exception": false,
     "start_time": "2024-05-31T07:08:06.512602",
     "status": "completed"
    },
    "tags": []
   },
   "outputs": [],
   "source": [
    "def clean_df(self, df, ftype, test_type, verbose=True):\n",
    "    if verbose:\n",
    "        print(f\"Cleaning {ftype} dataframe\")\n",
    "    if ftype == \"train\":\n",
    "        if verbose:\n",
    "            print(\"finding categorical\")\n",
    "        stringarrr_cols=df.select_dtypes(include=[\"object\", \"string\", \"category\"]).columns.to_list()\n",
    "        cat_col_dtype_conv_dict={col:\"category\" for col in stringarrr_cols}\n",
    "        if verbose:\n",
    "            print(\"finding datetime\")    \n",
    "        date_cols=self.detect_datetime_cols(df, dftype=\"pandas\")\n",
    "        date_cols_conv_dict={col:\"datetime64[ns]\" for col in date_cols if df[col].dtype != np.datetime64}   \n",
    "        self.clean_df_merged_dtype_dict1={**cat_col_dtype_conv_dict, **date_cols_conv_dict}\n",
    "        del cat_col_dtype_conv_dict\n",
    "        del date_cols_conv_dict\n",
    "        del stringarrr_cols\n",
    "        del date_cols\n",
    "        collect()\n",
    "        df=df.astype(self.clean_df_merged_dtype_dict1)\n",
    "    else:\n",
    "        df=df.astype(self.clean_df_merged_dtype_dict1)\n",
    "\n",
    "    if ftype == \"train\":\n",
    "        if verbose:\n",
    "            print(\"finding removing 95% miss cols\") \n",
    "        #df, cols_to_drop_n=self.remove_95_miss_cols_pp(df, verbose=verbose)\n",
    "        #clear_output()\n",
    "        if verbose:\n",
    "            print(\"finding removing high cardinality catergorical cols\") \n",
    "        #df, cols_to_drop_c=self.remove_cat_cols_high_no_card_pp(df,  verbose=verbose)\n",
    "        #clear_output()\n",
    "        #self.cols_to_drop_pp=cols_to_drop_n+cols_to_drop_c\n",
    "        with open(\"/kaggle/input/homecredit-pm/cols_to_drop_pp.pickle\", \"rb\") as infile:\n",
    "            self.cols_to_drop_pp = pickle.load(infile)\n",
    "        df=df.drop(columns=self.cols_to_drop_pp)\n",
    "        #del cols_to_drop_n\n",
    "        #del cols_to_drop_c\n",
    "        collect()\n",
    "        self.d_types=df.dtypes.to_dict()\n",
    "    else:\n",
    "        df=df.drop(columns=self.cols_to_drop_pp)\n",
    "        collect()\n",
    "        df=df.astype(self.d_types, errors=\"ignore\")\n",
    "        # if verbose:\n",
    "        #     print(f\"clean_df method valid-test splits NA count {df['target'].isna().sum()}\")\n",
    "        #     print(f\"printing test_type {test_type}\")\n",
    "        if test_type==\"submission_test\":\n",
    "            df=df.drop(\"target\",axis=1)\n",
    "            collect()\n",
    "    if verbose:\n",
    "        print(\"converting inf to nan\")\n",
    "    df = df.replace([np.inf, -1*np.inf], np.NaN)\n",
    "    return  df\n",
    "Create_Dataset.clean_df=clean_df"
   ]
  },
  {
   "cell_type": "code",
   "execution_count": 46,
   "id": "b4bb33c4",
   "metadata": {
    "execution": {
     "iopub.execute_input": "2024-05-31T07:08:06.692070Z",
     "iopub.status.busy": "2024-05-31T07:08:06.691672Z",
     "iopub.status.idle": "2024-05-31T07:08:06.703218Z",
     "shell.execute_reply": "2024-05-31T07:08:06.701813Z"
    },
    "metadata": {},
    "papermill": {
     "duration": 0.06601,
     "end_time": "2024-05-31T07:08:06.705765",
     "exception": false,
     "start_time": "2024-05-31T07:08:06.639755",
     "status": "completed"
    },
    "tags": []
   },
   "outputs": [],
   "source": [
    "def apply_processing(self, ftype, depts,loca,test_type, verbose=True):\n",
    "\n",
    "    df_dict_int, df_dict_ext=self.create_merge_dir(ftype=ftype, depts=depts,loca=loca, test_type=test_type,\n",
    "                                                  verbose=verbose)   \n",
    "    #combining all files into single dataframe\n",
    "    if (df_dict_int== True) and (df_dict_ext== True):\n",
    "        if verbose:\n",
    "            print(\"Merging dataframes\")\n",
    "        df_complete = self.merge_dfs(ftype, verbose=verbose)\n",
    "        if verbose:\n",
    "            print(\"Ensuring identical dataset columns exits in train and test \")\n",
    "        if ftype==\"train\":\n",
    "            self.train_cols=df_complete.columns\n",
    "        if ftype==\"test\":\n",
    "            for col in df_complete.columns:\n",
    "                if not col in self.train_cols:\n",
    "                    df_complete=df_complete.drop(columns=[col])\n",
    "                    collect()\n",
    "            for col in self.train_cols:\n",
    "                if not col in df_complete.columns:\n",
    "                    df_complete[col]=np.nan\n",
    "        if verbose:\n",
    "            print(\"beginning to preprocess\")\n",
    "        df_complete = self.clean_df(df=df_complete, ftype=ftype,test_type=test_type,  verbose=verbose)\n",
    "        return df_complete\n",
    "    else:\n",
    "        raise ValueError(\"Couldn't find documents to merge\")\n",
    "Create_Dataset.apply_processing = apply_processing"
   ]
  },
  {
   "cell_type": "code",
   "execution_count": 47,
   "id": "624aa015",
   "metadata": {
    "execution": {
     "iopub.execute_input": "2024-05-31T07:08:06.828450Z",
     "iopub.status.busy": "2024-05-31T07:08:06.826903Z",
     "iopub.status.idle": "2024-05-31T07:08:06.848677Z",
     "shell.execute_reply": "2024-05-31T07:08:06.847411Z"
    },
    "metadata": {},
    "papermill": {
     "duration": 0.091706,
     "end_time": "2024-05-31T07:08:06.852539",
     "exception": false,
     "start_time": "2024-05-31T07:08:06.760833",
     "status": "completed"
    },
    "tags": []
   },
   "outputs": [],
   "source": [
    "def df_to_parquet_to_dask(self, ftype, df, engine='auto', verbose=True):\n",
    "    memory_usage_of_df=round(df.memory_usage().sum()/ 1024**2,2)\n",
    "    #core = os.cpu_count()\n",
    "    #kaggle working dir\n",
    "    if G.ENV==\"kaggle\":\n",
    "        data_dir=G.working_dir\n",
    "    else:\n",
    "        data_dir=G.data_dir\n",
    "    if verbose:\n",
    "        print(f\"Memory use of pandas df: {memory_usage_of_df}\")\n",
    "        print(\"dumping dataframe to parquet and creating dask dataframe from parquet for memory efficency\")\n",
    "    #saving to parquet\n",
    "    if ftype==\"train\":\n",
    "        try:\n",
    "            os.remove(os.path.join(data_dir,\"train.parquet\"))\n",
    "        except Exception:\n",
    "            pass\n",
    "        if verbose:\n",
    "            print(\"saving df to parquet\")\n",
    "        df.to_parquet(\"train.parquet\",engine=engine)   \n",
    "    else:\n",
    "        try:\n",
    "            os.remove(os.path.join(data_dir,\"test.parquet\")) \n",
    "        except Exception:\n",
    "            pass\n",
    "        if verbose:\n",
    "            print(\"saving df to parquet\")\n",
    "        df.to_parquet(\"test.parquet\",engine=engine)\n",
    "\n",
    "    if verbose:\n",
    "        print(\"removing df and flushing memory\")\n",
    "    del df\n",
    "    collect()\n",
    "\n",
    "    libc = ctypes.CDLL(\"libc.so.6\")\n",
    "    libc.malloc_trim(0)\n",
    "    \n",
    "    if ftype==\"train\":\n",
    "        if verbose:\n",
    "            print(\"reading parquet to dask dataframe\")\n",
    "        df = dd.read_parquet(os.path.join(data_dir,\"train.parquet\"),engine=engine)\n",
    "    else:\n",
    "        if verbose:\n",
    "            print(\"reading parquet to dask dataframe\")\n",
    "        df = dd.read_parquet(os.path.join(data_dir,\"test.parquet\"),engine=engine)\n",
    "    \n",
    "    df = client.persist(df) \n",
    "    \n",
    "    if verbose:\n",
    "        print(\"repartitioning\")\n",
    "    df= df.repartition(partition_size=\"100MB\" ) #npartitions = 2 * core\n",
    "    wait(df) \n",
    "    \n",
    "    if verbose:\n",
    "        print(f\"Number of partition in df: {df.npartitions}\")\n",
    "\n",
    "    return df\n",
    "Create_Dataset.df_to_parquet_to_dask=df_to_parquet_to_dask"
   ]
  },
  {
   "cell_type": "code",
   "execution_count": 48,
   "id": "a34d1f36",
   "metadata": {
    "execution": {
     "iopub.execute_input": "2024-05-31T07:08:06.954200Z",
     "iopub.status.busy": "2024-05-31T07:08:06.953798Z",
     "iopub.status.idle": "2024-05-31T07:08:06.962071Z",
     "shell.execute_reply": "2024-05-31T07:08:06.960957Z"
    },
    "metadata": {},
    "papermill": {
     "duration": 0.061056,
     "end_time": "2024-05-31T07:08:06.964591",
     "exception": false,
     "start_time": "2024-05-31T07:08:06.903535",
     "status": "completed"
    },
    "tags": []
   },
   "outputs": [],
   "source": [
    "def get_dask_dataset(self, ftype, loca,test_type, depts=[0,1],engine='fastparquet',verbose=True):\n",
    "    df=self.df_to_parquet_to_dask(ftype = ftype, \n",
    "                                  df = self.apply_processing(ftype=ftype, \n",
    "                                                             test_type=test_type,\n",
    "                                                             depts=depts,\n",
    "                                                             loca=loca,\n",
    "                                                             verbose=verbose),\n",
    "                                 engine=engine,\n",
    "                                  verbose=verbose)\n",
    "    return df\n",
    "Create_Dataset.get_dask_dataset=get_dask_dataset"
   ]
  },
  {
   "cell_type": "code",
   "execution_count": 49,
   "id": "47e591ac",
   "metadata": {
    "execution": {
     "iopub.execute_input": "2024-05-31T07:08:07.063162Z",
     "iopub.status.busy": "2024-05-31T07:08:07.062727Z",
     "iopub.status.idle": "2024-05-31T07:08:07.070223Z",
     "shell.execute_reply": "2024-05-31T07:08:07.068883Z"
    },
    "metadata": {},
    "papermill": {
     "duration": 0.059812,
     "end_time": "2024-05-31T07:08:07.072699",
     "exception": false,
     "start_time": "2024-05-31T07:08:07.012887",
     "status": "completed"
    },
    "tags": []
   },
   "outputs": [],
   "source": [
    "class Feng(Create_Dataset):\n",
    "    \"\"\"Class that ordinal encodes boolean features, transforms date features to time signals to capture monthly and \n",
    "    yearly cyclicities and using ridgeclassifier with recursive feature elimination selects important time features.\n",
    "    And return dataframe with selected features\"\"\"\n",
    "    def __init__(self):\n",
    "        super(Feng,self).__init__()\n",
    "        self.read_agg_pp_dtypes=None\n",
    "        self.ce_bool = Categorizer()\n",
    "        self.oe_bool=OrdinalEncoder()\n",
    "        self.n_components=200\n",
    "        #self.svd =IncrementalPCA(n_components=self.n_components,svd_solver='randomized', batch_size=10000, random_state=0)\n",
    "        #self.svd = TruncatedSVD(n_components=self.n_components,algorithm=\"randomized\", random_state=0)"
   ]
  },
  {
   "cell_type": "code",
   "execution_count": 50,
   "id": "65906917",
   "metadata": {
    "execution": {
     "iopub.execute_input": "2024-05-31T07:08:07.170269Z",
     "iopub.status.busy": "2024-05-31T07:08:07.169873Z",
     "iopub.status.idle": "2024-05-31T07:08:07.182242Z",
     "shell.execute_reply": "2024-05-31T07:08:07.181154Z"
    },
    "metadata": {},
    "papermill": {
     "duration": 0.064005,
     "end_time": "2024-05-31T07:08:07.184485",
     "exception": false,
     "start_time": "2024-05-31T07:08:07.120480",
     "status": "completed"
    },
    "tags": []
   },
   "outputs": [],
   "source": [
    "def encode_boolean(self, df,test_type, ftype, verbose=True):\n",
    "    if ftype==\"train\":\n",
    "        target=df[[\"target\"]].copy()\n",
    "        df=df.drop(columns=[\"target\"])\n",
    "        boolean_columns=[]\n",
    "        nunique_counts=df.nunique().compute()\n",
    "        for col in df.columns:\n",
    "            if nunique_counts[col]==2:\n",
    "                boolean_columns.append(col)\n",
    "        df[boolean_columns]=df[boolean_columns].astype('category')\n",
    "        self.boolean_columns=boolean_columns\n",
    "        \n",
    "        self.ce_bool.fit(df[boolean_columns])\n",
    "        df[boolean_columns]=self.ce_bool.transform(df[boolean_columns])\n",
    "        self.oe_bool.fit(df[boolean_columns])\n",
    "        df[boolean_columns]=self.oe_bool.transform(df[boolean_columns])\n",
    "        df=df.merge(target, how='left', left_index=True, right_index=True)\n",
    "    else:\n",
    "        if test_type==\"train\":\n",
    "            target=df[[\"target\"]].copy()\n",
    "            df=df.drop(columns=[\"target\"])\n",
    "        df[self.boolean_columns]=self.ce_bool.transform(df[self.boolean_columns])\n",
    "        df[self.boolean_columns]=self.oe_bool.transform(df[self.boolean_columns])\n",
    "        if test_type==\"train\":\n",
    "            df=df.merge(target, how='left', left_index=True, right_index=True)\n",
    "            # if verbose:\n",
    "            #     print(f\"encode_boolean method valid-test splits NA count {df['target'].isna().sum().compute()}\")\n",
    "    return df\n",
    "Feng.encode_boolean=encode_boolean"
   ]
  },
  {
   "cell_type": "code",
   "execution_count": 51,
   "id": "7f07a5c1",
   "metadata": {
    "execution": {
     "iopub.execute_input": "2024-05-31T07:08:07.281797Z",
     "iopub.status.busy": "2024-05-31T07:08:07.281041Z",
     "iopub.status.idle": "2024-05-31T07:08:07.298251Z",
     "shell.execute_reply": "2024-05-31T07:08:07.297023Z"
    },
    "metadata": {},
    "papermill": {
     "duration": 0.069285,
     "end_time": "2024-05-31T07:08:07.300953",
     "exception": false,
     "start_time": "2024-05-31T07:08:07.231668",
     "status": "completed"
    },
    "tags": []
   },
   "outputs": [],
   "source": [
    "def add_signals(self, df, col,fillval):\n",
    "    date_time = df[col].fillna(fillval)\n",
    "    timestamp_s = date_time.map(pd.Timestamp.timestamp)\n",
    "    fillval_ts=pd.Timestamp.timestamp(fillval)\n",
    "    \n",
    "    hour = 60*60\n",
    "    day = 24*hour\n",
    "    month = (30.436875)*day\n",
    "    year = (365.2425)*day\n",
    "\n",
    "    signal_pairs={}\n",
    "    df[col+'MonthSin'] = np.sin(timestamp_s * (2 * np.pi / month))\n",
    "    fillval_ts_wsin = np.sin(fillval_ts* (2 * np.pi / month))\n",
    "    df[col+'MonthSin'] = df[col+'MonthSin'].mask(df[col+'MonthSin'] == fillval_ts_wsin,0)\n",
    "    df[col+'MonthSin'] =df[col+'MonthSin'].astype(np.float32)\n",
    "    \n",
    "    df[col+'MonthCos'] = np.cos(timestamp_s * (2 * np.pi / month))\n",
    "    fillval_ts_wcos = np.cos(fillval_ts* (2 * np.pi / month))\n",
    "    df[col+'MonthCos'] = df[col+'MonthCos'].mask(df[col+'MonthCos'] == fillval_ts_wcos,0)\n",
    "    df[col+'MonthCos'] =df[col+'MonthCos'].astype(np.float32)\n",
    "\n",
    "    signal_pairs[col+\"Month\"]=[col+'MonthSin',col+'MonthCos']\n",
    "    \n",
    "    df[col+'YearSin'] = np.sin(timestamp_s * (2 * np.pi / year))\n",
    "    fillval_ts_ysin = np.sin(fillval_ts* (2 * np.pi / year))\n",
    "    df[col+'YearSin'] = df[col+'YearSin'].mask(df[col+'YearSin'] == fillval_ts_ysin,0)\n",
    "    df[col+'YearSin'] =df[col+'YearSin'].astype(np.float32)\n",
    "    \n",
    "    df[col+'YearCos'] = np.cos(timestamp_s * (2 * np.pi / year))\n",
    "    fillval_ts_ycos = np.cos(fillval_ts* (2 * np.pi / year))\n",
    "    df[col+'YearCos'] = df[col+'YearCos'].mask(df[col+'YearCos'] == fillval_ts_ycos,0)\n",
    "    df[col+'YearCos'] =df[col+'YearCos'].astype(np.float32)\n",
    "\n",
    "    signal_pairs[col+\"Year\"]=[col+'YearSin',col+'YearCos']\n",
    "    \n",
    "    df=df.drop(columns=[col])\n",
    "    return df , signal_pairs\n",
    "Feng.add_signals=add_signals"
   ]
  },
  {
   "cell_type": "code",
   "execution_count": 52,
   "id": "67d4cb1e",
   "metadata": {
    "execution": {
     "iopub.execute_input": "2024-05-31T07:08:07.402320Z",
     "iopub.status.busy": "2024-05-31T07:08:07.401885Z",
     "iopub.status.idle": "2024-05-31T07:08:07.417151Z",
     "shell.execute_reply": "2024-05-31T07:08:07.416199Z"
    },
    "metadata": {},
    "papermill": {
     "duration": 0.068278,
     "end_time": "2024-05-31T07:08:07.419900",
     "exception": false,
     "start_time": "2024-05-31T07:08:07.351622",
     "status": "completed"
    },
    "tags": []
   },
   "outputs": [],
   "source": [
    "def select_features_efs(self, X, y, data_type, ftype, verbose=True):\n",
    "    if data_type==\"time_signals\":\n",
    "        numpart=int(round(X.npartitions/8,0))\n",
    "        X=X.partitions[-numpart:].compute()\n",
    "        y=y.partitions[-numpart:].compute()\n",
    "    else:\n",
    "        numrow=int(round(X.shape[0]/8,0))\n",
    "        rows_to_select=np.random.choice(X.index, numrow, replace=False).tolist()\n",
    "        X=X.loc[rows_to_select]\n",
    "        y=y.loc[rows_to_select]\n",
    "    if verbose:\n",
    "        print(f\"selecting features from {data_type}\")\n",
    "        print(f\"{data_type} cols shape: {X.shape}, target shape {y.shape}\")\n",
    "\n",
    "    #N_CORES = joblib.cpu_count(only_physical_cores=True)\n",
    "\n",
    "    scoring=\"roc_auc\"\n",
    "    if data_type == \"time_signals\" :\n",
    "        alphas = np.logspace(-3, 3, 13)\n",
    "    if data_type ==\"numeric\":\n",
    "        alphas = np.logspace(-6, 6, 13)\n",
    "        #mmskaler= MMs_sk()\n",
    "        #X_columns=X.columns.tolist()\n",
    "        #X_index=X.index\n",
    "        #if ftype== \"train\":\n",
    "        #    MMs_sk.fit(X)\n",
    "        #X=MMs_sk.transform(X)\n",
    "        #X=pd.DataFrame(data=X,columns=X_columns,index=X_index)\n",
    "        #del X_columns, X_index\n",
    "    else:\n",
    "        alphas = np.logspace(-1, 1, 5)\n",
    "    detect_alpha = RidgeClassifierCV(class_weight=\"balanced\", alphas=alphas, cv=10)\n",
    "    detect_alpha.fit(X,y)\n",
    "    alpha=detect_alpha.alpha_\n",
    "    if verbose:\n",
    "        print(f\"beginning rfecv for {data_type}\")\n",
    "    del detect_alpha\n",
    "    \n",
    "    estimator = RidgeClassifier(alpha= alpha, class_weight=\"balanced\", random_state=0)\n",
    "    \n",
    "    min_features_to_select = 2\n",
    "\n",
    "    rfecv_ts = RFECV(estimator, min_features_to_select = min_features_to_select,n_jobs=-1,\n",
    "     scoring=scoring, verbose=0)\n",
    "    rfecv_ts.fit(X, y)\n",
    "    rfe_feats=rfecv_ts.get_feature_names_out(X.columns.tolist())\n",
    "    \n",
    "    #     del X,  y\n",
    "    #     collect()\n",
    "\n",
    "    if verbose:\n",
    "        print(f\"{len(rfe_feats)} of feature selected from {data_type}\")\n",
    "    return rfe_feats.tolist()\n",
    "Feng.select_features_efs=select_features_efs"
   ]
  },
  {
   "cell_type": "code",
   "execution_count": 53,
   "id": "eb8b8940",
   "metadata": {
    "execution": {
     "iopub.execute_input": "2024-05-31T07:08:07.517174Z",
     "iopub.status.busy": "2024-05-31T07:08:07.516748Z",
     "iopub.status.idle": "2024-05-31T07:08:07.535460Z",
     "shell.execute_reply": "2024-05-31T07:08:07.534204Z"
    },
    "metadata": {},
    "papermill": {
     "duration": 0.070324,
     "end_time": "2024-05-31T07:08:07.538117",
     "exception": false,
     "start_time": "2024-05-31T07:08:07.467793",
     "status": "completed"
    },
    "tags": []
   },
   "outputs": [],
   "source": [
    "def save_uncompressed(self,df,ftype,test_type,folder_name):\n",
    "        \n",
    "    if ftype==\"train\" and test_type ==\"train\":\n",
    "        if folder_name==\"time_features\":\n",
    "            path=os.path.join(G.working_dir,\"uncompressed\",folder_name, \"train\")\n",
    "            if not os.path.exists(path):\n",
    "                Path(path).mkdir(parents=True, exist_ok=True)\n",
    "            df.to_parquet(path)\n",
    "        else:\n",
    "            path=os.path.join(G.working_dir,\"uncompressed\",folder_name)\n",
    "            if not os.path.exists(path):\n",
    "                Path(path).mkdir(parents=True, exist_ok=True)\n",
    "            df.to_parquet(os.path.join(path,\"train.parquet\"))\n",
    "            \n",
    "    elif ftype==\"test\" and test_type ==\"train\":\n",
    "        if folder_name==\"time_features\":\n",
    "            path_valid=os.path.join(G.working_dir,\"uncompressed\",folder_name, \"valid\")\n",
    "            path_valid_exist=os.path.exists(path_valid)\n",
    "            if not path_valid_exist:\n",
    "                Path(path_valid).mkdir(parents=True, exist_ok=True)\n",
    "                df.to_parquet(path_valid)\n",
    "                path=path_valid\n",
    "            if path_valid_exist:\n",
    "                path=os.path.join(G.working_dir,\"uncompressed\",folder_name, \"test\")\n",
    "                if not os.path.exists(path):\n",
    "                    Path(path).mkdir(parents=True, exist_ok=True)\n",
    "                df.to_parquet(path)\n",
    "        else:\n",
    "            path_valid=os.path.join(G.working_dir,\"uncompressed\",folder_name)\n",
    "            path_valid_exist=os.path.exists(os.path.join(path_valid,\"valid.parquet\"))\n",
    "            if not path_valid_exist:\n",
    "                Path(path_valid).mkdir(parents=True, exist_ok=True)\n",
    "                df.to_parquet(os.path.join(path_valid,\"valid.parquet\"))\n",
    "                path=path_valid\n",
    "            if path_valid_exist:\n",
    "                path=os.path.join(G.working_dir,\"uncompressed\",folder_name)\n",
    "                df.to_parquet(os.path.join(path,\"test.parquet\"))  \n",
    "    else:            \n",
    "        if folder_name==\"time_features\":\n",
    "            path=os.path.join(G.working_dir,\"uncompressed\",folder_name, \"final\")\n",
    "            if not os.path.exists(path):\n",
    "                Path(path).mkdir(parents=True, exist_ok=True)\n",
    "            df.to_parquet(path)\n",
    "        else:\n",
    "            path=os.path.join(G.working_dir,\"uncompressed\",folder_name)\n",
    "            if not os.path.exists(path):\n",
    "                Path(path).mkdir(parents=True, exist_ok=True)\n",
    "            df.to_parquet(os.path.join(path,\"final.parquet\"))\n",
    "    del df\n",
    "    collect()\n",
    "    return path\n",
    "Feng.save_uncompressed=save_uncompressed"
   ]
  },
  {
   "cell_type": "code",
   "execution_count": 54,
   "id": "5310b8c1",
   "metadata": {
    "execution": {
     "iopub.execute_input": "2024-05-31T07:08:07.634163Z",
     "iopub.status.busy": "2024-05-31T07:08:07.633757Z",
     "iopub.status.idle": "2024-05-31T07:08:07.642396Z",
     "shell.execute_reply": "2024-05-31T07:08:07.641249Z"
    },
    "metadata": {},
    "papermill": {
     "duration": 0.059566,
     "end_time": "2024-05-31T07:08:07.645067",
     "exception": false,
     "start_time": "2024-05-31T07:08:07.585501",
     "status": "completed"
    },
    "tags": []
   },
   "outputs": [],
   "source": [
    "def fix_time_signal_selection(self,selected_features, verbose=True):\n",
    "    selected_features_corrected=[]\n",
    "    signal_pair_keys=list(self.signal_pair_train.keys())\n",
    "    for col in selected_features:\n",
    "        if col[:-3] in signal_pair_keys:\n",
    "            pair=self.signal_pair_train[col[:-3]]\n",
    "            selected_features_corrected+=pair\n",
    "        else:\n",
    "            selected_features_corrected+=[col]\n",
    "    selected_features_corrected=list(set(selected_features_corrected))\n",
    "    if verbose:\n",
    "        print(f\"number of selected features after correction {len(selected_features_corrected)}\")\n",
    "    return selected_features_corrected\n",
    "Feng.fix_time_signal_selection=fix_time_signal_selection"
   ]
  },
  {
   "cell_type": "code",
   "execution_count": 55,
   "id": "ae1c2cf6",
   "metadata": {
    "execution": {
     "iopub.execute_input": "2024-05-31T07:08:07.743699Z",
     "iopub.status.busy": "2024-05-31T07:08:07.743299Z",
     "iopub.status.idle": "2024-05-31T07:08:07.758970Z",
     "shell.execute_reply": "2024-05-31T07:08:07.757524Z"
    },
    "metadata": {},
    "papermill": {
     "duration": 0.068035,
     "end_time": "2024-05-31T07:08:07.761565",
     "exception": false,
     "start_time": "2024-05-31T07:08:07.693530",
     "status": "completed"
    },
    "tags": []
   },
   "outputs": [],
   "source": [
    "# helper function to create time signals\n",
    "def create_time_signals(self, df,ftype,test_type, verbose=True):\n",
    "    if ftype==\"train\":\n",
    "        self.date_cols_cts=list(df.select_dtypes(include=['datetime64']).columns)\n",
    "    date_df=df[self.date_cols_cts].copy()\n",
    "    df=df.drop(columns=self.date_cols_cts+[\"MONTH\",\"WEEK_NUM\"])\n",
    "    if test_type==\"train\":\n",
    "        target=df[[\"target\"]].copy()\n",
    "    df=df.compute()\n",
    "    df.to_parquet(\"create_time_signals_inprocess.parquet\")\n",
    "    del df\n",
    "    collect()\n",
    "    \n",
    "    fillval=pd.to_datetime('1899-01-01 00:00:00')\n",
    "    if ftype==\"train\":\n",
    "        self.signal_pair_train={}\n",
    "    for ind, col in enumerate(self.date_cols_cts):\n",
    "        # if verbose:\n",
    "        #     print(f\"col:{col}, {(ind/len(self.date_cols_cts))*100} % finnished\")\n",
    "        date_df, signal_pair=self.add_signals(date_df, col,fillval)\n",
    "        if ftype==\"train\":\n",
    "            self.signal_pair_train.update(signal_pair)\n",
    "\n",
    "    #date_df_path=self.save_uncompressed(df=date_df,ftype=ftype,test_type=test_type,folder_name=\"time_features\")\n",
    "    #if verbose:\n",
    "    #    print(f\"file saved to {date_df_path}\")\n",
    "    #clear_output()\n",
    "    if ftype==\"train\":\n",
    "        #selected_time_signals=self.select_features_efs(X=date_df, y=target, data_type=\"time_signals\", \n",
    "        #                                               ftype=ftype, verbose=verbose)\n",
    "        #\n",
    "        #self.selected_time_signals=self.fix_time_signal_selection(selected_time_signals)\n",
    "        with open(\"/kaggle/input/homecredit-pm/selected_time_signals.pickle\", \"rb\") as infile:\n",
    "            self.selected_time_signals= pickle.load(infile)\n",
    "        \n",
    "    date_df=date_df[self.selected_time_signals]\n",
    "    if verbose:\n",
    "        print(\"concatenating dataframes\")\n",
    "        \n",
    "    df=pd.read_parquet(\"create_time_signals_inprocess.parquet\")\n",
    "    try:\n",
    "        os.remove(\"create_time_signals_inprocess.parquet\")\n",
    "    except Exception:\n",
    "        pass\n",
    "    if verbose:\n",
    "        print(f\"# cols in df before merge {df.shape[1]}\")\n",
    "    date_df=date_df.compute()\n",
    "    df=df.merge(date_df, how='left', left_index=True, right_index=True)\n",
    "    if verbose:\n",
    "        print(f\"# of cols in date_df{date_df.shape[1]}, # of cols in df after merge {df.shape[1]}\")\n",
    "    #client.cancel(date_df)\n",
    "    del date_df\n",
    "    collect()\n",
    "    if verbose:\n",
    "        print(f\"Memory use of pandas df: {round(df.memory_usage().sum()/ 1024**2,2)}\")\n",
    "    return df\n",
    "Feng.create_time_signals=create_time_signals"
   ]
  },
  {
   "cell_type": "code",
   "execution_count": 56,
   "id": "761d99fd",
   "metadata": {
    "execution": {
     "iopub.execute_input": "2024-05-31T07:08:07.864327Z",
     "iopub.status.busy": "2024-05-31T07:08:07.863060Z",
     "iopub.status.idle": "2024-05-31T07:08:07.872603Z",
     "shell.execute_reply": "2024-05-31T07:08:07.871542Z"
    },
    "metadata": {},
    "papermill": {
     "duration": 0.06434,
     "end_time": "2024-05-31T07:08:07.875090",
     "exception": false,
     "start_time": "2024-05-31T07:08:07.810750",
     "status": "completed"
    },
    "tags": []
   },
   "outputs": [],
   "source": [
    "def create_engineer(self, ftype,loca, test_type, depts=[0,1], df=None, engine='fastparquet', verbose=True):\n",
    "    if df is None:\n",
    "        df=self.get_dask_dataset(ftype=ftype, depts=depts,test_type=test_type, loca=loca, engine=engine, verbose=verbose)\n",
    "    if verbose:\n",
    "        print(\"encoding boolean columns\")\n",
    "    df=self.encode_boolean(df=df,  ftype=ftype, test_type=test_type)\n",
    "    if verbose:\n",
    "        print(\"creating time signals\")\n",
    "    df=self.create_time_signals(df=df, ftype=ftype, test_type=test_type, verbose=verbose)\n",
    "    if verbose:\n",
    "        print(f\" number of date columns in df {len([col for col in self.selected_time_signals if col in df.columns])}\")\n",
    "    return df\n",
    "Feng.create_engineer=create_engineer"
   ]
  },
  {
   "cell_type": "code",
   "execution_count": 57,
   "id": "0b1f7aa7",
   "metadata": {
    "execution": {
     "iopub.execute_input": "2024-05-31T07:08:07.974587Z",
     "iopub.status.busy": "2024-05-31T07:08:07.974150Z",
     "iopub.status.idle": "2024-05-31T07:08:07.981901Z",
     "shell.execute_reply": "2024-05-31T07:08:07.980624Z"
    },
    "metadata": {},
    "papermill": {
     "duration": 0.061062,
     "end_time": "2024-05-31T07:08:07.984256",
     "exception": false,
     "start_time": "2024-05-31T07:08:07.923194",
     "status": "completed"
    },
    "tags": []
   },
   "outputs": [],
   "source": [
    "class Encodings(Feng):\n",
    "    \"\"\"Class that encodes categorical features by  TF-IDF by building a vocabulary that \n",
    "    only consider the top 100 ordered by term frequency across the corpus. \n",
    "    (Note: Initial approach was to calcuate tf-idf for whole corpus without a max feature limit then apply incremental pca \n",
    "    to reduce dimention and obtain latent semantics, but I found it to be less effective then simply getting tf-idf of\n",
    "    top 100 category feature. Therefore code for pca step commented out.) \n",
    "    then using ridgeclassifier with recursive feature elimination selects important category features.\n",
    "    And return dataframe with selected features.\n",
    "    \"\"\"\n",
    "    def __init__(self):\n",
    "        super(Encodings,self).__init__()\n",
    "        self.n_component_cat=150#130"
   ]
  },
  {
   "cell_type": "code",
   "execution_count": 58,
   "id": "fcd511c9",
   "metadata": {
    "execution": {
     "iopub.execute_input": "2024-05-31T07:08:08.082951Z",
     "iopub.status.busy": "2024-05-31T07:08:08.082252Z",
     "iopub.status.idle": "2024-05-31T07:08:08.088153Z",
     "shell.execute_reply": "2024-05-31T07:08:08.087029Z"
    },
    "metadata": {},
    "papermill": {
     "duration": 0.058095,
     "end_time": "2024-05-31T07:08:08.090528",
     "exception": false,
     "start_time": "2024-05-31T07:08:08.032433",
     "status": "completed"
    },
    "tags": []
   },
   "outputs": [],
   "source": [
    "def sentence(row):\n",
    "    sep=\" \"\n",
    "    sent=\"\"\n",
    "    for i in row:\n",
    "        sent+=i+sep\n",
    "    return sent[:-1]\n",
    "Encodings.sentence=sentence"
   ]
  },
  {
   "cell_type": "code",
   "execution_count": 59,
   "id": "d0310710",
   "metadata": {
    "execution": {
     "iopub.execute_input": "2024-05-31T07:08:08.188908Z",
     "iopub.status.busy": "2024-05-31T07:08:08.188163Z",
     "iopub.status.idle": "2024-05-31T07:08:08.194426Z",
     "shell.execute_reply": "2024-05-31T07:08:08.193065Z"
    },
    "metadata": {},
    "papermill": {
     "duration": 0.058559,
     "end_time": "2024-05-31T07:08:08.197068",
     "exception": false,
     "start_time": "2024-05-31T07:08:08.138509",
     "status": "completed"
    },
    "tags": []
   },
   "outputs": [],
   "source": [
    "def row_to_sent(row):\n",
    "    row=row.copy()\n",
    "    return sentence(row.tolist())"
   ]
  },
  {
   "cell_type": "code",
   "execution_count": 60,
   "id": "ceacc7d1",
   "metadata": {
    "execution": {
     "iopub.execute_input": "2024-05-31T07:08:08.296362Z",
     "iopub.status.busy": "2024-05-31T07:08:08.295083Z",
     "iopub.status.idle": "2024-05-31T07:08:08.303293Z",
     "shell.execute_reply": "2024-05-31T07:08:08.302362Z"
    },
    "metadata": {},
    "papermill": {
     "duration": 0.061158,
     "end_time": "2024-05-31T07:08:08.305999",
     "exception": false,
     "start_time": "2024-05-31T07:08:08.244841",
     "status": "completed"
    },
    "tags": []
   },
   "outputs": [],
   "source": [
    "def transform_cat_to_seq(self,df, ftype,test_type, verbose=True):\n",
    "    if verbose:\n",
    "        print(\"transforming categorical to sequences\")\n",
    "    if ftype==\"train\":\n",
    "        self.cat_cols_enc=list(df.select_dtypes(include=['category']).columns)\n",
    "    cat_df=df[self.cat_cols_enc].copy()\n",
    "    df=df.drop(self.cat_cols_enc, axis=1)\n",
    "    #cat_df_path=self.save_uncompressed(df=cat_df, ftype=ftype,test_type=test_type, folder_name=\"cat_features\")\n",
    "    #if verbose:\n",
    "    #    print(f\"file saved to {cat_df_path}\")\n",
    "    collect()\n",
    "    cat_df=cat_df.astype(\"str\")\n",
    "    cat_seq=cat_df.apply(row_to_sent, axis=1)\n",
    "    return cat_seq , df\n",
    "Encodings.transform_cat_to_seq=transform_cat_to_seq"
   ]
  },
  {
   "cell_type": "code",
   "execution_count": 61,
   "id": "1a277c67",
   "metadata": {
    "execution": {
     "iopub.execute_input": "2024-05-31T07:08:08.420721Z",
     "iopub.status.busy": "2024-05-31T07:08:08.420278Z",
     "iopub.status.idle": "2024-05-31T07:08:08.428872Z",
     "shell.execute_reply": "2024-05-31T07:08:08.427257Z"
    },
    "metadata": {},
    "papermill": {
     "duration": 0.07504,
     "end_time": "2024-05-31T07:08:08.431249",
     "exception": false,
     "start_time": "2024-05-31T07:08:08.356209",
     "status": "completed"
    },
    "tags": []
   },
   "outputs": [],
   "source": [
    "def get_TF_IDF(self,cat_seq, ftype, verbose=True):\n",
    "    if ftype==\"train\":\n",
    "        if verbose:\n",
    "            print(f\"vectorizing cat features with TF-IDF\")\n",
    "        self.vectorizer = TfidfVectorizer(dtype=\"float32\",max_features=100)\n",
    "        self.vectorizer.fit(cat_seq)\n",
    "        cat_seq=self.vectorizer.transform(cat_seq).toarray()\n",
    "        cat_seq=cat_seq.astype(\"float16\")\n",
    "    else:\n",
    "        if verbose:\n",
    "            print(f\"vectorizing cat features with TF-IDF\")\n",
    "        cat_seq=self.vectorizer.transform(cat_seq).toarray()\n",
    "        cat_seq=cat_seq.astype(\"float16\")\n",
    "    return cat_seq\n",
    "Encodings.get_TF_IDF=get_TF_IDF"
   ]
  },
  {
   "cell_type": "code",
   "execution_count": 62,
   "id": "6943a333",
   "metadata": {
    "execution": {
     "iopub.execute_input": "2024-05-31T07:08:08.532188Z",
     "iopub.status.busy": "2024-05-31T07:08:08.531770Z",
     "iopub.status.idle": "2024-05-31T07:08:08.538350Z",
     "shell.execute_reply": "2024-05-31T07:08:08.537040Z"
    },
    "metadata": {},
    "papermill": {
     "duration": 0.060349,
     "end_time": "2024-05-31T07:08:08.540923",
     "exception": false,
     "start_time": "2024-05-31T07:08:08.480574",
     "status": "completed"
    },
    "tags": []
   },
   "outputs": [],
   "source": [
    "def arr_to_daskarr(self,arr, verbose=True):\n",
    "    arr = from_array(arr, chunks=\"auto\")\n",
    "    arr.compute_chunk_sizes()\n",
    "    return arr\n",
    "Encodings.arr_to_daskarr=arr_to_daskarr"
   ]
  },
  {
   "cell_type": "code",
   "execution_count": 63,
   "id": "823463d9",
   "metadata": {
    "execution": {
     "iopub.execute_input": "2024-05-31T07:08:08.640235Z",
     "iopub.status.busy": "2024-05-31T07:08:08.639787Z",
     "iopub.status.idle": "2024-05-31T07:08:08.648209Z",
     "shell.execute_reply": "2024-05-31T07:08:08.646845Z"
    },
    "metadata": {},
    "papermill": {
     "duration": 0.061214,
     "end_time": "2024-05-31T07:08:08.650807",
     "exception": false,
     "start_time": "2024-05-31T07:08:08.589593",
     "status": "completed"
    },
    "tags": []
   },
   "outputs": [],
   "source": [
    "def get_lsa(self, cat_seq, ftype, verbose=True):\n",
    "    #cat_seq=client.persist(cat_seq)\n",
    "    if verbose:\n",
    "        print(f\"applying svd to get LSA model with TF-IDF\")\n",
    "    if ftype==\"train\":\n",
    "        self.svd_lsa =IncrementalPCA(n_components=self.n_component_cat, random_state=0)\n",
    "        self.svd_lsa.fit(cat_seq)\n",
    "        cat_seq=self.svd_lsa.transform(cat_seq)\n",
    "    else:\n",
    "        cat_seq=self.svd_lsa.transform(cat_seq)\n",
    "    cat_seq=cat_seq.compute()\n",
    "    if verbose:\n",
    "        print(\"computed cat seq \")\n",
    "    client.cancel(cat_seq)\n",
    "    cat_seq=cat_seq.astype(\"float16\")\n",
    "    return cat_seq\n",
    "Encodings.get_lsa=get_lsa"
   ]
  },
  {
   "cell_type": "code",
   "execution_count": 64,
   "id": "a9030482",
   "metadata": {
    "execution": {
     "iopub.execute_input": "2024-05-31T07:08:08.749310Z",
     "iopub.status.busy": "2024-05-31T07:08:08.748813Z",
     "iopub.status.idle": "2024-05-31T07:08:08.768903Z",
     "shell.execute_reply": "2024-05-31T07:08:08.767228Z"
    },
    "metadata": {},
    "papermill": {
     "duration": 0.072783,
     "end_time": "2024-05-31T07:08:08.771676",
     "exception": false,
     "start_time": "2024-05-31T07:08:08.698893",
     "status": "completed"
    },
    "tags": []
   },
   "outputs": [],
   "source": [
    "def eng_cats(self,df,test_type, ftype, verbose=True):\n",
    "    index=df.index.copy()\n",
    "    if ftype==\"train\":\n",
    "        target=df[[\"target\"]].copy()\n",
    "        df=df.drop(columns=[\"target\"])\n",
    "        cat_seq, df =self.transform_cat_to_seq(df=df, ftype=\"train\", test_type=test_type, verbose=verbose)\n",
    "    else:\n",
    "        if test_type==\"train\":\n",
    "            target=df[[\"target\"]].copy()\n",
    "            df=df.drop(columns=[\"target\"])\n",
    "        cat_seq, df =self.transform_cat_to_seq(df, ftype=\"test\",test_type=test_type,  verbose=verbose)\n",
    "\n",
    "    if verbose:\n",
    "        print(f\" number of date columns in df {len([col for col in self.selected_time_signals if col in df.columns])}\")\n",
    "        #print(f\"cat_seq created size {round(cat_seq.nbytes/1024**2,2)}. Total ram used (GB):' {psutil.virtual_memory()[3]/1000000000}\")\n",
    "    try:\n",
    "        os.remove(\"eng_cat_inprocess.parquet\")\n",
    "    except Exception:\n",
    "        pass\n",
    "    df.to_parquet(\"eng_cat_inprocess.parquet\")\n",
    "    del df \n",
    "    collect()\n",
    "    libc = ctypes.CDLL(\"libc.so.6\")\n",
    "    libc.malloc_trim(0)\n",
    "    if verbose:\n",
    "        print(f\"df savd to parquet and deleted total ram used (GB):' {psutil.virtual_memory()[3]/1000000000}\")\n",
    "    \n",
    "    if ftype==\"train\":\n",
    "        cat_seq=self.get_TF_IDF(cat_seq, \"train\", verbose=verbose)\n",
    "        #if verbose:\n",
    "        #    print(f\"Total ram used (GB) after tf_idf:' {psutil.virtual_memory()[3]/1000000000}\")\n",
    "        #cat_seq=self.arr_to_daskarr(cat_seq,verbose=verbose)\n",
    "        #if verbose:\n",
    "        #    print(f\"Total ram used (GB) after creating dask array:' {psutil.virtual_memory()[3]/1000000000}\")\n",
    "        #cat_seq=self.get_lsa(cat_seq, \"train\", verbose=verbose)\n",
    "    else:\n",
    "        cat_seq=self.get_TF_IDF(cat_seq, \"test\", verbose=verbose)\n",
    "        #cat_seq=self.arr_to_daskarr(cat_seq, verbose=verbose)\n",
    "        #cat_seq=self.get_lsa(cat_seq, \"test\", verbose=verbose)\n",
    "    libc.malloc_trim(0)    \n",
    "    if verbose:\n",
    "        print(\"extracted latent semantics of cat seq\")\n",
    "    new_cat_cols=[\"categorical_\"+str(i) for i in range(cat_seq.shape[1])]\n",
    "    \n",
    "    cat_seq=pd.DataFrame(data=cat_seq, columns=new_cat_cols,index=index)\n",
    "    if verbose:\n",
    "        print(f\"Converted cat_seq to dataframe, Memory use of pandas df: {round(cat_seq.memory_usage().sum()/ 1024**2,2)}\")\n",
    "    del new_cat_cols        \n",
    "    \n",
    "    if ftype==\"train\":\n",
    "        #self.selected_cat_encodings=self.select_features_efs(X=cat_seq, \n",
    "        #                                                     y=target, \n",
    "        #                                                    data_type=\"cat_encodings\",\n",
    "        #                                                    ftype=ftype,\n",
    "        #                                                      verbose=verbose)\n",
    "        with open(\"/kaggle/input/homecredit-pm/selected_cat_encodings.pickle\", \"rb\") as infile:\n",
    "            self.selected_cat_encodings= pickle.load(infile)\n",
    "        \n",
    "    cat_seq=cat_seq[self.selected_cat_encodings]\n",
    "\n",
    "    df=pd.read_parquet(\"eng_cat_inprocess.parquet\")\n",
    "    \n",
    "    if verbose:\n",
    "        print(f\"# of cols in cat_seq{cat_seq.shape[1]}, # of cols in df before merge {df.shape[1]}\")\n",
    "        \n",
    "    try:\n",
    "        os.remove(\"eng_cat_inprocess.parquet\")\n",
    "    except Exception:\n",
    "        pass\n",
    "    # df[new_cat_cols]=cat_seq\n",
    "    df=df.merge(cat_seq, how='left', left_index=True, right_index=True)\n",
    "    del cat_seq\n",
    "    \n",
    "    if verbose:\n",
    "        print(f\"# of cols in df after merging with cat_seq {df.shape[1]}\")\n",
    "        \n",
    "    if test_type ==\"train\":\n",
    "        df=df.merge(target, how='left', left_index=True, right_index=True)\n",
    "        del target\n",
    "        # if verbose:\n",
    "        #     print(f\"eng_cats method valid-test splits NA count {df['target'].isna().sum()}\")\n",
    "    collect()\n",
    "    return df\n",
    "Encodings.eng_cats=eng_cats"
   ]
  },
  {
   "cell_type": "code",
   "execution_count": 65,
   "id": "b30c3c75",
   "metadata": {
    "execution": {
     "iopub.execute_input": "2024-05-31T07:08:08.870917Z",
     "iopub.status.busy": "2024-05-31T07:08:08.870516Z",
     "iopub.status.idle": "2024-05-31T07:08:08.879110Z",
     "shell.execute_reply": "2024-05-31T07:08:08.877885Z"
    },
    "metadata": {},
    "papermill": {
     "duration": 0.06199,
     "end_time": "2024-05-31T07:08:08.881719",
     "exception": false,
     "start_time": "2024-05-31T07:08:08.819729",
     "status": "completed"
    },
    "tags": []
   },
   "outputs": [],
   "source": [
    "def create_engineer_encode(self, ftype, loca,test_type, depts=[0,1], df=None,  engine='fastparquet', verbose=True):\n",
    "    if df is None:\n",
    "        df=self.create_engineer(ftype=ftype,test_type=test_type, depts=depts,loca=loca,  engine=engine, verbose=verbose)\n",
    "        \n",
    "    df=self.eng_cats(df=df,test_type=test_type, ftype=ftype,verbose=verbose)\n",
    "    if verbose:\n",
    "        print(f\" number of date columns in df {len([col for col in self.selected_time_signals if col in df.columns])}\")\n",
    "        print(f\" number of cat columns in df {len([col for col in self.selected_cat_encodings if col in df.columns])}\")\n",
    "    return df \n",
    "Encodings.create_engineer_encode=create_engineer_encode"
   ]
  },
  {
   "cell_type": "code",
   "execution_count": 66,
   "id": "2a31028c",
   "metadata": {
    "execution": {
     "iopub.execute_input": "2024-05-31T07:08:08.981171Z",
     "iopub.status.busy": "2024-05-31T07:08:08.980744Z",
     "iopub.status.idle": "2024-05-31T07:08:08.986862Z",
     "shell.execute_reply": "2024-05-31T07:08:08.985732Z"
    },
    "metadata": {},
    "papermill": {
     "duration": 0.059636,
     "end_time": "2024-05-31T07:08:08.989655",
     "exception": false,
     "start_time": "2024-05-31T07:08:08.930019",
     "status": "completed"
    },
    "tags": []
   },
   "outputs": [],
   "source": [
    "class Imp_Scale(Encodings):\n",
    "    \"\"\"Class that imputes missing values with column mean and scales to 0-1 range. \n",
    "    Then using ridgeclassifier with recursive feature elimination selects important numeric features.\n",
    "    And return dataframe with selected features\"\"\"\n",
    "    def __init__(self):\n",
    "        super(Imp_Scale,self).__init__()"
   ]
  },
  {
   "cell_type": "code",
   "execution_count": 67,
   "id": "dd67156f",
   "metadata": {
    "execution": {
     "iopub.execute_input": "2024-05-31T07:08:09.089001Z",
     "iopub.status.busy": "2024-05-31T07:08:09.088555Z",
     "iopub.status.idle": "2024-05-31T07:08:09.095908Z",
     "shell.execute_reply": "2024-05-31T07:08:09.094917Z"
    },
    "papermill": {
     "duration": 0.060673,
     "end_time": "2024-05-31T07:08:09.098687",
     "exception": false,
     "start_time": "2024-05-31T07:08:09.038014",
     "status": "completed"
    },
    "tags": []
   },
   "outputs": [],
   "source": [
    "def fix_numeric_cols(self, df_cols):\n",
    "    fixed_numeric_cols=[]\n",
    "    for col in df_cols:\n",
    "        if not (col.endswith(\"MonthSin\") or \\\n",
    "                col.endswith(\"MonthCos\") or \\\n",
    "                col.endswith(\"YearSin\") or \\\n",
    "                col.endswith(\"YearCos\") or \\\n",
    "                col.startswith(\"categorical_\") or \\\n",
    "                col ==\"target\"):\n",
    "            fixed_numeric_cols.append(col)\n",
    "    return fixed_numeric_cols\n",
    "\n",
    "Imp_Scale.fix_numeric_cols = fix_numeric_cols"
   ]
  },
  {
   "cell_type": "code",
   "execution_count": 68,
   "id": "9b807159",
   "metadata": {
    "execution": {
     "iopub.execute_input": "2024-05-31T07:08:09.199438Z",
     "iopub.status.busy": "2024-05-31T07:08:09.198473Z",
     "iopub.status.idle": "2024-05-31T07:08:09.213032Z",
     "shell.execute_reply": "2024-05-31T07:08:09.211891Z"
    },
    "metadata": {},
    "papermill": {
     "duration": 0.067397,
     "end_time": "2024-05-31T07:08:09.215453",
     "exception": false,
     "start_time": "2024-05-31T07:08:09.148056",
     "status": "completed"
    },
    "tags": []
   },
   "outputs": [],
   "source": [
    "def select_numeric_features(self,df,test_type, ftype, verbose=True):\n",
    "    if verbose:\n",
    "        print(f\"select_numeric_features beginning shape of full df {df.shape}\")\n",
    "    cat_dates_cols=self.selected_time_signals+self.selected_cat_encodings\n",
    "    if test_type==\"train\":\n",
    "        target=df[[\"target\"]].copy()\n",
    "        if verbose:\n",
    "            print(f\"select_numeric_features 'target' shape {target.shape}\")\n",
    "    cat_date_df=df[cat_dates_cols].copy()\n",
    "    \n",
    "    numeric_cols_fixed=self.fix_numeric_cols(df.columns)\n",
    "    numeric_df=df[numeric_cols_fixed].copy()\n",
    "    \n",
    "    del df\n",
    "    collect()\n",
    "\n",
    "    try:\n",
    "        os.remove(\"select_numeric_inprocess.parquet\")\n",
    "    except Exception:\n",
    "        pass\n",
    "    cat_date_df.to_parquet(\"select_numeric_inprocess.parquet\")\n",
    "    del cat_date_df\n",
    "    collect()\n",
    "\n",
    "    #num_df_path=self.save_uncompressed(df=numeric_df, ftype=ftype,test_type=test_type, folder_name=\"num_features\")\n",
    "    #if verbose:\n",
    "    #    print(f\"file saved to {num_df_path}\")\n",
    "    if ftype==\"train\":\n",
    "        #self.selected_numerics=self.select_features_efs(X=numeric_df, y=target, \n",
    "        #                                            data_type=\"numeric\",ftype=ftype,\n",
    "        #                                              verbose=verbose)\n",
    "        with open(\"/kaggle/input/homecredit-pm/selected_numerics.pickle\", \"rb\") as infile:\n",
    "            self.selected_numerics= pickle.load(infile)\n",
    "        \n",
    "        \n",
    "    numeric_df=numeric_df[self.selected_numerics]\n",
    "    cat_date_df=pd.read_parquet(\"select_numeric_inprocess.parquet\")\n",
    "    try:\n",
    "        os.remove(\"select_numeric_inprocess.parquet\")\n",
    "    except Exception:\n",
    "        pass\n",
    "\n",
    "    if verbose:\n",
    "        print(f\"shape of df before merge with numeric {cat_date_df.shape}\")\n",
    "    df=cat_date_df.merge(numeric_df, how='left', left_index=True, right_index=True)\n",
    "    if verbose:\n",
    "        print(f\"shape of df after merge with numeric {df.shape}\")\n",
    "\n",
    "    if test_type==\"train\":\n",
    "        df=df.merge(target, how='left', left_index=True, right_index=True)\n",
    "        if verbose:\n",
    "            print(f\"shape of df after merge with target {df.shape}\")\n",
    "            print(f\"select_numeric_features method train-valid-test splits NA count {df['target'].isna().sum()}\")\n",
    "    if verbose:\n",
    "        print(f\"select_numeric_features ended shape of full df {df.shape}, # of numeric features {numeric_df.shape[1]}, cat features {len(self.selected_cat_encodings)}, time_features: {len(self.selected_time_signals)}\")\n",
    "    del numeric_df, cat_date_df\n",
    "    collect()\n",
    "    return df\n",
    "Imp_Scale.select_numeric_features = select_numeric_features"
   ]
  },
  {
   "cell_type": "code",
   "execution_count": 69,
   "id": "d96acdd3",
   "metadata": {
    "execution": {
     "iopub.execute_input": "2024-05-31T07:08:09.315609Z",
     "iopub.status.busy": "2024-05-31T07:08:09.315219Z",
     "iopub.status.idle": "2024-05-31T07:08:09.334550Z",
     "shell.execute_reply": "2024-05-31T07:08:09.333422Z"
    },
    "metadata": {},
    "papermill": {
     "duration": 0.072631,
     "end_time": "2024-05-31T07:08:09.336999",
     "exception": false,
     "start_time": "2024-05-31T07:08:09.264368",
     "status": "completed"
    },
    "tags": []
   },
   "outputs": [],
   "source": [
    "def impute_scale(self,df,test_type, ftype, verbose=True):\n",
    "    if verbose: \n",
    "        print(\"beginning impute scale method\")\n",
    "    df=df.fillna(np.nan)\n",
    "    pandas_type_cols=list(df.select_dtypes(include=[pd.Float32Dtype(), pd.Float64Dtype()]).columns)\n",
    "    df = df.astype({col:\"float32\" for col in pandas_type_cols})\n",
    "    wait(df)\n",
    "\n",
    "    if test_type == \"train\":\n",
    "        #target=df[\"target\"].values.compute()\n",
    "        target=df[[\"target\"]].copy().compute()\n",
    "        df=df.drop(columns=[\"target\"])\n",
    "    cols=df.columns.tolist()\n",
    "    array=df.to_dask_array(lengths=True)\n",
    "    array=client.persist(array)\n",
    "    index=df.index.compute()\n",
    "    if verbose:\n",
    "        print(f\" number of date columns in df {len([col for col in self.selected_time_signals if col in df.columns])}\")\n",
    "        print(f\" number of cat columns in df {len([col for col in self.selected_cat_encodings if col in df.columns])}\")\n",
    "    del df\n",
    "    collect()\n",
    "\n",
    "    if ftype==\"train\":\n",
    "        if verbose: \n",
    "            print(\"imputing nan with mean\")\n",
    "        self.imp_median = SimpleImputer(strategy='mean')\n",
    "        self.imp_median.fit(array)\n",
    "        array=self.imp_median.transform(array)\n",
    "        if verbose: \n",
    "            print(\"normalizing to 0-1 range\")\n",
    "        array=array.compute()\n",
    "        #self.scale=MinMaxScaler()\n",
    "        self.scale=MMs_sk()\n",
    "        self.scale.fit(array)\n",
    "        array=self.scale.transform(array)\n",
    "    else:\n",
    "        array=self.imp_median.transform(array)\n",
    "        array=array.compute()\n",
    "        array=self.scale.transform(array)\n",
    "        \n",
    "    #array=array.compute()\n",
    "    df=pd.DataFrame(array, columns=cols, index=index)\n",
    "    if verbose:\n",
    "        print(f\" number of date columns in df {len([col for col in self.selected_time_signals if col in df.columns])}\")\n",
    "        print(f\" number of cat columns in df {len([col for col in self.selected_cat_encodings if col in df.columns])}\")\n",
    "    del array\n",
    "\n",
    "    if test_type == \"train\":\n",
    "        df=df.merge(target, how='left', left_index=True, right_index=True)\n",
    "        del target\n",
    "        collect()\n",
    "        if verbose:\n",
    "            print(f\"impute_scale method train-valid-test splits NA count {df['target'].isna().sum()}\")\n",
    "    if verbose:\n",
    "        print(\"selected time and cat cols that are currently in df\",\n",
    "              len([col for col in df.columns if col in self.selected_time_signals+self.selected_cat_encodings]),\n",
    "             \"number of columns currently in df\",len(df.columns),\"number of time and cat cols selected\",\n",
    "              len(self.selected_time_signals+self.selected_cat_encodings) )\n",
    "\n",
    "        print(\"selecting numeric columns\")\n",
    "\n",
    "    df=self.select_numeric_features(df,test_type=test_type, ftype=ftype, verbose=True)\n",
    "    #col_types_dict={\"numeric_cols\":self.selected_numerics, \n",
    "    #                \"date_cols\":self.selected_time_signals, \n",
    "    #                \"cat_cols\":self.selected_cat_encodings}\n",
    "    #with open(\"col_types_dict.pickle\", \"wb\") as outfile:\n",
    "    #    pickle.dump(col_types_dict, outfile)\n",
    "    if verbose:\n",
    "        print(\"impute_scale completed\")\n",
    "    return df\n",
    "Imp_Scale.impute_scale = impute_scale"
   ]
  },
  {
   "cell_type": "code",
   "execution_count": 70,
   "id": "f5a40aa4",
   "metadata": {
    "execution": {
     "iopub.execute_input": "2024-05-31T07:08:09.438088Z",
     "iopub.status.busy": "2024-05-31T07:08:09.436830Z",
     "iopub.status.idle": "2024-05-31T07:08:09.452128Z",
     "shell.execute_reply": "2024-05-31T07:08:09.450715Z"
    },
    "metadata": {},
    "papermill": {
     "duration": 0.068837,
     "end_time": "2024-05-31T07:08:09.455676",
     "exception": false,
     "start_time": "2024-05-31T07:08:09.386839",
     "status": "completed"
    },
    "tags": []
   },
   "outputs": [],
   "source": [
    "def create_engineer_encode_imp_scale(self, ftype, loca, test_type, depts=[0,1], df=None, engine='auto', verbose=True):\n",
    "    if df is None:\n",
    "        df = self.df_to_parquet_to_dask(ftype = ftype, \n",
    "                                      df = self.create_engineer_encode(ftype=ftype, \n",
    "                                                                       test_type=test_type,\n",
    "                                                                 depts = depts, \n",
    "                                                                 df = None, \n",
    "                                                                       loca=loca,\n",
    "                                                                 engine = 'fastparquet', \n",
    "                                                                 verbose = verbose),\n",
    "                                      engine = 'fastparquet',\n",
    "                                      verbose = verbose)\n",
    "        if verbose:\n",
    "            print(\"selected time and cat cols that are currently in df\",\n",
    "                  len([col for col in df.columns if col in self.selected_time_signals+self.selected_cat_encodings]),\n",
    "                 \"number of columns currently in df\",len(df.columns),\"number of time and cat cols selected\",\n",
    "                  len(self.selected_time_signals+self.selected_cat_encodings) )\n",
    "    else:\n",
    "        df = self.df_to_parquet_to_dask(ftype = ftype, \n",
    "                                      df = df,\n",
    "                                      engine = 'fastparquet',\n",
    "                                      verbose = verbose)\n",
    "        \n",
    "    df=self.impute_scale(df,test_type=test_type, ftype = ftype, verbose=verbose)\n",
    "    \n",
    "    if ftype ==\"train\":\n",
    "        self.train_cols_final_output=df.columns.tolist()\n",
    "    else:\n",
    "        if test_type==\"train\":\n",
    "            df=df[self.train_cols_final_output]\n",
    "            if verbose:\n",
    "                print(f\"create_engineer_encode_imp_scale method valid-test splits NA count {df['target'].isna().sum()}\")\n",
    "        else:\n",
    "            df=df[[col for col in self.train_cols_final_output if col!='target']]\n",
    "    df = self.df_to_parquet_to_dask(ftype = ftype, \n",
    "                                      df = df,\n",
    "                                      engine = 'fastparquet',\n",
    "                                      verbose = verbose)\n",
    "    \n",
    "    return df \n",
    "Imp_Scale.create_engineer_encode_imp_scale=create_engineer_encode_imp_scale"
   ]
  },
  {
   "cell_type": "code",
   "execution_count": 71,
   "id": "9d1e8938",
   "metadata": {
    "execution": {
     "iopub.execute_input": "2024-05-31T07:08:09.556883Z",
     "iopub.status.busy": "2024-05-31T07:08:09.556473Z",
     "iopub.status.idle": "2024-05-31T07:08:09.563516Z",
     "shell.execute_reply": "2024-05-31T07:08:09.562409Z"
    },
    "metadata": {},
    "papermill": {
     "duration": 0.060252,
     "end_time": "2024-05-31T07:08:09.565913",
     "exception": false,
     "start_time": "2024-05-31T07:08:09.505661",
     "status": "completed"
    },
    "tags": []
   },
   "outputs": [],
   "source": [
    "class SplitProcess(Imp_Scale):\n",
    "    \"\"\"Class that splits the raw data into train - test - validation and call processing pipeline to process them seperately to avoid data leak. \n",
    "    Also performs a feature selection by using feature imprtances of semi-tuned xgb model with dart booster \n",
    "    after optimising the feature importance threshold to maximise auc score. \n",
    "    Prepares data for model training and returns train - test - validation dask dataframes.\n",
    "    \"\"\"\n",
    "    def __init__(self):\n",
    "        super(SplitProcess, self).__init__()"
   ]
  },
  {
   "cell_type": "code",
   "execution_count": 72,
   "id": "a668cf59",
   "metadata": {
    "execution": {
     "iopub.execute_input": "2024-05-31T07:08:09.668086Z",
     "iopub.status.busy": "2024-05-31T07:08:09.666766Z",
     "iopub.status.idle": "2024-05-31T07:08:09.676317Z",
     "shell.execute_reply": "2024-05-31T07:08:09.674732Z"
    },
    "metadata": {},
    "papermill": {
     "duration": 0.063281,
     "end_time": "2024-05-31T07:08:09.679216",
     "exception": false,
     "start_time": "2024-05-31T07:08:09.615935",
     "status": "completed"
    },
    "tags": []
   },
   "outputs": [],
   "source": [
    "def get_splits_from_trainbase(self, folder, verbose=True):\n",
    "    if verbose:\n",
    "        print(\"getting splits by caseid\")\n",
    "    train_base_adress=[filename for filename in folder if filename.split(\"/\")[-1].startswith(\"train_base.parquet\")][0]\n",
    "    df = pd.read_parquet(train_base_adress, columns=[\"case_id\",\"target\"])\n",
    "    X_sub, X_test, y_sub, y_test = train_test_split(df[\"case_id\"].to_numpy(),df[\"target\"].to_numpy(), test_size=0.2, \n",
    "                                                     random_state=0, shuffle=False)#, stratify=df[\"target\"].to_numpy())\n",
    "    X_train, X_valid = train_test_split(X_sub, test_size=0.25, \n",
    "                                        random_state=0, shuffle=False) #shuffle=True, stratify=y_sub)\n",
    "    del X_sub\n",
    "    del y_sub\n",
    "    return X_train, X_valid, X_test\n",
    "SplitProcess.get_splits_from_trainbase=get_splits_from_trainbase"
   ]
  },
  {
   "cell_type": "code",
   "execution_count": 73,
   "id": "053761cb",
   "metadata": {
    "execution": {
     "iopub.execute_input": "2024-05-31T07:08:09.780417Z",
     "iopub.status.busy": "2024-05-31T07:08:09.780014Z",
     "iopub.status.idle": "2024-05-31T07:08:09.789775Z",
     "shell.execute_reply": "2024-05-31T07:08:09.788199Z"
    },
    "metadata": {},
    "papermill": {
     "duration": 0.063312,
     "end_time": "2024-05-31T07:08:09.792191",
     "exception": false,
     "start_time": "2024-05-31T07:08:09.728879",
     "status": "completed"
    },
    "tags": []
   },
   "outputs": [],
   "source": [
    "def create_split_dirs(self):\n",
    "    cwd=G.working_dir\n",
    "    main_dir=\"splited_train_parquet_files\"\n",
    "    train_dir=os.path.join(cwd, main_dir, \"train\",\"train\")\n",
    "    valid_dir=os.path.join(cwd, main_dir, \"valid\",\"test\")\n",
    "    test_dir=os.path.join(cwd, main_dir, \"test\",\"test\")\n",
    "    if os.path.isdir(train_dir):\n",
    "        shutil.rmtree(train_dir)\n",
    "    if os.path.isdir(valid_dir):\n",
    "        shutil.rmtree(valid_dir)\n",
    "    if os.path.isdir(test_dir):\n",
    "        shutil.rmtree(test_dir)\n",
    "    Path(train_dir).mkdir(parents=True, exist_ok=True)\n",
    "    Path(valid_dir).mkdir(parents=True, exist_ok=True)\n",
    "    Path(test_dir).mkdir(parents=True, exist_ok=True)\n",
    "    return train_dir, valid_dir, test_dir\n",
    "SplitProcess.create_split_dirs=create_split_dirs"
   ]
  },
  {
   "cell_type": "code",
   "execution_count": 74,
   "id": "ec45c162",
   "metadata": {
    "execution": {
     "iopub.execute_input": "2024-05-31T07:08:09.896610Z",
     "iopub.status.busy": "2024-05-31T07:08:09.896193Z",
     "iopub.status.idle": "2024-05-31T07:08:09.912015Z",
     "shell.execute_reply": "2024-05-31T07:08:09.910892Z"
    },
    "metadata": {},
    "papermill": {
     "duration": 0.071374,
     "end_time": "2024-05-31T07:08:09.914514",
     "exception": false,
     "start_time": "2024-05-31T07:08:09.843140",
     "status": "completed"
    },
    "tags": []
   },
   "outputs": [],
   "source": [
    "def fill_split_dirs(self, depts=[0,1], verbose=True):\n",
    "    source=[]\n",
    "    for dept in depts:\n",
    "        s1= self.get_source(\"int\", dept)\n",
    "        s2= self.get_source(\"ext\", dept)\n",
    "        source+=s1+s2\n",
    "    location=\"/parquet_files/train\"\n",
    "    folder, source_targets=self.get_folder_source_tar(location=location, source=source,pno=\"p0\", ftype=\"train\",test_type=\"train\", verbose=verbose)\n",
    "    #getting case_ids to be present in each split\n",
    "    train_caseids, valid_caseids, test_caseids=self.get_splits_from_trainbase(folder,verbose=verbose)\n",
    "\n",
    "    #creating folders to save splitted files\n",
    "    train_dir, valid_dir, test_dir=self.create_split_dirs()\n",
    "\n",
    "    #splitting and writing files to split folders\n",
    "    for filename in folder:\n",
    "        for source_target_name in source_targets:\n",
    "            if filename.split(\"/\")[-1].startswith(source_target_name):\n",
    "                if verbose:\n",
    "                    print(filename.split(\"/\")[-1].split(\".\")[0])\n",
    "                df = dd.read_parquet(filename, use_nullable_dtypes=True)\n",
    "                df = client.persist(df) \n",
    "                df = df.repartition(partition_size=\"100MB\")\n",
    "                df_train=df[df[\"case_id\"].isin(train_caseids)].compute()\n",
    "                df_train.to_parquet(os.path.join(train_dir, filename.split(\"/\")[-1]))\n",
    "                del df_train\n",
    "                collect()\n",
    "                df_valid=df[df[\"case_id\"].isin(valid_caseids)].compute()\n",
    "                filename_test=\"test\"+filename.split(\"/\")[-1][5:]\n",
    "                df_valid.to_parquet(os.path.join(valid_dir, filename_test))\n",
    "                del df_valid\n",
    "                collect()\n",
    "                df_test=df[df[\"case_id\"].isin(test_caseids)].compute()\n",
    "                df_test.to_parquet(os.path.join(test_dir, filename_test))\n",
    "                del df_test\n",
    "                collect()\n",
    "                client.cancel(df)\n",
    "                del df\n",
    "    del train_caseids\n",
    "    del valid_caseids\n",
    "    del test_caseids\n",
    "    collect()\n",
    "    return train_dir[:-6], valid_dir[:-5], test_dir[:-5]\n",
    "SplitProcess.fill_split_dirs=fill_split_dirs     "
   ]
  },
  {
   "cell_type": "code",
   "execution_count": 75,
   "id": "096aae12",
   "metadata": {
    "execution": {
     "iopub.execute_input": "2024-05-31T07:08:10.017299Z",
     "iopub.status.busy": "2024-05-31T07:08:10.016806Z",
     "iopub.status.idle": "2024-05-31T07:08:10.026068Z",
     "shell.execute_reply": "2024-05-31T07:08:10.024867Z"
    },
    "metadata": {},
    "papermill": {
     "duration": 0.064086,
     "end_time": "2024-05-31T07:08:10.028755",
     "exception": false,
     "start_time": "2024-05-31T07:08:09.964669",
     "status": "completed"
    },
    "tags": []
   },
   "outputs": [],
   "source": [
    "def create_preprocessed_split_dirs(self, main_dir=\"preprocessed_splitted_train_files\"):\n",
    "    cwd=G.working_dir\n",
    "    train_dir=os.path.join(cwd, main_dir, \"train\",\"train\")\n",
    "    valid_dir=os.path.join(cwd, main_dir, \"valid\",\"test\")\n",
    "    test_dir=os.path.join(cwd, main_dir, \"test\",\"test\")\n",
    "    if os.path.isdir(train_dir):\n",
    "        shutil.rmtree(train_dir)\n",
    "    if os.path.isdir(valid_dir):\n",
    "        shutil.rmtree(valid_dir)\n",
    "    if os.path.isdir(test_dir):\n",
    "        shutil.rmtree(test_dir)\n",
    "    Path(train_dir).mkdir(parents=True, exist_ok=True)\n",
    "    Path(valid_dir).mkdir(parents=True, exist_ok=True)\n",
    "    Path(test_dir).mkdir(parents=True, exist_ok=True)\n",
    "    return train_dir, valid_dir, test_dir\n",
    "SplitProcess.create_preprocessed_split_dirs=create_preprocessed_split_dirs  "
   ]
  },
  {
   "cell_type": "code",
   "execution_count": 76,
   "id": "0c00bc98",
   "metadata": {
    "execution": {
     "iopub.execute_input": "2024-05-31T07:08:10.130008Z",
     "iopub.status.busy": "2024-05-31T07:08:10.129561Z",
     "iopub.status.idle": "2024-05-31T07:08:10.137802Z",
     "shell.execute_reply": "2024-05-31T07:08:10.136517Z"
    },
    "papermill": {
     "duration": 0.061749,
     "end_time": "2024-05-31T07:08:10.140453",
     "exception": false,
     "start_time": "2024-05-31T07:08:10.078704",
     "status": "completed"
    },
    "tags": []
   },
   "outputs": [],
   "source": [
    "def get_interaction_constraints(self, df, tcols=None):\n",
    "    interaction_constraints=[]\n",
    "    signal_pair_keys=self.signal_pair_train.keys()\n",
    "    if tcols is None:\n",
    "        train_cols=df.columns.tolist()\n",
    "    else:\n",
    "        train_cols=tcols\n",
    "    \n",
    "    for col in train_cols:\n",
    "        if col[-3] in signal_pair_keys:\n",
    "            interaction_constraints.append(self.signal_pair_train[col[-3]])\n",
    "    return interaction_constraints\n",
    "SplitProcess.get_interaction_constraints=get_interaction_constraints"
   ]
  },
  {
   "cell_type": "code",
   "execution_count": 77,
   "id": "4c9bdff5",
   "metadata": {
    "execution": {
     "iopub.execute_input": "2024-05-31T07:08:10.242672Z",
     "iopub.status.busy": "2024-05-31T07:08:10.242241Z",
     "iopub.status.idle": "2024-05-31T07:08:10.249016Z",
     "shell.execute_reply": "2024-05-31T07:08:10.247274Z"
    },
    "metadata": {},
    "papermill": {
     "duration": 0.06106,
     "end_time": "2024-05-31T07:08:10.251512",
     "exception": false,
     "start_time": "2024-05-31T07:08:10.190452",
     "status": "completed"
    },
    "tags": []
   },
   "outputs": [],
   "source": [
    "def get_model(ratio, params):\n",
    "    model=XGBClassifier(**params,\n",
    "                        n_estimators=5000,\n",
    "                        booster=\"gbtree\",\n",
    "                        scale_pos_weight=ratio,\n",
    "                        objective= 'binary:logistic',\n",
    "                        n_jobs=-1,\n",
    "                        verbosity=0,\n",
    "                        random_state= 0)\n",
    "    return model"
   ]
  },
  {
   "cell_type": "code",
   "execution_count": 78,
   "id": "fe6d2a43",
   "metadata": {
    "execution": {
     "iopub.execute_input": "2024-05-31T07:08:10.355530Z",
     "iopub.status.busy": "2024-05-31T07:08:10.355105Z",
     "iopub.status.idle": "2024-05-31T07:08:10.367545Z",
     "shell.execute_reply": "2024-05-31T07:08:10.366098Z"
    },
    "metadata": {},
    "papermill": {
     "duration": 0.070025,
     "end_time": "2024-05-31T07:08:10.371514",
     "exception": false,
     "start_time": "2024-05-31T07:08:10.301489",
     "status": "completed"
    },
    "tags": []
   },
   "outputs": [],
   "source": [
    "def cv_xgb(X,y,cv, model, ratio, params):\n",
    "    validation_scores = []\n",
    "    unfitted_model=model\n",
    "    for train_index, sub_index in cv.split(X,y):\n",
    "        X_train, X_sub = X.iloc[train_index], X.iloc[sub_index]\n",
    "        y_train, y_sub = y.iloc[train_index], y.iloc[sub_index]\n",
    "        \n",
    "        X_valid, X_test, y_valid, y_test = train_test_split(X_sub, y_sub, test_size=0.5, \n",
    "                                                            stratify=y_sub, random_state=0)\n",
    "\n",
    "        model.fit(X_train, y_train, eval_set=[(X_valid, y_valid)],\n",
    "                  callbacks=[xgb.callback.EarlyStopping(rounds=10,\n",
    "                                    metric_name=\"logloss\",\n",
    "                                    maximize=False,\n",
    "                                   save_best= True,\n",
    "                                    )],\n",
    "                  verbose=False)\n",
    "        prediction = model.predict_proba(X_test)\n",
    "        log_loss_score=log_loss(y_test, prediction)\n",
    "                        \n",
    "        validation_scores+=[log_loss_score]\n",
    "        model=get_model(ratio, params)\n",
    "\n",
    "        clear_output()\n",
    "        collect()\n",
    "    mean_log_loss, std=np.mean(validation_scores), np.std(validation_scores)\n",
    "    \n",
    "    return mean_log_loss, std"
   ]
  },
  {
   "cell_type": "code",
   "execution_count": 79,
   "id": "ec11e288",
   "metadata": {
    "execution": {
     "iopub.execute_input": "2024-05-31T07:08:10.474115Z",
     "iopub.status.busy": "2024-05-31T07:08:10.473704Z",
     "iopub.status.idle": "2024-05-31T07:08:10.486430Z",
     "shell.execute_reply": "2024-05-31T07:08:10.485406Z"
    },
    "metadata": {},
    "papermill": {
     "duration": 0.067656,
     "end_time": "2024-05-31T07:08:10.489246",
     "exception": false,
     "start_time": "2024-05-31T07:08:10.421590",
     "status": "completed"
    },
    "tags": []
   },
   "outputs": [],
   "source": [
    "def get_params(self, Xtrain, ytrain,ratio, verbose=True ):\n",
    "\n",
    "    kfold = StratifiedKFold(n_splits=3)\n",
    "    ratio = ratio\n",
    "    interaction_constraints=self.get_interaction_constraints(Xtrain)\n",
    "    def xgb_objective(trial):\n",
    "        params={\"learning_rate\" : trial.suggest_float('learning_rate',1e-4, 1e-1),\n",
    "                    \"gamma\":trial.suggest_float('gamma',1e-9, 1.0),\n",
    "                    \"subsample\":trial.suggest_float('subsample',0.25, 0.8),\n",
    "                    \"colsample_bytree\":trial.suggest_float('colsample_bytree',0.25, 1.0),\n",
    "                    \"max_depth\":trial.suggest_int(\"max_depth\",1,9),\n",
    "                    \"min_child_weight\":trial.suggest_int('min_child_weight',1,35),\n",
    "                    \"reg_lambda\":trial.suggest_float('reg_lambda',1e-9, 10.0),\n",
    "                    \"reg_alpha\":trial.suggest_float('reg_alpha',1e-9, 10.0),\n",
    "                    \"grow_policy\" : trial.suggest_categorical( \"grow_policy\", ['depthwise', 'lossguide']),\n",
    "                    \"max_delta_step\":trial.suggest_int('max_delta_step', 1, 10),\n",
    "                    #\"interaction_constraints\":interaction_constraints\n",
    "                   }\n",
    "        \n",
    "        log_loss, std=cv_xgb(X=Xtrain,y=ytrain,cv=kfold, \n",
    "                            model=get_model(ratio=ratio, params=params), ratio=ratio, params=params)\n",
    "        return log_loss\n",
    "    \n",
    "    study = optuna.create_study(direction=\"minimize\")\n",
    "    study.optimize(xgb_objective, n_trials=30)\n",
    "    if verbose:\n",
    "        print(\"Number of finished trials: \", len(study.trials))\n",
    "    return study.best_trial.params\n",
    "SplitProcess.get_params=get_params"
   ]
  },
  {
   "cell_type": "code",
   "execution_count": 80,
   "id": "45cf96e1",
   "metadata": {
    "execution": {
     "iopub.execute_input": "2024-05-31T07:08:10.594498Z",
     "iopub.status.busy": "2024-05-31T07:08:10.594065Z",
     "iopub.status.idle": "2024-05-31T07:08:10.617189Z",
     "shell.execute_reply": "2024-05-31T07:08:10.616175Z"
    },
    "metadata": {},
    "papermill": {
     "duration": 0.079264,
     "end_time": "2024-05-31T07:08:10.619927",
     "exception": false,
     "start_time": "2024-05-31T07:08:10.540663",
     "status": "completed"
    },
    "tags": []
   },
   "outputs": [],
   "source": [
    "def select_final_features(self,train_dir_pp, valid_dir_pp, test_dir_pp, verbose=True ):\n",
    "    percentage=0.2\n",
    "    if verbose:\n",
    "        print(\"selecting final set of features\")\n",
    "    Xtrain=dd.read_parquet(train_dir_pp)\n",
    "    numpart_train=int(round(Xtrain.npartitions*percentage,0))\n",
    "    Xtrain=Xtrain.partitions[-numpart_train:].compute()\n",
    "    ytrain=Xtrain.pop(\"target\")\n",
    "    \n",
    "    Xvalid=dd.read_parquet(valid_dir_pp)\n",
    "    numpart_valid=int(round(Xvalid.npartitions*percentage,0))\n",
    "    Xvalid=Xvalid.partitions[-numpart_valid:].compute()\n",
    "    yvalid=Xvalid.pop(\"target\")\n",
    "\n",
    "    Xtest=dd.read_parquet(test_dir_pp)\n",
    "    numpart_test=int(round(Xtest.npartitions*percentage,0))\n",
    "    Xtest=Xtest.partitions[-numpart_test:].compute()\n",
    "    ytest=Xtest.pop(\"target\")\n",
    "    if verbose:\n",
    "        print(f\"Selection dataset size: train:{Xtrain.shape} valid:{Xvalid.shape} test:{Xtest.shape}\")\n",
    "    ratio = float(np.sum(ytrain== 0)) / np.sum(ytrain== 1)\n",
    "    params=self.get_params(Xtrain, ytrain, ratio, verbose=verbose)\n",
    "    estimator=XGBClassifier(**params,\n",
    "                            n_estimators=5000,\n",
    "                            booster=\"gbtree\",\n",
    "                            scale_pos_weight=ratio,\n",
    "                            objective= 'binary:logistic',\n",
    "                            n_jobs=-1,\n",
    "                            verbosity=0,\n",
    "                            callbacks=[xgb.callback.EarlyStopping(rounds=10,\n",
    "                                            metric_name=\"logloss\",\n",
    "                                            maximize=False,\n",
    "                                           save_best= True)],\n",
    "                            random_state= 0)\n",
    "    estimator.fit(Xtrain, ytrain, eval_set=[(Xvalid, yvalid)],verbose=False)\n",
    "    thresholds = np.sort(estimator.feature_importances_)\n",
    "    self.threshold_score_dict={}\n",
    "    if verbose:\n",
    "        print(\"fitted estimator and obtained importances, beginning to adjust thresholds\")\n",
    "    for thresh in thresholds:\n",
    "        selector = SelectFromModel(estimator, threshold=thresh, prefit=True)\n",
    "        select_X_train = selector.transform(Xtrain)\n",
    "        select_X_valid = selector.transform(Xvalid)\n",
    "        select_X_test = selector.transform(Xtest)\n",
    "        \n",
    "        selected_feats = Xtrain.columns[selector.get_support()].tolist()\n",
    "        \n",
    "        #interaction_constraints=self.get_interaction_constraints(df=None,tcols=selected_feats)\n",
    "        params_s=params.copy()\n",
    "        #params_s[\"interaction_constraints\"]=interaction_constraints\n",
    "        selection_model = XGBClassifier(**params_s,\n",
    "                            n_estimators=5000,\n",
    "                            booster=\"gbtree\",\n",
    "                            scale_pos_weight=ratio,\n",
    "                            objective= 'binary:logistic',\n",
    "                            n_jobs=-1,\n",
    "                            verbosity=0,\n",
    "                            callbacks=[xgb.callback.EarlyStopping(rounds=10,\n",
    "                                            metric_name=\"logloss\",\n",
    "                                            maximize=False,\n",
    "                                           save_best= True)],\n",
    "                            random_state= 0)\n",
    "        selection_model.fit(select_X_train, ytrain, eval_set=[(select_X_valid, yvalid)],verbose=False)\n",
    "        predictions = selection_model.predict_proba(select_X_test)\n",
    "        log_loss_score= log_loss(ytest, predictions)\n",
    "        self.threshold_score_dict[thresh]= log_loss_score\n",
    "        del select_X_train, select_X_valid, select_X_test, selector, selection_model\n",
    "        collect()\n",
    "    min_log_loss_thresh = min(self.threshold_score_dict, key= lambda x: self.threshold_score_dict[x])\n",
    "    if verbose:\n",
    "        print(\"found the threshold that maximize roc_auc, selecting features from estimator with the threshold\")\n",
    "    selector = SelectFromModel(estimator, threshold=min_log_loss_thresh, prefit=True)\n",
    "    feature_idx = selector.get_support()\n",
    "    selected_feats = Xtrain.columns[feature_idx].tolist()\n",
    "    selected_feats_fixed=self.fix_time_signal_selection(selected_feats, verbose=verbose)\n",
    "    del Xtrain, Xvalid, Xtest, ytrain, yvalid, ytest, estimator, selector\n",
    "    collect()\n",
    "    return selected_feats_fixed\n",
    "SplitProcess.select_final_features=select_final_features"
   ]
  },
  {
   "cell_type": "code",
   "execution_count": 81,
   "id": "a06b8dca",
   "metadata": {
    "execution": {
     "iopub.execute_input": "2024-05-31T07:08:10.721829Z",
     "iopub.status.busy": "2024-05-31T07:08:10.721427Z",
     "iopub.status.idle": "2024-05-31T07:08:10.741818Z",
     "shell.execute_reply": "2024-05-31T07:08:10.740699Z"
    },
    "metadata": {},
    "papermill": {
     "duration": 0.074395,
     "end_time": "2024-05-31T07:08:10.744333",
     "exception": false,
     "start_time": "2024-05-31T07:08:10.669938",
     "status": "completed"
    },
    "tags": []
   },
   "outputs": [],
   "source": [
    "def read_process_splits(self,ftype, depts=[0,1], verbose=True):\n",
    "    if ftype==\"train\":\n",
    "        if verbose:\n",
    "            print(\"splitting and processing train dataset\")\n",
    "        train_dir, valid_dir, test_dir=self.fill_split_dirs(depts=depts, verbose=verbose)\n",
    "        if verbose:\n",
    "            print(\"creating split dirs\")\n",
    "        train_dir_pp, valid_dir_pp, test_dir_pp = self.create_preprocessed_split_dirs()\n",
    "        name_function = lambda x: f\"data-{x}.parquet\"\n",
    "        if verbose:\n",
    "            print(\"processing train split\")\n",
    "        train=self.create_engineer_encode_imp_scale(ftype=\"train\", test_type=\"train\", depts=depts, loca=train_dir, verbose=verbose)\n",
    "        train.to_parquet(train_dir_pp, name_function=name_function)\n",
    "        del train\n",
    "        collect()\n",
    "        \n",
    "        #valid=None\n",
    "        if verbose:\n",
    "           print(\"processing validation split\")\n",
    "        valid=self.create_engineer_encode_imp_scale(ftype=\"test\",test_type=\"train\", depts=depts,loca=valid_dir, verbose=verbose)\n",
    "        valid.to_parquet(valid_dir_pp, name_function=name_function)\n",
    "        del valid \n",
    "        collect()\n",
    "        #test=None\n",
    "        if verbose:\n",
    "           print(\"processing test split\")\n",
    "        test=self.create_engineer_encode_imp_scale(ftype=\"test\",test_type=\"train\", depts=depts, loca=test_dir, verbose=verbose)\n",
    "        test.to_parquet(test_dir_pp, name_function=name_function)\n",
    "        del test\n",
    "        collect()\n",
    "\n",
    "        libc = ctypes.CDLL(\"libc.so.6\")\n",
    "        libc.malloc_trim(0)\n",
    "        if verbose:\n",
    "            print(f\"Total ram used (GB) after all dfs dumbed to harddisk:' {psutil.virtual_memory()[3]/1000000000}\")\n",
    "        \n",
    "        #self.final_feature_set=self.select_final_features(train_dir_pp, \n",
    "        #                                                  valid_dir_pp, \n",
    "        #                                                  test_dir_pp, verbose=verbose)\n",
    "        with open(\"/kaggle/input/homecredit-pm/final_feature_set.pickle\", \"rb\") as infile:\n",
    "            self.final_feature_set=pickle.load(infile)\n",
    "\n",
    "        train_dir_pp_f, valid_dir_pp_f, test_dir_pp_f= self.create_preprocessed_split_dirs(main_dir=\"pp_splitted_train_files_final\")\n",
    "        if verbose:\n",
    "            print(\"reading processed train valid and test files\")\n",
    "        train=dd.read_parquet(train_dir_pp)\n",
    "        train= train[[\"target\"]+self.final_feature_set]\n",
    "        train.to_parquet(train_dir_pp_f, name_function=name_function)\n",
    "        train=dd.read_parquet(train_dir_pp_f)\n",
    "        client.persist(train)\n",
    "        \n",
    "        valid=dd.read_parquet(valid_dir_pp)\n",
    "        valid = valid[[\"target\"]+self.final_feature_set]\n",
    "        valid.to_parquet(valid_dir_pp_f, name_function=name_function)\n",
    "        valid=dd.read_parquet(valid_dir_pp_f)\n",
    "        client.persist(valid)\n",
    "        \n",
    "        test=dd.read_parquet(test_dir_pp)\n",
    "        test=test[[\"target\"]+self.final_feature_set]\n",
    "        test.to_parquet(test_dir_pp_f, name_function=name_function)\n",
    "        test=dd.read_parquet(test_dir_pp_f)\n",
    "        client.persist(test)\n",
    "        \n",
    "        if os.path.isdir(os.path.join(G.working_dir, \"preprocessed_splitted_train_files\")):\n",
    "            shutil.rmtree(os.path.join(G.working_dir, \"preprocessed_splitted_train_files\"))\n",
    "    else:\n",
    "        train=None\n",
    "        valid=None\n",
    "        if verbose:\n",
    "            print(\"processing test dataset\")\n",
    "        test=self.create_engineer_encode_imp_scale(ftype=\"test\",test_type=\"submission_test\",loca=\"/parquet_files/\", verbose=verbose)\n",
    "        test=test[self.final_feature_set]\n",
    "        client.persist(test)\n",
    "    return train, valid, test\n",
    "SplitProcess.read_process_splits=read_process_splits   "
   ]
  },
  {
   "cell_type": "code",
   "execution_count": 82,
   "id": "6902cab7",
   "metadata": {
    "execution": {
     "iopub.execute_input": "2024-05-31T07:08:10.848274Z",
     "iopub.status.busy": "2024-05-31T07:08:10.847412Z",
     "iopub.status.idle": "2024-05-31T07:08:10.853356Z",
     "shell.execute_reply": "2024-05-31T07:08:10.852105Z"
    },
    "metadata": {},
    "papermill": {
     "duration": 0.061894,
     "end_time": "2024-05-31T07:08:10.855894",
     "exception": false,
     "start_time": "2024-05-31T07:08:10.794000",
     "status": "completed"
    },
    "tags": []
   },
   "outputs": [],
   "source": [
    "sp=SplitProcess()"
   ]
  },
  {
   "cell_type": "code",
   "execution_count": 83,
   "id": "cca9ecb0",
   "metadata": {
    "execution": {
     "iopub.execute_input": "2024-05-31T07:08:10.957500Z",
     "iopub.status.busy": "2024-05-31T07:08:10.957104Z",
     "iopub.status.idle": "2024-05-31T07:08:10.962517Z",
     "shell.execute_reply": "2024-05-31T07:08:10.961239Z"
    },
    "metadata": {},
    "papermill": {
     "duration": 0.058776,
     "end_time": "2024-05-31T07:08:10.965178",
     "exception": false,
     "start_time": "2024-05-31T07:08:10.906402",
     "status": "completed"
    },
    "tags": []
   },
   "outputs": [],
   "source": [
    "starttime = time.perf_counter()"
   ]
  },
  {
   "cell_type": "code",
   "execution_count": 84,
   "id": "734d67de",
   "metadata": {
    "execution": {
     "iopub.execute_input": "2024-05-31T07:08:11.066215Z",
     "iopub.status.busy": "2024-05-31T07:08:11.065776Z",
     "iopub.status.idle": "2024-05-31T15:27:34.777439Z",
     "shell.execute_reply": "2024-05-31T15:27:34.775130Z"
    },
    "metadata": {},
    "papermill": {
     "duration": 29963.8476,
     "end_time": "2024-05-31T15:27:34.861991",
     "exception": false,
     "start_time": "2024-05-31T07:08:11.014391",
     "status": "completed"
    },
    "tags": []
   },
   "outputs": [
    {
     "name": "stdout",
     "output_type": "stream",
     "text": [
      "train_base\n",
      "train_person_1\n",
      "train_deposit_1\n",
      "train_debitcard_1\n",
      "train_other_1\n",
      "train_applprev_1\n",
      "train_static_0\n",
      "train_tax_registry_c_1\n",
      "train_static_cb_0\n",
      "train_tax_registry_b_1\n",
      "train_tax_registry_a_1\n",
      "train_credit_bureau_b_1\n",
      "train_credit_bureau_a_1\n",
      "select_numeric_features beginning shape of full df (915995, 824)\n",
      "select_numeric_features 'target' shape (915995, 1)\n",
      "shape of df before merge with numeric (915995, 325)\n",
      "shape of df after merge with numeric (915995, 764)\n",
      "shape of df after merge with target (915995, 765)\n",
      "select_numeric_features method train-valid-test splits NA count 0\n",
      "select_numeric_features ended shape of full df (915995, 765), # of numeric features 439, cat features 83, time_features: 242\n",
      "test_base\n",
      "test_deposit_1\n",
      "test_person_1\n",
      "test_debitcard_1\n",
      "test_other_1\n",
      "test_applprev_1\n",
      "test_static_0\n",
      "test_tax_registry_a_1\n",
      "test_credit_bureau_b_1\n",
      "test_tax_registry_c_1\n",
      "test_tax_registry_b_1\n",
      "test_static_cb_0\n",
      "test_credit_bureau_a_1\n",
      "select_numeric_features beginning shape of full df (305332, 824)\n",
      "select_numeric_features 'target' shape (305332, 1)\n",
      "shape of df before merge with numeric (305332, 325)\n",
      "shape of df after merge with numeric (305332, 764)\n",
      "shape of df after merge with target (305332, 765)\n",
      "select_numeric_features method train-valid-test splits NA count 0\n",
      "select_numeric_features ended shape of full df (305332, 765), # of numeric features 439, cat features 83, time_features: 242\n",
      "test_base\n",
      "test_deposit_1\n",
      "test_person_1\n",
      "test_debitcard_1\n",
      "test_other_1\n",
      "test_applprev_1\n",
      "test_static_0\n",
      "test_tax_registry_a_1\n",
      "test_credit_bureau_b_1\n",
      "test_tax_registry_c_1\n",
      "test_tax_registry_b_1\n",
      "test_static_cb_0\n",
      "test_credit_bureau_a_1\n",
      "select_numeric_features beginning shape of full df (305332, 824)\n",
      "select_numeric_features 'target' shape (305332, 1)\n",
      "shape of df before merge with numeric (305332, 325)\n",
      "shape of df after merge with numeric (305332, 764)\n",
      "shape of df after merge with target (305332, 765)\n",
      "select_numeric_features method train-valid-test splits NA count 0\n",
      "select_numeric_features ended shape of full df (305332, 765), # of numeric features 439, cat features 83, time_features: 242\n",
      "peak memory: 18418.82 MiB, increment: 18072.41 MiB\n"
     ]
    }
   ],
   "source": [
    "%memit train, valid, test=sp.read_process_splits(ftype=\"train\", verbose=False)"
   ]
  },
  {
   "cell_type": "code",
   "execution_count": 85,
   "id": "e9fad2de",
   "metadata": {
    "execution": {
     "iopub.execute_input": "2024-05-31T15:27:35.045092Z",
     "iopub.status.busy": "2024-05-31T15:27:35.043905Z",
     "iopub.status.idle": "2024-05-31T15:27:35.053343Z",
     "shell.execute_reply": "2024-05-31T15:27:35.052200Z"
    },
    "metadata": {},
    "papermill": {
     "duration": 0.108869,
     "end_time": "2024-05-31T15:27:35.061820",
     "exception": false,
     "start_time": "2024-05-31T15:27:34.952951",
     "status": "completed"
    },
    "tags": []
   },
   "outputs": [
    {
     "name": "stdout",
     "output_type": "stream",
     "text": [
      "computation time:  8:19:24.089270\n"
     ]
    }
   ],
   "source": [
    "duration = timedelta(seconds=time.perf_counter()-starttime)\n",
    "print(\"computation time: \", duration)"
   ]
  },
  {
   "cell_type": "code",
   "execution_count": 86,
   "id": "9cdd9132",
   "metadata": {
    "execution": {
     "iopub.execute_input": "2024-05-31T15:27:35.328486Z",
     "iopub.status.busy": "2024-05-31T15:27:35.327828Z",
     "iopub.status.idle": "2024-05-31T15:27:38.763511Z",
     "shell.execute_reply": "2024-05-31T15:27:38.762331Z"
    },
    "papermill": {
     "duration": 3.600255,
     "end_time": "2024-05-31T15:27:38.766726",
     "exception": false,
     "start_time": "2024-05-31T15:27:35.166471",
     "status": "completed"
    },
    "scrolled": true,
    "tags": []
   },
   "outputs": [
    {
     "name": "stdout",
     "output_type": "stream",
     "text": [
      "test target\n",
      "0.0    296216\n",
      "1.0      9116\n",
      "Name: count, dtype: int64 \n",
      "\n",
      "valid target\n",
      "0.0    293742\n",
      "1.0     11590\n",
      "Name: count, dtype: int64 \n",
      "\n",
      "train target\n",
      "0.0    888707\n",
      "1.0     27288\n",
      "Name: count, dtype: int64\n"
     ]
    }
   ],
   "source": [
    "# checking splits\n",
    "print(\"test\",\n",
    "      dd.read_parquet(\"./pp_splitted_train_files_final/test/test\",columns=[\"target\"])[\"target\"].value_counts().compute(),\n",
    "      \"\\n\\nvalid\",\n",
    "      dd.read_parquet(\"./pp_splitted_train_files_final/valid/test\",columns=[\"target\"])[\"target\"].value_counts().compute(),\n",
    "      \"\\n\\ntrain\",\n",
    "      dd.read_parquet(\"./pp_splitted_train_files_final/train/train\",columns=[\"target\"])[\"target\"].value_counts().compute())"
   ]
  },
  {
   "cell_type": "code",
   "execution_count": 87,
   "id": "c6902bcf",
   "metadata": {
    "execution": {
     "iopub.execute_input": "2024-05-31T15:27:38.883198Z",
     "iopub.status.busy": "2024-05-31T15:27:38.882768Z",
     "iopub.status.idle": "2024-05-31T15:27:38.892133Z",
     "shell.execute_reply": "2024-05-31T15:27:38.890849Z"
    },
    "papermill": {
     "duration": 0.069909,
     "end_time": "2024-05-31T15:27:38.895183",
     "exception": false,
     "start_time": "2024-05-31T15:27:38.825274",
     "status": "completed"
    },
    "tags": []
   },
   "outputs": [],
   "source": [
    "def get_case_id_week_num(ftype):\n",
    "    if G.ENV==\"kaggle\":\n",
    "        #path to input docs kaggle\n",
    "        cwd=G.data_dir\n",
    "    else:\n",
    "        #cwd local\n",
    "        cwd=G.working_dir\n",
    "    location=\"/parquet_files/\"+ftype\n",
    "    path = cwd+location\n",
    "    if ftype==\"train\":\n",
    "        filename=\"train_base.parquet\"\n",
    "    else:\n",
    "        filename=\"test_base.parquet\"\n",
    "    file = os.path.join(path, filename)\n",
    "    df = pd.read_parquet(file, columns=[\"case_id\",\"WEEK_NUM\",\"target\"])\n",
    "    return df.set_index(\"case_id\")"
   ]
  },
  {
   "cell_type": "code",
   "execution_count": 88,
   "id": "a8b7eab8",
   "metadata": {
    "execution": {
     "iopub.execute_input": "2024-05-31T15:27:39.007442Z",
     "iopub.status.busy": "2024-05-31T15:27:39.006927Z",
     "iopub.status.idle": "2024-05-31T15:27:39.012970Z",
     "shell.execute_reply": "2024-05-31T15:27:39.011648Z"
    },
    "papermill": {
     "duration": 0.06552,
     "end_time": "2024-05-31T15:27:39.015519",
     "exception": false,
     "start_time": "2024-05-31T15:27:38.949999",
     "status": "completed"
    },
    "tags": []
   },
   "outputs": [],
   "source": [
    "# train=dd.read_parquet(os.path.join(G.working_dir, \"pp_splitted_train_files_final\", \"train\",\"train\"))\n",
    "# valid=dd.read_parquet(os.path.join(G.working_dir, \"pp_splitted_train_files_final\", \"valid\",\"test\"))\n",
    "# test=dd.read_parquet(os.path.join(G.working_dir, \"pp_splitted_train_files_final\", \"test\",\"test\"))\n",
    "# train = client.persist(train) \n",
    "# valid = client.persist(valid) \n",
    "# test = client.persist(test) "
   ]
  },
  {
   "cell_type": "code",
   "execution_count": 89,
   "id": "73fb9c75",
   "metadata": {
    "execution": {
     "iopub.execute_input": "2024-05-31T15:27:39.126916Z",
     "iopub.status.busy": "2024-05-31T15:27:39.126489Z",
     "iopub.status.idle": "2024-05-31T15:27:40.680846Z",
     "shell.execute_reply": "2024-05-31T15:27:40.679185Z"
    },
    "papermill": {
     "duration": 1.615192,
     "end_time": "2024-05-31T15:27:40.684525",
     "exception": false,
     "start_time": "2024-05-31T15:27:39.069333",
     "status": "completed"
    },
    "tags": []
   },
   "outputs": [
    {
     "name": "stdout",
     "output_type": "stream",
     "text": [
      " Train shape: 915995, 723\n",
      " Valid shape: 305332, 723\n",
      " Train shape: 305332, 723\n"
     ]
    }
   ],
   "source": [
    "print(f\" Train shape: {len(train)}, {train.shape[1]}\" ) #, Memory Size: {round(train.memory_usage().sum().compute() / 1024**2,2)}\" )\n",
    "print(f\" Valid shape: {len(valid)}, {valid.shape[1]}\" ) #, Memory Size: {round(valid.memory_usage().sum().compute() / 1024**2,2)}\" )\n",
    "print(f\" Train shape: {len(test)}, {test.shape[1]}\" ) #, Memory Size: {round(test.memory_usage().sum().compute() / 1024**2,2)}\" )"
   ]
  },
  {
   "cell_type": "markdown",
   "id": "7130ed9b",
   "metadata": {
    "papermill": {
     "duration": 0.055399,
     "end_time": "2024-05-31T15:27:40.795919",
     "exception": false,
     "start_time": "2024-05-31T15:27:40.740520",
     "status": "completed"
    },
    "tags": []
   },
   "source": [
    "# Model training"
   ]
  },
  {
   "cell_type": "code",
   "execution_count": 90,
   "id": "e0da8f23",
   "metadata": {
    "execution": {
     "iopub.execute_input": "2024-05-31T15:27:40.906366Z",
     "iopub.status.busy": "2024-05-31T15:27:40.905231Z",
     "iopub.status.idle": "2024-05-31T15:27:40.914950Z",
     "shell.execute_reply": "2024-05-31T15:27:40.913796Z"
    },
    "papermill": {
     "duration": 0.067281,
     "end_time": "2024-05-31T15:27:40.917604",
     "exception": false,
     "start_time": "2024-05-31T15:27:40.850323",
     "status": "completed"
    },
    "tags": []
   },
   "outputs": [],
   "source": [
    "train_labels = train[\"target\"].copy()\n",
    "valid_labels = valid[\"target\"].copy()\n",
    "test_labels = test[\"target\"].copy()"
   ]
  },
  {
   "cell_type": "code",
   "execution_count": 91,
   "id": "26e1db5d",
   "metadata": {
    "execution": {
     "iopub.execute_input": "2024-05-31T15:27:41.028954Z",
     "iopub.status.busy": "2024-05-31T15:27:41.028519Z",
     "iopub.status.idle": "2024-05-31T15:27:41.449533Z",
     "shell.execute_reply": "2024-05-31T15:27:41.448108Z"
    },
    "papermill": {
     "duration": 0.480494,
     "end_time": "2024-05-31T15:27:41.452702",
     "exception": false,
     "start_time": "2024-05-31T15:27:40.972208",
     "status": "completed"
    },
    "tags": []
   },
   "outputs": [],
   "source": [
    "train=train.drop(columns=[\"target\"])\n",
    "valid=valid.drop(columns=[\"target\"])\n",
    "test=test.drop(columns=[\"target\"])"
   ]
  },
  {
   "cell_type": "code",
   "execution_count": 92,
   "id": "31ae8304",
   "metadata": {
    "execution": {
     "iopub.execute_input": "2024-05-31T15:27:41.563790Z",
     "iopub.status.busy": "2024-05-31T15:27:41.563382Z",
     "iopub.status.idle": "2024-05-31T15:27:41.573335Z",
     "shell.execute_reply": "2024-05-31T15:27:41.572199Z"
    },
    "papermill": {
     "duration": 0.068425,
     "end_time": "2024-05-31T15:27:41.575873",
     "exception": false,
     "start_time": "2024-05-31T15:27:41.507448",
     "status": "completed"
    },
    "tags": []
   },
   "outputs": [],
   "source": [
    "#source: https://www.kaggle.com/code/jetakow/home-credit-2024-starter-notebook\n",
    "def gini_stability(base, w_fallingrate=88.0, w_resstd=-0.5):\n",
    "    gini_in_time = base.loc[:, [\"WEEK_NUM\", \"target\", \"score\"]]\\\n",
    "        .sort_values(\"WEEK_NUM\")\\\n",
    "        .groupby(\"WEEK_NUM\")[[\"target\", \"score\"]]\\\n",
    "        .apply(lambda x: 2*roc_auc_score(x[\"target\"], x[\"score\"])-1).tolist()\n",
    "    \n",
    "    x = np.arange(len(gini_in_time))\n",
    "    y = gini_in_time\n",
    "    a, b = np.polyfit(x, y, 1)\n",
    "    y_hat = a*x + b\n",
    "    residuals = y - y_hat\n",
    "    res_std = np.std(residuals)\n",
    "    avg_gini = np.mean(gini_in_time)\n",
    "    return avg_gini + w_fallingrate * min(0, a) + w_resstd * res_std"
   ]
  },
  {
   "cell_type": "code",
   "execution_count": 93,
   "id": "5db6a441",
   "metadata": {
    "execution": {
     "iopub.execute_input": "2024-05-31T15:27:41.689370Z",
     "iopub.status.busy": "2024-05-31T15:27:41.688422Z",
     "iopub.status.idle": "2024-05-31T15:27:41.695782Z",
     "shell.execute_reply": "2024-05-31T15:27:41.694514Z"
    },
    "papermill": {
     "duration": 0.066513,
     "end_time": "2024-05-31T15:27:41.698386",
     "exception": false,
     "start_time": "2024-05-31T15:27:41.631873",
     "status": "completed"
    },
    "tags": []
   },
   "outputs": [],
   "source": [
    "def get_metric_calc_df(actual, prediction, ftype):\n",
    "    index_of_interest=actual.index\n",
    "    df=get_case_id_week_num(ftype).filter(items=index_of_interest, axis=0)\n",
    "    df[\"score\"]=prediction\n",
    "    stability_score= gini_stability(df)\n",
    "    return stability_score"
   ]
  },
  {
   "cell_type": "markdown",
   "id": "b0aaea9d",
   "metadata": {
    "papermill": {
     "duration": 0.055847,
     "end_time": "2024-05-31T15:27:41.809784",
     "exception": false,
     "start_time": "2024-05-31T15:27:41.753937",
     "status": "completed"
    },
    "tags": []
   },
   "source": [
    "## XGB"
   ]
  },
  {
   "cell_type": "markdown",
   "id": "51b98327",
   "metadata": {
    "papermill": {
     "duration": 0.058387,
     "end_time": "2024-05-31T15:27:41.929756",
     "exception": false,
     "start_time": "2024-05-31T15:27:41.871369",
     "status": "completed"
    },
    "tags": []
   },
   "source": [
    "#### dask dmatrixes"
   ]
  },
  {
   "cell_type": "code",
   "execution_count": 94,
   "id": "d5bed0d0",
   "metadata": {
    "execution": {
     "iopub.execute_input": "2024-05-31T15:27:42.047727Z",
     "iopub.status.busy": "2024-05-31T15:27:42.047295Z",
     "iopub.status.idle": "2024-05-31T15:28:07.791362Z",
     "shell.execute_reply": "2024-05-31T15:28:07.789811Z"
    },
    "papermill": {
     "duration": 25.806782,
     "end_time": "2024-05-31T15:28:07.794607",
     "exception": false,
     "start_time": "2024-05-31T15:27:41.987825",
     "status": "completed"
    },
    "tags": []
   },
   "outputs": [],
   "source": [
    "dtrain = xgb.dask.DaskDMatrix(client=client, data=train, label=train_labels)\n",
    "dvalid = xgb.dask.DaskDMatrix(client=client, data=valid, label=valid_labels)\n",
    "dtest = xgb.dask.DaskDMatrix(client=client, data=test, label=test_labels)"
   ]
  },
  {
   "cell_type": "code",
   "execution_count": 95,
   "id": "101906fb",
   "metadata": {
    "execution": {
     "iopub.execute_input": "2024-05-31T15:28:07.915919Z",
     "iopub.status.busy": "2024-05-31T15:28:07.915338Z",
     "iopub.status.idle": "2024-05-31T15:28:07.923254Z",
     "shell.execute_reply": "2024-05-31T15:28:07.921778Z"
    },
    "papermill": {
     "duration": 0.070388,
     "end_time": "2024-05-31T15:28:07.926068",
     "exception": false,
     "start_time": "2024-05-31T15:28:07.855680",
     "status": "completed"
    },
    "tags": []
   },
   "outputs": [],
   "source": [
    "early_stopping_rounds=10\n",
    "early_stop = xgb.callback.EarlyStopping(\n",
    "    rounds=early_stopping_rounds,\n",
    "    metric_name=\"logloss\",\n",
    "    data_name=\"valid\",\n",
    "    save_best=True,\n",
    ")"
   ]
  },
  {
   "cell_type": "code",
   "execution_count": 96,
   "id": "91ff606c",
   "metadata": {
    "execution": {
     "iopub.execute_input": "2024-05-31T15:28:08.045656Z",
     "iopub.status.busy": "2024-05-31T15:28:08.045127Z",
     "iopub.status.idle": "2024-05-31T15:28:09.357469Z",
     "shell.execute_reply": "2024-05-31T15:28:09.355890Z"
    },
    "papermill": {
     "duration": 1.378441,
     "end_time": "2024-05-31T15:28:09.361042",
     "exception": false,
     "start_time": "2024-05-31T15:28:07.982601",
     "status": "completed"
    },
    "scrolled": true,
    "tags": []
   },
   "outputs": [
    {
     "data": {
      "text/plain": [
       "32.56768542949282"
      ]
     },
     "execution_count": 96,
     "metadata": {},
     "output_type": "execute_result"
    }
   ],
   "source": [
    "tl=train_labels.compute()\n",
    "ratio = float(np.sum(tl== 0)) / np.sum(tl== 1)\n",
    "ratio"
   ]
  },
  {
   "cell_type": "markdown",
   "id": "f91e1894",
   "metadata": {
    "papermill": {
     "duration": 0.059724,
     "end_time": "2024-05-31T15:28:09.476532",
     "exception": false,
     "start_time": "2024-05-31T15:28:09.416808",
     "status": "completed"
    },
    "tags": []
   },
   "source": [
    "### xgb gbtree dask"
   ]
  },
  {
   "cell_type": "code",
   "execution_count": 97,
   "id": "0c2e4424",
   "metadata": {
    "_kg_hide-output": true,
    "execution": {
     "iopub.execute_input": "2024-05-31T15:28:09.595345Z",
     "iopub.status.busy": "2024-05-31T15:28:09.593944Z",
     "iopub.status.idle": "2024-05-31T15:57:58.855411Z",
     "shell.execute_reply": "2024-05-31T15:57:58.853394Z"
    },
    "papermill": {
     "duration": 1789.32444,
     "end_time": "2024-05-31T15:57:58.859748",
     "exception": false,
     "start_time": "2024-05-31T15:28:09.535308",
     "status": "completed"
    },
    "tags": []
   },
   "outputs": [
    {
     "name": "stderr",
     "output_type": "stream",
     "text": [
      "[15:28:11] task [xgboost.dask-0]:tcp://127.0.0.1:41197 got new rank 0\n"
     ]
    },
    {
     "name": "stdout",
     "output_type": "stream",
     "text": [
      "[0]\tvalid-logloss:0.62960\n",
      "[1]\tvalid-logloss:0.59621\n",
      "[2]\tvalid-logloss:0.57483\n",
      "[3]\tvalid-logloss:0.56510\n",
      "[4]\tvalid-logloss:0.54971\n",
      "[5]\tvalid-logloss:0.53774\n",
      "[6]\tvalid-logloss:0.53184\n",
      "[7]\tvalid-logloss:0.53031\n",
      "[8]\tvalid-logloss:0.53081\n",
      "[9]\tvalid-logloss:0.51825\n",
      "[10]\tvalid-logloss:0.50475\n",
      "[11]\tvalid-logloss:0.49981\n",
      "[12]\tvalid-logloss:0.49195\n",
      "[13]\tvalid-logloss:0.48697\n",
      "[14]\tvalid-logloss:0.48468\n",
      "[15]\tvalid-logloss:0.48158\n",
      "[16]\tvalid-logloss:0.47999\n",
      "[17]\tvalid-logloss:0.47619\n",
      "[18]\tvalid-logloss:0.47357\n",
      "[19]\tvalid-logloss:0.47176\n",
      "[20]\tvalid-logloss:0.46754\n",
      "[21]\tvalid-logloss:0.46331\n",
      "[22]\tvalid-logloss:0.46226\n",
      "[23]\tvalid-logloss:0.46060\n",
      "[24]\tvalid-logloss:0.46004\n",
      "[25]\tvalid-logloss:0.45810\n",
      "[26]\tvalid-logloss:0.45533\n",
      "[27]\tvalid-logloss:0.45431\n",
      "[28]\tvalid-logloss:0.45112\n",
      "[29]\tvalid-logloss:0.44779\n",
      "[30]\tvalid-logloss:0.44871\n",
      "[31]\tvalid-logloss:0.44829\n",
      "[32]\tvalid-logloss:0.44643\n",
      "[33]\tvalid-logloss:0.44633\n",
      "[34]\tvalid-logloss:0.44380\n",
      "[35]\tvalid-logloss:0.43877\n",
      "[36]\tvalid-logloss:0.43855\n",
      "[37]\tvalid-logloss:0.43715\n",
      "[38]\tvalid-logloss:0.43460\n",
      "[39]\tvalid-logloss:0.43215\n",
      "[40]\tvalid-logloss:0.43131\n",
      "[41]\tvalid-logloss:0.43138\n",
      "[42]\tvalid-logloss:0.43080\n",
      "[43]\tvalid-logloss:0.42979\n",
      "[44]\tvalid-logloss:0.42836\n",
      "[45]\tvalid-logloss:0.42792\n",
      "[46]\tvalid-logloss:0.42757\n",
      "[47]\tvalid-logloss:0.42751\n",
      "[48]\tvalid-logloss:0.42691\n",
      "[49]\tvalid-logloss:0.42694\n",
      "[50]\tvalid-logloss:0.42715\n",
      "[51]\tvalid-logloss:0.42652\n",
      "[52]\tvalid-logloss:0.42632\n",
      "[53]\tvalid-logloss:0.42193\n",
      "[54]\tvalid-logloss:0.42160\n",
      "[55]\tvalid-logloss:0.41896\n",
      "[56]\tvalid-logloss:0.41845\n",
      "[57]\tvalid-logloss:0.41635\n",
      "[58]\tvalid-logloss:0.41575\n",
      "[59]\tvalid-logloss:0.41444\n",
      "[60]\tvalid-logloss:0.41299\n",
      "[61]\tvalid-logloss:0.41197\n",
      "[62]\tvalid-logloss:0.40918\n",
      "[63]\tvalid-logloss:0.40905\n",
      "[64]\tvalid-logloss:0.40919\n",
      "[65]\tvalid-logloss:0.40815\n",
      "[66]\tvalid-logloss:0.40864\n",
      "[67]\tvalid-logloss:0.40849\n",
      "[68]\tvalid-logloss:0.40765\n",
      "[69]\tvalid-logloss:0.40638\n",
      "[70]\tvalid-logloss:0.40527\n",
      "[71]\tvalid-logloss:0.40581\n",
      "[72]\tvalid-logloss:0.40465\n",
      "[73]\tvalid-logloss:0.40329\n",
      "[74]\tvalid-logloss:0.40297\n",
      "[75]\tvalid-logloss:0.40326\n",
      "[76]\tvalid-logloss:0.40219\n",
      "[77]\tvalid-logloss:0.40237\n",
      "[78]\tvalid-logloss:0.40093\n",
      "[79]\tvalid-logloss:0.40105\n",
      "[80]\tvalid-logloss:0.40093\n",
      "[81]\tvalid-logloss:0.40002\n",
      "[82]\tvalid-logloss:0.39977\n",
      "[83]\tvalid-logloss:0.39901\n",
      "[84]\tvalid-logloss:0.39820\n",
      "[85]\tvalid-logloss:0.39758\n",
      "[86]\tvalid-logloss:0.39671\n",
      "[87]\tvalid-logloss:0.39549\n",
      "[88]\tvalid-logloss:0.39333\n",
      "[89]\tvalid-logloss:0.39148\n",
      "[90]\tvalid-logloss:0.39046\n",
      "[91]\tvalid-logloss:0.39049\n",
      "[92]\tvalid-logloss:0.39104\n",
      "[93]\tvalid-logloss:0.39046\n",
      "[94]\tvalid-logloss:0.38948\n",
      "[95]\tvalid-logloss:0.38773\n",
      "[96]\tvalid-logloss:0.38603\n",
      "[97]\tvalid-logloss:0.38567\n",
      "[98]\tvalid-logloss:0.38424\n",
      "[99]\tvalid-logloss:0.38465\n",
      "[100]\tvalid-logloss:0.38499\n",
      "[101]\tvalid-logloss:0.38534\n",
      "[102]\tvalid-logloss:0.38423\n",
      "[103]\tvalid-logloss:0.38323\n",
      "[104]\tvalid-logloss:0.38208\n",
      "[105]\tvalid-logloss:0.38066\n",
      "[106]\tvalid-logloss:0.37964\n",
      "[107]\tvalid-logloss:0.37829\n",
      "[108]\tvalid-logloss:0.37820\n",
      "[109]\tvalid-logloss:0.37756\n",
      "[110]\tvalid-logloss:0.37677\n",
      "[111]\tvalid-logloss:0.37685\n",
      "[112]\tvalid-logloss:0.37621\n",
      "[113]\tvalid-logloss:0.37568\n",
      "[114]\tvalid-logloss:0.37504\n",
      "[115]\tvalid-logloss:0.37436\n",
      "[116]\tvalid-logloss:0.37407\n",
      "[117]\tvalid-logloss:0.37213\n",
      "[118]\tvalid-logloss:0.37182\n",
      "[119]\tvalid-logloss:0.37110\n",
      "[120]\tvalid-logloss:0.37087\n",
      "[121]\tvalid-logloss:0.37068\n",
      "[122]\tvalid-logloss:0.36932\n",
      "[123]\tvalid-logloss:0.36842\n",
      "[124]\tvalid-logloss:0.36796\n",
      "[125]\tvalid-logloss:0.36639\n",
      "[126]\tvalid-logloss:0.36579\n",
      "[127]\tvalid-logloss:0.36449\n",
      "[128]\tvalid-logloss:0.36257\n",
      "[129]\tvalid-logloss:0.36197\n",
      "[130]\tvalid-logloss:0.36171\n",
      "[131]\tvalid-logloss:0.36130\n",
      "[132]\tvalid-logloss:0.36117\n",
      "[133]\tvalid-logloss:0.36115\n",
      "[134]\tvalid-logloss:0.36041\n",
      "[135]\tvalid-logloss:0.36006\n",
      "[136]\tvalid-logloss:0.35982\n",
      "[137]\tvalid-logloss:0.35801\n",
      "[138]\tvalid-logloss:0.35798\n",
      "[139]\tvalid-logloss:0.35807\n",
      "[140]\tvalid-logloss:0.35539\n",
      "[141]\tvalid-logloss:0.35534\n",
      "[142]\tvalid-logloss:0.35528\n",
      "[143]\tvalid-logloss:0.35378\n",
      "[144]\tvalid-logloss:0.35327\n",
      "[145]\tvalid-logloss:0.35153\n",
      "[146]\tvalid-logloss:0.35128\n",
      "[147]\tvalid-logloss:0.35083\n",
      "[148]\tvalid-logloss:0.35091\n",
      "[149]\tvalid-logloss:0.35031\n",
      "[150]\tvalid-logloss:0.34977\n",
      "[151]\tvalid-logloss:0.34962\n",
      "[152]\tvalid-logloss:0.34890\n",
      "[153]\tvalid-logloss:0.34864\n",
      "[154]\tvalid-logloss:0.34778\n",
      "[155]\tvalid-logloss:0.34416\n",
      "[156]\tvalid-logloss:0.34282\n",
      "[157]\tvalid-logloss:0.34222\n",
      "[158]\tvalid-logloss:0.34183\n",
      "[159]\tvalid-logloss:0.34027\n",
      "[160]\tvalid-logloss:0.34010\n",
      "[161]\tvalid-logloss:0.33926\n",
      "[162]\tvalid-logloss:0.33905\n",
      "[163]\tvalid-logloss:0.33840\n",
      "[164]\tvalid-logloss:0.33806\n",
      "[165]\tvalid-logloss:0.33792\n",
      "[166]\tvalid-logloss:0.33806\n",
      "[167]\tvalid-logloss:0.33677\n",
      "[168]\tvalid-logloss:0.33591\n",
      "[169]\tvalid-logloss:0.33481\n",
      "[170]\tvalid-logloss:0.33497\n",
      "[171]\tvalid-logloss:0.33438\n",
      "[172]\tvalid-logloss:0.33434\n",
      "[173]\tvalid-logloss:0.33344\n",
      "[174]\tvalid-logloss:0.33248\n",
      "[175]\tvalid-logloss:0.33174\n",
      "[176]\tvalid-logloss:0.33170\n",
      "[177]\tvalid-logloss:0.33108\n",
      "[178]\tvalid-logloss:0.33020\n",
      "[179]\tvalid-logloss:0.32952\n",
      "[180]\tvalid-logloss:0.32938\n",
      "[181]\tvalid-logloss:0.32865\n",
      "[182]\tvalid-logloss:0.32676\n",
      "[183]\tvalid-logloss:0.32609\n",
      "[184]\tvalid-logloss:0.32612\n",
      "[185]\tvalid-logloss:0.32568\n",
      "[186]\tvalid-logloss:0.32467\n",
      "[187]\tvalid-logloss:0.32388\n",
      "[188]\tvalid-logloss:0.32399\n",
      "[189]\tvalid-logloss:0.32254\n",
      "[190]\tvalid-logloss:0.32246\n",
      "[191]\tvalid-logloss:0.32216\n",
      "[192]\tvalid-logloss:0.32196\n",
      "[193]\tvalid-logloss:0.32156\n",
      "[194]\tvalid-logloss:0.32136\n",
      "[195]\tvalid-logloss:0.32119\n",
      "[196]\tvalid-logloss:0.31967\n",
      "[197]\tvalid-logloss:0.31891\n",
      "[198]\tvalid-logloss:0.31818\n",
      "[199]\tvalid-logloss:0.31785\n",
      "[200]\tvalid-logloss:0.31657\n",
      "[201]\tvalid-logloss:0.31626\n",
      "[202]\tvalid-logloss:0.31610\n",
      "[203]\tvalid-logloss:0.31498\n",
      "[204]\tvalid-logloss:0.31426\n",
      "[205]\tvalid-logloss:0.31367\n",
      "[206]\tvalid-logloss:0.31233\n",
      "[207]\tvalid-logloss:0.31222\n",
      "[208]\tvalid-logloss:0.31228\n",
      "[209]\tvalid-logloss:0.31227\n",
      "[210]\tvalid-logloss:0.31218\n",
      "[211]\tvalid-logloss:0.31180\n",
      "[212]\tvalid-logloss:0.30994\n",
      "[213]\tvalid-logloss:0.30971\n",
      "[214]\tvalid-logloss:0.30828\n",
      "[215]\tvalid-logloss:0.30822\n",
      "[216]\tvalid-logloss:0.30721\n",
      "[217]\tvalid-logloss:0.30721\n",
      "[218]\tvalid-logloss:0.30705\n",
      "[219]\tvalid-logloss:0.30384\n",
      "[220]\tvalid-logloss:0.30374\n",
      "[221]\tvalid-logloss:0.30334\n",
      "[222]\tvalid-logloss:0.30322\n",
      "[223]\tvalid-logloss:0.30318\n",
      "[224]\tvalid-logloss:0.30288\n",
      "[225]\tvalid-logloss:0.30145\n",
      "[226]\tvalid-logloss:0.30063\n",
      "[227]\tvalid-logloss:0.30045\n",
      "[228]\tvalid-logloss:0.29979\n",
      "[229]\tvalid-logloss:0.29863\n",
      "[230]\tvalid-logloss:0.29853\n",
      "[231]\tvalid-logloss:0.29842\n",
      "[232]\tvalid-logloss:0.29830\n",
      "[233]\tvalid-logloss:0.29808\n",
      "[234]\tvalid-logloss:0.29781\n",
      "[235]\tvalid-logloss:0.29711\n",
      "[236]\tvalid-logloss:0.29682\n",
      "[237]\tvalid-logloss:0.29573\n",
      "[238]\tvalid-logloss:0.29508\n",
      "[239]\tvalid-logloss:0.29433\n",
      "[240]\tvalid-logloss:0.29399\n",
      "[241]\tvalid-logloss:0.29361\n",
      "[242]\tvalid-logloss:0.29403\n",
      "[243]\tvalid-logloss:0.29371\n",
      "[244]\tvalid-logloss:0.29228\n",
      "[245]\tvalid-logloss:0.29205\n",
      "[246]\tvalid-logloss:0.29066\n",
      "[247]\tvalid-logloss:0.29023\n",
      "[248]\tvalid-logloss:0.28938\n",
      "[249]\tvalid-logloss:0.28886\n",
      "[250]\tvalid-logloss:0.28866\n",
      "[251]\tvalid-logloss:0.28874\n",
      "[252]\tvalid-logloss:0.28838\n",
      "[253]\tvalid-logloss:0.28797\n",
      "[254]\tvalid-logloss:0.28754\n",
      "[255]\tvalid-logloss:0.28667\n",
      "[256]\tvalid-logloss:0.28643\n",
      "[257]\tvalid-logloss:0.28599\n",
      "[258]\tvalid-logloss:0.28546\n",
      "[259]\tvalid-logloss:0.28495\n",
      "[260]\tvalid-logloss:0.28494\n",
      "[261]\tvalid-logloss:0.28408\n",
      "[262]\tvalid-logloss:0.28346\n",
      "[263]\tvalid-logloss:0.28351\n",
      "[264]\tvalid-logloss:0.28334\n",
      "[265]\tvalid-logloss:0.28357\n",
      "[266]\tvalid-logloss:0.28282\n",
      "[267]\tvalid-logloss:0.28253\n",
      "[268]\tvalid-logloss:0.28264\n",
      "[269]\tvalid-logloss:0.28268\n",
      "[270]\tvalid-logloss:0.28270\n",
      "[271]\tvalid-logloss:0.28214\n",
      "[272]\tvalid-logloss:0.28137\n",
      "[273]\tvalid-logloss:0.28116\n",
      "[274]\tvalid-logloss:0.28092\n",
      "[275]\tvalid-logloss:0.27980\n",
      "[276]\tvalid-logloss:0.27939\n",
      "[277]\tvalid-logloss:0.27935\n",
      "[278]\tvalid-logloss:0.27858\n",
      "[279]\tvalid-logloss:0.27815\n",
      "[280]\tvalid-logloss:0.27783\n",
      "[281]\tvalid-logloss:0.27763\n",
      "[282]\tvalid-logloss:0.27732\n",
      "[283]\tvalid-logloss:0.27620\n",
      "[284]\tvalid-logloss:0.27602\n",
      "[285]\tvalid-logloss:0.27589\n",
      "[286]\tvalid-logloss:0.27527\n",
      "[287]\tvalid-logloss:0.27515\n",
      "[288]\tvalid-logloss:0.27517\n",
      "[289]\tvalid-logloss:0.27483\n",
      "[290]\tvalid-logloss:0.27433\n",
      "[291]\tvalid-logloss:0.27421\n",
      "[292]\tvalid-logloss:0.27418\n",
      "[293]\tvalid-logloss:0.27347\n",
      "[294]\tvalid-logloss:0.27318\n",
      "[295]\tvalid-logloss:0.27309\n",
      "[296]\tvalid-logloss:0.27262\n",
      "[297]\tvalid-logloss:0.27135\n",
      "[298]\tvalid-logloss:0.27092\n",
      "[299]\tvalid-logloss:0.27040\n",
      "[300]\tvalid-logloss:0.27009\n",
      "[301]\tvalid-logloss:0.27018\n",
      "[302]\tvalid-logloss:0.26988\n",
      "[303]\tvalid-logloss:0.26823\n",
      "[304]\tvalid-logloss:0.26690\n",
      "[305]\tvalid-logloss:0.26656\n",
      "[306]\tvalid-logloss:0.26621\n",
      "[307]\tvalid-logloss:0.26580\n",
      "[308]\tvalid-logloss:0.26469\n",
      "[309]\tvalid-logloss:0.26439\n",
      "[310]\tvalid-logloss:0.26417\n",
      "[311]\tvalid-logloss:0.26407\n",
      "[312]\tvalid-logloss:0.26347\n",
      "[313]\tvalid-logloss:0.26320\n",
      "[314]\tvalid-logloss:0.26316\n",
      "[315]\tvalid-logloss:0.26310\n",
      "[316]\tvalid-logloss:0.26237\n",
      "[317]\tvalid-logloss:0.26233\n",
      "[318]\tvalid-logloss:0.26204\n",
      "[319]\tvalid-logloss:0.26178\n",
      "[320]\tvalid-logloss:0.26156\n",
      "[321]\tvalid-logloss:0.26154\n",
      "[322]\tvalid-logloss:0.26101\n",
      "[323]\tvalid-logloss:0.26101\n",
      "[324]\tvalid-logloss:0.26074\n",
      "[325]\tvalid-logloss:0.26072\n",
      "[326]\tvalid-logloss:0.26013\n",
      "[327]\tvalid-logloss:0.26011\n",
      "[328]\tvalid-logloss:0.26004\n",
      "[329]\tvalid-logloss:0.25983\n",
      "[330]\tvalid-logloss:0.25998\n",
      "[331]\tvalid-logloss:0.25968\n",
      "[332]\tvalid-logloss:0.25981\n",
      "[333]\tvalid-logloss:0.25927\n",
      "[334]\tvalid-logloss:0.25854\n",
      "[335]\tvalid-logloss:0.25851\n",
      "[336]\tvalid-logloss:0.25758\n",
      "[337]\tvalid-logloss:0.25734\n",
      "[338]\tvalid-logloss:0.25662\n",
      "[339]\tvalid-logloss:0.25635\n",
      "[340]\tvalid-logloss:0.25624\n",
      "[341]\tvalid-logloss:0.25639\n",
      "[342]\tvalid-logloss:0.25585\n",
      "[343]\tvalid-logloss:0.25564\n",
      "[344]\tvalid-logloss:0.25562\n",
      "[345]\tvalid-logloss:0.25534\n",
      "[346]\tvalid-logloss:0.25537\n",
      "[347]\tvalid-logloss:0.25528\n",
      "[348]\tvalid-logloss:0.25521\n",
      "[349]\tvalid-logloss:0.25516\n",
      "[350]\tvalid-logloss:0.25496\n",
      "[351]\tvalid-logloss:0.25488\n",
      "[352]\tvalid-logloss:0.25463\n",
      "[353]\tvalid-logloss:0.25333\n",
      "[354]\tvalid-logloss:0.25328\n",
      "[355]\tvalid-logloss:0.25338\n",
      "[356]\tvalid-logloss:0.25333\n",
      "[357]\tvalid-logloss:0.25303\n",
      "[358]\tvalid-logloss:0.25276\n",
      "[359]\tvalid-logloss:0.25252\n",
      "[360]\tvalid-logloss:0.25227\n",
      "[361]\tvalid-logloss:0.25206\n",
      "[362]\tvalid-logloss:0.25139\n",
      "[363]\tvalid-logloss:0.25107\n",
      "[364]\tvalid-logloss:0.25099\n",
      "[365]\tvalid-logloss:0.25056\n",
      "[366]\tvalid-logloss:0.25058\n",
      "[367]\tvalid-logloss:0.25091\n",
      "[368]\tvalid-logloss:0.25078\n",
      "[369]\tvalid-logloss:0.24968\n",
      "[370]\tvalid-logloss:0.24927\n",
      "[371]\tvalid-logloss:0.24929\n",
      "[372]\tvalid-logloss:0.24866\n",
      "[373]\tvalid-logloss:0.24837\n",
      "[374]\tvalid-logloss:0.24815\n",
      "[375]\tvalid-logloss:0.24767\n",
      "[376]\tvalid-logloss:0.24753\n",
      "[377]\tvalid-logloss:0.24728\n",
      "[378]\tvalid-logloss:0.24733\n",
      "[379]\tvalid-logloss:0.24707\n",
      "[380]\tvalid-logloss:0.24701\n",
      "[381]\tvalid-logloss:0.24695\n",
      "[382]\tvalid-logloss:0.24671\n",
      "[383]\tvalid-logloss:0.24634\n",
      "[384]\tvalid-logloss:0.24635\n",
      "[385]\tvalid-logloss:0.24577\n",
      "[386]\tvalid-logloss:0.24586\n",
      "[387]\tvalid-logloss:0.24582\n",
      "[388]\tvalid-logloss:0.24591\n",
      "[389]\tvalid-logloss:0.24582\n",
      "[390]\tvalid-logloss:0.24543\n",
      "[391]\tvalid-logloss:0.24512\n",
      "[392]\tvalid-logloss:0.24514\n",
      "[393]\tvalid-logloss:0.24491\n",
      "[394]\tvalid-logloss:0.24411\n",
      "[395]\tvalid-logloss:0.24387\n",
      "[396]\tvalid-logloss:0.24351\n",
      "[397]\tvalid-logloss:0.24328\n",
      "[398]\tvalid-logloss:0.24348\n",
      "[399]\tvalid-logloss:0.24336\n",
      "[400]\tvalid-logloss:0.24314\n",
      "[401]\tvalid-logloss:0.24260\n",
      "[402]\tvalid-logloss:0.24253\n",
      "[403]\tvalid-logloss:0.24245\n",
      "[404]\tvalid-logloss:0.24239\n",
      "[405]\tvalid-logloss:0.24212\n",
      "[406]\tvalid-logloss:0.24199\n",
      "[407]\tvalid-logloss:0.24143\n",
      "[408]\tvalid-logloss:0.24116\n",
      "[409]\tvalid-logloss:0.24072\n",
      "[410]\tvalid-logloss:0.24077\n",
      "[411]\tvalid-logloss:0.24071\n",
      "[412]\tvalid-logloss:0.24010\n",
      "[413]\tvalid-logloss:0.23988\n",
      "[414]\tvalid-logloss:0.23968\n",
      "[415]\tvalid-logloss:0.23898\n",
      "[416]\tvalid-logloss:0.23889\n",
      "[417]\tvalid-logloss:0.23866\n",
      "[418]\tvalid-logloss:0.23858\n",
      "[419]\tvalid-logloss:0.23848\n",
      "[420]\tvalid-logloss:0.23847\n",
      "[421]\tvalid-logloss:0.23822\n",
      "[422]\tvalid-logloss:0.23719\n",
      "[423]\tvalid-logloss:0.23720\n",
      "[424]\tvalid-logloss:0.23679\n",
      "[425]\tvalid-logloss:0.23650\n",
      "[426]\tvalid-logloss:0.23638\n",
      "[427]\tvalid-logloss:0.23618\n",
      "[428]\tvalid-logloss:0.23597\n",
      "[429]\tvalid-logloss:0.23521\n",
      "[430]\tvalid-logloss:0.23520\n",
      "[431]\tvalid-logloss:0.23504\n",
      "[432]\tvalid-logloss:0.23489\n",
      "[433]\tvalid-logloss:0.23442\n",
      "[434]\tvalid-logloss:0.23466\n",
      "[435]\tvalid-logloss:0.23400\n",
      "[436]\tvalid-logloss:0.23382\n",
      "[437]\tvalid-logloss:0.23343\n",
      "[438]\tvalid-logloss:0.23355\n",
      "[439]\tvalid-logloss:0.23348\n",
      "[440]\tvalid-logloss:0.23306\n",
      "[441]\tvalid-logloss:0.23285\n",
      "[442]\tvalid-logloss:0.23272\n",
      "[443]\tvalid-logloss:0.23247\n",
      "[444]\tvalid-logloss:0.23235\n",
      "[445]\tvalid-logloss:0.23214\n",
      "[446]\tvalid-logloss:0.23208\n",
      "[447]\tvalid-logloss:0.23138\n",
      "[448]\tvalid-logloss:0.23108\n",
      "[449]\tvalid-logloss:0.23095\n",
      "[450]\tvalid-logloss:0.23087\n",
      "[451]\tvalid-logloss:0.23024\n",
      "[452]\tvalid-logloss:0.23034\n",
      "[453]\tvalid-logloss:0.23004\n",
      "[454]\tvalid-logloss:0.22975\n",
      "[455]\tvalid-logloss:0.22938\n",
      "[456]\tvalid-logloss:0.22939\n",
      "[457]\tvalid-logloss:0.22895\n",
      "[458]\tvalid-logloss:0.22896\n",
      "[459]\tvalid-logloss:0.22896\n",
      "[460]\tvalid-logloss:0.22897\n",
      "[461]\tvalid-logloss:0.22884\n",
      "[462]\tvalid-logloss:0.22880\n",
      "[463]\tvalid-logloss:0.22862\n",
      "[464]\tvalid-logloss:0.22859\n",
      "[465]\tvalid-logloss:0.22838\n",
      "[466]\tvalid-logloss:0.22820\n",
      "[467]\tvalid-logloss:0.22829\n",
      "[468]\tvalid-logloss:0.22817\n",
      "[469]\tvalid-logloss:0.22808\n",
      "[470]\tvalid-logloss:0.22791\n",
      "[471]\tvalid-logloss:0.22775\n",
      "[472]\tvalid-logloss:0.22763\n",
      "[473]\tvalid-logloss:0.22758\n",
      "[474]\tvalid-logloss:0.22756\n",
      "[475]\tvalid-logloss:0.22754\n",
      "[476]\tvalid-logloss:0.22612\n",
      "[477]\tvalid-logloss:0.22619\n",
      "[478]\tvalid-logloss:0.22609\n",
      "[479]\tvalid-logloss:0.22607\n",
      "[480]\tvalid-logloss:0.22571\n",
      "[481]\tvalid-logloss:0.22567\n",
      "[482]\tvalid-logloss:0.22566\n",
      "[483]\tvalid-logloss:0.22552\n",
      "[484]\tvalid-logloss:0.22508\n",
      "[485]\tvalid-logloss:0.22491\n",
      "[486]\tvalid-logloss:0.22490\n",
      "[487]\tvalid-logloss:0.22475\n",
      "[488]\tvalid-logloss:0.22413\n",
      "[489]\tvalid-logloss:0.22413\n",
      "[490]\tvalid-logloss:0.22364\n",
      "[491]\tvalid-logloss:0.22345\n",
      "[492]\tvalid-logloss:0.22346\n",
      "[493]\tvalid-logloss:0.22319\n",
      "[494]\tvalid-logloss:0.22320\n",
      "[495]\tvalid-logloss:0.22311\n",
      "[496]\tvalid-logloss:0.22301\n",
      "[497]\tvalid-logloss:0.22266\n",
      "[498]\tvalid-logloss:0.22231\n",
      "[499]\tvalid-logloss:0.22225\n",
      "[500]\tvalid-logloss:0.22189\n",
      "[501]\tvalid-logloss:0.22179\n",
      "[502]\tvalid-logloss:0.22156\n",
      "[503]\tvalid-logloss:0.22165\n",
      "[504]\tvalid-logloss:0.22137\n",
      "[505]\tvalid-logloss:0.22123\n",
      "[506]\tvalid-logloss:0.22015\n",
      "[507]\tvalid-logloss:0.21998\n",
      "[508]\tvalid-logloss:0.21953\n",
      "[509]\tvalid-logloss:0.21965\n",
      "[510]\tvalid-logloss:0.21943\n",
      "[511]\tvalid-logloss:0.21853\n",
      "[512]\tvalid-logloss:0.21833\n",
      "[513]\tvalid-logloss:0.21803\n",
      "[514]\tvalid-logloss:0.21761\n",
      "[515]\tvalid-logloss:0.21754\n",
      "[516]\tvalid-logloss:0.21741\n",
      "[517]\tvalid-logloss:0.21718\n",
      "[518]\tvalid-logloss:0.21693\n",
      "[519]\tvalid-logloss:0.21678\n",
      "[520]\tvalid-logloss:0.21678\n",
      "[521]\tvalid-logloss:0.21660\n",
      "[522]\tvalid-logloss:0.21646\n",
      "[523]\tvalid-logloss:0.21683\n",
      "[524]\tvalid-logloss:0.21678\n",
      "[525]\tvalid-logloss:0.21669\n",
      "[526]\tvalid-logloss:0.21652\n",
      "[527]\tvalid-logloss:0.21620\n",
      "[528]\tvalid-logloss:0.21598\n",
      "[529]\tvalid-logloss:0.21599\n",
      "[530]\tvalid-logloss:0.21577\n",
      "[531]\tvalid-logloss:0.21543\n",
      "[532]\tvalid-logloss:0.21523\n",
      "[533]\tvalid-logloss:0.21514\n",
      "[534]\tvalid-logloss:0.21512\n",
      "[535]\tvalid-logloss:0.21522\n",
      "[536]\tvalid-logloss:0.21516\n",
      "[537]\tvalid-logloss:0.21484\n",
      "[538]\tvalid-logloss:0.21474\n",
      "[539]\tvalid-logloss:0.21473\n",
      "[540]\tvalid-logloss:0.21454\n",
      "[541]\tvalid-logloss:0.21453\n",
      "[542]\tvalid-logloss:0.21418\n",
      "[543]\tvalid-logloss:0.21358\n",
      "[544]\tvalid-logloss:0.21300\n",
      "[545]\tvalid-logloss:0.21286\n",
      "[546]\tvalid-logloss:0.21225\n",
      "[547]\tvalid-logloss:0.21183\n",
      "[548]\tvalid-logloss:0.21169\n",
      "[549]\tvalid-logloss:0.21101\n",
      "[550]\tvalid-logloss:0.21062\n",
      "[551]\tvalid-logloss:0.21034\n",
      "[552]\tvalid-logloss:0.21032\n",
      "[553]\tvalid-logloss:0.21028\n",
      "[554]\tvalid-logloss:0.21016\n",
      "[555]\tvalid-logloss:0.20971\n",
      "[556]\tvalid-logloss:0.20944\n",
      "[557]\tvalid-logloss:0.20922\n",
      "[558]\tvalid-logloss:0.20925\n",
      "[559]\tvalid-logloss:0.20924\n",
      "[560]\tvalid-logloss:0.20943\n",
      "[561]\tvalid-logloss:0.20936\n",
      "[562]\tvalid-logloss:0.20906\n",
      "[563]\tvalid-logloss:0.20907\n",
      "[564]\tvalid-logloss:0.20867\n",
      "[565]\tvalid-logloss:0.20843\n",
      "[566]\tvalid-logloss:0.20831\n",
      "[567]\tvalid-logloss:0.20789\n",
      "[568]\tvalid-logloss:0.20759\n",
      "[569]\tvalid-logloss:0.20745\n",
      "[570]\tvalid-logloss:0.20737\n",
      "[571]\tvalid-logloss:0.20731\n",
      "[572]\tvalid-logloss:0.20721\n",
      "[573]\tvalid-logloss:0.20722\n",
      "[574]\tvalid-logloss:0.20705\n",
      "[575]\tvalid-logloss:0.20683\n",
      "[576]\tvalid-logloss:0.20644\n",
      "[577]\tvalid-logloss:0.20636\n",
      "[578]\tvalid-logloss:0.20605\n",
      "[579]\tvalid-logloss:0.20577\n",
      "[580]\tvalid-logloss:0.20556\n",
      "[581]\tvalid-logloss:0.20553\n",
      "[582]\tvalid-logloss:0.20545\n",
      "[583]\tvalid-logloss:0.20525\n",
      "[584]\tvalid-logloss:0.20521\n",
      "[585]\tvalid-logloss:0.20507\n",
      "[586]\tvalid-logloss:0.20494\n",
      "[587]\tvalid-logloss:0.20495\n",
      "[588]\tvalid-logloss:0.20458\n",
      "[589]\tvalid-logloss:0.20437\n",
      "[590]\tvalid-logloss:0.20430\n",
      "[591]\tvalid-logloss:0.20428\n",
      "[592]\tvalid-logloss:0.20417\n",
      "[593]\tvalid-logloss:0.20407\n",
      "[594]\tvalid-logloss:0.20406\n",
      "[595]\tvalid-logloss:0.20383\n",
      "[596]\tvalid-logloss:0.20376\n",
      "[597]\tvalid-logloss:0.20377\n",
      "[598]\tvalid-logloss:0.20363\n",
      "[599]\tvalid-logloss:0.20359\n",
      "[600]\tvalid-logloss:0.20361\n",
      "[601]\tvalid-logloss:0.20326\n",
      "[602]\tvalid-logloss:0.20327\n",
      "[603]\tvalid-logloss:0.20312\n",
      "[604]\tvalid-logloss:0.20328\n",
      "[605]\tvalid-logloss:0.20329\n",
      "[606]\tvalid-logloss:0.20328\n",
      "[607]\tvalid-logloss:0.20310\n",
      "[608]\tvalid-logloss:0.20291\n",
      "[609]\tvalid-logloss:0.20250\n",
      "[610]\tvalid-logloss:0.20203\n",
      "[611]\tvalid-logloss:0.20208\n",
      "[612]\tvalid-logloss:0.20210\n",
      "[613]\tvalid-logloss:0.20197\n",
      "[614]\tvalid-logloss:0.20138\n",
      "[615]\tvalid-logloss:0.20128\n",
      "[616]\tvalid-logloss:0.20116\n",
      "[617]\tvalid-logloss:0.20111\n",
      "[618]\tvalid-logloss:0.20116\n",
      "[619]\tvalid-logloss:0.20108\n",
      "[620]\tvalid-logloss:0.20107\n",
      "[621]\tvalid-logloss:0.20089\n",
      "[622]\tvalid-logloss:0.20072\n",
      "[623]\tvalid-logloss:0.20073\n",
      "[624]\tvalid-logloss:0.20084\n",
      "[625]\tvalid-logloss:0.20073\n",
      "[626]\tvalid-logloss:0.20079\n",
      "[627]\tvalid-logloss:0.20076\n",
      "[628]\tvalid-logloss:0.20066\n",
      "[629]\tvalid-logloss:0.20068\n",
      "[630]\tvalid-logloss:0.20064\n",
      "[631]\tvalid-logloss:0.20059\n",
      "[632]\tvalid-logloss:0.20051\n",
      "[633]\tvalid-logloss:0.20050\n",
      "[634]\tvalid-logloss:0.20047\n",
      "[635]\tvalid-logloss:0.20045\n",
      "[636]\tvalid-logloss:0.20044\n",
      "[637]\tvalid-logloss:0.20027\n",
      "[638]\tvalid-logloss:0.20034\n",
      "[639]\tvalid-logloss:0.20033\n",
      "[640]\tvalid-logloss:0.20004\n",
      "[641]\tvalid-logloss:0.20002\n",
      "[642]\tvalid-logloss:0.19987\n",
      "[643]\tvalid-logloss:0.19983\n",
      "[644]\tvalid-logloss:0.19966\n",
      "[645]\tvalid-logloss:0.19906\n",
      "[646]\tvalid-logloss:0.19897\n",
      "[647]\tvalid-logloss:0.19885\n",
      "[648]\tvalid-logloss:0.19884\n",
      "[649]\tvalid-logloss:0.19870\n",
      "[650]\tvalid-logloss:0.19877\n",
      "[651]\tvalid-logloss:0.19830\n",
      "[652]\tvalid-logloss:0.19811\n",
      "[653]\tvalid-logloss:0.19800\n",
      "[654]\tvalid-logloss:0.19820\n",
      "[655]\tvalid-logloss:0.19787\n",
      "[656]\tvalid-logloss:0.19779\n",
      "[657]\tvalid-logloss:0.19765\n",
      "[658]\tvalid-logloss:0.19758\n",
      "[659]\tvalid-logloss:0.19758\n",
      "[660]\tvalid-logloss:0.19754\n",
      "[661]\tvalid-logloss:0.19746\n",
      "[662]\tvalid-logloss:0.19735\n",
      "[663]\tvalid-logloss:0.19735\n",
      "[664]\tvalid-logloss:0.19720\n",
      "[665]\tvalid-logloss:0.19712\n",
      "[666]\tvalid-logloss:0.19676\n",
      "[667]\tvalid-logloss:0.19679\n",
      "[668]\tvalid-logloss:0.19663\n",
      "[669]\tvalid-logloss:0.19656\n",
      "[670]\tvalid-logloss:0.19659\n",
      "[671]\tvalid-logloss:0.19651\n",
      "[672]\tvalid-logloss:0.19651\n",
      "[673]\tvalid-logloss:0.19674\n",
      "[674]\tvalid-logloss:0.19632\n",
      "[675]\tvalid-logloss:0.19644\n",
      "[676]\tvalid-logloss:0.19626\n",
      "[677]\tvalid-logloss:0.19618\n",
      "[678]\tvalid-logloss:0.19622\n",
      "[679]\tvalid-logloss:0.19633\n",
      "[680]\tvalid-logloss:0.19612\n",
      "[681]\tvalid-logloss:0.19599\n",
      "[682]\tvalid-logloss:0.19586\n",
      "[683]\tvalid-logloss:0.19575\n",
      "[684]\tvalid-logloss:0.19555\n",
      "[685]\tvalid-logloss:0.19532\n",
      "[686]\tvalid-logloss:0.19527\n",
      "[687]\tvalid-logloss:0.19524\n",
      "[688]\tvalid-logloss:0.19505\n",
      "[689]\tvalid-logloss:0.19503\n",
      "[690]\tvalid-logloss:0.19497\n",
      "[691]\tvalid-logloss:0.19484\n",
      "[692]\tvalid-logloss:0.19467\n",
      "[693]\tvalid-logloss:0.19436\n",
      "[694]\tvalid-logloss:0.19432\n",
      "[695]\tvalid-logloss:0.19424\n",
      "[696]\tvalid-logloss:0.19410\n",
      "[697]\tvalid-logloss:0.19347\n",
      "[698]\tvalid-logloss:0.19337\n",
      "[699]\tvalid-logloss:0.19334\n",
      "[700]\tvalid-logloss:0.19335\n",
      "[701]\tvalid-logloss:0.19333\n",
      "[702]\tvalid-logloss:0.19327\n",
      "[703]\tvalid-logloss:0.19302\n",
      "[704]\tvalid-logloss:0.19298\n",
      "[705]\tvalid-logloss:0.19288\n",
      "[706]\tvalid-logloss:0.19280\n",
      "[707]\tvalid-logloss:0.19261\n",
      "[708]\tvalid-logloss:0.19258\n",
      "[709]\tvalid-logloss:0.19247\n",
      "[710]\tvalid-logloss:0.19241\n",
      "[711]\tvalid-logloss:0.19220\n",
      "[712]\tvalid-logloss:0.19214\n",
      "[713]\tvalid-logloss:0.19192\n",
      "[714]\tvalid-logloss:0.19198\n",
      "[715]\tvalid-logloss:0.19136\n",
      "[716]\tvalid-logloss:0.19100\n",
      "[717]\tvalid-logloss:0.19095\n",
      "[718]\tvalid-logloss:0.19095\n",
      "[719]\tvalid-logloss:0.19104\n",
      "[720]\tvalid-logloss:0.19105\n",
      "[721]\tvalid-logloss:0.19100\n",
      "[722]\tvalid-logloss:0.19105\n",
      "[723]\tvalid-logloss:0.19104\n",
      "[724]\tvalid-logloss:0.19066\n",
      "[725]\tvalid-logloss:0.19061\n",
      "[726]\tvalid-logloss:0.19057\n",
      "[727]\tvalid-logloss:0.19053\n",
      "[728]\tvalid-logloss:0.19042\n",
      "[729]\tvalid-logloss:0.19039\n",
      "[730]\tvalid-logloss:0.19032\n",
      "[731]\tvalid-logloss:0.19021\n",
      "[732]\tvalid-logloss:0.19010\n",
      "[733]\tvalid-logloss:0.18996\n",
      "[734]\tvalid-logloss:0.18975\n",
      "[735]\tvalid-logloss:0.18975\n",
      "[736]\tvalid-logloss:0.18949\n",
      "[737]\tvalid-logloss:0.18947\n",
      "[738]\tvalid-logloss:0.18924\n",
      "[739]\tvalid-logloss:0.18903\n",
      "[740]\tvalid-logloss:0.18886\n",
      "[741]\tvalid-logloss:0.18902\n",
      "[742]\tvalid-logloss:0.18879\n",
      "[743]\tvalid-logloss:0.18871\n",
      "[744]\tvalid-logloss:0.18875\n",
      "[745]\tvalid-logloss:0.18865\n",
      "[746]\tvalid-logloss:0.18857\n",
      "[747]\tvalid-logloss:0.18850\n",
      "[748]\tvalid-logloss:0.18850\n",
      "[749]\tvalid-logloss:0.18844\n",
      "[750]\tvalid-logloss:0.18833\n",
      "[751]\tvalid-logloss:0.18825\n",
      "[752]\tvalid-logloss:0.18819\n",
      "[753]\tvalid-logloss:0.18807\n",
      "[754]\tvalid-logloss:0.18794\n",
      "[755]\tvalid-logloss:0.18778\n",
      "[756]\tvalid-logloss:0.18771\n",
      "[757]\tvalid-logloss:0.18775\n",
      "[758]\tvalid-logloss:0.18770\n",
      "[759]\tvalid-logloss:0.18764\n",
      "[760]\tvalid-logloss:0.18761\n",
      "[761]\tvalid-logloss:0.18760\n",
      "[762]\tvalid-logloss:0.18749\n",
      "[763]\tvalid-logloss:0.18745\n",
      "[764]\tvalid-logloss:0.18719\n",
      "[765]\tvalid-logloss:0.18715\n",
      "[766]\tvalid-logloss:0.18687\n",
      "[767]\tvalid-logloss:0.18690\n",
      "[768]\tvalid-logloss:0.18689\n",
      "[769]\tvalid-logloss:0.18694\n",
      "[770]\tvalid-logloss:0.18693\n",
      "[771]\tvalid-logloss:0.18688\n",
      "[772]\tvalid-logloss:0.18684\n",
      "[773]\tvalid-logloss:0.18661\n",
      "[774]\tvalid-logloss:0.18658\n",
      "[775]\tvalid-logloss:0.18661\n",
      "[776]\tvalid-logloss:0.18660\n",
      "[777]\tvalid-logloss:0.18653\n",
      "[778]\tvalid-logloss:0.18641\n",
      "[779]\tvalid-logloss:0.18640\n",
      "[780]\tvalid-logloss:0.18634\n",
      "[781]\tvalid-logloss:0.18641\n",
      "[782]\tvalid-logloss:0.18630\n",
      "[783]\tvalid-logloss:0.18620\n",
      "[784]\tvalid-logloss:0.18615\n",
      "[785]\tvalid-logloss:0.18609\n",
      "[786]\tvalid-logloss:0.18582\n",
      "[787]\tvalid-logloss:0.18565\n",
      "[788]\tvalid-logloss:0.18563\n",
      "[789]\tvalid-logloss:0.18539\n",
      "[790]\tvalid-logloss:0.18526\n",
      "[791]\tvalid-logloss:0.18516\n",
      "[792]\tvalid-logloss:0.18511\n",
      "[793]\tvalid-logloss:0.18506\n",
      "[794]\tvalid-logloss:0.18487\n",
      "[795]\tvalid-logloss:0.18486\n",
      "[796]\tvalid-logloss:0.18470\n",
      "[797]\tvalid-logloss:0.18465\n",
      "[798]\tvalid-logloss:0.18474\n",
      "[799]\tvalid-logloss:0.18474\n",
      "[800]\tvalid-logloss:0.18471\n",
      "[801]\tvalid-logloss:0.18467\n",
      "[802]\tvalid-logloss:0.18458\n",
      "[803]\tvalid-logloss:0.18445\n",
      "[804]\tvalid-logloss:0.18440\n",
      "[805]\tvalid-logloss:0.18435\n",
      "[806]\tvalid-logloss:0.18424\n",
      "[807]\tvalid-logloss:0.18423\n",
      "[808]\tvalid-logloss:0.18420\n",
      "[809]\tvalid-logloss:0.18421\n",
      "[810]\tvalid-logloss:0.18420\n",
      "[811]\tvalid-logloss:0.18425\n",
      "[812]\tvalid-logloss:0.18425\n",
      "[813]\tvalid-logloss:0.18426\n",
      "[814]\tvalid-logloss:0.18419\n",
      "[815]\tvalid-logloss:0.18402\n",
      "[816]\tvalid-logloss:0.18365\n",
      "[817]\tvalid-logloss:0.18361\n",
      "[818]\tvalid-logloss:0.18359\n",
      "[819]\tvalid-logloss:0.18347\n",
      "[820]\tvalid-logloss:0.18343\n",
      "[821]\tvalid-logloss:0.18341\n",
      "[822]\tvalid-logloss:0.18333\n",
      "[823]\tvalid-logloss:0.18323\n",
      "[824]\tvalid-logloss:0.18315\n",
      "[825]\tvalid-logloss:0.18310\n",
      "[826]\tvalid-logloss:0.18303\n",
      "[827]\tvalid-logloss:0.18299\n",
      "[828]\tvalid-logloss:0.18282\n",
      "[829]\tvalid-logloss:0.18269\n",
      "[830]\tvalid-logloss:0.18259\n",
      "[831]\tvalid-logloss:0.18253\n",
      "[832]\tvalid-logloss:0.18240\n",
      "[833]\tvalid-logloss:0.18225\n",
      "[834]\tvalid-logloss:0.18224\n",
      "[835]\tvalid-logloss:0.18224\n",
      "[836]\tvalid-logloss:0.18245\n",
      "[837]\tvalid-logloss:0.18211\n",
      "[838]\tvalid-logloss:0.18208\n",
      "[839]\tvalid-logloss:0.18208\n",
      "[840]\tvalid-logloss:0.18203\n",
      "[841]\tvalid-logloss:0.18196\n",
      "[842]\tvalid-logloss:0.18203\n",
      "[843]\tvalid-logloss:0.18207\n",
      "[844]\tvalid-logloss:0.18194\n",
      "[845]\tvalid-logloss:0.18190\n",
      "[846]\tvalid-logloss:0.18181\n",
      "[847]\tvalid-logloss:0.18178\n",
      "[848]\tvalid-logloss:0.18180\n",
      "[849]\tvalid-logloss:0.18177\n",
      "[850]\tvalid-logloss:0.18177\n",
      "[851]\tvalid-logloss:0.18166\n",
      "[852]\tvalid-logloss:0.18163\n",
      "[853]\tvalid-logloss:0.18152\n",
      "[854]\tvalid-logloss:0.18148\n",
      "[855]\tvalid-logloss:0.18138\n",
      "[856]\tvalid-logloss:0.18131\n",
      "[857]\tvalid-logloss:0.18120\n",
      "[858]\tvalid-logloss:0.18112\n",
      "[859]\tvalid-logloss:0.18102\n",
      "[860]\tvalid-logloss:0.18098\n",
      "[861]\tvalid-logloss:0.18088\n",
      "[862]\tvalid-logloss:0.18081\n",
      "[863]\tvalid-logloss:0.18077\n",
      "[864]\tvalid-logloss:0.18066\n",
      "[865]\tvalid-logloss:0.18062\n",
      "[866]\tvalid-logloss:0.18059\n",
      "[867]\tvalid-logloss:0.18054\n",
      "[868]\tvalid-logloss:0.18045\n",
      "[869]\tvalid-logloss:0.18049\n",
      "[870]\tvalid-logloss:0.18047\n",
      "[871]\tvalid-logloss:0.18019\n",
      "[872]\tvalid-logloss:0.18013\n",
      "[873]\tvalid-logloss:0.17997\n",
      "[874]\tvalid-logloss:0.17981\n",
      "[875]\tvalid-logloss:0.17977\n",
      "[876]\tvalid-logloss:0.17976\n",
      "[877]\tvalid-logloss:0.17977\n",
      "[878]\tvalid-logloss:0.17968\n",
      "[879]\tvalid-logloss:0.17954\n",
      "[880]\tvalid-logloss:0.17956\n",
      "[881]\tvalid-logloss:0.17955\n",
      "[882]\tvalid-logloss:0.17946\n",
      "[883]\tvalid-logloss:0.17938\n",
      "[884]\tvalid-logloss:0.17940\n",
      "[885]\tvalid-logloss:0.17932\n",
      "[886]\tvalid-logloss:0.17922\n",
      "[887]\tvalid-logloss:0.17922\n",
      "[888]\tvalid-logloss:0.17924\n",
      "[889]\tvalid-logloss:0.17922\n",
      "[890]\tvalid-logloss:0.17915\n",
      "[891]\tvalid-logloss:0.17902\n",
      "[892]\tvalid-logloss:0.17891\n",
      "[893]\tvalid-logloss:0.17887\n",
      "[894]\tvalid-logloss:0.17881\n",
      "[895]\tvalid-logloss:0.17878\n",
      "[896]\tvalid-logloss:0.17872\n",
      "[897]\tvalid-logloss:0.17869\n",
      "[898]\tvalid-logloss:0.17869\n",
      "[899]\tvalid-logloss:0.17867\n",
      "[900]\tvalid-logloss:0.17860\n",
      "[901]\tvalid-logloss:0.17860\n",
      "[902]\tvalid-logloss:0.17858\n",
      "[903]\tvalid-logloss:0.17851\n",
      "[904]\tvalid-logloss:0.17846\n",
      "[905]\tvalid-logloss:0.17837\n",
      "[906]\tvalid-logloss:0.17836\n",
      "[907]\tvalid-logloss:0.17843\n",
      "[908]\tvalid-logloss:0.17838\n",
      "[909]\tvalid-logloss:0.17839\n",
      "[910]\tvalid-logloss:0.17834\n",
      "[911]\tvalid-logloss:0.17828\n",
      "[912]\tvalid-logloss:0.17822\n",
      "[913]\tvalid-logloss:0.17824\n",
      "[914]\tvalid-logloss:0.17823\n",
      "[915]\tvalid-logloss:0.17822\n",
      "[916]\tvalid-logloss:0.17806\n",
      "[917]\tvalid-logloss:0.17800\n",
      "[918]\tvalid-logloss:0.17795\n",
      "[919]\tvalid-logloss:0.17794\n",
      "[920]\tvalid-logloss:0.17793\n",
      "[921]\tvalid-logloss:0.17785\n",
      "[922]\tvalid-logloss:0.17777\n",
      "[923]\tvalid-logloss:0.17784\n",
      "[924]\tvalid-logloss:0.17777\n",
      "[925]\tvalid-logloss:0.17784\n",
      "[926]\tvalid-logloss:0.17782\n",
      "[927]\tvalid-logloss:0.17783\n",
      "[928]\tvalid-logloss:0.17779\n",
      "[929]\tvalid-logloss:0.17751\n",
      "[930]\tvalid-logloss:0.17744\n",
      "[931]\tvalid-logloss:0.17720\n",
      "[932]\tvalid-logloss:0.17719\n",
      "[933]\tvalid-logloss:0.17712\n",
      "[934]\tvalid-logloss:0.17705\n",
      "[935]\tvalid-logloss:0.17697\n",
      "[936]\tvalid-logloss:0.17691\n",
      "[937]\tvalid-logloss:0.17688\n",
      "[938]\tvalid-logloss:0.17686\n",
      "[939]\tvalid-logloss:0.17684\n",
      "[940]\tvalid-logloss:0.17678\n",
      "[941]\tvalid-logloss:0.17662\n",
      "[942]\tvalid-logloss:0.17662\n",
      "[943]\tvalid-logloss:0.17662\n",
      "[944]\tvalid-logloss:0.17661\n",
      "[945]\tvalid-logloss:0.17657\n",
      "[946]\tvalid-logloss:0.17650\n",
      "[947]\tvalid-logloss:0.17652\n",
      "[948]\tvalid-logloss:0.17649\n",
      "[949]\tvalid-logloss:0.17640\n",
      "[950]\tvalid-logloss:0.17626\n",
      "[951]\tvalid-logloss:0.17624\n",
      "[952]\tvalid-logloss:0.17612\n",
      "[953]\tvalid-logloss:0.17610\n",
      "[954]\tvalid-logloss:0.17610\n",
      "[955]\tvalid-logloss:0.17607\n",
      "[956]\tvalid-logloss:0.17606\n",
      "[957]\tvalid-logloss:0.17607\n",
      "[958]\tvalid-logloss:0.17609\n",
      "[959]\tvalid-logloss:0.17606\n",
      "[960]\tvalid-logloss:0.17603\n",
      "[961]\tvalid-logloss:0.17590\n",
      "[962]\tvalid-logloss:0.17582\n",
      "[963]\tvalid-logloss:0.17578\n",
      "[964]\tvalid-logloss:0.17574\n",
      "[965]\tvalid-logloss:0.17565\n",
      "[966]\tvalid-logloss:0.17577\n",
      "[967]\tvalid-logloss:0.17575\n",
      "[968]\tvalid-logloss:0.17580\n",
      "[969]\tvalid-logloss:0.17574\n",
      "[970]\tvalid-logloss:0.17576\n",
      "[971]\tvalid-logloss:0.17575\n",
      "[972]\tvalid-logloss:0.17573\n",
      "[973]\tvalid-logloss:0.17573\n",
      "[974]\tvalid-logloss:0.17571\n",
      "[975]\tvalid-logloss:0.17564\n",
      "[976]\tvalid-logloss:0.17560\n",
      "[977]\tvalid-logloss:0.17556\n",
      "[978]\tvalid-logloss:0.17552\n",
      "[979]\tvalid-logloss:0.17549\n",
      "[980]\tvalid-logloss:0.17541\n",
      "[981]\tvalid-logloss:0.17542\n",
      "[982]\tvalid-logloss:0.17532\n",
      "[983]\tvalid-logloss:0.17532\n",
      "[984]\tvalid-logloss:0.17538\n",
      "[985]\tvalid-logloss:0.17532\n",
      "[986]\tvalid-logloss:0.17537\n",
      "[987]\tvalid-logloss:0.17539\n",
      "[988]\tvalid-logloss:0.17535\n",
      "[989]\tvalid-logloss:0.17533\n",
      "[990]\tvalid-logloss:0.17529\n",
      "[991]\tvalid-logloss:0.17522\n",
      "[992]\tvalid-logloss:0.17520\n",
      "[993]\tvalid-logloss:0.17512\n",
      "[994]\tvalid-logloss:0.17521\n",
      "[995]\tvalid-logloss:0.17523\n",
      "[996]\tvalid-logloss:0.17521\n",
      "[997]\tvalid-logloss:0.17516\n",
      "[998]\tvalid-logloss:0.17515\n",
      "[999]\tvalid-logloss:0.17513\n",
      "[1000]\tvalid-logloss:0.17513\n",
      "[1001]\tvalid-logloss:0.17506\n",
      "[1002]\tvalid-logloss:0.17507\n",
      "[1003]\tvalid-logloss:0.17514\n",
      "[1004]\tvalid-logloss:0.17515\n",
      "[1005]\tvalid-logloss:0.17510\n",
      "[1006]\tvalid-logloss:0.17500\n",
      "[1007]\tvalid-logloss:0.17498\n",
      "[1008]\tvalid-logloss:0.17488\n",
      "[1009]\tvalid-logloss:0.17488\n",
      "[1010]\tvalid-logloss:0.17483\n",
      "[1011]\tvalid-logloss:0.17480\n",
      "[1012]\tvalid-logloss:0.17483\n",
      "[1013]\tvalid-logloss:0.17480\n",
      "[1014]\tvalid-logloss:0.17479\n",
      "[1015]\tvalid-logloss:0.17480\n",
      "[1016]\tvalid-logloss:0.17467\n",
      "[1017]\tvalid-logloss:0.17463\n",
      "[1018]\tvalid-logloss:0.17456\n",
      "[1019]\tvalid-logloss:0.17445\n",
      "[1020]\tvalid-logloss:0.17445\n",
      "[1021]\tvalid-logloss:0.17444\n",
      "[1022]\tvalid-logloss:0.17441\n",
      "[1023]\tvalid-logloss:0.17442\n",
      "[1024]\tvalid-logloss:0.17444\n",
      "[1025]\tvalid-logloss:0.17454\n",
      "[1026]\tvalid-logloss:0.17457\n",
      "[1027]\tvalid-logloss:0.17459\n",
      "[1028]\tvalid-logloss:0.17459\n",
      "[1029]\tvalid-logloss:0.17463\n",
      "[1030]\tvalid-logloss:0.17453\n",
      "[1031]\tvalid-logloss:0.17452\n",
      "[1032]\tvalid-logloss:0.17451\n"
     ]
    }
   ],
   "source": [
    "output = xgb.dask.train(\n",
    "        client,\n",
    "        {\"booster\":\"gbtree\",\"verbosity\": 2, \"tree_method\": \"hist\", \"scale_pos_weight\":ratio,\"seed\":0,\n",
    "         \"max_delta_step\":5,#\"interaction_constraints\":feature_interactions,\n",
    "         \"objective\": \"binary:logistic\"}, #\"eval_metric\": [\"auc\"]\n",
    "        dtrain,\n",
    "        num_boost_round=5000,\n",
    "        evals=[(dvalid, \"valid\")],\n",
    "        callbacks=[early_stop]\n",
    "    )"
   ]
  },
  {
   "cell_type": "code",
   "execution_count": 98,
   "id": "b8579def",
   "metadata": {
    "execution": {
     "iopub.execute_input": "2024-05-31T15:57:59.175325Z",
     "iopub.status.busy": "2024-05-31T15:57:59.174841Z",
     "iopub.status.idle": "2024-05-31T15:58:22.580766Z",
     "shell.execute_reply": "2024-05-31T15:58:22.579336Z"
    },
    "papermill": {
     "duration": 23.569199,
     "end_time": "2024-05-31T15:58:22.583682",
     "exception": false,
     "start_time": "2024-05-31T15:57:59.014483",
     "status": "completed"
    },
    "tags": []
   },
   "outputs": [
    {
     "name": "stdout",
     "output_type": "stream",
     "text": [
      "0.7520231225312345\n",
      "Test stability score: 0.41622140635536825\n"
     ]
    }
   ],
   "source": [
    "prediction = xgb.dask.predict(client, output, dtest)\n",
    "print(roc_auc_score(test_labels.compute(), prediction.compute()))\n",
    "print(f\"Test stability score: {get_metric_calc_df(test_labels.compute(), prediction.compute(), 'train')}\")"
   ]
  },
  {
   "cell_type": "code",
   "execution_count": 99,
   "id": "a1d98bb0",
   "metadata": {
    "execution": {
     "iopub.execute_input": "2024-05-31T15:58:22.918926Z",
     "iopub.status.busy": "2024-05-31T15:58:22.917793Z",
     "iopub.status.idle": "2024-05-31T15:58:23.265937Z",
     "shell.execute_reply": "2024-05-31T15:58:23.264279Z"
    },
    "papermill": {
     "duration": 0.525783,
     "end_time": "2024-05-31T15:58:23.269324",
     "exception": false,
     "start_time": "2024-05-31T15:58:22.743541",
     "status": "completed"
    },
    "tags": []
   },
   "outputs": [
    {
     "data": {
      "text/plain": [
       "140"
      ]
     },
     "execution_count": 99,
     "metadata": {},
     "output_type": "execute_result"
    }
   ],
   "source": [
    "del prediction, output\n",
    "collect()"
   ]
  },
  {
   "cell_type": "markdown",
   "id": "999dd7f6",
   "metadata": {
    "papermill": {
     "duration": 0.206565,
     "end_time": "2024-05-31T15:58:23.730254",
     "exception": false,
     "start_time": "2024-05-31T15:58:23.523689",
     "status": "completed"
    },
    "tags": []
   },
   "source": [
    "### xgb linear"
   ]
  },
  {
   "cell_type": "code",
   "execution_count": 100,
   "id": "76e6485a",
   "metadata": {
    "execution": {
     "iopub.execute_input": "2024-05-31T15:58:24.111383Z",
     "iopub.status.busy": "2024-05-31T15:58:24.110036Z",
     "iopub.status.idle": "2024-05-31T15:59:20.074645Z",
     "shell.execute_reply": "2024-05-31T15:59:20.073232Z"
    },
    "papermill": {
     "duration": 56.152189,
     "end_time": "2024-05-31T15:59:20.078137",
     "exception": false,
     "start_time": "2024-05-31T15:58:23.925948",
     "status": "completed"
    },
    "tags": []
   },
   "outputs": [],
   "source": [
    "train_computed=train.compute()\n",
    "train_label_computed=train_labels.compute()\n",
    "valid_computed=valid.compute()\n",
    "valid_label_computed=valid_labels.compute()\n",
    "test_computed=test.compute()\n",
    "test_label_computed=test_labels.compute()\n",
    "del train, valid, test, train_labels,valid_labels, test_labels,"
   ]
  },
  {
   "cell_type": "code",
   "execution_count": 101,
   "id": "164fb209",
   "metadata": {
    "_kg_hide-output": true,
    "execution": {
     "iopub.execute_input": "2024-05-31T15:59:20.654854Z",
     "iopub.status.busy": "2024-05-31T15:59:20.654355Z",
     "iopub.status.idle": "2024-05-31T16:07:56.805134Z",
     "shell.execute_reply": "2024-05-31T16:07:56.802902Z"
    },
    "papermill": {
     "duration": 516.315011,
     "end_time": "2024-05-31T16:07:56.809635",
     "exception": false,
     "start_time": "2024-05-31T15:59:20.494624",
     "status": "completed"
    },
    "tags": []
   },
   "outputs": [
    {
     "name": "stdout",
     "output_type": "stream",
     "text": [
      "[0]\tvalid-logloss:0.65056\n",
      "[1]\tvalid-logloss:0.62793\n",
      "[2]\tvalid-logloss:0.62029\n",
      "[3]\tvalid-logloss:0.59704\n",
      "[4]\tvalid-logloss:0.56898\n",
      "[5]\tvalid-logloss:0.56981\n",
      "[6]\tvalid-logloss:0.55538\n",
      "[7]\tvalid-logloss:0.55497\n",
      "[8]\tvalid-logloss:0.54458\n",
      "[9]\tvalid-logloss:0.54273\n",
      "[10]\tvalid-logloss:0.54659\n",
      "[11]\tvalid-logloss:0.53255\n",
      "[12]\tvalid-logloss:0.53672\n",
      "[13]\tvalid-logloss:0.53956\n",
      "[14]\tvalid-logloss:0.53875\n",
      "[15]\tvalid-logloss:0.53321\n",
      "[16]\tvalid-logloss:0.56941\n",
      "[17]\tvalid-logloss:0.56115\n",
      "[18]\tvalid-logloss:0.56039\n",
      "[19]\tvalid-logloss:0.54925\n",
      "[20]\tvalid-logloss:0.55426\n"
     ]
    }
   ],
   "source": [
    "early_stop_lin = xgb.callback.EarlyStopping(\n",
    "    rounds=10,\n",
    "    metric_name=\"logloss\",\n",
    "    data_name=\"valid\",\n",
    ")\n",
    "output2 = xgb.train(\n",
    "        {\"verbosity\": 2, \"booster\":\"gblinear\", \"scale_pos_weight\":ratio,\"seed\":0, \n",
    "         \"feature_selector\":\"greedy\",\"updater\":\"coord_descent\",\"top_k\":20,\n",
    "         \"lambda\":1e-4,\"alpha\":1e-5,#\"interaction_constraints\":feature_interactions,\n",
    "         \"objective\": \"binary:logistic\"}, #\"eval_metric\": [\"auc\"]\n",
    "        xgb.DMatrix(data=train_computed, label=train_label_computed),\n",
    "        num_boost_round=5000,\n",
    "        evals=[(xgb.DMatrix(data=valid_computed,label=valid_label_computed), \"valid\")],\n",
    "        callbacks=[early_stop_lin]\n",
    "    )"
   ]
  },
  {
   "cell_type": "code",
   "execution_count": 102,
   "id": "7a5327fb",
   "metadata": {
    "execution": {
     "iopub.execute_input": "2024-05-31T16:07:57.148463Z",
     "iopub.status.busy": "2024-05-31T16:07:57.146938Z",
     "iopub.status.idle": "2024-05-31T16:08:03.211290Z",
     "shell.execute_reply": "2024-05-31T16:08:03.209831Z"
    },
    "papermill": {
     "duration": 6.231903,
     "end_time": "2024-05-31T16:08:03.214000",
     "exception": false,
     "start_time": "2024-05-31T16:07:56.982097",
     "status": "completed"
    },
    "tags": []
   },
   "outputs": [
    {
     "name": "stdout",
     "output_type": "stream",
     "text": [
      "0.7627289518358773\n",
      "Test stability score: 0.456128708160129\n"
     ]
    }
   ],
   "source": [
    "prediction2 = output2.predict(xgb.DMatrix(test_computed))\n",
    "print(roc_auc_score(test_label_computed, prediction2))\n",
    "print(f\"Test stability score: {get_metric_calc_df(test_label_computed, prediction2, 'train')}\")"
   ]
  },
  {
   "cell_type": "code",
   "execution_count": 103,
   "id": "7bbcabb1",
   "metadata": {
    "execution": {
     "iopub.execute_input": "2024-05-31T16:08:03.530170Z",
     "iopub.status.busy": "2024-05-31T16:08:03.529606Z",
     "iopub.status.idle": "2024-05-31T16:08:03.822429Z",
     "shell.execute_reply": "2024-05-31T16:08:03.821060Z"
    },
    "papermill": {
     "duration": 0.453776,
     "end_time": "2024-05-31T16:08:03.825318",
     "exception": false,
     "start_time": "2024-05-31T16:08:03.371542",
     "status": "completed"
    },
    "tags": []
   },
   "outputs": [
    {
     "data": {
      "text/plain": [
       "78"
      ]
     },
     "execution_count": 103,
     "metadata": {},
     "output_type": "execute_result"
    }
   ],
   "source": [
    "del prediction2, output2\n",
    "collect()"
   ]
  },
  {
   "cell_type": "markdown",
   "id": "6be283cb",
   "metadata": {
    "papermill": {
     "duration": 0.165927,
     "end_time": "2024-05-31T16:08:04.157291",
     "exception": false,
     "start_time": "2024-05-31T16:08:03.991364",
     "status": "completed"
    },
    "tags": []
   },
   "source": [
    "### xgb dart"
   ]
  },
  {
   "cell_type": "code",
   "execution_count": 104,
   "id": "c7965ab7",
   "metadata": {
    "_kg_hide-output": true,
    "execution": {
     "iopub.execute_input": "2024-05-31T16:08:04.477276Z",
     "iopub.status.busy": "2024-05-31T16:08:04.476218Z",
     "iopub.status.idle": "2024-05-31T17:08:42.910531Z",
     "shell.execute_reply": "2024-05-31T17:08:42.909063Z"
    },
    "papermill": {
     "duration": 3638.597967,
     "end_time": "2024-05-31T17:08:42.914112",
     "exception": false,
     "start_time": "2024-05-31T16:08:04.316145",
     "status": "completed"
    },
    "scrolled": true,
    "tags": []
   },
   "outputs": [
    {
     "name": "stderr",
     "output_type": "stream",
     "text": [
      "[16:08:04] task [xgboost.dask-0]:tcp://127.0.0.1:41197 got new rank 0\n",
      "[16:09:05] INFO: /workspace/src/gbm/gbtree.cc:887: drop 0 trees, weight = 1\n"
     ]
    },
    {
     "name": "stdout",
     "output_type": "stream",
     "text": [
      "[0]\tvalid-logloss:0.62960\n"
     ]
    },
    {
     "name": "stderr",
     "output_type": "stream",
     "text": [
      "[16:09:09] INFO: /workspace/src/gbm/gbtree.cc:887: drop 0 trees, weight = 1\n"
     ]
    },
    {
     "name": "stdout",
     "output_type": "stream",
     "text": [
      "[1]\tvalid-logloss:0.59621\n"
     ]
    },
    {
     "name": "stderr",
     "output_type": "stream",
     "text": [
      "[16:09:14] INFO: /workspace/src/gbm/gbtree.cc:887: drop 0 trees, weight = 1\n"
     ]
    },
    {
     "name": "stdout",
     "output_type": "stream",
     "text": [
      "[2]\tvalid-logloss:0.57483\n"
     ]
    },
    {
     "name": "stderr",
     "output_type": "stream",
     "text": [
      "[16:09:20] INFO: /workspace/src/gbm/gbtree.cc:887: drop 0 trees, weight = 1\n"
     ]
    },
    {
     "name": "stdout",
     "output_type": "stream",
     "text": [
      "[3]\tvalid-logloss:0.56510\n"
     ]
    },
    {
     "name": "stderr",
     "output_type": "stream",
     "text": [
      "[16:09:27] INFO: /workspace/src/gbm/gbtree.cc:887: drop 0 trees, weight = 1\n"
     ]
    },
    {
     "name": "stdout",
     "output_type": "stream",
     "text": [
      "[4]\tvalid-logloss:0.54971\n"
     ]
    },
    {
     "name": "stderr",
     "output_type": "stream",
     "text": [
      "[16:09:33] INFO: /workspace/src/gbm/gbtree.cc:887: drop 2 trees, weight = 0.434783\n"
     ]
    },
    {
     "name": "stdout",
     "output_type": "stream",
     "text": [
      "[5]\tvalid-logloss:0.55001\n"
     ]
    },
    {
     "name": "stderr",
     "output_type": "stream",
     "text": [
      "[16:09:43] INFO: /workspace/src/gbm/gbtree.cc:887: drop 0 trees, weight = 1\n"
     ]
    },
    {
     "name": "stdout",
     "output_type": "stream",
     "text": [
      "[6]\tvalid-logloss:0.53907\n"
     ]
    },
    {
     "name": "stderr",
     "output_type": "stream",
     "text": [
      "[16:09:53] INFO: /workspace/src/gbm/gbtree.cc:887: drop 1 trees, weight = 0.769231\n"
     ]
    },
    {
     "name": "stdout",
     "output_type": "stream",
     "text": [
      "[7]\tvalid-logloss:0.53541\n"
     ]
    },
    {
     "name": "stderr",
     "output_type": "stream",
     "text": [
      "[16:10:04] INFO: /workspace/src/gbm/gbtree.cc:887: drop 2 trees, weight = 0.434783\n"
     ]
    },
    {
     "name": "stdout",
     "output_type": "stream",
     "text": [
      "[8]\tvalid-logloss:0.53183\n"
     ]
    },
    {
     "name": "stderr",
     "output_type": "stream",
     "text": [
      "[16:10:17] INFO: /workspace/src/gbm/gbtree.cc:887: drop 0 trees, weight = 1\n"
     ]
    },
    {
     "name": "stdout",
     "output_type": "stream",
     "text": [
      "[9]\tvalid-logloss:0.53342\n"
     ]
    },
    {
     "name": "stderr",
     "output_type": "stream",
     "text": [
      "[16:10:31] INFO: /workspace/src/gbm/gbtree.cc:887: drop 1 trees, weight = 0.769231\n"
     ]
    },
    {
     "name": "stdout",
     "output_type": "stream",
     "text": [
      "[10]\tvalid-logloss:0.52729\n"
     ]
    },
    {
     "name": "stderr",
     "output_type": "stream",
     "text": [
      "[16:10:47] INFO: /workspace/src/gbm/gbtree.cc:887: drop 0 trees, weight = 1\n"
     ]
    },
    {
     "name": "stdout",
     "output_type": "stream",
     "text": [
      "[11]\tvalid-logloss:0.51343\n"
     ]
    },
    {
     "name": "stderr",
     "output_type": "stream",
     "text": [
      "[16:11:04] INFO: /workspace/src/gbm/gbtree.cc:887: drop 0 trees, weight = 1\n"
     ]
    },
    {
     "name": "stdout",
     "output_type": "stream",
     "text": [
      "[12]\tvalid-logloss:0.51087\n"
     ]
    },
    {
     "name": "stderr",
     "output_type": "stream",
     "text": [
      "[16:11:22] INFO: /workspace/src/gbm/gbtree.cc:887: drop 0 trees, weight = 1\n"
     ]
    },
    {
     "name": "stdout",
     "output_type": "stream",
     "text": [
      "[13]\tvalid-logloss:0.50689\n"
     ]
    },
    {
     "name": "stderr",
     "output_type": "stream",
     "text": [
      "[16:11:42] INFO: /workspace/src/gbm/gbtree.cc:887: drop 0 trees, weight = 1\n"
     ]
    },
    {
     "name": "stdout",
     "output_type": "stream",
     "text": [
      "[14]\tvalid-logloss:0.50221\n"
     ]
    },
    {
     "name": "stderr",
     "output_type": "stream",
     "text": [
      "[16:11:55] INFO: /workspace/src/gbm/gbtree.cc:887: drop 9 trees, weight = 0.107527\n"
     ]
    },
    {
     "name": "stdout",
     "output_type": "stream",
     "text": [
      "[15]\tvalid-logloss:0.50260\n"
     ]
    },
    {
     "name": "stderr",
     "output_type": "stream",
     "text": [
      "[16:12:10] INFO: /workspace/src/gbm/gbtree.cc:887: drop 8 trees, weight = 0.120482\n"
     ]
    },
    {
     "name": "stdout",
     "output_type": "stream",
     "text": [
      "[16]\tvalid-logloss:0.50266\n"
     ]
    },
    {
     "name": "stderr",
     "output_type": "stream",
     "text": [
      "[16:12:27] INFO: /workspace/src/gbm/gbtree.cc:887: drop 7 trees, weight = 0.136986\n"
     ]
    },
    {
     "name": "stdout",
     "output_type": "stream",
     "text": [
      "[17]\tvalid-logloss:0.50265\n"
     ]
    },
    {
     "name": "stderr",
     "output_type": "stream",
     "text": [
      "[16:12:52] INFO: /workspace/src/gbm/gbtree.cc:887: drop 0 trees, weight = 1\n"
     ]
    },
    {
     "name": "stdout",
     "output_type": "stream",
     "text": [
      "[18]\tvalid-logloss:0.50110\n"
     ]
    },
    {
     "name": "stderr",
     "output_type": "stream",
     "text": [
      "[16:13:15] INFO: /workspace/src/gbm/gbtree.cc:887: drop 3 trees, weight = 0.30303\n"
     ]
    },
    {
     "name": "stdout",
     "output_type": "stream",
     "text": [
      "[19]\tvalid-logloss:0.49975\n"
     ]
    },
    {
     "name": "stderr",
     "output_type": "stream",
     "text": [
      "[16:13:38] INFO: /workspace/src/gbm/gbtree.cc:887: drop 4 trees, weight = 0.232558\n"
     ]
    },
    {
     "name": "stdout",
     "output_type": "stream",
     "text": [
      "[20]\tvalid-logloss:0.49930\n"
     ]
    },
    {
     "name": "stderr",
     "output_type": "stream",
     "text": [
      "[16:14:01] INFO: /workspace/src/gbm/gbtree.cc:887: drop 5 trees, weight = 0.188679\n"
     ]
    },
    {
     "name": "stdout",
     "output_type": "stream",
     "text": [
      "[21]\tvalid-logloss:0.49920\n"
     ]
    },
    {
     "name": "stderr",
     "output_type": "stream",
     "text": [
      "[16:14:22] INFO: /workspace/src/gbm/gbtree.cc:887: drop 9 trees, weight = 0.107527\n"
     ]
    },
    {
     "name": "stdout",
     "output_type": "stream",
     "text": [
      "[22]\tvalid-logloss:0.49895\n"
     ]
    },
    {
     "name": "stderr",
     "output_type": "stream",
     "text": [
      "[16:14:44] INFO: /workspace/src/gbm/gbtree.cc:887: drop 9 trees, weight = 0.107527\n"
     ]
    },
    {
     "name": "stdout",
     "output_type": "stream",
     "text": [
      "[23]\tvalid-logloss:0.49812\n"
     ]
    },
    {
     "name": "stderr",
     "output_type": "stream",
     "text": [
      "[16:15:12] INFO: /workspace/src/gbm/gbtree.cc:887: drop 9 trees, weight = 0.107527\n"
     ]
    },
    {
     "name": "stdout",
     "output_type": "stream",
     "text": [
      "[24]\tvalid-logloss:0.49820\n"
     ]
    },
    {
     "name": "stderr",
     "output_type": "stream",
     "text": [
      "[16:15:44] INFO: /workspace/src/gbm/gbtree.cc:887: drop 0 trees, weight = 1\n"
     ]
    },
    {
     "name": "stdout",
     "output_type": "stream",
     "text": [
      "[25]\tvalid-logloss:0.49515\n"
     ]
    },
    {
     "name": "stderr",
     "output_type": "stream",
     "text": [
      "[16:16:19] INFO: /workspace/src/gbm/gbtree.cc:887: drop 0 trees, weight = 1\n"
     ]
    },
    {
     "name": "stdout",
     "output_type": "stream",
     "text": [
      "[26]\tvalid-logloss:0.49182\n"
     ]
    },
    {
     "name": "stderr",
     "output_type": "stream",
     "text": [
      "[16:16:45] INFO: /workspace/src/gbm/gbtree.cc:887: drop 10 trees, weight = 0.0970874\n"
     ]
    },
    {
     "name": "stdout",
     "output_type": "stream",
     "text": [
      "[27]\tvalid-logloss:0.49175\n"
     ]
    },
    {
     "name": "stderr",
     "output_type": "stream",
     "text": [
      "[16:17:15] INFO: /workspace/src/gbm/gbtree.cc:887: drop 8 trees, weight = 0.120482\n"
     ]
    },
    {
     "name": "stdout",
     "output_type": "stream",
     "text": [
      "[28]\tvalid-logloss:0.49178\n"
     ]
    },
    {
     "name": "stderr",
     "output_type": "stream",
     "text": [
      "[16:17:53] INFO: /workspace/src/gbm/gbtree.cc:887: drop 0 trees, weight = 1\n"
     ]
    },
    {
     "name": "stdout",
     "output_type": "stream",
     "text": [
      "[29]\tvalid-logloss:0.48689\n"
     ]
    },
    {
     "name": "stderr",
     "output_type": "stream",
     "text": [
      "[16:18:20] INFO: /workspace/src/gbm/gbtree.cc:887: drop 13 trees, weight = 0.075188\n"
     ]
    },
    {
     "name": "stdout",
     "output_type": "stream",
     "text": [
      "[30]\tvalid-logloss:0.48720\n"
     ]
    },
    {
     "name": "stderr",
     "output_type": "stream",
     "text": [
      "[16:19:02] INFO: /workspace/src/gbm/gbtree.cc:887: drop 0 trees, weight = 1\n"
     ]
    },
    {
     "name": "stdout",
     "output_type": "stream",
     "text": [
      "[31]\tvalid-logloss:0.48711\n"
     ]
    },
    {
     "name": "stderr",
     "output_type": "stream",
     "text": [
      "[16:19:44] INFO: /workspace/src/gbm/gbtree.cc:887: drop 0 trees, weight = 1\n"
     ]
    },
    {
     "name": "stdout",
     "output_type": "stream",
     "text": [
      "[32]\tvalid-logloss:0.48407\n"
     ]
    },
    {
     "name": "stderr",
     "output_type": "stream",
     "text": [
      "[16:20:27] INFO: /workspace/src/gbm/gbtree.cc:887: drop 0 trees, weight = 1\n"
     ]
    },
    {
     "name": "stdout",
     "output_type": "stream",
     "text": [
      "[33]\tvalid-logloss:0.48275\n"
     ]
    },
    {
     "name": "stderr",
     "output_type": "stream",
     "text": [
      "[16:21:02] INFO: /workspace/src/gbm/gbtree.cc:887: drop 10 trees, weight = 0.0970874\n"
     ]
    },
    {
     "name": "stdout",
     "output_type": "stream",
     "text": [
      "[34]\tvalid-logloss:0.48309\n"
     ]
    },
    {
     "name": "stderr",
     "output_type": "stream",
     "text": [
      "[16:21:40] INFO: /workspace/src/gbm/gbtree.cc:887: drop 8 trees, weight = 0.120482\n"
     ]
    },
    {
     "name": "stdout",
     "output_type": "stream",
     "text": [
      "[35]\tvalid-logloss:0.48275\n"
     ]
    },
    {
     "name": "stderr",
     "output_type": "stream",
     "text": [
      "[16:22:27] INFO: /workspace/src/gbm/gbtree.cc:887: drop 0 trees, weight = 1\n"
     ]
    },
    {
     "name": "stdout",
     "output_type": "stream",
     "text": [
      "[36]\tvalid-logloss:0.47595\n"
     ]
    },
    {
     "name": "stderr",
     "output_type": "stream",
     "text": [
      "[16:23:01] INFO: /workspace/src/gbm/gbtree.cc:887: drop 16 trees, weight = 0.0613497\n"
     ]
    },
    {
     "name": "stdout",
     "output_type": "stream",
     "text": [
      "[37]\tvalid-logloss:0.47629\n"
     ]
    },
    {
     "name": "stderr",
     "output_type": "stream",
     "text": [
      "[16:23:40] INFO: /workspace/src/gbm/gbtree.cc:887: drop 11 trees, weight = 0.0884956\n"
     ]
    },
    {
     "name": "stdout",
     "output_type": "stream",
     "text": [
      "[38]\tvalid-logloss:0.47646\n"
     ]
    },
    {
     "name": "stderr",
     "output_type": "stream",
     "text": [
      "[16:24:31] INFO: /workspace/src/gbm/gbtree.cc:887: drop 0 trees, weight = 1\n"
     ]
    },
    {
     "name": "stdout",
     "output_type": "stream",
     "text": [
      "[39]\tvalid-logloss:0.47350\n"
     ]
    },
    {
     "name": "stderr",
     "output_type": "stream",
     "text": [
      "[16:25:23] INFO: /workspace/src/gbm/gbtree.cc:887: drop 0 trees, weight = 1\n"
     ]
    },
    {
     "name": "stdout",
     "output_type": "stream",
     "text": [
      "[40]\tvalid-logloss:0.46944\n"
     ]
    },
    {
     "name": "stderr",
     "output_type": "stream",
     "text": [
      "[16:26:16] INFO: /workspace/src/gbm/gbtree.cc:887: drop 0 trees, weight = 1\n"
     ]
    },
    {
     "name": "stdout",
     "output_type": "stream",
     "text": [
      "[41]\tvalid-logloss:0.46834\n"
     ]
    },
    {
     "name": "stderr",
     "output_type": "stream",
     "text": [
      "[16:27:10] INFO: /workspace/src/gbm/gbtree.cc:887: drop 0 trees, weight = 1\n"
     ]
    },
    {
     "name": "stdout",
     "output_type": "stream",
     "text": [
      "[42]\tvalid-logloss:0.46368\n"
     ]
    },
    {
     "name": "stderr",
     "output_type": "stream",
     "text": [
      "[16:28:05] INFO: /workspace/src/gbm/gbtree.cc:887: drop 0 trees, weight = 1\n"
     ]
    },
    {
     "name": "stdout",
     "output_type": "stream",
     "text": [
      "[43]\tvalid-logloss:0.46270\n"
     ]
    },
    {
     "name": "stderr",
     "output_type": "stream",
     "text": [
      "[16:28:52] INFO: /workspace/src/gbm/gbtree.cc:887: drop 11 trees, weight = 0.0884956\n"
     ]
    },
    {
     "name": "stdout",
     "output_type": "stream",
     "text": [
      "[44]\tvalid-logloss:0.46265\n"
     ]
    },
    {
     "name": "stderr",
     "output_type": "stream",
     "text": [
      "[16:29:49] INFO: /workspace/src/gbm/gbtree.cc:887: drop 0 trees, weight = 1\n"
     ]
    },
    {
     "name": "stdout",
     "output_type": "stream",
     "text": [
      "[45]\tvalid-logloss:0.46034\n"
     ]
    },
    {
     "name": "stderr",
     "output_type": "stream",
     "text": [
      "[16:30:47] INFO: /workspace/src/gbm/gbtree.cc:887: drop 0 trees, weight = 1\n"
     ]
    },
    {
     "name": "stdout",
     "output_type": "stream",
     "text": [
      "[46]\tvalid-logloss:0.45864\n"
     ]
    },
    {
     "name": "stderr",
     "output_type": "stream",
     "text": [
      "[16:31:37] INFO: /workspace/src/gbm/gbtree.cc:887: drop 12 trees, weight = 0.0813008\n"
     ]
    },
    {
     "name": "stdout",
     "output_type": "stream",
     "text": [
      "[47]\tvalid-logloss:0.45861\n"
     ]
    },
    {
     "name": "stderr",
     "output_type": "stream",
     "text": [
      "[16:32:39] INFO: /workspace/src/gbm/gbtree.cc:887: drop 0 trees, weight = 1\n"
     ]
    },
    {
     "name": "stdout",
     "output_type": "stream",
     "text": [
      "[48]\tvalid-logloss:0.45469\n"
     ]
    },
    {
     "name": "stderr",
     "output_type": "stream",
     "text": [
      "[16:33:30] INFO: /workspace/src/gbm/gbtree.cc:887: drop 13 trees, weight = 0.075188\n"
     ]
    },
    {
     "name": "stdout",
     "output_type": "stream",
     "text": [
      "[49]\tvalid-logloss:0.45479\n"
     ]
    },
    {
     "name": "stderr",
     "output_type": "stream",
     "text": [
      "[16:34:33] INFO: /workspace/src/gbm/gbtree.cc:887: drop 0 trees, weight = 1\n"
     ]
    },
    {
     "name": "stdout",
     "output_type": "stream",
     "text": [
      "[50]\tvalid-logloss:0.45497\n"
     ]
    },
    {
     "name": "stderr",
     "output_type": "stream",
     "text": [
      "[16:35:49] INFO: /workspace/src/gbm/gbtree.cc:887: drop 0 trees, weight = 1\n"
     ]
    },
    {
     "name": "stdout",
     "output_type": "stream",
     "text": [
      "[51]\tvalid-logloss:0.45011\n"
     ]
    },
    {
     "name": "stderr",
     "output_type": "stream",
     "text": [
      "[16:36:42] INFO: /workspace/src/gbm/gbtree.cc:887: drop 14 trees, weight = 0.0699301\n"
     ]
    },
    {
     "name": "stdout",
     "output_type": "stream",
     "text": [
      "[52]\tvalid-logloss:0.45025\n"
     ]
    },
    {
     "name": "stderr",
     "output_type": "stream",
     "text": [
      "[16:37:32] INFO: /workspace/src/gbm/gbtree.cc:887: drop 20 trees, weight = 0.0492611\n"
     ]
    },
    {
     "name": "stdout",
     "output_type": "stream",
     "text": [
      "[53]\tvalid-logloss:0.45032\n"
     ]
    },
    {
     "name": "stderr",
     "output_type": "stream",
     "text": [
      "[16:38:41] INFO: /workspace/src/gbm/gbtree.cc:887: drop 0 trees, weight = 1\n"
     ]
    },
    {
     "name": "stdout",
     "output_type": "stream",
     "text": [
      "[54]\tvalid-logloss:0.44719\n"
     ]
    },
    {
     "name": "stderr",
     "output_type": "stream",
     "text": [
      "[16:39:37] INFO: /workspace/src/gbm/gbtree.cc:887: drop 17 trees, weight = 0.0578035\n"
     ]
    },
    {
     "name": "stdout",
     "output_type": "stream",
     "text": [
      "[55]\tvalid-logloss:0.44718\n"
     ]
    },
    {
     "name": "stderr",
     "output_type": "stream",
     "text": [
      "[16:40:51] INFO: /workspace/src/gbm/gbtree.cc:887: drop 0 trees, weight = 1\n"
     ]
    },
    {
     "name": "stdout",
     "output_type": "stream",
     "text": [
      "[56]\tvalid-logloss:0.44701\n"
     ]
    },
    {
     "name": "stderr",
     "output_type": "stream",
     "text": [
      "[16:42:03] INFO: /workspace/src/gbm/gbtree.cc:887: drop 0 trees, weight = 1\n"
     ]
    },
    {
     "name": "stdout",
     "output_type": "stream",
     "text": [
      "[57]\tvalid-logloss:0.44359\n"
     ]
    },
    {
     "name": "stderr",
     "output_type": "stream",
     "text": [
      "[16:43:16] INFO: /workspace/src/gbm/gbtree.cc:887: drop 0 trees, weight = 1\n"
     ]
    },
    {
     "name": "stdout",
     "output_type": "stream",
     "text": [
      "[58]\tvalid-logloss:0.44239\n"
     ]
    },
    {
     "name": "stderr",
     "output_type": "stream",
     "text": [
      "[16:44:31] INFO: /workspace/src/gbm/gbtree.cc:887: drop 0 trees, weight = 1\n"
     ]
    },
    {
     "name": "stdout",
     "output_type": "stream",
     "text": [
      "[59]\tvalid-logloss:0.43908\n"
     ]
    },
    {
     "name": "stderr",
     "output_type": "stream",
     "text": [
      "[16:45:31] INFO: /workspace/src/gbm/gbtree.cc:887: drop 17 trees, weight = 0.0578035\n"
     ]
    },
    {
     "name": "stdout",
     "output_type": "stream",
     "text": [
      "[60]\tvalid-logloss:0.43930\n"
     ]
    },
    {
     "name": "stderr",
     "output_type": "stream",
     "text": [
      "[16:46:47] INFO: /workspace/src/gbm/gbtree.cc:887: drop 0 trees, weight = 1\n"
     ]
    },
    {
     "name": "stdout",
     "output_type": "stream",
     "text": [
      "[61]\tvalid-logloss:0.43732\n"
     ]
    },
    {
     "name": "stderr",
     "output_type": "stream",
     "text": [
      "[16:48:06] INFO: /workspace/src/gbm/gbtree.cc:887: drop 0 trees, weight = 1\n"
     ]
    },
    {
     "name": "stdout",
     "output_type": "stream",
     "text": [
      "[62]\tvalid-logloss:0.43555\n"
     ]
    },
    {
     "name": "stderr",
     "output_type": "stream",
     "text": [
      "[16:49:14] INFO: /workspace/src/gbm/gbtree.cc:887: drop 13 trees, weight = 0.075188\n"
     ]
    },
    {
     "name": "stdout",
     "output_type": "stream",
     "text": [
      "[63]\tvalid-logloss:0.43555\n"
     ]
    },
    {
     "name": "stderr",
     "output_type": "stream",
     "text": [
      "[16:50:17] INFO: /workspace/src/gbm/gbtree.cc:887: drop 21 trees, weight = 0.0469484\n"
     ]
    },
    {
     "name": "stdout",
     "output_type": "stream",
     "text": [
      "[64]\tvalid-logloss:0.43588\n"
     ]
    },
    {
     "name": "stderr",
     "output_type": "stream",
     "text": [
      "[16:51:18] INFO: /workspace/src/gbm/gbtree.cc:887: drop 23 trees, weight = 0.0429185\n"
     ]
    },
    {
     "name": "stdout",
     "output_type": "stream",
     "text": [
      "[65]\tvalid-logloss:0.43618\n"
     ]
    },
    {
     "name": "stderr",
     "output_type": "stream",
     "text": [
      "[16:52:21] INFO: /workspace/src/gbm/gbtree.cc:887: drop 23 trees, weight = 0.0429185\n"
     ]
    },
    {
     "name": "stdout",
     "output_type": "stream",
     "text": [
      "[66]\tvalid-logloss:0.43610\n"
     ]
    },
    {
     "name": "stderr",
     "output_type": "stream",
     "text": [
      "[16:53:28] INFO: /workspace/src/gbm/gbtree.cc:887: drop 20 trees, weight = 0.0492611\n"
     ]
    },
    {
     "name": "stdout",
     "output_type": "stream",
     "text": [
      "[67]\tvalid-logloss:0.43614\n"
     ]
    },
    {
     "name": "stderr",
     "output_type": "stream",
     "text": [
      "[16:54:55] INFO: /workspace/src/gbm/gbtree.cc:887: drop 0 trees, weight = 1\n"
     ]
    },
    {
     "name": "stdout",
     "output_type": "stream",
     "text": [
      "[68]\tvalid-logloss:0.43412\n"
     ]
    },
    {
     "name": "stderr",
     "output_type": "stream",
     "text": [
      "[16:56:03] INFO: /workspace/src/gbm/gbtree.cc:887: drop 21 trees, weight = 0.0469484\n"
     ]
    },
    {
     "name": "stdout",
     "output_type": "stream",
     "text": [
      "[69]\tvalid-logloss:0.43432\n"
     ]
    },
    {
     "name": "stderr",
     "output_type": "stream",
     "text": [
      "[16:57:16] INFO: /workspace/src/gbm/gbtree.cc:887: drop 17 trees, weight = 0.0578035\n"
     ]
    },
    {
     "name": "stdout",
     "output_type": "stream",
     "text": [
      "[70]\tvalid-logloss:0.43431\n"
     ]
    },
    {
     "name": "stderr",
     "output_type": "stream",
     "text": [
      "[16:58:27] INFO: /workspace/src/gbm/gbtree.cc:887: drop 20 trees, weight = 0.0492611\n"
     ]
    },
    {
     "name": "stdout",
     "output_type": "stream",
     "text": [
      "[71]\tvalid-logloss:0.43444\n"
     ]
    },
    {
     "name": "stderr",
     "output_type": "stream",
     "text": [
      "[16:59:39] INFO: /workspace/src/gbm/gbtree.cc:887: drop 22 trees, weight = 0.0448431\n"
     ]
    },
    {
     "name": "stdout",
     "output_type": "stream",
     "text": [
      "[72]\tvalid-logloss:0.43461\n"
     ]
    },
    {
     "name": "stderr",
     "output_type": "stream",
     "text": [
      "[17:01:10] INFO: /workspace/src/gbm/gbtree.cc:887: drop 0 trees, weight = 1\n"
     ]
    },
    {
     "name": "stdout",
     "output_type": "stream",
     "text": [
      "[73]\tvalid-logloss:0.43564\n"
     ]
    },
    {
     "name": "stderr",
     "output_type": "stream",
     "text": [
      "[17:02:44] INFO: /workspace/src/gbm/gbtree.cc:887: drop 0 trees, weight = 1\n"
     ]
    },
    {
     "name": "stdout",
     "output_type": "stream",
     "text": [
      "[74]\tvalid-logloss:0.43558\n"
     ]
    },
    {
     "name": "stderr",
     "output_type": "stream",
     "text": [
      "[17:04:03] INFO: /workspace/src/gbm/gbtree.cc:887: drop 16 trees, weight = 0.0613497\n"
     ]
    },
    {
     "name": "stdout",
     "output_type": "stream",
     "text": [
      "[75]\tvalid-logloss:0.43602\n"
     ]
    },
    {
     "name": "stderr",
     "output_type": "stream",
     "text": [
      "[17:05:22] INFO: /workspace/src/gbm/gbtree.cc:887: drop 20 trees, weight = 0.0492611\n"
     ]
    },
    {
     "name": "stdout",
     "output_type": "stream",
     "text": [
      "[76]\tvalid-logloss:0.43617\n"
     ]
    },
    {
     "name": "stderr",
     "output_type": "stream",
     "text": [
      "[17:06:39] INFO: /workspace/src/gbm/gbtree.cc:887: drop 24 trees, weight = 0.0411523\n"
     ]
    },
    {
     "name": "stdout",
     "output_type": "stream",
     "text": [
      "[77]\tvalid-logloss:0.43634\n"
     ]
    },
    {
     "name": "stderr",
     "output_type": "stream",
     "text": [
      "[17:08:17] INFO: /workspace/src/gbm/gbtree.cc:887: drop 0 trees, weight = 1\n"
     ]
    }
   ],
   "source": [
    "early_stopping_rounds=10\n",
    "early_stop = xgb.callback.EarlyStopping(\n",
    "    rounds=early_stopping_rounds,\n",
    "    metric_name=\"logloss\",\n",
    "    data_name=\"valid\",\n",
    "    save_best=True,\n",
    ")\n",
    "output3 = xgb.dask.train(\n",
    "        client,\n",
    "        {\"verbosity\": 2, \"booster\":\"dart\", \"scale_pos_weight\":ratio,\"seed\":0,\"rate_drop\":0.3,'skip_drop': 0.5,\n",
    "         \"max_delta_step\":5,#\"interaction_constraints\":feature_interactions,\n",
    "         \"objective\": \"binary:logistic\"}, #\"eval_metric\": [\"auc\"]\n",
    "        dtrain,\n",
    "        num_boost_round=5000,\n",
    "        evals=[(dvalid, \"valid\")],\n",
    "        callbacks=[early_stop]\n",
    "    )"
   ]
  },
  {
   "cell_type": "code",
   "execution_count": 105,
   "id": "f93170a7",
   "metadata": {
    "execution": {
     "iopub.execute_input": "2024-05-31T17:08:43.272681Z",
     "iopub.status.busy": "2024-05-31T17:08:43.272256Z",
     "iopub.status.idle": "2024-05-31T17:09:22.814791Z",
     "shell.execute_reply": "2024-05-31T17:09:22.812883Z"
    },
    "papermill": {
     "duration": 39.727701,
     "end_time": "2024-05-31T17:09:22.817901",
     "exception": false,
     "start_time": "2024-05-31T17:08:43.090200",
     "status": "completed"
    },
    "tags": []
   },
   "outputs": [
    {
     "name": "stdout",
     "output_type": "stream",
     "text": [
      "0.8110674757407853\n",
      "Test stability score: 0.5454739229503034\n"
     ]
    }
   ],
   "source": [
    "prediction3 = output3['booster'].predict(xgb.DMatrix(test_computed), training =False)\n",
    "print(roc_auc_score(test_label_computed, prediction3))\n",
    "print(f\"Test stability score: {get_metric_calc_df(test_label_computed, prediction3, 'train')}\")"
   ]
  },
  {
   "cell_type": "code",
   "execution_count": 106,
   "id": "001a80bd",
   "metadata": {
    "execution": {
     "iopub.execute_input": "2024-05-31T17:09:23.179626Z",
     "iopub.status.busy": "2024-05-31T17:09:23.179101Z",
     "iopub.status.idle": "2024-05-31T17:09:23.466683Z",
     "shell.execute_reply": "2024-05-31T17:09:23.465040Z"
    },
    "papermill": {
     "duration": 0.471237,
     "end_time": "2024-05-31T17:09:23.470532",
     "exception": false,
     "start_time": "2024-05-31T17:09:22.999295",
     "status": "completed"
    },
    "tags": []
   },
   "outputs": [
    {
     "data": {
      "text/plain": [
       "0"
      ]
     },
     "execution_count": 106,
     "metadata": {},
     "output_type": "execute_result"
    }
   ],
   "source": [
    "del prediction3, output3\n",
    "collect()"
   ]
  },
  {
   "cell_type": "markdown",
   "id": "9c07cf02",
   "metadata": {
    "papermill": {
     "duration": 0.188143,
     "end_time": "2024-05-31T17:09:23.847490",
     "exception": false,
     "start_time": "2024-05-31T17:09:23.659347",
     "status": "completed"
    },
    "tags": []
   },
   "source": [
    "# HP Tunning & voting ensemble"
   ]
  },
  {
   "cell_type": "markdown",
   "id": "4670e645",
   "metadata": {
    "papermill": {
     "duration": 0.19063,
     "end_time": "2024-05-31T17:09:24.225512",
     "exception": false,
     "start_time": "2024-05-31T17:09:24.034882",
     "status": "completed"
    },
    "tags": []
   },
   "source": [
    "#### Dart Booster"
   ]
  },
  {
   "cell_type": "code",
   "execution_count": 107,
   "id": "c342c539",
   "metadata": {
    "execution": {
     "iopub.execute_input": "2024-05-31T17:09:24.588528Z",
     "iopub.status.busy": "2024-05-31T17:09:24.588104Z",
     "iopub.status.idle": "2024-05-31T17:09:24.597859Z",
     "shell.execute_reply": "2024-05-31T17:09:24.596602Z"
    },
    "papermill": {
     "duration": 0.19594,
     "end_time": "2024-05-31T17:09:24.600756",
     "exception": false,
     "start_time": "2024-05-31T17:09:24.404816",
     "status": "completed"
    },
    "tags": []
   },
   "outputs": [],
   "source": [
    "# def xgb_objective(trial):\n",
    "\n",
    "#     params = {\n",
    "#         'eta': trial.suggest_float('eta', 0.01, 1.0),\n",
    "#         'gamma' : trial.suggest_float('gamma', 1e-9, 1.0),\n",
    "#         'subsample': trial.suggest_float('subsample', 0.25, 0.8),\n",
    "#         'colsample_bytree': trial.suggest_float('colsample_bytree', 0.25, 1.0),\n",
    "#         'max_depth': trial.suggest_int(\"max_depth\", 1, 9),\n",
    "#         'min_child_weight': trial.suggest_int('min_child_weight', 1, 30),\n",
    "#         'lambda': trial.suggest_float('lambda', 1e-9, 10.0, log=True),\n",
    "#         'alpha': trial.suggest_float('alpha', 1e-9, 10.0, log=True),\n",
    "#         \"grow_policy\" : trial.suggest_categorical( \"grow_policy\", [\"depthwise\", \"lossguide\"]),\n",
    "#         \"sample_type\" : trial.suggest_categorical( \"sample_type\", [\"uniform\", \"weighted\"]),\n",
    "#         \"normalize_type\" : trial.suggest_categorical( \"normalize_type\", [\"tree\", \"forest\"]),\n",
    "#         'rate_drop': trial.suggest_float('rate_drop', 0.0, 1.0),\n",
    "#         'skip_drop': trial.suggest_float('skip_drop', 0.0, 1.0),\n",
    "#         \"max_delta_step\":trial.suggest_int('max_delta_step', 1, 10),\n",
    "#         }\n",
    "\n",
    "#     clear_output()\n",
    "#     collect()\n",
    "    \n",
    "#     early_stop = xgb.callback.EarlyStopping(rounds = 10,\n",
    "#                                             metric_name = \"logloss\",\n",
    "#                                             data_name = \"valid\",\n",
    "#                                             maximize = False,\n",
    "#                                             save_best = True)\n",
    "\n",
    "#     xgb_tune = xgb.train({**params,\n",
    "#                           #\"interaction_constraints\":feature_interactions,\n",
    "#                           \"verbosity\": 0,\n",
    "#                           \"booster\":\"dart\",\n",
    "#                           #\"device\":\"gpu\",\n",
    "#                           \"seed\":0,\n",
    "#                           \"tree_method\": \"hist\", \n",
    "#                           \"scale_pos_weight\":32.56768542949282,\n",
    "#                           \"objective\": \"binary:logistic\",\n",
    "#                           \"eval_metric\": [\"logloss\",\"auc\"]},\n",
    "#                           xgb.DMatrix(data=train_computed,\n",
    "#                                       label=train_label_computed),\n",
    "#                           num_boost_round=5000,\n",
    "#                           evals=[(xgb.DMatrix(data=valid_computed,\n",
    "#                                               label=valid_label_computed),\n",
    "#                                   \"valid\")],\n",
    "#                           callbacks=[early_stop])\n",
    "    \n",
    "#     prediction = xgb_tune.predict(xgb.DMatrix(data=test_computed,label=test_label_computed))\n",
    "#     #gini_stability=get_metric_calc_df(test_labels_computed, prediction.compute(), 'train')\n",
    "#     auc=roc_auc_score(test_label_computed, prediction)\n",
    "#     del xgb_tune, prediction\n",
    "#     collect()\n",
    "#     return auc#gini_stability\n",
    "\n",
    "# if __name__ == \"__main__\":\n",
    "#     #tensorboard_callback = TensorBoardCallback(\"./tb_xgbDart_tune_auc\", metric_name=\"auc\")\n",
    "#     #tensorboard_callback = TensorBoardCallback(\"./tb_xgbDart_tune_auc2\", metric_name=\"auc\")\n",
    "#     tensorboard_callback = TensorBoardCallback(\"./tb_xgbDart_tune_auc3\", metric_name=\"auc\")\n",
    "#     study_name = \"xgbDart_tune_auc_5f\"  # Unique identifier of the study.\n",
    "#     storage_name = \"sqlite:///{}.db\".format(study_name)\n",
    "#     study = optuna.create_study(study_name=study_name, direction=\"maximize\", \n",
    "#                                 storage=storage_name, load_if_exists=True)\n",
    "#     study.optimize(xgb_objective, n_trials=60 , callbacks=[tensorboard_callback])\n",
    "#     print(\"Number of finished trials: \", len(study.trials))\n",
    "#     print(\"Best trial:\")\n",
    "#     trial = study.best_trial\n",
    "\n",
    "#     print(\"  Value: {}\".format(trial.value))\n",
    "#     print(\"  Params: \")\n",
    "#     for key, value in trial.params.items():\n",
    "#         print(\"    {}: {}\".format(key, value))"
   ]
  },
  {
   "cell_type": "markdown",
   "id": "55da5b2d",
   "metadata": {
    "papermill": {
     "duration": 0.173979,
     "end_time": "2024-05-31T17:09:24.947815",
     "exception": false,
     "start_time": "2024-05-31T17:09:24.773836",
     "status": "completed"
    },
    "tags": []
   },
   "source": [
    "### xgb dart voting ensemble"
   ]
  },
  {
   "cell_type": "code",
   "execution_count": 108,
   "id": "41c6b1b5",
   "metadata": {
    "execution": {
     "iopub.execute_input": "2024-05-31T17:09:25.303646Z",
     "iopub.status.busy": "2024-05-31T17:09:25.303204Z",
     "iopub.status.idle": "2024-05-31T17:09:25.311397Z",
     "shell.execute_reply": "2024-05-31T17:09:25.310075Z"
    },
    "papermill": {
     "duration": 0.188484,
     "end_time": "2024-05-31T17:09:25.314291",
     "exception": false,
     "start_time": "2024-05-31T17:09:25.125807",
     "status": "completed"
    },
    "scrolled": true,
    "tags": []
   },
   "outputs": [],
   "source": [
    "# def train_xgb_dart_top10(xtrain=train_computed,xvalid=valid_computed, xtest=test_computed,\n",
    "#                 ytrain=train_label_computed, yvalid=valid_label_computed, ytest=test_label_computed):\n",
    "#     study_name = \"xgbDart_tune_auc_5f\"\n",
    "#     storage_name = \"sqlite:///{}.db\".format(\"/kaggle/input/homecredit-pm/xgbDart_tune_auc_5f.db\")\n",
    "#     study = optuna.create_study(study_name=study_name, direction=\"maximize\", \n",
    "#                                 storage=storage_name, load_if_exists=True)\n",
    "#     hp_search_res_df =  study.trials_dataframe()\n",
    "#     hp_search_res_df = hp_search_res_df.sort_values(by=['value'], ascending=False)\n",
    "#     hp_search_res_df.to_csv(\"hp_search_res_xgbdart.csv\")\n",
    "#     top_10_hp_model_dicts = hp_search_res_df.head(3)[[x for x in hp_search_res_df.columns if x.startswith(\"params\")]].T.to_dict()\n",
    "#     t10model_dicts_pfixed={}\n",
    "#     for model_dict, params_dict in top_10_hp_model_dicts.items():\n",
    "#         fixed_params_dict={key[7:]: param for key, param in params_dict.items()}\n",
    "#         t10model_dicts_pfixed[model_dict]=fixed_params_dict\n",
    "        \n",
    "#     # train models create models dict\n",
    "#     models={}\n",
    "#     for model_key, params_dict in t10model_dicts_pfixed.items():\n",
    "        \n",
    "#         tunned_xgb_dart_model = xgb.train({**params_dict,\n",
    "#                               \"verbosity\": 0,\n",
    "#                               \"booster\":\"dart\",\n",
    "#                               \"seed\":0,\n",
    "#                               \"tree_method\": \"hist\", \n",
    "#                               \"scale_pos_weight\":32.56768542949282,\n",
    "#                               \"objective\": \"binary:logistic\",\n",
    "#                                 \"eval_metric\": [\"logloss\",\"auc\"]},\n",
    "#                               xgb.DMatrix(data=xtrain,\n",
    "#                                           label=ytrain),\n",
    "#                               num_boost_round=5000,\n",
    "#                               evals=[(xgb.DMatrix(data=xvalid,\n",
    "#                                                   label=yvalid),\n",
    "#                                       \"valid\")],\n",
    "#                               callbacks=[xgb.callback.EarlyStopping(rounds = 10,\n",
    "#                                             metric_name = \"logloss\",\n",
    "#                                             data_name = \"valid\",\n",
    "#                                             maximize = False,\n",
    "#                                             save_best = True)])\n",
    "        \n",
    "#         models[model_key]=tunned_xgb_dart_model\n",
    "#         del tunned_xgb_dart_model\n",
    "#         clear_output()\n",
    "#         collect()\n",
    "        \n",
    "#     return models\n",
    "# top_10_xgb_dart_model_dict=train_xgb_dart_top10()"
   ]
  },
  {
   "cell_type": "code",
   "execution_count": 109,
   "id": "af708be6",
   "metadata": {
    "execution": {
     "iopub.execute_input": "2024-05-31T17:09:25.673430Z",
     "iopub.status.busy": "2024-05-31T17:09:25.672918Z",
     "iopub.status.idle": "2024-05-31T17:09:25.683351Z",
     "shell.execute_reply": "2024-05-31T17:09:25.682162Z"
    },
    "papermill": {
     "duration": 0.195583,
     "end_time": "2024-05-31T17:09:25.686289",
     "exception": false,
     "start_time": "2024-05-31T17:09:25.490706",
     "status": "completed"
    },
    "tags": []
   },
   "outputs": [],
   "source": [
    "def aggragate_prediction(models_dict,xtest):#=test_computed):\n",
    "    predictions={}\n",
    "    for key, model in models_dict.items():\n",
    "        predictions[key] = model.predict(xgb.DMatrix(data=xtest))\n",
    "    ensemble_pred=np.mean(np.stack([*predictions.values()], axis=0), axis=0)\n",
    "    return ensemble_pred, predictions"
   ]
  },
  {
   "cell_type": "code",
   "execution_count": 110,
   "id": "15fa4dfb",
   "metadata": {
    "execution": {
     "iopub.execute_input": "2024-05-31T17:09:26.050357Z",
     "iopub.status.busy": "2024-05-31T17:09:26.049878Z",
     "iopub.status.idle": "2024-05-31T17:09:26.055876Z",
     "shell.execute_reply": "2024-05-31T17:09:26.054172Z"
    },
    "papermill": {
     "duration": 0.191744,
     "end_time": "2024-05-31T17:09:26.058788",
     "exception": false,
     "start_time": "2024-05-31T17:09:25.867044",
     "status": "completed"
    },
    "tags": []
   },
   "outputs": [],
   "source": [
    "# # Serialization\n",
    "# with open(\"top_10_xgb_dart_model_dict.pickle\", \"wb\") as outfile:\n",
    "#     pickle.dump(top_10_xgb_dart_model_dict, outfile)\n",
    "# print(\"Written object\", top_10_xgb_dart_model_dict)"
   ]
  },
  {
   "cell_type": "code",
   "execution_count": 111,
   "id": "0c4fa2cd",
   "metadata": {
    "execution": {
     "iopub.execute_input": "2024-05-31T17:09:26.417966Z",
     "iopub.status.busy": "2024-05-31T17:09:26.417538Z",
     "iopub.status.idle": "2024-05-31T17:09:26.460471Z",
     "shell.execute_reply": "2024-05-31T17:09:26.458962Z"
    },
    "papermill": {
     "duration": 0.225014,
     "end_time": "2024-05-31T17:09:26.463417",
     "exception": false,
     "start_time": "2024-05-31T17:09:26.238403",
     "status": "completed"
    },
    "tags": []
   },
   "outputs": [
    {
     "name": "stdout",
     "output_type": "stream",
     "text": [
      "Written object {11: <xgboost.core.Booster object at 0x7ff1b82a3460>, 14: <xgboost.core.Booster object at 0x7ff1b82a0c10>, 13: <xgboost.core.Booster object at 0x7ff1b82a2470>}\n"
     ]
    }
   ],
   "source": [
    "#Deserialization\n",
    "with open(\"/kaggle/input/homecredit-pm/top_10_xgb_dart_model_dict.pickle\", \"rb\") as infile:\n",
    "    top_10_xgb_dart_model_dict= pickle.load(infile)\n",
    "print(\"Written object\", top_10_xgb_dart_model_dict)"
   ]
  },
  {
   "cell_type": "code",
   "execution_count": 112,
   "id": "f9bebc41",
   "metadata": {
    "_kg_hide-output": true,
    "execution": {
     "iopub.execute_input": "2024-05-31T17:09:26.851926Z",
     "iopub.status.busy": "2024-05-31T17:09:26.851468Z",
     "iopub.status.idle": "2024-05-31T17:10:27.001085Z",
     "shell.execute_reply": "2024-05-31T17:10:26.999518Z"
    },
    "papermill": {
     "duration": 60.360395,
     "end_time": "2024-05-31T17:10:27.005151",
     "exception": false,
     "start_time": "2024-05-31T17:09:26.644756",
     "status": "completed"
    },
    "tags": []
   },
   "outputs": [],
   "source": [
    "ensemble_pred, predictions=aggragate_prediction(top_10_xgb_dart_model_dict,xtest=test_computed)"
   ]
  },
  {
   "cell_type": "code",
   "execution_count": 113,
   "id": "657dea3c",
   "metadata": {
    "execution": {
     "iopub.execute_input": "2024-05-31T17:10:27.384283Z",
     "iopub.status.busy": "2024-05-31T17:10:27.383823Z",
     "iopub.status.idle": "2024-05-31T17:10:27.893005Z",
     "shell.execute_reply": "2024-05-31T17:10:27.891461Z"
    },
    "papermill": {
     "duration": 0.708569,
     "end_time": "2024-05-31T17:10:27.896336",
     "exception": false,
     "start_time": "2024-05-31T17:10:27.187767",
     "status": "completed"
    },
    "tags": []
   },
   "outputs": [
    {
     "data": {
      "image/png": "[encoded data removed]",
      "text/plain": [
       "<Figure size 1300x600 with 2 Axes>"
      ]
     },
     "metadata": {},
     "output_type": "display_data"
    }
   ],
   "source": [
    "pred_concat_list=[]\n",
    "for key, pred in predictions.items():\n",
    "    pred_concat_list+=[pd.Series(pred, name=key)]\n",
    "# checking how similiar their decision boundry\n",
    "model_results = pd.concat(pred_concat_list,axis=1)\n",
    "fig, ax = plt.subplots(figsize=(13,6) )\n",
    "heatmap= sns.heatmap(model_results.corr(),annot=True,fmt=\".2%\")\n",
    "plt.show()\n",
    "plt.close()"
   ]
  },
  {
   "cell_type": "code",
   "execution_count": 114,
   "id": "e25b9e53",
   "metadata": {
    "execution": {
     "iopub.execute_input": "2024-05-31T17:10:28.289325Z",
     "iopub.status.busy": "2024-05-31T17:10:28.288851Z",
     "iopub.status.idle": "2024-05-31T17:10:29.066105Z",
     "shell.execute_reply": "2024-05-31T17:10:29.064707Z"
    },
    "papermill": {
     "duration": 0.96959,
     "end_time": "2024-05-31T17:10:29.068967",
     "exception": false,
     "start_time": "2024-05-31T17:10:28.099377",
     "status": "completed"
    },
    "tags": []
   },
   "outputs": [
    {
     "name": "stdout",
     "output_type": "stream",
     "text": [
      "0.8110779452986365\n",
      "Test stability score: 0.5534806746430252\n"
     ]
    }
   ],
   "source": [
    "print(roc_auc_score(test_label_computed, ensemble_pred))\n",
    "print(f\"Test stability score: {get_metric_calc_df(test_label_computed, ensemble_pred, 'train')}\")"
   ]
  },
  {
   "cell_type": "markdown",
   "id": "2613f7cf",
   "metadata": {
    "papermill": {
     "duration": 0.175187,
     "end_time": "2024-05-31T17:10:29.421303",
     "exception": false,
     "start_time": "2024-05-31T17:10:29.246116",
     "status": "completed"
    },
    "tags": []
   },
   "source": [
    "#### Cleaning Memory"
   ]
  },
  {
   "cell_type": "code",
   "execution_count": 115,
   "id": "ce1cf206",
   "metadata": {
    "execution": {
     "iopub.execute_input": "2024-05-31T17:10:29.771382Z",
     "iopub.status.busy": "2024-05-31T17:10:29.770920Z",
     "iopub.status.idle": "2024-05-31T17:10:30.104566Z",
     "shell.execute_reply": "2024-05-31T17:10:30.102620Z"
    },
    "papermill": {
     "duration": 0.510173,
     "end_time": "2024-05-31T17:10:30.107905",
     "exception": false,
     "start_time": "2024-05-31T17:10:29.597732",
     "status": "completed"
    },
    "scrolled": true,
    "tags": []
   },
   "outputs": [
    {
     "data": {
      "text/plain": [
       "140"
      ]
     },
     "execution_count": 115,
     "metadata": {},
     "output_type": "execute_result"
    }
   ],
   "source": [
    "del test_computed, train_computed, valid_computed\n",
    "del dtrain, dvalid, dtest \n",
    "collect()"
   ]
  },
  {
   "cell_type": "markdown",
   "id": "f41b59f5",
   "metadata": {
    "papermill": {
     "duration": 0.180088,
     "end_time": "2024-05-31T17:10:30.476952",
     "exception": false,
     "start_time": "2024-05-31T17:10:30.296864",
     "status": "completed"
    },
    "tags": []
   },
   "source": [
    "#### Loading model and pipeline"
   ]
  },
  {
   "cell_type": "markdown",
   "id": "2ddd3628",
   "metadata": {
    "papermill": {
     "duration": 0.180834,
     "end_time": "2024-05-31T17:10:30.964142",
     "exception": false,
     "start_time": "2024-05-31T17:10:30.783308",
     "status": "completed"
    },
    "tags": []
   },
   "source": [
    "### Predicting test set"
   ]
  },
  {
   "cell_type": "code",
   "execution_count": 116,
   "id": "206f9c23",
   "metadata": {
    "execution": {
     "iopub.execute_input": "2024-05-31T17:10:31.330912Z",
     "iopub.status.busy": "2024-05-31T17:10:31.330466Z",
     "iopub.status.idle": "2024-05-31T17:15:28.933317Z",
     "shell.execute_reply": "2024-05-31T17:15:28.931698Z"
    },
    "papermill": {
     "duration": 297.788502,
     "end_time": "2024-05-31T17:15:28.936350",
     "exception": false,
     "start_time": "2024-05-31T17:10:31.147848",
     "status": "completed"
    },
    "tags": []
   },
   "outputs": [
    {
     "name": "stdout",
     "output_type": "stream",
     "text": [
      "test_deposit_1\n",
      "test_debitcard_1\n",
      "test_other_1\n",
      "test_base\n",
      "test_person_1\n",
      "test_applprev_1\n",
      "test_static_0\n",
      "test_static_cb_0\n",
      "test_tax_registry_b_1\n",
      "test_tax_registry_a_1\n",
      "test_credit_bureau_b_1\n",
      "test_credit_bureau_a_1\n",
      "select_numeric_features beginning shape of full df (10, 823)\n",
      "shape of df before merge with numeric (10, 325)\n",
      "shape of df after merge with numeric (10, 764)\n",
      "select_numeric_features ended shape of full df (10, 764), # of numeric features 439, cat features 83, time_features: 242\n",
      "Test shape: 10, 722, Memory Size: 0.03\n"
     ]
    }
   ],
   "source": [
    "# test_d0_1 = dd.read_parquet(data_dir+\"test_d0_1_v5.parquet\") \n",
    "_,_,test_d0_1 =sp.read_process_splits(ftype=\"test\", verbose=False)\n",
    "print(f\"Test shape: {len(test_d0_1)}, {test_d0_1.shape[1]}, Memory Size: {round(test_d0_1.memory_usage().sum().compute() / 1024**2,2)}\" )"
   ]
  },
  {
   "cell_type": "code",
   "execution_count": 117,
   "id": "f5276b35",
   "metadata": {
    "_kg_hide-output": true,
    "execution": {
     "iopub.execute_input": "2024-05-31T17:15:29.296174Z",
     "iopub.status.busy": "2024-05-31T17:15:29.295210Z",
     "iopub.status.idle": "2024-05-31T17:15:29.537327Z",
     "shell.execute_reply": "2024-05-31T17:15:29.535378Z"
    },
    "papermill": {
     "duration": 0.424777,
     "end_time": "2024-05-31T17:15:29.540394",
     "exception": false,
     "start_time": "2024-05-31T17:15:29.115617",
     "status": "completed"
    },
    "tags": []
   },
   "outputs": [],
   "source": [
    "#dtest_d0_1 = xgb.DMatrix(data=test_d0_1.compute())\n",
    "test_d0_1 = test_d0_1.compute()"
   ]
  },
  {
   "cell_type": "code",
   "execution_count": 118,
   "id": "d6c483ac",
   "metadata": {
    "_kg_hide-output": true,
    "execution": {
     "iopub.execute_input": "2024-05-31T17:15:29.904433Z",
     "iopub.status.busy": "2024-05-31T17:15:29.903920Z",
     "iopub.status.idle": "2024-05-31T17:15:30.354065Z",
     "shell.execute_reply": "2024-05-31T17:15:30.352723Z"
    },
    "papermill": {
     "duration": 0.642886,
     "end_time": "2024-05-31T17:15:30.357197",
     "exception": false,
     "start_time": "2024-05-31T17:15:29.714311",
     "status": "completed"
    },
    "tags": []
   },
   "outputs": [],
   "source": [
    "#prediction_test = xgb_tune_dart.predict(dtest_d0_1)\n",
    "prediction_test, predictions_test_dict=aggragate_prediction(top_10_xgb_dart_model_dict,xtest=test_d0_1)"
   ]
  },
  {
   "cell_type": "code",
   "execution_count": 119,
   "id": "1221738c",
   "metadata": {
    "_kg_hide-output": true,
    "execution": {
     "iopub.execute_input": "2024-05-31T17:15:30.735487Z",
     "iopub.status.busy": "2024-05-31T17:15:30.735060Z",
     "iopub.status.idle": "2024-05-31T17:15:30.755786Z",
     "shell.execute_reply": "2024-05-31T17:15:30.754205Z"
    },
    "papermill": {
     "duration": 0.214973,
     "end_time": "2024-05-31T17:15:30.759342",
     "exception": false,
     "start_time": "2024-05-31T17:15:30.544369",
     "status": "completed"
    },
    "tags": []
   },
   "outputs": [],
   "source": [
    "#y_pred = pd.Series(prediction_test, index=test_d0_1.index.compute())\n",
    "y_pred = pd.Series(prediction_test, index=test_d0_1.index)\n",
    "df_subm = pd.read_csv(os.path.join(G.data_dir, \"sample_submission.csv\"))\n",
    "df_subm = df_subm.set_index(\"case_id\")"
   ]
  },
  {
   "cell_type": "code",
   "execution_count": 120,
   "id": "61edc41c",
   "metadata": {
    "execution": {
     "iopub.execute_input": "2024-05-31T17:15:31.147279Z",
     "iopub.status.busy": "2024-05-31T17:15:31.146692Z",
     "iopub.status.idle": "2024-05-31T17:15:31.160470Z",
     "shell.execute_reply": "2024-05-31T17:15:31.159181Z"
    },
    "papermill": {
     "duration": 0.206655,
     "end_time": "2024-05-31T17:15:31.163592",
     "exception": false,
     "start_time": "2024-05-31T17:15:30.956937",
     "status": "completed"
    },
    "scrolled": true,
    "tags": []
   },
   "outputs": [],
   "source": [
    "df_subm[\"score\"] = y_pred\n",
    "df_subm.to_csv(\"submission.csv\")\n",
    "#df_subm"
   ]
  }
 ],
 "metadata": {
  "kaggle": {
   "accelerator": "none",
   "dataSources": [
    {
     "databundleVersionId": 7921029,
     "sourceId": 50160,
     "sourceType": "competition"
    },
    {
     "datasetId": 4695017,
     "sourceId": 7977561,
     "sourceType": "datasetVersion"
    },
    {
     "datasetId": 4558176,
     "sourceId": 8489023,
     "sourceType": "datasetVersion"
    },
    {
     "datasetId": 5050273,
     "sourceId": 8523921,
     "sourceType": "datasetVersion"
    }
   ],
   "isGpuEnabled": false,
   "isInternetEnabled": false,
   "language": "python",
   "sourceType": "notebook"
  },
  "kernelspec": {
   "display_name": "Python 3",
   "language": "python",
   "name": "python3"
  },
  "language_info": {
   "codemirror_mode": {
    "name": "ipython",
    "version": 3
   },
   "file_extension": ".py",
   "mimetype": "text/x-python",
   "name": "python",
   "nbconvert_exporter": "python",
   "pygments_lexer": "ipython3",
   "version": "3.10.13"
  },
  "papermill": {
   "default_parameters": {},
   "duration": 36635.721022,
   "end_time": "2024-05-31T17:15:34.196268",
   "environment_variables": {},
   "exception": null,
   "input_path": "__notebook__.ipynb",
   "output_path": "__notebook__.ipynb",
   "parameters": {},
   "start_time": "2024-05-31T07:04:58.475246",
   "version": "2.5.0"
  }
 },
 "nbformat": 4,
 "nbformat_minor": 5
}
