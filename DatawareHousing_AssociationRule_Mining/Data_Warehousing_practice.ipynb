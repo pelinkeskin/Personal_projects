{
 "cells": [
  {
   "cell_type": "code",
   "execution_count": 1,
   "id": "4d1bbd3a",
   "metadata": {},
   "outputs": [
    {
     "name": "stderr",
     "output_type": "stream",
     "text": [
      "/home/pkeskin/anaconda3/envs/COMP47750/lib/python3.10/site-packages/scipy/__init__.py:146: UserWarning: A NumPy version >=1.16.5 and <1.23.0 is required for this version of SciPy (detected version 1.23.1\n",
      "  warnings.warn(f\"A NumPy version >={np_minversion} and <{np_maxversion}\"\n"
     ]
    }
   ],
   "source": [
    "import pandas as pd\n",
    "import numpy as np\n",
    "import matplotlib.pyplot as plt\n",
    "%matplotlib inline\n",
    "from sklearn.model_selection import train_test_split\n",
    "from sklearn.metrics import mean_squared_error \n",
    "from sklearn.impute import KNNImputer\n",
    "from sklearn.preprocessing import MinMaxScaler\n",
    "import scipy\n",
    "from scipy.stats import skew\n",
    "from scipy.stats import kurtosis\n",
    "import seaborn as sns\n",
    "from warnings import filterwarnings\n",
    "import statsmodels.api as sm\n",
    "from matplotlib import pyplot as plt\n",
    "from sklearn.preprocessing import OrdinalEncoder\n",
    "from sklearn.preprocessing import OneHotEncoder\n",
    "from sklearn.preprocessing import StandardScaler\n",
    "from sklearn.decomposition import PCA\n",
    "from sklearn.preprocessing import LabelEncoder\n",
    "from sqlalchemy import create_engine\n",
    "import psycopg2\n",
    "import streamlit as st\n",
    "import credentials\n",
    "import warnings\n",
    "warnings.simplefilter(action='ignore', category=FutureWarning)\n",
    "import sys\n",
    "from mlxtend.frequent_patterns import apriori\n",
    "from mlxtend.frequent_patterns import association_rules\n",
    "from mlxtend.frequent_patterns import fpgrowth"
   ]
  },
  {
   "cell_type": "markdown",
   "id": "e9d5b777",
   "metadata": {},
   "source": [
    "# Data warehouse"
   ]
  },
  {
   "cell_type": "markdown",
   "id": "172fd688",
   "metadata": {},
   "source": [
    "### Preprocessing datasets"
   ]
  },
  {
   "cell_type": "code",
   "execution_count": 2,
   "id": "550f83dc",
   "metadata": {},
   "outputs": [],
   "source": [
    "DF_DW_dataset=pd.read_csv('DW_dataset.csv')"
   ]
  },
  {
   "cell_type": "code",
   "execution_count": 3,
   "id": "75034d72",
   "metadata": {},
   "outputs": [
    {
     "data": {
      "text/plain": [
       "(16, 9)"
      ]
     },
     "execution_count": 3,
     "metadata": {},
     "output_type": "execute_result"
    }
   ],
   "source": [
    "DF_DW_dataset.shape"
   ]
  },
  {
   "cell_type": "code",
   "execution_count": 4,
   "id": "0f4dbffa",
   "metadata": {
    "scrolled": true
   },
   "outputs": [
    {
     "data": {
      "text/html": [
       "<div>\n",
       "<style scoped>\n",
       "    .dataframe tbody tr th:only-of-type {\n",
       "        vertical-align: middle;\n",
       "    }\n",
       "\n",
       "    .dataframe tbody tr th {\n",
       "        vertical-align: top;\n",
       "    }\n",
       "\n",
       "    .dataframe thead th {\n",
       "        text-align: right;\n",
       "    }\n",
       "</style>\n",
       "<table border=\"1\" class=\"dataframe\">\n",
       "  <thead>\n",
       "    <tr style=\"text-align: right;\">\n",
       "      <th></th>\n",
       "      <th>Employee ID</th>\n",
       "      <th>Name</th>\n",
       "      <th>Date of Birth</th>\n",
       "      <th>Gender</th>\n",
       "      <th>Job Title</th>\n",
       "      <th>Salary</th>\n",
       "      <th>Date Joined</th>\n",
       "      <th>Date Left</th>\n",
       "      <th>Address</th>\n",
       "    </tr>\n",
       "  </thead>\n",
       "  <tbody>\n",
       "    <tr>\n",
       "      <th>0</th>\n",
       "      <td>100</td>\n",
       "      <td>Smith</td>\n",
       "      <td>12-Jan-74</td>\n",
       "      <td>M</td>\n",
       "      <td>Director</td>\n",
       "      <td>100000</td>\n",
       "      <td>01-Aug-01</td>\n",
       "      <td>NaN</td>\n",
       "      <td>12, Green Avenue, Howth, Co. Dublin</td>\n",
       "    </tr>\n",
       "    <tr>\n",
       "      <th>1</th>\n",
       "      <td>125</td>\n",
       "      <td>Jones</td>\n",
       "      <td>06-Apr-89</td>\n",
       "      <td>F</td>\n",
       "      <td>Technician</td>\n",
       "      <td>30000</td>\n",
       "      <td>01-May-01</td>\n",
       "      <td>31-Aug-02</td>\n",
       "      <td>43, School Road, Malahide, Co. Dublin</td>\n",
       "    </tr>\n",
       "  </tbody>\n",
       "</table>\n",
       "</div>"
      ],
      "text/plain": [
       "   Employee ID    Name Date of Birth  Gender    Job Title   Salary  \\\n",
       "0          100   Smith     12-Jan-74       M     Director   100000   \n",
       "1          125   Jones     06-Apr-89       F   Technician    30000   \n",
       "\n",
       "  Date Joined  Date Left                                Address  \n",
       "0   01-Aug-01        NaN    12, Green Avenue, Howth, Co. Dublin  \n",
       "1   01-May-01  31-Aug-02  43, School Road, Malahide, Co. Dublin  "
      ]
     },
     "execution_count": 4,
     "metadata": {},
     "output_type": "execute_result"
    }
   ],
   "source": [
    "DF_DW_dataset.head(2)"
   ]
  },
  {
   "cell_type": "code",
   "execution_count": 5,
   "id": "eb0f7c5c",
   "metadata": {
    "scrolled": true
   },
   "outputs": [
    {
     "name": "stdout",
     "output_type": "stream",
     "text": [
      "<class 'pandas.core.frame.DataFrame'>\n",
      "RangeIndex: 16 entries, 0 to 15\n",
      "Data columns (total 9 columns):\n",
      " #   Column         Non-Null Count  Dtype \n",
      "---  ------         --------------  ----- \n",
      " 0   Employee ID    16 non-null     int64 \n",
      " 1    Name          16 non-null     object\n",
      " 2   Date of Birth  16 non-null     object\n",
      " 3    Gender        16 non-null     object\n",
      " 4   Job Title      16 non-null     object\n",
      " 5    Salary        16 non-null     int64 \n",
      " 6   Date Joined    16 non-null     object\n",
      " 7   Date Left      7 non-null      object\n",
      " 8   Address        16 non-null     object\n",
      "dtypes: int64(2), object(7)\n",
      "memory usage: 1.2+ KB\n"
     ]
    }
   ],
   "source": [
    "DF_DW_dataset.info()"
   ]
  },
  {
   "cell_type": "code",
   "execution_count": 6,
   "id": "afd5b4fd",
   "metadata": {},
   "outputs": [
    {
     "data": {
      "text/plain": [
       "Employee ID      16\n",
       " Name            16\n",
       "Date of Birth    16\n",
       " Gender           4\n",
       "Job Title        14\n",
       " Salary          14\n",
       "Date Joined       9\n",
       "Date Left         7\n",
       "Address          16\n",
       "dtype: int64"
      ]
     },
     "execution_count": 6,
     "metadata": {},
     "output_type": "execute_result"
    }
   ],
   "source": [
    "DF_DW_dataset.nunique()"
   ]
  },
  {
   "cell_type": "code",
   "execution_count": 7,
   "id": "59884763",
   "metadata": {},
   "outputs": [],
   "source": [
    "# Clean the column names to remove white space after the name or in the name\n",
    "DF_DW_dataset.columns = DF_DW_dataset.columns.str.replace(' ', '')"
   ]
  },
  {
   "cell_type": "code",
   "execution_count": 8,
   "id": "51bdc7d4",
   "metadata": {},
   "outputs": [
    {
     "data": {
      "text/html": [
       "<div>\n",
       "<style scoped>\n",
       "    .dataframe tbody tr th:only-of-type {\n",
       "        vertical-align: middle;\n",
       "    }\n",
       "\n",
       "    .dataframe tbody tr th {\n",
       "        vertical-align: top;\n",
       "    }\n",
       "\n",
       "    .dataframe thead th {\n",
       "        text-align: right;\n",
       "    }\n",
       "</style>\n",
       "<table border=\"1\" class=\"dataframe\">\n",
       "  <thead>\n",
       "    <tr style=\"text-align: right;\">\n",
       "      <th></th>\n",
       "      <th>EmployeeID</th>\n",
       "      <th>Name</th>\n",
       "      <th>DateofBirth</th>\n",
       "      <th>Gender</th>\n",
       "      <th>JobTitle</th>\n",
       "      <th>Salary</th>\n",
       "      <th>DateJoined</th>\n",
       "      <th>DateLeft</th>\n",
       "      <th>Address</th>\n",
       "    </tr>\n",
       "  </thead>\n",
       "  <tbody>\n",
       "    <tr>\n",
       "      <th>0</th>\n",
       "      <td>100</td>\n",
       "      <td>Smith</td>\n",
       "      <td>12-Jan-74</td>\n",
       "      <td>M</td>\n",
       "      <td>Director</td>\n",
       "      <td>100000</td>\n",
       "      <td>01-Aug-01</td>\n",
       "      <td>NaN</td>\n",
       "      <td>12, Green Avenue, Howth, Co. Dublin</td>\n",
       "    </tr>\n",
       "    <tr>\n",
       "      <th>1</th>\n",
       "      <td>125</td>\n",
       "      <td>Jones</td>\n",
       "      <td>06-Apr-89</td>\n",
       "      <td>F</td>\n",
       "      <td>Technician</td>\n",
       "      <td>30000</td>\n",
       "      <td>01-May-01</td>\n",
       "      <td>31-Aug-02</td>\n",
       "      <td>43, School Road, Malahide, Co. Dublin</td>\n",
       "    </tr>\n",
       "    <tr>\n",
       "      <th>2</th>\n",
       "      <td>167</td>\n",
       "      <td>Davis</td>\n",
       "      <td>19-Jan-82</td>\n",
       "      <td>F</td>\n",
       "      <td>Senior Technician</td>\n",
       "      <td>50000</td>\n",
       "      <td>01-Dec-02</td>\n",
       "      <td>NaN</td>\n",
       "      <td>10, Main Street, Naas, Co. Kildare</td>\n",
       "    </tr>\n",
       "    <tr>\n",
       "      <th>3</th>\n",
       "      <td>200</td>\n",
       "      <td>O'Bien</td>\n",
       "      <td>03-May-97</td>\n",
       "      <td>M</td>\n",
       "      <td>Technician</td>\n",
       "      <td>25000</td>\n",
       "      <td>01-May-02</td>\n",
       "      <td>30-Nov-02</td>\n",
       "      <td>Apt 02, High Court, Condalkin. Co. Dublin</td>\n",
       "    </tr>\n",
       "    <tr>\n",
       "      <th>4</th>\n",
       "      <td>205</td>\n",
       "      <td>Edward</td>\n",
       "      <td>16-Nov-95</td>\n",
       "      <td>M</td>\n",
       "      <td>Technician</td>\n",
       "      <td>33000</td>\n",
       "      <td>01-Jan-01</td>\n",
       "      <td>NaN</td>\n",
       "      <td>33, Barake Street, Clane, Co. Kildare</td>\n",
       "    </tr>\n",
       "    <tr>\n",
       "      <th>5</th>\n",
       "      <td>216</td>\n",
       "      <td>Evans</td>\n",
       "      <td>22-Mar-95</td>\n",
       "      <td>F</td>\n",
       "      <td>S' Technician</td>\n",
       "      <td>44000</td>\n",
       "      <td>01-Aug-01</td>\n",
       "      <td>31-Mar-02</td>\n",
       "      <td>143, High Street, Niwbridge, Co. Kildare</td>\n",
       "    </tr>\n",
       "    <tr>\n",
       "      <th>6</th>\n",
       "      <td>220</td>\n",
       "      <td>Moore</td>\n",
       "      <td>28-Jun-96</td>\n",
       "      <td>F</td>\n",
       "      <td>Jnr. Technician</td>\n",
       "      <td>22000</td>\n",
       "      <td>01-Jan-02</td>\n",
       "      <td>NaN</td>\n",
       "      <td>Apt 01, Shreedon Court, Rathcoole, Co. Dublin</td>\n",
       "    </tr>\n",
       "    <tr>\n",
       "      <th>7</th>\n",
       "      <td>301</td>\n",
       "      <td>Rogers</td>\n",
       "      <td>14-Nov-75</td>\n",
       "      <td>M</td>\n",
       "      <td>Deputy Director</td>\n",
       "      <td>60000</td>\n",
       "      <td>01-May-02</td>\n",
       "      <td>NaN</td>\n",
       "      <td>Manor House, Naas Road, Inchico, Co. Dublin</td>\n",
       "    </tr>\n",
       "    <tr>\n",
       "      <th>8</th>\n",
       "      <td>303</td>\n",
       "      <td>Phillip</td>\n",
       "      <td>14-Oct-76</td>\n",
       "      <td>F</td>\n",
       "      <td>HR Manager</td>\n",
       "      <td>70000</td>\n",
       "      <td>01-Jan-02</td>\n",
       "      <td>NaN</td>\n",
       "      <td>44, Dublin Road, Finglas, Co. Dublin</td>\n",
       "    </tr>\n",
       "    <tr>\n",
       "      <th>9</th>\n",
       "      <td>344</td>\n",
       "      <td>Shane</td>\n",
       "      <td>06-Jul-86</td>\n",
       "      <td>M</td>\n",
       "      <td>D\" Director</td>\n",
       "      <td>50000</td>\n",
       "      <td>01-Jan-01</td>\n",
       "      <td>30-Apr-02</td>\n",
       "      <td>65, Waterway, Killiney, Co. Dublin</td>\n",
       "    </tr>\n",
       "    <tr>\n",
       "      <th>10</th>\n",
       "      <td>351</td>\n",
       "      <td>Alan</td>\n",
       "      <td>22-May-73</td>\n",
       "      <td>M</td>\n",
       "      <td>Dep. Director</td>\n",
       "      <td>80000</td>\n",
       "      <td>01-Apr-01</td>\n",
       "      <td>NaN</td>\n",
       "      <td>43, Shandon Court, Clane, Co. Kildare</td>\n",
       "    </tr>\n",
       "    <tr>\n",
       "      <th>11</th>\n",
       "      <td>364</td>\n",
       "      <td>Gary</td>\n",
       "      <td>11-Nov-81</td>\n",
       "      <td>M</td>\n",
       "      <td>Eng` Manager</td>\n",
       "      <td>85000</td>\n",
       "      <td>01-Jan-01</td>\n",
       "      <td>31-Mar-22</td>\n",
       "      <td>22, Earls, Newbridge, Co. Kildare</td>\n",
       "    </tr>\n",
       "    <tr>\n",
       "      <th>12</th>\n",
       "      <td>371</td>\n",
       "      <td>Robert</td>\n",
       "      <td>27-Jan-93</td>\n",
       "      <td>M</td>\n",
       "      <td>J Technician</td>\n",
       "      <td>27000</td>\n",
       "      <td>01-Jan-01</td>\n",
       "      <td>31-Oct-21</td>\n",
       "      <td>61, Robert Street, Dublin 04, Co. Dublin</td>\n",
       "    </tr>\n",
       "    <tr>\n",
       "      <th>13</th>\n",
       "      <td>380</td>\n",
       "      <td>Jason</td>\n",
       "      <td>28-Feb-81</td>\n",
       "      <td>M</td>\n",
       "      <td>Lead Technician</td>\n",
       "      <td>45000</td>\n",
       "      <td>02-Feb-01</td>\n",
       "      <td>NaN</td>\n",
       "      <td>56, Alex Street, Dublin 01, Co. Dublin</td>\n",
       "    </tr>\n",
       "    <tr>\n",
       "      <th>14</th>\n",
       "      <td>393</td>\n",
       "      <td>Marry</td>\n",
       "      <td>18-May-76</td>\n",
       "      <td>F</td>\n",
       "      <td>Director</td>\n",
       "      <td>70000</td>\n",
       "      <td>01-Jan-01</td>\n",
       "      <td>30-Nov-22</td>\n",
       "      <td>59, Sea Forth, Sword, Co. Dublin</td>\n",
       "    </tr>\n",
       "    <tr>\n",
       "      <th>15</th>\n",
       "      <td>409</td>\n",
       "      <td>Hilary</td>\n",
       "      <td>15-Jun-88</td>\n",
       "      <td>F</td>\n",
       "      <td>Marketing Director</td>\n",
       "      <td>78000</td>\n",
       "      <td>01-Mar-01</td>\n",
       "      <td>NaN</td>\n",
       "      <td>87, Bray Street, Kildare, Co. Kildare</td>\n",
       "    </tr>\n",
       "  </tbody>\n",
       "</table>\n",
       "</div>"
      ],
      "text/plain": [
       "    EmployeeID     Name DateofBirth Gender            JobTitle  Salary  \\\n",
       "0          100    Smith   12-Jan-74      M            Director  100000   \n",
       "1          125    Jones   06-Apr-89      F          Technician   30000   \n",
       "2          167    Davis   19-Jan-82      F   Senior Technician   50000   \n",
       "3          200   O'Bien   03-May-97      M          Technician   25000   \n",
       "4          205   Edward   16-Nov-95      M          Technician   33000   \n",
       "5          216    Evans   22-Mar-95      F       S' Technician   44000   \n",
       "6          220    Moore   28-Jun-96      F     Jnr. Technician   22000   \n",
       "7          301   Rogers   14-Nov-75      M     Deputy Director   60000   \n",
       "8          303  Phillip   14-Oct-76      F          HR Manager   70000   \n",
       "9          344    Shane   06-Jul-86      M         D\" Director   50000   \n",
       "10         351     Alan   22-May-73      M       Dep. Director   80000   \n",
       "11         364     Gary   11-Nov-81      M        Eng` Manager   85000   \n",
       "12         371   Robert   27-Jan-93      M        J Technician   27000   \n",
       "13         380    Jason   28-Feb-81      M     Lead Technician   45000   \n",
       "14         393    Marry   18-May-76      F            Director   70000   \n",
       "15         409   Hilary   15-Jun-88      F  Marketing Director   78000   \n",
       "\n",
       "   DateJoined   DateLeft                                        Address  \n",
       "0   01-Aug-01        NaN            12, Green Avenue, Howth, Co. Dublin  \n",
       "1   01-May-01  31-Aug-02          43, School Road, Malahide, Co. Dublin  \n",
       "2   01-Dec-02        NaN             10, Main Street, Naas, Co. Kildare  \n",
       "3   01-May-02  30-Nov-02      Apt 02, High Court, Condalkin. Co. Dublin  \n",
       "4   01-Jan-01        NaN          33, Barake Street, Clane, Co. Kildare  \n",
       "5   01-Aug-01  31-Mar-02       143, High Street, Niwbridge, Co. Kildare  \n",
       "6   01-Jan-02        NaN  Apt 01, Shreedon Court, Rathcoole, Co. Dublin  \n",
       "7   01-May-02        NaN    Manor House, Naas Road, Inchico, Co. Dublin  \n",
       "8   01-Jan-02        NaN           44, Dublin Road, Finglas, Co. Dublin  \n",
       "9   01-Jan-01  30-Apr-02             65, Waterway, Killiney, Co. Dublin  \n",
       "10  01-Apr-01        NaN          43, Shandon Court, Clane, Co. Kildare  \n",
       "11  01-Jan-01  31-Mar-22              22, Earls, Newbridge, Co. Kildare  \n",
       "12  01-Jan-01  31-Oct-21       61, Robert Street, Dublin 04, Co. Dublin  \n",
       "13  02-Feb-01        NaN         56, Alex Street, Dublin 01, Co. Dublin  \n",
       "14  01-Jan-01  30-Nov-22               59, Sea Forth, Sword, Co. Dublin  \n",
       "15  01-Mar-01        NaN          87, Bray Street, Kildare, Co. Kildare  "
      ]
     },
     "execution_count": 8,
     "metadata": {},
     "output_type": "execute_result"
    }
   ],
   "source": [
    "DF_DW_dataset"
   ]
  },
  {
   "cell_type": "code",
   "execution_count": 9,
   "id": "32eee2f5",
   "metadata": {},
   "outputs": [],
   "source": [
    "DF_DW_dataset['DateofBirth'] =  pd.to_datetime(DF_DW_dataset['DateofBirth'], format=\"%d-%b-%y\")"
   ]
  },
  {
   "cell_type": "code",
   "execution_count": 10,
   "id": "9308bc1b",
   "metadata": {},
   "outputs": [],
   "source": [
    "DF_DW_dataset['DateJoined'] =  pd.to_datetime(DF_DW_dataset['DateJoined'], format=\"%d-%b-%y\")"
   ]
  },
  {
   "cell_type": "code",
   "execution_count": 11,
   "id": "fb801989",
   "metadata": {},
   "outputs": [],
   "source": [
    "DF_DW_dataset['DateLeft'] =  pd.to_datetime(DF_DW_dataset['DateLeft'], format=\"%d-%b-%y\")"
   ]
  },
  {
   "cell_type": "code",
   "execution_count": 12,
   "id": "f44f7df8",
   "metadata": {
    "scrolled": false
   },
   "outputs": [
    {
     "data": {
      "text/plain": [
       "EmployeeID              int64\n",
       "Name                   object\n",
       "DateofBirth    datetime64[ns]\n",
       "Gender                 object\n",
       "JobTitle               object\n",
       "Salary                  int64\n",
       "DateJoined     datetime64[ns]\n",
       "DateLeft       datetime64[ns]\n",
       "Address                object\n",
       "dtype: object"
      ]
     },
     "execution_count": 12,
     "metadata": {},
     "output_type": "execute_result"
    }
   ],
   "source": [
    "DF_DW_dataset.dtypes"
   ]
  },
  {
   "cell_type": "code",
   "execution_count": 13,
   "id": "846d0263",
   "metadata": {},
   "outputs": [],
   "source": [
    "DF_DW_dataset_categorical_columns = DF_DW_dataset.select_dtypes(['object']).columns"
   ]
  },
  {
   "cell_type": "code",
   "execution_count": 14,
   "id": "dc4b8303",
   "metadata": {},
   "outputs": [],
   "source": [
    "for column in DF_DW_dataset_categorical_columns:\n",
    "    DF_DW_dataset[column] = DF_DW_dataset[column].astype('category')  "
   ]
  },
  {
   "cell_type": "code",
   "execution_count": 15,
   "id": "c4bc8b90",
   "metadata": {},
   "outputs": [],
   "source": [
    "DF_DW_dataset['EmployeeID'] = DF_DW_dataset['EmployeeID'].astype('category')  "
   ]
  },
  {
   "cell_type": "code",
   "execution_count": 16,
   "id": "0d286233",
   "metadata": {},
   "outputs": [
    {
     "data": {
      "text/plain": [
       "EmployeeID           category\n",
       "Name                 category\n",
       "DateofBirth    datetime64[ns]\n",
       "Gender               category\n",
       "JobTitle             category\n",
       "Salary                  int64\n",
       "DateJoined     datetime64[ns]\n",
       "DateLeft       datetime64[ns]\n",
       "Address              category\n",
       "dtype: object"
      ]
     },
     "execution_count": 16,
     "metadata": {},
     "output_type": "execute_result"
    }
   ],
   "source": [
    "DF_DW_dataset.dtypes"
   ]
  },
  {
   "cell_type": "code",
   "execution_count": 17,
   "id": "0e68d2fc",
   "metadata": {},
   "outputs": [
    {
     "name": "stdout",
     "output_type": "stream",
     "text": [
      "Number of duplicate (excluding first) rows in the table is:  0\n"
     ]
    }
   ],
   "source": [
    "print('Number of duplicate (excluding first) rows in the table is: ', DF_DW_dataset.duplicated().sum())"
   ]
  },
  {
   "cell_type": "code",
   "execution_count": 18,
   "id": "a3163f56",
   "metadata": {
    "scrolled": true
   },
   "outputs": [
    {
     "data": {
      "text/html": [
       "<div>\n",
       "<style scoped>\n",
       "    .dataframe tbody tr th:only-of-type {\n",
       "        vertical-align: middle;\n",
       "    }\n",
       "\n",
       "    .dataframe tbody tr th {\n",
       "        vertical-align: top;\n",
       "    }\n",
       "\n",
       "    .dataframe thead th {\n",
       "        text-align: right;\n",
       "    }\n",
       "</style>\n",
       "<table border=\"1\" class=\"dataframe\">\n",
       "  <thead>\n",
       "    <tr style=\"text-align: right;\">\n",
       "      <th></th>\n",
       "      <th>count</th>\n",
       "      <th>unique</th>\n",
       "      <th>top</th>\n",
       "      <th>freq</th>\n",
       "    </tr>\n",
       "  </thead>\n",
       "  <tbody>\n",
       "    <tr>\n",
       "      <th>EmployeeID</th>\n",
       "      <td>16</td>\n",
       "      <td>16</td>\n",
       "      <td>100</td>\n",
       "      <td>1</td>\n",
       "    </tr>\n",
       "    <tr>\n",
       "      <th>Name</th>\n",
       "      <td>16</td>\n",
       "      <td>16</td>\n",
       "      <td>Davis</td>\n",
       "      <td>1</td>\n",
       "    </tr>\n",
       "    <tr>\n",
       "      <th>Gender</th>\n",
       "      <td>16</td>\n",
       "      <td>4</td>\n",
       "      <td>M</td>\n",
       "      <td>5</td>\n",
       "    </tr>\n",
       "    <tr>\n",
       "      <th>JobTitle</th>\n",
       "      <td>16</td>\n",
       "      <td>14</td>\n",
       "      <td>Technician</td>\n",
       "      <td>3</td>\n",
       "    </tr>\n",
       "    <tr>\n",
       "      <th>Address</th>\n",
       "      <td>16</td>\n",
       "      <td>16</td>\n",
       "      <td>10, Main Street, Naas, Co. Kildare</td>\n",
       "      <td>1</td>\n",
       "    </tr>\n",
       "  </tbody>\n",
       "</table>\n",
       "</div>"
      ],
      "text/plain": [
       "           count unique                                 top freq\n",
       "EmployeeID    16     16                                 100    1\n",
       "Name          16     16                               Davis    1\n",
       "Gender        16      4                                   M    5\n",
       "JobTitle      16     14                          Technician    3\n",
       "Address       16     16  10, Main Street, Naas, Co. Kildare    1"
      ]
     },
     "execution_count": 18,
     "metadata": {},
     "output_type": "execute_result"
    }
   ],
   "source": [
    "DF_DW_dataset.select_dtypes(['category']).describe().T"
   ]
  },
  {
   "cell_type": "markdown",
   "id": "9a4e0813",
   "metadata": {},
   "source": [
    "Fixing abnormalities at gender column"
   ]
  },
  {
   "cell_type": "code",
   "execution_count": 19,
   "id": "3bd3159f",
   "metadata": {},
   "outputs": [
    {
     "data": {
      "text/plain": [
       "{' F', ' M', 'F', 'M'}"
      ]
     },
     "execution_count": 19,
     "metadata": {},
     "output_type": "execute_result"
    }
   ],
   "source": [
    "set(list(DF_DW_dataset['Gender']))"
   ]
  },
  {
   "cell_type": "code",
   "execution_count": 20,
   "id": "d7b27086",
   "metadata": {},
   "outputs": [],
   "source": [
    "DF_DW_dataset['Gender'] = DF_DW_dataset['Gender'].replace({' F':'F'}, regex=True)"
   ]
  },
  {
   "cell_type": "code",
   "execution_count": 21,
   "id": "4f5e4b2a",
   "metadata": {},
   "outputs": [],
   "source": [
    "DF_DW_dataset['Gender'] = DF_DW_dataset['Gender'].replace({' M':'M'}, regex=True)"
   ]
  },
  {
   "cell_type": "code",
   "execution_count": 22,
   "id": "1be219f8",
   "metadata": {},
   "outputs": [
    {
     "data": {
      "text/plain": [
       "{'F', 'M'}"
      ]
     },
     "execution_count": 22,
     "metadata": {},
     "output_type": "execute_result"
    }
   ],
   "source": [
    "set(list(DF_DW_dataset['Gender']))"
   ]
  },
  {
   "cell_type": "code",
   "execution_count": 23,
   "id": "31b6a5ec",
   "metadata": {
    "scrolled": true
   },
   "outputs": [
    {
     "data": {
      "text/html": [
       "<div>\n",
       "<style scoped>\n",
       "    .dataframe tbody tr th:only-of-type {\n",
       "        vertical-align: middle;\n",
       "    }\n",
       "\n",
       "    .dataframe tbody tr th {\n",
       "        vertical-align: top;\n",
       "    }\n",
       "\n",
       "    .dataframe thead th {\n",
       "        text-align: right;\n",
       "    }\n",
       "</style>\n",
       "<table border=\"1\" class=\"dataframe\">\n",
       "  <thead>\n",
       "    <tr style=\"text-align: right;\">\n",
       "      <th></th>\n",
       "      <th>count</th>\n",
       "      <th>unique</th>\n",
       "      <th>top</th>\n",
       "      <th>freq</th>\n",
       "    </tr>\n",
       "  </thead>\n",
       "  <tbody>\n",
       "    <tr>\n",
       "      <th>EmployeeID</th>\n",
       "      <td>16</td>\n",
       "      <td>16</td>\n",
       "      <td>100</td>\n",
       "      <td>1</td>\n",
       "    </tr>\n",
       "    <tr>\n",
       "      <th>Name</th>\n",
       "      <td>16</td>\n",
       "      <td>16</td>\n",
       "      <td>Davis</td>\n",
       "      <td>1</td>\n",
       "    </tr>\n",
       "    <tr>\n",
       "      <th>Gender</th>\n",
       "      <td>16</td>\n",
       "      <td>2</td>\n",
       "      <td>M</td>\n",
       "      <td>9</td>\n",
       "    </tr>\n",
       "    <tr>\n",
       "      <th>JobTitle</th>\n",
       "      <td>16</td>\n",
       "      <td>14</td>\n",
       "      <td>Technician</td>\n",
       "      <td>3</td>\n",
       "    </tr>\n",
       "    <tr>\n",
       "      <th>Address</th>\n",
       "      <td>16</td>\n",
       "      <td>16</td>\n",
       "      <td>10, Main Street, Naas, Co. Kildare</td>\n",
       "      <td>1</td>\n",
       "    </tr>\n",
       "  </tbody>\n",
       "</table>\n",
       "</div>"
      ],
      "text/plain": [
       "           count unique                                 top freq\n",
       "EmployeeID    16     16                                 100    1\n",
       "Name          16     16                               Davis    1\n",
       "Gender        16      2                                   M    9\n",
       "JobTitle      16     14                          Technician    3\n",
       "Address       16     16  10, Main Street, Naas, Co. Kildare    1"
      ]
     },
     "execution_count": 23,
     "metadata": {},
     "output_type": "execute_result"
    }
   ],
   "source": [
    "DF_DW_dataset.select_dtypes(['category']).describe().T"
   ]
  },
  {
   "cell_type": "code",
   "execution_count": 24,
   "id": "9f9d8842",
   "metadata": {},
   "outputs": [
    {
     "data": {
      "text/html": [
       "<div>\n",
       "<style scoped>\n",
       "    .dataframe tbody tr th:only-of-type {\n",
       "        vertical-align: middle;\n",
       "    }\n",
       "\n",
       "    .dataframe tbody tr th {\n",
       "        vertical-align: top;\n",
       "    }\n",
       "\n",
       "    .dataframe thead th {\n",
       "        text-align: right;\n",
       "    }\n",
       "</style>\n",
       "<table border=\"1\" class=\"dataframe\">\n",
       "  <thead>\n",
       "    <tr style=\"text-align: right;\">\n",
       "      <th></th>\n",
       "      <th>count</th>\n",
       "      <th>mean</th>\n",
       "      <th>std</th>\n",
       "      <th>min</th>\n",
       "      <th>25%</th>\n",
       "      <th>50%</th>\n",
       "      <th>75%</th>\n",
       "      <th>max</th>\n",
       "    </tr>\n",
       "  </thead>\n",
       "  <tbody>\n",
       "    <tr>\n",
       "      <th>Salary</th>\n",
       "      <td>16.0</td>\n",
       "      <td>54312.5</td>\n",
       "      <td>24082.410594</td>\n",
       "      <td>22000.0</td>\n",
       "      <td>32250.0</td>\n",
       "      <td>50000.0</td>\n",
       "      <td>72000.0</td>\n",
       "      <td>100000.0</td>\n",
       "    </tr>\n",
       "  </tbody>\n",
       "</table>\n",
       "</div>"
      ],
      "text/plain": [
       "        count     mean           std      min      25%      50%      75%  \\\n",
       "Salary   16.0  54312.5  24082.410594  22000.0  32250.0  50000.0  72000.0   \n",
       "\n",
       "             max  \n",
       "Salary  100000.0  "
      ]
     },
     "execution_count": 24,
     "metadata": {},
     "output_type": "execute_result"
    }
   ],
   "source": [
    "DF_DW_dataset.describe().T"
   ]
  },
  {
   "cell_type": "code",
   "execution_count": 25,
   "id": "29fe941e",
   "metadata": {},
   "outputs": [],
   "source": [
    "#source: https://online.stat.psu.edu/stat200/lesson/3/3.2\n",
    "def outlier_ranges(df_attribute):\n",
    "    sorted(df_attribute)\n",
    "    Q1=df_attribute.quantile(0.25)\n",
    "    Q3=df_attribute.quantile(0.75)\n",
    "    IQR = Q3 - Q1\n",
    "    lower_range = Q1 - (1.5 * IQR)\n",
    "    upper_range = Q3 + (1.5 * IQR)\n",
    "    return lower_range,upper_range"
   ]
  },
  {
   "cell_type": "code",
   "execution_count": 26,
   "id": "2bbc573c",
   "metadata": {},
   "outputs": [],
   "source": [
    "lower_range,upper_range = outlier_ranges(DF_DW_dataset.Salary)"
   ]
  },
  {
   "cell_type": "code",
   "execution_count": 27,
   "id": "791f154b",
   "metadata": {},
   "outputs": [
    {
     "name": "stdout",
     "output_type": "stream",
     "text": [
      "lower_range:  -27375.0  upper_range:  131625.0\n"
     ]
    }
   ],
   "source": [
    "print(\"lower_range: \",lower_range, \" upper_range: \",upper_range )"
   ]
  },
  {
   "cell_type": "code",
   "execution_count": 28,
   "id": "b7771b69",
   "metadata": {},
   "outputs": [
    {
     "name": "stdout",
     "output_type": "stream",
     "text": [
      "22000 100000\n"
     ]
    }
   ],
   "source": [
    "print(min(list(DF_DW_dataset['Salary'])),max((list(DF_DW_dataset['Salary']))))"
   ]
  },
  {
   "cell_type": "markdown",
   "id": "d7b38332",
   "metadata": {},
   "source": [
    "According to above calculations since min value is above lower range and max value is below upper range there is no outlier in Salary according to IQR rule. "
   ]
  },
  {
   "cell_type": "code",
   "execution_count": 29,
   "id": "4249857d",
   "metadata": {},
   "outputs": [],
   "source": [
    "DF_input_DW_data=pd.read_csv('input_DW_data.csv')"
   ]
  },
  {
   "cell_type": "code",
   "execution_count": 30,
   "id": "e9eb32c4",
   "metadata": {},
   "outputs": [
    {
     "data": {
      "text/plain": [
       "(9, 5)"
      ]
     },
     "execution_count": 30,
     "metadata": {},
     "output_type": "execute_result"
    }
   ],
   "source": [
    "DF_input_DW_data.shape"
   ]
  },
  {
   "cell_type": "code",
   "execution_count": 31,
   "id": "6c81aabb",
   "metadata": {},
   "outputs": [
    {
     "data": {
      "text/html": [
       "<div>\n",
       "<style scoped>\n",
       "    .dataframe tbody tr th:only-of-type {\n",
       "        vertical-align: middle;\n",
       "    }\n",
       "\n",
       "    .dataframe tbody tr th {\n",
       "        vertical-align: top;\n",
       "    }\n",
       "\n",
       "    .dataframe thead th {\n",
       "        text-align: right;\n",
       "    }\n",
       "</style>\n",
       "<table border=\"1\" class=\"dataframe\">\n",
       "  <thead>\n",
       "    <tr style=\"text-align: right;\">\n",
       "      <th></th>\n",
       "      <th>name</th>\n",
       "      <th>course</th>\n",
       "      <th>semester</th>\n",
       "      <th>instructor</th>\n",
       "      <th>avg_grade</th>\n",
       "    </tr>\n",
       "  </thead>\n",
       "  <tbody>\n",
       "    <tr>\n",
       "      <th>0</th>\n",
       "      <td>A</td>\n",
       "      <td>Eng</td>\n",
       "      <td>1</td>\n",
       "      <td>X</td>\n",
       "      <td>76</td>\n",
       "    </tr>\n",
       "    <tr>\n",
       "      <th>1</th>\n",
       "      <td>B</td>\n",
       "      <td>CS</td>\n",
       "      <td>1</td>\n",
       "      <td>Y</td>\n",
       "      <td>66</td>\n",
       "    </tr>\n",
       "    <tr>\n",
       "      <th>2</th>\n",
       "      <td>C</td>\n",
       "      <td>CS</td>\n",
       "      <td>1</td>\n",
       "      <td>Y</td>\n",
       "      <td>91</td>\n",
       "    </tr>\n",
       "    <tr>\n",
       "      <th>3</th>\n",
       "      <td>B</td>\n",
       "      <td>CS</td>\n",
       "      <td>2</td>\n",
       "      <td>Z</td>\n",
       "      <td>57</td>\n",
       "    </tr>\n",
       "    <tr>\n",
       "      <th>4</th>\n",
       "      <td>C</td>\n",
       "      <td>CS</td>\n",
       "      <td>2</td>\n",
       "      <td>Z</td>\n",
       "      <td>88</td>\n",
       "    </tr>\n",
       "    <tr>\n",
       "      <th>5</th>\n",
       "      <td>A</td>\n",
       "      <td>Eng</td>\n",
       "      <td>2</td>\n",
       "      <td>X</td>\n",
       "      <td>84</td>\n",
       "    </tr>\n",
       "    <tr>\n",
       "      <th>6</th>\n",
       "      <td>B</td>\n",
       "      <td>CS</td>\n",
       "      <td>3</td>\n",
       "      <td>Y</td>\n",
       "      <td>51</td>\n",
       "    </tr>\n",
       "    <tr>\n",
       "      <th>7</th>\n",
       "      <td>A</td>\n",
       "      <td>Eng</td>\n",
       "      <td>3</td>\n",
       "      <td>X</td>\n",
       "      <td>61</td>\n",
       "    </tr>\n",
       "    <tr>\n",
       "      <th>8</th>\n",
       "      <td>C</td>\n",
       "      <td>CS</td>\n",
       "      <td>3</td>\n",
       "      <td>Y</td>\n",
       "      <td>81</td>\n",
       "    </tr>\n",
       "  </tbody>\n",
       "</table>\n",
       "</div>"
      ],
      "text/plain": [
       "  name course  semester instructor  avg_grade\n",
       "0    A    Eng         1          X         76\n",
       "1    B     CS         1          Y         66\n",
       "2    C     CS         1          Y         91\n",
       "3    B     CS         2          Z         57\n",
       "4    C     CS         2          Z         88\n",
       "5    A    Eng         2          X         84\n",
       "6    B     CS         3          Y         51\n",
       "7    A    Eng         3          X         61\n",
       "8    C     CS         3          Y         81"
      ]
     },
     "execution_count": 31,
     "metadata": {},
     "output_type": "execute_result"
    }
   ],
   "source": [
    "DF_input_DW_data"
   ]
  },
  {
   "cell_type": "code",
   "execution_count": 32,
   "id": "70794f86",
   "metadata": {},
   "outputs": [
    {
     "name": "stdout",
     "output_type": "stream",
     "text": [
      "<class 'pandas.core.frame.DataFrame'>\n",
      "RangeIndex: 9 entries, 0 to 8\n",
      "Data columns (total 5 columns):\n",
      " #   Column      Non-Null Count  Dtype \n",
      "---  ------      --------------  ----- \n",
      " 0   name        9 non-null      object\n",
      " 1   course      9 non-null      object\n",
      " 2   semester    9 non-null      int64 \n",
      " 3   instructor  9 non-null      object\n",
      " 4   avg_grade   9 non-null      int64 \n",
      "dtypes: int64(2), object(3)\n",
      "memory usage: 488.0+ bytes\n"
     ]
    }
   ],
   "source": [
    "DF_input_DW_data.info()"
   ]
  },
  {
   "cell_type": "code",
   "execution_count": 33,
   "id": "dedc6216",
   "metadata": {},
   "outputs": [
    {
     "data": {
      "text/plain": [
       "name          3\n",
       "course        2\n",
       "semester      3\n",
       "instructor    3\n",
       "avg_grade     9\n",
       "dtype: int64"
      ]
     },
     "execution_count": 33,
     "metadata": {},
     "output_type": "execute_result"
    }
   ],
   "source": [
    "DF_input_DW_data.nunique()"
   ]
  },
  {
   "cell_type": "code",
   "execution_count": 34,
   "id": "5de5a284",
   "metadata": {},
   "outputs": [],
   "source": [
    "DF_input_DW_data.columns = DF_input_DW_data.columns.str.replace(' ', '')"
   ]
  },
  {
   "cell_type": "code",
   "execution_count": 35,
   "id": "c323bff9",
   "metadata": {},
   "outputs": [],
   "source": [
    "DF_input_DW_data_categorical_columns = DF_input_DW_data.select_dtypes(['object']).columns"
   ]
  },
  {
   "cell_type": "code",
   "execution_count": 36,
   "id": "a83d11a0",
   "metadata": {},
   "outputs": [],
   "source": [
    "for column in DF_input_DW_data_categorical_columns:\n",
    "    DF_input_DW_data[column] = DF_input_DW_data[column].astype('category')  "
   ]
  },
  {
   "cell_type": "code",
   "execution_count": 37,
   "id": "bc43e0b5",
   "metadata": {},
   "outputs": [],
   "source": [
    "DF_input_DW_data['semester'] = DF_input_DW_data['semester'].astype('category')  "
   ]
  },
  {
   "cell_type": "code",
   "execution_count": 38,
   "id": "6c672482",
   "metadata": {},
   "outputs": [
    {
     "data": {
      "text/plain": [
       "name          category\n",
       "course        category\n",
       "semester      category\n",
       "instructor    category\n",
       "avg_grade        int64\n",
       "dtype: object"
      ]
     },
     "execution_count": 38,
     "metadata": {},
     "output_type": "execute_result"
    }
   ],
   "source": [
    "DF_input_DW_data.dtypes"
   ]
  },
  {
   "cell_type": "code",
   "execution_count": 39,
   "id": "f217990c",
   "metadata": {},
   "outputs": [
    {
     "data": {
      "text/html": [
       "<div>\n",
       "<style scoped>\n",
       "    .dataframe tbody tr th:only-of-type {\n",
       "        vertical-align: middle;\n",
       "    }\n",
       "\n",
       "    .dataframe tbody tr th {\n",
       "        vertical-align: top;\n",
       "    }\n",
       "\n",
       "    .dataframe thead th {\n",
       "        text-align: right;\n",
       "    }\n",
       "</style>\n",
       "<table border=\"1\" class=\"dataframe\">\n",
       "  <thead>\n",
       "    <tr style=\"text-align: right;\">\n",
       "      <th></th>\n",
       "      <th>count</th>\n",
       "      <th>unique</th>\n",
       "      <th>top</th>\n",
       "      <th>freq</th>\n",
       "    </tr>\n",
       "  </thead>\n",
       "  <tbody>\n",
       "    <tr>\n",
       "      <th>name</th>\n",
       "      <td>9</td>\n",
       "      <td>3</td>\n",
       "      <td>A</td>\n",
       "      <td>3</td>\n",
       "    </tr>\n",
       "    <tr>\n",
       "      <th>course</th>\n",
       "      <td>9</td>\n",
       "      <td>2</td>\n",
       "      <td>CS</td>\n",
       "      <td>6</td>\n",
       "    </tr>\n",
       "    <tr>\n",
       "      <th>semester</th>\n",
       "      <td>9</td>\n",
       "      <td>3</td>\n",
       "      <td>1</td>\n",
       "      <td>3</td>\n",
       "    </tr>\n",
       "    <tr>\n",
       "      <th>instructor</th>\n",
       "      <td>9</td>\n",
       "      <td>3</td>\n",
       "      <td>Y</td>\n",
       "      <td>4</td>\n",
       "    </tr>\n",
       "  </tbody>\n",
       "</table>\n",
       "</div>"
      ],
      "text/plain": [
       "           count unique top freq\n",
       "name           9      3   A    3\n",
       "course         9      2  CS    6\n",
       "semester       9      3   1    3\n",
       "instructor     9      3   Y    4"
      ]
     },
     "execution_count": 39,
     "metadata": {},
     "output_type": "execute_result"
    }
   ],
   "source": [
    "DF_input_DW_data.select_dtypes(['category']).describe().T"
   ]
  },
  {
   "cell_type": "code",
   "execution_count": 40,
   "id": "4cb6be95",
   "metadata": {
    "scrolled": false
   },
   "outputs": [
    {
     "data": {
      "text/html": [
       "<div>\n",
       "<style scoped>\n",
       "    .dataframe tbody tr th:only-of-type {\n",
       "        vertical-align: middle;\n",
       "    }\n",
       "\n",
       "    .dataframe tbody tr th {\n",
       "        vertical-align: top;\n",
       "    }\n",
       "\n",
       "    .dataframe thead th {\n",
       "        text-align: right;\n",
       "    }\n",
       "</style>\n",
       "<table border=\"1\" class=\"dataframe\">\n",
       "  <thead>\n",
       "    <tr style=\"text-align: right;\">\n",
       "      <th></th>\n",
       "      <th>count</th>\n",
       "      <th>mean</th>\n",
       "      <th>std</th>\n",
       "      <th>min</th>\n",
       "      <th>25%</th>\n",
       "      <th>50%</th>\n",
       "      <th>75%</th>\n",
       "      <th>max</th>\n",
       "    </tr>\n",
       "  </thead>\n",
       "  <tbody>\n",
       "    <tr>\n",
       "      <th>avg_grade</th>\n",
       "      <td>9.0</td>\n",
       "      <td>72.777778</td>\n",
       "      <td>14.472196</td>\n",
       "      <td>51.0</td>\n",
       "      <td>61.0</td>\n",
       "      <td>76.0</td>\n",
       "      <td>84.0</td>\n",
       "      <td>91.0</td>\n",
       "    </tr>\n",
       "  </tbody>\n",
       "</table>\n",
       "</div>"
      ],
      "text/plain": [
       "           count       mean        std   min   25%   50%   75%   max\n",
       "avg_grade    9.0  72.777778  14.472196  51.0  61.0  76.0  84.0  91.0"
      ]
     },
     "execution_count": 40,
     "metadata": {},
     "output_type": "execute_result"
    }
   ],
   "source": [
    "DF_input_DW_data.describe().T"
   ]
  },
  {
   "cell_type": "markdown",
   "id": "e39a24a1",
   "metadata": {},
   "source": [
    "No abnormality found at DF_input_DW_data to fix. "
   ]
  },
  {
   "cell_type": "markdown",
   "id": "43c5cb58",
   "metadata": {},
   "source": [
    "### Creating read_sql() function to make OLAP queries into a data frame."
   ]
  },
  {
   "cell_type": "markdown",
   "id": "d2d45994",
   "metadata": {},
   "source": [
    "writing datasets to sql"
   ]
  },
  {
   "cell_type": "code",
   "execution_count": 41,
   "id": "69762cfc",
   "metadata": {},
   "outputs": [],
   "source": [
    "def get_engine():\n",
    "    '''Used to create the engine'''\n",
    "    db_name = credentials.db_database \n",
    "    uri = credentials.db_uri\n",
    "    user = credentials.db_user\n",
    "    password = credentials.db_password\n",
    "    port = credentials.db_port\n",
    "    return create_engine(f\"postgresql://{user}:{password}@{uri}:{port}/{db_name}\",echo=False)"
   ]
  },
  {
   "cell_type": "code",
   "execution_count": 42,
   "id": "e5e91152",
   "metadata": {},
   "outputs": [],
   "source": [
    "def add_tables(df_tables,table_names):\n",
    "    engine = get_engine()\n",
    "    for i in range(len(df_tables)):\n",
    "        df_tables[i].to_sql(table_names[i], con=engine, if_exists='replace',index=False)"
   ]
  },
  {
   "cell_type": "code",
   "execution_count": 43,
   "id": "2f3cfa2e",
   "metadata": {},
   "outputs": [],
   "source": [
    "add_tables([DF_DW_dataset],['dw_dataset'])"
   ]
  },
  {
   "cell_type": "markdown",
   "id": "44197754",
   "metadata": {},
   "source": [
    "### Exploring DB with set of queries."
   ]
  },
  {
   "cell_type": "markdown",
   "id": "36ed4ff5",
   "metadata": {},
   "source": [
    "####  Calculating the average salary of management staff for males and females separately by consider all directors and managers in ‘Management’ and all technicians in the ‘Technical’ staff category."
   ]
  },
  {
   "cell_type": "markdown",
   "id": "d558287c",
   "metadata": {},
   "source": [
    "average salary of management staff for males"
   ]
  },
  {
   "cell_type": "code",
   "execution_count": 44,
   "id": "b4bef00d",
   "metadata": {},
   "outputs": [
    {
     "data": {
      "text/plain": [
       "'select AVG(\"Salary\") from public.dw_dataset where \"Gender\" = \\'M\\' and \"JobTitle\" LIKE \\'%%Director%%\\''"
      ]
     },
     "execution_count": 44,
     "metadata": {},
     "output_type": "execute_result"
    }
   ],
   "source": [
    "query1='select AVG('+'\"Salary\"'+') from public.dw_dataset where' +' \"Gender\" = '+\"'\"+ 'M'+\"'\"+' and \"JobTitle\" LIKE '+\"'\"+ '%%Director%%'+\"'\"\n",
    "query1"
   ]
  },
  {
   "cell_type": "code",
   "execution_count": 45,
   "id": "c55d3be9",
   "metadata": {
    "scrolled": false
   },
   "outputs": [
    {
     "data": {
      "text/html": [
       "<div>\n",
       "<style scoped>\n",
       "    .dataframe tbody tr th:only-of-type {\n",
       "        vertical-align: middle;\n",
       "    }\n",
       "\n",
       "    .dataframe tbody tr th {\n",
       "        vertical-align: top;\n",
       "    }\n",
       "\n",
       "    .dataframe thead th {\n",
       "        text-align: right;\n",
       "    }\n",
       "</style>\n",
       "<table border=\"1\" class=\"dataframe\">\n",
       "  <thead>\n",
       "    <tr style=\"text-align: right;\">\n",
       "      <th></th>\n",
       "      <th>avg</th>\n",
       "    </tr>\n",
       "  </thead>\n",
       "  <tbody>\n",
       "    <tr>\n",
       "      <th>0</th>\n",
       "      <td>72500.0</td>\n",
       "    </tr>\n",
       "  </tbody>\n",
       "</table>\n",
       "</div>"
      ],
      "text/plain": [
       "       avg\n",
       "0  72500.0"
      ]
     },
     "execution_count": 45,
     "metadata": {},
     "output_type": "execute_result"
    }
   ],
   "source": [
    "DW_dataset_avg_salary_man_mal= pd.read_sql(query1, get_engine());\n",
    "DW_dataset_avg_salary_man_mal"
   ]
  },
  {
   "cell_type": "markdown",
   "id": "df1c61c4",
   "metadata": {},
   "source": [
    "average salary of management staff for females"
   ]
  },
  {
   "cell_type": "code",
   "execution_count": 46,
   "id": "6b824450",
   "metadata": {},
   "outputs": [
    {
     "data": {
      "text/plain": [
       "'select AVG(\"Salary\") from public.dw_dataset where \"Gender\" = \\'F\\' and \"JobTitle\" LIKE \\'%%Director%%\\''"
      ]
     },
     "execution_count": 46,
     "metadata": {},
     "output_type": "execute_result"
    }
   ],
   "source": [
    "query2='select AVG('+'\"Salary\"'+') from public.dw_dataset where' +' \"Gender\" = '+\"'\"+ 'F'+\"'\"+' and \"JobTitle\" LIKE '+\"'\"+ '%%Director%%'+\"'\"\n",
    "query2"
   ]
  },
  {
   "cell_type": "code",
   "execution_count": 47,
   "id": "0a3c6357",
   "metadata": {
    "scrolled": true
   },
   "outputs": [
    {
     "data": {
      "text/html": [
       "<div>\n",
       "<style scoped>\n",
       "    .dataframe tbody tr th:only-of-type {\n",
       "        vertical-align: middle;\n",
       "    }\n",
       "\n",
       "    .dataframe tbody tr th {\n",
       "        vertical-align: top;\n",
       "    }\n",
       "\n",
       "    .dataframe thead th {\n",
       "        text-align: right;\n",
       "    }\n",
       "</style>\n",
       "<table border=\"1\" class=\"dataframe\">\n",
       "  <thead>\n",
       "    <tr style=\"text-align: right;\">\n",
       "      <th></th>\n",
       "      <th>avg</th>\n",
       "    </tr>\n",
       "  </thead>\n",
       "  <tbody>\n",
       "    <tr>\n",
       "      <th>0</th>\n",
       "      <td>74000.0</td>\n",
       "    </tr>\n",
       "  </tbody>\n",
       "</table>\n",
       "</div>"
      ],
      "text/plain": [
       "       avg\n",
       "0  74000.0"
      ]
     },
     "execution_count": 47,
     "metadata": {},
     "output_type": "execute_result"
    }
   ],
   "source": [
    "DW_dataset_avg_salary_man_fem= pd.read_sql(query2, get_engine());\n",
    "DW_dataset_avg_salary_man_fem"
   ]
  },
  {
   "cell_type": "markdown",
   "id": "2a1e6bfc",
   "metadata": {},
   "source": [
    "#### Calculate the difference in average salaries of employees between the counties of Kildare and Dublin"
   ]
  },
  {
   "cell_type": "code",
   "execution_count": 48,
   "id": "ee0349b4",
   "metadata": {},
   "outputs": [
    {
     "data": {
      "text/plain": [
       "'Select((select AVG(\"Salary\") from public.dw_dataset where\"Address\" LIKE \\'%%Kildare%%\\')-(select AVG(\"Salary\") from public.dw_dataset where\"Address\" LIKE \\'%%Dublin%%\\'))'"
      ]
     },
     "execution_count": 48,
     "metadata": {},
     "output_type": "execute_result"
    }
   ],
   "source": [
    "query3='Select((select AVG('+'\"Salary\"'+') from public.dw_dataset where' +'\"Address\" LIKE '+\"'\"+ '%%Kildare%%'+\"')-\"+'(select AVG('+'\"Salary\"'+') from public.dw_dataset where' +'\"Address\" LIKE '+\"'\"+ '%%Dublin%%'+\"'))\"\n",
    "query3"
   ]
  },
  {
   "cell_type": "code",
   "execution_count": 49,
   "id": "43df1f58",
   "metadata": {
    "scrolled": true
   },
   "outputs": [
    {
     "data": {
      "text/html": [
       "<div>\n",
       "<style scoped>\n",
       "    .dataframe tbody tr th:only-of-type {\n",
       "        vertical-align: middle;\n",
       "    }\n",
       "\n",
       "    .dataframe tbody tr th {\n",
       "        vertical-align: top;\n",
       "    }\n",
       "\n",
       "    .dataframe thead th {\n",
       "        text-align: right;\n",
       "    }\n",
       "</style>\n",
       "<table border=\"1\" class=\"dataframe\">\n",
       "  <thead>\n",
       "    <tr style=\"text-align: right;\">\n",
       "      <th></th>\n",
       "      <th>?column?</th>\n",
       "    </tr>\n",
       "  </thead>\n",
       "  <tbody>\n",
       "    <tr>\n",
       "      <th>0</th>\n",
       "      <td>11766.666667</td>\n",
       "    </tr>\n",
       "  </tbody>\n",
       "</table>\n",
       "</div>"
      ],
      "text/plain": [
       "       ?column?\n",
       "0  11766.666667"
      ]
     },
     "execution_count": 49,
     "metadata": {},
     "output_type": "execute_result"
    }
   ],
   "source": [
    "DW_dataset_avg_salary_kil_dub= pd.read_sql(query3, get_engine());\n",
    "DW_dataset_avg_salary_kil_dub"
   ]
  },
  {
   "cell_type": "markdown",
   "id": "59759602",
   "metadata": {},
   "source": [
    "#### Number of people are employed at the end of 2002 who were born in the 1970s, 1980s and 1990s ( assuming 2022 was a typo as nobody joined in 2022 in this dataset)"
   ]
  },
  {
   "cell_type": "code",
   "execution_count": 50,
   "id": "a47ec06a",
   "metadata": {},
   "outputs": [
    {
     "data": {
      "text/plain": [
       "'select EXTRACT(DECADE FROM \"DateofBirth\" ) , COUNT(\"EmployeeID\") from public.dw_dataset where EXTRACT(DECADE FROM \"DateofBirth\" )= \\'197\\' or EXTRACT(DECADE FROM \"DateofBirth\" )= \\'198\\' or EXTRACT(DECADE FROM \"DateofBirth\" )= \\'199\\'and EXTRACT(YEAR FROM \"DateJoined\" )= \\'2002\\' group by EXTRACT(DECADE FROM \"DateofBirth\" )'"
      ]
     },
     "execution_count": 50,
     "metadata": {},
     "output_type": "execute_result"
    }
   ],
   "source": [
    "query4='select EXTRACT(DECADE FROM \"DateofBirth\" ) , COUNT(\"EmployeeID\") from public.dw_dataset where '+ 'EXTRACT(DECADE FROM \"DateofBirth\" )= '+\"'\"+'197'+\"'\"+ ' or '+'EXTRACT(DECADE FROM \"DateofBirth\" )= '+\"'\"+'198'+\"'\"+ ' or '+'EXTRACT(DECADE FROM \"DateofBirth\" )= '+\"'\"+'199'+\"'\"+ 'and EXTRACT(YEAR FROM \"DateJoined\" )= '+\"'\"+'2002'+\"'\"+' group by EXTRACT(DECADE FROM \"DateofBirth\" )'\n",
    "query4"
   ]
  },
  {
   "cell_type": "code",
   "execution_count": 51,
   "id": "ff496fb5",
   "metadata": {
    "scrolled": true
   },
   "outputs": [
    {
     "data": {
      "text/html": [
       "<div>\n",
       "<style scoped>\n",
       "    .dataframe tbody tr th:only-of-type {\n",
       "        vertical-align: middle;\n",
       "    }\n",
       "\n",
       "    .dataframe tbody tr th {\n",
       "        vertical-align: top;\n",
       "    }\n",
       "\n",
       "    .dataframe thead th {\n",
       "        text-align: right;\n",
       "    }\n",
       "</style>\n",
       "<table border=\"1\" class=\"dataframe\">\n",
       "  <thead>\n",
       "    <tr style=\"text-align: right;\">\n",
       "      <th></th>\n",
       "      <th>date_part</th>\n",
       "      <th>count</th>\n",
       "    </tr>\n",
       "  </thead>\n",
       "  <tbody>\n",
       "    <tr>\n",
       "      <th>0</th>\n",
       "      <td>197.0</td>\n",
       "      <td>5</td>\n",
       "    </tr>\n",
       "    <tr>\n",
       "      <th>1</th>\n",
       "      <td>198.0</td>\n",
       "      <td>6</td>\n",
       "    </tr>\n",
       "    <tr>\n",
       "      <th>2</th>\n",
       "      <td>199.0</td>\n",
       "      <td>2</td>\n",
       "    </tr>\n",
       "  </tbody>\n",
       "</table>\n",
       "</div>"
      ],
      "text/plain": [
       "   date_part  count\n",
       "0      197.0      5\n",
       "1      198.0      6\n",
       "2      199.0      2"
      ]
     },
     "execution_count": 51,
     "metadata": {},
     "output_type": "execute_result"
    }
   ],
   "source": [
    "DW_dataset_emp_2002_197= pd.read_sql(query4, get_engine());\n",
    "DW_dataset_emp_2002_197"
   ]
  },
  {
   "cell_type": "markdown",
   "id": "44b94503",
   "metadata": {},
   "source": [
    "#### Given the employee retention rate is the % of staff who stayed during a period (compared to the beginning of that period), the employee retention rates in 2001 and 2002 are :"
   ]
  },
  {
   "cell_type": "markdown",
   "id": "73e2371c",
   "metadata": {},
   "source": [
    "what are the employee retention rates in 2001 ?"
   ]
  },
  {
   "cell_type": "code",
   "execution_count": 52,
   "id": "83d4d56b",
   "metadata": {},
   "outputs": [
    {
     "data": {
      "text/plain": [
       "'Select((((select COUNT(\"EmployeeID\") from public.dw_dataset where  (EXTRACT(YEAR FROM \"DateLeft\" )> \\'2001\\' or \"DateLeft\" is null) and (EXTRACT(YEAR FROM \"DateJoined\" )<= \\'2001\\' ))-(select COUNT(\"EmployeeID\") from public.dw_dataset where (EXTRACT(YEAR FROM \"DateLeft\" )= \\'2001\\' ) and (EXTRACT(YEAR FROM \"DateJoined\" )< \\'2001\\' )))/(select COUNT(\"EmployeeID\") from public.dw_dataset where (EXTRACT(YEAR FROM \"DateLeft\" )> \\'2001\\' or \"DateLeft\" is null) and (EXTRACT(YEAR FROM \"DateJoined\" )<= \\'2001\\' )))*100)'"
      ]
     },
     "execution_count": 52,
     "metadata": {},
     "output_type": "execute_result"
    }
   ],
   "source": [
    "query5= 'Select((((select COUNT(\"EmployeeID\") from public.dw_dataset where '+' (EXTRACT(YEAR FROM \"DateLeft\" )> '+\"'\"+'2001'+\"'\"+ ' or \"DateLeft\" is null) and (EXTRACT(YEAR FROM \"DateJoined\" )<= '+\"'\"+'2001'+\"'\"+' ))-(select COUNT(\"EmployeeID\") from public.dw_dataset where '+'(EXTRACT(YEAR FROM \"DateLeft\" )= '+\"'\"+'2001'+\"'\"+' ) and (EXTRACT(YEAR FROM \"DateJoined\" )< '+\"'\"+'2001'+\"'\"+ ' )))/(select COUNT(\"EmployeeID\") from public.dw_dataset where (EXTRACT(YEAR FROM \"DateLeft\" )> '+\"'\"+'2001'+\"'\"+ ' or \"DateLeft\" is null) and (EXTRACT(YEAR FROM \"DateJoined\" )<= '+\"'\"+'2001'+\"'\"+ ' )))*100)'\n",
    "query5"
   ]
  },
  {
   "cell_type": "code",
   "execution_count": 53,
   "id": "68745d1a",
   "metadata": {
    "scrolled": true
   },
   "outputs": [
    {
     "data": {
      "text/html": [
       "<div>\n",
       "<style scoped>\n",
       "    .dataframe tbody tr th:only-of-type {\n",
       "        vertical-align: middle;\n",
       "    }\n",
       "\n",
       "    .dataframe tbody tr th {\n",
       "        vertical-align: top;\n",
       "    }\n",
       "\n",
       "    .dataframe thead th {\n",
       "        text-align: right;\n",
       "    }\n",
       "</style>\n",
       "<table border=\"1\" class=\"dataframe\">\n",
       "  <thead>\n",
       "    <tr style=\"text-align: right;\">\n",
       "      <th></th>\n",
       "      <th>?column?</th>\n",
       "    </tr>\n",
       "  </thead>\n",
       "  <tbody>\n",
       "    <tr>\n",
       "      <th>0</th>\n",
       "      <td>100</td>\n",
       "    </tr>\n",
       "  </tbody>\n",
       "</table>\n",
       "</div>"
      ],
      "text/plain": [
       "   ?column?\n",
       "0       100"
      ]
     },
     "execution_count": 53,
     "metadata": {},
     "output_type": "execute_result"
    }
   ],
   "source": [
    "DW_dataset_emp_ret_2001= pd.read_sql(query5, get_engine());\n",
    "DW_dataset_emp_ret_2001"
   ]
  },
  {
   "cell_type": "markdown",
   "id": "e005825f",
   "metadata": {},
   "source": [
    "what are the employee retention rates in 2002?"
   ]
  },
  {
   "cell_type": "code",
   "execution_count": 54,
   "id": "39d5a33e",
   "metadata": {
    "scrolled": true
   },
   "outputs": [
    {
     "data": {
      "text/plain": [
       "'Select((cast((select COUNT(\"EmployeeID\") from public.dw_dataset where  (EXTRACT(YEAR FROM \"DateLeft\" )> \\'2002\\' or \"DateLeft\" is null) and (EXTRACT(YEAR FROM \"DateJoined\" )<= \\'2002\\' ))-(select COUNT(\"EmployeeID\") from public.dw_dataset where (EXTRACT(YEAR FROM \"DateLeft\" )= \\'2002\\' ) and (EXTRACT(YEAR FROM \"DateJoined\" )< \\'2002\\' ))as decimal)/(select COUNT(\"EmployeeID\") from public.dw_dataset where (EXTRACT(YEAR FROM \"DateLeft\" )> \\'2002\\' or \"DateLeft\" is null) and (EXTRACT(YEAR FROM \"DateJoined\" )<= \\'2002\\' )))*100)'"
      ]
     },
     "execution_count": 54,
     "metadata": {},
     "output_type": "execute_result"
    }
   ],
   "source": [
    "query6= 'Select((cast((select COUNT(\"EmployeeID\") from public.dw_dataset where '+' (EXTRACT(YEAR FROM \"DateLeft\" )> '+\"'\"+'2002'+\"'\"+ ' or \"DateLeft\" is null) and (EXTRACT(YEAR FROM \"DateJoined\" )<= '+\"'\"+'2002'+\"'\"+' ))-(select COUNT(\"EmployeeID\") from public.dw_dataset where '+'(EXTRACT(YEAR FROM \"DateLeft\" )= '+\"'\"+'2002'+\"'\"+' ) and (EXTRACT(YEAR FROM \"DateJoined\" )< '+\"'\"+'2002'+\"'\"+ ' ))as decimal)/(select COUNT(\"EmployeeID\") from public.dw_dataset where (EXTRACT(YEAR FROM \"DateLeft\" )> '+\"'\"+'2002'+\"'\"+ ' or \"DateLeft\" is null) and (EXTRACT(YEAR FROM \"DateJoined\" )<= '+\"'\"+'2002'+\"'\"+ ' )))*100)'\n",
    "query6"
   ]
  },
  {
   "cell_type": "code",
   "execution_count": 55,
   "id": "efa1e116",
   "metadata": {
    "scrolled": true
   },
   "outputs": [
    {
     "data": {
      "text/html": [
       "<div>\n",
       "<style scoped>\n",
       "    .dataframe tbody tr th:only-of-type {\n",
       "        vertical-align: middle;\n",
       "    }\n",
       "\n",
       "    .dataframe tbody tr th {\n",
       "        vertical-align: top;\n",
       "    }\n",
       "\n",
       "    .dataframe thead th {\n",
       "        text-align: right;\n",
       "    }\n",
       "</style>\n",
       "<table border=\"1\" class=\"dataframe\">\n",
       "  <thead>\n",
       "    <tr style=\"text-align: right;\">\n",
       "      <th></th>\n",
       "      <th>?column?</th>\n",
       "    </tr>\n",
       "  </thead>\n",
       "  <tbody>\n",
       "    <tr>\n",
       "      <th>0</th>\n",
       "      <td>75.0</td>\n",
       "    </tr>\n",
       "  </tbody>\n",
       "</table>\n",
       "</div>"
      ],
      "text/plain": [
       "   ?column?\n",
       "0      75.0"
      ]
     },
     "execution_count": 55,
     "metadata": {},
     "output_type": "execute_result"
    }
   ],
   "source": [
    "DW_dataset_emp_ret_2002= pd.read_sql(query6, get_engine());\n",
    "DW_dataset_emp_ret_2002"
   ]
  },
  {
   "cell_type": "markdown",
   "id": "f3a488a6",
   "metadata": {},
   "source": [
    "#### Retention rates based on the quarter of the years 2001 and 2002."
   ]
  },
  {
   "cell_type": "markdown",
   "id": "a7349b8e",
   "metadata": {},
   "source": [
    "retention rates based on the quarter of the year 2002."
   ]
  },
  {
   "cell_type": "code",
   "execution_count": 56,
   "id": "ebdbabeb",
   "metadata": {
    "scrolled": true
   },
   "outputs": [
    {
     "data": {
      "text/html": [
       "<div>\n",
       "<style scoped>\n",
       "    .dataframe tbody tr th:only-of-type {\n",
       "        vertical-align: middle;\n",
       "    }\n",
       "\n",
       "    .dataframe tbody tr th {\n",
       "        vertical-align: top;\n",
       "    }\n",
       "\n",
       "    .dataframe thead th {\n",
       "        text-align: right;\n",
       "    }\n",
       "</style>\n",
       "<table border=\"1\" class=\"dataframe\">\n",
       "  <thead>\n",
       "    <tr style=\"text-align: right;\">\n",
       "      <th></th>\n",
       "      <th>?column?</th>\n",
       "      <th>quarter</th>\n",
       "    </tr>\n",
       "  </thead>\n",
       "  <tbody>\n",
       "    <tr>\n",
       "      <th>0</th>\n",
       "      <td>93.333333</td>\n",
       "      <td>1</td>\n",
       "    </tr>\n",
       "    <tr>\n",
       "      <th>0</th>\n",
       "      <td>92.857143</td>\n",
       "      <td>2</td>\n",
       "    </tr>\n",
       "    <tr>\n",
       "      <th>0</th>\n",
       "      <td>92.307692</td>\n",
       "      <td>3</td>\n",
       "    </tr>\n",
       "    <tr>\n",
       "      <th>0</th>\n",
       "      <td>100.000000</td>\n",
       "      <td>4</td>\n",
       "    </tr>\n",
       "  </tbody>\n",
       "</table>\n",
       "</div>"
      ],
      "text/plain": [
       "     ?column? quarter\n",
       "0   93.333333       1\n",
       "0   92.857143       2\n",
       "0   92.307692       3\n",
       "0  100.000000       4"
      ]
     },
     "execution_count": 56,
     "metadata": {},
     "output_type": "execute_result"
    }
   ],
   "source": [
    "DW_dataset_emp_ret_2002_q = pd.DataFrame()\n",
    "for q in range(1,5):\n",
    "    q=str(q)\n",
    "    query7='Select((cast((select COUNT(\"EmployeeID\") from public.dw_dataset where (EXTRACT(YEAR FROM \"DateLeft\" )>'+\"'\"+'2002'+\"'\"+' or \"DateLeft\" is null or (EXTRACT(YEAR FROM \"DateLeft\" )='+\"'\"+'2002'+\"'\"+' and EXTRACT(QUARTER FROM \"DateLeft\" )>'+\"'\"+q+\"'\"+')) and ((EXTRACT(YEAR FROM \"DateJoined\" )<='+\"'\"+'2002'+\"'\"+') or ((EXTRACT(YEAR FROM \"DateJoined\" )='+\"'\"+'2002'+\"'\"+')and EXTRACT(QUARTER FROM \"DateLeft\" )<'+\"'\"+q+\"'\"+'))) - (select COUNT(\"EmployeeID\") from public.dw_dataset where (EXTRACT(YEAR FROM \"DateLeft\" )='+\"'\"+'2002'+\"'\"+') and (EXTRACT(QUARTER FROM \"DateLeft\" )='+\"'\"+q+\"'\"+') and (EXTRACT(YEAR FROM \"DateJoined\" )<'+\"'\"+'2002'+\"'\"+'))as decimal)/(select COUNT(\"EmployeeID\") from public.dw_dataset where (EXTRACT(YEAR FROM \"DateLeft\" )>'+\"'\"+'2002'+\"'\"+' or \"DateLeft\" is null or (EXTRACT(YEAR FROM \"DateLeft\" )='+\"'\"+'2002'+\"'\"+' and EXTRACT(QUARTER FROM \"DateLeft\" )>'+\"'\"+q+\"'\"+')) and ((EXTRACT(YEAR FROM \"DateJoined\" )<='+\"'\"+'2002'+\"'\"+') or ((EXTRACT(YEAR FROM \"DateJoined\" )='+\"'\"+'2002'+\"'\"+')and EXTRACT(QUARTER FROM \"DateLeft\" )<'+\"'\"+q+\"'\"+'))))*100)'\n",
    "    data=pd.read_sql(query7, get_engine())\n",
    "    data['quarter']=q\n",
    "    DW_dataset_emp_ret_2002_q=DW_dataset_emp_ret_2002_q.append(data)\n",
    "DW_dataset_emp_ret_2002_q"
   ]
  },
  {
   "cell_type": "markdown",
   "id": "31f47234",
   "metadata": {},
   "source": [
    "retention rates based on the quarter of the years 2001."
   ]
  },
  {
   "cell_type": "code",
   "execution_count": 57,
   "id": "4d0dc5a4",
   "metadata": {},
   "outputs": [
    {
     "data": {
      "text/html": [
       "<div>\n",
       "<style scoped>\n",
       "    .dataframe tbody tr th:only-of-type {\n",
       "        vertical-align: middle;\n",
       "    }\n",
       "\n",
       "    .dataframe tbody tr th {\n",
       "        vertical-align: top;\n",
       "    }\n",
       "\n",
       "    .dataframe thead th {\n",
       "        text-align: right;\n",
       "    }\n",
       "</style>\n",
       "<table border=\"1\" class=\"dataframe\">\n",
       "  <thead>\n",
       "    <tr style=\"text-align: right;\">\n",
       "      <th></th>\n",
       "      <th>?column?</th>\n",
       "      <th>quarter</th>\n",
       "    </tr>\n",
       "  </thead>\n",
       "  <tbody>\n",
       "    <tr>\n",
       "      <th>0</th>\n",
       "      <td>100.0</td>\n",
       "      <td>1</td>\n",
       "    </tr>\n",
       "    <tr>\n",
       "      <th>0</th>\n",
       "      <td>100.0</td>\n",
       "      <td>2</td>\n",
       "    </tr>\n",
       "    <tr>\n",
       "      <th>0</th>\n",
       "      <td>100.0</td>\n",
       "      <td>3</td>\n",
       "    </tr>\n",
       "    <tr>\n",
       "      <th>0</th>\n",
       "      <td>100.0</td>\n",
       "      <td>4</td>\n",
       "    </tr>\n",
       "  </tbody>\n",
       "</table>\n",
       "</div>"
      ],
      "text/plain": [
       "   ?column? quarter\n",
       "0     100.0       1\n",
       "0     100.0       2\n",
       "0     100.0       3\n",
       "0     100.0       4"
      ]
     },
     "execution_count": 57,
     "metadata": {},
     "output_type": "execute_result"
    }
   ],
   "source": [
    "DW_dataset_emp_ret_2001_q = pd.DataFrame()\n",
    "for q in range(1,5):\n",
    "    q=str(q)\n",
    "    query7='Select((cast((select COUNT(\"EmployeeID\") from public.dw_dataset where (EXTRACT(YEAR FROM \"DateLeft\" )>'+\"'\"+'2001'+\"'\"+' or \"DateLeft\" is null or (EXTRACT(YEAR FROM \"DateLeft\" )='+\"'\"+'2001'+\"'\"+' and EXTRACT(QUARTER FROM \"DateLeft\" )>'+\"'\"+q+\"'\"+')) and ((EXTRACT(YEAR FROM \"DateJoined\" )<='+\"'\"+'2001'+\"'\"+') or ((EXTRACT(YEAR FROM \"DateJoined\" )='+\"'\"+'2001'+\"'\"+')and EXTRACT(QUARTER FROM \"DateLeft\" )<'+\"'\"+q+\"'\"+'))) - (select COUNT(\"EmployeeID\") from public.dw_dataset where (EXTRACT(YEAR FROM \"DateLeft\" )='+\"'\"+'2001'+\"'\"+') and (EXTRACT(QUARTER FROM \"DateLeft\" )='+\"'\"+q+\"'\"+') and (EXTRACT(YEAR FROM \"DateJoined\" )<'+\"'\"+'2001'+\"'\"+'))as decimal)/(select COUNT(\"EmployeeID\") from public.dw_dataset where (EXTRACT(YEAR FROM \"DateLeft\" )>'+\"'\"+'2001'+\"'\"+' or \"DateLeft\" is null or (EXTRACT(YEAR FROM \"DateLeft\" )='+\"'\"+'2001'+\"'\"+' and EXTRACT(QUARTER FROM \"DateLeft\" )>'+\"'\"+q+\"'\"+')) and ((EXTRACT(YEAR FROM \"DateJoined\" )<='+\"'\"+'2001'+\"'\"+') or ((EXTRACT(YEAR FROM \"DateJoined\" )='+\"'\"+'2001'+\"'\"+')and EXTRACT(QUARTER FROM \"DateLeft\" )<'+\"'\"+q+\"'\"+'))))*100)'\n",
    "    data=pd.read_sql(query7, get_engine())\n",
    "    data['quarter']=q\n",
    "    DW_dataset_emp_ret_2001_q=DW_dataset_emp_ret_2001_q.append(data)\n",
    "DW_dataset_emp_ret_2001_q"
   ]
  },
  {
   "cell_type": "markdown",
   "id": "33bd3f1d",
   "metadata": {},
   "source": [
    "## Implementating Data Warehouse"
   ]
  },
  {
   "cell_type": "code",
   "execution_count": 58,
   "id": "68cb774d",
   "metadata": {
    "scrolled": false
   },
   "outputs": [
    {
     "data": {
      "text/html": [
       "<div>\n",
       "<style scoped>\n",
       "    .dataframe tbody tr th:only-of-type {\n",
       "        vertical-align: middle;\n",
       "    }\n",
       "\n",
       "    .dataframe tbody tr th {\n",
       "        vertical-align: top;\n",
       "    }\n",
       "\n",
       "    .dataframe thead th {\n",
       "        text-align: right;\n",
       "    }\n",
       "</style>\n",
       "<table border=\"1\" class=\"dataframe\">\n",
       "  <thead>\n",
       "    <tr style=\"text-align: right;\">\n",
       "      <th></th>\n",
       "      <th>name</th>\n",
       "      <th>course</th>\n",
       "      <th>semester</th>\n",
       "      <th>instructor</th>\n",
       "      <th>avg_grade</th>\n",
       "    </tr>\n",
       "  </thead>\n",
       "  <tbody>\n",
       "    <tr>\n",
       "      <th>0</th>\n",
       "      <td>A</td>\n",
       "      <td>Eng</td>\n",
       "      <td>1</td>\n",
       "      <td>X</td>\n",
       "      <td>76</td>\n",
       "    </tr>\n",
       "    <tr>\n",
       "      <th>1</th>\n",
       "      <td>B</td>\n",
       "      <td>CS</td>\n",
       "      <td>1</td>\n",
       "      <td>Y</td>\n",
       "      <td>66</td>\n",
       "    </tr>\n",
       "    <tr>\n",
       "      <th>2</th>\n",
       "      <td>C</td>\n",
       "      <td>CS</td>\n",
       "      <td>1</td>\n",
       "      <td>Y</td>\n",
       "      <td>91</td>\n",
       "    </tr>\n",
       "    <tr>\n",
       "      <th>3</th>\n",
       "      <td>B</td>\n",
       "      <td>CS</td>\n",
       "      <td>2</td>\n",
       "      <td>Z</td>\n",
       "      <td>57</td>\n",
       "    </tr>\n",
       "    <tr>\n",
       "      <th>4</th>\n",
       "      <td>C</td>\n",
       "      <td>CS</td>\n",
       "      <td>2</td>\n",
       "      <td>Z</td>\n",
       "      <td>88</td>\n",
       "    </tr>\n",
       "    <tr>\n",
       "      <th>5</th>\n",
       "      <td>A</td>\n",
       "      <td>Eng</td>\n",
       "      <td>2</td>\n",
       "      <td>X</td>\n",
       "      <td>84</td>\n",
       "    </tr>\n",
       "    <tr>\n",
       "      <th>6</th>\n",
       "      <td>B</td>\n",
       "      <td>CS</td>\n",
       "      <td>3</td>\n",
       "      <td>Y</td>\n",
       "      <td>51</td>\n",
       "    </tr>\n",
       "    <tr>\n",
       "      <th>7</th>\n",
       "      <td>A</td>\n",
       "      <td>Eng</td>\n",
       "      <td>3</td>\n",
       "      <td>X</td>\n",
       "      <td>61</td>\n",
       "    </tr>\n",
       "    <tr>\n",
       "      <th>8</th>\n",
       "      <td>C</td>\n",
       "      <td>CS</td>\n",
       "      <td>3</td>\n",
       "      <td>Y</td>\n",
       "      <td>81</td>\n",
       "    </tr>\n",
       "  </tbody>\n",
       "</table>\n",
       "</div>"
      ],
      "text/plain": [
       "  name course semester instructor  avg_grade\n",
       "0    A    Eng        1          X         76\n",
       "1    B     CS        1          Y         66\n",
       "2    C     CS        1          Y         91\n",
       "3    B     CS        2          Z         57\n",
       "4    C     CS        2          Z         88\n",
       "5    A    Eng        2          X         84\n",
       "6    B     CS        3          Y         51\n",
       "7    A    Eng        3          X         61\n",
       "8    C     CS        3          Y         81"
      ]
     },
     "execution_count": 58,
     "metadata": {},
     "output_type": "execute_result"
    }
   ],
   "source": [
    "DF_input_DW_data"
   ]
  },
  {
   "cell_type": "markdown",
   "id": "de7b8fa1",
   "metadata": {},
   "source": [
    "#### Given that a data warehouse for Big University consists of the four dimensions student, course, semester, and instructor, and two measures count and avg_grade. At the lowest conceptual level (e.g., for a given student, course, semester, and instructor combination), the avg_grade measure stores the actual course grade of the student. At higher conceptual levels, avg_grade stores the average grade for the given combination."
   ]
  },
  {
   "cell_type": "markdown",
   "id": "c021db3c",
   "metadata": {},
   "source": [
    "### Drawing schema diagram for the data warehouse. "
   ]
  },
  {
   "attachments": {
    "q2_1.jpg": {
     "image/jpeg": "[encoded data removed]"
    }
   },
   "cell_type": "markdown",
   "id": "059661b6",
   "metadata": {},
   "source": [
    "![q2_1.jpg](attachment:q2_1.jpg)\n",
    " * This is Fact Constellation schema diagram"
   ]
  },
  {
   "cell_type": "markdown",
   "id": "4c60963e",
   "metadata": {},
   "source": [
    "#### Remarks:"
   ]
  },
  {
   "cell_type": "markdown",
   "id": "7cbb8bfc",
   "metadata": {},
   "source": [
    "####  Starting with the base cuboid [student, course, semester, instructor],  specific OLAP operations to perform to list the average grade of CS courses for each Big University student."
   ]
  },
  {
   "cell_type": "markdown",
   "id": "1fb4cd03",
   "metadata": {},
   "source": [
    "At my schema first we select avg grade for all students major in cs from base cuboid, then we roll up at semesters and reduce dimention to acedemic year and we obtain desired result"
   ]
  },
  {
   "cell_type": "markdown",
   "id": "9da1f331",
   "metadata": {},
   "source": [
    "#### Given each dimension has five levels (including all), such as “student < major < status < university < all”, number of cuboids will this cube contain including the base and apex cuboids:"
   ]
  },
  {
   "cell_type": "markdown",
   "id": "639969f9",
   "metadata": {},
   "source": [
    "4 dimentions\"student, course, semester, and instructor\" and each dimention have 5 level for each measure 5^4 cuboid computed so we have 2 measure so it makes (5^4)*2=1250 cuboid contained in this cube."
   ]
  },
  {
   "cell_type": "markdown",
   "id": "d4c14459",
   "metadata": {},
   "source": [
    "#### Creating a data file that contains enough entries, called “input_DW_data.csv”, and storing in DW."
   ]
  },
  {
   "cell_type": "code",
   "execution_count": 59,
   "id": "cd873df6",
   "metadata": {},
   "outputs": [],
   "source": [
    "add_tables([DF_input_DW_data],['input_dw_data'])"
   ]
  },
  {
   "cell_type": "code",
   "execution_count": 60,
   "id": "4058df6b",
   "metadata": {},
   "outputs": [],
   "source": [
    "DF_input_DW_data=pd.read_sql('SELECT * FROM public.\"input_dw_data\"', get_engine())"
   ]
  },
  {
   "cell_type": "code",
   "execution_count": 61,
   "id": "b03a0f22",
   "metadata": {
    "scrolled": false
   },
   "outputs": [
    {
     "data": {
      "text/html": [
       "<div>\n",
       "<style scoped>\n",
       "    .dataframe tbody tr th:only-of-type {\n",
       "        vertical-align: middle;\n",
       "    }\n",
       "\n",
       "    .dataframe tbody tr th {\n",
       "        vertical-align: top;\n",
       "    }\n",
       "\n",
       "    .dataframe thead th {\n",
       "        text-align: right;\n",
       "    }\n",
       "</style>\n",
       "<table border=\"1\" class=\"dataframe\">\n",
       "  <thead>\n",
       "    <tr style=\"text-align: right;\">\n",
       "      <th></th>\n",
       "      <th>name</th>\n",
       "      <th>course</th>\n",
       "      <th>semester</th>\n",
       "      <th>instructor</th>\n",
       "      <th>avg_grade</th>\n",
       "    </tr>\n",
       "  </thead>\n",
       "  <tbody>\n",
       "    <tr>\n",
       "      <th>0</th>\n",
       "      <td>A</td>\n",
       "      <td>Eng</td>\n",
       "      <td>1</td>\n",
       "      <td>X</td>\n",
       "      <td>76</td>\n",
       "    </tr>\n",
       "    <tr>\n",
       "      <th>1</th>\n",
       "      <td>B</td>\n",
       "      <td>CS</td>\n",
       "      <td>1</td>\n",
       "      <td>Y</td>\n",
       "      <td>66</td>\n",
       "    </tr>\n",
       "    <tr>\n",
       "      <th>2</th>\n",
       "      <td>C</td>\n",
       "      <td>CS</td>\n",
       "      <td>1</td>\n",
       "      <td>Y</td>\n",
       "      <td>91</td>\n",
       "    </tr>\n",
       "    <tr>\n",
       "      <th>3</th>\n",
       "      <td>B</td>\n",
       "      <td>CS</td>\n",
       "      <td>2</td>\n",
       "      <td>Z</td>\n",
       "      <td>57</td>\n",
       "    </tr>\n",
       "    <tr>\n",
       "      <th>4</th>\n",
       "      <td>C</td>\n",
       "      <td>CS</td>\n",
       "      <td>2</td>\n",
       "      <td>Z</td>\n",
       "      <td>88</td>\n",
       "    </tr>\n",
       "    <tr>\n",
       "      <th>5</th>\n",
       "      <td>A</td>\n",
       "      <td>Eng</td>\n",
       "      <td>2</td>\n",
       "      <td>X</td>\n",
       "      <td>84</td>\n",
       "    </tr>\n",
       "    <tr>\n",
       "      <th>6</th>\n",
       "      <td>B</td>\n",
       "      <td>CS</td>\n",
       "      <td>3</td>\n",
       "      <td>Y</td>\n",
       "      <td>51</td>\n",
       "    </tr>\n",
       "    <tr>\n",
       "      <th>7</th>\n",
       "      <td>A</td>\n",
       "      <td>Eng</td>\n",
       "      <td>3</td>\n",
       "      <td>X</td>\n",
       "      <td>61</td>\n",
       "    </tr>\n",
       "    <tr>\n",
       "      <th>8</th>\n",
       "      <td>C</td>\n",
       "      <td>CS</td>\n",
       "      <td>3</td>\n",
       "      <td>Y</td>\n",
       "      <td>81</td>\n",
       "    </tr>\n",
       "  </tbody>\n",
       "</table>\n",
       "</div>"
      ],
      "text/plain": [
       "  name course semester instructor  avg_grade\n",
       "0    A    Eng        1          X         76\n",
       "1    B     CS        1          Y         66\n",
       "2    C     CS        1          Y         91\n",
       "3    B     CS        2          Z         57\n",
       "4    C     CS        2          Z         88\n",
       "5    A    Eng        2          X         84\n",
       "6    B     CS        3          Y         51\n",
       "7    A    Eng        3          X         61\n",
       "8    C     CS        3          Y         81"
      ]
     },
     "execution_count": 61,
     "metadata": {},
     "output_type": "execute_result"
    }
   ],
   "source": [
    "DF_input_DW_data"
   ]
  },
  {
   "cell_type": "markdown",
   "id": "81103c92",
   "metadata": {},
   "source": [
    "#### Defining the functions to read, write, update and list your data to/from the data warehouse."
   ]
  },
  {
   "cell_type": "markdown",
   "id": "b162f9e2",
   "metadata": {},
   "source": [
    "Referance: https://www.analyticsvidhya.com/blog/2021/06/how-to-build-a-data-warehouse-using-postgresql-in-python/"
   ]
  },
  {
   "cell_type": "code",
   "execution_count": 62,
   "id": "e59fb24e",
   "metadata": {
    "scrolled": true
   },
   "outputs": [],
   "source": [
    "def read_record(field,name,engine):\n",
    "    result = engine.execute(\"SELECT %s FROM public.input_dw_data where name='%s'\" % (field,name))\n",
    "    return result.fetchall()"
   ]
  },
  {
   "cell_type": "code",
   "execution_count": 63,
   "id": "ee7b8e3a",
   "metadata": {},
   "outputs": [
    {
     "data": {
      "text/plain": [
       "[('Eng',), ('Eng',), ('Eng',)]"
      ]
     },
     "execution_count": 63,
     "metadata": {},
     "output_type": "execute_result"
    }
   ],
   "source": [
    "read_record('course','A',get_engine())"
   ]
  },
  {
   "cell_type": "code",
   "execution_count": 64,
   "id": "ae2600f8",
   "metadata": {},
   "outputs": [],
   "source": [
    "def write_record(name, course, semester, instructor, avg_grade, engine):\n",
    "    engine.execute(\"Insert INTO public.input_dw_data (name, course, semester,instructor,avg_grade) VALUES ('%s','%s','%s','%s',%s)\" % (name, course, semester, instructor, avg_grade))"
   ]
  },
  {
   "cell_type": "code",
   "execution_count": 65,
   "id": "762112eb",
   "metadata": {},
   "outputs": [],
   "source": [
    "write_record('test','test','test','test',1,get_engine())"
   ]
  },
  {
   "cell_type": "code",
   "execution_count": 66,
   "id": "0f82667e",
   "metadata": {},
   "outputs": [],
   "source": [
    "def update_record(field,name,new_value,engine):\n",
    "    engine.execute(\"UPDATE public.input_dw_data SET %s = '%s' WHERE name = '%s'\" % (field,new_value,name))"
   ]
  },
  {
   "cell_type": "code",
   "execution_count": 67,
   "id": "4a8fbcd8",
   "metadata": {},
   "outputs": [],
   "source": [
    "update_record('course','test','new_test',get_engine())"
   ]
  },
  {
   "cell_type": "code",
   "execution_count": 68,
   "id": "44e0aeb3",
   "metadata": {},
   "outputs": [],
   "source": [
    "def read_dataset(name,engine):\n",
    "    try:\n",
    "        dataset = pd.read_sql_table(name,engine)\n",
    "    except:\n",
    "        dataset = pd.DataFrame([])\n",
    "    return dataset"
   ]
  },
  {
   "cell_type": "code",
   "execution_count": 69,
   "id": "e685b684",
   "metadata": {
    "scrolled": true
   },
   "outputs": [
    {
     "data": {
      "text/html": [
       "<div>\n",
       "<style scoped>\n",
       "    .dataframe tbody tr th:only-of-type {\n",
       "        vertical-align: middle;\n",
       "    }\n",
       "\n",
       "    .dataframe tbody tr th {\n",
       "        vertical-align: top;\n",
       "    }\n",
       "\n",
       "    .dataframe thead th {\n",
       "        text-align: right;\n",
       "    }\n",
       "</style>\n",
       "<table border=\"1\" class=\"dataframe\">\n",
       "  <thead>\n",
       "    <tr style=\"text-align: right;\">\n",
       "      <th></th>\n",
       "      <th>name</th>\n",
       "      <th>course</th>\n",
       "      <th>semester</th>\n",
       "      <th>instructor</th>\n",
       "      <th>avg_grade</th>\n",
       "    </tr>\n",
       "  </thead>\n",
       "  <tbody>\n",
       "    <tr>\n",
       "      <th>0</th>\n",
       "      <td>A</td>\n",
       "      <td>Eng</td>\n",
       "      <td>1</td>\n",
       "      <td>X</td>\n",
       "      <td>76</td>\n",
       "    </tr>\n",
       "    <tr>\n",
       "      <th>1</th>\n",
       "      <td>B</td>\n",
       "      <td>CS</td>\n",
       "      <td>1</td>\n",
       "      <td>Y</td>\n",
       "      <td>66</td>\n",
       "    </tr>\n",
       "    <tr>\n",
       "      <th>2</th>\n",
       "      <td>C</td>\n",
       "      <td>CS</td>\n",
       "      <td>1</td>\n",
       "      <td>Y</td>\n",
       "      <td>91</td>\n",
       "    </tr>\n",
       "    <tr>\n",
       "      <th>3</th>\n",
       "      <td>B</td>\n",
       "      <td>CS</td>\n",
       "      <td>2</td>\n",
       "      <td>Z</td>\n",
       "      <td>57</td>\n",
       "    </tr>\n",
       "    <tr>\n",
       "      <th>4</th>\n",
       "      <td>C</td>\n",
       "      <td>CS</td>\n",
       "      <td>2</td>\n",
       "      <td>Z</td>\n",
       "      <td>88</td>\n",
       "    </tr>\n",
       "    <tr>\n",
       "      <th>5</th>\n",
       "      <td>A</td>\n",
       "      <td>Eng</td>\n",
       "      <td>2</td>\n",
       "      <td>X</td>\n",
       "      <td>84</td>\n",
       "    </tr>\n",
       "    <tr>\n",
       "      <th>6</th>\n",
       "      <td>B</td>\n",
       "      <td>CS</td>\n",
       "      <td>3</td>\n",
       "      <td>Y</td>\n",
       "      <td>51</td>\n",
       "    </tr>\n",
       "    <tr>\n",
       "      <th>7</th>\n",
       "      <td>A</td>\n",
       "      <td>Eng</td>\n",
       "      <td>3</td>\n",
       "      <td>X</td>\n",
       "      <td>61</td>\n",
       "    </tr>\n",
       "    <tr>\n",
       "      <th>8</th>\n",
       "      <td>C</td>\n",
       "      <td>CS</td>\n",
       "      <td>3</td>\n",
       "      <td>Y</td>\n",
       "      <td>81</td>\n",
       "    </tr>\n",
       "    <tr>\n",
       "      <th>9</th>\n",
       "      <td>test</td>\n",
       "      <td>new_test</td>\n",
       "      <td>test</td>\n",
       "      <td>test</td>\n",
       "      <td>1</td>\n",
       "    </tr>\n",
       "  </tbody>\n",
       "</table>\n",
       "</div>"
      ],
      "text/plain": [
       "   name    course semester instructor  avg_grade\n",
       "0     A       Eng        1          X         76\n",
       "1     B        CS        1          Y         66\n",
       "2     C        CS        1          Y         91\n",
       "3     B        CS        2          Z         57\n",
       "4     C        CS        2          Z         88\n",
       "5     A       Eng        2          X         84\n",
       "6     B        CS        3          Y         51\n",
       "7     A       Eng        3          X         61\n",
       "8     C        CS        3          Y         81\n",
       "9  test  new_test     test       test          1"
      ]
     },
     "execution_count": 69,
     "metadata": {},
     "output_type": "execute_result"
    }
   ],
   "source": [
    "read_dataset('input_dw_data',get_engine())"
   ]
  },
  {
   "cell_type": "code",
   "execution_count": 70,
   "id": "572a927c",
   "metadata": {},
   "outputs": [],
   "source": [
    "def write_dataset(name,dataset,engine):\n",
    "    dataset.to_sql('%s' % (name),engine,index=False,if_exists='replace')"
   ]
  },
  {
   "cell_type": "code",
   "execution_count": 71,
   "id": "a3943e07",
   "metadata": {},
   "outputs": [],
   "source": [
    "write_dataset('test',DF_input_DW_data,get_engine())"
   ]
  },
  {
   "cell_type": "code",
   "execution_count": 72,
   "id": "a6139f8e",
   "metadata": {},
   "outputs": [],
   "source": [
    "def list_datasets(engine):\n",
    "    datasets = engine.execute(\"SELECT table_name FROM information_schema.tables WHERE table_schema = 'public' ORDER BY table_name;\")\n",
    "    return datasets.fetchall()"
   ]
  },
  {
   "cell_type": "code",
   "execution_count": 73,
   "id": "2c51d928",
   "metadata": {
    "scrolled": true
   },
   "outputs": [
    {
     "data": {
      "text/plain": [
       "[('dw_dataset',), ('input_dw_data',), ('test',)]"
      ]
     },
     "execution_count": 73,
     "metadata": {},
     "output_type": "execute_result"
    }
   ],
   "source": [
    "list_datasets(get_engine())"
   ]
  }
 ],
 "metadata": {
  "kernelspec": {
   "display_name": "advancedml",
   "language": "python",
   "name": "advancedml"
  },
  "language_info": {
   "codemirror_mode": {
    "name": "ipython",
    "version": 3
   },
   "file_extension": ".py",
   "mimetype": "text/x-python",
   "name": "python",
   "nbconvert_exporter": "python",
   "pygments_lexer": "ipython3",
   "version": "3.9.13"
  }
 },
 "nbformat": 4,
 "nbformat_minor": 5
}
